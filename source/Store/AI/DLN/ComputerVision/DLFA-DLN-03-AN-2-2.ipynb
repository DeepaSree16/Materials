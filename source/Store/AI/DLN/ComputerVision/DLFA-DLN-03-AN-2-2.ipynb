{
  "nbformat": 4,
  "nbformat_minor": 0,
  "metadata": {
    "colab": {
      "name": " CycleGAN_Image-to-Image_Translation.ipynb",
      "provenance": [],
      "collapsed_sections": []
    },
    "kernelspec": {
      "name": "python3",
      "display_name": "Python 3"
    },
    "language_info": {
      "name": "python"
    },
    "accelerator": "GPU"
  },
  "cells": [
    {
      "cell_type": "markdown",
      "metadata": {
        "id": "uSp0zeFXlani"
      },
      "source": [
        "###  CycleGAN, Image-to-Image Translation\n",
        "\n",
        "We're going to define and train a CycleGAN to read in an image from a set $X$ and transform it so that it looks as if it belongs in set $Y$. \n",
        "\n",
        "The objective will be to train generators that learn to transform an image from domain $X$ into an image that looks like it came from domain $Y$ (and vice versa).\n",
        "\n",
        "<img src='https://machinelearningmastery.com/wp-content/uploads/2019/06/Example-of-Object-Transfiguration-from-Apples-to-Oranges-and-Oranges-to-Apples.png' width=100% />\n",
        "\n",
        "\n",
        "\n",
        "### Unpaired Training Data\n",
        "\n",
        "These images do not come with labels, but CycleGANs give us a way to learn the mapping between one image domain and another using an unsupervised approach. A CycleGAN is designed for image-to-image translation and it learns from unpaired training data. This means that in order to train a generator to translate images from domain $X$ to domain $Y$, we do not have to have exact correspondences between individual images in those domains. For example, in the paper that introduced CycleGANs, the authors are able to translate between images of horses and zebras (for Example), even though there are no images of a zebra in exactly the same position as a horse or with exactly the same background, etc. Thus, CycleGANs enable learning a mapping from one domain $X$ to another domain $Y$ without having to find perfectly-matched, training pairs!\n",
        "\n",
        "<img src='https://github.com/EliShayGH/deep-learning-v2-pytorch/blob/master/cycle-gan/notebook_images/horse2zebra.jpg?raw=1' width=50% />\n",
        "\n"
      ]
    },
    {
      "cell_type": "markdown",
      "metadata": {
        "id": "Sz2Id8jcmLYw"
      },
      "source": [
        "### CycleGAN \n",
        "\n",
        "A CycleGAN is made of two types of networks: **discriminators**, and **generators**. In this example, the discriminators are responsible for classifying images as real or fake (for both $X$ and $Y$ kinds of images). The generators are responsible for generating convincing, fake images for both kinds of images.\n",
        "\n",
        "This notebook will detail the steps you should take to define and train such a CycleGAN.\n",
        "\n",
        "1. You'll load in the image data using PyTorch's DataLoader class to efficiently read in images from a specified directory.\n",
        "\n",
        "2. Then, you'll be tasked with defining the CycleGAN architecture according to provided specifications. You'll define the discriminator and the generator models.\n",
        "\n",
        "3. You'll complete the training cycle by calculating the adversarial and cycle consistency losses for the generator and discriminator network and completing a number of training epochs. It's suggested that you enable GPU usage for training.\n",
        "\n",
        "4. Finally, you'll evaluate your model by looking at the loss over time and looking at sample, generated images."
      ]
    },
    {
      "cell_type": "markdown",
      "metadata": {
        "id": "0vt5qAcHpBPO"
      },
      "source": [
        "## Setup Steps\n",
        "\n",
        "Here we are installing the torch, pillow packages, while running the setup it asks you to **restart runtime** please click on the button and run the below code cell.\n",
        "\n",
        "**Note:** Please don't rerun the setup cells again"
      ]
    },
    {
      "cell_type": "code",
      "metadata": {
        "id": "brp71K6W-_2v",
        "cellView": "form"
      },
      "source": [
        "#@title Run this cell to download the dataset for this Notebook\n",
        "\n",
        "from IPython import get_ipython\n",
        "ipython = get_ipython()\n",
        "  \n",
        "def setup():\n",
        "    \n",
        "    ipython.magic(\"sx git clone https://github.com/EliShayGH/cycle-gan-image2image-translation.git\")\n",
        "    ipython.magic(\"sx cp ./cycle-gan-image2image-translation/helpers.py ./\")\n",
        "    ipython.magic(\"sx cp -r ./cycle-gan-image2image-translation/samples_cyclegan ./\")\n",
        "    ipython.magic(\"sx wget https://cdn.iisc.talentsprint.com/DLFA/Experiment_related_data/apple2orange_train_and_test.zip\")\n",
        "    ipython.magic(\"sx unzip -qq apple2orange_train_and_test.zip\")\n",
        "    ipython.magic(\"sx pip install torch==1.1.0\")\n",
        "    ipython.magic(\"sx pip install torchvision==0.4.0\")\n",
        "    ipython.magic(\"sx pip3 install pillow==6.1.0\")\n",
        "    ipython.magic(\"sx pip3 install scipy==0.17.0\")\n",
        "    print (\"Setup completed successfully\")\n",
        "    return\n",
        "\n",
        "setup()"
      ],
      "execution_count": null,
      "outputs": []
    },
    {
      "cell_type": "markdown",
      "metadata": {
        "id": "66CRQ4nvnDQh"
      },
      "source": [
        "### Load and Visualize the Data\n",
        "\n",
        "We'll first load in and visualize the training data, importing the necessary libraries to do so."
      ]
    },
    {
      "cell_type": "code",
      "metadata": {
        "id": "9TirzIfGkGXf"
      },
      "source": [
        "# loading and transforming the data\n",
        "import os\n",
        "import torch\n",
        "from torch.utils.data import DataLoader\n",
        "import torchvision\n",
        "import torchvision.datasets as datasets\n",
        "import torchvision.transforms as transforms\n",
        "\n",
        "# visualizing data\n",
        "import matplotlib.pyplot as plt\n",
        "import numpy as np\n",
        "import warnings\n",
        "warnings.filterwarnings(\"ignore\")"
      ],
      "execution_count": null,
      "outputs": []
    },
    {
      "cell_type": "markdown",
      "metadata": {
        "id": "FiZIlsHSYWhS"
      },
      "source": [
        "### DataLoaders\n",
        "\n",
        "The `get_data_loader` function returns training and test DataLoaders that can load data efficiently and in specified batches. The function has the following parameters:\n",
        "* `image_type`: `apple` or `orange\n",
        "`,  the names of the directories where the X and Y images are stored\n",
        "* `image_dir`: name of the main image directory, which holds all training and test images\n",
        "* `image_size`: resized, square image dimension (all images will be resized to this dim)\n",
        "* `batch_size`: number of images in one batch of data\n",
        "\n",
        "The test data is strictly for feeding to our generators, later on, so we can visualize some generated samples on fixed, test data.\n",
        "\n",
        "You can see that this function is also responsible for making sure our images are of the right, square size (128x128x3) and converted into Tensor image types.\n",
        "\n",
        "**It's suggested that you use the default values of these parameters.**\n",
        "\n",
        "Note: If you are trying this code on a different set of data, you may get better results with larger `image_size` and `batch_size` parameters. If you change the `batch_size`, make sure that you create complete batches in the training loop otherwise you may get an error when trying to save sample data. "
      ]
    },
    {
      "cell_type": "code",
      "metadata": {
        "id": "6pgtZnRSJ6WO"
      },
      "source": [
        "def get_data_loader(image_type, image_dir='apple2orange_dataset', \n",
        "                    image_size=128, batch_size=16):\n",
        "  \n",
        "    \"\"\"Returns training and test data loaders for a given image type, either 'apple' or 'orange'. \n",
        "       These images will be resized to 128x128x3, by default, converted into Tensors, and normalized.\n",
        "    \"\"\"\n",
        "    \n",
        "    # resize and normalize the images\n",
        "    transform = transforms.Compose([transforms.Resize(image_size), # resize to 128x128\n",
        "                                    transforms.RandomHorizontalFlip(),\n",
        "                                    transforms.ToTensor()])\n",
        "\n",
        "    # get training and test directories\n",
        "    image_path = './' + image_dir\n",
        "    train_path = os.path.join(image_path, image_type)\n",
        "    print(train_path)\n",
        "    test_path = os.path.join(image_path, 'test_{}'.format(image_type))\n",
        "    print(test_path)\n",
        "\n",
        "    # define datasets using ImageFolder\n",
        "    train_dataset = datasets.ImageFolder(train_path, transform)\n",
        "    print(len(train_dataset))\n",
        "    test_dataset = datasets.ImageFolder(test_path, transform)\n",
        "    print(len(test_dataset))\n",
        "\n",
        "    # create and return DataLoaders\n",
        "    train_loader = DataLoader(dataset=train_dataset, batch_size=batch_size, shuffle=True)\n",
        "    test_loader = DataLoader(dataset=test_dataset, batch_size=batch_size, shuffle=False)\n",
        "\n",
        "    return train_loader, test_loader"
      ],
      "execution_count": null,
      "outputs": []
    },
    {
      "cell_type": "code",
      "metadata": {
        "id": "6Q1LLYiqLkXL"
      },
      "source": [
        "# Create train and test dataloaders for images from the two domains X and Y\n",
        "# image_type = directory names for our data\n",
        "dataloader_X, test_dataloader_X = get_data_loader(image_type='Apples')\n",
        "dataloader_Y, test_dataloader_Y = get_data_loader(image_type='Oranges')"
      ],
      "execution_count": null,
      "outputs": []
    },
    {
      "cell_type": "markdown",
      "metadata": {
        "id": "af6IdZRxYWhZ"
      },
      "source": [
        "## Display Training Images\n",
        "\n",
        "Below is a function `imshow` that reshape given images and converts them to NumPy images so that they can be displayed by `plt`. This cell should display a grid that contains a batch of image data from set $X$."
      ]
    },
    {
      "cell_type": "code",
      "metadata": {
        "id": "Rr1HOHhnYWhZ"
      },
      "source": [
        "# Helper imshow function\n",
        "def imshow(img):\n",
        "    npimg = img.numpy()\n",
        "    plt.imshow(np.transpose(npimg, (1, 2, 0)))\n",
        "    \n",
        "# get some images from X\n",
        "dataiter = iter(dataloader_X)\n",
        "# the \"_\" is a placeholder for no labels\n",
        "images, _ = dataiter.next()\n",
        "\n",
        "# show images\n",
        "fig = plt.figure(figsize=(12, 8))\n",
        "imshow(torchvision.utils.make_grid(images))"
      ],
      "execution_count": null,
      "outputs": []
    },
    {
      "cell_type": "markdown",
      "metadata": {
        "id": "vs1NL_QYYWhc"
      },
      "source": [
        "Next, let's visualize a batch of images from set $Y$."
      ]
    },
    {
      "cell_type": "code",
      "metadata": {
        "id": "S-OscJY9YWhd"
      },
      "source": [
        "# get some images from Y\n",
        "dataiter = iter(dataloader_Y)\n",
        "images, _ = dataiter.next()\n",
        "\n",
        "# show images\n",
        "fig = plt.figure(figsize=(12,8))\n",
        "imshow(torchvision.utils.make_grid(images))"
      ],
      "execution_count": null,
      "outputs": []
    },
    {
      "cell_type": "markdown",
      "metadata": {
        "id": "wR2w-O98YWhg"
      },
      "source": [
        "### Pre-processing: scaling from -1 to 1\n",
        "\n",
        "We need to do a bit of pre-processing; we know that the output of our `tanh` activated generator will contain pixel values in a range from -1 to 1, and so, we need to rescale our training images to a range of -1 to 1. (Right now, they are in a range from 0-1.)"
      ]
    },
    {
      "cell_type": "code",
      "metadata": {
        "id": "2Itp2m4VYWhh"
      },
      "source": [
        "# current range\n",
        "img = images[0]\n",
        "\n",
        "print('Min: ', img.min())\n",
        "print('Max: ', img.max())"
      ],
      "execution_count": null,
      "outputs": []
    },
    {
      "cell_type": "code",
      "metadata": {
        "id": "J48MZYj8YWhk"
      },
      "source": [
        "# Helper scale function\n",
        "def scale(x, feature_range=(-1, 1)):\n",
        "    ''' Scale takes in an image x and returns that image, scaled\n",
        "       with a feature_range of pixel values from -1 to 1. \n",
        "       This function assumes that the input x is already scaled from 0-1.'''\n",
        "    \n",
        "    # scale from 0-1 to feature_range\n",
        "    min, max = feature_range\n",
        "    x = x * (max - min) + min\n",
        "    return x"
      ],
      "execution_count": null,
      "outputs": []
    },
    {
      "cell_type": "code",
      "metadata": {
        "id": "cEQ7jrvZYWhr"
      },
      "source": [
        "# scaled range\n",
        "scaled_img = scale(img)\n",
        "\n",
        "print('Scaled min: ', scaled_img.min())\n",
        "print('Scaled max: ', scaled_img.max())"
      ],
      "execution_count": null,
      "outputs": []
    },
    {
      "cell_type": "markdown",
      "metadata": {
        "id": "3PhkprLmYWhw"
      },
      "source": [
        "---\n",
        "## Define the Model\n",
        "\n",
        "A CycleGAN is made of two discriminator and two generator networks.\n",
        "\n",
        "## Discriminators\n",
        "\n",
        "The discriminators, $D_X$ and $D_Y$, in this CycleGAN are convolutional neural networks that see an image and attempt to classify it as real or fake. In this case, real is indicated by an output close to 1 and fake as close to 0. The discriminators have the following architecture:\n",
        "\n",
        "<img src='https://github.com/EliShayGH/deep-learning-v2-pytorch/blob/master/cycle-gan/notebook_images/discriminator_layers.png?raw=1' width=80% />\n",
        "\n",
        "This network sees a 128x128x3 image, and passes it through 5 convolutional layers that downsample the image by a factor of 2. The first four convolutional layers have a BatchNorm and ReLu activation function applied to their output, and the last acts as a classification layer that outputs one value.\n",
        "\n",
        "### Convolutional Helper Function\n",
        "\n",
        "To define the discriminators, you're expected to use the provided `conv` function, which creates a convolutional layer + an optional batch norm layer."
      ]
    },
    {
      "cell_type": "code",
      "metadata": {
        "id": "KLpZfpCYYWhz"
      },
      "source": [
        "import torch.nn as nn\n",
        "import torch.nn.functional as F\n",
        "\n",
        "# helper conv function\n",
        "def conv(in_channels, out_channels, kernel_size, stride=2, padding=1, batch_norm=True):\n",
        "    \"\"\"Creates a convolutional layer, with optional batch normalization.\n",
        "    \"\"\"\n",
        "    layers = []\n",
        "    conv_layer = nn.Conv2d(in_channels=in_channels, out_channels=out_channels, \n",
        "                           kernel_size=kernel_size, stride=stride, padding=padding, bias=False)\n",
        "    \n",
        "    layers.append(conv_layer)\n",
        "\n",
        "    if batch_norm:\n",
        "        layers.append(nn.BatchNorm2d(out_channels))\n",
        "    return nn.Sequential(*layers)"
      ],
      "execution_count": null,
      "outputs": []
    },
    {
      "cell_type": "markdown",
      "metadata": {
        "id": "l2hZZ8LPYWh5"
      },
      "source": [
        "### Define the Discriminator Architecture\n",
        "\n",
        "Your task is to fill in the `__init__` function with the specified 5 layer conv net architecture. Both $D_X$ and $D_Y$ have the same architecture, so we only need to define one class, and later instantiate two discriminators. \n",
        "> It's recommended that you use a **kernel size of 4x4** and use that to determine the correct stride and padding size for each layer. [This Stanford resource](http://cs231n.github.io/convolutional-networks/#conv) may also help in determining stride and padding sizes.\n",
        "\n",
        "* Define your convolutional layers in `__init__`\n",
        "* Then fill in the forward behavior of the network\n",
        "\n",
        "The `forward` function defines how an input image moves through the discriminator, and the most important thing is to pass it through your convolutional layers in order, with a **ReLu** activation function applied to all but the last layer.\n",
        "\n",
        "You should **not** apply a sigmoid activation function to the output, here, and that is because we are planning on using a squared error loss for training. And you can read more about this loss function, later in the notebook."
      ]
    },
    {
      "cell_type": "code",
      "metadata": {
        "id": "OMY2vI0MYWh6"
      },
      "source": [
        "class Discriminator(nn.Module):\n",
        "    \n",
        "    def __init__(self, conv_dim=64):\n",
        "        super(Discriminator, self).__init__()\n",
        "\n",
        "        # Define all convolutional layers\n",
        "        # Should accept an RGB image as input and output a single value\n",
        "        \n",
        "        # 1st Conv layer has no batch_norm. dim = [64, 64, 64]\n",
        "        self.conv1 = conv(3, conv_dim, 4, batch_norm=False)\n",
        "        # 2nd Conv layer. dim = [32, 32, 128]\n",
        "        self.conv2 = conv(conv_dim, conv_dim*2, 4)\n",
        "        # 3rd Conv layer. dim = [16, 16, 256]\n",
        "        self.conv3 = conv(conv_dim*2, conv_dim*4, 4)\n",
        "        # 4th Conv layer. dim = [8, 8, 512]\n",
        "        self.conv4 = conv(conv_dim*4, conv_dim*8, 4)\n",
        "        # 5th Last Conv layer, Classification Layer has no batch_norm and stride is 1. dim = [1, 1, 1]\n",
        "        self.conv5 = conv(conv_dim*8, 1, 4, stride=1, batch_norm=False)\n",
        "\n",
        "\n",
        "    def forward(self, x):\n",
        "        x = F.relu(self.conv1(x))\n",
        "        x = F.relu(self.conv2(x))\n",
        "        x = F.relu(self.conv3(x))\n",
        "        x = F.relu(self.conv4(x))\n",
        "        x = self.conv5(x)\n",
        "\n",
        "        return x"
      ],
      "execution_count": null,
      "outputs": []
    },
    {
      "cell_type": "markdown",
      "metadata": {
        "id": "4OOKaL4eYWh9"
      },
      "source": [
        "## Generators\n",
        "\n",
        "The generators, `G_XtoY` and `G_YtoX` (sometimes called F), are made of an **encoder**, a conv net that is responsible for turning an image into a smaller feature representation, and a **decoder**, a *transpose_conv* net that is responsible for turning that representation into an transformed image. These generators, one from XtoY and one from YtoX, have the following architecture:\n",
        "\n",
        "<img src='https://github.com/EliShayGH/deep-learning-v2-pytorch/blob/master/cycle-gan/notebook_images/cyclegan_generator_ex.png?raw=1' width=90% />\n",
        "\n",
        "This network sees a 128x128x3 image, compresses it into a feature representation as it goes through three convolutional layers and reaches a series of residual blocks. It goes through a few (typically 6 or more) of these residual blocks, then it goes through three transpose convolutional layers (sometimes called *de-conv* layers) which upsample the output of the resnet blocks and create a new image!\n",
        "\n",
        "Note that most of the convolutional and transpose-convolutional layers have BatchNorm and ReLu functions applied to their outputs with the exception of the final transpose convolutional layer, which has a `tanh` activation function applied to the output. Also, the residual blocks are made of convolutional and batch normalization layers, which we'll go over in more detail, next."
      ]
    },
    {
      "cell_type": "markdown",
      "metadata": {
        "id": "2AoE0lZoYWh-"
      },
      "source": [
        "### Residual Block Class\n",
        "\n",
        "To define the generators, you're expected to define a `ResidualBlock` class which will help you connect the encoder and decoder portions of the generators. You might be wondering, what exactly is a Resnet block? It may sound familiar from something like ResNet50 for image classification, pictured below.\n",
        "\n",
        "<img src='https://github.com/EliShayGH/deep-learning-v2-pytorch/blob/master/cycle-gan/notebook_images/resnet_50.png?raw=1' width=90%/>\n",
        "\n",
        "ResNet blocks rely on connecting the output of one layer with the input of an earlier layer. The motivation for this structure is as follows: very deep neural networks can be difficult to train. Deeper networks are more likely to have vanishing or exploding gradients and, therefore, have trouble reaching convergence; batch normalization helps with this a bit. However, during training, we often see that deep networks respond with a kind of training degradation. Essentially, the training accuracy stops improving and gets saturated at some point during training. In the worst cases, deep models would see their training accuracy actually worsen over time!\n",
        "\n",
        "One solution to this problem is to use **Resnet blocks** that allow us to learn so-called *residual functions* as they are applied to layer inputs. You can read more about this proposed architecture in the paper, [Deep Residual Learning for Image Recognition](https://arxiv.org/pdf/1512.03385.pdf) by Kaiming He et. al, and the below image is from that paper.\n",
        "\n",
        "<img src='https://github.com/EliShayGH/deep-learning-v2-pytorch/blob/master/cycle-gan/notebook_images/resnet_block.png?raw=1' width=40%/>\n",
        "\n",
        "### Residual Functions\n",
        "\n",
        "Usually, when we create a deep learning model, the model (several layers with activations applied) is responsible for learning a mapping, `M`, from an input `x` to an output `y`.\n",
        ">`M(x) = y` (Equation 1)\n",
        "\n",
        "Instead of learning a direct mapping from `x` to `y`, we can instead define a **residual function**\n",
        "> `F(x) = M(x) - x`\n",
        "\n",
        "This looks at the difference between a mapping applied to x and the original input, x. `F(x)` is, typically, two convolutional layers + normalization layer and a ReLu in between. These convolutional layers should have the same number of inputs as outputs. This mapping can then be written as the following; a function of the residual function and the input x. The addition step creates a kind of loop that connects the input x to the output, y:\n",
        ">`M(x) = F(x) + x` (Equation 2) or\n",
        "\n",
        ">`y = F(x) + x` (Equation 3)\n",
        "\n",
        "#### Optimizing a Residual Function\n",
        "\n",
        "The idea is that it is easier to optimize this residual function `F(x)` than it is to optimize the original mapping `M(x)`. Consider an example; what if we want `y = x`?\n",
        "\n",
        "From our first, direct mapping equation, **Equation 1**, we could set `M(x) = x` but it is easier to solve the residual equation `F(x) = 0`, which, when plugged in to **Equation 3**, yields `y = x`.\n",
        "\n",
        "\n",
        "### Defining the `ResidualBlock` Class\n",
        "\n",
        "To define the `ResidualBlock` class, we'll define residual functions (a series of layers), apply them to an input x and add them to that same input. This is defined just like any other neural network, with an `__init__` function and the addition step in the `forward` function. \n",
        "\n",
        "In our case, you'll want to define the residual block as:\n",
        "* Two convolutional layers with the same size input and output\n",
        "* Batch normalization applied to the outputs of the convolutional layers\n",
        "* A ReLu function on the output of the *first* convolutional layer\n",
        "\n",
        "Then, in the `forward` function, add the input x to this residual block. Feel free to use the helper `conv` function from above to create this block."
      ]
    },
    {
      "cell_type": "code",
      "metadata": {
        "id": "bIf4-0ytYWh_"
      },
      "source": [
        "# residual block class\n",
        "class ResidualBlock(nn.Module):\n",
        "    \"\"\"Defines a residual block.\n",
        "       This adds an input x to a convolutional layer (applied to x) with the same size input and output.\n",
        "       These blocks allow a model to learn an effective transformation from one domain to another.\n",
        "    \"\"\"\n",
        "    def __init__(self, conv_dim):\n",
        "        super(ResidualBlock, self).__init__()\n",
        "        # conv_dim = number of inputs  \n",
        "        \n",
        "        # define two convolutional layers + batch normalization that will act as our residual function, F(x)\n",
        "        # layers should have the same shape input as output; I suggest a kernel_size of 3\n",
        "        self.conv1 = conv(conv_dim, conv_dim, 3, 1, batch_norm=True)\n",
        "        self.conv2 = conv(conv_dim, conv_dim, 3, 1, batch_norm=True)\n",
        "        \n",
        "    def forward(self, x):\n",
        "        # apply a ReLu activation the outputs of the first layer\n",
        "        # return a summed output, x + resnet_block(x)\n",
        "        output = F.relu(self.conv1(x))\n",
        "        output = x + self.conv2(output)\n",
        "        \n",
        "        return output\n",
        "    "
      ],
      "execution_count": null,
      "outputs": []
    },
    {
      "cell_type": "markdown",
      "metadata": {
        "id": "Wlcwmv18YWiC"
      },
      "source": [
        "### Transpose Convolutional Helper Function\n",
        "\n",
        "To define the generators, you're expected to use the above `conv` function, `ResidualBlock` class, and the below `deconv` helper function, which creates a transpose convolutional layer + an optional batchnorm layer."
      ]
    },
    {
      "cell_type": "code",
      "metadata": {
        "id": "woRQD-HdYWiC"
      },
      "source": [
        "# helper deconv function\n",
        "def deconv(in_channels, out_channels, kernel_size, stride=2, padding=1, batch_norm=True):\n",
        "    \"\"\"Creates a transpose convolutional layer, with optional batch normalization.\n",
        "    \"\"\"\n",
        "    layers = []\n",
        "    # append transpose conv layer\n",
        "    layers.append(nn.ConvTranspose2d(in_channels, out_channels, kernel_size, stride, padding, bias=False))\n",
        "    # optional batch norm layer\n",
        "    if batch_norm:\n",
        "        layers.append(nn.BatchNorm2d(out_channels))\n",
        "    return nn.Sequential(*layers)"
      ],
      "execution_count": null,
      "outputs": []
    },
    {
      "cell_type": "markdown",
      "metadata": {
        "id": "lVMDch0jYWiG"
      },
      "source": [
        "## Define the Generator Architecture\n",
        "\n",
        "* Complete the `__init__` function with the specified 3 layer **encoder** convolutional net, a series of residual blocks (the number of which is given by `n_res_blocks`), and then a 3 layer **decoder** transpose convolutional net.\n",
        "* Then complete the `forward` function to define the forward behavior of the generators. Recall that the last layer has a `tanh` activation function.\n",
        "\n",
        "Both $G_{XtoY}$ and $G_{YtoX}$ have the same architecture, so we only need to define one class, and later instantiate two generators."
      ]
    },
    {
      "cell_type": "code",
      "metadata": {
        "id": "nbZxGqJsYWiH"
      },
      "source": [
        "class CycleGenerator(nn.Module):\n",
        "    \n",
        "    def __init__(self, conv_dim=64, n_res_blocks=6):\n",
        "        super(CycleGenerator, self).__init__()\n",
        "\n",
        "        # 1. Define the encoder part of the generator\n",
        "        self.conv1 = conv(3, conv_dim, 4)\n",
        "        self.conv2 = conv(conv_dim, conv_dim*2, 4)\n",
        "        self.conv3 = conv(conv_dim*2, conv_dim*4, 4)\n",
        "\n",
        "        # 2. Define the resnet part of the generator\n",
        "        res_layers = []\n",
        "        for layer in range(n_res_blocks):\n",
        "          res_layers.append(ResidualBlock(conv_dim*4))\n",
        "\n",
        "        self.resblocks = nn.Sequential(*res_layers)\n",
        "\n",
        "        # 3. Define the decoder part of the generator\n",
        "        self.deconv1 = deconv(conv_dim*4, conv_dim*2, 4)\n",
        "        self.deconv2 = deconv(conv_dim*2, conv_dim, 4)\n",
        "        self.deconv3 = deconv(conv_dim, 3, 4, batch_norm=False)\n",
        "\n",
        "    def forward(self, x):\n",
        "        \"\"\"Given an image x, returns a transformed image.\"\"\"\n",
        "        # define feedforward behavior, applying activations as necessary\n",
        "        x = F.relu(self.conv1(x))\n",
        "        x = F.relu(self.conv2(x))\n",
        "        x = F.relu(self.conv3(x))\n",
        "\n",
        "        x = self.resblocks.forward(x)\n",
        "\n",
        "        x = F.relu(self.deconv1(x))\n",
        "        x = F.relu(self.deconv2(x))\n",
        "        x = F.tanh(self.deconv3(x))\n",
        "\n",
        "        return x"
      ],
      "execution_count": null,
      "outputs": []
    },
    {
      "cell_type": "markdown",
      "metadata": {
        "id": "b0RL4PrOYWiK"
      },
      "source": [
        "## Create the complete network\n",
        "\n",
        "Using the classes you defined earlier, you can define the discriminators and generators necessary to create a complete CycleGAN. The given parameters should work for training.\n",
        "\n",
        "First, create two discriminators, one for checking if $X$ sample images are real, and one for checking if $Y$ sample images are real. Then the generators. Instantiate two of them, one for transforming a painting into a realistic photo and one for transforming a photo into  into a painting."
      ]
    },
    {
      "cell_type": "code",
      "metadata": {
        "id": "BdTDhAjyYWiL"
      },
      "source": [
        "def create_model(g_conv_dim=64, d_conv_dim=64, n_res_blocks=6):\n",
        "    \"\"\"Builds the generators and discriminators.\"\"\"\n",
        "    \n",
        "    # Instantiate generators\n",
        "    G_XtoY = CycleGenerator(conv_dim=g_conv_dim, n_res_blocks=n_res_blocks)\n",
        "    G_YtoX = CycleGenerator(conv_dim=g_conv_dim, n_res_blocks=n_res_blocks)\n",
        "    # Instantiate discriminators\n",
        "    D_X = Discriminator(conv_dim=d_conv_dim)\n",
        "    D_Y = Discriminator(conv_dim=d_conv_dim)\n",
        "\n",
        "    # move models to GPU, if available\n",
        "    if torch.cuda.is_available():\n",
        "        device = torch.device(\"cuda:0\")\n",
        "        G_XtoY.to(device)\n",
        "        G_YtoX.to(device)\n",
        "        D_X.to(device)\n",
        "        D_Y.to(device)\n",
        "        print('Models moved to GPU.')\n",
        "    else:\n",
        "        print('Only CPU available.')\n",
        "\n",
        "    return G_XtoY, G_YtoX, D_X, D_Y"
      ],
      "execution_count": null,
      "outputs": []
    },
    {
      "cell_type": "code",
      "metadata": {
        "id": "XXLTM5MQYWiO"
      },
      "source": [
        "# call the function to get models\n",
        "G_XtoY, G_YtoX, D_X, D_Y = create_model()"
      ],
      "execution_count": null,
      "outputs": []
    },
    {
      "cell_type": "markdown",
      "metadata": {
        "id": "QNbMCID4YWiT"
      },
      "source": [
        "## Check the models\n",
        "\n",
        "The function `create_model` should return the two generator and two discriminator networks. After you've defined these discriminator and generator components, it's good practice to check your work. The easiest way to do this is to print out your model architecture and read through it to make sure the parameters are what you expected. The next cell will print out their architectures."
      ]
    },
    {
      "cell_type": "code",
      "metadata": {
        "id": "HhGyMmxQYWiW"
      },
      "source": [
        "# helper function for printing the model architecture\n",
        "def print_models(G_XtoY, G_YtoX, D_X, D_Y):\n",
        "    \"\"\"Prints model information for the generators and discriminators.\n",
        "    \"\"\"\n",
        "    print(\"                     G_XtoY                    \")\n",
        "    print(\"-----------------------------------------------\")\n",
        "    print(G_XtoY)\n",
        "    print()\n",
        "\n",
        "    print(\"                     G_YtoX                    \")\n",
        "    print(\"-----------------------------------------------\")\n",
        "    print(G_YtoX)\n",
        "    print()\n",
        "\n",
        "    print(\"                      D_X                      \")\n",
        "    print(\"-----------------------------------------------\")\n",
        "    print(D_X)\n",
        "    print()\n",
        "\n",
        "    print(\"                      D_Y                      \")\n",
        "    print(\"-----------------------------------------------\")\n",
        "    print(D_Y)\n",
        "    print()\n",
        "    \n",
        "\n",
        "# print all of the models\n",
        "print_models(G_XtoY, G_YtoX, D_X, D_Y)"
      ],
      "execution_count": null,
      "outputs": []
    },
    {
      "cell_type": "markdown",
      "metadata": {
        "id": "hSvCNXhuYWik"
      },
      "source": [
        "## Discriminator and Generator Losses\n",
        "\n",
        "Computing the discriminator and the generator losses are key to getting a CycleGAN to train.\n",
        "\n",
        "<img src='https://github.com/EliShayGH/deep-learning-v2-pytorch/blob/master/cycle-gan/notebook_images/CycleGAN_loss.png?raw=1' width=100% height=20% />\n",
        "\n",
        "**Image from [original paper](https://arxiv.org/abs/1703.10593) by Jun-Yan Zhu et. al.**\n",
        "\n",
        "* The CycleGAN contains two mapping functions $G: X \\rightarrow Y$ and $F: Y \\rightarrow X$, and associated adversarial discriminators $D_Y$ and $D_X$. **(a)** $D_Y$ encourages $G$ to translate $X$ into outputs indistinguishable from domain $Y$, and vice versa for $D_X$ and $F$.\n",
        "\n",
        "* To further regularize the mappings, we introduce two cycle consistency losses that capture the intuition that if\n",
        "we translate from one domain to the other and back again we should arrive at where we started. **(b)** Forward cycle-consistency loss and **(c)** backward cycle-consistency loss.\n",
        "\n",
        "## Least Squares GANs\n",
        "\n",
        "We've seen that regular GANs treat the discriminator as a classifier with the sigmoid cross entropy loss function. However, this loss function may lead to the vanishing gradients problem during the learning process. To overcome such a problem, we'll use a least squares loss function for the discriminator. This structure is also referred to as a least squares GAN or LSGAN, and you can [read the original paper on LSGANs, here](https://arxiv.org/pdf/1611.04076.pdf). The authors show that LSGANs are able to generate higher quality images than regular GANs and that this loss type is a bit more stable during training! \n",
        "\n",
        "### Discriminator Losses\n",
        "\n",
        "The discriminator losses will be mean squared errors between the output of the discriminator, given an image, and the target value, 0 or 1, depending on whether it should classify that image as fake or real. For example, for a *real* image, `x`, we can train $D_X$ by looking at how close it is to recognizing and image `x` as real using the mean squared error:\n",
        "\n",
        "```\n",
        "out_x = D_X(x)\n",
        "real_err = torch.mean((out_x-1)**2)\n",
        "```\n",
        "\n",
        "### Generator Losses\n",
        "\n",
        "Calculating the generator losses will look somewhat similar to calculating the discriminator loss; there will still be steps in which you generate fake images that look like they belong to the set of $X$ images but are based on real images in set $Y$, and vice versa. You'll compute the \"real loss\" on those generated images by looking at the output of the discriminator as it's applied to these _fake_ images; this time, your generator aims to make the discriminator classify these fake images as *real* images. \n",
        "\n",
        "#### Cycle Consistency Loss\n",
        "\n",
        "In addition to the adversarial losses, the generator loss terms will also include the **cycle consistency loss**. This loss is a measure of how good a reconstructed image is, when compared to an original image. \n",
        "\n",
        "Say you have a fake, generated image, `x_hat`, and a real image, `y`. You can get a reconstructed `y_hat` by applying `G_XtoY(x_hat) = y_hat` and then check to see if this reconstruction `y_hat` and the orginal image `y` match. For this, we recommed calculating the L1 loss, which is an absolute difference, between reconstructed and real images. You may also choose to multiply this loss by some weight value `lambda_weight` to convey its importance.\n",
        "\n",
        "<img src='https://github.com/EliShayGH/deep-learning-v2-pytorch/blob/master/cycle-gan/notebook_images/reconstruction_error.png?raw=1' width=100% height=24% />\n",
        "\n",
        "The total generator loss will be the sum of the generator losses and the forward and backward cycle consistency losses."
      ]
    },
    {
      "cell_type": "markdown",
      "metadata": {
        "id": "3scHUG9SYWim"
      },
      "source": [
        "### Define Loss Functions\n",
        "\n",
        "To help us calculate the discriminator and gnerator losses during training, let's define some helpful loss functions. Here, we'll define three.\n",
        "1. `real_mse_loss` that looks at the output of a discriminator and returns the error based on how close that output is to being classified as real. This should be a mean squared error.\n",
        "2. `fake_mse_loss` that looks at the output of a discriminator and returns the error based on how close that output is to being classified as fake. This should be a mean squared error.\n",
        "3. `cycle_consistency_loss` that looks at a set of real image and a set of reconstructed/generated images, and returns the mean absolute error between them. This has a `lambda_weight` parameter that will weight the mean absolute error in a batch.\n",
        "\n",
        "It's recommended that you take a [look at the original, CycleGAN paper](https://arxiv.org/pdf/1703.10593.pdf) to get a starting value for `lambda_weight`.\n",
        "\n"
      ]
    },
    {
      "cell_type": "code",
      "metadata": {
        "id": "JwcR8HmoYWin"
      },
      "source": [
        "def real_mse_loss(D_out):\n",
        "    # how close is the produced output from being \"real\"?\n",
        "    return torch.mean((D_out-1)**2)\n",
        "\n",
        "def fake_mse_loss(D_out):\n",
        "    # how close is the produced output from being \"fake\"?\n",
        "    return torch.mean((D_out-0)**2)\n",
        "\n",
        "def cycle_consistency_loss(real_im, reconstructed_im, lambda_weight):\n",
        "    # calculate reconstruction loss \n",
        "    reconstr_loss = torch.mean(torch.abs(real_im - reconstructed_im))\n",
        "    # return weighted loss\n",
        "    return lambda_weight*reconstr_loss"
      ],
      "execution_count": null,
      "outputs": []
    },
    {
      "cell_type": "markdown",
      "metadata": {
        "id": "RWPba0QyYWiq"
      },
      "source": [
        "### Define the Optimizers\n",
        "\n",
        "Next, let's define how this model will update its weights. This, like the GANs you may have seen before, uses [Adam](https://pytorch.org/docs/stable/optim.html#algorithms) optimizers for the discriminator and generator. It's again recommended that you take a [look at the original, CycleGAN paper](https://arxiv.org/pdf/1703.10593.pdf) to get starting hyperparameter values.\n"
      ]
    },
    {
      "cell_type": "code",
      "metadata": {
        "id": "DLp0KpTQYWir"
      },
      "source": [
        "import torch.optim as optim\n",
        "\n",
        "# hyperparams for Adam optimizers\n",
        "lr=0.0002\n",
        "beta1=0.5\n",
        "beta2=0.999\n",
        "\n",
        "g_params = list(G_XtoY.parameters()) + list(G_YtoX.parameters())  # Get generator parameters\n",
        "\n",
        "# Create optimizers for the generators and discriminators\n",
        "g_optimizer = optim.Adam(g_params, lr, [beta1, beta2])\n",
        "d_x_optimizer = optim.Adam(D_X.parameters(), lr, [beta1, beta2])\n",
        "d_y_optimizer = optim.Adam(D_Y.parameters(), lr, [beta1, beta2])"
      ],
      "execution_count": null,
      "outputs": []
    },
    {
      "cell_type": "markdown",
      "metadata": {
        "id": "kXC91siqYWiu"
      },
      "source": [
        "## Training a CycleGAN\n",
        "\n",
        "When a CycleGAN trains, and sees one batch of real images from set $X$ and $Y$, it trains by performing the following steps:\n",
        "\n",
        "**Training the Discriminators**\n",
        "1. Compute the discriminator $D_X$ loss on real images\n",
        "2. Generate fake images that look like domain $X$ based on real images in domain $Y$\n",
        "3. Compute the fake loss for $D_X$\n",
        "4. Compute the total loss and perform backpropagation and $D_X$ optimization\n",
        "5. Repeat steps 1-4 only with $D_Y$ and your domains switched!\n",
        "\n",
        "\n",
        "**Training the Generators**\n",
        "1. Generate fake images that look like domain $X$ based on real images in domain $Y$\n",
        "2. Compute the generator loss based on how $D_X$ responds to fake $X$\n",
        "3. Generate *reconstructed* $\\hat{Y}$ images based on the fake $X$ images generated in step 1\n",
        "4. Compute the cycle consistency loss by comparing the reconstructions with real $Y$ images\n",
        "5. Repeat steps 1-4 only swapping domains\n",
        "6. Add up all the generator and reconstruction losses and perform backpropagation + optimization\n",
        "\n",
        "For Example, if we consider winter to summer image translation\n",
        "\n",
        "<img src='https://github.com/EliShayGH/deep-learning-v2-pytorch/blob/master/cycle-gan/notebook_images/cycle_consistency_ex.png?raw=1' width=70% />\n",
        "\n",
        "\n",
        "### Saving Your Progress\n",
        "\n",
        "A CycleGAN repeats its training process, alternating between training the discriminators and the generators, for a specified number of training iterations. You've been given code that will save some example generated images that the CycleGAN has learned to generate after a certain number of training iterations. Along with looking at the losses, these example generations should give you an idea of how well your network has trained.\n",
        "\n",
        "Below, you may choose to keep all default parameters; your only task is to calculate the appropriate losses and complete the training cycle."
      ]
    },
    {
      "cell_type": "code",
      "metadata": {
        "id": "vjdmAmDTx9Cp"
      },
      "source": [
        "from helpers import save_samples, checkpoint"
      ],
      "execution_count": null,
      "outputs": []
    },
    {
      "cell_type": "code",
      "metadata": {
        "id": "AV7rp1yXYWiy"
      },
      "source": [
        "# train the network\n",
        "def training_loop(dataloader_X, dataloader_Y, test_dataloader_X, test_dataloader_Y, \n",
        "                  n_epochs=1000):\n",
        "    \n",
        "    print_every=10\n",
        "    \n",
        "    # keep track of losses over time\n",
        "    losses = []\n",
        "\n",
        "    test_iter_X = iter(test_dataloader_X)\n",
        "    test_iter_Y = iter(test_dataloader_Y)\n",
        "\n",
        "    # Get some fixed data from domains X and Y for sampling. These are images that are held\n",
        "    # constant throughout training, that allow us to inspect the model's performance.\n",
        "    fixed_X = test_iter_X.next()[0]\n",
        "    fixed_Y = test_iter_Y.next()[0]\n",
        "    fixed_X = scale(fixed_X) # make sure to scale to a range -1 to 1\n",
        "    fixed_Y = scale(fixed_Y)\n",
        "\n",
        "    # batches per epoch\n",
        "    iter_X = iter(dataloader_X)\n",
        "    iter_Y = iter(dataloader_Y)\n",
        "    batches_per_epoch = min(len(iter_X), len(iter_Y))\n",
        "\n",
        "    for epoch in range(1, n_epochs+1):\n",
        "\n",
        "        # Reset iterators for each epoch\n",
        "        if epoch % batches_per_epoch == 0:\n",
        "            iter_X = iter(dataloader_X)\n",
        "            iter_Y = iter(dataloader_Y)\n",
        "\n",
        "        images_X, _ = iter_X.next()\n",
        "        images_X = scale(images_X) # make sure to scale to a range -1 to 1\n",
        "\n",
        "        images_Y, _ = iter_Y.next()\n",
        "        images_Y = scale(images_Y)\n",
        "        \n",
        "        # move images to GPU if available (otherwise stay on CPU)\n",
        "        device = torch.device(\"cuda:0\" if torch.cuda.is_available() else \"cpu\")\n",
        "        images_X = images_X.to(device)\n",
        "        images_Y = images_Y.to(device)\n",
        "\n",
        "\n",
        "        # ============================================\n",
        "        #            TRAIN THE DISCRIMINATORS\n",
        "        # ============================================\n",
        "\n",
        "        ##   First: D_X, real and fake loss components   ##\n",
        "        d_x_optimizer.zero_grad()\n",
        "        # 1. Compute the discriminator losses on real images\n",
        "        out_x = D_X(images_X)\n",
        "        D_X_real_loss = real_mse_loss(out_x)\n",
        "\n",
        "        # 2. Generate fake images that look like domain X based on real images in domain Y\n",
        "        fake_x = G_YtoX(images_Y)\n",
        "\n",
        "        # 3. Compute the fake loss for D_X\n",
        "        out_x = D_X(fake_x)\n",
        "        D_X_fake_loss = fake_mse_loss(out_x)\n",
        "\n",
        "        # 4. Compute the total loss and perform backprop\n",
        "        d_x_loss = D_X_real_loss + D_X_fake_loss\n",
        "        d_x_loss.backward(retain_graph=True)\n",
        "        d_x_optimizer.step()\n",
        "        \n",
        "        ##   Second: D_Y, real and fake loss components   ##\n",
        "        d_y_optimizer.zero_grad()\n",
        "\n",
        "        # 1. Compute the discriminator losses on real images\n",
        "        out_y = D_Y(images_Y)\n",
        "        D_Y_real_loss = real_mse_loss(out_y)\n",
        "\n",
        "        # 2. Generate fake images that look like domain Y based on real images in domain X\n",
        "        fake_y = G_XtoY(images_X)\n",
        "\n",
        "        # 3. Compute the fake loss for D_Y\n",
        "        out_y = D_Y(fake_y)\n",
        "        D_Y_fake_loss = fake_mse_loss(out_y)\n",
        "\n",
        "        # 4. Compute the total loss and perform backprop\n",
        "        d_y_loss = D_Y_real_loss + D_Y_fake_loss\n",
        "        d_y_loss.backward(retain_graph=True)\n",
        "        d_y_optimizer.step()\n",
        "        \n",
        "\n",
        "        # =========================================\n",
        "        #            TRAIN THE GENERATORS\n",
        "        # =========================================\n",
        "\n",
        "        ##  First: generate fake X images and reconstructed Y images    \n",
        "        g_optimizer.zero_grad()\n",
        "        \n",
        "        # 1. Generate fake images that look like domain X based on real images in domain Y\n",
        "        fake_X = G_YtoX(images_Y)\n",
        "\n",
        "        # 2. Compute the generator loss based on domain X\n",
        "        out_x = D_X(fake_X)\n",
        "        g_YtoX_loss = real_mse_loss(out_x)\n",
        "\n",
        "        # 3. Create a reconstructed y\n",
        "        reconstructed_Y = G_XtoY(fake_X)\n",
        "\n",
        "        # 4. Compute the cycle consistency loss (the reconstruction loss)\n",
        "        reconstructed_y_loss = cycle_consistency_loss(images_Y, reconstructed_Y, lambda_weight=10)\n",
        "\n",
        "        ##    Second: generate fake Y images and reconstructed X images    ##\n",
        "         \n",
        "        # 1. Generate fake images that look like domain X based on real images in domain Y\n",
        "        fake_Y = G_XtoY(images_X)\n",
        "\n",
        "        # 2. Compute the generator loss based on domain X\n",
        "        out_x = D_Y(fake_Y)\n",
        "        g_XtoY_loss = real_mse_loss(out_y)\n",
        "\n",
        "        # 3. Create a reconstructed y\n",
        "        reconstructed_X = G_YtoX(fake_Y)\n",
        "\n",
        "        # 4. Compute the cycle consistency loss (the reconstruction loss)\n",
        "        reconstructed_x_loss = cycle_consistency_loss(images_X, reconstructed_X, lambda_weight=10)\n",
        "\n",
        "\n",
        "        # 5. Add up all generator and reconstructed losses and perform backprop\n",
        "        g_total_loss = g_YtoX_loss + g_XtoY_loss + reconstructed_y_loss + reconstructed_x_loss\n",
        "      \n",
        "        g_total_loss.backward(retain_graph=True)\n",
        "        g_optimizer.step()\n",
        "        \n",
        "        # Print the log info\n",
        "        if epoch % print_every == 0:\n",
        "            # append real and fake discriminator losses and the generator loss\n",
        "            losses.append((d_x_loss.item(), d_y_loss.item(), g_total_loss.item()))\n",
        "            print('Epoch [{:5d}/{:5d}] | d_X_loss: {:6.4f} | d_Y_loss: {:6.4f} | g_total_loss: {:6.4f}'.format(\n",
        "                    epoch, n_epochs, d_x_loss.item(), d_y_loss.item(), g_total_loss.item()))\n",
        "\n",
        "            \n",
        "        sample_every=100\n",
        "        # Save the generated samples\n",
        "        if epoch % sample_every == 0:\n",
        "            G_YtoX.eval() # set generators to eval mode for sample generation\n",
        "            G_XtoY.eval()\n",
        "            save_samples(epoch, fixed_Y, fixed_X, G_YtoX, G_XtoY, batch_size=16)\n",
        "            G_YtoX.train()\n",
        "            G_XtoY.train()\n",
        "\n",
        "        # uncomment these lines, if you want to save your model\n",
        "#         checkpoint_every=1000\n",
        "#         # Save the model parameters\n",
        "#         if epoch % checkpoint_every == 0:\n",
        "#             checkpoint(epoch, G_XtoY, G_YtoX, D_X, D_Y)\n",
        "\n",
        "    return losses\n"
      ],
      "execution_count": null,
      "outputs": []
    },
    {
      "cell_type": "code",
      "metadata": {
        "id": "svXUbAe3YWi1"
      },
      "source": [
        "n_epochs = 200 # keep this small when testing if a model first works, then increase it to >=1000\n",
        "\n",
        "losses = training_loop(dataloader_X, dataloader_Y, test_dataloader_X, test_dataloader_Y, n_epochs=n_epochs)"
      ],
      "execution_count": null,
      "outputs": []
    },
    {
      "cell_type": "code",
      "metadata": {
        "id": "8DVn7V9fvE2k"
      },
      "source": [
        "fig, ax = plt.subplots(figsize=(12,8))\n",
        "losses = np.array(losses)\n",
        "plt.plot(losses.T[0], label='Discriminator, X', alpha=0.5)\n",
        "plt.plot(losses.T[1], label='Discriminator, Y', alpha=0.5)\n",
        "plt.plot(losses.T[2], label='Generators', alpha=0.5)\n",
        "plt.title(\"Training Losses\")\n",
        "plt.legend()"
      ],
      "execution_count": null,
      "outputs": []
    },
    {
      "cell_type": "markdown",
      "metadata": {
        "id": "qx-pLZv9YWi7"
      },
      "source": [
        "\n",
        "## Evaluate the Result!\n",
        "\n",
        "As you trained this model, you may have chosen to sample and save the results of your generated images after a certain number of training iterations. This gives you a way to see whether or not your Generators are creating *good* fake images. For example, the image below depicts real images in the $Y$ set, and the corresponding generated images during different points in the training process. You can see that the generator starts out creating very noisy, fake images, but begins to converge to better representations as it trains (though, not perfect).\n",
        "\n",
        "\n",
        "\n",
        "Below, you've been given a helper function for displaying generated samples based on the passed in training iteration."
      ]
    },
    {
      "cell_type": "code",
      "metadata": {
        "id": "x8un1ppnYWi9"
      },
      "source": [
        "import matplotlib.image as mpimg\n",
        "\n",
        "# helper visualization code\n",
        "def view_samples(iteration, sample_dir='samples_cyclegan'):\n",
        "    \n",
        "    # samples are named by iteration\n",
        "    path_XtoY = os.path.join(sample_dir, 'sample-{:06d}-X-Y.png'.format(iteration))\n",
        "    path_YtoX = os.path.join(sample_dir, 'sample-{:06d}-Y-X.png'.format(iteration))\n",
        "    \n",
        "    # read in those samples\n",
        "    try: \n",
        "        x2y = mpimg.imread(path_XtoY)\n",
        "        y2x = mpimg.imread(path_YtoX)\n",
        "    except:\n",
        "        print('Invalid number of iterations.')\n",
        "    \n",
        "    fig, (ax1, ax2) = plt.subplots(figsize=(18,20), nrows=2, ncols=1, sharey=True, sharex=True)\n",
        "    ax1.imshow(x2y)\n",
        "    ax1.set_title('X to Y')\n",
        "    ax2.imshow(y2x)\n",
        "    ax2.set_title('Y to X')\n"
      ],
      "execution_count": null,
      "outputs": []
    },
    {
      "cell_type": "code",
      "metadata": {
        "id": "DNVpZ7UbYWjA"
      },
      "source": [
        "# view samples at iteration 100\n",
        "view_samples(100, 'samples_cyclegan')"
      ],
      "execution_count": null,
      "outputs": []
    },
    {
      "cell_type": "code",
      "metadata": {
        "id": "jySpXy_eu6a0"
      },
      "source": [
        "# view samples at iteration 200\n",
        "view_samples(200, 'samples_cyclegan')"
      ],
      "execution_count": null,
      "outputs": []
    },
    {
      "cell_type": "code",
      "metadata": {
        "id": "kl8s8qrODxPU"
      },
      "source": [
        ""
      ],
      "execution_count": null,
      "outputs": []
    }
  ]
}