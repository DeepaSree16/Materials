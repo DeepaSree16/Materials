{
  "nbformat": 4,
  "nbformat_minor": 0,
  "metadata": {
    "colab": {
      "name": "M5_MP6_SNB_Stock_Trading_using_DRL.ipynb",
      "provenance": [],
      "collapsed_sections": [],
      "toc_visible": true
    },
    "kernelspec": {
      "name": "python3",
      "display_name": "Python 3"
    },
    "language_info": {
      "name": "python"
    },
    "accelerator": "GPU"
  },
  "cells": [
    {
      "cell_type": "markdown",
      "metadata": {
        "id": "MZQMVE4gmAlY"
      },
      "source": [
        "# Advanced Certification Program in Computational Data Science\n",
        "## A program by IISc and TalentSprint\n",
        "### Mini Project: Stock Trading using DRL"
      ]
    },
    {
      "cell_type": "markdown",
      "metadata": {
        "id": "n-kxaHhwXEp9"
      },
      "source": [
        "**DISCLAIMER:** THIS NOTEBOOK IS PROVIDED ONLY AS A REFERENCE SOLUTION NOTEBOOK FOR THE MINI-PROJECT. THERE MAY BE OTHER POSSIBLE APPROACHES/METHODS TO ACHIEVE THE SAME RESULTS."
      ]
    },
    {
      "cell_type": "markdown",
      "metadata": {
        "id": "UpgCEb9kmJ2Y"
      },
      "source": [
        "## Learning Objectives"
      ]
    },
    {
      "cell_type": "markdown",
      "metadata": {
        "id": "NlC8U6Ckcjiy"
      },
      "source": [
        "At the end of the experiment, you will be able to\n",
        "\n",
        "* perform stock trading using Deep Reinforcement Learning\n",
        "* build an environment for agent and perform stock trading\n",
        "* experiment with SAC model and improve the reward\n",
        "* create a dashboard for stock trading using `jupyter-dash`"
      ]
    },
    {
      "cell_type": "markdown",
      "metadata": {
        "id": "jtdSVLWombeQ"
      },
      "source": [
        "## Information"
      ]
    },
    {
      "cell_type": "markdown",
      "metadata": {
        "id": "R-A-FnYyQLWR"
      },
      "source": [
        "Deep reinforcement learning combines artificial neural networks with a framework of reinforcement learning that helps software agents learn how to reach their goals. That is, it unites function approximation and target optimization, mapping states and actions to the rewards they lead to.\n",
        "\n",
        "Reinforcement learning refers to goal-oriented algorithms, which learn how to achieve a complex objective (goal) or how to maximize along a particular dimension over many steps; for example, they can maximize the points won in a game over many moves. Reinforcement learning algorithms can start from a blank slate, and under the right conditions, achieve superhuman performance. Like a pet incentivized by scolding and treats, these algorithms are penalized when they make the wrong decisions and rewarded when they make the right ones – this is reinforcement.\n",
        "\n",
        "![img](https://miro.medium.com/max/974/0*NgZ_bq_nUOq73jK_.png)\n",
        "\n",
        "**SAC:** Soft Actor Critic is defined for RL tasks involving continuous actions. The biggest feature of SAC is that it uses a modified RL objective function. Instead of only seeking to maximize the lifetime rewards, SAC seeks to also maximize the entropy of the policy. The term ‘entropy’ has a rather esoteric definition and many interpretations depending on the application\n",
        "\n",
        "![img](https://miro.medium.com/max/353/0*5Y3SzMyOQZBRUhrh.png)\n",
        "\n",
        "Fig: Actor-Critic architecture. Source: Medium\n",
        "\n",
        "Learning of the actor is based policy gradient approach and critic is learned in value-based fashion. In SAC, there are three networks: the first network represents state-value(V) parameterised by ψ, the second one is a policy function that parameterised by ϕ, and the last one represents soft q function parameterised by θ.\n",
        "\n",
        "Read More about SAC [here](https://arxiv.org/abs/1801.01290)"
      ]
    },
    {
      "cell_type": "markdown",
      "metadata": {
        "id": "ng4HyqG_6GDX"
      },
      "source": [
        "## Dataset"
      ]
    },
    {
      "cell_type": "markdown",
      "metadata": {
        "id": "Maa0xjuGSL_i"
      },
      "source": [
        "### Dataset Description\n",
        "\n",
        "The Dataset chosen for this mini project is NIFTY50 Stock tradings. The data is the price history and trading volumes of the fifty stocks in the index NIFTY 50 from NSE (National Stock Exchange) India. All stocks are at a day-level with pricing and trading values split across. The NIFTY 50 is a diversified 50 stock index accounting for 13 sectors of the economy.\n",
        "\n",
        "See the stock indexes of NIFTY 50 in the following [link](https://www1.nseindia.com/products/content/equities/indices/nifty_50.htm)\n",
        "\n",
        "**Note:** Choose the NIFTY 50 ticker symbols and download the stock data from '2009-01-01' to '2021-09-01' using YahooDownloader"
      ]
    },
    {
      "cell_type": "code",
      "metadata": {
        "id": "dFXYNxVO5y87",
        "cellView": "form"
      },
      "source": [
        "#@title Install FinRL\n",
        "!pip -qq install git+https://github.com/AI4Finance-LLC/FinRL-Library.git"
      ],
      "execution_count": null,
      "outputs": []
    },
    {
      "cell_type": "code",
      "metadata": {
        "id": "CqGxWdnT6sCg",
        "cellView": "form"
      },
      "source": [
        "#@title Download the data\n",
        "!wget -qq https://cdn.iisc.talentsprint.com/CDS/MiniProjects/nifty50list.csv"
      ],
      "execution_count": null,
      "outputs": []
    },
    {
      "cell_type": "markdown",
      "metadata": {
        "id": "MsLAeFr96Oqe"
      },
      "source": [
        "### Import required packages"
      ]
    },
    {
      "cell_type": "code",
      "metadata": {
        "id": "bIV6nrRN6EMA"
      },
      "source": [
        "import numpy as np\n",
        "import pandas as pd\n",
        "import matplotlib.pyplot as plt\n",
        "import matplotlib\n",
        "matplotlib.use('Agg')\n",
        "import warnings\n",
        "warnings.filterwarnings(\"ignore\")\n",
        "import datetime\n",
        "import os\n",
        "from finrl.apps import config\n",
        "from finrl.neo_finrl.preprocessor.yahoodownloader import YahooDownloader\n",
        "from finrl.neo_finrl.preprocessor.preprocessors import FeatureEngineer, data_split\n",
        "from finrl.neo_finrl.env_stock_trading.env_stocktrading import StockTradingEnv\n",
        "from finrl.drl_agents.stablebaselines3.models import DRLAgent\n",
        "from finrl.plot import backtest_stats, backtest_plot, get_daily_return, get_baseline\n",
        "import sys\n",
        "sys.path.append(\"../FinRL-Library\")"
      ],
      "execution_count": null,
      "outputs": []
    },
    {
      "cell_type": "markdown",
      "metadata": {
        "id": "tDi9YDWGcrdH"
      },
      "source": [
        "### Data Loading\n",
        "\n",
        "* Read the ticker symbols of Nifty 50 and add `.NS` extension\n",
        "\n",
        "* Using the symbols download the stock prices data using YahooDownloader"
      ]
    },
    {
      "cell_type": "code",
      "metadata": {
        "id": "SPCvskXPJ9WP"
      },
      "source": [
        "nif = pd.read_csv(\"/content/nifty50list.csv\")\n",
        "nif.Symbol = nif.Symbol + \".NS\"\n",
        "nif.Symbol.values"
      ],
      "execution_count": null,
      "outputs": []
    },
    {
      "cell_type": "code",
      "metadata": {
        "id": "Tr28gLYYgFPP"
      },
      "source": [
        "# Download and save the data in a pandas DataFrame:\n",
        "df = YahooDownloader(start_date = '2009-01-01',\n",
        "                          end_date = '2021-09-01',\n",
        "                          ticker_list = nif.Symbol.values).fetch_data()\n",
        "\n",
        "print(df.sort_values(['date','tic'],ignore_index=True).head())"
      ],
      "execution_count": null,
      "outputs": []
    },
    {
      "cell_type": "code",
      "metadata": {
        "id": "kysjOcNUDKsX"
      },
      "source": [
        "df.tic.nunique()"
      ],
      "execution_count": null,
      "outputs": []
    },
    {
      "cell_type": "code",
      "metadata": {
        "id": "Sj4e3r0cDUn6"
      },
      "source": [
        "df.date.min(), df.date.max()"
      ],
      "execution_count": null,
      "outputs": []
    },
    {
      "cell_type": "code",
      "metadata": {
        "id": "uD-ZxkZWgy5S"
      },
      "source": [
        "df.dtypes"
      ],
      "execution_count": null,
      "outputs": []
    },
    {
      "cell_type": "markdown",
      "metadata": {
        "id": "G0LH4fX2cuun"
      },
      "source": [
        "### Preprocess Data\n",
        "\n",
        "FinRL uses a `FeatureEngineer` class to preprocess data. Some of the technical indicators used in the analysis of financial markets includes.\n",
        "\n",
        "1. relative strength index (RSI): it represents the size of recent gains and losses, during a specified time period.\n",
        "2. moving average convergence divergence (MACD):  it is an indicator to determine price momentum and short term trend.\n",
        "3. commodity channel index (CCI): its an indicator helps in identifying cyclical trends.\n",
        "4. directional index (DX): it represents group of directional movements that form trading system\n",
        "\n",
        "* Configure the technical indicators and apply feature engineering\n",
        "\n",
        "  Hint: `FeatureEngineer()`"
      ]
    },
    {
      "cell_type": "code",
      "metadata": {
        "id": "8HwW_dWOK0Nn"
      },
      "source": [
        "# Perform Feature Engineering\n",
        "tech_indicator_list = config.TECHNICAL_INDICATORS_LIST\n",
        "print(tech_indicator_list)"
      ],
      "execution_count": null,
      "outputs": []
    },
    {
      "cell_type": "code",
      "metadata": {
        "id": "YmY-3AL04Uqv"
      },
      "source": [
        "df.shape"
      ],
      "execution_count": null,
      "outputs": []
    },
    {
      "cell_type": "code",
      "metadata": {
        "id": "5ZuwBoLvISvT"
      },
      "source": [
        "fe = FeatureEngineer(\n",
        "                    use_technical_indicator=True,\n",
        "                    tech_indicator_list = tech_indicator_list,\n",
        "                    use_turbulence=False,\n",
        "                    user_defined_feature = False)\n",
        "\n",
        "df = fe.preprocess_data(df)\n",
        "df.head()"
      ],
      "execution_count": null,
      "outputs": []
    },
    {
      "cell_type": "code",
      "metadata": {
        "id": "7lA-eZLw4ZdZ"
      },
      "source": [
        "df.shape"
      ],
      "execution_count": null,
      "outputs": []
    },
    {
      "cell_type": "markdown",
      "metadata": {
        "id": "EcMQR7pMrEz9"
      },
      "source": [
        "### Exploratory Data Analysis"
      ]
    },
    {
      "cell_type": "markdown",
      "metadata": {
        "id": "efOrQyITz7z-"
      },
      "source": [
        "#### Describe the statistics of the data"
      ]
    },
    {
      "cell_type": "code",
      "metadata": {
        "id": "t1nNkrLWrHcH"
      },
      "source": [
        "# max and min\n",
        "df.close.max(), df.close.min()"
      ],
      "execution_count": null,
      "outputs": []
    },
    {
      "cell_type": "code",
      "metadata": {
        "id": "r1fBuoJ0rL5G"
      },
      "source": [
        "# mean of close\n",
        "df.close.mean()"
      ],
      "execution_count": null,
      "outputs": []
    },
    {
      "cell_type": "code",
      "metadata": {
        "id": "peJm6n4K5kai"
      },
      "source": [
        "# stock with min closing value\n",
        "df[df.close == df.close.min()]"
      ],
      "execution_count": null,
      "outputs": []
    },
    {
      "cell_type": "markdown",
      "metadata": {
        "id": "XwYpeGgDczJb"
      },
      "source": [
        "#### Find how many times did the stock prices end lower than their opening prices in 2019 vs in 2020?\n",
        "\n",
        "Hint: Open - Close per day"
      ]
    },
    {
      "cell_type": "code",
      "metadata": {
        "id": "Wu16Ms8pdGWx"
      },
      "source": [
        "df19 = df[(df.date >'2018-12-31')&(df.date<'2020-01-01')]\n",
        "df20 = df[(df.date >'2019-12-31')&(df.date<'2021-01-01')]\n",
        "price_decrease19 = len(df19[df19.open > df19.close])\n",
        "price_decrease20 = len(df20[df20.open > df20.close])\n",
        "price_decrease19, price_decrease20"
      ],
      "execution_count": null,
      "outputs": []
    },
    {
      "cell_type": "markdown",
      "metadata": {
        "id": "3jdtSFxoPQj6"
      },
      "source": [
        "#### Find the loss percentage of each stock considering open and closing prices of each day\n",
        "\n",
        "**Hint:** `sum(open - close) / len(instances)`"
      ]
    },
    {
      "cell_type": "code",
      "metadata": {
        "id": "1n_FEwirSCA3"
      },
      "source": [
        "# loss percentage for each stocks\n",
        "price_decrease = df[df.open > df.close]\n",
        "for sym in set(price_decrease.tic):\n",
        "  symbol_price_decrease = price_decrease[price_decrease.tic == sym]\n",
        "  loss_pct = sum(symbol_price_decrease['open'] - symbol_price_decrease['close']) / len(symbol_price_decrease)\n",
        "  print(\"symbol is {}, and loss percentage is {}\".format(sym,loss_pct))"
      ],
      "execution_count": null,
      "outputs": []
    },
    {
      "cell_type": "code",
      "metadata": {
        "id": "daWm8MWt54DB"
      },
      "source": [
        "# loss percentage\n",
        "price_decrease = df[df.open > df.close]\n",
        "print(\"No.of instances of price decrease: {} out of {}\".format(len(price_decrease),len(df)))\n",
        "loss = sum(price_decrease['open'] - price_decrease['close']) / len(price_decrease)\n",
        "loss"
      ],
      "execution_count": null,
      "outputs": []
    },
    {
      "cell_type": "markdown",
      "metadata": {
        "id": "z41le_yHeEO-"
      },
      "source": [
        "#### Find the stock that shows the highest increase in stock price per day, over the entire time period"
      ]
    },
    {
      "cell_type": "code",
      "metadata": {
        "id": "ix_XSZmsfcKP"
      },
      "source": [
        "stock_high = df.copy()\n",
        "stock_high['gain'] = stock_high['close'] - stock_high['open']\n",
        "stock_high[stock_high['gain'] == stock_high['gain'].max()]"
      ],
      "execution_count": null,
      "outputs": []
    },
    {
      "cell_type": "markdown",
      "metadata": {
        "id": "e_AqHFOSA9Q_"
      },
      "source": [
        "#### Top 10 Stocks with high volume"
      ]
    },
    {
      "cell_type": "code",
      "metadata": {
        "id": "158gYCFBfI_d"
      },
      "source": [
        "vol = df[['tic','volume']]\n",
        "vol.groupby('tic').sum('volume').sort_values('volume',ascending=False).head(10)"
      ],
      "execution_count": null,
      "outputs": []
    },
    {
      "cell_type": "markdown",
      "metadata": {
        "id": "EO8jtrc6DO1Z"
      },
      "source": [
        "#### Plot the closing value of stock with highest volume and returns"
      ]
    },
    {
      "cell_type": "code",
      "metadata": {
        "id": "cR00tCreBLOK"
      },
      "source": [
        "%matplotlib inline\n",
        "\n",
        "mrf = df[df.tic ==\"MRF.NS\"]\n",
        "mrf.set_index('date',inplace=True,drop=False)\n",
        "mrf = mrf[\"2021-06-01\":\"2021-08-30\"]\n",
        "plt.figure(figsize=(20,8))\n",
        "plt.plot('date','close',data=mrf)\n",
        "plt.xlabel('Date')\n",
        "plt.ylabel('Close Price')\n",
        "plt.xticks(rotation=45)\n",
        "plt.title(\"MRF stock closing value\")\n",
        "plt.show()"
      ],
      "execution_count": null,
      "outputs": []
    },
    {
      "cell_type": "markdown",
      "metadata": {
        "id": "hssXCwWDfvD7"
      },
      "source": [
        "#### Daily Returns of the stocks\n",
        "\n",
        "* Apply pct_change() and extract daily returns\n",
        "\n",
        "* Plot the histogram of daily returns\n",
        "\n",
        "* Find the stock with maximum daily return"
      ]
    },
    {
      "cell_type": "code",
      "metadata": {
        "id": "df2T8ijVFTA8"
      },
      "source": [
        "df1 = df.copy()\n",
        "df1['Daily Lag'] = df1['close'].shift(1)\n",
        "df1['Daily Returns'] = (df1['Daily Lag']/df1['close']) -1\n",
        "df1['Daily Returns'].hist()"
      ],
      "execution_count": null,
      "outputs": []
    },
    {
      "cell_type": "code",
      "metadata": {
        "id": "CP3DxK3tF8QN"
      },
      "source": [
        "# Maximum Daily return stock\n",
        "df1[df1['Daily Returns'] == df1['Daily Returns'].max()]"
      ],
      "execution_count": null,
      "outputs": []
    },
    {
      "cell_type": "markdown",
      "metadata": {
        "id": "Z3V03Mkja8CX"
      },
      "source": [
        "### Train & Trade Data Split\n",
        "\n",
        "In real life trading, the model needs to be updated periodically using rolling windows. Here, we just slice the data once into train and trade set."
      ]
    },
    {
      "cell_type": "code",
      "metadata": {
        "id": "rksm1NoA7A0N"
      },
      "source": [
        "# Train and trade data\n",
        "train = data_split(df, start = '2009-01-02', end = '2021-01-01')\n",
        "trade = data_split(df, start = '2021-01-01', end = '2021-09-01')\n",
        "# Check the length of the two datasets\n",
        "print(len(train))\n",
        "print(len(trade))"
      ],
      "execution_count": null,
      "outputs": []
    },
    {
      "cell_type": "code",
      "metadata": {
        "id": "TLKV8BryBWjm"
      },
      "source": [
        "train.close.max(), train.close.min()"
      ],
      "execution_count": null,
      "outputs": []
    },
    {
      "cell_type": "markdown",
      "metadata": {
        "id": "SZqfu4aHa-2r"
      },
      "source": [
        "### Build Environment\n",
        "\n",
        "* stock_dim: (int) number of unique stocks\n",
        "\n",
        "* hmax : (int) maximum number of shares to trade\n",
        "\n",
        "* initial_amount: (int) start money\n",
        "\n",
        "* transaction_cost_pct : (float) transaction cost percentage per trade\n",
        "\n",
        "* reward_scaling: (float) scaling factor for reward, good for training\n",
        "\n",
        "* tech_indicator_list: (list) a list of technical indicator names (modified from config.py)"
      ]
    },
    {
      "cell_type": "code",
      "metadata": {
        "id": "5my4Rmv57Jns"
      },
      "source": [
        "# Compute State Space and Action Space\n",
        "stock_dimension = len(train.tic.unique())\n",
        "state_space = 1 + 2*stock_dimension + len(config.TECHNICAL_INDICATORS_LIST) * stock_dimension\n",
        "print(f\"Stock data Dimensions: {stock_dimension}, State Spaces: {state_space}\")\n",
        "\n",
        "# Initialize an environment class\n",
        "env_kwargs = {\n",
        "    \"hmax\": 50, \n",
        "    \"initial_amount\": 189628060, # Sum of total stocks closing value\n",
        "    \"buy_cost_pct\": 0.001,\n",
        "    \"sell_cost_pct\": 0.001, \n",
        "    \"state_space\": state_space, \n",
        "    \"stock_dim\": stock_dimension, \n",
        "    \"tech_indicator_list\": config.TECHNICAL_INDICATORS_LIST, \n",
        "    \"action_space\": stock_dimension, \n",
        "    \"reward_scaling\": 1e-4}\n",
        "\n",
        "e_train_gym = StockTradingEnv(df = train, **env_kwargs)\n",
        "env_train, _ = e_train_gym.get_sb_env()\n",
        "print(type(env_train))"
      ],
      "execution_count": null,
      "outputs": []
    },
    {
      "cell_type": "markdown",
      "metadata": {
        "id": "qgRy5e8GbU29"
      },
      "source": [
        "### Implement DRL Algorithms"
      ]
    },
    {
      "cell_type": "markdown",
      "metadata": {
        "id": "6PJL1adBf2qG"
      },
      "source": [
        "Use Soft Actor-Critic (SAC) for stock trading, it is one of the most recent state-of-art algorithms. SAC is featured by its stability. \n",
        "\n",
        "* Define the SAC parameters and train the SAC model\n",
        "* Optimize the parameters to improve the reward"
      ]
    },
    {
      "cell_type": "code",
      "metadata": {
        "id": "9clEHa4WN-33"
      },
      "source": [
        "# Train SAC Model\n",
        "agent = DRLAgent(env = env_train)\n",
        "SAC_PARAMS = {\n",
        "    \"batch_size\": 128,\n",
        "    \"buffer_size\": 100,\n",
        "    \"learning_rate\": 0.001,\n",
        "    \"learning_starts\": 200,\n",
        "    \"ent_coef\": \"auto_0.1\"\n",
        "}\n",
        "model_sac = agent.get_model(\"sac\",model_kwargs = SAC_PARAMS)\n",
        "trained_sac = agent.train_model(model=model_sac, \n",
        "                             tb_log_name='sac',\n",
        "                             total_timesteps=30000)"
      ],
      "execution_count": null,
      "outputs": []
    },
    {
      "cell_type": "markdown",
      "metadata": {
        "id": "LAGZa-TQf7WY"
      },
      "source": [
        "### Trading\n",
        "\n",
        "* Build the Environment for trading\n",
        "* Use the trained SAC model to trade"
      ]
    },
    {
      "cell_type": "code",
      "metadata": {
        "id": "IhIUv5oN8IqN"
      },
      "source": [
        "# Trade data\n",
        "trade.head()"
      ],
      "execution_count": null,
      "outputs": []
    },
    {
      "cell_type": "code",
      "metadata": {
        "id": "5FWQ49dw8InU"
      },
      "source": [
        "# Create trading env\n",
        "e_trade_gym = StockTradingEnv(df = trade, **env_kwargs)\n",
        "\n",
        "# Make prediction and get the account value change\n",
        "df_account_value, df_actions = DRLAgent.DRL_prediction(model = trained_sac, environment = e_trade_gym)"
      ],
      "execution_count": null,
      "outputs": []
    },
    {
      "cell_type": "code",
      "metadata": {
        "id": "cv67F511PrH2"
      },
      "source": [
        "df_account_value.head()"
      ],
      "execution_count": null,
      "outputs": []
    },
    {
      "cell_type": "markdown",
      "metadata": {
        "id": "iZmp-UQlbt0j"
      },
      "source": [
        "### Backtesting Performance **(Optional)**\n",
        "\n",
        "Backtesting plays a key role in evaluating the performance of a trading strategy. Backtesting assesses the viability of a trading strategy by discovering how it would perform on historical data. If backtesting works, traders and analysts may have increased confidence to employ it going forward.Automated backtesting tool is preferred because it reduces the human error.\n",
        "\n",
        "`FinRL` uses a set of functions to do the backtesting with [Quantopian pyfolio](https://github.com/quantopian/pyfolio) package. It is easy to use and consists of various individual plots that provide a comprehensive image of the performance of a trading strategy.\n",
        "\n",
        "* Perform backtest on the account values and baseline data"
      ]
    },
    {
      "cell_type": "code",
      "metadata": {
        "id": "KV2zodCX8MC9"
      },
      "source": [
        "# BackTestStats\n",
        "perf_stats_all = backtest_stats(account_value = df_account_value)\n",
        "perf_stats_all = pd.DataFrame(perf_stats_all)"
      ],
      "execution_count": null,
      "outputs": []
    },
    {
      "cell_type": "code",
      "metadata": {
        "id": "25anXQwCRgH2"
      },
      "source": [
        "# Baseline stats\n",
        "baseline_df = trade\n",
        "stats = backtest_stats(baseline_df, value_col_name = 'close')"
      ],
      "execution_count": null,
      "outputs": []
    },
    {
      "cell_type": "code",
      "metadata": {
        "id": "0J6udJedUY4K"
      },
      "source": [
        "df_account_value.date.min(),df_account_value.date.max()"
      ],
      "execution_count": null,
      "outputs": []
    },
    {
      "cell_type": "markdown",
      "metadata": {
        "id": "LfHbQkhLUqKH"
      },
      "source": [
        "### Plot the Backtest plot with baseline ticker as \"^NSEI\""
      ]
    },
    {
      "cell_type": "code",
      "metadata": {
        "id": "6bBom24uLxVc"
      },
      "source": [
        "# BackTestPlot\n",
        "%matplotlib inline\n",
        "backtest_plot(account_value = df_account_value,     # pass the account value memory into the backtest functions\n",
        "              baseline_ticker = '^NSEI',             # select a baseline ticker Dow Jones Index: ^DJI, S&P 500: ^GSPC, NASDAQ 100: ^NDX\n",
        "              baseline_start = '2021-01-01', \n",
        "              baseline_end = '2021-08-31')"
      ],
      "execution_count": null,
      "outputs": []
    },
    {
      "cell_type": "markdown",
      "metadata": {
        "id": "T5klse2xgDP-"
      },
      "source": [
        "### DashBoard\n",
        "\n",
        "Dash is a simple open source library. It is the original low-code framework for rapidly building data apps in Python, R, Julia, and F#. It can bind a user interface to Python code in less than 10 minutes.\n",
        "\n",
        "Dash apps are rendered in the web browser. Since Dash apps are viewed in the web browser, Dash is inherently cross-platform and mobile ready.\n",
        "\n",
        "Dash is released under the permissive MIT license. Plotly develops Dash and also offers a platform for writing and deploying Dash apps.\n",
        "\n",
        "Refer to Dash Documentation [here](https://dash.plotly.com/). Mainly refer to Part 2 (Layout) and Part 3 (Basic callbacks) within the Dash tutorial in the given documentation. \n",
        "\n",
        "To know more about Dash, refer [here](https://medium.com/plotly/introducing-jupyterdash-811f1f57c02e).\n",
        "\n"
      ]
    },
    {
      "cell_type": "code",
      "metadata": {
        "id": "Yo-8hnzWoe3y"
      },
      "source": [
        "# Install the library\n",
        "!pip install -q jupyter-dash==0.3.0rc1 dash-bootstrap-components"
      ],
      "execution_count": null,
      "outputs": []
    },
    {
      "cell_type": "code",
      "metadata": {
        "id": "bqa4d-qafoZZ"
      },
      "source": [
        "!wget -qq https://cdn.iisc.talentsprint.com/CDS/MiniProjects/df_account_value.csv\n",
        "df_account_value = pd.read_csv(\"df_account_value.csv\")"
      ],
      "execution_count": null,
      "outputs": []
    },
    {
      "cell_type": "markdown",
      "metadata": {
        "id": "ZhaVtaI1gGCX"
      },
      "source": [
        "#### Create the dashboard using Dash HTML components\n",
        "\n",
        "Hint: [Layout](https://dash.plotly.com/layout) , [callbacks](https://dash.plotly.com/basic-callbacks)\n",
        "\n",
        "* Scatter plot of Stock closing price \n",
        "  * Create a dropdown for ticker Symbols\n",
        "  * Create a plot of stock closing price values that changes upon selecting ticker using drop down\n",
        "* Bar plot of trade off balance resulted from DRL Agent \n",
        "  * Create two dropdowns for selecting start and end dates\n",
        "  * Create a bar plot showing account value between start and end date as a result to dropdown change.\n"
      ]
    },
    {
      "cell_type": "code",
      "metadata": {
        "id": "u0J9yRK2maM8"
      },
      "source": [
        "import plotly.express as px\n",
        "from jupyter_dash import JupyterDash\n",
        "from dash import dcc\n",
        "from dash import html\n",
        "from dash.dependencies import Input, Output\n",
        "\n",
        "# Build App\n",
        "app = JupyterDash(__name__)\n",
        "app.layout = html.Div([\n",
        "    html.H1(\"Stocks Dashboard using JupyterDash\"),\n",
        "    html.Label([\n",
        "        \"ticker\",\n",
        "        dcc.Dropdown(\n",
        "            id='ticker-dropdown', clearable=False,\n",
        "            value='plasma', options=[\n",
        "                {'label': c, 'value': c}\n",
        "                for c in set(df.tic)\n",
        "            ])\n",
        "    ]),\n",
        "    dcc.Graph(id='graph1'),\n",
        "    html.H2(\"Trade off Balance Given by DRL Agent\"),\n",
        "    html.Label([\n",
        "        \"startDate\",\n",
        "        dcc.Dropdown(\n",
        "            id='startDate-dropdown', clearable=False,\n",
        "            value='plasma', options=[\n",
        "                {'label': c, 'value': c}\n",
        "                for c in df_account_value.date.values\n",
        "            ])\n",
        "    ]),\n",
        "    html.Label([\n",
        "        \"endDate\",\n",
        "        dcc.Dropdown(\n",
        "            id='endDate-dropdown', clearable=False,\n",
        "            value='plasma', options=[\n",
        "                {'label': c, 'value': c}\n",
        "                for c in df_account_value.date.values\n",
        "            ])\n",
        "    ]),\n",
        "    dcc.Graph(id='graph2'),\n",
        "])\n",
        "\n",
        "# Define callback to update graph\n",
        "@app.callback(\n",
        "    Output('graph1', 'figure'),\n",
        "    [Input(\"ticker-dropdown\", \"value\")]\n",
        ")\n",
        "def update_graph1(ticker):\n",
        "    ticker_df = df[df.tic == ticker]\n",
        "    #df_account_value = getResult_from_Agent(required)\n",
        "    return px.scatter(ticker_df, x='date', y='close')\n",
        "\n",
        "# Define callback to update graph\n",
        "@app.callback(\n",
        "    Output('graph2', 'figure'),\n",
        "    [Input(\"startDate-dropdown\", \"value\"),Input(\"endDate-dropdown\", \"value\")]\n",
        ")\n",
        "def update_figure(startDate,endDate):\n",
        "    required = df_account_value[(df_account_value.date > startDate) & (df_account_value.date < endDate)]\n",
        "    #df_account_value = getResult_from_Agent(required)\n",
        "    return px.bar(required, x='date', y='account_value')"
      ],
      "execution_count": null,
      "outputs": []
    },
    {
      "cell_type": "code",
      "metadata": {
        "id": "8jJvHoNlsc7m"
      },
      "source": [
        "# Run app and display result on external broswer\n",
        "app.run_server(mode='external')"
      ],
      "execution_count": null,
      "outputs": []
    },
    {
      "cell_type": "markdown",
      "metadata": {
        "id": "QLg6LrGG4WcU"
      },
      "source": [
        "### Report Analysis\n",
        "\n",
        "* Discuss on the parameters used to increase the reward\n",
        "* Report the safest stocks to trade without much loss\n",
        "* Comment on the Dashboard application and user interface\n"
      ]
    },
    {
      "cell_type": "markdown",
      "metadata": {
        "id": "yS0qB9BEFbrt"
      },
      "source": [
        "**References:** \n",
        "\n",
        "http://finrl.org/tutorial/finrl_multiple_stock.html\n",
        "\n",
        "FinRL Doc: http://finrl.org/tutorial/finrl_single_stock.html\n",
        "\n",
        "https://www1.nseindia.com/products/content/equities/indices/nifty_50.htm\n",
        "\n",
        "https://finance.yahoo.com/quote/%5ENSEI/components/\n",
        "\n",
        "Reference for participants: https://analyticsindiamag.com/stock-market-prediction-using-finrl/\n",
        "\n",
        "https://medium.com/plotly/introducing-jupyterdash-811f1f57c02e"
      ]
    }
  ]
}