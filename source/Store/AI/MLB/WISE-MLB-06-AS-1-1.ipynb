{
 "cells": [
  {
   "cell_type": "markdown",
   "metadata": {
    "colab_type": "text",
    "id": "UfNXILVLuwO-"
   },
   "source": [
    "# Image Analysis: Using bag of visual words for scene classification.\n",
    "\n",
    "## Training phase\n"
   ]
  },
  {
   "cell_type": "markdown",
   "metadata": {
    "colab_type": "text",
    "id": "gQZIntYPuwPA"
   },
   "source": [
    "Before extracting features we need to get our hands into a dataset and import the necessary packages and also used the **OpenCV Python Package (3.4.1)** in the implementation of this note, to download any version, go to [the official OpenCV website](https://opencv.org/releases.html)"
   ]
  },
  {
   "cell_type": "code",
   "execution_count": 1,
   "metadata": {
    "colab": {
     "base_uri": "https://localhost:8080/",
     "height": 74
    },
    "colab_type": "code",
    "id": "spukMrDMuwPB",
    "outputId": "891e59f7-dd80-49cc-dede-c9318ee25741"
   },
   "outputs": [
    {
     "name": "stderr",
     "output_type": "stream",
     "text": [
      "/home/chandrakumar/anaconda3/lib/python3.7/site-packages/sklearn/externals/joblib/__init__.py:15: FutureWarning: sklearn.externals.joblib is deprecated in 0.21 and will be removed in 0.23. Please import this functionality directly from joblib, which can be installed with: pip install joblib. If this warning is raised when loading pickled models, you may need to re-serialize those models with scikit-learn 0.21+.\n",
      "  warnings.warn(msg, category=FutureWarning)\n"
     ]
    }
   ],
   "source": [
    "# Import modules\n",
    "from scipy.cluster.vq import *\n",
    "from sklearn.preprocessing import StandardScaler\n",
    "from sklearn.externals import joblib\n",
    "from sklearn.model_selection import train_test_split, cross_val_score, cross_validate\n",
    "from sklearn.metrics import confusion_matrix\n",
    "from sklearn.tree import DecisionTreeClassifier\n",
    "import matplotlib.pyplot as plt\n",
    "import cv2 as cv\n",
    "import numpy as np\n",
    "import os\n",
    "from imutils import paths\n",
    "import pickle\n",
    "%matplotlib inline"
   ]
  },
  {
   "cell_type": "markdown",
   "metadata": {
    "colab_type": "text",
    "id": "NfcVZh_PuwPI"
   },
   "source": [
    "### Getting the data"
   ]
  },
  {
   "cell_type": "markdown",
   "metadata": {
    "colab_type": "text",
    "id": "Q4l-H1iduwPK"
   },
   "source": [
    "For the purpose of brevity, simplicity here we are going to use 3 categories, however, this algorithm can easily be expanded or scaled into any number of categories, although more efficient approaches may be needed for fast computation of the classification task. Caltech 101 with 101 categories is an example dataset of a lot of categories and images."
   ]
  },
  {
   "cell_type": "code",
   "execution_count": 2,
   "metadata": {
    "colab": {
     "base_uri": "https://localhost:8080/",
     "height": 217
    },
    "colab_type": "code",
    "id": "-R_J5icVz5HX",
    "outputId": "fca4add9-cfde-4b51-dfbe-9952efc40da7"
   },
   "outputs": [
    {
     "name": "stdout",
     "output_type": "stream",
     "text": [
      "--2020-09-23 01:43:45--  https://cdn.talentsprint.com/aiml/Wise/training_set.zip\n",
      "Resolving cdn.talentsprint.com (cdn.talentsprint.com)... 172.105.34.236\n",
      "Connecting to cdn.talentsprint.com (cdn.talentsprint.com)|172.105.34.236|:443... connected.\n",
      "HTTP request sent, awaiting response... 200 OK\n",
      "Length: 935564 (914K) [application/zip]\n",
      "Saving to: ‘training_set.zip’\n",
      "\n",
      "training_set.zip    100%[===================>] 913.64K   936KB/s    in 1.0s    \n",
      "\n",
      "2020-09-23 01:43:49 (936 KB/s) - ‘training_set.zip’ saved [935564/935564]\n",
      "\n"
     ]
    }
   ],
   "source": [
    "!wget https://cdn.talentsprint.com/aiml/Wise/training_set.zip"
   ]
  },
  {
   "cell_type": "code",
   "execution_count": 3,
   "metadata": {
    "colab": {},
    "colab_type": "code",
    "id": "27Zz3FRJ0aa4"
   },
   "outputs": [
    {
     "name": "stdout",
     "output_type": "stream",
     "text": [
      "Archive:  training_set.zip\n",
      "   creating: training_set/\n",
      "   creating: training_set/aeroplane/\n",
      "  inflating: training_set/aeroplane/1.jpg  \n",
      "  inflating: training_set/aeroplane/10.jpg  \n",
      "  inflating: training_set/aeroplane/11.jpg  \n",
      "  inflating: training_set/aeroplane/12.jpg  \n",
      "  inflating: training_set/aeroplane/13.jpg  \n",
      "  inflating: training_set/aeroplane/14.jpg  \n",
      "  inflating: training_set/aeroplane/15.jpg  \n",
      "  inflating: training_set/aeroplane/16.jpg  \n",
      "  inflating: training_set/aeroplane/17.jpg  \n",
      "  inflating: training_set/aeroplane/2.jpg  \n",
      "  inflating: training_set/aeroplane/3.jpg  \n",
      "  inflating: training_set/aeroplane/4.jpg  \n",
      "  inflating: training_set/aeroplane/5.jpg  \n",
      "  inflating: training_set/aeroplane/6.jpg  \n",
      "  inflating: training_set/aeroplane/7.jpg  \n",
      "  inflating: training_set/aeroplane/8.jpg  \n",
      "  inflating: training_set/aeroplane/9.jpg  \n",
      "   creating: training_set/bicycle/\n",
      "  inflating: training_set/bicycle/1.jpg  \n",
      "  inflating: training_set/bicycle/10.jpg  \n",
      "  inflating: training_set/bicycle/11.jpg  \n",
      "  inflating: training_set/bicycle/12.jpg  \n",
      "  inflating: training_set/bicycle/13.jpg  \n",
      "  inflating: training_set/bicycle/14.JPG  \n",
      "  inflating: training_set/bicycle/15.png  \n",
      "  inflating: training_set/bicycle/16.jpg  \n",
      "  inflating: training_set/bicycle/17.jpg  \n",
      "  inflating: training_set/bicycle/2.jpg  \n",
      "  inflating: training_set/bicycle/3.jpg  \n",
      "  inflating: training_set/bicycle/4.png  \n",
      "  inflating: training_set/bicycle/5.jpg  \n",
      "  inflating: training_set/bicycle/6.jpg  \n",
      "  inflating: training_set/bicycle/7.jpg  \n",
      "  inflating: training_set/bicycle/8.JPG  \n",
      "  inflating: training_set/bicycle/9.jpg  \n",
      "   creating: training_set/car/\n",
      "  inflating: training_set/car/1.jpg  \n",
      "  inflating: training_set/car/10.jpg  \n",
      "  inflating: training_set/car/11.jpg  \n",
      "  inflating: training_set/car/12.jpg  \n",
      "  inflating: training_set/car/13.jpg  \n",
      "  inflating: training_set/car/14.jpg  \n",
      "  inflating: training_set/car/15.jpg  \n",
      "  inflating: training_set/car/16.jpg  \n",
      "  inflating: training_set/car/17.jpg  \n",
      "  inflating: training_set/car/2.jpeg  \n",
      "  inflating: training_set/car/3.jpg  \n",
      "  inflating: training_set/car/4.jpg  \n",
      "  inflating: training_set/car/5.jpg  \n",
      "  inflating: training_set/car/6.jpg  \n",
      "  inflating: training_set/car/7.jpg  \n",
      " extracting: training_set/car/8.jpg  \n",
      "  inflating: training_set/car/9.jpg  \n"
     ]
    }
   ],
   "source": [
    "!unzip training_set.zip"
   ]
  },
  {
   "cell_type": "markdown",
   "metadata": {
    "colab_type": "text",
    "id": "iWhIicu-t63Q"
   },
   "source": [
    "### Exercise 1\n",
    "\n",
    "### Load and define the Training path and also display the Training categories"
   ]
  },
  {
   "cell_type": "code",
   "execution_count": null,
   "metadata": {
    "colab": {},
    "colab_type": "code",
    "id": "A9wL5xzWuwPL",
    "scrolled": false
   },
   "outputs": [],
   "source": [
    "## your code here"
   ]
  },
  {
   "cell_type": "markdown",
   "metadata": {
    "colab_type": "text",
    "id": "O0XEio_jvKre"
   },
   "source": [
    "### Exercise 2"
   ]
  },
  {
   "cell_type": "code",
   "execution_count": null,
   "metadata": {
    "colab": {
     "base_uri": "https://localhost:8080/",
     "height": 74
    },
    "colab_type": "code",
    "id": "qF9cTZzxuwPT",
    "outputId": "43d60480-096f-4886-ac73-4a83ea4a2020"
   },
   "outputs": [
    {
     "name": "stdout",
     "output_type": "stream",
     "text": [
      "[0, 0, 0, 0, 0, 0, 0, 0, 0, 0, 0, 0, 0, 0, 0, 0, 0, 1, 1, 1, 1, 1, 1, 1, 1, 1, 1, 1, 1, 1, 1, 1, 1, 1, 2, 2, 2, 2, 2, 2, 2, 2, 2, 2, 2, 2, 2, 2, 2, 2, 2]\n",
      "51\n"
     ]
    }
   ],
   "source": [
    "# Get all the path to the images and save them in a list\n",
    "# image_paths and the corresponding label in image_paths\n",
    "# The path is defined in the `train_path` variable.\n",
    "# Also, the label is just a number in this case.\n",
    "image_paths = []\n",
    "image_classes = []\n",
    "class_id = 0\n",
    "for category in categories:\n",
    "    dir = os.path.join(dataset_path, category)\n",
    "    class_path = list(paths.list_images(dir)) # This is the path to all the images given A SINGLE CLASS\n",
    "    # Stores the path to all the images in the images_paths variable which has all of the training images.\n",
    "    image_paths+=class_path\n",
    "    image_classes+=[class_id]*len(class_path) # Assigns a label to each image path\n",
    "    class_id+=1\n",
    "\n",
    "## your code here to print the images classes\n",
    "## your code here to print the length of the image classes"
   ]
  },
  {
   "cell_type": "markdown",
   "metadata": {
    "colab_type": "text",
    "id": "QdKz0NMsuwPd"
   },
   "source": [
    "Thanks to the OpenCV library we can detect the SIFT keypoints and compute its correspondent descriptors, which can then be stored in a high-dimensional matrix for further computation"
   ]
  },
  {
   "cell_type": "markdown",
   "metadata": {
    "colab_type": "text",
    "id": "6-PjZr20uwPe"
   },
   "source": [
    "#### SIFT Note: \n",
    "\n",
    "Even though SIFT has different parameters, the paper by Lowe gives some empirical data which can be summarized as, number of octaves = 4, number of scale levels = 5, initial $\\sigma = 1.6$, $k = \\sqrt{2}$ etc as optimal values."
   ]
  },
  {
   "cell_type": "code",
   "execution_count": null,
   "metadata": {
    "colab": {},
    "colab_type": "code",
    "id": "O-CRlidz1ZTh"
   },
   "outputs": [],
   "source": [
    "## Run this cell to download the current opencv-python version\n",
    "!pip install opencv-python==3.4.2.16\n",
    "!pip install opencv-contrib-python==3.4.2.16"
   ]
  },
  {
   "cell_type": "markdown",
   "metadata": {
    "colab_type": "text",
    "id": "815D4q2sv33y"
   },
   "source": [
    "### Exercise 3\n",
    "\n",
    "### Keypoints and Descriptors of all of the images"
   ]
  },
  {
   "cell_type": "code",
   "execution_count": null,
   "metadata": {
    "colab": {},
    "colab_type": "code",
    "id": "gNLBrx7MuwPg"
   },
   "outputs": [],
   "source": [
    "# Detect SIFT Keypoints\n",
    "\n",
    "## your code here\n",
    "\n",
    "# List where all the descriptors will be stored\n",
    "des_list = []\n",
    "print(\"Calculating all the descriptors and keypoints...\")\n",
    "for image_path in image_paths:\n",
    "    print(\"Calculating for image [\"+ image_path +\"]\", end=\"\\r\")\n",
    "    im  = cv.imread(image_path)\n",
    "\n",
    "    ## your code here        # Converts from one color space to another (grayscale)\n",
    "\n",
    "    kp, des = sift.detectAndCompute(gray,None)\n",
    "    \n",
    "    ## your code here        # Append the image path, key points, descriptors to the des_list\n",
    "\n",
    "print(\"\\nDone!\")"
   ]
  },
  {
   "cell_type": "code",
   "execution_count": null,
   "metadata": {
    "colab": {
     "base_uri": "https://localhost:8080/",
     "height": 265
    },
    "colab_type": "code",
    "id": "2PoL_lBSuwPn",
    "outputId": "54c74bd1-d92c-40ca-8816-bf293ccc97c7"
   },
   "outputs": [
    {
     "data": {
      "image/png": "[encoded data removed]",
      "text/plain": [
       "<Figure size 432x288 with 1 Axes>"
      ]
     },
     "metadata": {
      "needs_background": "light",
      "tags": []
     },
     "output_type": "display_data"
    }
   ],
   "source": [
    "# Example for the 3rd image\n",
    "IMAGE_N = 10\n",
    "im = cv.imread(des_list[IMAGE_N][0])\n",
    "gray = cv.cvtColor(im, cv.COLOR_BGR2GRAY)\n",
    "kp, des = sift.detectAndCompute(gray, None)\n",
    "kpImg = cv.drawKeypoints(gray, kp, im)\n",
    "plt.imshow(im, cmap='gray')\n",
    "plt.axis(\"off\")\n",
    "plt.title(\"Image number \"+str(IMAGE_N)+\" Keypoints\")\n",
    "plt.show()"
   ]
  },
  {
   "cell_type": "code",
   "execution_count": null,
   "metadata": {
    "colab": {
     "base_uri": "https://localhost:8080/",
     "height": 72
    },
    "colab_type": "code",
    "id": "ZnO88DhVuwPs",
    "outputId": "ce29fd84-739a-451f-9967-26d86277a205"
   },
   "outputs": [
    {
     "name": "stdout",
     "output_type": "stream",
     "text": [
      "Stacking all the descriptors in a numpy array...\n",
      "Calculating for image [training_set/car/13.jpg]\r",
      "Calculating for image [training_set/car/14.jpg]\r",
      "Calculating for image [training_set/car/11.jpg]\r",
      "Calculating for image [training_set/car/6.jpg]\r",
      "Calculating for image [training_set/car/10.jpg]\r",
      "Calculating for image [training_set/car/2.jpeg]\r",
      "Calculating for image [training_set/car/12.jpg]\r",
      "Calculating for image [training_set/car/17.jpg]\r",
      "Calculating for image [training_set/car/8.jpg]\r",
      "Calculating for image [training_set/car/4.jpg]\r",
      "Calculating for image [training_set/car/16.jpg]\r",
      "Calculating for image [training_set/car/1.jpg]\r",
      "Calculating for image [training_set/car/5.jpg]\r",
      "Calculating for image [training_set/car/15.jpg]\r",
      "Calculating for image [training_set/car/3.jpg]\r",
      "Calculating for image [training_set/car/7.jpg]\r",
      "Calculating for image [training_set/bicycle/9.jpg]\r",
      "Calculating for image [training_set/bicycle/13.jpg]\r",
      "Calculating for image [training_set/bicycle/11.jpg]\r",
      "Calculating for image [training_set/bicycle/6.jpg]\r",
      "Calculating for image [training_set/bicycle/10.jpg]\r",
      "Calculating for image [training_set/bicycle/15.png]\r",
      "Calculating for image [training_set/bicycle/12.jpg]\r",
      "Calculating for image [training_set/bicycle/17.jpg]\r",
      "Calculating for image [training_set/bicycle/16.jpg]\r",
      "Calculating for image [training_set/bicycle/2.jpg]\r",
      "Calculating for image [training_set/bicycle/1.jpg]\r",
      "Calculating for image [training_set/bicycle/14.JPG]\r",
      "Calculating for image [training_set/bicycle/5.jpg]\r",
      "Calculating for image [training_set/bicycle/3.jpg]\r",
      "Calculating for image [training_set/bicycle/8.JPG]\r",
      "Calculating for image [training_set/bicycle/4.png]\r",
      "Calculating for image [training_set/bicycle/7.jpg]\r",
      "Calculating for image [training_set/aeroplane/9.jpg]\r",
      "Calculating for image [training_set/aeroplane/13.jpg]\r",
      "Calculating for image [training_set/aeroplane/14.jpg]\r",
      "Calculating for image [training_set/aeroplane/11.jpg]\r",
      "Calculating for image [training_set/aeroplane/6.jpg]\r",
      "Calculating for image [training_set/aeroplane/10.jpg]\r",
      "Calculating for image [training_set/aeroplane/12.jpg]\r",
      "Calculating for image [training_set/aeroplane/17.jpg]\r",
      "Calculating for image [training_set/aeroplane/8.jpg]\r",
      "Calculating for image [training_set/aeroplane/4.jpg]\r",
      "Calculating for image [training_set/aeroplane/16.jpg]\r",
      "Calculating for image [training_set/aeroplane/2.jpg]\r",
      "Calculating for image [training_set/aeroplane/1.jpg]\r",
      "Calculating for image [training_set/aeroplane/5.jpg]\r",
      "Calculating for image [training_set/aeroplane/15.jpg]\r",
      "Calculating for image [training_set/aeroplane/3.jpg]\r",
      "Calculating for image [training_set/aeroplane/7.jpg]\r\n",
      "Done!\n"
     ]
    }
   ],
   "source": [
    "# Stack all the descriptors vertically in a numpy array\n",
    "print(\"Stacking all the descriptors in a numpy array...\")\n",
    "descriptors = des_list[0][2]\n",
    "for image_path, keypoints, descriptor in des_list[1:]:\n",
    "    print(\"Calculating for image [\"+ image_path +\"]\", end=\"\\r\")\n",
    "    descriptors = np.vstack((descriptors, descriptor))\n",
    "print(\"\\nDone!\")"
   ]
  },
  {
   "cell_type": "markdown",
   "metadata": {
    "colab_type": "text",
    "id": "pm_vMLE0uwP0"
   },
   "source": [
    "#### Save the descriptors variable in an external file."
   ]
  },
  {
   "cell_type": "code",
   "execution_count": null,
   "metadata": {
    "colab": {},
    "colab_type": "code",
    "id": "ZkALB5KnuwP1"
   },
   "outputs": [],
   "source": [
    "pickle.dump(descriptors, open('descriptors.sav', 'wb'))"
   ]
  },
  {
   "cell_type": "markdown",
   "metadata": {
    "colab_type": "text",
    "id": "VNCVURHQuwP6"
   },
   "source": [
    "### Apply K-means\n",
    "\n",
    "Once we have all the descriptors, we must build a vocabulary, unlike words written in human languages, we do not have a strictly defined visual vocabulary, so that's why we use the unsupervised learning algorithm K-means to build it according to the collected SIFT descriptors of our images. This task can be computationally expensive, specially for a lot of categories and when executing the K-means algorithm more than once (in order to average results)."
   ]
  },
  {
   "cell_type": "markdown",
   "metadata": {
    "colab_type": "text",
    "id": "JYPbVZONztmA"
   },
   "source": [
    "### Exercise 4\n",
    "\n",
    "Performing K Means clustering on Descriptors"
   ]
  },
  {
   "cell_type": "code",
   "execution_count": null,
   "metadata": {
    "colab": {},
    "colab_type": "code",
    "id": "0VQdHQzw0LoG"
   },
   "outputs": [],
   "source": [
    "## your code here"
   ]
  },
  {
   "cell_type": "markdown",
   "metadata": {
    "colab_type": "text",
    "id": "LMu527jsuwQA"
   },
   "source": [
    "Here is where we compute the distance for each pseudo-word (SIFT descriptor) inside a document (image), to each of the means of the clusters (words); each SIFT descriptor has a cluster as a word, but we do not know which one, that is why we just assign to it the one that has the minimum distance."
   ]
  },
  {
   "cell_type": "code",
   "execution_count": null,
   "metadata": {
    "colab": {
     "base_uri": "https://localhost:8080/",
     "height": 17
    },
    "colab_type": "code",
    "id": "DBJRNI86uwQB",
    "outputId": "9f70adb3-a2a0-46c9-def7-a3d7decf6d1f"
   },
   "outputs": [
    {
     "name": "stdout",
     "output_type": "stream",
     "text": [
      "Calculating distance for image 0...\r",
      "Calculating distance for image 1...\r",
      "Calculating distance for image 2...\r",
      "Calculating distance for image 3...\r",
      "Calculating distance for image 4...\r",
      "Calculating distance for image 5...\r",
      "Calculating distance for image 6...\r",
      "Calculating distance for image 7...\r",
      "Calculating distance for image 8...\r",
      "Calculating distance for image 9...\r",
      "Calculating distance for image 10...\r",
      "Calculating distance for image 11...\r",
      "Calculating distance for image 12...\r",
      "Calculating distance for image 13...\r",
      "Calculating distance for image 14...\r",
      "Calculating distance for image 15...\r",
      "Calculating distance for image 16...\r",
      "Calculating distance for image 17...\r",
      "Calculating distance for image 18...\r",
      "Calculating distance for image 19...\r",
      "Calculating distance for image 20...\r",
      "Calculating distance for image 21...\r",
      "Calculating distance for image 22...\r",
      "Calculating distance for image 23...\r",
      "Calculating distance for image 24...\r",
      "Calculating distance for image 25...\r",
      "Calculating distance for image 26...\r",
      "Calculating distance for image 27...\r",
      "Calculating distance for image 28...\r",
      "Calculating distance for image 29...\r",
      "Calculating distance for image 30...\r",
      "Calculating distance for image 31...\r",
      "Calculating distance for image 32...\r",
      "Calculating distance for image 33...\r",
      "Calculating distance for image 34...\r",
      "Calculating distance for image 35...\r",
      "Calculating distance for image 36...\r",
      "Calculating distance for image 37...\r",
      "Calculating distance for image 38...\r",
      "Calculating distance for image 39...\r",
      "Calculating distance for image 40...\r",
      "Calculating distance for image 41...\r",
      "Calculating distance for image 42...\r",
      "Calculating distance for image 43...\r",
      "Calculating distance for image 44...\r",
      "Calculating distance for image 45...\r",
      "Calculating distance for image 46...\r",
      "Calculating distance for image 47...\r",
      "Calculating distance for image 48...\r",
      "Calculating distance for image 49...\r",
      "Calculating distance for image 50...\r"
     ]
    }
   ],
   "source": [
    "# Create the histogram itself of the image features\n",
    "im_features = np.zeros((len(image_paths), k), \"float32\")\n",
    "for i in range(len(image_paths)):\n",
    "    print(\"Calculating distance for image \"+str(i)+\"...\", end=\"\\r\")\n",
    "    words, distance = vq(des_list[i][2],voc)\n",
    "    for w in words:\n",
    "        im_features[i][w] += 1"
   ]
  },
  {
   "cell_type": "code",
   "execution_count": null,
   "metadata": {
    "colab": {
     "base_uri": "https://localhost:8080/",
     "height": 281
    },
    "colab_type": "code",
    "id": "pDV6LN8YuwQG",
    "outputId": "59d9258c-1634-481a-eb00-53eea6c9d8a1",
    "scrolled": false
   },
   "outputs": [
    {
     "data": {
      "image/png": "[encoded data removed]",
      "text/plain": [
       "<Figure size 432x288 with 1 Axes>"
      ]
     },
     "metadata": {
      "needs_background": "light",
      "tags": []
     },
     "output_type": "display_data"
    }
   ],
   "source": [
    "plt.bar(range(k), im_features[IMAGE_N])\n",
    "plt.title(\"Histogram of image number \"+ str(IMAGE_N) +\" given \"+ str(k) + \" clusters\")\n",
    "plt.show()"
   ]
  },
  {
   "cell_type": "markdown",
   "metadata": {
    "colab_type": "text",
    "id": "bdchxW8OuwQO"
   },
   "source": [
    "Also, a weighting schema can be useful to give more emphasis to the words that are more **discriminant**.\n",
    "\n",
    "The number of times a term occurs in a document is called its **term frequency**. Is a way of weighting documents given a list of the words that form the document. That is, if a word appears a lot in a document, it may be important. Further weighting schemas can be done as well, such as the _inverse document frequency_. Given the term $t$ and its frequency in a document $i$, its **term frequency $tf_i$** is:\n",
    "\n",
    "$$tf_i = t \\cdot f_i$$\n",
    "\n",
    "One can define the **document frequency** or $df_i$ as the number of occurences that any given term appears in a group of documents, hence the name. The **inverse document frequency** is a weighting scheme that takes into account the document frequency to apply weights to each word. Because, if a certain word appears in all of the documents, is not a discriminative word. The $idf_i$ weighting schema has the following equation:\n",
    "\n",
    "$$idf_i = \\log{\\frac{N}{df_i}}$$\n",
    "\n",
    "Where $N$ is the total number of documents, and thus, if the document frequency is low, it's a rare word which has a high weight.\n",
    "\n",
    "We then can use the TF-IDF weighting for our features."
   ]
  },
  {
   "cell_type": "code",
   "execution_count": null,
   "metadata": {
    "colab": {
     "base_uri": "https://localhost:8080/",
     "height": 281
    },
    "colab_type": "code",
    "id": "opFrRlzwuwQP",
    "outputId": "de22c444-ae21-4381-b8fa-a239137589c1"
   },
   "outputs": [
    {
     "data": {
      "image/png": "[encoded data removed]",
      "text/plain": [
       "<Figure size 432x288 with 1 Axes>"
      ]
     },
     "metadata": {
      "needs_background": "light",
      "tags": []
     },
     "output_type": "display_data"
    }
   ],
   "source": [
    "# Perform Tf-Idf vectorization\n",
    "nbr_occurences = np.sum( (im_features > 0) * 1, axis = 0)\n",
    "idf = np.array(np.log((1.0*len(image_paths) + 1) / (1.0*nbr_occurences + 1)), 'float32')\n",
    "scaled_im_features = im_features * idf\n",
    "plt.bar(range(k), im_features[IMAGE_N], alpha=0.5)\n",
    "plt.bar(range(k), scaled_im_features[IMAGE_N], alpha=0.5)\n",
    "plt.title(\"Weighted histogram\")\n",
    "plt.legend(['Unweighted', 'weighted'])\n",
    "plt.show()"
   ]
  },
  {
   "cell_type": "markdown",
   "metadata": {
    "colab_type": "text",
    "id": "n_UuFTx-uwQU"
   },
   "source": [
    "#### Feature normalization or scaling\n",
    "The standard scaler allows us to normalize our already tf-idf weighted feature vector for each document (image). The normalization is defined as follows $Normalize(X) = \\frac{X - \\mu}{\\sigma}$, where $\\mu, \\sigma$ represent the mean and the standard deviation respectively."
   ]
  },
  {
   "cell_type": "code",
   "execution_count": null,
   "metadata": {
    "colab": {},
    "colab_type": "code",
    "id": "RV-LiiWCuwQV"
   },
   "outputs": [],
   "source": [
    "# Scaling the words\n",
    "stdSlr = StandardScaler().fit(scaled_im_features)\n",
    "scaled_im_features = stdSlr.transform(scaled_im_features)"
   ]
  },
  {
   "cell_type": "markdown",
   "metadata": {
    "colab_type": "text",
    "id": "DctxmqMeuwQb"
   },
   "source": [
    "### Exercise 5 \n",
    "\n",
    "### Train a Classifier and find the predictions"
   ]
  },
  {
   "cell_type": "code",
   "execution_count": null,
   "metadata": {
    "colab": {},
    "colab_type": "code",
    "id": "Uv_z30l1uwQc"
   },
   "outputs": [],
   "source": [
    "### your code here"
   ]
  }
 ],
 "metadata": {
  "colab": {
   "collapsed_sections": [],
   "name": "Visual Bag of Words.ipynb",
   "provenance": []
  },
  "kernelspec": {
   "display_name": "Python 3",
   "language": "python",
   "name": "python3"
  },
  "language_info": {
   "codemirror_mode": {
    "name": "ipython",
    "version": 3
   },
   "file_extension": ".py",
   "mimetype": "text/x-python",
   "name": "python",
   "nbconvert_exporter": "python",
   "pygments_lexer": "ipython3",
   "version": "3.7.4"
  }
 },
 "nbformat": 4,
 "nbformat_minor": 1
}
