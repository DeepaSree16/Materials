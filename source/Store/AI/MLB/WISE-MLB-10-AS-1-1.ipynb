{
 "cells": [
  {
   "cell_type": "markdown",
   "metadata": {
    "colab_type": "text",
    "id": "OmNWAaNZiy17"
   },
   "source": [
    "# TalentSprint"
   ]
  },
  {
   "cell_type": "markdown",
   "metadata": {
    "colab_type": "text",
    "id": "EDGyBKEdi06e"
   },
   "source": [
    "## Objectives\n",
    "\n",
    "At the end of the experiment, you will be able to\n",
    "\n",
    "* understand K-means\n",
    "* apply K-means on any dataset to extract meaningful insights from it"
   ]
  },
  {
   "cell_type": "markdown",
   "metadata": {
    "colab_type": "text",
    "id": "R1a6_4W-jGST"
   },
   "source": [
    "## Dataset\n",
    "\n",
    "The dataset choosen for this experiment is Mice Protein Expression. The data set consists of the expression levels of 77 proteins/protein modifications that produced detectable signals in the nuclear fraction of cortex. There are 38 control mice and 34 trisomic mice (Down syndrome), for a total of 72 mice. In the experiments, 15 measurements were registered of each protein per sample/mouse. "
   ]
  },
  {
   "cell_type": "markdown",
   "metadata": {
    "colab_type": "text",
    "id": "y9SAo_HXjjw3"
   },
   "source": [
    "**Exercise 1**\n",
    "\n",
    "Import libraries"
   ]
  },
  {
   "cell_type": "code",
   "execution_count": null,
   "metadata": {
    "colab": {},
    "colab_type": "code",
    "id": "smFu6IsWiv0n"
   },
   "outputs": [],
   "source": [
    "# Your code Here"
   ]
  },
  {
   "cell_type": "markdown",
   "metadata": {
    "colab_type": "text",
    "id": "FFAO6_rCjqUE"
   },
   "source": [
    "**Exercise 2**\n",
    "\n",
    "Load the dataset"
   ]
  },
  {
   "cell_type": "code",
   "execution_count": null,
   "metadata": {
    "colab": {},
    "colab_type": "code",
    "id": "w-oCCr_UjtQv"
   },
   "outputs": [],
   "source": [
    "# Your code Here"
   ]
  },
  {
   "cell_type": "markdown",
   "metadata": {
    "colab_type": "text",
    "id": "Htt3Rfq7ju49"
   },
   "source": [
    "**Exercise 3**\n",
    "\n",
    "Apply K-means on the dataset"
   ]
  },
  {
   "cell_type": "code",
   "execution_count": null,
   "metadata": {
    "colab": {},
    "colab_type": "code",
    "id": "CMu6GJdhjz5K"
   },
   "outputs": [],
   "source": [
    "# Your code Here"
   ]
  }
 ],
 "metadata": {
  "colab": {
   "name": "Kmeans_MiceProtein.ipynb",
   "provenance": []
  },
  "kernelspec": {
   "display_name": "Python 3",
   "language": "python",
   "name": "python3"
  },
  "language_info": {
   "codemirror_mode": {
    "name": "ipython",
    "version": 3
   },
   "file_extension": ".py",
   "mimetype": "text/x-python",
   "name": "python",
   "nbconvert_exporter": "python",
   "pygments_lexer": "ipython3",
   "version": "3.8.5"
  }
 },
 "nbformat": 4,
 "nbformat_minor": 1
}
