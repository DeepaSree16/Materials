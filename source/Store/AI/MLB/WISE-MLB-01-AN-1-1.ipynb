{
  "nbformat": 4,
  "nbformat_minor": 0,
  "metadata": {
    "colab": {
      "name": "Iris_DT.ipynb",
      "provenance": []
    },
    "kernelspec": {
      "name": "python3",
      "display_name": "Python 3"
    }
  },
  "cells": [
    {
      "cell_type": "markdown",
      "metadata": {
        "id": "XYK5FPkyfYMc",
        "colab_type": "text"
      },
      "source": [
        "# TalentSprint"
      ]
    },
    {
      "cell_type": "markdown",
      "metadata": {
        "id": "K3IbNegvfjLq",
        "colab_type": "text"
      },
      "source": [
        "## Objectives"
      ]
    },
    {
      "cell_type": "markdown",
      "metadata": {
        "id": "tERTUDGCflJY",
        "colab_type": "text"
      },
      "source": [
        "At the end of this experiment, you will be able to\n",
        "\n",
        "* understand decision tree algorithm\n",
        "* apply decision tree on any dataset to derive meaningful insights from it\n",
        "* understand famous iris dataset"
      ]
    },
    {
      "cell_type": "markdown",
      "metadata": {
        "id": "G4MTqpKBgAYB",
        "colab_type": "text"
      },
      "source": [
        "## Dataset"
      ]
    },
    {
      "cell_type": "markdown",
      "metadata": {
        "id": "KWPsu2GtgYHm",
        "colab_type": "text"
      },
      "source": [
        "The dataset choosen for this experiment is iris dataset. The dataset contains 150 samples and 5 columns. **species** column is a target variable"
      ]
    },
    {
      "cell_type": "markdown",
      "metadata": {
        "id": "Pu-vSAiwheKq",
        "colab_type": "text"
      },
      "source": [
        "**Importing Necessary Libraries**"
      ]
    },
    {
      "cell_type": "code",
      "metadata": {
        "id": "Q3qM2lRNfVoE",
        "colab_type": "code",
        "colab": {}
      },
      "source": [
        "import pandas as pd\n",
        "import matplotlib.pyplot as plt\n",
        "from sklearn.tree import DecisionTreeClassifier\n",
        "from sklearn.tree import export_graphviz\n",
        "from sklearn.model_selection import train_test_split\n",
        "import pydotplus"
      ],
      "execution_count": null,
      "outputs": []
    },
    {
      "cell_type": "markdown",
      "metadata": {
        "id": "JdmAJwNji9mV",
        "colab_type": "text"
      },
      "source": [
        "**Function to convert categorical data into numeric**"
      ]
    },
    {
      "cell_type": "code",
      "metadata": {
        "id": "_DFPrJUTiNda",
        "colab_type": "code",
        "colab": {}
      },
      "source": [
        "def converter(s):\n",
        "  s = s.lower()\n",
        "  if s == 'iris-setosa':\n",
        "    return 0\n",
        "  elif s == 'iris-versicolor':\n",
        "    return 1\n",
        "  elif s == 'iris-virginica':\n",
        "    return 2\n",
        "  else:\n",
        "    return -1"
      ],
      "execution_count": null,
      "outputs": []
    },
    {
      "cell_type": "markdown",
      "metadata": {
        "id": "BqWtDHLWjElv",
        "colab_type": "text"
      },
      "source": [
        "**Loading the dataset**"
      ]
    },
    {
      "cell_type": "code",
      "metadata": {
        "id": "aNLYLXF7hLbJ",
        "colab_type": "code",
        "colab": {}
      },
      "source": [
        "data = pd.read_csv(\"IRIS.csv\", converters={\"species\":converter})"
      ],
      "execution_count": null,
      "outputs": []
    },
    {
      "cell_type": "code",
      "metadata": {
        "id": "76_cPUpghvqe",
        "colab_type": "code",
        "colab": {}
      },
      "source": [
        "data.shape"
      ],
      "execution_count": null,
      "outputs": []
    },
    {
      "cell_type": "code",
      "metadata": {
        "id": "8eOdiU58hyFi",
        "colab_type": "code",
        "colab": {}
      },
      "source": [
        "data.head()"
      ],
      "execution_count": null,
      "outputs": []
    },
    {
      "cell_type": "code",
      "metadata": {
        "id": "4FjWOspKjQAm",
        "colab_type": "code",
        "colab": {}
      },
      "source": [
        "features = data[['sepal_length', 'sepal_width', 'petal_length', 'petal_width']]\n",
        "labels = data[\"species\"]"
      ],
      "execution_count": null,
      "outputs": []
    },
    {
      "cell_type": "markdown",
      "metadata": {
        "id": "Nos7u085kCqU",
        "colab_type": "text"
      },
      "source": [
        "**Splitting the dataset into train and test sets**"
      ]
    },
    {
      "cell_type": "code",
      "metadata": {
        "id": "z8dVm2ojj_FQ",
        "colab_type": "code",
        "colab": {}
      },
      "source": [
        "X_train, X_test, y_train, y_test = train_test_split(features,labels,test_size=0.3)"
      ],
      "execution_count": null,
      "outputs": []
    },
    {
      "cell_type": "markdown",
      "metadata": {
        "id": "-SRaoOV0kXR6",
        "colab_type": "text"
      },
      "source": [
        "**Decision Tree**"
      ]
    },
    {
      "cell_type": "code",
      "metadata": {
        "id": "JERa8V0akSTh",
        "colab_type": "code",
        "colab": {}
      },
      "source": [
        "model = DecisionTreeClassifier(criterion=\"entropy\", max_depth=3, random_state=42)\n",
        "model.fit(X_train, y_train)"
      ],
      "execution_count": null,
      "outputs": []
    },
    {
      "cell_type": "code",
      "metadata": {
        "id": "FOh5N7xdkbf4",
        "colab_type": "code",
        "colab": {}
      },
      "source": [
        "model.predict(X_test)"
      ],
      "execution_count": null,
      "outputs": []
    },
    {
      "cell_type": "code",
      "metadata": {
        "id": "Kc0FV3_FnVDw",
        "colab_type": "code",
        "colab": {}
      },
      "source": [
        "import graphviz\n",
        "from sklearn import tree\n",
        "# DOT data\n",
        "dot_data = tree.export_graphviz(model, out_file=None, \n",
        "                                feature_names=['sepal_length', 'sepal_width', 'petal_length', 'petal_width'],  \n",
        "                                class_names=\"species\",\n",
        "                                filled=True)\n",
        "\n",
        "# Draw graph\n",
        "graph = graphviz.Source(dot_data, format=\"png\") \n",
        "graph"
      ],
      "execution_count": null,
      "outputs": []
    }
  ]
}