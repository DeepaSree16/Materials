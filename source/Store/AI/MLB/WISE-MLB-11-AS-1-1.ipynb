{
  "nbformat": 4,
  "nbformat_minor": 0,
  "metadata": {
    "colab": {
      "name": "Hierarchical_MiceProtein.ipynb",
      "provenance": []
    },
    "kernelspec": {
      "name": "python3",
      "display_name": "Python 3"
    }
  },
  "cells": [
    {
      "cell_type": "markdown",
      "metadata": {
        "id": "OmNWAaNZiy17",
        "colab_type": "text"
      },
      "source": [
        "# TalentSprint"
      ]
    },
    {
      "cell_type": "markdown",
      "metadata": {
        "id": "EDGyBKEdi06e",
        "colab_type": "text"
      },
      "source": [
        "## Objectives\n",
        "\n",
        "At the end of the experiment, you will be able to\n",
        "\n",
        "* understand Hierarchical Clustering algorithm\n",
        "* apply Hierarchical Clustering algorithm on any dataset to extract meaningful insights from it"
      ]
    },
    {
      "cell_type": "markdown",
      "metadata": {
        "id": "R1a6_4W-jGST",
        "colab_type": "text"
      },
      "source": [
        "## Dataset\n",
        "\n",
        "The dataset choosen for this experiment is Mice Protein Expression. The data set consists of the expression levels of 77 proteins/protein modifications that produced detectable signals in the nuclear fraction of cortex. There are 38 control mice and 34 trisomic mice (Down syndrome), for a total of 72 mice. In the experiments, 15 measurements were registered of each protein per sample/mouse. "
      ]
    },
    {
      "cell_type": "markdown",
      "metadata": {
        "id": "y9SAo_HXjjw3",
        "colab_type": "text"
      },
      "source": [
        "**Exercise 1**\n",
        "\n",
        "Import libraries"
      ]
    },
    {
      "cell_type": "code",
      "metadata": {
        "id": "smFu6IsWiv0n",
        "colab_type": "code",
        "colab": {}
      },
      "source": [
        "# Your code Here"
      ],
      "execution_count": null,
      "outputs": []
    },
    {
      "cell_type": "markdown",
      "metadata": {
        "id": "FFAO6_rCjqUE",
        "colab_type": "text"
      },
      "source": [
        "**Exercise 2**\n",
        "\n",
        "Load the dataset"
      ]
    },
    {
      "cell_type": "code",
      "metadata": {
        "id": "w-oCCr_UjtQv",
        "colab_type": "code",
        "colab": {}
      },
      "source": [
        "# Your code Here"
      ],
      "execution_count": null,
      "outputs": []
    },
    {
      "cell_type": "markdown",
      "metadata": {
        "id": "Htt3Rfq7ju49",
        "colab_type": "text"
      },
      "source": [
        "**Exercise 3**\n",
        "\n",
        "Apply Hierarchical Clustering on the dataset"
      ]
    },
    {
      "cell_type": "code",
      "metadata": {
        "id": "CMu6GJdhjz5K",
        "colab_type": "code",
        "colab": {}
      },
      "source": [
        "# Your code Here"
      ],
      "execution_count": null,
      "outputs": []
    },
    {
      "cell_type": "markdown",
      "metadata": {
        "id": "M31Zl-bekWki",
        "colab_type": "text"
      },
      "source": [
        "**Exercise 4**\n",
        "\n",
        "Plot the dendogram"
      ]
    },
    {
      "cell_type": "code",
      "metadata": {
        "id": "6kDi5PvHkZxV",
        "colab_type": "code",
        "colab": {}
      },
      "source": [
        "# Your code here"
      ],
      "execution_count": null,
      "outputs": []
    }
  ]
}