{
  "nbformat": 4,
  "nbformat_minor": 0,
  "metadata": {
    "colab": {
      "name": "AprioriAlgorithm.ipynb",
      "provenance": [],
      "collapsed_sections": [],
      "machine_shape": "hm"
    },
    "kernelspec": {
      "name": "python3",
      "display_name": "Python 3"
    }
  },
  "cells": [
    {
      "cell_type": "markdown",
      "metadata": {
        "id": "HTQGrKUsv7e1",
        "colab_type": "text"
      },
      "source": [
        "# TalentSprint"
      ]
    },
    {
      "cell_type": "markdown",
      "metadata": {
        "id": "4qKohTfmv-l9",
        "colab_type": "text"
      },
      "source": [
        "## Objective\n",
        "\n",
        "At the end of the experiment you will be able to\n",
        "\n",
        "* derive the relationships between different items in the dataset\n",
        "* uderstand and apply apriori algorithm to find association rules"
      ]
    },
    {
      "cell_type": "markdown",
      "metadata": {
        "id": "ft589Ic9wtgr",
        "colab_type": "text"
      },
      "source": [
        "## Dataset\n",
        "\n",
        "For this experiment we will be using foods dataset. The dataset is made of 100 samples."
      ]
    },
    {
      "cell_type": "markdown",
      "metadata": {
        "id": "eghxK6vGxG8e",
        "colab_type": "text"
      },
      "source": [
        "Before starting the experiment run the below command to install apyori package.\n",
        "\n",
        "!pip install apyori"
      ]
    },
    {
      "cell_type": "markdown",
      "metadata": {
        "id": "hiUhBKTLxuQ7",
        "colab_type": "text"
      },
      "source": [
        "Importing necessary libraries"
      ]
    },
    {
      "cell_type": "code",
      "metadata": {
        "id": "yP55VJdnDQl6",
        "colab_type": "code",
        "colab": {}
      },
      "source": [
        "import numpy as np\n",
        "import matplotlib.pyplot as plt\n",
        "import pandas as pd\n",
        "from apyori import apriori"
      ],
      "execution_count": 0,
      "outputs": []
    },
    {
      "cell_type": "markdown",
      "metadata": {
        "id": "z7nlPvQ-xyLE",
        "colab_type": "text"
      },
      "source": [
        "### Exercise 1\n",
        "\n",
        "Load the dataset"
      ]
    },
    {
      "cell_type": "code",
      "metadata": {
        "id": "4aRjZLmAyDr-",
        "colab_type": "code",
        "colab": {}
      },
      "source": [
        "# YOUR CODE HERE"
      ],
      "execution_count": 0,
      "outputs": []
    },
    {
      "cell_type": "markdown",
      "metadata": {
        "id": "xTufwEYvyGXw",
        "colab_type": "text"
      },
      "source": [
        "### Exercise 2\n",
        "\n",
        "Display first 20 entries from the dataset"
      ]
    },
    {
      "cell_type": "code",
      "metadata": {
        "id": "p78G_2yPyutv",
        "colab_type": "code",
        "colab": {}
      },
      "source": [
        "# YOUR CODE HERE"
      ],
      "execution_count": 0,
      "outputs": []
    },
    {
      "cell_type": "markdown",
      "metadata": {
        "id": "6iQ7pUuQyR6V",
        "colab_type": "text"
      },
      "source": [
        "### Exercise 3\n",
        "\n",
        "Store the values of dataframe as array in a variable named *items*"
      ]
    },
    {
      "cell_type": "code",
      "metadata": {
        "id": "q7k48xk4Hxae",
        "colab_type": "code",
        "colab": {}
      },
      "source": [
        "# YOUR CODE HERE"
      ],
      "execution_count": 0,
      "outputs": []
    },
    {
      "cell_type": "markdown",
      "metadata": {
        "id": "eFW3dM0bybvu",
        "colab_type": "text"
      },
      "source": [
        "### Exercise 4\n",
        "\n",
        "Apply apriori algorithm on the dataset to derive relationships between items in the dataset"
      ]
    },
    {
      "cell_type": "code",
      "metadata": {
        "id": "P4oWYK5RLYJh",
        "colab_type": "code",
        "colab": {}
      },
      "source": [
        "# YOUR CODE HERE"
      ],
      "execution_count": 0,
      "outputs": []
    },
    {
      "cell_type": "markdown",
      "metadata": {
        "id": "bHvC-yGdymK0",
        "colab_type": "text"
      },
      "source": [
        "### Exercise 5\n",
        "\n",
        "Display all association rules and it's measure values"
      ]
    },
    {
      "cell_type": "code",
      "metadata": {
        "id": "uZ8LUGWVytPp",
        "colab_type": "code",
        "colab": {}
      },
      "source": [
        "# YOUR CODE HERE"
      ],
      "execution_count": 0,
      "outputs": []
    }
  ]
}