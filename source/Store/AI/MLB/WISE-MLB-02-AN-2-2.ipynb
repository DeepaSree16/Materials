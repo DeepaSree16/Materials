{
 "cells": [
  {
   "cell_type": "markdown",
   "metadata": {
    "colab_type": "text",
    "id": "ckXNa3sEpp9u"
   },
   "source": [
    "# TalentSprint"
   ]
  },
  {
   "cell_type": "markdown",
   "metadata": {
    "colab_type": "text",
    "id": "6WV1WsGfptxH"
   },
   "source": [
    "## Objective"
   ]
  },
  {
   "cell_type": "markdown",
   "metadata": {
    "colab_type": "text",
    "id": "JYDp6kPKpv3V"
   },
   "source": [
    "At the end of the experiment, you will be able to\n",
    "\n",
    "* understand Bag of words\n",
    "* apply Bag of words on any dataset to extract meaningful insights from the dataset"
   ]
  },
  {
   "cell_type": "markdown",
   "metadata": {
    "colab_type": "text",
    "id": "yZVluDd2p9OC"
   },
   "source": [
    "## Dataset"
   ]
  },
  {
   "cell_type": "markdown",
   "metadata": {
    "colab_type": "text",
    "id": "-BDDNLPIp_cQ"
   },
   "source": [
    "The dataset choosen for this experiment is McDonalds review dataset. The dataset contains 1525 samples and two columns."
   ]
  },
  {
   "cell_type": "markdown",
   "metadata": {
    "colab_type": "text",
    "id": "YEEc1gvEqInX"
   },
   "source": [
    "**Importing Necessary Libraries**"
   ]
  },
  {
   "cell_type": "code",
   "execution_count": 33,
   "metadata": {
    "colab": {},
    "colab_type": "code",
    "id": "O9g2k8bYps5T"
   },
   "outputs": [],
   "source": [
    "import pandas as pd\n",
    "import numpy as np\n",
    "import matplotlib.pyplot as plt\n",
    "import re\n",
    "import string\n",
    "from sklearn.feature_extraction.text import CountVectorizer"
   ]
  },
  {
   "cell_type": "code",
   "execution_count": 34,
   "metadata": {
    "colab": {},
    "colab_type": "code",
    "id": "gqLMoQERqXnF"
   },
   "outputs": [],
   "source": [
    "data = pd.read_csv(\"McDonalds-Yelp-Sentiment-DFE.csv\", encoding='latin')"
   ]
  },
  {
   "cell_type": "code",
   "execution_count": 35,
   "metadata": {},
   "outputs": [
    {
     "name": "stdout",
     "output_type": "stream",
     "text": [
      "<class 'pandas.core.frame.DataFrame'>\n",
      "RangeIndex: 1525 entries, 0 to 1524\n",
      "Data columns (total 10 columns):\n",
      " #   Column                        Non-Null Count  Dtype  \n",
      "---  ------                        --------------  -----  \n",
      " 0   _unit_id                      1525 non-null   int64  \n",
      " 1   _golden                       1525 non-null   bool   \n",
      " 2   _unit_state                   1525 non-null   object \n",
      " 3   _trusted_judgments            1525 non-null   int64  \n",
      " 4   _last_judgment_at             1525 non-null   object \n",
      " 5   policies_violated             1471 non-null   object \n",
      " 6   policies_violated:confidence  1471 non-null   object \n",
      " 7   city                          1438 non-null   object \n",
      " 8   policies_violated_gold        0 non-null      float64\n",
      " 9   review                        1525 non-null   object \n",
      "dtypes: bool(1), float64(1), int64(2), object(6)\n",
      "memory usage: 108.8+ KB\n"
     ]
    }
   ],
   "source": [
    "data.info() "
   ]
  },
  {
   "cell_type": "code",
   "execution_count": 36,
   "metadata": {
    "colab": {
     "base_uri": "https://localhost:8080/",
     "height": 35
    },
    "colab_type": "code",
    "id": "Vs9wvMbtqhJ4",
    "outputId": "9e83d0fb-322d-4868-b05f-b081b813a3ee"
   },
   "outputs": [],
   "source": [
    "data = data[['city', 'review']]"
   ]
  },
  {
   "cell_type": "code",
   "execution_count": 37,
   "metadata": {
    "colab": {
     "base_uri": "https://localhost:8080/",
     "height": 35
    },
    "colab_type": "code",
    "id": "Js2C5aF1qih0",
    "outputId": "6b1eb7a4-c36a-4d14-c5ae-ba7e6bb63041"
   },
   "outputs": [
    {
     "data": {
      "text/plain": [
       "Index(['city', 'review'], dtype='object')"
      ]
     },
     "execution_count": 37,
     "metadata": {},
     "output_type": "execute_result"
    }
   ],
   "source": [
    "data.columns"
   ]
  },
  {
   "cell_type": "code",
   "execution_count": 38,
   "metadata": {},
   "outputs": [
    {
     "data": {
      "text/plain": [
       "(1525, 2)"
      ]
     },
     "execution_count": 38,
     "metadata": {},
     "output_type": "execute_result"
    }
   ],
   "source": [
    "data.shape"
   ]
  },
  {
   "cell_type": "markdown",
   "metadata": {
    "colab_type": "text",
    "id": "y1xI5vm0rAPk"
   },
   "source": [
    "**Removing unwanted columns**"
   ]
  },
  {
   "cell_type": "code",
   "execution_count": 11,
   "metadata": {
    "colab": {
     "base_uri": "https://localhost:8080/",
     "height": 204
    },
    "colab_type": "code",
    "id": "WKxN4jspq6LN",
    "outputId": "cb51d9e3-2131-4760-f5b0-dee4591eecf2"
   },
   "outputs": [
    {
     "data": {
      "text/html": [
       "<div>\n",
       "<style scoped>\n",
       "    .dataframe tbody tr th:only-of-type {\n",
       "        vertical-align: middle;\n",
       "    }\n",
       "\n",
       "    .dataframe tbody tr th {\n",
       "        vertical-align: top;\n",
       "    }\n",
       "\n",
       "    .dataframe thead th {\n",
       "        text-align: right;\n",
       "    }\n",
       "</style>\n",
       "<table border=\"1\" class=\"dataframe\">\n",
       "  <thead>\n",
       "    <tr style=\"text-align: right;\">\n",
       "      <th></th>\n",
       "      <th>city</th>\n",
       "      <th>review</th>\n",
       "    </tr>\n",
       "  </thead>\n",
       "  <tbody>\n",
       "    <tr>\n",
       "      <th>0</th>\n",
       "      <td>Atlanta</td>\n",
       "      <td>I'm not a huge mcds lover, but I've been to be...</td>\n",
       "    </tr>\n",
       "    <tr>\n",
       "      <th>1</th>\n",
       "      <td>Atlanta</td>\n",
       "      <td>Terrible customer service. Î¾I came in at 9:30...</td>\n",
       "    </tr>\n",
       "    <tr>\n",
       "      <th>2</th>\n",
       "      <td>Atlanta</td>\n",
       "      <td>First they \"lost\" my order, actually they gave...</td>\n",
       "    </tr>\n",
       "    <tr>\n",
       "      <th>3</th>\n",
       "      <td>Atlanta</td>\n",
       "      <td>I see I'm not the only one giving 1 star. Only...</td>\n",
       "    </tr>\n",
       "    <tr>\n",
       "      <th>4</th>\n",
       "      <td>Atlanta</td>\n",
       "      <td>Well, it's McDonald's, so you know what the fo...</td>\n",
       "    </tr>\n",
       "  </tbody>\n",
       "</table>\n",
       "</div>"
      ],
      "text/plain": [
       "      city                                             review\n",
       "0  Atlanta  I'm not a huge mcds lover, but I've been to be...\n",
       "1  Atlanta  Terrible customer service. Î¾I came in at 9:30...\n",
       "2  Atlanta  First they \"lost\" my order, actually they gave...\n",
       "3  Atlanta  I see I'm not the only one giving 1 star. Only...\n",
       "4  Atlanta  Well, it's McDonald's, so you know what the fo..."
      ]
     },
     "execution_count": 11,
     "metadata": {},
     "output_type": "execute_result"
    }
   ],
   "source": [
    "data.head()"
   ]
  },
  {
   "cell_type": "code",
   "execution_count": 39,
   "metadata": {
    "colab": {},
    "colab_type": "code",
    "id": "5Qb35-V1q91u"
   },
   "outputs": [],
   "source": [
    "reviews = data[\"review\"]"
   ]
  },
  {
   "cell_type": "code",
   "execution_count": 41,
   "metadata": {},
   "outputs": [
    {
     "data": {
      "text/plain": [
       "'Terrible customer service. Î¾I came in at 9:30pm and stood in front of the register and no one bothered to say anything or help me for 5 minutes. Î¾There was no one else waiting for their food inside either, just outside at the window. Î¾ I left and went to Chickfila next door and was greeted before I was all the way inside. This McDonalds is also dirty, the floor was covered with dropped food. Obviously filled with surly and unhappy workers.'"
      ]
     },
     "execution_count": 41,
     "metadata": {},
     "output_type": "execute_result"
    }
   ],
   "source": [
    "reviews[1]"
   ]
  },
  {
   "cell_type": "markdown",
   "metadata": {
    "colab_type": "text",
    "id": "7_JVJPxerQi3"
   },
   "source": [
    "**Pre-processing**"
   ]
  },
  {
   "cell_type": "code",
   "execution_count": 42,
   "metadata": {
    "colab": {},
    "colab_type": "code",
    "id": "tDOHRetArbtr"
   },
   "outputs": [],
   "source": [
    "#start replaceTwoOrMore\n",
    "def replaceTwoOrMore(s):\n",
    "    #look for 2 or more repetitions of character and replace with the character itself\n",
    "    pattern = re.compile(r\"(.)\\1{1,}\", re.DOTALL)\n",
    "    return pattern.sub(r\"\\1\\1\", s)"
   ]
  },
  {
   "cell_type": "code",
   "execution_count": 43,
   "metadata": {
    "colab": {},
    "colab_type": "code",
    "id": "C1pZ2VRQrOkR"
   },
   "outputs": [],
   "source": [
    "#start process_review\n",
    "def processReview(review):\n",
    "    #Convert to lower case\n",
    "    review = review.lower()\n",
    "    review = review.translate(str.maketrans('', '', string.punctuation))\n",
    "    # Removing numbers\n",
    "    review = re.sub('[0-9]', '', review) \n",
    "    #Remove additional white spaces\n",
    "    review = re.sub('[\\s]+', ' ', review)\n",
    "    #Replace #word with word\n",
    "    review = re.sub(r'#([^\\s]+)', r'\\1', review)\n",
    "    #trim\n",
    "    review = review.strip('\\'\"')\n",
    "    review = review.strip('.,')\n",
    "    review = replaceTwoOrMore(review)\n",
    "    return review"
   ]
  },
  {
   "cell_type": "code",
   "execution_count": 44,
   "metadata": {
    "colab": {},
    "colab_type": "code",
    "id": "cwkAPW_zrfjY"
   },
   "outputs": [],
   "source": [
    "processedReviews = []\n",
    "for review in reviews:\n",
    "  processedReviews.append(processReview(review))"
   ]
  },
  {
   "cell_type": "code",
   "execution_count": 47,
   "metadata": {},
   "outputs": [
    {
     "name": "stdout",
     "output_type": "stream",
     "text": [
      "terrible customer service î¾i came in at pm and stood in front of the register and no one bothered to say anything or help me for minutes î¾there was no one else waiting for their food inside either just outside at the window î¾ i left and went to chickfila next door and was greeted before i was all the way inside this mcdonalds is also dirty the floor was covered with dropped food obviously filled with surly and unhappy workers\n"
     ]
    }
   ],
   "source": [
    "print(processedReviews[1])"
   ]
  },
  {
   "cell_type": "markdown",
   "metadata": {
    "colab_type": "text",
    "id": "DZBpYgy3WxDT"
   },
   "source": [
    "**Bow using sklearn**"
   ]
  },
  {
   "cell_type": "code",
   "execution_count": 48,
   "metadata": {
    "colab": {},
    "colab_type": "code",
    "id": "IqDe861rWa5g"
   },
   "outputs": [],
   "source": [
    "vectorizer = CountVectorizer()\n",
    "featurevector = vectorizer.fit_transform(processedReviews).todense()"
   ]
  },
  {
   "cell_type": "code",
   "execution_count": 57,
   "metadata": {
    "colab": {
     "base_uri": "https://localhost:8080/",
     "height": 55
    },
    "colab_type": "code",
    "id": "J-c_4DeMW_hR",
    "outputId": "0e3ee709-0ffb-4429-87ea-cfaa0c4b4eff"
   },
   "outputs": [
    {
     "name": "stdout",
     "output_type": "stream",
     "text": [
      "10041\n"
     ]
    }
   ],
   "source": [
    "print(len(vectorizer.vocabulary_))"
   ]
  },
  {
   "cell_type": "code",
   "execution_count": 54,
   "metadata": {},
   "outputs": [
    {
     "data": {
      "text/plain": [
       "matrix([[0, 0, 0, ..., 0, 0, 0]])"
      ]
     },
     "execution_count": 54,
     "metadata": {},
     "output_type": "execute_result"
    }
   ],
   "source": [
    "featurevector[0]"
   ]
  },
  {
   "cell_type": "markdown",
   "metadata": {
    "colab_type": "text",
    "id": "yjZUnczqX8Lb"
   },
   "source": [
    "**Bow of words without using sklearn**"
   ]
  },
  {
   "cell_type": "code",
   "execution_count": 55,
   "metadata": {
    "colab": {},
    "colab_type": "code",
    "id": "_EfKughXXMnU"
   },
   "outputs": [],
   "source": [
    "# Building vocabulary\n",
    "\n",
    "vocabulary = set()\n",
    "for review in processedReviews:\n",
    "  for word in review.split():\n",
    "    vocabulary.add(word)"
   ]
  },
  {
   "cell_type": "code",
   "execution_count": 59,
   "metadata": {},
   "outputs": [
    {
     "data": {
      "text/plain": [
       "10064"
      ]
     },
     "execution_count": 59,
     "metadata": {},
     "output_type": "execute_result"
    }
   ],
   "source": [
    "len(vocabulary)"
   ]
  },
  {
   "cell_type": "code",
   "execution_count": 60,
   "metadata": {
    "colab": {},
    "colab_type": "code",
    "id": "nFSsFzs4YJlF"
   },
   "outputs": [],
   "source": [
    "def bagofwords(sentence, words):\n",
    "    # frequency word count\n",
    "    bag = np.zeros(len(words))\n",
    "    for sw in sentence:\n",
    "        for i,word in enumerate(words):\n",
    "            if word == sw: \n",
    "                bag[i] += 1\n",
    "                \n",
    "    return np.array(bag)"
   ]
  },
  {
   "cell_type": "code",
   "execution_count": 65,
   "metadata": {
    "colab": {
     "base_uri": "https://localhost:8080/",
     "height": 71
    },
    "colab_type": "code",
    "id": "ZKAb2ftSYQqw",
    "outputId": "9e60cd3a-d77b-4bb5-d44b-46679ea9cde8"
   },
   "outputs": [
    {
     "name": "stdout",
     "output_type": "stream",
     "text": [
      "[0. 0. 0. ... 0. 0. 0.]\n"
     ]
    }
   ],
   "source": [
    "print(bagofwords(processedReviews[1500], vocabulary))"
   ]
  },
  {
   "cell_type": "code",
   "execution_count": null,
   "metadata": {
    "colab": {},
    "colab_type": "code",
    "id": "EIC9CkdlYVTP"
   },
   "outputs": [],
   "source": []
  }
 ],
 "metadata": {
  "colab": {
   "name": "McDonalds_BoW.ipynb",
   "provenance": []
  },
  "kernelspec": {
   "display_name": "Python 3",
   "language": "python",
   "name": "python3"
  },
  "language_info": {
   "codemirror_mode": {
    "name": "ipython",
    "version": 3
   },
   "file_extension": ".py",
   "mimetype": "text/x-python",
   "name": "python",
   "nbconvert_exporter": "python",
   "pygments_lexer": "ipython3",
   "version": "3.7.4"
  }
 },
 "nbformat": 4,
 "nbformat_minor": 1
}
