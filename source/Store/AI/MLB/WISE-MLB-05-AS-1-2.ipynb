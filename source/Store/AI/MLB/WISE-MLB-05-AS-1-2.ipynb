{
  "nbformat": 4,
  "nbformat_minor": 0,
  "metadata": {
    "colab": {
      "name": "Speeches_Ngrams.ipynb",
      "provenance": [],
      "collapsed_sections": []
    },
    "kernelspec": {
      "name": "python3",
      "display_name": "Python 3"
    }
  },
  "cells": [
    {
      "cell_type": "markdown",
      "metadata": {
        "id": "Gp4xfxdaZd1Y",
        "colab_type": "text"
      },
      "source": [
        "# TalentSprint"
      ]
    },
    {
      "cell_type": "markdown",
      "metadata": {
        "id": "WQ9kouAXZfrU",
        "colab_type": "text"
      },
      "source": [
        "## Objective\n",
        "\n",
        "At the end of the experiment, you will be able to \n",
        "\n",
        "* understand n-grams\n",
        "* differentiate between n-grams, Bag of words, and word2vec"
      ]
    },
    {
      "cell_type": "markdown",
      "metadata": {
        "id": "rwg90-gaZpII",
        "colab_type": "text"
      },
      "source": [
        "## Dataset\n",
        "\n",
        "The dataset choosen for this experiment is presidential-commencement-speeches dataset. The data behind the story Sitting Presidents Give Way More Commencement Speeches Than They Used To, not including commencement speeches by President Obama in 2016"
      ]
    },
    {
      "cell_type": "markdown",
      "metadata": {
        "id": "6Ou_ZFVvZ6RH",
        "colab_type": "text"
      },
      "source": [
        "**Exercise 1**\n",
        "\n",
        "Import necessary libraries"
      ]
    },
    {
      "cell_type": "code",
      "metadata": {
        "id": "-kI9Q3NOZZ2N",
        "colab_type": "code",
        "colab": {}
      },
      "source": [
        "# Your code Here"
      ],
      "execution_count": null,
      "outputs": []
    },
    {
      "cell_type": "markdown",
      "metadata": {
        "id": "hjWj5PMgaAeJ",
        "colab_type": "text"
      },
      "source": [
        "**Exercise 2**\n",
        "\n",
        "Load the datset"
      ]
    },
    {
      "cell_type": "code",
      "metadata": {
        "id": "pzD9oW_9aEtO",
        "colab_type": "code",
        "colab": {}
      },
      "source": [
        "# Your code Here"
      ],
      "execution_count": null,
      "outputs": []
    },
    {
      "cell_type": "markdown",
      "metadata": {
        "id": "rTHHBPBoaGpa",
        "colab_type": "text"
      },
      "source": [
        "**Exercise 3**\n",
        "\n",
        "Pre-process the text"
      ]
    },
    {
      "cell_type": "code",
      "metadata": {
        "id": "D1bEmjeIaanc",
        "colab_type": "code",
        "colab": {}
      },
      "source": [
        "# Your code here"
      ],
      "execution_count": null,
      "outputs": []
    },
    {
      "cell_type": "markdown",
      "metadata": {
        "id": "QqO_iN46acps",
        "colab_type": "text"
      },
      "source": [
        "**Exercise 4**\n",
        "\n",
        "Remove stopwords from the text"
      ]
    },
    {
      "cell_type": "code",
      "metadata": {
        "id": "GOTNUDzTafvK",
        "colab_type": "code",
        "colab": {}
      },
      "source": [
        "# Your code  here"
      ],
      "execution_count": null,
      "outputs": []
    },
    {
      "cell_type": "markdown",
      "metadata": {
        "id": "5uRR69IJaifj",
        "colab_type": "text"
      },
      "source": [
        "**Exercise 5**\n",
        "\n",
        "Apply N-grams on the dataset"
      ]
    },
    {
      "cell_type": "code",
      "metadata": {
        "id": "zINt0oG3alYU",
        "colab_type": "code",
        "colab": {}
      },
      "source": [
        "# Your code here"
      ],
      "execution_count": null,
      "outputs": []
    },
    {
      "cell_type": "markdown",
      "metadata": {
        "id": "bbq3MmAZam8c",
        "colab_type": "text"
      },
      "source": [
        "**Exercise 6**\n",
        "\n",
        "Extract features from the dataset using Bow"
      ]
    },
    {
      "cell_type": "code",
      "metadata": {
        "id": "O5-iDJyUaq0H",
        "colab_type": "code",
        "colab": {}
      },
      "source": [
        "# Your code here"
      ],
      "execution_count": null,
      "outputs": []
    },
    {
      "cell_type": "markdown",
      "metadata": {
        "id": "078-0TYsaszW",
        "colab_type": "text"
      },
      "source": [
        "**Exercise 7**\n",
        "\n",
        "Extract features from the dataset using word2vec"
      ]
    },
    {
      "cell_type": "code",
      "metadata": {
        "id": "OVLmmJlfaw2T",
        "colab_type": "code",
        "colab": {}
      },
      "source": [
        "# Your code here"
      ],
      "execution_count": null,
      "outputs": []
    },
    {
      "cell_type": "markdown",
      "metadata": {
        "id": "zpKtBjfsayTO",
        "colab_type": "text"
      },
      "source": [
        "**Exercise 8**\n",
        "\n",
        "What is the difference between n-grams, word2vec, and Bow according to you. Explain in two to three sentences"
      ]
    },
    {
      "cell_type": "code",
      "metadata": {
        "id": "n5SU1YDIbA-r",
        "colab_type": "code",
        "colab": {}
      },
      "source": [
        "# Your code here"
      ],
      "execution_count": null,
      "outputs": []
    }
  ]
}