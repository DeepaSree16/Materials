{
 "cells": [
  {
   "cell_type": "markdown",
   "metadata": {},
   "source": [
    "Web scraping, also called web data mining or web harvesting, is the process of constructing an agent which can extract, parse, download and organize useful information from the web automatically."
   ]
  },
  {
   "cell_type": "code",
   "execution_count": 27,
   "metadata": {},
   "outputs": [],
   "source": [
    "import requests # GET , POST , API CALLS\n",
    "from bs4 import BeautifulSoup # Parsing HTML tags and data"
   ]
  },
  {
   "cell_type": "code",
   "execution_count": 2,
   "metadata": {},
   "outputs": [],
   "source": [
    "base_url = \"https://inshorts.com/en/read\" "
   ]
  },
  {
   "cell_type": "code",
   "execution_count": 30,
   "metadata": {},
   "outputs": [
    {
     "data": {
      "text/plain": [
       "200"
      ]
     },
     "execution_count": 30,
     "metadata": {},
     "output_type": "execute_result"
    }
   ],
   "source": [
    "r1 = requests.get(base_url)\n",
    "r1.status_code"
   ]
  },
  {
   "cell_type": "code",
   "execution_count": 32,
   "metadata": {},
   "outputs": [
    {
     "data": {
      "text/plain": [
       "4"
      ]
     },
     "execution_count": 32,
     "metadata": {},
     "output_type": "execute_result"
    }
   ],
   "source": [
    "coverpage = r1.content # html bytestring\n",
    "soup = BeautifulSoup(coverpage, 'html5lib')\n",
    "soup # html parser"
   ]
  },
  {
   "cell_type": "code",
   "execution_count": 44,
   "metadata": {},
   "outputs": [
    {
     "data": {
      "text/plain": [
       "'Higher percentage of men drink in dry state of Bihar than in Maha: Survey'"
      ]
     },
     "execution_count": 44,
     "metadata": {},
     "output_type": "execute_result"
    }
   ],
   "source": [
    "titles = soup.find_all('div', {'class': 'news-card-title news-right-box'})"
   ]
  },
  {
   "cell_type": "code",
   "execution_count": 45,
   "metadata": {},
   "outputs": [
    {
     "data": {
      "text/plain": [
       "['Higher percentage of men drink in dry state of Bihar than in Maha: Survey',\n",
       " \"Who are the world's top 10 highest-paid celebrities as per Forbes? \",\n",
       " 'JEE (Main) 2021 dates to be announced by 6 pm today: Education Min',\n",
       " 'Kane Williamson and partner Sarah blessed with a baby girl, share 1st pic',\n",
       " \"'You are scared to fight me': YouTuber offers ₹370 cr to McGregor to box him \",\n",
       " \"Team India's playing XI announced a day before first Test against Australia\",\n",
       " 'Indian-American Raja Chari selected by NASA to fly to ISS on SpaceX mission',\n",
       " 'COVID-19 +ve Haryana minister Anil Vij shifted to Gurugram hospital',\n",
       " 'Bus collides with gas tanker amid fog in UP, 7 dead and 25 injured',\n",
       " 'Why is December 16 celebrated as Vijay Diwas? ',\n",
       " 'SC issues notice to Centre, states seeking removal of protesting farmers',\n",
       " 'Paris authorities fined over ₹80 lakh for having too many women in top jobs',\n",
       " 'Waking up every morning with my mother makes me happy: Sara on lockdown',\n",
       " 'Arjun Rampal seeks time till Dec 21 to appear before NCB in drugs case',\n",
       " \"Perfect role model but Virat's captaincy still work-in-progress: Laxman\",\n",
       " 'Creator of Google Wallet sells his startup for $365 mn to GoDaddy',\n",
       " 'Facebook to move UK users to California terms in Brexit response',\n",
       " 'Cong mayor candidate loses by 1 vote to BJP opponent in Kerala local body polls',\n",
       " 'Delhi to witness cold day, cold wave on Thursday and Friday: IMD',\n",
       " \"Three shot dead over land dispute at Haryana's Karnal\",\n",
       " \"Missing minor girl's skeleton recovered from construction site in Rajasthan\",\n",
       " \"Singapore investigates posts supporting Indian farmers' protest\",\n",
       " 'Yemen at highest risk of humanitarian catastrophe in 2021: IRC',\n",
       " \"Happy that 'lawless' Trump is leaving White House: Iran President\",\n",
       " 'Donald Trump still pursuing election litigation: White House']"
      ]
     },
     "execution_count": 45,
     "metadata": {},
     "output_type": "execute_result"
    }
   ],
   "source": [
    "titles_list = [title.find_all('span', {'itemprop': 'headline'})[0].get_text() for title in titles]\n",
    "titles_list"
   ]
  },
  {
   "cell_type": "code",
   "execution_count": 46,
   "metadata": {},
   "outputs": [
    {
     "data": {
      "text/plain": [
       "['A higher percentage of men drink in Bihar, a state under prohibition, than in Maharashtra, a National Family Health Survey 2019-20 revealed. In Bihar, 15.5% of men aged 15 and above consume alcohol, whereas, in Maharashtra, 13.9% of men aged 15 years and above consume alcohol. Gujarat and Jammu & Kashmir, in that order, have the least consumption of alcohol.',\n",
       " \"Kylie Jenner ($590 million earnings) has topped Forbes' list of 2020's 100 highest-paid celebrities. She's followed by her brother-in-law Kanye West ($170 million earnings). Roger Federer ($106.3 million), Cristiano Ronaldo ($105 million) and Lionel Messi ($104 million) made it to top 5. Others in top 10 include Neymar ($95.5 million), Howard Stern ($90 million) and Dwayne Johnson ($87.5 million).\",\n",
       " 'Union Education Minister Ramesh Pokhriyal on Wednesday said that the dates for the JEE (Main) 2021 entrance exam will be announced by 6 pm today. He thanked the students for their \"constructive suggestions\" on Twitter. He said the NTA has examined the suggestions and he will announce \"the schedule and the number of times the exam will be held\" today.',\n",
       " 'New Zealand captain Kane Williamson and his partner Sarah Raheem have been blessed with a baby girl, with Williamson announcing the news on Instagram today. Williamson shared a picture of himself with his newborn baby girl and wrote, \"Overjoyed to welcome a beautiful baby girl into our family.\" Williamson and Sarah have been a couple since at least late 2015.',\n",
       " 'YouTuber-turned-amateur boxer Jake Paul, in a rant posted on social media, challenged former UFC champion Conor McGregor and offered him $50 million (₹370 crore) to fight in a boxing match. \"My team sent you a $50 million offer...But, you\\'re scared to fight me, Conor! You\\'re ducking me because you don\\'t want to lose to a YouTuber,\" the 23-year-old said.',\n",
       " \"The BCCI on Wednesday announced Team India's playing XI for the first Test against Australia which will take place in Adelaide from Thursday. Prithvi Shaw has been chosen as Mayank Agarwal's opening partner over Shubman Gill, while Wriddhiman Saha has been picked as wicketkeeper ahead of Rishabh Pant. Jasprit Bumrah, Mohammad Shami and Umesh Yadav are the three pacers selected.\",\n",
       " \"Indian-American astronaut Raja Chari has been selected by NASA alongside two other astronauts to fly to the International Space Station (ISS) on SpaceX Crew-3 mission in 2021. It'll be the first spaceflight for Chari and Matthias Maurer, and the third for NASA astronaut Tom Marshburn. Raja Chari is the only Indian-American among 18 astronauts selected for NASA's Moon mission.\",\n",
       " 'Haryana minister Anil Vij, who had tested positive for COVID-19, was shifted to Medanta hospital in Gurugram from Rohtak\\'s Post Graduate Institute of Medical Sciences on Tuesday. A doctor said, \"The Health Minister has been diagnosed with COVID-19 pneumonia, leading to infection in lungs.\" Vij had got one shot of the two-dose trial of the COVID-19 vaccine Covaxin last month.',\n",
       " \"At least seven people were killed and 25 injured on Wednesday morning when a bus collided with a gas tanker in Uttar Pradesh's Sambhal district amid reduced visibility due to fog, police said. Sambhal SP Chakresh Mishra said that a rescue operation for some people still trapped inside bus is underway, adding that the number of fatalities could go up.\",\n",
       " 'Vijay Diwas is celebrated in India on December 16 to commemorate the victory of Indian armed forces over Pakistan in 1971 Indo-Pak War, also known as Bangladesh Liberation War. On December 16, 1971, chief of the Pakistani forces, General AAK Niazi, along with 93,000 troops, surrendered to Indian Army. This led to the subsequent secession of East Pakistan into Bangladesh.',\n",
       " \"Supreme Court (SC) on Wednesday issued notices to the Centre and states over pleas related to farmers' protest in the Delhi-NCR region. The pleas sought directions to the authorities to remove the farmers who are protesting at several border points of Delhi against Centre's three new farm laws. A three-judge bench granted permission to implead farmer organisations.\",\n",
       " 'France\\'s public service ministry has fined the Paris city authorities 90,000 euros (more than ₹80 lakh)  for employing too many women in senior positions in 2018. The city hall appointed 11 women and 5 men to top posts, breaching a law passed to maintain a gender balance. \"This fine is obviously absurd, unfair, irresponsible and dangerous,\" said Paris Mayor.',\n",
       " 'Sara Ali Khan said that COVID-19 lockdown made her realise that waking up every morning with her mother (Amrita Singh) makes her happy. \"Sitting at home for nine months can be difficult for someone as ambitious as me,\" she added. \"I used to have 500 things [to do], believing that [achieving them] will make me happy,\" Sara further said.',\n",
       " \"Actor Arjun Rampal has sought time till December 21 to appear before Narcotics Control Bureau (NCB) in a drug-related case. Arjun was summoned by the NCB on December 16 for questioning in connection with the case. NCB had raided Arjun's residence and seized medicines which are controlled substances covered under the Narcotic Drugs and Psychotropic Substances (NDPS) Act.\",\n",
       " 'Ex-India cricketer VVS Laxman said captain Virat Kohli leads by example but there is scope for improvement as far as his captaincy is concerned. \"He\\'s a perfect role model of how a captain should be. There\\'s still work-in-progress as far as captaincy is concerned,\" Laxman said. He added that he feels Virat does become little defensive, especially with field changes.',\n",
       " 'Google Wallet creator Osama Bedier, who left Google to pursue \"other opportunities\" in 2013, has sold his startup Poynt for $365 million to GoDaddy. Bedier, who is also Poynt\\'s CEO, will join the GoDaddy leadership team and lead a new commerce division. The transaction is expected to close in the first quarter of 2021, GoDaddy said on Tuesday.',\n",
       " 'Facebook will shift its United Kingdom users to user agreements with its corporate headquarters in California, moving them out of their current terms with Facebook\\'s Irish unit and Europe\\'s privacy laws. The change will take effect next year and follows a similar move by Google announced in February. \"Facebook has had to make changes to respond to Brexit,\" it said.',\n",
       " 'Congress mayoral candidate N Venugopal lost to BJP candidate by one vote in Kochi Corporation North Island ward in Kerala\\'s local body elections. \"There was problem with the voting machine. That may be reason for BJP\\'s victory,\" Venugopal said. \"I haven\\'t decided to go to court with the voting machine issue so far. Will check what happened exactly,\" he added. ',\n",
       " 'The India Meteorological Department (IMD) has predicted both cold day and cold wave in Delhi on Thursday and Friday. The minimum temperature is likely to remain around 5°C till Friday, as per the IMD. Delhi witnessed dense fog on Wednesday morning as the minimum temperature was 5.8°C. The visibility dropped to 100 metres in the Palam area, the IMD said. ',\n",
       " \"Three people were killed and one suffered bullet injuries after two groups exchanged fire over land dispute in Haryana's Karnal district on Wednesday. The groups were fighting over installation of electricity poles on a disputed land. Out of the three, two died on spot while one was declared dead at the hospital. Thirty people have been named as accused.\",\n",
       " \"The skeleton of a 16-year-old girl, who was missing since last two months, was discovered in an under-construction house in Sri Ganganagar district in Rajasthan on Tuesday. The body was discovered by one of the labourers working at the site. Victim's mother has filed a case against a young man, accusing him of luring and abducting her daughter.\",\n",
       " 'Singapore Police on Tuesday said it\\'s investigating posts on social media showing people gathering in support of Indian farmers in the country. The police added that they haven\\'t granted any permit \"for these cause-based assemblies\". \"Those who break the law will be dealt with firmly, and this may include termination of visa or work passes, where applicable,\" police further said.',\n",
       " 'International Rescue Committee (IRC) on Wednesday warned that Yemen is at the highest risk of a humanitarian catastrophe in 2021, for the third year running. Widespread hunger, continued conflict and the tumbling of international aid dramatically worsen the current crisis in Yemen, IRC said. Twenty-four million people in the region now require humanitarian aid, IRC aid director for Yemen said.',\n",
       " 'Calling US President Donald Trump \"lawless\" and a \"terrorist\", Iranian President Hassan Rouhani on Wednesday said that he is happy that Trump is leaving the White House. However, Rouhani added that he was not \"overjoyed about Mr. Biden\\'s arrival\". US President-elect Joe Biden is set to take office on January 20 as the 46th president of the United States. ',\n",
       " 'White House Press Secretary Kayleigh McEnany on Tuesday said that US President Donald Trump is \"still pursuing ongoing litigation\" related to the November 3 presidential election. The comments came a day after the Electoral College formally confirmed Joe Biden\\'s victory over Trump in the elections. McEnany described the Electoral College vote as just \"one step in the constitutional process\". ']"
      ]
     },
     "execution_count": 46,
     "metadata": {},
     "output_type": "execute_result"
    }
   ],
   "source": [
    "contents = soup.find_all('div', {'class': 'news-card-content news-right-box'})\n",
    "content_list = [content.find_all('div', {'itemprop':'articleBody'})[0].get_text() for content in contents]\n",
    "content_list"
   ]
  },
  {
   "cell_type": "code",
   "execution_count": 56,
   "metadata": {},
   "outputs": [],
   "source": [
    "import pandas as pd\n",
    "\n",
    "news_data = pd.DataFrame({'Titles': titles_list, 'Contents': content_list, 'Links': links})\n",
    "# news_data\n",
    "news_data.to_csv('newsdata.csv')"
   ]
  },
  {
   "cell_type": "code",
   "execution_count": 54,
   "metadata": {},
   "outputs": [],
   "source": [
    "links = ['https://inshorts.com' + title.find_all('a', {'class': 'clickable'})[0]['href'] for title in titles]"
   ]
  },
  {
   "cell_type": "code",
   "execution_count": 65,
   "metadata": {},
   "outputs": [
    {
     "data": {
      "text/plain": [
       "'color:#44444d!important'"
      ]
     },
     "execution_count": 65,
     "metadata": {},
     "output_type": "execute_result"
    }
   ],
   "source": []
  },
  {
   "cell_type": "code",
   "execution_count": null,
   "metadata": {},
   "outputs": [],
   "source": []
  }
 ],
 "metadata": {
  "kernelspec": {
   "display_name": "Python 3",
   "language": "python",
   "name": "python3"
  },
  "language_info": {
   "codemirror_mode": {
    "name": "ipython",
    "version": 3
   },
   "file_extension": ".py",
   "mimetype": "text/x-python",
   "name": "python",
   "nbconvert_exporter": "python",
   "pygments_lexer": "ipython3",
   "version": "3.8.5"
  }
 },
 "nbformat": 4,
 "nbformat_minor": 4
}
