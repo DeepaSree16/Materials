{
 "cells": [
  {
   "cell_type": "markdown",
   "metadata": {
    "colab_type": "text",
    "id": "emcZeu-J6UbC"
   },
   "source": [
    "# TalentSprint"
   ]
  },
  {
   "cell_type": "markdown",
   "metadata": {
    "colab_type": "text",
    "id": "yzSDL6lF6WOB"
   },
   "source": [
    "## Objectives\n",
    "\n",
    "At the end of the experiment, you will be able to\n",
    "\n",
    "* understand how to measure performance of an algorithm"
   ]
  },
  {
   "cell_type": "markdown",
   "metadata": {
    "colab_type": "text",
    "id": "Wo_7BXRw6eIO"
   },
   "source": [
    "## Dataset\n",
    "\n",
    "The dataset choosen for this experiment is Iris. The dataset contains 150 samples and 5 columns"
   ]
  },
  {
   "cell_type": "code",
   "execution_count": 2,
   "metadata": {
    "colab": {},
    "colab_type": "code",
    "id": "sSutGmaT6LTL"
   },
   "outputs": [],
   "source": [
    "from sklearn.datasets import load_iris\n",
    "from sklearn.model_selection import train_test_split\n",
    "from sklearn.neighbors import KNeighborsClassifier\n",
    "from sklearn.metrics import confusion_matrix"
   ]
  },
  {
   "cell_type": "markdown",
   "metadata": {
    "colab_type": "text",
    "id": "B0UF7Gf161JK"
   },
   "source": [
    "**Loading the data**"
   ]
  },
  {
   "cell_type": "code",
   "execution_count": 3,
   "metadata": {
    "colab": {},
    "colab_type": "code",
    "id": "oP-J9uAo60My"
   },
   "outputs": [],
   "source": [
    "data = load_iris()"
   ]
  },
  {
   "cell_type": "code",
   "execution_count": 4,
   "metadata": {
    "colab": {},
    "colab_type": "code",
    "id": "xGV8U-lw64v7"
   },
   "outputs": [],
   "source": [
    "features = data.data\n",
    "labels = data.target"
   ]
  },
  {
   "cell_type": "markdown",
   "metadata": {
    "colab_type": "text",
    "id": "4eA_IRfp7DXf"
   },
   "source": [
    "**Splitting data into train and test sets**"
   ]
  },
  {
   "cell_type": "code",
   "execution_count": 5,
   "metadata": {
    "colab": {},
    "colab_type": "code",
    "id": "7xSQRyme66zF"
   },
   "outputs": [],
   "source": [
    " X_train, X_test, y_train, y_test = train_test_split(features, labels, test_size=0.33)"
   ]
  },
  {
   "cell_type": "markdown",
   "metadata": {
    "colab_type": "text",
    "id": "mUXExzl57M10"
   },
   "source": [
    "**KNN**"
   ]
  },
  {
   "cell_type": "code",
   "execution_count": 6,
   "metadata": {
    "colab": {},
    "colab_type": "code",
    "id": "zdefu8a_7L6C"
   },
   "outputs": [],
   "source": [
    "neigh = KNeighborsClassifier(n_neighbors=3)"
   ]
  },
  {
   "cell_type": "code",
   "execution_count": 7,
   "metadata": {
    "colab": {
     "base_uri": "https://localhost:8080/",
     "height": 71
    },
    "colab_type": "code",
    "id": "MWY3iW_b7jRI",
    "outputId": "3ce7e798-793e-4c27-d6e9-54016388d3e1"
   },
   "outputs": [
    {
     "data": {
      "text/plain": [
       "KNeighborsClassifier(n_neighbors=3)"
      ]
     },
     "execution_count": 7,
     "metadata": {},
     "output_type": "execute_result"
    }
   ],
   "source": [
    "neigh.fit(X_train, y_train)"
   ]
  },
  {
   "cell_type": "code",
   "execution_count": 8,
   "metadata": {
    "colab": {},
    "colab_type": "code",
    "id": "srqfE9Qv7lPU"
   },
   "outputs": [],
   "source": [
    "pred = neigh.predict(X_test)"
   ]
  },
  {
   "cell_type": "markdown",
   "metadata": {
    "colab_type": "text",
    "id": "yHPE1fZd7yOJ"
   },
   "source": [
    "**Confusion matrix**"
   ]
  },
  {
   "cell_type": "code",
   "execution_count": 9,
   "metadata": {},
   "outputs": [
    {
     "data": {
      "text/plain": [
       "array([[19,  0,  0],\n",
       "       [ 0, 10,  3],\n",
       "       [ 0,  1, 17]])"
      ]
     },
     "execution_count": 9,
     "metadata": {},
     "output_type": "execute_result"
    }
   ],
   "source": [
    "confusion_matrix(y_test, pred)"
   ]
  },
  {
   "cell_type": "code",
   "execution_count": 10,
   "metadata": {
    "colab": {},
    "colab_type": "code",
    "id": "XZrTwoO87xFV"
   },
   "outputs": [],
   "source": [
    " def confusionmatrix(actuals, prediction):\n",
    "    TruePositive = sum([int(a == 1 and p == 1) for a, p in zip(actuals, prediction)])\n",
    "    TrueNegative = sum([int(a == 0 and p == 0) for a, p in zip(actuals, prediction)])\n",
    "    FalsePositive = sum([int(a == 0 and p == 1) for a, p in zip(actuals, prediction)])\n",
    "    FalseNegative = sum([int(a == 1 and p == 0) for a, p in zip(actuals, prediction)])\n",
    "    return TruePositive, TrueNegative, FalsePositive, FalseNegative\n",
    "\n",
    "tp,tn,fp,fn = confusionmatrix(y_test, pred)"
   ]
  },
  {
   "cell_type": "code",
   "execution_count": 14,
   "metadata": {
    "colab": {
     "base_uri": "https://localhost:8080/",
     "height": 35
    },
    "colab_type": "code",
    "id": "HzXc4pB574Yq",
    "outputId": "2257afee-28b1-403e-8a93-22306d4062e2"
   },
   "outputs": [
    {
     "name": "stdout",
     "output_type": "stream",
     "text": [
      "Precison is  1.0\n"
     ]
    }
   ],
   "source": [
    "precision = tp/(tp + fp)\n",
    "print(\"Precison is \",precision)"
   ]
  },
  {
   "cell_type": "code",
   "execution_count": 15,
   "metadata": {
    "colab": {
     "base_uri": "https://localhost:8080/",
     "height": 35
    },
    "colab_type": "code",
    "id": "htajPXeL7-g2",
    "outputId": "c2d314fd-b4b2-409f-d878-f12fee4f7de2"
   },
   "outputs": [
    {
     "name": "stdout",
     "output_type": "stream",
     "text": [
      "Recall is  1.0\n"
     ]
    }
   ],
   "source": [
    "recall = tp/(tp+fn)\n",
    "print(\"Recall is \",recall)"
   ]
  },
  {
   "cell_type": "code",
   "execution_count": 16,
   "metadata": {
    "colab": {
     "base_uri": "https://localhost:8080/",
     "height": 35
    },
    "colab_type": "code",
    "id": "o1xsMct68ArP",
    "outputId": "67ceef39-3267-420d-be33-ed2678189626"
   },
   "outputs": [
    {
     "name": "stdout",
     "output_type": "stream",
     "text": [
      "miss rate is  0.0\n"
     ]
    }
   ],
   "source": [
    "missrate = 1 - recall;\n",
    "print(\"miss rate is \",missrate)"
   ]
  },
  {
   "cell_type": "code",
   "execution_count": 17,
   "metadata": {
    "colab": {
     "base_uri": "https://localhost:8080/",
     "height": 35
    },
    "colab_type": "code",
    "id": "UnYaZaBv8DQK",
    "outputId": "22c49e3d-6999-4070-c630-e6a1b6fcf202"
   },
   "outputs": [
    {
     "name": "stdout",
     "output_type": "stream",
     "text": [
      "Accuracy is  1.0\n"
     ]
    }
   ],
   "source": [
    "acc = (tp+tn)/(tp+tn+fp+fn)\n",
    "print(\"Accuracy is \",acc)"
   ]
  }
 ],
 "metadata": {
  "colab": {
   "name": "iris_performancemetric.ipynb",
   "provenance": []
  },
  "kernelspec": {
   "display_name": "Python 3",
   "language": "python",
   "name": "python3"
  },
  "language_info": {
   "codemirror_mode": {
    "name": "ipython",
    "version": 3
   },
   "file_extension": ".py",
   "mimetype": "text/x-python",
   "name": "python",
   "nbconvert_exporter": "python",
   "pygments_lexer": "ipython3",
   "version": "3.8.5"
  }
 },
 "nbformat": 4,
 "nbformat_minor": 1
}
