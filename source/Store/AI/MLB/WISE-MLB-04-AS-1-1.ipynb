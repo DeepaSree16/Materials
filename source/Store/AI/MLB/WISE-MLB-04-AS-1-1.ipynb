{
  "nbformat": 4,
  "nbformat_minor": 0,
  "metadata": {
    "colab": {
      "name": "Foodgroup_PCA.ipynb",
      "provenance": [],
      "collapsed_sections": []
    },
    "kernelspec": {
      "name": "python3",
      "display_name": "Python 3"
    }
  },
  "cells": [
    {
      "cell_type": "markdown",
      "metadata": {
        "id": "JS-axP8_UYOo",
        "colab_type": "text"
      },
      "source": [
        "# TalentSprint"
      ]
    },
    {
      "cell_type": "markdown",
      "metadata": {
        "id": "Z3Pmi39AUaxk",
        "colab_type": "text"
      },
      "source": [
        "## Objective"
      ]
    },
    {
      "cell_type": "markdown",
      "metadata": {
        "id": "lFrr31OuUeEl",
        "colab_type": "text"
      },
      "source": [
        "At the end of the experiment, you will be able to\n",
        "\n",
        "* understand PCA\n",
        "* reduce data from higher dimenssion to lower dimenssion\n",
        "* classify the data using K-nn"
      ]
    },
    {
      "cell_type": "markdown",
      "metadata": {
        "id": "44FNjRrIUrqZ",
        "colab_type": "text"
      },
      "source": [
        "## Dataset"
      ]
    },
    {
      "cell_type": "markdown",
      "metadata": {
        "id": "azkkrkP3UtEd",
        "colab_type": "text"
      },
      "source": [
        "The dataset choosen for this experiment is Food Groups dataset.  The dataset contains 1591 samples and 39 columns. Foodgroup column is the target variable."
      ]
    },
    {
      "cell_type": "markdown",
      "metadata": {
        "id": "8X5qrbhvU1_G",
        "colab_type": "text"
      },
      "source": [
        "**Exercise 1**\n",
        "\n",
        "Import Necessary Libraries\n"
      ]
    },
    {
      "cell_type": "code",
      "metadata": {
        "id": "vUIcKLhWUWD3",
        "colab_type": "code",
        "colab": {}
      },
      "source": [
        "# Your code Here"
      ],
      "execution_count": 4,
      "outputs": []
    },
    {
      "cell_type": "markdown",
      "metadata": {
        "id": "Y5KUhvmyVRCq",
        "colab_type": "text"
      },
      "source": [
        "**Exercise 2**\n",
        "\n",
        "Load the dataset"
      ]
    },
    {
      "cell_type": "code",
      "metadata": {
        "id": "9ajojKqIVLPO",
        "colab_type": "code",
        "colab": {}
      },
      "source": [
        "# Your code Here"
      ],
      "execution_count": null,
      "outputs": []
    },
    {
      "cell_type": "markdown",
      "metadata": {
        "id": "M_kRbWUsVfs6",
        "colab_type": "text"
      },
      "source": [
        "**Exercise 3**\n",
        "\n",
        "Convert categorical data into numeric data"
      ]
    },
    {
      "cell_type": "code",
      "metadata": {
        "id": "wWXOswNkViTJ",
        "colab_type": "code",
        "colab": {}
      },
      "source": [
        "# Your code Here"
      ],
      "execution_count": null,
      "outputs": []
    },
    {
      "cell_type": "markdown",
      "metadata": {
        "id": "pJFO1CQWVtIm",
        "colab_type": "text"
      },
      "source": [
        "**Exercise 4**\n",
        "\n",
        "Extract features from the dataset using PCA"
      ]
    },
    {
      "cell_type": "code",
      "metadata": {
        "id": "fe-ps3KJV0uG",
        "colab_type": "code",
        "colab": {}
      },
      "source": [
        "# Your code Here"
      ],
      "execution_count": null,
      "outputs": []
    },
    {
      "cell_type": "markdown",
      "metadata": {
        "id": "-g2JSe9gWD9p",
        "colab_type": "text"
      },
      "source": [
        "**Exercise 5**\n",
        "\n",
        "Split the dataset into tain and test sets"
      ]
    },
    {
      "cell_type": "code",
      "metadata": {
        "id": "zjcaZ5c4WHqO",
        "colab_type": "code",
        "colab": {}
      },
      "source": [
        "# Your code Here"
      ],
      "execution_count": null,
      "outputs": []
    },
    {
      "cell_type": "markdown",
      "metadata": {
        "id": "COuMUXXZWJ5V",
        "colab_type": "text"
      },
      "source": [
        "**Exercise 6**\n",
        "\n",
        "Classify the data into foodgroups using K-nn "
      ]
    },
    {
      "cell_type": "code",
      "metadata": {
        "id": "DPR3p_KrWPMy",
        "colab_type": "code",
        "colab": {}
      },
      "source": [
        "# Your code Here"
      ],
      "execution_count": null,
      "outputs": []
    },
    {
      "cell_type": "markdown",
      "metadata": {
        "id": "ZLtTWu5JWR7T",
        "colab_type": "text"
      },
      "source": [
        "**Exercise 7**\n",
        "\n",
        "Calculate the accuracy"
      ]
    },
    {
      "cell_type": "code",
      "metadata": {
        "id": "F2O5lJnkWV4F",
        "colab_type": "code",
        "colab": {}
      },
      "source": [
        "# Your code Here"
      ],
      "execution_count": null,
      "outputs": []
    },
    {
      "cell_type": "markdown",
      "metadata": {
        "id": "1IHltX7mWXTU",
        "colab_type": "text"
      },
      "source": [
        "**Exercise 8**\n",
        "\n",
        "vary the value of k from 5 to 10 and report accuracies"
      ]
    },
    {
      "cell_type": "code",
      "metadata": {
        "id": "h5yCS0IBWlUU",
        "colab_type": "code",
        "colab": {}
      },
      "source": [
        "# Your code Here"
      ],
      "execution_count": null,
      "outputs": []
    }
  ]
}