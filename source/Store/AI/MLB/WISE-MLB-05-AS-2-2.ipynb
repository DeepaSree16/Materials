{
  "nbformat": 4,
  "nbformat_minor": 0,
  "metadata": {
    "colab": {
      "name": "LogisticRegression_Gender.ipynb",
      "provenance": []
    },
    "kernelspec": {
      "name": "python3",
      "display_name": "Python 3"
    }
  },
  "cells": [
    {
      "cell_type": "markdown",
      "metadata": {
        "id": "9V8bv2qPTFm7",
        "colab_type": "text"
      },
      "source": [
        "# TalentSprint"
      ]
    },
    {
      "cell_type": "markdown",
      "metadata": {
        "id": "bpiV5T8ETHtK",
        "colab_type": "text"
      },
      "source": [
        "## Objectives\n",
        "\n",
        "At the end of the experiment, you will be able to \n",
        "\n",
        "* underdstand logistic regression\n",
        "* understand difference between different classification algorithms"
      ]
    },
    {
      "cell_type": "markdown",
      "metadata": {
        "id": "b01HQgsvTbwX",
        "colab_type": "text"
      },
      "source": [
        "## Dataset\n",
        "\n",
        "The dataset choosen for this experiment is Gender classification dataset. The dataset contains 66 samples and 5 columns."
      ]
    },
    {
      "cell_type": "markdown",
      "metadata": {
        "id": "mq1UkzUfTpxb",
        "colab_type": "text"
      },
      "source": [
        "**Exercise 1**\n",
        "\n",
        "Load necessary libraries"
      ]
    },
    {
      "cell_type": "code",
      "metadata": {
        "id": "fFq1hJiBS-GY",
        "colab_type": "code",
        "colab": {}
      },
      "source": [
        "# Your code  here"
      ],
      "execution_count": null,
      "outputs": []
    },
    {
      "cell_type": "markdown",
      "metadata": {
        "id": "tBTS7smIT2gs",
        "colab_type": "text"
      },
      "source": [
        "**Exercise 2**\n",
        "\n",
        "Load the dataset\n",
        "\n",
        "\n"
      ]
    },
    {
      "cell_type": "code",
      "metadata": {
        "id": "b9AxEZqgT4jH",
        "colab_type": "code",
        "colab": {}
      },
      "source": [
        "# Your code here"
      ],
      "execution_count": null,
      "outputs": []
    },
    {
      "cell_type": "markdown",
      "metadata": {
        "id": "uoyUqOI_T9eV",
        "colab_type": "text"
      },
      "source": [
        "**Exercise 3**\n",
        "\n",
        "Split data into train and test sets"
      ]
    },
    {
      "cell_type": "code",
      "metadata": {
        "id": "_CWerRM0UAlG",
        "colab_type": "code",
        "colab": {}
      },
      "source": [
        "# Your code here"
      ],
      "execution_count": null,
      "outputs": []
    },
    {
      "cell_type": "markdown",
      "metadata": {
        "id": "qakLcz1oUDGv",
        "colab_type": "text"
      },
      "source": [
        "**Exercise 4**\n",
        "\n",
        "Apply linear regression, K-nn, decision tree, logistic regression on the dataset and report there accuracies"
      ]
    },
    {
      "cell_type": "code",
      "metadata": {
        "id": "H9YV00NlUJVU",
        "colab_type": "code",
        "colab": {}
      },
      "source": [
        "# Your code here"
      ],
      "execution_count": null,
      "outputs": []
    },
    {
      "cell_type": "markdown",
      "metadata": {
        "id": "ej6YeBWyUNv-",
        "colab_type": "text"
      },
      "source": [
        "**Exercise 5**\n",
        "\n",
        "In which opinion which classifier gave better accuracy and explain in two or three sentences."
      ]
    },
    {
      "cell_type": "code",
      "metadata": {
        "id": "S4qUHUzoUXiq",
        "colab_type": "code",
        "colab": {}
      },
      "source": [
        "# Your Answer"
      ],
      "execution_count": null,
      "outputs": []
    }
  ]
}