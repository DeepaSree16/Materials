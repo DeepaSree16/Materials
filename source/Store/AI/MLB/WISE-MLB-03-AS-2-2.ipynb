{
  "nbformat": 4,
  "nbformat_minor": 0,
  "metadata": {
    "colab": {
      "name": "Twitter_W2v.ipynb",
      "provenance": [],
      "collapsed_sections": []
    },
    "kernelspec": {
      "name": "python3",
      "display_name": "Python 3"
    }
  },
  "cells": [
    {
      "cell_type": "markdown",
      "metadata": {
        "id": "o0oUkYk7M2l2",
        "colab_type": "text"
      },
      "source": [
        "# TalentSprint"
      ]
    },
    {
      "cell_type": "markdown",
      "metadata": {
        "id": "tTfjs-L9M4lU",
        "colab_type": "text"
      },
      "source": [
        "## Objectives"
      ]
    },
    {
      "cell_type": "markdown",
      "metadata": {
        "id": "sklGObC5M6gk",
        "colab_type": "text"
      },
      "source": [
        "At the end of this experiment, you will be able to\n",
        "\n",
        "* understand word2vec and knn\n",
        "* use knn to classify text data\n",
        "* use word2vec  to extract features from any dataset"
      ]
    },
    {
      "cell_type": "markdown",
      "metadata": {
        "id": "OecvSFLWNHAm",
        "colab_type": "text"
      },
      "source": [
        "## Dataset"
      ]
    },
    {
      "cell_type": "markdown",
      "metadata": {
        "id": "Ph_VWOtXNJDw",
        "colab_type": "text"
      },
      "source": [
        "The dataset choosen for this experiment is Twitter data. The dataset contains 99989 records. Each record contains three attributes as listed below :\n",
        "\n",
        "\t* ItemID\n",
        "\t* Sentiment\n",
        "\t* SentimentText"
      ]
    },
    {
      "cell_type": "markdown",
      "metadata": {
        "id": "KOo61lVENhET",
        "colab_type": "text"
      },
      "source": [
        "**Exercise 1**\n",
        "\n",
        "Import necessary libraries"
      ]
    },
    {
      "cell_type": "code",
      "metadata": {
        "id": "5S3k2yaxNlEj",
        "colab_type": "code",
        "colab": {}
      },
      "source": [
        "# Your code Here"
      ],
      "execution_count": null,
      "outputs": []
    },
    {
      "cell_type": "markdown",
      "metadata": {
        "id": "oN03-DivNY5r",
        "colab_type": "text"
      },
      "source": [
        "**Exercise 2** \n",
        "\n",
        "Re-construct the tweets by removing the following things from the tweets.\n",
        "- Case Convert the reviews to lower case.\n",
        "- We don't intend to follow the (short) urls and determine the content of the site, so we can eliminate all of these URLs via regular expression matching or replace with generic word URL.\n",
        "- We can eliminate \"$@$username\" via regex matching or replace it with generic word AT\\_USERhashtag hash tags can give us some useful information, so replace them with the exact same word without the hash. E.g. \\#nike replaced with 'nike'.\n",
        "- Replace multiple whitespaces with a single whitespace.Stop words a, is, the, with etc. The full list of stop words can be found at Stop Word List. These words don't indicate any sentiment and can be removed.Repeated letters Sometimes people repeat letters to stress the emotion. \"aaaaawesome\" for awesome. We can look for 2 or more repetitive letters in words and replace them by 2 of the same.\n",
        "- Remove punctuation such as comma, single/double quote, question marks at the start and end of each word. E.g. beautiful!!!!!! replaced with beautifulNon-alpha Words  Remove all those words which don't start with an alphabet. E.g. 15th, 5.34am"
      ]
    },
    {
      "cell_type": "code",
      "metadata": {
        "id": "rYrqGnbWMyEF",
        "colab_type": "code",
        "colab": {}
      },
      "source": [
        "# Your code Here"
      ],
      "execution_count": null,
      "outputs": []
    },
    {
      "cell_type": "markdown",
      "metadata": {
        "id": "5pODR3RkODSL",
        "colab_type": "text"
      },
      "source": [
        "**Exercise 3**\n",
        "\n",
        "Extract features using word2vec "
      ]
    },
    {
      "cell_type": "code",
      "metadata": {
        "id": "QhIUK_uBOCbn",
        "colab_type": "code",
        "colab": {}
      },
      "source": [
        "# Your code Here"
      ],
      "execution_count": null,
      "outputs": []
    },
    {
      "cell_type": "markdown",
      "metadata": {
        "id": "LUs-CzTUONRz",
        "colab_type": "text"
      },
      "source": [
        "**Exercise 4**\n",
        "\n",
        "Split the dataset into train and test sets"
      ]
    },
    {
      "cell_type": "code",
      "metadata": {
        "id": "ITy6mk6aORbg",
        "colab_type": "code",
        "colab": {}
      },
      "source": [
        "# Your code Here"
      ],
      "execution_count": null,
      "outputs": []
    },
    {
      "cell_type": "markdown",
      "metadata": {
        "id": "pB5Wzcl2OT-E",
        "colab_type": "text"
      },
      "source": [
        "**Exercise 5**\n",
        "\n",
        "Classify the tweets using KNN"
      ]
    },
    {
      "cell_type": "code",
      "metadata": {
        "id": "oGfW6g_2OmiH",
        "colab_type": "code",
        "colab": {}
      },
      "source": [
        "# Your code Here"
      ],
      "execution_count": null,
      "outputs": []
    },
    {
      "cell_type": "markdown",
      "metadata": {
        "id": "ZYNH8uvRPl2O",
        "colab_type": "text"
      },
      "source": [
        "**Exercise 6**\n",
        "\n",
        "Calculate accuracy"
      ]
    },
    {
      "cell_type": "code",
      "metadata": {
        "id": "jUrgL8YzOtEX",
        "colab_type": "code",
        "colab": {}
      },
      "source": [
        "# Your code Here"
      ],
      "execution_count": null,
      "outputs": []
    }
  ]
}