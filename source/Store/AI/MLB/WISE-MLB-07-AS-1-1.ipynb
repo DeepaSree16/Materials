{
  "nbformat": 4,
  "nbformat_minor": 0,
  "metadata": {
    "colab": {
      "name": "BreastCancer_PerformanceMetric.ipynb",
      "provenance": [],
      "collapsed_sections": []
    },
    "kernelspec": {
      "name": "python3",
      "display_name": "Python 3"
    }
  },
  "cells": [
    {
      "cell_type": "markdown",
      "metadata": {
        "id": "xu7iTj1Y8cJH",
        "colab_type": "text"
      },
      "source": [
        "# TalentSprint"
      ]
    },
    {
      "cell_type": "markdown",
      "metadata": {
        "id": "11Ts6MXd8euS",
        "colab_type": "text"
      },
      "source": [
        "## Objective"
      ]
    },
    {
      "cell_type": "markdown",
      "metadata": {
        "id": "X9mqK8sw8gVb",
        "colab_type": "text"
      },
      "source": [
        "At the end of the experiment, you will be able to\n",
        "\n",
        "* understand how to measure the performance of an algorithm"
      ]
    },
    {
      "cell_type": "markdown",
      "metadata": {
        "id": "M3EqVKzG8ucI",
        "colab_type": "text"
      },
      "source": [
        "## Dataset"
      ]
    },
    {
      "cell_type": "markdown",
      "metadata": {
        "id": "AKN5vkjn8v_d",
        "colab_type": "text"
      },
      "source": [
        "The dataset choosen for this experiment is  Wisconsin Breast Cancer data to detect malignant cells.The dataset has 569 samples and 32 columns."
      ]
    },
    {
      "cell_type": "markdown",
      "metadata": {
        "id": "EEF-eb0V9gmT",
        "colab_type": "text"
      },
      "source": [
        "**Exercise 1 :: Importing Necessary Libararies**"
      ]
    },
    {
      "cell_type": "code",
      "metadata": {
        "id": "4eBD5HdW8d6B",
        "colab_type": "code",
        "colab": {}
      },
      "source": [
        "# YOUR CODE HERE"
      ],
      "execution_count": null,
      "outputs": []
    },
    {
      "cell_type": "markdown",
      "metadata": {
        "id": "tI6F0kPM-Ey3",
        "colab_type": "text"
      },
      "source": [
        "**Exercise 2 :: Loading the dataset**"
      ]
    },
    {
      "cell_type": "code",
      "metadata": {
        "id": "VDdamqUg9u5s",
        "colab_type": "code",
        "colab": {}
      },
      "source": [
        "# YOUR CODE  HERE "
      ],
      "execution_count": null,
      "outputs": []
    },
    {
      "cell_type": "markdown",
      "metadata": {
        "id": "k1nM7C7H-V_F",
        "colab_type": "text"
      },
      "source": [
        "**Exercise 3 :: Using all the attributes/features, predict the patients in the testdata as malignant or benign. Use K = 5 and Euclidean distance. Find the accuracy (as percentage) on the test data.**"
      ]
    },
    {
      "cell_type": "code",
      "metadata": {
        "id": "cfBEW9JA-A_y",
        "colab_type": "code",
        "colab": {}
      },
      "source": [
        "# YOUR CODE  HERE "
      ],
      "execution_count": null,
      "outputs": []
    },
    {
      "cell_type": "markdown",
      "metadata": {
        "id": "dPMYhecE-ijt",
        "colab_type": "text"
      },
      "source": [
        "**Exercise 4 :: Repeat the above (creating random partitions and evaluating the performance) 5 times.**"
      ]
    },
    {
      "cell_type": "code",
      "metadata": {
        "id": "FvtvvUZ7-lZS",
        "colab_type": "code",
        "colab": {}
      },
      "source": [
        "# YOUR CODE  HERE "
      ],
      "execution_count": null,
      "outputs": []
    },
    {
      "cell_type": "markdown",
      "metadata": {
        "id": "F9U1I1AF-o7t",
        "colab_type": "text"
      },
      "source": [
        "**Exercise 5 :: Vary K from 3 to 11 and find the best K.**"
      ]
    },
    {
      "cell_type": "code",
      "metadata": {
        "id": "bmSWYVXB-q8n",
        "colab_type": "code",
        "colab": {}
      },
      "source": [
        "# YOUR CODE  HERE "
      ],
      "execution_count": null,
      "outputs": []
    },
    {
      "cell_type": "markdown",
      "metadata": {
        "id": "ICpH2Aw0-aI9",
        "colab_type": "text"
      },
      "source": [
        "**Exercise 6 :: Calculate accuracy score**"
      ]
    },
    {
      "cell_type": "code",
      "metadata": {
        "id": "UpqH2cRq-ecM",
        "colab_type": "code",
        "colab": {}
      },
      "source": [
        "# YOUR CODE  HERE"
      ],
      "execution_count": null,
      "outputs": []
    },
    {
      "cell_type": "markdown",
      "metadata": {
        "id": "ELGdcPKZ-gIl",
        "colab_type": "text"
      },
      "source": [
        "**Exercise 7 :: Calculate confusion matrix**"
      ]
    },
    {
      "cell_type": "code",
      "metadata": {
        "id": "jVnyoQKC-n7X",
        "colab_type": "code",
        "colab": {}
      },
      "source": [
        "# YOUR CODE HERE"
      ],
      "execution_count": null,
      "outputs": []
    },
    {
      "cell_type": "markdown",
      "metadata": {
        "id": "u9hH67bf-qKh",
        "colab_type": "text"
      },
      "source": [
        "**Exercise 8 :: Calculate precission score**"
      ]
    },
    {
      "cell_type": "code",
      "metadata": {
        "id": "I4ukVXIL-u5K",
        "colab_type": "code",
        "colab": {}
      },
      "source": [
        "# YOUR CODE HERE"
      ],
      "execution_count": null,
      "outputs": []
    },
    {
      "cell_type": "markdown",
      "metadata": {
        "id": "OctYlPbH-xjl",
        "colab_type": "text"
      },
      "source": [
        "**Exercise 9 :: Calculate recall score**"
      ]
    },
    {
      "cell_type": "code",
      "metadata": {
        "id": "CUwpqgpL-1Wg",
        "colab_type": "code",
        "colab": {}
      },
      "source": [
        "# YOUR CODE HERE"
      ],
      "execution_count": null,
      "outputs": []
    },
    {
      "cell_type": "markdown",
      "metadata": {
        "id": "_XkrI4vJ-4T6",
        "colab_type": "text"
      },
      "source": [
        "**Exercise 10 :: Apply different algorithms on the dataset and report confusion matrix, precision, recall, and accuracy score**"
      ]
    },
    {
      "cell_type": "code",
      "metadata": {
        "id": "BujMmiJ8_L64",
        "colab_type": "code",
        "colab": {}
      },
      "source": [
        "# YOUR CODE HERE"
      ],
      "execution_count": null,
      "outputs": []
    }
  ]
}