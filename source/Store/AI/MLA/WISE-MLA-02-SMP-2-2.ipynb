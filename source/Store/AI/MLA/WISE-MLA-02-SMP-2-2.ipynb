{
 "cells": [
  {
   "cell_type": "markdown",
   "metadata": {
    "colab_type": "text",
    "id": "apf4OFJfQ4LE"
   },
   "source": [
    "## Objective\n",
    "\n",
    "At the end of the experiment you will be able to \n",
    "\n",
    "* execute linear algebraic functions\n",
    "* explain difference between numpy arrays and  Python lists"
   ]
  },
  {
   "cell_type": "markdown",
   "metadata": {
    "colab_type": "text",
    "id": "wNWKISnBQ1u2"
   },
   "source": [
    "### Introduction to Numpy\n",
    "\n",
    "NumPy (Numerical Python) is a Python library for scientific computing, that provide high-performance vector, matrix, and higher-dimensional data structures for Python. It is implemented in C and Fortran so when calculations are vectorized (formulated with vectors and matrices), the performance is very good.\n",
    "\n",
    "It offers ndarray data structure for storing and ufuncs for efficiently processing the (homogeneous) data. Some of the important functionalities include: basic slicing, advanced or fancy indexing, broadcasting, etc.\n",
    "\n",
    "\n",
    "**How are NumPy arrays different from Python lists?**\n",
    "\n",
    "* Python lists are very general. They can contain any kind of object. They are dynamically typed.\n",
    "* They do not support mathematical functions such as matrix and dot multiplications, etc. Implementing such functions for Python lists would not be very efficient because of the dynamic typing.\n",
    "* Numpy arrays are statically typed and homogeneous. The type of the elements is determined when the array is created.\n",
    "* Numpy arrays are memory efficient.\n",
    "* Because of the static typing, fast implementation of mathematical functions such as multiplication and addition of numpy arrays can be implemented in a compiled language (C and Fortran is used).\n",
    "\n",
    "\n",
    "Now it is time to work on practicals. Following Are the given Exercise:\n"
   ]
  },
  {
   "cell_type": "markdown",
   "metadata": {
    "colab_type": "text",
    "id": "qwgeAaDqSOm-"
   },
   "source": [
    "#### Exercise 1: Import the numpy package under the name np"
   ]
  },
  {
   "cell_type": "code",
   "execution_count": 0,
   "metadata": {
    "colab": {},
    "colab_type": "code",
    "id": "J44YqJ44QtlU"
   },
   "outputs": [],
   "source": [
    "import numpy as np"
   ]
  },
  {
   "cell_type": "markdown",
   "metadata": {
    "colab_type": "text",
    "id": "_nZ3clmuSVlg"
   },
   "source": [
    "#### Exercise 2: Given an array *X*. Calculate sine, cosine, and tangent of *X*, element-wise.\n",
    "\n",
    "X = np.array([1, 45, 60, 90])"
   ]
  },
  {
   "cell_type": "code",
   "execution_count": 3,
   "metadata": {
    "colab": {
     "base_uri": "https://localhost:8080/",
     "height": 68
    },
    "colab_type": "code",
    "executionInfo": {
     "elapsed": 1102,
     "status": "ok",
     "timestamp": 1584076082557,
     "user": {
      "displayName": "Priyanka Gaddam",
      "photoUrl": "",
      "userId": "07316718693164986599"
     },
     "user_tz": -330
    },
    "id": "A5x5wgJsQ2br",
    "outputId": "0c29e664-a769-4b11-c98a-0ab6a46d2f35"
   },
   "outputs": [
    {
     "name": "stdout",
     "output_type": "stream",
     "text": [
      "sine: [ 0.84147098  0.85090352 -0.30481062  0.89399666] \n",
      "cosine: [ 0.54030231  0.52532199 -0.95241298 -0.44807362] \n",
      "tangent: [ 1.55740772  1.61977519  0.32004039 -1.99520041]\n"
     ]
    }
   ],
   "source": [
    "X = np.array([1, 45, 60, 90])\n",
    "print(\"sine: {} \\ncosine: {} \\ntangent: {}\".format(np.sin(X),np.cos(X),np.tan(X)))"
   ]
  },
  {
   "cell_type": "markdown",
   "metadata": {
    "colab_type": "text",
    "id": "GMvtbx9iTISy"
   },
   "source": [
    "#### Exercise 3: Given an array *X*. Convert angles from radians to degrees.\n",
    "\n",
    "X = np.array([-np.pi, -np.pi/2, np.pi/2, np.pi])"
   ]
  },
  {
   "cell_type": "code",
   "execution_count": 6,
   "metadata": {
    "colab": {
     "base_uri": "https://localhost:8080/",
     "height": 34
    },
    "colab_type": "code",
    "executionInfo": {
     "elapsed": 1148,
     "status": "ok",
     "timestamp": 1584076238208,
     "user": {
      "displayName": "Priyanka Gaddam",
      "photoUrl": "",
      "userId": "07316718693164986599"
     },
     "user_tz": -330
    },
    "id": "NJqUZmj6S_t1",
    "outputId": "32f7c8a0-ff45-429a-bc20-a990b67e0f64"
   },
   "outputs": [
    {
     "name": "stdout",
     "output_type": "stream",
     "text": [
      "[-180.  -90.   90.  180.]\n"
     ]
    }
   ],
   "source": [
    "X = np.array([-np.pi, -np.pi/2, np.pi/2, np.pi])\n",
    "deg = np.degrees(X)\n",
    "print(deg)"
   ]
  },
  {
   "cell_type": "markdown",
   "metadata": {
    "colab_type": "text",
    "id": "8hFPkopqTVkp"
   },
   "source": [
    "#### Exercise 4: Given an arrya *X*. Convert angles from degrees to radians.\n",
    "\n",
    "X = np.array([-180.,  -90.,   90.,  180.])"
   ]
  },
  {
   "cell_type": "code",
   "execution_count": 7,
   "metadata": {
    "colab": {
     "base_uri": "https://localhost:8080/",
     "height": 34
    },
    "colab_type": "code",
    "executionInfo": {
     "elapsed": 1109,
     "status": "ok",
     "timestamp": 1584076296366,
     "user": {
      "displayName": "Priyanka Gaddam",
      "photoUrl": "",
      "userId": "07316718693164986599"
     },
     "user_tz": -330
    },
    "id": "1GcvmHC7THVM",
    "outputId": "784d7b52-d8c0-4b1d-fa09-222ce0904ed3"
   },
   "outputs": [
    {
     "data": {
      "text/plain": [
       "array([-3.14159265, -1.57079633,  1.57079633,  3.14159265])"
      ]
     },
     "execution_count": 7,
     "metadata": {
      "tags": []
     },
     "output_type": "execute_result"
    }
   ],
   "source": [
    "X = np.array([-180.,  -90.,   90.,  180.])\n",
    "np.deg2rad(X)"
   ]
  },
  {
   "cell_type": "markdown",
   "metadata": {
    "colab_type": "text",
    "id": "xppXPZU2Tkm-"
   },
   "source": [
    "#### Exercise 5: Given an array *X*. Calculate hyperbolic sine, hyperbolic cosine, and hyperbolic tangent of *X*, element-wise. \n",
    "\n",
    "X = np.array([-1., 0, 1.])"
   ]
  },
  {
   "cell_type": "code",
   "execution_count": 8,
   "metadata": {
    "colab": {
     "base_uri": "https://localhost:8080/",
     "height": 68
    },
    "colab_type": "code",
    "executionInfo": {
     "elapsed": 2344,
     "status": "ok",
     "timestamp": 1584076346079,
     "user": {
      "displayName": "Priyanka Gaddam",
      "photoUrl": "",
      "userId": "07316718693164986599"
     },
     "user_tz": -330
    },
    "id": "IMcSv22uTgms",
    "outputId": "b3b782da-29d6-401d-c619-73e779d346f3"
   },
   "outputs": [
    {
     "name": "stdout",
     "output_type": "stream",
     "text": [
      "[-1.17520119  0.          1.17520119]\n",
      "[1.54308063 1.         1.54308063]\n",
      "[-0.76159416  0.          0.76159416]\n"
     ]
    }
   ],
   "source": [
    "X = np.array([-1., 0, 1.])\n",
    "print(np.sinh(X))\n",
    "print(np.cosh(X))\n",
    "print(np.tanh(X))"
   ]
  },
  {
   "cell_type": "markdown",
   "metadata": {
    "colab_type": "text",
    "id": "ahRXCZSxT0kU"
   },
   "source": [
    "#### Exercise 6: Given an array *X*. Calculate the round, ceil, floor of *X*, element-wise\n",
    "\n",
    "X = np.array([4.1, 2.5, 44.5, 25.9, -1.1, -9.5, -6.9])"
   ]
  },
  {
   "cell_type": "code",
   "execution_count": 0,
   "metadata": {
    "colab": {},
    "colab_type": "code",
    "id": "FVA2-r_ITsj0"
   },
   "outputs": [],
   "source": [
    "X = np.array([4.1, 2.5, 44.5, 25.9, -1.1, -9.5, -6.9])"
   ]
  },
  {
   "cell_type": "code",
   "execution_count": 12,
   "metadata": {
    "colab": {
     "base_uri": "https://localhost:8080/",
     "height": 68
    },
    "colab_type": "code",
    "executionInfo": {
     "elapsed": 1101,
     "status": "ok",
     "timestamp": 1584076558443,
     "user": {
      "displayName": "Priyanka Gaddam",
      "photoUrl": "",
      "userId": "07316718693164986599"
     },
     "user_tz": -330
    },
    "id": "p83dwIEPT7Ja",
    "outputId": "cc04cea8-4d33-46e0-d060-f412b7d41793"
   },
   "outputs": [
    {
     "data": {
      "text/plain": [
       "(array([  4.,   2.,  44.,  26.,  -1., -10.,  -7.]),\n",
       " array([ 5.,  3., 45., 26., -1., -9., -6.]),\n",
       " array([  4.,   2.,  44.,  25.,  -2., -10.,  -7.]))"
      ]
     },
     "execution_count": 12,
     "metadata": {
      "tags": []
     },
     "output_type": "execute_result"
    }
   ],
   "source": [
    "np.round(X), np.ceil(X), np.floor(X)"
   ]
  },
  {
   "cell_type": "markdown",
   "metadata": {
    "colab_type": "text",
    "id": "KzcrhGeFUmVE"
   },
   "source": [
    "#### Exercise 7: Given an array *X*. Calculate the difference between neighboring elements, element-wise.\n",
    "\n",
    "X = np.array([11, 13, 23, 45, 77])"
   ]
  },
  {
   "cell_type": "code",
   "execution_count": 13,
   "metadata": {
    "colab": {
     "base_uri": "https://localhost:8080/",
     "height": 34
    },
    "colab_type": "code",
    "executionInfo": {
     "elapsed": 1116,
     "status": "ok",
     "timestamp": 1584076651033,
     "user": {
      "displayName": "Priyanka Gaddam",
      "photoUrl": "",
      "userId": "07316718693164986599"
     },
     "user_tz": -330
    },
    "id": "bSQpJ5IQUSf0",
    "outputId": "bca04d71-0e26-46c5-ef4d-e6aae8529604"
   },
   "outputs": [
    {
     "data": {
      "text/plain": [
       "array([ 2, 10, 22, 32])"
      ]
     },
     "execution_count": 13,
     "metadata": {
      "tags": []
     },
     "output_type": "execute_result"
    }
   ],
   "source": [
    "X = np.array([11, 13, 23, 45, 77])\n",
    "np.diff(X)"
   ]
  },
  {
   "cell_type": "markdown",
   "metadata": {
    "colab_type": "text",
    "id": "rmSYTiqyVB2x"
   },
   "source": [
    "#### Exercise 8: Given two arrays *X* and *Y*. Find the cross product.\n",
    "\n",
    "X = np.array([1, 2, 3])\n",
    "\n",
    "Y = np.array([4, 5, 6])"
   ]
  },
  {
   "cell_type": "code",
   "execution_count": 0,
   "metadata": {
    "colab": {},
    "colab_type": "code",
    "id": "JqHukc33U3L2"
   },
   "outputs": [],
   "source": [
    "X = np.array([1, 2, 3])\n",
    "Y = np.array([4, 5, 6])"
   ]
  },
  {
   "cell_type": "code",
   "execution_count": 19,
   "metadata": {
    "colab": {
     "base_uri": "https://localhost:8080/",
     "height": 34
    },
    "colab_type": "code",
    "executionInfo": {
     "elapsed": 3570,
     "status": "ok",
     "timestamp": 1584076933940,
     "user": {
      "displayName": "Priyanka Gaddam",
      "photoUrl": "",
      "userId": "07316718693164986599"
     },
     "user_tz": -330
    },
    "id": "pME3jdFYVXpy",
    "outputId": "c77d82c1-e3c0-4c69-f44f-c5adb7efd5ee"
   },
   "outputs": [
    {
     "data": {
      "text/plain": [
       "array([-3,  6, -3])"
      ]
     },
     "execution_count": 19,
     "metadata": {
      "tags": []
     },
     "output_type": "execute_result"
    }
   ],
   "source": [
    "np.cross(X, Y)"
   ]
  },
  {
   "cell_type": "markdown",
   "metadata": {
    "colab_type": "text",
    "id": "eg3qCawdV_1-"
   },
   "source": [
    "#### Exercise 9: Given two arrays *X* and *Y*. Find the dot product.\n",
    "\n",
    "X = np.array([1, 2, 3])\n",
    "\n",
    "Y = np.array([4, 5, 6])"
   ]
  },
  {
   "cell_type": "code",
   "execution_count": 20,
   "metadata": {
    "colab": {
     "base_uri": "https://localhost:8080/",
     "height": 34
    },
    "colab_type": "code",
    "executionInfo": {
     "elapsed": 3575,
     "status": "ok",
     "timestamp": 1584076937043,
     "user": {
      "displayName": "Priyanka Gaddam",
      "photoUrl": "",
      "userId": "07316718693164986599"
     },
     "user_tz": -330
    },
    "id": "S2TgQkEyVa3z",
    "outputId": "8dedfa9b-db64-42f9-c7fd-bf37d4284174"
   },
   "outputs": [
    {
     "data": {
      "text/plain": [
       "32"
      ]
     },
     "execution_count": 20,
     "metadata": {
      "tags": []
     },
     "output_type": "execute_result"
    }
   ],
   "source": [
    "np.dot(X, Y)"
   ]
  },
  {
   "cell_type": "markdown",
   "metadata": {
    "colab_type": "text",
    "id": "BWPtC69NWUbA"
   },
   "source": [
    "#### Exercise 10: Given two arrays *X* and *Y*. Divide *X* by *Y* element-wise using divide, true_divide, floor_divide functions.\n",
    "\n",
    "X = np.array([1, 2, 3])\n",
    "\n",
    "Y = np.array([4, 5, 6])"
   ]
  },
  {
   "cell_type": "code",
   "execution_count": 21,
   "metadata": {
    "colab": {
     "base_uri": "https://localhost:8080/",
     "height": 34
    },
    "colab_type": "code",
    "executionInfo": {
     "elapsed": 1134,
     "status": "ok",
     "timestamp": 1584077121040,
     "user": {
      "displayName": "Priyanka Gaddam",
      "photoUrl": "",
      "userId": "07316718693164986599"
     },
     "user_tz": -330
    },
    "id": "h_BdhP8kV6zo",
    "outputId": "5f2c1126-5742-4908-c513-2af982870679"
   },
   "outputs": [
    {
     "data": {
      "text/plain": [
       "array([0.25, 0.4 , 0.5 ])"
      ]
     },
     "execution_count": 21,
     "metadata": {
      "tags": []
     },
     "output_type": "execute_result"
    }
   ],
   "source": [
    "np.divide(X, Y)"
   ]
  },
  {
   "cell_type": "code",
   "execution_count": 22,
   "metadata": {
    "colab": {
     "base_uri": "https://localhost:8080/",
     "height": 34
    },
    "colab_type": "code",
    "executionInfo": {
     "elapsed": 2242,
     "status": "ok",
     "timestamp": 1584077133953,
     "user": {
      "displayName": "Priyanka Gaddam",
      "photoUrl": "",
      "userId": "07316718693164986599"
     },
     "user_tz": -330
    },
    "id": "JnPhIdWwWqBt",
    "outputId": "1e95c2c2-cfa8-49c1-805d-a32beec6d4fe"
   },
   "outputs": [
    {
     "data": {
      "text/plain": [
       "array([0.25, 0.4 , 0.5 ])"
      ]
     },
     "execution_count": 22,
     "metadata": {
      "tags": []
     },
     "output_type": "execute_result"
    }
   ],
   "source": [
    "np.true_divide(X, Y)"
   ]
  },
  {
   "cell_type": "code",
   "execution_count": 23,
   "metadata": {
    "colab": {
     "base_uri": "https://localhost:8080/",
     "height": 34
    },
    "colab_type": "code",
    "executionInfo": {
     "elapsed": 1024,
     "status": "ok",
     "timestamp": 1584077140534,
     "user": {
      "displayName": "Priyanka Gaddam",
      "photoUrl": "",
      "userId": "07316718693164986599"
     },
     "user_tz": -330
    },
    "id": "YI7fbbJ4WspO",
    "outputId": "c1f7a99a-5ba6-4fb7-97e7-df2a74e98b57"
   },
   "outputs": [
    {
     "data": {
      "text/plain": [
       "array([0, 0, 0])"
      ]
     },
     "execution_count": 23,
     "metadata": {
      "tags": []
     },
     "output_type": "execute_result"
    }
   ],
   "source": [
    "np.floor_divide(X, Y)"
   ]
  },
  {
   "cell_type": "markdown",
   "metadata": {
    "colab_type": "text",
    "id": "GnIn_YWtW0-r"
   },
   "source": [
    "#### Exercise 11: Given two arrays *X* and *Y*. Compute $X^Y$, element-wise.\n",
    "\n",
    "X = np.array([1, 2, 3])\n",
    "\n",
    "Y = np.array([4, 5, 6])"
   ]
  },
  {
   "cell_type": "code",
   "execution_count": 24,
   "metadata": {
    "colab": {
     "base_uri": "https://localhost:8080/",
     "height": 34
    },
    "colab_type": "code",
    "executionInfo": {
     "elapsed": 2365,
     "status": "ok",
     "timestamp": 1584077252313,
     "user": {
      "displayName": "Priyanka Gaddam",
      "photoUrl": "",
      "userId": "07316718693164986599"
     },
     "user_tz": -330
    },
    "id": "rtxR3cJPWury",
    "outputId": "d8775ea2-4d0b-414e-d8b6-253b41a46da9"
   },
   "outputs": [
    {
     "data": {
      "text/plain": [
       "(array([  1,  32, 729]), array([  1,  32, 729]))"
      ]
     },
     "execution_count": 24,
     "metadata": {
      "tags": []
     },
     "output_type": "execute_result"
    }
   ],
   "source": [
    "np.power(X, Y), X ** Y"
   ]
  },
  {
   "cell_type": "markdown",
   "metadata": {
    "colab_type": "text",
    "id": "HCV1xXXSXLUw"
   },
   "source": [
    "#### Exercise 12: Given one array *X* and Y = 3. Compute the remainder of X / Y element-wise using remainder and fmod functions.\n",
    "\n",
    "\n",
    "X = np.array([1, 2, 3])"
   ]
  },
  {
   "cell_type": "code",
   "execution_count": 0,
   "metadata": {
    "colab": {},
    "colab_type": "code",
    "id": "MYHnb66PXd0z"
   },
   "outputs": [],
   "source": [
    "X = np.array([1, 2, 3])"
   ]
  },
  {
   "cell_type": "code",
   "execution_count": 0,
   "metadata": {
    "colab": {},
    "colab_type": "code",
    "id": "Q8YZASS6Xjmw"
   },
   "outputs": [],
   "source": [
    "Y = 3"
   ]
  },
  {
   "cell_type": "code",
   "execution_count": 30,
   "metadata": {
    "colab": {
     "base_uri": "https://localhost:8080/",
     "height": 34
    },
    "colab_type": "code",
    "executionInfo": {
     "elapsed": 1053,
     "status": "ok",
     "timestamp": 1584077401619,
     "user": {
      "displayName": "Priyanka Gaddam",
      "photoUrl": "",
      "userId": "07316718693164986599"
     },
     "user_tz": -330
    },
    "id": "NwerhNdtXkmJ",
    "outputId": "3d5f2bf7-16d7-4323-8aab-6181ff9c1e10"
   },
   "outputs": [
    {
     "data": {
      "text/plain": [
       "(array([1, 2, 0]), array([1, 2, 0]))"
      ]
     },
     "execution_count": 30,
     "metadata": {
      "tags": []
     },
     "output_type": "execute_result"
    }
   ],
   "source": [
    "np.remainder(X, Y), np.fmod(X, Y)"
   ]
  },
  {
   "cell_type": "markdown",
   "metadata": {
    "colab_type": "text",
    "id": "_8iviSU_XvzU"
   },
   "source": [
    "#### Exercise 13:  Given an array *X*. If an element of *X* is smaller than 5, replace it with 4. And if an element of *X* is bigger than 9, replace it with 8.\n",
    "\n",
    "X = np.array([8, 4, 22, 3, 66, 12, 1, 5])"
   ]
  },
  {
   "cell_type": "code",
   "execution_count": 8,
   "metadata": {
    "colab": {},
    "colab_type": "code",
    "id": "aWVTyhUOXpAv"
   },
   "outputs": [
    {
     "data": {
      "text/plain": [
       "(140419803304784, 140419271195024)"
      ]
     },
     "execution_count": 8,
     "metadata": {},
     "output_type": "execute_result"
    }
   ],
   "source": [
    "import numpy as np\n",
    "X = np.array([8, 4, 22, 3, 66, 12, 1, 5])\n",
    "y = X.copy()\n",
    "id(X), id(y)"
   ]
  },
  {
   "cell_type": "markdown",
   "metadata": {
    "colab_type": "text",
    "id": "S9I2YYFfg1es"
   },
   "source": [
    "#### Exercise 14: Given an array *X*. Compute the square of *X*, element-wise.\n",
    "\n",
    "X = np.array([2, 3, 4, 5, 6])"
   ]
  },
  {
   "cell_type": "code",
   "execution_count": 31,
   "metadata": {
    "colab": {
     "base_uri": "https://localhost:8080/",
     "height": 34
    },
    "colab_type": "code",
    "executionInfo": {
     "elapsed": 1223,
     "status": "ok",
     "timestamp": 1584079833178,
     "user": {
      "displayName": "Priyanka Gaddam",
      "photoUrl": "",
      "userId": "07316718693164986599"
     },
     "user_tz": -330
    },
    "id": "zmUOYKqVg5tt",
    "outputId": "5d5fc5b7-591a-4168-cbdd-b6490b6effc7"
   },
   "outputs": [
    {
     "data": {
      "text/plain": [
       "array([ 4,  9, 16, 25, 36])"
      ]
     },
     "execution_count": 31,
     "metadata": {
      "tags": []
     },
     "output_type": "execute_result"
    }
   ],
   "source": [
    "X = np.array([2, 3, 4, 5, 6])\n",
    "np.square(X)"
   ]
  },
  {
   "cell_type": "markdown",
   "metadata": {
    "colab_type": "text",
    "id": "cUc_0e5ehFMl"
   },
   "source": [
    "#### Exercise 15: Given an array *X*. Compute the absolute value of *X*.\n",
    "\n",
    "X = np.array([[-44, 3], [4, -3]])"
   ]
  },
  {
   "cell_type": "code",
   "execution_count": 0,
   "metadata": {
    "colab": {},
    "colab_type": "code",
    "id": "I5p5ILAShAKk"
   },
   "outputs": [],
   "source": [
    "X = np.array([[-44, 3], [4, -3]])"
   ]
  },
  {
   "cell_type": "code",
   "execution_count": 33,
   "metadata": {
    "colab": {
     "base_uri": "https://localhost:8080/",
     "height": 51
    },
    "colab_type": "code",
    "executionInfo": {
     "elapsed": 1284,
     "status": "ok",
     "timestamp": 1584079922013,
     "user": {
      "displayName": "Priyanka Gaddam",
      "photoUrl": "",
      "userId": "07316718693164986599"
     },
     "user_tz": -330
    },
    "id": "mXWDINpJhTri",
    "outputId": "a27fd00b-bb8c-4f41-e99c-f8f701811e42"
   },
   "outputs": [
    {
     "data": {
      "text/plain": [
       "array([[44,  3],\n",
       "       [ 4,  3]])"
      ]
     },
     "execution_count": 33,
     "metadata": {
      "tags": []
     },
     "output_type": "execute_result"
    }
   ],
   "source": [
    "np.abs(X)"
   ]
  },
  {
   "cell_type": "markdown",
   "metadata": {
    "colab_type": "text",
    "id": "ozZ2u2G6hbDu"
   },
   "source": [
    "#### Exercise 16: Given an array *X*. Compute an element-wise indication of the sign of *X*, element-wise.\n",
    "\n",
    "X = np.array([1, 3, 0, -1, -3])"
   ]
  },
  {
   "cell_type": "code",
   "execution_count": 34,
   "metadata": {
    "colab": {
     "base_uri": "https://localhost:8080/",
     "height": 34
    },
    "colab_type": "code",
    "executionInfo": {
     "elapsed": 989,
     "status": "ok",
     "timestamp": 1584080080279,
     "user": {
      "displayName": "Priyanka Gaddam",
      "photoUrl": "",
      "userId": "07316718693164986599"
     },
     "user_tz": -330
    },
    "id": "dmKpDGslh5fF",
    "outputId": "029f23b7-0da8-49d4-89f0-14a405a63ddf"
   },
   "outputs": [
    {
     "name": "stdout",
     "output_type": "stream",
     "text": [
      "[ 1  1  0 -1 -1]\n"
     ]
    }
   ],
   "source": [
    "X = np.array([1, 3, 0, -1, -3])\n",
    "print(np.sign(X))"
   ]
  },
  {
   "cell_type": "markdown",
   "metadata": {
    "colab_type": "text",
    "id": "FBB-R10ch9sj"
   },
   "source": [
    "#### Exercise 17: Create an array of the given shape and populate it with random samples from a uniform distribution over [0, 1)."
   ]
  },
  {
   "cell_type": "code",
   "execution_count": 35,
   "metadata": {
    "colab": {
     "base_uri": "https://localhost:8080/",
     "height": 34
    },
    "colab_type": "code",
    "executionInfo": {
     "elapsed": 924,
     "status": "ok",
     "timestamp": 1584080144240,
     "user": {
      "displayName": "Priyanka Gaddam",
      "photoUrl": "",
      "userId": "07316718693164986599"
     },
     "user_tz": -330
    },
    "id": "x_p6iY0giKov",
    "outputId": "0de93741-a259-4446-e23b-0e4c1c1e873e"
   },
   "outputs": [
    {
     "data": {
      "text/plain": [
       "array([0.96092018, 0.27592605])"
      ]
     },
     "execution_count": 35,
     "metadata": {
      "tags": []
     },
     "output_type": "execute_result"
    }
   ],
   "source": [
    "np.random.rand(2)"
   ]
  },
  {
   "cell_type": "markdown",
   "metadata": {
    "colab_type": "text",
    "id": "tpGK4dgBiU1s"
   },
   "source": [
    "#### Exercise 18: Given an array *gaussian*. How do you get the number of dimensions of the array?\n",
    "\n",
    "\n",
    "gaussian = np.random.randn(2 * 3 * 4).reshape((2, 3, 4))"
   ]
  },
  {
   "cell_type": "code",
   "execution_count": 37,
   "metadata": {
    "colab": {
     "base_uri": "https://localhost:8080/",
     "height": 34
    },
    "colab_type": "code",
    "executionInfo": {
     "elapsed": 1081,
     "status": "ok",
     "timestamp": 1584080340464,
     "user": {
      "displayName": "Priyanka Gaddam",
      "photoUrl": "",
      "userId": "07316718693164986599"
     },
     "user_tz": -330
    },
    "id": "KW7bBw22iML2",
    "outputId": "18957b3f-56f4-485e-f1c1-e0d2f65f8b0c"
   },
   "outputs": [
    {
     "data": {
      "text/plain": [
       "3"
      ]
     },
     "execution_count": 37,
     "metadata": {
      "tags": []
     },
     "output_type": "execute_result"
    }
   ],
   "source": [
    "gaussian = np.random.randn(2 * 3 * 4).reshape((2, 3, 4))\n",
    "gaussian.ndim"
   ]
  },
  {
   "cell_type": "markdown",
   "metadata": {
    "colab_type": "text",
    "id": "3C-hc7xii-DN"
   },
   "source": [
    "#### Exercise 19: Given an array *gaussian*. How do you get the shape of an array?\n",
    "\n",
    "\n",
    "gaussian = np.random.randn(2 * 3 * 4).reshape((2, 3, 4))"
   ]
  },
  {
   "cell_type": "code",
   "execution_count": 38,
   "metadata": {
    "colab": {
     "base_uri": "https://localhost:8080/",
     "height": 34
    },
    "colab_type": "code",
    "executionInfo": {
     "elapsed": 1008,
     "status": "ok",
     "timestamp": 1584080375644,
     "user": {
      "displayName": "Priyanka Gaddam",
      "photoUrl": "",
      "userId": "07316718693164986599"
     },
     "user_tz": -330
    },
    "id": "GxN8bsmFi53f",
    "outputId": "29740535-0f25-4b69-cb78-d25cd6a13d51"
   },
   "outputs": [
    {
     "data": {
      "text/plain": [
       "(2, 3, 4)"
      ]
     },
     "execution_count": 38,
     "metadata": {
      "tags": []
     },
     "output_type": "execute_result"
    }
   ],
   "source": [
    "gaussian.shape"
   ]
  },
  {
   "cell_type": "markdown",
   "metadata": {
    "colab_type": "text",
    "id": "GBA8PxrmjF-3"
   },
   "source": [
    "#### Exercise 20: Given an array *gaussian*. How do you get the total number of elements in the array?\n",
    "\n",
    "\n",
    "gaussian = np.random.randn(2 * 3 * 4).reshape((2, 3, 4))"
   ]
  },
  {
   "cell_type": "code",
   "execution_count": 39,
   "metadata": {
    "colab": {
     "base_uri": "https://localhost:8080/",
     "height": 34
    },
    "colab_type": "code",
    "executionInfo": {
     "elapsed": 1207,
     "status": "ok",
     "timestamp": 1584080409567,
     "user": {
      "displayName": "Priyanka Gaddam",
      "photoUrl": "",
      "userId": "07316718693164986599"
     },
     "user_tz": -330
    },
    "id": "PbpYir4xjEr6",
    "outputId": "9e49711f-2fb2-460d-830b-32d7bc11b200"
   },
   "outputs": [
    {
     "data": {
      "text/plain": [
       "24"
      ]
     },
     "execution_count": 39,
     "metadata": {
      "tags": []
     },
     "output_type": "execute_result"
    }
   ],
   "source": [
    "gaussian.size"
   ]
  },
  {
   "cell_type": "markdown",
   "metadata": {
    "colab_type": "text",
    "id": "t9ciOCrRjP57"
   },
   "source": [
    "#### Exercise 21: Given an array *gaussian*. How do you get memory consumed by each item in the array?\n",
    "\n",
    "\n",
    "gaussian = np.random.randn(2 * 3 * 4).reshape((2, 3, 4))"
   ]
  },
  {
   "cell_type": "code",
   "execution_count": 40,
   "metadata": {
    "colab": {
     "base_uri": "https://localhost:8080/",
     "height": 34
    },
    "colab_type": "code",
    "executionInfo": {
     "elapsed": 1023,
     "status": "ok",
     "timestamp": 1584080449710,
     "user": {
      "displayName": "Priyanka Gaddam",
      "photoUrl": "",
      "userId": "07316718693164986599"
     },
     "user_tz": -330
    },
    "id": "iWK0KJNpjMxI",
    "outputId": "e2a38fe9-1f05-49a2-94ca-d3a6a1ed7394"
   },
   "outputs": [
    {
     "data": {
      "text/plain": [
       "8"
      ]
     },
     "execution_count": 40,
     "metadata": {
      "tags": []
     },
     "output_type": "execute_result"
    }
   ],
   "source": [
    "gaussian.itemsize"
   ]
  },
  {
   "cell_type": "markdown",
   "metadata": {
    "colab_type": "text",
    "id": "orakzs2UjXrL"
   },
   "source": [
    "#### Exercise 22: Given an array *twenty*. How do you access first two rows and three columns\n",
    "\n",
    "twenty = (np.arange(4 * 5)).reshape(4, 5)"
   ]
  },
  {
   "cell_type": "code",
   "execution_count": 10,
   "metadata": {
    "colab": {
     "base_uri": "https://localhost:8080/",
     "height": 51
    },
    "colab_type": "code",
    "executionInfo": {
     "elapsed": 1807,
     "status": "ok",
     "timestamp": 1584080629793,
     "user": {
      "displayName": "Priyanka Gaddam",
      "photoUrl": "",
      "userId": "07316718693164986599"
     },
     "user_tz": -330
    },
    "id": "-Hv2d-AZjWw2",
    "outputId": "4ce14d3e-0326-4a44-b83b-6e2ff7b554b3"
   },
   "outputs": [
    {
     "data": {
      "text/plain": [
       "array([[0, 1, 2],\n",
       "       [5, 6, 7]])"
      ]
     },
     "execution_count": 10,
     "metadata": {},
     "output_type": "execute_result"
    }
   ],
   "source": [
    "twenty = (np.arange(4 * 5)).reshape(4, 5)\n",
    "twenty[:2, :3]"
   ]
  },
  {
   "cell_type": "markdown",
   "metadata": {
    "colab_type": "text",
    "id": "MTiZNOygkDpz"
   },
   "source": [
    "#### Exercise 23: Given an array *twenty*. How do you reverse the order of elements along columns?\n",
    "\n",
    "\n",
    "twenty = (np.arange(4 * 5)).reshape(4, 5) "
   ]
  },
  {
   "cell_type": "code",
   "execution_count": 13,
   "metadata": {
    "colab": {
     "base_uri": "https://localhost:8080/",
     "height": 85
    },
    "colab_type": "code",
    "executionInfo": {
     "elapsed": 923,
     "status": "ok",
     "timestamp": 1584080684155,
     "user": {
      "displayName": "Priyanka Gaddam",
      "photoUrl": "",
      "userId": "07316718693164986599"
     },
     "user_tz": -330
    },
    "id": "gR9tbU3DkCiK",
    "outputId": "8c71dae2-6556-46c9-ae47-778973136252"
   },
   "outputs": [
    {
     "data": {
      "text/plain": [
       "array([[15, 16, 17, 18, 19],\n",
       "       [10, 11, 12, 13, 14],\n",
       "       [ 5,  6,  7,  8,  9],\n",
       "       [ 0,  1,  2,  3,  4]])"
      ]
     },
     "execution_count": 13,
     "metadata": {},
     "output_type": "execute_result"
    }
   ],
   "source": [
    "twenty[::-1]\n"
   ]
  },
  {
   "cell_type": "markdown",
   "metadata": {
    "colab_type": "text",
    "id": "EDfAt4wwkQ3j"
   },
   "source": [
    "#### Exercise 24: Given an array *twenty*. How do you reverse the order of elements along rows?\n",
    "\n",
    "\n",
    "twenty = (np.arange(4 * 5)).reshape(4, 5) "
   ]
  },
  {
   "cell_type": "code",
   "execution_count": 43,
   "metadata": {
    "colab": {
     "base_uri": "https://localhost:8080/",
     "height": 85
    },
    "colab_type": "code",
    "executionInfo": {
     "elapsed": 1016,
     "status": "ok",
     "timestamp": 1584080730729,
     "user": {
      "displayName": "Priyanka Gaddam",
      "photoUrl": "",
      "userId": "07316718693164986599"
     },
     "user_tz": -330
    },
    "id": "FZraxHTWkP_7",
    "outputId": "e7f412cf-aa66-474b-df47-0983e7d1fe6d"
   },
   "outputs": [
    {
     "data": {
      "text/plain": [
       "array([[ 4,  3,  2,  1,  0],\n",
       "       [ 9,  8,  7,  6,  5],\n",
       "       [14, 13, 12, 11, 10],\n",
       "       [19, 18, 17, 16, 15]])"
      ]
     },
     "execution_count": 43,
     "metadata": {
      "tags": []
     },
     "output_type": "execute_result"
    }
   ],
   "source": [
    "twenty[..., ::-1]"
   ]
  },
  {
   "cell_type": "markdown",
   "metadata": {
    "colab_type": "text",
    "id": "6EjVbcyQknaZ"
   },
   "source": [
    "#### Exercise 25: Given an array *twenty*. How do you shuffle the array along axis - 0\n",
    "\n",
    "\n",
    "twenty = (np.arange(4 * 5)).reshape(4, 5) "
   ]
  },
  {
   "cell_type": "code",
   "execution_count": 0,
   "metadata": {
    "colab": {},
    "colab_type": "code",
    "id": "uMvozBGJkbWd"
   },
   "outputs": [],
   "source": [
    "np.random.shuffle(twenty)"
   ]
  },
  {
   "cell_type": "code",
   "execution_count": 46,
   "metadata": {
    "colab": {
     "base_uri": "https://localhost:8080/",
     "height": 85
    },
    "colab_type": "code",
    "executionInfo": {
     "elapsed": 1140,
     "status": "ok",
     "timestamp": 1584080826470,
     "user": {
      "displayName": "Priyanka Gaddam",
      "photoUrl": "",
      "userId": "07316718693164986599"
     },
     "user_tz": -330
    },
    "id": "CqFJokd8kvWJ",
    "outputId": "38edc438-ca53-4967-dd55-acdd494dd161"
   },
   "outputs": [
    {
     "data": {
      "text/plain": [
       "array([[15, 16, 17, 18, 19],\n",
       "       [10, 11, 12, 13, 14],\n",
       "       [ 5,  6,  7,  8,  9],\n",
       "       [ 0,  1,  2,  3,  4]])"
      ]
     },
     "execution_count": 46,
     "metadata": {
      "tags": []
     },
     "output_type": "execute_result"
    }
   ],
   "source": [
    "twenty"
   ]
  },
  {
   "cell_type": "code",
   "execution_count": 0,
   "metadata": {
    "colab": {},
    "colab_type": "code",
    "id": "Mqn_mG2RkykA"
   },
   "outputs": [],
   "source": []
  }
 ],
 "metadata": {
  "colab": {
   "authorship_tag": "ABX9TyP7zBVyH03CqC1kzaXuraAB",
   "collapsed_sections": [],
   "name": "IntroductiontoNumpy2_Solution.ipynb",
   "provenance": []
  },
  "kernelspec": {
   "display_name": "Python 3",
   "language": "python",
   "name": "python3"
  },
  "language_info": {
   "codemirror_mode": {
    "name": "ipython",
    "version": 3
   },
   "file_extension": ".py",
   "mimetype": "text/x-python",
   "name": "python",
   "nbconvert_exporter": "python",
   "pygments_lexer": "ipython3",
   "version": "3.8.5"
  }
 },
 "nbformat": 4,
 "nbformat_minor": 1
}
