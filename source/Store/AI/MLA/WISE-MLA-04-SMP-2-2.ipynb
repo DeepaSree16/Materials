{
 "cells": [
  {
   "cell_type": "markdown",
   "metadata": {
    "colab_type": "text",
    "id": "S1WzLof2BcLn"
   },
   "source": [
    "# Objectives\n",
    "\n",
    "At the end of the experiment you will able to\n",
    "\n",
    "* perform data cleaning, manipulation and pre-processing using Pandas"
   ]
  },
  {
   "cell_type": "markdown",
   "metadata": {
    "colab_type": "text",
    "id": "GHx209vkCRGY"
   },
   "source": [
    "## Dataset\n",
    "\n",
    "In this Experiment you will be using movies dataset. The dataset contains 77 rows and 8 columns. The columns are as follows:\n",
    "\n",
    "* Film\n",
    "* Genre\n",
    "     - Romance, Comedy, Drama, Animation, Fantasy, Action\n",
    "* Lead Studio\n",
    "* Audience score in percentage\n",
    "* Profitability\n",
    "* Rotten Tomatoes in percentage\n",
    "* Worldwide Gross\n",
    "* Year"
   ]
  },
  {
   "cell_type": "markdown",
   "metadata": {
    "colab_type": "text",
    "id": "7A64kE6zEPb6"
   },
   "source": [
    "## Features of Pandas\n",
    "\n",
    "* Fast and efficient DataFrame object with default and customized indexing.\n",
    "* Tools for loading data into in-memory data objects from different file formats.\n",
    "* Data alignment and integrated handling of missing data.\n",
    "* Reshaping and pivoting of date sets.\n",
    "* Label-based slicing, indexing and subsetting of large data sets.\n",
    "* Columns from a data structure can be deleted or inserted.\n",
    "* Group by data for aggregation and transformations.\n",
    "* High performance merging and joining of data.\n",
    "* Time Series functionality.\n",
    "\n",
    "Now it is time to work on practicals. Following Are the given Exercise:"
   ]
  },
  {
   "cell_type": "code",
   "execution_count": 1,
   "metadata": {
    "colab": {},
    "colab_type": "code",
    "id": "2jTSLqT4EHSk"
   },
   "outputs": [],
   "source": [
    "import pandas as pd"
   ]
  },
  {
   "cell_type": "code",
   "execution_count": 2,
   "metadata": {
    "colab": {},
    "colab_type": "code",
    "id": "OjI4lOVmERN5"
   },
   "outputs": [],
   "source": [
    "moviesdata = pd.read_csv(\"movies.csv\")"
   ]
  },
  {
   "cell_type": "code",
   "execution_count": 3,
   "metadata": {
    "colab": {
     "base_uri": "https://localhost:8080/",
     "height": 204
    },
    "colab_type": "code",
    "executionInfo": {
     "elapsed": 1124,
     "status": "ok",
     "timestamp": 1583753989821,
     "user": {
      "displayName": "Priyanka Gaddam",
      "photoUrl": "",
      "userId": "07316718693164986599"
     },
     "user_tz": -330
    },
    "id": "Cz3cDaw2F_Fb",
    "outputId": "76cedb42-ed0e-43c1-ab53-0ab2eb221570"
   },
   "outputs": [
    {
     "data": {
      "text/html": [
       "<div>\n",
       "<style scoped>\n",
       "    .dataframe tbody tr th:only-of-type {\n",
       "        vertical-align: middle;\n",
       "    }\n",
       "\n",
       "    .dataframe tbody tr th {\n",
       "        vertical-align: top;\n",
       "    }\n",
       "\n",
       "    .dataframe thead th {\n",
       "        text-align: right;\n",
       "    }\n",
       "</style>\n",
       "<table border=\"1\" class=\"dataframe\">\n",
       "  <thead>\n",
       "    <tr style=\"text-align: right;\">\n",
       "      <th></th>\n",
       "      <th>Film</th>\n",
       "      <th>Genre</th>\n",
       "      <th>Lead Studio</th>\n",
       "      <th>Audience score %</th>\n",
       "      <th>Profitability</th>\n",
       "      <th>Rotten Tomatoes %</th>\n",
       "      <th>Worldwide Gross</th>\n",
       "      <th>Year</th>\n",
       "    </tr>\n",
       "  </thead>\n",
       "  <tbody>\n",
       "    <tr>\n",
       "      <th>0</th>\n",
       "      <td>Zack and Miri Make a Porno</td>\n",
       "      <td>Romance</td>\n",
       "      <td>The Weinstein Company</td>\n",
       "      <td>70</td>\n",
       "      <td>1.747542</td>\n",
       "      <td>64</td>\n",
       "      <td>$41.94</td>\n",
       "      <td>2008</td>\n",
       "    </tr>\n",
       "    <tr>\n",
       "      <th>1</th>\n",
       "      <td>Youth in Revolt</td>\n",
       "      <td>Comedy</td>\n",
       "      <td>The Weinstein Company</td>\n",
       "      <td>52</td>\n",
       "      <td>1.090000</td>\n",
       "      <td>68</td>\n",
       "      <td>$19.62</td>\n",
       "      <td>2010</td>\n",
       "    </tr>\n",
       "    <tr>\n",
       "      <th>2</th>\n",
       "      <td>You Will Meet a Tall Dark Stranger</td>\n",
       "      <td>Comedy</td>\n",
       "      <td>Independent</td>\n",
       "      <td>35</td>\n",
       "      <td>1.211818</td>\n",
       "      <td>43</td>\n",
       "      <td>$26.66</td>\n",
       "      <td>2010</td>\n",
       "    </tr>\n",
       "    <tr>\n",
       "      <th>3</th>\n",
       "      <td>When in Rome</td>\n",
       "      <td>Comedy</td>\n",
       "      <td>Disney</td>\n",
       "      <td>44</td>\n",
       "      <td>0.000000</td>\n",
       "      <td>15</td>\n",
       "      <td>$43.04</td>\n",
       "      <td>2010</td>\n",
       "    </tr>\n",
       "    <tr>\n",
       "      <th>4</th>\n",
       "      <td>What Happens in Vegas</td>\n",
       "      <td>Comedy</td>\n",
       "      <td>Fox</td>\n",
       "      <td>72</td>\n",
       "      <td>6.267647</td>\n",
       "      <td>28</td>\n",
       "      <td>$219.37</td>\n",
       "      <td>2008</td>\n",
       "    </tr>\n",
       "  </tbody>\n",
       "</table>\n",
       "</div>"
      ],
      "text/plain": [
       "                                 Film    Genre            Lead Studio  \\\n",
       "0          Zack and Miri Make a Porno  Romance  The Weinstein Company   \n",
       "1                     Youth in Revolt   Comedy  The Weinstein Company   \n",
       "2  You Will Meet a Tall Dark Stranger   Comedy            Independent   \n",
       "3                        When in Rome   Comedy                 Disney   \n",
       "4               What Happens in Vegas   Comedy                    Fox   \n",
       "\n",
       "   Audience score %  Profitability  Rotten Tomatoes % Worldwide Gross  Year  \n",
       "0                70       1.747542                 64         $41.94   2008  \n",
       "1                52       1.090000                 68         $19.62   2010  \n",
       "2                35       1.211818                 43         $26.66   2010  \n",
       "3                44       0.000000                 15         $43.04   2010  \n",
       "4                72       6.267647                 28        $219.37   2008  "
      ]
     },
     "execution_count": 3,
     "metadata": {},
     "output_type": "execute_result"
    }
   ],
   "source": [
    "moviesdata.head()"
   ]
  },
  {
   "cell_type": "markdown",
   "metadata": {
    "colab_type": "text",
    "id": "7lFxb7yqFOCn"
   },
   "source": [
    "### Exercises 1: How many movies are listed in the moviesdata dataframe?"
   ]
  },
  {
   "cell_type": "code",
   "execution_count": 4,
   "metadata": {
    "colab": {
     "base_uri": "https://localhost:8080/",
     "height": 35
    },
    "colab_type": "code",
    "executionInfo": {
     "elapsed": 1015,
     "status": "ok",
     "timestamp": 1583753890036,
     "user": {
      "displayName": "Priyanka Gaddam",
      "photoUrl": "",
      "userId": "07316718693164986599"
     },
     "user_tz": -330
    },
    "id": "Id6nA4idFZUH",
    "outputId": "3c781b48-8417-4926-a457-a8cc48b8af0d"
   },
   "outputs": [
    {
     "data": {
      "text/plain": [
       "75"
      ]
     },
     "execution_count": 4,
     "metadata": {},
     "output_type": "execute_result"
    }
   ],
   "source": [
    "len(moviesdata.Film.unique())"
   ]
  },
  {
   "cell_type": "markdown",
   "metadata": {
    "colab_type": "text",
    "id": "951to2E3Fzqt"
   },
   "source": [
    "### Exercises 2: How many movies were made in the year 2009?"
   ]
  },
  {
   "cell_type": "code",
   "execution_count": 12,
   "metadata": {
    "colab": {
     "base_uri": "https://localhost:8080/",
     "height": 35
    },
    "colab_type": "code",
    "executionInfo": {
     "elapsed": 1137,
     "status": "ok",
     "timestamp": 1583753656615,
     "user": {
      "displayName": "Priyanka Gaddam",
      "photoUrl": "",
      "userId": "07316718693164986599"
     },
     "user_tz": -330
    },
    "id": "mujshh9uEgFz",
    "outputId": "b4d93266-1550-46f8-f02e-350df907885c"
   },
   "outputs": [
    {
     "data": {
      "text/plain": [
       "12"
      ]
     },
     "execution_count": 12,
     "metadata": {},
     "output_type": "execute_result"
    }
   ],
   "source": [
    "len(moviesdata[moviesdata[\"Year\"] == 2009])"
   ]
  },
  {
   "cell_type": "markdown",
   "metadata": {
    "colab_type": "text",
    "id": "lNhxrJbhFBDC"
   },
   "source": [
    "### Exercises 3: Which year saw the most films released?"
   ]
  },
  {
   "cell_type": "code",
   "execution_count": 22,
   "metadata": {},
   "outputs": [
    {
     "name": "stdout",
     "output_type": "stream",
     "text": [
      "2008\n",
      "2010\n"
     ]
    }
   ],
   "source": [
    "for i in range(2):\n",
    "    print(moviesdata['Year'].mode()[i])"
   ]
  },
  {
   "cell_type": "code",
   "execution_count": null,
   "metadata": {
    "colab": {
     "base_uri": "https://localhost:8080/",
     "height": 35
    },
    "colab_type": "code",
    "executionInfo": {
     "elapsed": 1459,
     "status": "ok",
     "timestamp": 1583753647255,
     "user": {
      "displayName": "Priyanka Gaddam",
      "photoUrl": "",
      "userId": "07316718693164986599"
     },
     "user_tz": -330
    },
    "id": "QecEkKQxEY89",
    "outputId": "0833c21a-4b2b-40e6-86fe-ad78352b9508"
   },
   "outputs": [],
   "source": [
    "moviesdata[moviesdata[\"Year\"] == 2008].shape"
   ]
  },
  {
   "cell_type": "code",
   "execution_count": 19,
   "metadata": {
    "colab": {
     "base_uri": "https://localhost:8080/",
     "height": 35
    },
    "colab_type": "code",
    "executionInfo": {
     "elapsed": 880,
     "status": "ok",
     "timestamp": 1583753663356,
     "user": {
      "displayName": "Priyanka Gaddam",
      "photoUrl": "",
      "userId": "07316718693164986599"
     },
     "user_tz": -330
    },
    "id": "Axs-ax0WEvRM",
    "outputId": "69c49466-c127-4952-8ebb-6edb77d7dcb1"
   },
   "outputs": [
    {
     "data": {
      "text/plain": [
       "(20, 8)"
      ]
     },
     "execution_count": 19,
     "metadata": {
      "tags": []
     },
     "output_type": "execute_result"
    }
   ],
   "source": [
    "moviesdata[moviesdata[\"Year\"] == 2010].shape"
   ]
  },
  {
   "cell_type": "code",
   "execution_count": 21,
   "metadata": {
    "colab": {
     "base_uri": "https://localhost:8080/",
     "height": 35
    },
    "colab_type": "code",
    "executionInfo": {
     "elapsed": 1043,
     "status": "ok",
     "timestamp": 1583753706920,
     "user": {
      "displayName": "Priyanka Gaddam",
      "photoUrl": "",
      "userId": "07316718693164986599"
     },
     "user_tz": -330
    },
    "id": "qROFFcBrE3WK",
    "outputId": "80eb3042-89f6-4abf-f9b3-eb458712c8a4"
   },
   "outputs": [
    {
     "data": {
      "text/plain": [
       "(11, 8)"
      ]
     },
     "execution_count": 21,
     "metadata": {
      "tags": []
     },
     "output_type": "execute_result"
    }
   ],
   "source": [
    "moviesdata[moviesdata[\"Year\"] == 2007].shape"
   ]
  },
  {
   "cell_type": "code",
   "execution_count": 22,
   "metadata": {
    "colab": {
     "base_uri": "https://localhost:8080/",
     "height": 35
    },
    "colab_type": "code",
    "executionInfo": {
     "elapsed": 921,
     "status": "ok",
     "timestamp": 1583753717284,
     "user": {
      "displayName": "Priyanka Gaddam",
      "photoUrl": "",
      "userId": "07316718693164986599"
     },
     "user_tz": -330
    },
    "id": "9wJyQC8zE7iz",
    "outputId": "f6c92e77-f0e2-4012-fafe-c25da8dba57c"
   },
   "outputs": [
    {
     "data": {
      "text/plain": [
       "(14, 8)"
      ]
     },
     "execution_count": 22,
     "metadata": {
      "tags": []
     },
     "output_type": "execute_result"
    }
   ],
   "source": [
    "moviesdata[moviesdata[\"Year\"] == 2011].shape"
   ]
  },
  {
   "cell_type": "markdown",
   "metadata": {
    "colab_type": "text",
    "id": "lfA0jgISGGfx"
   },
   "source": [
    "### Exercises 4: How many movies were made from 2010 through 2011?"
   ]
  },
  {
   "cell_type": "code",
   "execution_count": 23,
   "metadata": {
    "colab": {
     "base_uri": "https://localhost:8080/",
     "height": 35
    },
    "colab_type": "code",
    "executionInfo": {
     "elapsed": 1184,
     "status": "ok",
     "timestamp": 1583754046120,
     "user": {
      "displayName": "Priyanka Gaddam",
      "photoUrl": "",
      "userId": "07316718693164986599"
     },
     "user_tz": -330
    },
    "id": "GT87nhGUGKqs",
    "outputId": "deb8de60-e507-4335-fd5e-4852a888eb54"
   },
   "outputs": [
    {
     "data": {
      "text/plain": [
       "34"
      ]
     },
     "execution_count": 23,
     "metadata": {},
     "output_type": "execute_result"
    }
   ],
   "source": [
    "len(moviesdata[moviesdata[\"Year\"] >= 2010])"
   ]
  },
  {
   "cell_type": "code",
   "execution_count": 31,
   "metadata": {
    "colab": {
     "base_uri": "https://localhost:8080/",
     "height": 53
    },
    "colab_type": "code",
    "executionInfo": {
     "elapsed": 967,
     "status": "ok",
     "timestamp": 1583754293051,
     "user": {
      "displayName": "Priyanka Gaddam",
      "photoUrl": "",
      "userId": "07316718693164986599"
     },
     "user_tz": -330
    },
    "id": "Z1zbS2mCHG6n",
    "outputId": "b220131e-e6ad-454c-86f6-405013ed7db6"
   },
   "outputs": [
    {
     "data": {
      "text/plain": [
       "array(['Romance', 'Comedy', 'Drama', 'Animation', 'Fantasy', 'Romence',\n",
       "       'Comdy', 'Action', 'romance', 'comedy'], dtype=object)"
      ]
     },
     "execution_count": 31,
     "metadata": {
      "tags": []
     },
     "output_type": "execute_result"
    }
   ],
   "source": [
    "moviesdata[\"Genre\"].unique()"
   ]
  },
  {
   "cell_type": "markdown",
   "metadata": {
    "colab_type": "text",
    "id": "rERFAv1xGy4x"
   },
   "source": [
    "### Exercises 5: In Genre column, sometimes Comedy is spelled as Comdy, comedy and Romance is spelled as romance, Romence. Replace all the misspelt words with correct words"
   ]
  },
  {
   "cell_type": "code",
   "execution_count": 24,
   "metadata": {},
   "outputs": [
    {
     "data": {
      "text/plain": [
       "array(['Romance', 'Comedy', 'Drama', 'Animation', 'Fantasy', 'Romence',\n",
       "       'Comdy', 'Action', 'romance', 'comedy'], dtype=object)"
      ]
     },
     "execution_count": 24,
     "metadata": {},
     "output_type": "execute_result"
    }
   ],
   "source": [
    "moviesdata['Genre'].unique()"
   ]
  },
  {
   "cell_type": "code",
   "execution_count": 25,
   "metadata": {
    "colab": {},
    "colab_type": "code",
    "id": "8SVeciUSGyPv"
   },
   "outputs": [],
   "source": [
    "moviesdata['Genre'] = moviesdata[\"Genre\"].str.replace(\"Comdy\", \"Comedy\")"
   ]
  },
  {
   "cell_type": "code",
   "execution_count": 26,
   "metadata": {
    "colab": {},
    "colab_type": "code",
    "id": "xx_hDuvGH4jt"
   },
   "outputs": [],
   "source": [
    "moviesdata['Genre'] = moviesdata[\"Genre\"].str.replace(\"comedy\", \"Comedy\")"
   ]
  },
  {
   "cell_type": "code",
   "execution_count": 27,
   "metadata": {
    "colab": {},
    "colab_type": "code",
    "id": "O_CwFPLUH-cL"
   },
   "outputs": [],
   "source": [
    "moviesdata['Genre'] = moviesdata[\"Genre\"].str.replace(\"Romence\", \"Romance\")"
   ]
  },
  {
   "cell_type": "code",
   "execution_count": 28,
   "metadata": {
    "colab": {},
    "colab_type": "code",
    "id": "1cJPF8nYICQn"
   },
   "outputs": [],
   "source": [
    "moviesdata['Genre'] = moviesdata[\"Genre\"].str.replace(\"romance\", \"Romance\")"
   ]
  },
  {
   "cell_type": "code",
   "execution_count": 38,
   "metadata": {
    "colab": {
     "base_uri": "https://localhost:8080/",
     "height": 53
    },
    "colab_type": "code",
    "executionInfo": {
     "elapsed": 1537,
     "status": "ok",
     "timestamp": 1583754540858,
     "user": {
      "displayName": "Priyanka Gaddam",
      "photoUrl": "",
      "userId": "07316718693164986599"
     },
     "user_tz": -330
    },
    "id": "hSf93FkfH7jK",
    "outputId": "d893bda6-bf92-4b68-c888-33217fa09554"
   },
   "outputs": [
    {
     "data": {
      "text/plain": [
       "array(['Romance', 'Comedy', 'Drama', 'Animation', 'Fantasy', 'Action'],\n",
       "      dtype=object)"
      ]
     },
     "execution_count": 38,
     "metadata": {
      "tags": []
     },
     "output_type": "execute_result"
    }
   ],
   "source": [
    "moviesdata[\"Genre\"].unique()"
   ]
  },
  {
   "cell_type": "markdown",
   "metadata": {
    "colab_type": "text",
    "id": "XotWOMJ_IJPF"
   },
   "source": [
    "### Exercises 6: How many Comedy Genre movies has release in 2009?"
   ]
  },
  {
   "cell_type": "code",
   "execution_count": 29,
   "metadata": {
    "colab": {
     "base_uri": "https://localhost:8080/",
     "height": 266
    },
    "colab_type": "code",
    "executionInfo": {
     "elapsed": 1248,
     "status": "ok",
     "timestamp": 1583754587448,
     "user": {
      "displayName": "Priyanka Gaddam",
      "photoUrl": "",
      "userId": "07316718693164986599"
     },
     "user_tz": -330
    },
    "id": "5uUubE70GOWL",
    "outputId": "a74a19f4-94a6-4069-b93b-172efae4fe4e"
   },
   "outputs": [
    {
     "data": {
      "text/plain": [
       "7"
      ]
     },
     "execution_count": 29,
     "metadata": {},
     "output_type": "execute_result"
    }
   ],
   "source": [
    "len(moviesdata[(moviesdata[\"Year\"] == 2009) & (moviesdata['Genre'] == \"Comedy\") ])"
   ]
  },
  {
   "cell_type": "markdown",
   "metadata": {
    "colab_type": "text",
    "id": "j-zcJYfdPiG3"
   },
   "source": [
    "### Exercises 7: Which year as the most number of Romance Genre Movies releases?"
   ]
  },
  {
   "cell_type": "code",
   "execution_count": 33,
   "metadata": {
    "colab": {
     "base_uri": "https://localhost:8080/",
     "height": 297
    },
    "colab_type": "code",
    "executionInfo": {
     "elapsed": 1302,
     "status": "ok",
     "timestamp": 1583756586274,
     "user": {
      "displayName": "Priyanka Gaddam",
      "photoUrl": "",
      "userId": "07316718693164986599"
     },
     "user_tz": -330
    },
    "id": "28nVARnJIdnJ",
    "outputId": "0fcfd386-f45d-4c5f-f555-f174390fddc8"
   },
   "outputs": [
    {
     "data": {
      "text/plain": [
       "2011"
      ]
     },
     "execution_count": 33,
     "metadata": {},
     "output_type": "execute_result"
    }
   ],
   "source": [
    "moviesdata[moviesdata['Genre'] == \"Romance\"]['Year'].mode()[0]"
   ]
  },
  {
   "cell_type": "markdown",
   "metadata": {
    "colab_type": "text",
    "id": "QxEtNLKoQGKq"
   },
   "source": [
    "### Exercises 8: How many films are made by Sony Lead Studio?"
   ]
  },
  {
   "cell_type": "code",
   "execution_count": 34,
   "metadata": {
    "colab": {
     "base_uri": "https://localhost:8080/",
     "height": 35
    },
    "colab_type": "code",
    "executionInfo": {
     "elapsed": 1414,
     "status": "ok",
     "timestamp": 1583756803619,
     "user": {
      "displayName": "Priyanka Gaddam",
      "photoUrl": "",
      "userId": "07316718693164986599"
     },
     "user_tz": -330
    },
    "id": "def6pUxHPxd-",
    "outputId": "54c011d8-7572-4d83-845c-dd19133cfce6"
   },
   "outputs": [
    {
     "data": {
      "text/plain": [
       "4"
      ]
     },
     "execution_count": 34,
     "metadata": {},
     "output_type": "execute_result"
    }
   ],
   "source": [
    "len(moviesdata[moviesdata['Lead Studio'] == \"Sony\"])"
   ]
  },
  {
   "cell_type": "markdown",
   "metadata": {
    "colab_type": "text",
    "id": "3uU00yjHQ7xC"
   },
   "source": [
    "### Exercises 9: How many films are having Audience score less than 50 %?"
   ]
  },
  {
   "cell_type": "code",
   "execution_count": 35,
   "metadata": {
    "colab": {
     "base_uri": "https://localhost:8080/",
     "height": 35
    },
    "colab_type": "code",
    "executionInfo": {
     "elapsed": 1047,
     "status": "ok",
     "timestamp": 1583756938353,
     "user": {
      "displayName": "Priyanka Gaddam",
      "photoUrl": "",
      "userId": "07316718693164986599"
     },
     "user_tz": -330
    },
    "id": "f6KNkSfGP_8o",
    "outputId": "7e9afd07-7905-4ce3-987f-767e3ce6b577"
   },
   "outputs": [
    {
     "data": {
      "text/plain": [
       "16"
      ]
     },
     "execution_count": 35,
     "metadata": {},
     "output_type": "execute_result"
    }
   ],
   "source": [
    "len(moviesdata[moviesdata['Audience score %'] < 50])"
   ]
  },
  {
   "cell_type": "markdown",
   "metadata": {
    "colab_type": "text",
    "id": "gsOE9jyoRUuD"
   },
   "source": [
    "### Exercises 10: Display all the movies done by Universal Lead Studio?"
   ]
  },
  {
   "cell_type": "code",
   "execution_count": 36,
   "metadata": {
    "colab": {
     "base_uri": "https://localhost:8080/",
     "height": 297
    },
    "colab_type": "code",
    "executionInfo": {
     "elapsed": 1287,
     "status": "ok",
     "timestamp": 1583757135461,
     "user": {
      "displayName": "Priyanka Gaddam",
      "photoUrl": "",
      "userId": "07316718693164986599"
     },
     "user_tz": -330
    },
    "id": "Dqd4XTCLRLh9",
    "outputId": "3a48f05f-8e9b-4802-ea8b-edbaf86610ab"
   },
   "outputs": [
    {
     "data": {
      "text/html": [
       "<div>\n",
       "<style scoped>\n",
       "    .dataframe tbody tr th:only-of-type {\n",
       "        vertical-align: middle;\n",
       "    }\n",
       "\n",
       "    .dataframe tbody tr th {\n",
       "        vertical-align: top;\n",
       "    }\n",
       "\n",
       "    .dataframe thead th {\n",
       "        text-align: right;\n",
       "    }\n",
       "</style>\n",
       "<table border=\"1\" class=\"dataframe\">\n",
       "  <thead>\n",
       "    <tr style=\"text-align: right;\">\n",
       "      <th></th>\n",
       "      <th>Film</th>\n",
       "      <th>Genre</th>\n",
       "      <th>Lead Studio</th>\n",
       "      <th>Audience score %</th>\n",
       "      <th>Profitability</th>\n",
       "      <th>Rotten Tomatoes %</th>\n",
       "      <th>Worldwide Gross</th>\n",
       "      <th>Year</th>\n",
       "    </tr>\n",
       "  </thead>\n",
       "  <tbody>\n",
       "    <tr>\n",
       "      <th>45</th>\n",
       "      <td>Mamma Mia!</td>\n",
       "      <td>Comedy</td>\n",
       "      <td>Universal</td>\n",
       "      <td>76</td>\n",
       "      <td>9.234454</td>\n",
       "      <td>53</td>\n",
       "      <td>$609.47</td>\n",
       "      <td>2008</td>\n",
       "    </tr>\n",
       "    <tr>\n",
       "      <th>46</th>\n",
       "      <td>Mamma Mia!</td>\n",
       "      <td>Comedy</td>\n",
       "      <td>Universal</td>\n",
       "      <td>76</td>\n",
       "      <td>9.234454</td>\n",
       "      <td>53</td>\n",
       "      <td>$609.47</td>\n",
       "      <td>2008</td>\n",
       "    </tr>\n",
       "    <tr>\n",
       "      <th>48</th>\n",
       "      <td>Love Happens</td>\n",
       "      <td>Drama</td>\n",
       "      <td>Universal</td>\n",
       "      <td>40</td>\n",
       "      <td>2.004444</td>\n",
       "      <td>18</td>\n",
       "      <td>$36.08</td>\n",
       "      <td>2009</td>\n",
       "    </tr>\n",
       "    <tr>\n",
       "      <th>53</th>\n",
       "      <td>Leap Year</td>\n",
       "      <td>Comedy</td>\n",
       "      <td>Universal</td>\n",
       "      <td>49</td>\n",
       "      <td>1.715263</td>\n",
       "      <td>21</td>\n",
       "      <td>$32.59</td>\n",
       "      <td>2010</td>\n",
       "    </tr>\n",
       "    <tr>\n",
       "      <th>54</th>\n",
       "      <td>Knocked Up</td>\n",
       "      <td>Comedy</td>\n",
       "      <td>Universal</td>\n",
       "      <td>83</td>\n",
       "      <td>6.636402</td>\n",
       "      <td>91</td>\n",
       "      <td>$219</td>\n",
       "      <td>2007</td>\n",
       "    </tr>\n",
       "    <tr>\n",
       "      <th>57</th>\n",
       "      <td>Jane Eyre</td>\n",
       "      <td>Romance</td>\n",
       "      <td>Universal</td>\n",
       "      <td>77</td>\n",
       "      <td>0.000000</td>\n",
       "      <td>85</td>\n",
       "      <td>$30.15</td>\n",
       "      <td>2011</td>\n",
       "    </tr>\n",
       "    <tr>\n",
       "      <th>58</th>\n",
       "      <td>It's Complicated</td>\n",
       "      <td>Comedy</td>\n",
       "      <td>Universal</td>\n",
       "      <td>63</td>\n",
       "      <td>2.642353</td>\n",
       "      <td>56</td>\n",
       "      <td>$224.60</td>\n",
       "      <td>2009</td>\n",
       "    </tr>\n",
       "    <tr>\n",
       "      <th>73</th>\n",
       "      <td>A Serious Man</td>\n",
       "      <td>Drama</td>\n",
       "      <td>Universal</td>\n",
       "      <td>64</td>\n",
       "      <td>4.382857</td>\n",
       "      <td>89</td>\n",
       "      <td>$30.68</td>\n",
       "      <td>2009</td>\n",
       "    </tr>\n",
       "  </tbody>\n",
       "</table>\n",
       "</div>"
      ],
      "text/plain": [
       "                Film    Genre Lead Studio  Audience score %  Profitability  \\\n",
       "45        Mamma Mia!   Comedy   Universal                76       9.234454   \n",
       "46        Mamma Mia!   Comedy   Universal                76       9.234454   \n",
       "48      Love Happens    Drama   Universal                40       2.004444   \n",
       "53         Leap Year   Comedy   Universal                49       1.715263   \n",
       "54        Knocked Up   Comedy   Universal                83       6.636402   \n",
       "57         Jane Eyre  Romance   Universal                77       0.000000   \n",
       "58  It's Complicated   Comedy   Universal                63       2.642353   \n",
       "73     A Serious Man    Drama   Universal                64       4.382857   \n",
       "\n",
       "    Rotten Tomatoes % Worldwide Gross  Year  \n",
       "45                 53        $609.47   2008  \n",
       "46                 53        $609.47   2008  \n",
       "48                 18         $36.08   2009  \n",
       "53                 21         $32.59   2010  \n",
       "54                 91           $219   2007  \n",
       "57                 85         $30.15   2011  \n",
       "58                 56        $224.60   2009  \n",
       "73                 89         $30.68   2009  "
      ]
     },
     "execution_count": 36,
     "metadata": {},
     "output_type": "execute_result"
    }
   ],
   "source": [
    "moviesdata[moviesdata['Lead Studio'] == \"Universal\"]"
   ]
  },
  {
   "cell_type": "code",
   "execution_count": 39,
   "metadata": {},
   "outputs": [
    {
     "data": {
      "text/html": [
       "<div>\n",
       "<style scoped>\n",
       "    .dataframe tbody tr th:only-of-type {\n",
       "        vertical-align: middle;\n",
       "    }\n",
       "\n",
       "    .dataframe tbody tr th {\n",
       "        vertical-align: top;\n",
       "    }\n",
       "\n",
       "    .dataframe thead th {\n",
       "        text-align: right;\n",
       "    }\n",
       "</style>\n",
       "<table border=\"1\" class=\"dataframe\">\n",
       "  <thead>\n",
       "    <tr style=\"text-align: right;\">\n",
       "      <th></th>\n",
       "      <th>Film</th>\n",
       "      <th>Genre</th>\n",
       "      <th>Lead Studio</th>\n",
       "      <th>Audience score %</th>\n",
       "      <th>Profitability</th>\n",
       "      <th>Rotten Tomatoes %</th>\n",
       "      <th>Worldwide Gross</th>\n",
       "      <th>Year</th>\n",
       "    </tr>\n",
       "  </thead>\n",
       "  <tbody>\n",
       "    <tr>\n",
       "      <th>0</th>\n",
       "      <td>Zack and Miri Make a Porno</td>\n",
       "      <td>Romance</td>\n",
       "      <td>The Weinstein Company</td>\n",
       "      <td>70</td>\n",
       "      <td>1.747542</td>\n",
       "      <td>64</td>\n",
       "      <td>41.94</td>\n",
       "      <td>2008</td>\n",
       "    </tr>\n",
       "    <tr>\n",
       "      <th>1</th>\n",
       "      <td>Youth in Revolt</td>\n",
       "      <td>Comedy</td>\n",
       "      <td>The Weinstein Company</td>\n",
       "      <td>52</td>\n",
       "      <td>1.090000</td>\n",
       "      <td>68</td>\n",
       "      <td>19.62</td>\n",
       "      <td>2010</td>\n",
       "    </tr>\n",
       "    <tr>\n",
       "      <th>2</th>\n",
       "      <td>You Will Meet a Tall Dark Stranger</td>\n",
       "      <td>Comedy</td>\n",
       "      <td>Independent</td>\n",
       "      <td>35</td>\n",
       "      <td>1.211818</td>\n",
       "      <td>43</td>\n",
       "      <td>26.66</td>\n",
       "      <td>2010</td>\n",
       "    </tr>\n",
       "    <tr>\n",
       "      <th>3</th>\n",
       "      <td>When in Rome</td>\n",
       "      <td>Comedy</td>\n",
       "      <td>Disney</td>\n",
       "      <td>44</td>\n",
       "      <td>0.000000</td>\n",
       "      <td>15</td>\n",
       "      <td>43.04</td>\n",
       "      <td>2010</td>\n",
       "    </tr>\n",
       "    <tr>\n",
       "      <th>4</th>\n",
       "      <td>What Happens in Vegas</td>\n",
       "      <td>Comedy</td>\n",
       "      <td>Fox</td>\n",
       "      <td>72</td>\n",
       "      <td>6.267647</td>\n",
       "      <td>28</td>\n",
       "      <td>219.37</td>\n",
       "      <td>2008</td>\n",
       "    </tr>\n",
       "    <tr>\n",
       "      <th>...</th>\n",
       "      <td>...</td>\n",
       "      <td>...</td>\n",
       "      <td>...</td>\n",
       "      <td>...</td>\n",
       "      <td>...</td>\n",
       "      <td>...</td>\n",
       "      <td>...</td>\n",
       "      <td>...</td>\n",
       "    </tr>\n",
       "    <tr>\n",
       "      <th>72</th>\n",
       "      <td>Across the Universe</td>\n",
       "      <td>Romance</td>\n",
       "      <td>Independent</td>\n",
       "      <td>84</td>\n",
       "      <td>0.652603</td>\n",
       "      <td>54</td>\n",
       "      <td>29.37</td>\n",
       "      <td>2007</td>\n",
       "    </tr>\n",
       "    <tr>\n",
       "      <th>73</th>\n",
       "      <td>A Serious Man</td>\n",
       "      <td>Drama</td>\n",
       "      <td>Universal</td>\n",
       "      <td>64</td>\n",
       "      <td>4.382857</td>\n",
       "      <td>89</td>\n",
       "      <td>30.68</td>\n",
       "      <td>2009</td>\n",
       "    </tr>\n",
       "    <tr>\n",
       "      <th>74</th>\n",
       "      <td>A Dangerous Method</td>\n",
       "      <td>Drama</td>\n",
       "      <td>Independent</td>\n",
       "      <td>89</td>\n",
       "      <td>0.448645</td>\n",
       "      <td>79</td>\n",
       "      <td>8.97</td>\n",
       "      <td>2011</td>\n",
       "    </tr>\n",
       "    <tr>\n",
       "      <th>75</th>\n",
       "      <td>27 Dresses</td>\n",
       "      <td>Comedy</td>\n",
       "      <td>Fox</td>\n",
       "      <td>71</td>\n",
       "      <td>5.343622</td>\n",
       "      <td>40</td>\n",
       "      <td>160.31</td>\n",
       "      <td>2008</td>\n",
       "    </tr>\n",
       "    <tr>\n",
       "      <th>76</th>\n",
       "      <td>(500) Days of Summer</td>\n",
       "      <td>Comedy</td>\n",
       "      <td>Fox</td>\n",
       "      <td>81</td>\n",
       "      <td>8.096000</td>\n",
       "      <td>87</td>\n",
       "      <td>60.72</td>\n",
       "      <td>2009</td>\n",
       "    </tr>\n",
       "  </tbody>\n",
       "</table>\n",
       "<p>77 rows × 8 columns</p>\n",
       "</div>"
      ],
      "text/plain": [
       "                                  Film    Genre            Lead Studio  \\\n",
       "0           Zack and Miri Make a Porno  Romance  The Weinstein Company   \n",
       "1                      Youth in Revolt   Comedy  The Weinstein Company   \n",
       "2   You Will Meet a Tall Dark Stranger   Comedy            Independent   \n",
       "3                         When in Rome   Comedy                 Disney   \n",
       "4                What Happens in Vegas   Comedy                    Fox   \n",
       "..                                 ...      ...                    ...   \n",
       "72                 Across the Universe  Romance            Independent   \n",
       "73                       A Serious Man    Drama              Universal   \n",
       "74                  A Dangerous Method    Drama            Independent   \n",
       "75                          27 Dresses   Comedy                    Fox   \n",
       "76                (500) Days of Summer   Comedy                    Fox   \n",
       "\n",
       "    Audience score %  Profitability  Rotten Tomatoes %  Worldwide Gross  Year  \n",
       "0                 70       1.747542                 64            41.94  2008  \n",
       "1                 52       1.090000                 68            19.62  2010  \n",
       "2                 35       1.211818                 43            26.66  2010  \n",
       "3                 44       0.000000                 15            43.04  2010  \n",
       "4                 72       6.267647                 28           219.37  2008  \n",
       "..               ...            ...                ...              ...   ...  \n",
       "72                84       0.652603                 54            29.37  2007  \n",
       "73                64       4.382857                 89            30.68  2009  \n",
       "74                89       0.448645                 79             8.97  2011  \n",
       "75                71       5.343622                 40           160.31  2008  \n",
       "76                81       8.096000                 87            60.72  2009  \n",
       "\n",
       "[77 rows x 8 columns]"
      ]
     },
     "execution_count": 39,
     "metadata": {},
     "output_type": "execute_result"
    }
   ],
   "source": [
    "moviesdata['Worldwide Gross'] = [float(value.lstrip('$')) for value in moviesdata['Worldwide Gross']]\n",
    "moviesdata"
   ]
  },
  {
   "cell_type": "code",
   "execution_count": 37,
   "metadata": {},
   "outputs": [],
   "source": [
    "def is_hit(row):\n",
    "    if row['Audience score %'] > 75 and row['Worldwide Gross'] > 500:\n",
    "        return 'Hit'\n",
    "    return 'Average'"
   ]
  },
  {
   "cell_type": "code",
   "execution_count": 42,
   "metadata": {},
   "outputs": [],
   "source": [
    "moviesdata['Hit / Average'] = moviesdata.apply(lambda row: is_hit(row), axis=1)"
   ]
  },
  {
   "cell_type": "code",
   "execution_count": 44,
   "metadata": {},
   "outputs": [
    {
     "data": {
      "text/html": [
       "<div>\n",
       "<style scoped>\n",
       "    .dataframe tbody tr th:only-of-type {\n",
       "        vertical-align: middle;\n",
       "    }\n",
       "\n",
       "    .dataframe tbody tr th {\n",
       "        vertical-align: top;\n",
       "    }\n",
       "\n",
       "    .dataframe thead th {\n",
       "        text-align: right;\n",
       "    }\n",
       "</style>\n",
       "<table border=\"1\" class=\"dataframe\">\n",
       "  <thead>\n",
       "    <tr style=\"text-align: right;\">\n",
       "      <th></th>\n",
       "      <th>Film</th>\n",
       "      <th>Genre</th>\n",
       "      <th>Lead Studio</th>\n",
       "      <th>Audience score %</th>\n",
       "      <th>Profitability</th>\n",
       "      <th>Rotten Tomatoes %</th>\n",
       "      <th>Worldwide Gross</th>\n",
       "      <th>Year</th>\n",
       "      <th>Hit / Average</th>\n",
       "    </tr>\n",
       "  </thead>\n",
       "  <tbody>\n",
       "    <tr>\n",
       "      <th>6</th>\n",
       "      <td>WALL-E</td>\n",
       "      <td>Animation</td>\n",
       "      <td>Disney</td>\n",
       "      <td>89</td>\n",
       "      <td>2.896019</td>\n",
       "      <td>96</td>\n",
       "      <td>521.28</td>\n",
       "      <td>2008</td>\n",
       "      <td>Hit</td>\n",
       "    </tr>\n",
       "    <tr>\n",
       "      <th>14</th>\n",
       "      <td>The Twilight Saga: New Moon</td>\n",
       "      <td>Drama</td>\n",
       "      <td>Summit</td>\n",
       "      <td>78</td>\n",
       "      <td>14.196400</td>\n",
       "      <td>27</td>\n",
       "      <td>709.82</td>\n",
       "      <td>2009</td>\n",
       "      <td>Hit</td>\n",
       "    </tr>\n",
       "    <tr>\n",
       "      <th>45</th>\n",
       "      <td>Mamma Mia!</td>\n",
       "      <td>Comedy</td>\n",
       "      <td>Universal</td>\n",
       "      <td>76</td>\n",
       "      <td>9.234454</td>\n",
       "      <td>53</td>\n",
       "      <td>609.47</td>\n",
       "      <td>2008</td>\n",
       "      <td>Hit</td>\n",
       "    </tr>\n",
       "    <tr>\n",
       "      <th>46</th>\n",
       "      <td>Mamma Mia!</td>\n",
       "      <td>Comedy</td>\n",
       "      <td>Universal</td>\n",
       "      <td>76</td>\n",
       "      <td>9.234454</td>\n",
       "      <td>53</td>\n",
       "      <td>609.47</td>\n",
       "      <td>2008</td>\n",
       "      <td>Hit</td>\n",
       "    </tr>\n",
       "  </tbody>\n",
       "</table>\n",
       "</div>"
      ],
      "text/plain": [
       "                           Film      Genre Lead Studio  Audience score %  \\\n",
       "6                        WALL-E  Animation      Disney                89   \n",
       "14  The Twilight Saga: New Moon      Drama      Summit                78   \n",
       "45                   Mamma Mia!     Comedy   Universal                76   \n",
       "46                   Mamma Mia!     Comedy   Universal                76   \n",
       "\n",
       "    Profitability  Rotten Tomatoes %  Worldwide Gross  Year Hit / Average  \n",
       "6        2.896019                 96           521.28  2008           Hit  \n",
       "14      14.196400                 27           709.82  2009           Hit  \n",
       "45       9.234454                 53           609.47  2008           Hit  \n",
       "46       9.234454                 53           609.47  2008           Hit  "
      ]
     },
     "execution_count": 44,
     "metadata": {},
     "output_type": "execute_result"
    }
   ],
   "source": [
    "moviesdata[moviesdata['Hit / Average'] == 'Hit']"
   ]
  },
  {
   "cell_type": "code",
   "execution_count": null,
   "metadata": {},
   "outputs": [],
   "source": []
  }
 ],
 "metadata": {
  "colab": {
   "authorship_tag": "ABX9TyO1wxS+H5+Xv77ky9bkf867",
   "name": "IntroductiontoPandas2_Solution.ipynb",
   "provenance": []
  },
  "kernelspec": {
   "display_name": "Python 3",
   "language": "python",
   "name": "python3"
  },
  "language_info": {
   "codemirror_mode": {
    "name": "ipython",
    "version": 3
   },
   "file_extension": ".py",
   "mimetype": "text/x-python",
   "name": "python",
   "nbconvert_exporter": "python",
   "pygments_lexer": "ipython3",
   "version": "3.8.5"
  }
 },
 "nbformat": 4,
 "nbformat_minor": 1
}
