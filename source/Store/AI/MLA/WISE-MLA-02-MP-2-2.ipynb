{
 "cells": [
  {
   "cell_type": "markdown",
   "metadata": {
    "colab_type": "text",
    "id": "apf4OFJfQ4LE"
   },
   "source": [
    "## Objective\n",
    "\n",
    "At the end of the experiment you will be able to \n",
    "\n",
    "* execute linear algebraic functions\n",
    "* explain difference between numpy arrays and  Python lists"
   ]
  },
  {
   "cell_type": "markdown",
   "metadata": {
    "colab_type": "text",
    "id": "wNWKISnBQ1u2"
   },
   "source": [
    "### Introduction to Numpy\n",
    "\n",
    "NumPy (Numerical Python) is a Python library for scientific computing, that provide high-performance vector, matrix, and higher-dimensional data structures for Python. It is implemented in C and Fortran so when calculations are vectorized (formulated with vectors and matrices), the performance is very good.\n",
    "\n",
    "It offers ndarray data structure for storing and ufuncs for efficiently processing the (homogeneous) data. Some of the important functionalities include: basic slicing, advanced or fancy indexing, broadcasting, etc.\n",
    "\n",
    "\n",
    "**How are NumPy arrays different from Python lists?**\n",
    "\n",
    "* Python lists are very general. They can contain any kind of object. They are dynamically typed.\n",
    "* They do not support mathematical functions such as matrix and dot multiplications, etc. Implementing such functions for Python lists would not be very efficient because of the dynamic typing.\n",
    "* Numpy arrays are statically typed and homogeneous. The type of the elements is determined when the array is created.\n",
    "* Numpy arrays are memory efficient.\n",
    "* Because of the static typing, fast implementation of mathematical functions such as multiplication and addition of numpy arrays can be implemented in a compiled language (C and Fortran is used).\n",
    "\n",
    "\n",
    "Now it is time to work on practicals. Following Are the given Exercise:\n"
   ]
  },
  {
   "cell_type": "markdown",
   "metadata": {
    "colab_type": "text",
    "id": "qwgeAaDqSOm-"
   },
   "source": [
    "#### Exercise 1: Import the numpy package under the name np"
   ]
  },
  {
   "cell_type": "code",
   "execution_count": 0,
   "metadata": {
    "colab": {},
    "colab_type": "code",
    "id": "J44YqJ44QtlU"
   },
   "outputs": [],
   "source": [
    "# Your Code Here"
   ]
  },
  {
   "cell_type": "markdown",
   "metadata": {
    "colab_type": "text",
    "id": "_nZ3clmuSVlg"
   },
   "source": [
    "#### Exercise 2: Given an array *X*. Calculate sine, cosine, and tangent of *X*, element-wise.\n",
    "\n",
    "X = np.array([1, 45, 60, 90])"
   ]
  },
  {
   "cell_type": "code",
   "execution_count": 0,
   "metadata": {
    "colab": {},
    "colab_type": "code",
    "id": "A5x5wgJsQ2br"
   },
   "outputs": [],
   "source": [
    "# Your Code Here"
   ]
  },
  {
   "cell_type": "markdown",
   "metadata": {
    "colab_type": "text",
    "id": "GMvtbx9iTISy"
   },
   "source": [
    "#### Exercise 3: Given an array *X*. Convert angles from radians to degrees.\n",
    "\n",
    "X = np.array([-np.pi, -np.pi/2, np.pi/2, np.pi])"
   ]
  },
  {
   "cell_type": "code",
   "execution_count": 0,
   "metadata": {
    "colab": {},
    "colab_type": "code",
    "id": "NJqUZmj6S_t1"
   },
   "outputs": [],
   "source": [
    "# Your Code Here"
   ]
  },
  {
   "cell_type": "markdown",
   "metadata": {
    "colab_type": "text",
    "id": "8hFPkopqTVkp"
   },
   "source": [
    "#### Exercise 4: Given an arrya *X*. Convert angles from degrees to radians.\n",
    "\n",
    "X = np.array([-180.,  -90.,   90.,  180.])"
   ]
  },
  {
   "cell_type": "code",
   "execution_count": 0,
   "metadata": {
    "colab": {},
    "colab_type": "code",
    "id": "1GcvmHC7THVM"
   },
   "outputs": [],
   "source": [
    "# Your Code Here"
   ]
  },
  {
   "cell_type": "markdown",
   "metadata": {
    "colab_type": "text",
    "id": "xppXPZU2Tkm-"
   },
   "source": [
    "#### Exercise 5: Given an array *X*. Calculate hyperbolic sine, hyperbolic cosine, and hyperbolic tangent of *X*, element-wise. \n",
    "\n",
    "X = np.array([-1., 0, 1.])"
   ]
  },
  {
   "cell_type": "code",
   "execution_count": 0,
   "metadata": {
    "colab": {},
    "colab_type": "code",
    "id": "IMcSv22uTgms"
   },
   "outputs": [],
   "source": [
    "# Your Code Here"
   ]
  },
  {
   "cell_type": "markdown",
   "metadata": {
    "colab_type": "text",
    "id": "ahRXCZSxT0kU"
   },
   "source": [
    "#### Exercise 6: Given an array *X*. Calculate the round, ceil, floor of *X*, element-wise\n",
    "\n",
    "X = np.array([4.1, 2.5, 44.5, 25.9, -1.1, -9.5, -6.9])"
   ]
  },
  {
   "cell_type": "code",
   "execution_count": 0,
   "metadata": {
    "colab": {},
    "colab_type": "code",
    "id": "p83dwIEPT7Ja"
   },
   "outputs": [],
   "source": [
    "# Your Code Here"
   ]
  },
  {
   "cell_type": "markdown",
   "metadata": {
    "colab_type": "text",
    "id": "KzcrhGeFUmVE"
   },
   "source": [
    "#### Exercise 7: Given an array *X*. Calculate the difference between neighboring elements, element-wise.\n",
    "\n",
    "X = np.array([11, 13, 23, 45, 77])"
   ]
  },
  {
   "cell_type": "code",
   "execution_count": 0,
   "metadata": {
    "colab": {},
    "colab_type": "code",
    "id": "bSQpJ5IQUSf0"
   },
   "outputs": [],
   "source": [
    "# Your Code Here"
   ]
  },
  {
   "cell_type": "markdown",
   "metadata": {
    "colab_type": "text",
    "id": "rmSYTiqyVB2x"
   },
   "source": [
    "#### Exercise 8: Given two arrays *X* and *Y*. Find the cross product.\n",
    "\n",
    "X = np.array([1, 2, 3])\n",
    "\n",
    "Y = np.array([4, 5, 6])"
   ]
  },
  {
   "cell_type": "code",
   "execution_count": 0,
   "metadata": {
    "colab": {},
    "colab_type": "code",
    "id": "JqHukc33U3L2"
   },
   "outputs": [],
   "source": [
    "# Your Code Here"
   ]
  },
  {
   "cell_type": "markdown",
   "metadata": {
    "colab_type": "text",
    "id": "eg3qCawdV_1-"
   },
   "source": [
    "#### Exercise 9: Given two arrays *X* and *Y*. Find the dot product.\n",
    "\n",
    "X = np.array([1, 2, 3])\n",
    "\n",
    "Y = np.array([4, 5, 6])"
   ]
  },
  {
   "cell_type": "code",
   "execution_count": 0,
   "metadata": {
    "colab": {},
    "colab_type": "code",
    "id": "S2TgQkEyVa3z"
   },
   "outputs": [],
   "source": [
    "# Your Code Here"
   ]
  },
  {
   "cell_type": "markdown",
   "metadata": {
    "colab_type": "text",
    "id": "BWPtC69NWUbA"
   },
   "source": [
    "#### Exercise 10: Given two arrays *X* and *Y*. Divide *X* by *Y* element-wise using divide, true_divide, floor_divide functions.\n",
    "\n",
    "X = np.array([1, 2, 3])\n",
    "\n",
    "Y = np.array([4, 5, 6])"
   ]
  },
  {
   "cell_type": "code",
   "execution_count": 0,
   "metadata": {
    "colab": {},
    "colab_type": "code",
    "id": "YI7fbbJ4WspO"
   },
   "outputs": [],
   "source": [
    "# Your Code Here"
   ]
  },
  {
   "cell_type": "markdown",
   "metadata": {
    "colab_type": "text",
    "id": "GnIn_YWtW0-r"
   },
   "source": [
    "#### Exercise 11: Given two arrays *X* and *Y*. Compute $X^Y$, element-wise.\n",
    "\n",
    "X = np.array([1, 2, 3])\n",
    "\n",
    "Y = np.array([4, 5, 6])"
   ]
  },
  {
   "cell_type": "code",
   "execution_count": 0,
   "metadata": {
    "colab": {},
    "colab_type": "code",
    "id": "rtxR3cJPWury"
   },
   "outputs": [],
   "source": [
    "# Your Code Here"
   ]
  },
  {
   "cell_type": "markdown",
   "metadata": {
    "colab_type": "text",
    "id": "HCV1xXXSXLUw"
   },
   "source": [
    "#### Exercise 12: Given one array *X* and Y = 3. Compute the remainder of X / Y element-wise using remainder and fmod functions.\n",
    "\n",
    "\n",
    "X = np.array([1, 2, 3])"
   ]
  },
  {
   "cell_type": "code",
   "execution_count": 0,
   "metadata": {
    "colab": {},
    "colab_type": "code",
    "id": "MYHnb66PXd0z"
   },
   "outputs": [],
   "source": [
    "# Your Code Here"
   ]
  },
  {
   "cell_type": "markdown",
   "metadata": {
    "colab_type": "text",
    "id": "_8iviSU_XvzU"
   },
   "source": [
    "#### Exercise 13:  Given an array *X*. If an element of *X* is smaller than 5, replace it with 4. And if an element of *X* is bigger than 9, replace it with 8.\n",
    "\n",
    "X = np.array([8, 4, 22, 3, 66, 12, 1, 5])"
   ]
  },
  {
   "cell_type": "code",
   "execution_count": 0,
   "metadata": {
    "colab": {},
    "colab_type": "code",
    "id": "aWVTyhUOXpAv"
   },
   "outputs": [],
   "source": [
    "# Your Code Here"
   ]
  },
  {
   "cell_type": "markdown",
   "metadata": {
    "colab_type": "text",
    "id": "S9I2YYFfg1es"
   },
   "source": [
    "#### Exercise 14: Given an array *X*. Compute the square of *X*, element-wise.\n",
    "\n",
    "X = np.array([2, 3, 4, 5, 6])"
   ]
  },
  {
   "cell_type": "code",
   "execution_count": 0,
   "metadata": {
    "colab": {},
    "colab_type": "code",
    "id": "zmUOYKqVg5tt"
   },
   "outputs": [],
   "source": [
    "# Your Code Here"
   ]
  },
  {
   "cell_type": "markdown",
   "metadata": {
    "colab_type": "text",
    "id": "cUc_0e5ehFMl"
   },
   "source": [
    "#### Exercise 15: Given an array *X*. Compute the absolute value of *X*.\n",
    "\n",
    "X = np.array([[-44, 3], [4, -3]])"
   ]
  },
  {
   "cell_type": "code",
   "execution_count": 0,
   "metadata": {
    "colab": {},
    "colab_type": "code",
    "id": "I5p5ILAShAKk"
   },
   "outputs": [],
   "source": [
    "X = np.array([[-44, 3], [4, -3]])"
   ]
  },
  {
   "cell_type": "markdown",
   "metadata": {
    "colab_type": "text",
    "id": "ozZ2u2G6hbDu"
   },
   "source": [
    "#### Exercise 16: Given an array *X*. Compute an element-wise indication of the sign of *X*, element-wise.\n",
    "\n",
    "X = np.array([1, 3, 0, -1, -3])"
   ]
  },
  {
   "cell_type": "code",
   "execution_count": 0,
   "metadata": {
    "colab": {},
    "colab_type": "code",
    "id": "dmKpDGslh5fF"
   },
   "outputs": [],
   "source": [
    "# Your Code Here"
   ]
  },
  {
   "cell_type": "markdown",
   "metadata": {
    "colab_type": "text",
    "id": "FBB-R10ch9sj"
   },
   "source": [
    "#### Exercise 17: Create an array of the given shape and populate it with random samples from a uniform distribution over [0, 1)."
   ]
  },
  {
   "cell_type": "code",
   "execution_count": 0,
   "metadata": {
    "colab": {},
    "colab_type": "code",
    "id": "x_p6iY0giKov"
   },
   "outputs": [],
   "source": [
    "# Your Code Here"
   ]
  },
  {
   "cell_type": "markdown",
   "metadata": {
    "colab_type": "text",
    "id": "tpGK4dgBiU1s"
   },
   "source": [
    "#### Exercise 18: Given an array *gaussian*. How do you get the number of dimensions of the array?\n",
    "\n",
    "\n",
    "gaussian = np.random.randn(2 * 3 * 4).reshape((2, 3, 4))"
   ]
  },
  {
   "cell_type": "code",
   "execution_count": 0,
   "metadata": {
    "colab": {},
    "colab_type": "code",
    "id": "KW7bBw22iML2"
   },
   "outputs": [],
   "source": [
    "# Your Code Here"
   ]
  },
  {
   "cell_type": "markdown",
   "metadata": {
    "colab_type": "text",
    "id": "3C-hc7xii-DN"
   },
   "source": [
    "#### Exercise 19: Given an array *gaussian*. How do you get the shape of an array?\n",
    "\n",
    "\n",
    "gaussian = np.random.randn(2 * 3 * 4).reshape((2, 3, 4))"
   ]
  },
  {
   "cell_type": "code",
   "execution_count": 0,
   "metadata": {
    "colab": {},
    "colab_type": "code",
    "id": "GxN8bsmFi53f"
   },
   "outputs": [],
   "source": [
    "# Your Code Here"
   ]
  },
  {
   "cell_type": "markdown",
   "metadata": {
    "colab_type": "text",
    "id": "GBA8PxrmjF-3"
   },
   "source": [
    "#### Exercise 20: Given an array *gaussian*. How do you get the total number of elements in the array?\n",
    "\n",
    "\n",
    "gaussian = np.random.randn(2 * 3 * 4).reshape((2, 3, 4))"
   ]
  },
  {
   "cell_type": "code",
   "execution_count": 0,
   "metadata": {
    "colab": {},
    "colab_type": "code",
    "id": "PbpYir4xjEr6"
   },
   "outputs": [],
   "source": [
    "# Your Code Here"
   ]
  },
  {
   "cell_type": "markdown",
   "metadata": {
    "colab_type": "text",
    "id": "t9ciOCrRjP57"
   },
   "source": [
    "#### Exercise 21: Given an array *gaussian*. How do you get memory consumed by each item in the array?\n",
    "\n",
    "\n",
    "gaussian = np.random.randn(2 * 3 * 4).reshape((2, 3, 4))"
   ]
  },
  {
   "cell_type": "code",
   "execution_count": 0,
   "metadata": {
    "colab": {},
    "colab_type": "code",
    "id": "iWK0KJNpjMxI"
   },
   "outputs": [],
   "source": [
    "# Your Code Here"
   ]
  },
  {
   "cell_type": "markdown",
   "metadata": {
    "colab_type": "text",
    "id": "orakzs2UjXrL"
   },
   "source": [
    "#### Exercise 22: Given an array *twenty*. How do you access first two rows and three columns\n",
    "\n",
    "twenty = (np.arange(4 * 5)).reshape(4, 5)"
   ]
  },
  {
   "cell_type": "code",
   "execution_count": 0,
   "metadata": {
    "colab": {},
    "colab_type": "code",
    "id": "-Hv2d-AZjWw2"
   },
   "outputs": [],
   "source": [
    "# Your Code Here"
   ]
  },
  {
   "cell_type": "markdown",
   "metadata": {
    "colab_type": "text",
    "id": "MTiZNOygkDpz"
   },
   "source": [
    "#### Exercise 23: Given an array *twenty*. How do you reverse the order of elements along columns?\n",
    "\n",
    "\n",
    "twenty = (np.arange(4 * 5)).reshape(4, 5) "
   ]
  },
  {
   "cell_type": "code",
   "execution_count": 0,
   "metadata": {
    "colab": {},
    "colab_type": "code",
    "id": "gR9tbU3DkCiK"
   },
   "outputs": [],
   "source": [
    "# Your Code Here"
   ]
  },
  {
   "cell_type": "markdown",
   "metadata": {
    "colab_type": "text",
    "id": "EDfAt4wwkQ3j"
   },
   "source": [
    "#### Exercise 24: Given an array *twenty*. How do you reverse the order of elements along rows?\n",
    "\n",
    "\n",
    "twenty = (np.arange(4 * 5)).reshape(4, 5) "
   ]
  },
  {
   "cell_type": "code",
   "execution_count": 0,
   "metadata": {
    "colab": {},
    "colab_type": "code",
    "id": "FZraxHTWkP_7"
   },
   "outputs": [],
   "source": [
    "# Your Code Here"
   ]
  },
  {
   "cell_type": "markdown",
   "metadata": {
    "colab_type": "text",
    "id": "6EjVbcyQknaZ"
   },
   "source": [
    "#### Exercise 25: Given an array *twenty*. How do you shuffle the array along axis - 0\n",
    "\n",
    "\n",
    "twenty = (np.arange(4 * 5)).reshape(4, 5) "
   ]
  },
  {
   "cell_type": "code",
   "execution_count": 0,
   "metadata": {
    "colab": {},
    "colab_type": "code",
    "id": "uMvozBGJkbWd"
   },
   "outputs": [],
   "source": [
    "# Your Code Here"
   ]
  },
  {
   "cell_type": "code",
   "execution_count": 0,
   "metadata": {
    "colab": {},
    "colab_type": "code",
    "id": "Mqn_mG2RkykA"
   },
   "outputs": [],
   "source": []
  }
 ],
 "metadata": {
  "colab": {
   "authorship_tag": "ABX9TyMFO77CqgdoNORZUrchuDOM",
   "collapsed_sections": [],
   "name": "IntroductiontoNumpy2.ipynb",
   "provenance": []
  },
  "kernelspec": {
   "display_name": "Python 3",
   "language": "python",
   "name": "python3"
  },
  "language_info": {
   "codemirror_mode": {
    "name": "ipython",
    "version": 3
   },
   "file_extension": ".py",
   "mimetype": "text/x-python",
   "name": "python",
   "nbconvert_exporter": "python",
   "pygments_lexer": "ipython3",
   "version": "3.8.5"
  }
 },
 "nbformat": 4,
 "nbformat_minor": 1
}
