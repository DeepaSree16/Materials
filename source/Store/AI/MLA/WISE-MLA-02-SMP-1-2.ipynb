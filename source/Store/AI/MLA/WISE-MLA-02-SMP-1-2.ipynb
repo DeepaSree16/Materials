{
 "cells": [
  {
   "cell_type": "markdown",
   "metadata": {
    "colab_type": "text",
    "id": "cwotE0h6GBkt"
   },
   "source": [
    "## Objective\n",
    "\n",
    "At the end of this experiment you will be able to\n",
    "\n",
    "* create arrays, vectors and matrices using Numpy\n",
    "* perform operations on vectors and matrices"
   ]
  },
  {
   "cell_type": "markdown",
   "metadata": {
    "colab_type": "text",
    "id": "OUC7a4yyG2XC"
   },
   "source": [
    "### Introduction to Numpy\n",
    "\n",
    "NumPy (Numerical Python) is a Python library for scientific computing, that provide high-performance vector, matrix, and higher-dimensional data structures for Python. It is implemented in C and Fortran so when calculations are vectorized (formulated with vectors and matrices), the performance is very good.\n",
    "\n",
    "It offers ndarray data structure for storing and ufuncs for efficiently processing the (homogeneous) data. Some of the important functionalities include: basic slicing, advanced or fancy indexing, broadcasting, etc.\n",
    "\n",
    "\n",
    "**How are NumPy arrays different from Python lists?**\n",
    "\n",
    "* Python lists are very general. They can contain any kind of object. They are dynamically typed.\n",
    "* They do not support mathematical functions such as matrix and dot multiplications, etc. Implementing such functions for Python lists would not be very efficient because of the dynamic typing.\n",
    "* Numpy arrays are statically typed and homogeneous. The type of the elements is determined when the array is created.\n",
    "* Numpy arrays are memory efficient.\n",
    "* Because of the static typing, fast implementation of mathematical functions such as multiplication and addition of numpy arrays can be implemented in a compiled language (C and Fortran is used).\n",
    "\n",
    "\n",
    "Now it is time to work on practicals. Following Are the given Exercise:\n"
   ]
  },
  {
   "cell_type": "markdown",
   "metadata": {
    "colab_type": "text",
    "id": "XEV9RJHYHkaj"
   },
   "source": [
    "#### Exercise 1: Import the numpy package under the name np"
   ]
  },
  {
   "cell_type": "code",
   "execution_count": 0,
   "metadata": {
    "colab": {},
    "colab_type": "code",
    "id": "cWoOV3SCF8tF"
   },
   "outputs": [],
   "source": [
    "import numpy as np"
   ]
  },
  {
   "cell_type": "markdown",
   "metadata": {
    "colab_type": "text",
    "id": "rnqYCziFH0fX"
   },
   "source": [
    "#### Exercise 2: Create an array of 10 zeros"
   ]
  },
  {
   "cell_type": "code",
   "execution_count": 2,
   "metadata": {
    "colab": {
     "base_uri": "https://localhost:8080/",
     "height": 34
    },
    "colab_type": "code",
    "executionInfo": {
     "elapsed": 1036,
     "status": "ok",
     "timestamp": 1584073259167,
     "user": {
      "displayName": "Priyanka Gaddam",
      "photoUrl": "",
      "userId": "07316718693164986599"
     },
     "user_tz": -330
    },
    "id": "KYMoePcNHs4D",
    "outputId": "a400ff86-f7d5-45ad-d9f9-5bc32edb314b"
   },
   "outputs": [
    {
     "data": {
      "text/plain": [
       "array([0., 0., 0., 0., 0., 0., 0., 0., 0., 0.])"
      ]
     },
     "execution_count": 2,
     "metadata": {
      "tags": []
     },
     "output_type": "execute_result"
    }
   ],
   "source": [
    "np.zeros(10)"
   ]
  },
  {
   "cell_type": "markdown",
   "metadata": {
    "colab_type": "text",
    "id": "0bJQBatDH7_A"
   },
   "source": [
    "#### Exercise 3: Create an array of 20 ones"
   ]
  },
  {
   "cell_type": "code",
   "execution_count": 3,
   "metadata": {
    "colab": {
     "base_uri": "https://localhost:8080/",
     "height": 51
    },
    "colab_type": "code",
    "executionInfo": {
     "elapsed": 990,
     "status": "ok",
     "timestamp": 1584073285193,
     "user": {
      "displayName": "Priyanka Gaddam",
      "photoUrl": "",
      "userId": "07316718693164986599"
     },
     "user_tz": -330
    },
    "id": "DmYhYoS7H7QS",
    "outputId": "fcfcfb79-761d-42a9-cecd-85abcbd61f23"
   },
   "outputs": [
    {
     "data": {
      "text/plain": [
       "array([1., 1., 1., 1., 1., 1., 1., 1., 1., 1., 1., 1., 1., 1., 1., 1., 1.,\n",
       "       1., 1., 1.])"
      ]
     },
     "execution_count": 3,
     "metadata": {
      "tags": []
     },
     "output_type": "execute_result"
    }
   ],
   "source": [
    "np.ones(20)"
   ]
  },
  {
   "cell_type": "markdown",
   "metadata": {
    "colab_type": "text",
    "id": "P2k44AIdIEPw"
   },
   "source": [
    "#### Exercise 4: Create an array of 10 fours"
   ]
  },
  {
   "cell_type": "code",
   "execution_count": 4,
   "metadata": {
    "colab": {
     "base_uri": "https://localhost:8080/",
     "height": 34
    },
    "colab_type": "code",
    "executionInfo": {
     "elapsed": 1064,
     "status": "ok",
     "timestamp": 1584073341327,
     "user": {
      "displayName": "Priyanka Gaddam",
      "photoUrl": "",
      "userId": "07316718693164986599"
     },
     "user_tz": -330
    },
    "id": "Kwx37V1zIBnY",
    "outputId": "bb7b7618-73ca-421f-9b15-29ffeb100559"
   },
   "outputs": [
    {
     "data": {
      "text/plain": [
       "array([4., 4., 4., 4., 4., 4., 4., 4., 4., 4.])"
      ]
     },
     "execution_count": 4,
     "metadata": {
      "tags": []
     },
     "output_type": "execute_result"
    }
   ],
   "source": [
    "np.ones(10) * 4"
   ]
  },
  {
   "cell_type": "markdown",
   "metadata": {
    "colab_type": "text",
    "id": "LktAPjEFIQFA"
   },
   "source": [
    "#### Exercise 5: Create an array of integers from 20 to 60"
   ]
  },
  {
   "cell_type": "code",
   "execution_count": 6,
   "metadata": {
    "colab": {
     "base_uri": "https://localhost:8080/",
     "height": 68
    },
    "colab_type": "code",
    "executionInfo": {
     "elapsed": 1161,
     "status": "ok",
     "timestamp": 1584073437554,
     "user": {
      "displayName": "Priyanka Gaddam",
      "photoUrl": "",
      "userId": "07316718693164986599"
     },
     "user_tz": -330
    },
    "id": "FgVJlywkIPT9",
    "outputId": "5fabf17a-b5e0-462d-ed6b-cc0604915c8a"
   },
   "outputs": [
    {
     "data": {
      "text/plain": [
       "array([20, 21, 22, 23, 24, 25, 26, 27, 28, 29, 30, 31, 32, 33, 34, 35, 36,\n",
       "       37, 38, 39, 40, 41, 42, 43, 44, 45, 46, 47, 48, 49, 50, 51, 52, 53,\n",
       "       54, 55, 56, 57, 58, 59, 60])"
      ]
     },
     "execution_count": 6,
     "metadata": {
      "tags": []
     },
     "output_type": "execute_result"
    }
   ],
   "source": [
    "np.arange(20, 61)"
   ]
  },
  {
   "cell_type": "markdown",
   "metadata": {
    "colab_type": "text",
    "id": "5MsbEx8wIoVN"
   },
   "source": [
    "#### Exercise 6: Create an array of even integers from 20 to 60"
   ]
  },
  {
   "cell_type": "code",
   "execution_count": 7,
   "metadata": {
    "colab": {
     "base_uri": "https://localhost:8080/",
     "height": 51
    },
    "colab_type": "code",
    "executionInfo": {
     "elapsed": 1025,
     "status": "ok",
     "timestamp": 1584073492810,
     "user": {
      "displayName": "Priyanka Gaddam",
      "photoUrl": "",
      "userId": "07316718693164986599"
     },
     "user_tz": -330
    },
    "id": "odLemTrIIjuQ",
    "outputId": "884c54ea-5391-4957-814c-db553b45cb8c"
   },
   "outputs": [
    {
     "data": {
      "text/plain": [
       "array([20, 22, 24, 26, 28, 30, 32, 34, 36, 38, 40, 42, 44, 46, 48, 50, 52,\n",
       "       54, 56, 58, 60])"
      ]
     },
     "execution_count": 7,
     "metadata": {
      "tags": []
     },
     "output_type": "execute_result"
    }
   ],
   "source": [
    "np.arange(20, 61, 2)"
   ]
  },
  {
   "cell_type": "markdown",
   "metadata": {
    "colab_type": "text",
    "id": "PTz1RUq3I2eC"
   },
   "source": [
    "#### Exercise 7: Create a 4 * 4 indenty matrix"
   ]
  },
  {
   "cell_type": "code",
   "execution_count": 8,
   "metadata": {
    "colab": {
     "base_uri": "https://localhost:8080/",
     "height": 85
    },
    "colab_type": "code",
    "executionInfo": {
     "elapsed": 1126,
     "status": "ok",
     "timestamp": 1584073588678,
     "user": {
      "displayName": "Priyanka Gaddam",
      "photoUrl": "",
      "userId": "07316718693164986599"
     },
     "user_tz": -330
    },
    "id": "0e7vpYCQI0Sy",
    "outputId": "fbaa1942-52ff-4918-b90a-ca9d30537c73"
   },
   "outputs": [
    {
     "data": {
      "text/plain": [
       "array([[1., 0., 0., 0.],\n",
       "       [0., 1., 0., 0.],\n",
       "       [0., 0., 1., 0.],\n",
       "       [0., 0., 0., 1.]])"
      ]
     },
     "execution_count": 8,
     "metadata": {
      "tags": []
     },
     "output_type": "execute_result"
    }
   ],
   "source": [
    "np.eye(4)"
   ]
  },
  {
   "cell_type": "markdown",
   "metadata": {
    "colab_type": "text",
    "id": "8rOxi_crJMxS"
   },
   "source": [
    "#### Exercise 8: Create a 3 * 3 matrix with values range from 0 to 8"
   ]
  },
  {
   "cell_type": "code",
   "execution_count": 11,
   "metadata": {
    "colab": {
     "base_uri": "https://localhost:8080/",
     "height": 68
    },
    "colab_type": "code",
    "executionInfo": {
     "elapsed": 1180,
     "status": "ok",
     "timestamp": 1584073666109,
     "user": {
      "displayName": "Priyanka Gaddam",
      "photoUrl": "",
      "userId": "07316718693164986599"
     },
     "user_tz": -330
    },
    "id": "Ml1B9iHNJLsL",
    "outputId": "143c33c0-60fc-4838-f534-757d952dbf44"
   },
   "outputs": [
    {
     "data": {
      "text/plain": [
       "array([[0, 1, 2],\n",
       "       [3, 4, 5],\n",
       "       [6, 7, 8]])"
      ]
     },
     "execution_count": 11,
     "metadata": {
      "tags": []
     },
     "output_type": "execute_result"
    }
   ],
   "source": [
    "np.arange(0,9).reshape([3,3])"
   ]
  },
  {
   "cell_type": "markdown",
   "metadata": {
    "colab_type": "text",
    "id": "26e5WLQnJmzr"
   },
   "source": [
    "#### Exercise 9: Generate a random number between 0 and 1 using numpy"
   ]
  },
  {
   "cell_type": "code",
   "execution_count": 12,
   "metadata": {
    "colab": {
     "base_uri": "https://localhost:8080/",
     "height": 34
    },
    "colab_type": "code",
    "executionInfo": {
     "elapsed": 1018,
     "status": "ok",
     "timestamp": 1584073737111,
     "user": {
      "displayName": "Priyanka Gaddam",
      "photoUrl": "",
      "userId": "07316718693164986599"
     },
     "user_tz": -330
    },
    "id": "ctPHQhIYJX53",
    "outputId": "d0f1c54c-a438-4cd4-e5b5-c6e3327cc4f5"
   },
   "outputs": [
    {
     "data": {
      "text/plain": [
       "array([0.14224467])"
      ]
     },
     "execution_count": 12,
     "metadata": {
      "tags": []
     },
     "output_type": "execute_result"
    }
   ],
   "source": [
    "np.random.rand(1)"
   ]
  },
  {
   "cell_type": "markdown",
   "metadata": {
    "colab_type": "text",
    "id": "Ss4d204JJw9h"
   },
   "source": [
    "#### Exercise 10: Generate an array of 15 random numbers sampled from a standard normal distribution"
   ]
  },
  {
   "cell_type": "code",
   "execution_count": 13,
   "metadata": {
    "colab": {
     "base_uri": "https://localhost:8080/",
     "height": 68
    },
    "colab_type": "code",
    "executionInfo": {
     "elapsed": 1091,
     "status": "ok",
     "timestamp": 1584073784221,
     "user": {
      "displayName": "Priyanka Gaddam",
      "photoUrl": "",
      "userId": "07316718693164986599"
     },
     "user_tz": -330
    },
    "id": "trQMEhc8Jv8h",
    "outputId": "cda3b1bc-c328-4552-a023-85916d8ed7b8"
   },
   "outputs": [
    {
     "data": {
      "text/plain": [
       "array([ 1.77662907,  0.31999817, -0.25703812,  0.12943414, -0.22592734,\n",
       "        0.02303229, -0.09622939,  1.20723147, -0.91849145, -0.90336969,\n",
       "        1.90743656,  0.01735587,  0.09938163,  0.62805548, -0.34721536])"
      ]
     },
     "execution_count": 13,
     "metadata": {
      "tags": []
     },
     "output_type": "execute_result"
    }
   ],
   "source": [
    "np.random.randn(15)"
   ]
  },
  {
   "cell_type": "markdown",
   "metadata": {
    "colab_type": "text",
    "id": "zmc0216TJ8T0"
   },
   "source": [
    "#### Exercise 11: Create a vector with values ranging from 10 to 49 "
   ]
  },
  {
   "cell_type": "code",
   "execution_count": 14,
   "metadata": {
    "colab": {
     "base_uri": "https://localhost:8080/",
     "height": 51
    },
    "colab_type": "code",
    "executionInfo": {
     "elapsed": 1008,
     "status": "ok",
     "timestamp": 1584073864588,
     "user": {
      "displayName": "Priyanka Gaddam",
      "photoUrl": "",
      "userId": "07316718693164986599"
     },
     "user_tz": -330
    },
    "id": "XkNnBBIdJ7bd",
    "outputId": "6b116be9-7174-4ccc-b1c9-de5cd756b25b"
   },
   "outputs": [
    {
     "name": "stdout",
     "output_type": "stream",
     "text": [
      "[10 11 12 13 14 15 16 17 18 19 20 21 22 23 24 25 26 27 28 29 30 31 32 33\n",
      " 34 35 36 37 38 39 40 41 42 43 44 45 46 47 48 49]\n"
     ]
    }
   ],
   "source": [
    "Z = np.arange(10,50)\n",
    "print(Z)"
   ]
  },
  {
   "cell_type": "markdown",
   "metadata": {
    "colab_type": "text",
    "id": "dTib57ZcKPzW"
   },
   "source": [
    "#### Exercise 12: Create a numpy array from a List"
   ]
  },
  {
   "cell_type": "code",
   "execution_count": 15,
   "metadata": {
    "colab": {
     "base_uri": "https://localhost:8080/",
     "height": 51
    },
    "colab_type": "code",
    "executionInfo": {
     "elapsed": 1053,
     "status": "ok",
     "timestamp": 1584073965588,
     "user": {
      "displayName": "Priyanka Gaddam",
      "photoUrl": "",
      "userId": "07316718693164986599"
     },
     "user_tz": -330
    },
    "id": "UN1osKfWKPEg",
    "outputId": "c6f4f491-ace1-4365-dd9e-35208141b0f1"
   },
   "outputs": [
    {
     "name": "stdout",
     "output_type": "stream",
     "text": [
      "[[1 2]\n",
      " [3 4]]\n"
     ]
    }
   ],
   "source": [
    "numberslist = [[1, 2], [3, 4]]\n",
    "numbersarray = np.array(numberslist)\n",
    "print(numbersarray)"
   ]
  },
  {
   "cell_type": "markdown",
   "metadata": {
    "colab_type": "text",
    "id": "gfL-gOi9Kpxb"
   },
   "source": [
    "#### Exercise 13: Find indices of non-zero elements from [122,233,0,0,44,3]"
   ]
  },
  {
   "cell_type": "code",
   "execution_count": 16,
   "metadata": {
    "colab": {
     "base_uri": "https://localhost:8080/",
     "height": 34
    },
    "colab_type": "code",
    "executionInfo": {
     "elapsed": 1046,
     "status": "ok",
     "timestamp": 1584074064696,
     "user": {
      "displayName": "Priyanka Gaddam",
      "photoUrl": "",
      "userId": "07316718693164986599"
     },
     "user_tz": -330
    },
    "id": "-raIAgISKnuK",
    "outputId": "4f7326fc-2433-4ddf-db24-c211da498f60"
   },
   "outputs": [
    {
     "name": "stdout",
     "output_type": "stream",
     "text": [
      "(array([0, 1, 4, 5]),)\n"
     ]
    }
   ],
   "source": [
    "nz = np.nonzero([122,233,0,0,44,3])\n",
    "print(nz)"
   ]
  },
  {
   "cell_type": "markdown",
   "metadata": {
    "colab_type": "text",
    "id": "d9ljWfPFLHky"
   },
   "source": [
    "#### Exercise 14:  Create a 3 * 3 * 3 array with random values"
   ]
  },
  {
   "cell_type": "code",
   "execution_count": 17,
   "metadata": {
    "colab": {
     "base_uri": "https://localhost:8080/",
     "height": 204
    },
    "colab_type": "code",
    "executionInfo": {
     "elapsed": 1071,
     "status": "ok",
     "timestamp": 1584074119753,
     "user": {
      "displayName": "Priyanka Gaddam",
      "photoUrl": "",
      "userId": "07316718693164986599"
     },
     "user_tz": -330
    },
    "id": "00D10lMHK_64",
    "outputId": "260114be-f271-4af6-fdda-802a1cdcc6dd"
   },
   "outputs": [
    {
     "name": "stdout",
     "output_type": "stream",
     "text": [
      "[[[0.13241635 0.28659505 0.64691013]\n",
      "  [0.91386584 0.72542577 0.84235742]\n",
      "  [0.30074339 0.0828797  0.24972133]]\n",
      "\n",
      " [[0.1953195  0.484598   0.46970615]\n",
      "  [0.44663772 0.54653643 0.3807677 ]\n",
      "  [0.38769832 0.45742808 0.52844014]]\n",
      "\n",
      " [[0.51244631 0.44694123 0.08393378]\n",
      "  [0.38559679 0.19339379 0.91553434]\n",
      "  [0.57948016 0.74245293 0.98757791]]]\n"
     ]
    }
   ],
   "source": [
    "Z = np.random.random((3,3,3))\n",
    "print(Z)"
   ]
  },
  {
   "cell_type": "markdown",
   "metadata": {
    "colab_type": "text",
    "id": "acnu-tpyLOra"
   },
   "source": [
    "#### Exercise 15: Create a 10 * 10 array with random values and find the minimum and maximum values"
   ]
  },
  {
   "cell_type": "code",
   "execution_count": 18,
   "metadata": {
    "colab": {
     "base_uri": "https://localhost:8080/",
     "height": 34
    },
    "colab_type": "code",
    "executionInfo": {
     "elapsed": 998,
     "status": "ok",
     "timestamp": 1584074157937,
     "user": {
      "displayName": "Priyanka Gaddam",
      "photoUrl": "",
      "userId": "07316718693164986599"
     },
     "user_tz": -330
    },
    "id": "KiSQlupgLNW7",
    "outputId": "7e9d63a4-95a6-4865-8925-f1749189b117"
   },
   "outputs": [
    {
     "name": "stdout",
     "output_type": "stream",
     "text": [
      "0.014106835482129987 0.9956416970937092\n"
     ]
    }
   ],
   "source": [
    "Z = np.random.random((10,10))\n",
    "Zmin, Zmax = Z.min(), Z.max()\n",
    "print(Zmin, Zmax)"
   ]
  },
  {
   "cell_type": "markdown",
   "metadata": {
    "colab_type": "text",
    "id": "rfKSocVXLaRF"
   },
   "source": [
    "#### Exercise 16: Create a random vector of size 10 and find the mean value"
   ]
  },
  {
   "cell_type": "code",
   "execution_count": 19,
   "metadata": {
    "colab": {
     "base_uri": "https://localhost:8080/",
     "height": 34
    },
    "colab_type": "code",
    "executionInfo": {
     "elapsed": 1144,
     "status": "ok",
     "timestamp": 1584074190700,
     "user": {
      "displayName": "Priyanka Gaddam",
      "photoUrl": "",
      "userId": "07316718693164986599"
     },
     "user_tz": -330
    },
    "id": "UUbnalJgLWr-",
    "outputId": "1509ce02-b4a3-4a45-b79d-ccd7ca3f7b16"
   },
   "outputs": [
    {
     "name": "stdout",
     "output_type": "stream",
     "text": [
      "0.5999357466429868\n"
     ]
    }
   ],
   "source": [
    "Z = np.random.random(10)\n",
    "m = Z.mean()\n",
    "print(m)"
   ]
  },
  {
   "cell_type": "markdown",
   "metadata": {
    "colab_type": "text",
    "id": "SdlWhVZILhw0"
   },
   "source": [
    "#### Exercise 17:  Create a checkerboard 8 * 8 matrix using the tile function "
   ]
  },
  {
   "cell_type": "code",
   "execution_count": 20,
   "metadata": {
    "colab": {
     "base_uri": "https://localhost:8080/",
     "height": 153
    },
    "colab_type": "code",
    "executionInfo": {
     "elapsed": 970,
     "status": "ok",
     "timestamp": 1584074254083,
     "user": {
      "displayName": "Priyanka Gaddam",
      "photoUrl": "",
      "userId": "07316718693164986599"
     },
     "user_tz": -330
    },
    "id": "AqXCCJoWLsse",
    "outputId": "05d75498-d5ca-4dbf-ffbc-d63e60cfdb41"
   },
   "outputs": [
    {
     "name": "stdout",
     "output_type": "stream",
     "text": [
      "[[0 1 0 1 0 1 0 1]\n",
      " [1 0 1 0 1 0 1 0]\n",
      " [0 1 0 1 0 1 0 1]\n",
      " [1 0 1 0 1 0 1 0]\n",
      " [0 1 0 1 0 1 0 1]\n",
      " [1 0 1 0 1 0 1 0]\n",
      " [0 1 0 1 0 1 0 1]\n",
      " [1 0 1 0 1 0 1 0]]\n"
     ]
    }
   ],
   "source": [
    "Z = np.tile( np.array([[0,1],[1,0]]), (4,4))\n",
    "print(Z)"
   ]
  },
  {
   "cell_type": "markdown",
   "metadata": {
    "colab_type": "text",
    "id": "KOFTjLzuL_EX"
   },
   "source": [
    "#### Exercise 18: Given two arrays *A* and *B*, perform the below operations.\n",
    "\n",
    "* A + B\n",
    "* A - B\n",
    "* A * B\n",
    "* A / B\n",
    "* A ** 3\n",
    "\n",
    "A = np.arange(1,6)\n",
    "\n",
    "B = np.arange(6,15, 2)"
   ]
  },
  {
   "cell_type": "code",
   "execution_count": 0,
   "metadata": {
    "colab": {},
    "colab_type": "code",
    "id": "Cvq0kG-wLuKk"
   },
   "outputs": [],
   "source": [
    "A = np.arange(1,6)\n",
    "B = np.arange(6,15, 2)"
   ]
  },
  {
   "cell_type": "code",
   "execution_count": 22,
   "metadata": {
    "colab": {
     "base_uri": "https://localhost:8080/",
     "height": 34
    },
    "colab_type": "code",
    "executionInfo": {
     "elapsed": 1167,
     "status": "ok",
     "timestamp": 1584074474742,
     "user": {
      "displayName": "Priyanka Gaddam",
      "photoUrl": "",
      "userId": "07316718693164986599"
     },
     "user_tz": -330
    },
    "id": "N4BHY6qKMi9F",
    "outputId": "b18c4f86-9709-4b0f-d44a-5ef69d15b424"
   },
   "outputs": [
    {
     "data": {
      "text/plain": [
       "array([ 7, 10, 13, 16, 19])"
      ]
     },
     "execution_count": 22,
     "metadata": {
      "tags": []
     },
     "output_type": "execute_result"
    }
   ],
   "source": [
    "A + B"
   ]
  },
  {
   "cell_type": "code",
   "execution_count": 23,
   "metadata": {
    "colab": {
     "base_uri": "https://localhost:8080/",
     "height": 34
    },
    "colab_type": "code",
    "executionInfo": {
     "elapsed": 2611,
     "status": "ok",
     "timestamp": 1584074480917,
     "user": {
      "displayName": "Priyanka Gaddam",
      "photoUrl": "",
      "userId": "07316718693164986599"
     },
     "user_tz": -330
    },
    "id": "HhobKgbnMj2z",
    "outputId": "8edb597b-6082-4ad7-d81c-1b0b972a348d"
   },
   "outputs": [
    {
     "data": {
      "text/plain": [
       "array([-5, -6, -7, -8, -9])"
      ]
     },
     "execution_count": 23,
     "metadata": {
      "tags": []
     },
     "output_type": "execute_result"
    }
   ],
   "source": [
    "A - B"
   ]
  },
  {
   "cell_type": "code",
   "execution_count": 24,
   "metadata": {
    "colab": {
     "base_uri": "https://localhost:8080/",
     "height": 34
    },
    "colab_type": "code",
    "executionInfo": {
     "elapsed": 1112,
     "status": "ok",
     "timestamp": 1584074485187,
     "user": {
      "displayName": "Priyanka Gaddam",
      "photoUrl": "",
      "userId": "07316718693164986599"
     },
     "user_tz": -330
    },
    "id": "r8Zh04YoMk63",
    "outputId": "a9ee761f-d04d-4cc0-a2f5-1bb73a900c59"
   },
   "outputs": [
    {
     "data": {
      "text/plain": [
       "array([ 6, 16, 30, 48, 70])"
      ]
     },
     "execution_count": 24,
     "metadata": {
      "tags": []
     },
     "output_type": "execute_result"
    }
   ],
   "source": [
    "A * B"
   ]
  },
  {
   "cell_type": "code",
   "execution_count": 25,
   "metadata": {
    "colab": {
     "base_uri": "https://localhost:8080/",
     "height": 34
    },
    "colab_type": "code",
    "executionInfo": {
     "elapsed": 1457,
     "status": "ok",
     "timestamp": 1584074490185,
     "user": {
      "displayName": "Priyanka Gaddam",
      "photoUrl": "",
      "userId": "07316718693164986599"
     },
     "user_tz": -330
    },
    "id": "AULdayHCMmgi",
    "outputId": "17a5f6a5-8f03-4b28-bc62-3737fcabd168"
   },
   "outputs": [
    {
     "data": {
      "text/plain": [
       "array([0.16666667, 0.25      , 0.3       , 0.33333333, 0.35714286])"
      ]
     },
     "execution_count": 25,
     "metadata": {
      "tags": []
     },
     "output_type": "execute_result"
    }
   ],
   "source": [
    "A / B"
   ]
  },
  {
   "cell_type": "code",
   "execution_count": 26,
   "metadata": {
    "colab": {
     "base_uri": "https://localhost:8080/",
     "height": 34
    },
    "colab_type": "code",
    "executionInfo": {
     "elapsed": 1053,
     "status": "ok",
     "timestamp": 1584074514406,
     "user": {
      "displayName": "Priyanka Gaddam",
      "photoUrl": "",
      "userId": "07316718693164986599"
     },
     "user_tz": -330
    },
    "id": "ivdXhjjpMnra",
    "outputId": "972b48e6-e7fb-4209-9cbf-21b9411af520"
   },
   "outputs": [
    {
     "data": {
      "text/plain": [
       "array([  1,   8,  27,  64, 125])"
      ]
     },
     "execution_count": 26,
     "metadata": {
      "tags": []
     },
     "output_type": "execute_result"
    }
   ],
   "source": [
    "A ** 3"
   ]
  },
  {
   "cell_type": "markdown",
   "metadata": {
    "colab_type": "text",
    "id": "24tCnWfJMyv_"
   },
   "source": [
    "#### Exercise 19: Given an Array *A*. Calculate the square root of elements in it.\n",
    "\n",
    "A = np.arange(1,20, 2)"
   ]
  },
  {
   "cell_type": "code",
   "execution_count": 0,
   "metadata": {
    "colab": {},
    "colab_type": "code",
    "id": "EeWLlJpbPB0a"
   },
   "outputs": [],
   "source": [
    "A = np.arange(1,20, 2)"
   ]
  },
  {
   "cell_type": "code",
   "execution_count": 28,
   "metadata": {
    "colab": {
     "base_uri": "https://localhost:8080/",
     "height": 34
    },
    "colab_type": "code",
    "executionInfo": {
     "elapsed": 1108,
     "status": "ok",
     "timestamp": 1584075193030,
     "user": {
      "displayName": "Priyanka Gaddam",
      "photoUrl": "",
      "userId": "07316718693164986599"
     },
     "user_tz": -330
    },
    "id": "x3S9VYR6MttU",
    "outputId": "8f607dbe-d737-48fc-cbdf-8eb47ff41ed6"
   },
   "outputs": [
    {
     "data": {
      "text/plain": [
       "array([ 1,  3,  5,  7,  9, 11, 13, 15, 17, 19])"
      ]
     },
     "execution_count": 28,
     "metadata": {
      "tags": []
     },
     "output_type": "execute_result"
    }
   ],
   "source": [
    "A"
   ]
  },
  {
   "cell_type": "code",
   "execution_count": 29,
   "metadata": {
    "colab": {
     "base_uri": "https://localhost:8080/",
     "height": 51
    },
    "colab_type": "code",
    "executionInfo": {
     "elapsed": 942,
     "status": "ok",
     "timestamp": 1584075208432,
     "user": {
      "displayName": "Priyanka Gaddam",
      "photoUrl": "",
      "userId": "07316718693164986599"
     },
     "user_tz": -330
    },
    "id": "_YtLY1ndPTO9",
    "outputId": "83792e0c-593a-4dca-98bb-58a39d9fa0bd"
   },
   "outputs": [
    {
     "data": {
      "text/plain": [
       "array([1.        , 1.73205081, 2.23606798, 2.64575131, 3.        ,\n",
       "       3.31662479, 3.60555128, 3.87298335, 4.12310563, 4.35889894])"
      ]
     },
     "execution_count": 29,
     "metadata": {
      "tags": []
     },
     "output_type": "execute_result"
    }
   ],
   "source": [
    "np.sqrt(A)"
   ]
  },
  {
   "cell_type": "markdown",
   "metadata": {
    "colab_type": "text",
    "id": "1Dj0K2I3Pjig"
   },
   "source": [
    "#### Exercise 20: Given an array *A*. Calculate the exponential of elements in it.\n",
    "\n",
    "A = np.arange(1, 20, 2)"
   ]
  },
  {
   "cell_type": "code",
   "execution_count": 31,
   "metadata": {
    "colab": {
     "base_uri": "https://localhost:8080/",
     "height": 68
    },
    "colab_type": "code",
    "executionInfo": {
     "elapsed": 1148,
     "status": "ok",
     "timestamp": 1584075393657,
     "user": {
      "displayName": "Priyanka Gaddam",
      "photoUrl": "",
      "userId": "07316718693164986599"
     },
     "user_tz": -330
    },
    "id": "76VBm8HBPXKm",
    "outputId": "56674bf0-2459-4302-fdea-5a2d68828d07"
   },
   "outputs": [
    {
     "data": {
      "text/plain": [
       "array([2.71828183e+00, 2.00855369e+01, 1.48413159e+02, 1.09663316e+03,\n",
       "       8.10308393e+03, 5.98741417e+04, 4.42413392e+05, 3.26901737e+06,\n",
       "       2.41549528e+07, 1.78482301e+08])"
      ]
     },
     "execution_count": 31,
     "metadata": {
      "tags": []
     },
     "output_type": "execute_result"
    }
   ],
   "source": [
    "A = np.arange(1, 20, 2)\n",
    "np.exp(A)"
   ]
  },
  {
   "cell_type": "code",
   "execution_count": 0,
   "metadata": {
    "colab": {},
    "colab_type": "code",
    "id": "2NgZ4DviQCXL"
   },
   "outputs": [],
   "source": []
  }
 ],
 "metadata": {
  "colab": {
   "authorship_tag": "ABX9TyPzIgfnkN7cyaW8Cpp78VoH",
   "collapsed_sections": [],
   "name": "IntroductiontoNumpy1_Solution.ipynb",
   "provenance": []
  },
  "kernelspec": {
   "display_name": "Python 3",
   "language": "python",
   "name": "python3"
  },
  "language_info": {
   "codemirror_mode": {
    "name": "ipython",
    "version": 3
   },
   "file_extension": ".py",
   "mimetype": "text/x-python",
   "name": "python",
   "nbconvert_exporter": "python",
   "pygments_lexer": "ipython3",
   "version": "3.8.5"
  }
 },
 "nbformat": 4,
 "nbformat_minor": 1
}
