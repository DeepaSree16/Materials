{
 "cells": [
  {
   "cell_type": "markdown",
   "metadata": {},
   "source": [
    "## Bootstrap Example"
   ]
  },
  {
   "cell_type": "code",
   "execution_count": 1,
   "metadata": {},
   "outputs": [],
   "source": [
    "import numpy as np\n",
    "import pandas as pd\n",
    "import matplotlib.pyplot as plt"
   ]
  },
  {
   "cell_type": "code",
   "execution_count": 2,
   "metadata": {},
   "outputs": [
    {
     "ename": "NameError",
     "evalue": "name 'calculation' is not defined",
     "output_type": "error",
     "traceback": [
      "\u001b[0;31m---------------------------------------------------------------------------\u001b[0m",
      "\u001b[0;31mNameError\u001b[0m                                 Traceback (most recent call last)",
      "\u001b[0;32m<ipython-input-2-862b5f7c7419>\u001b[0m in \u001b[0;36m<module>\u001b[0;34m\u001b[0m\n\u001b[1;32m      7\u001b[0m \u001b[0;34m\u001b[0m\u001b[0m\n\u001b[1;32m      8\u001b[0m \u001b[0;31m# An estimate can then be calculated on the drawn sample.\u001b[0m\u001b[0;34m\u001b[0m\u001b[0;34m\u001b[0m\u001b[0;34m\u001b[0m\u001b[0m\n\u001b[0;32m----> 9\u001b[0;31m \u001b[0mstatistic\u001b[0m \u001b[0;34m=\u001b[0m \u001b[0mcalculation\u001b[0m\u001b[0;34m(\u001b[0m\u001b[0;34m[\u001b[0m\u001b[0;36m0.2\u001b[0m\u001b[0;34m,\u001b[0m \u001b[0;36m0.1\u001b[0m\u001b[0;34m,\u001b[0m \u001b[0;36m0.2\u001b[0m\u001b[0;34m,\u001b[0m \u001b[0;36m0.6\u001b[0m\u001b[0;34m]\u001b[0m\u001b[0;34m)\u001b[0m\u001b[0;34m\u001b[0m\u001b[0;34m\u001b[0m\u001b[0m\n\u001b[0m\u001b[1;32m     10\u001b[0m \u001b[0;34m\u001b[0m\u001b[0m\n\u001b[1;32m     11\u001b[0m \u001b[0;31m# Out of bag sample observations\u001b[0m\u001b[0;34m\u001b[0m\u001b[0;34m\u001b[0m\u001b[0;34m\u001b[0m\u001b[0m\n",
      "\u001b[0;31mNameError\u001b[0m: name 'calculation' is not defined"
     ]
    }
   ],
   "source": [
    "# dataset with six observations 100\n",
    "[0.1, 0.2, 0.3, 0.4, 0.5, 0.6]\n",
    "\n",
    "# size of the sample to be 4\n",
    "# Randomly choosing four observations\n",
    "sample = [0.2, 0.1, 0.2, 0.6]\n",
    "\n",
    "# An estimate can then be calculated on the drawn sample.\n",
    "statistic = calculation([0.2, 0.1, 0.2, 0.6])\n",
    "\n",
    "# Out of bag sample observations\n",
    "oob = [0.3, 0.4, 0.5]"
   ]
  },
  {
   "cell_type": "markdown",
   "metadata": {},
   "source": [
    "In the case of evaluating a machine learning model, the model is fit on the drawn sample and evaluated on the out-of-bag sample.\n"
   ]
  },
  {
   "cell_type": "code",
   "execution_count": null,
   "metadata": {},
   "outputs": [],
   "source": [
    "train = [0.2, 0.1, 0.2, 0.6]\n",
    "test = [0.3, 0.4, 0.5]\n",
    "model = fit(train)\n",
    "statistic = evaluate(model, test)"
   ]
  },
  {
   "cell_type": "markdown",
   "metadata": {},
   "source": [
    "That concludes one repeat of the procedure. It can be repeated 30 or more times to give a sample of calculated statistics."
   ]
  },
  {
   "cell_type": "code",
   "execution_count": null,
   "metadata": {},
   "outputs": [],
   "source": [
    "statistics = [1...30]"
   ]
  },
  {
   "cell_type": "markdown",
   "metadata": {},
   "source": [
    "This sample of statistics can then be summarized by calculating a mean, standard deviation, or other summary values to give a final usable estimate of the statistic."
   ]
  },
  {
   "cell_type": "code",
   "execution_count": null,
   "metadata": {},
   "outputs": [],
   "source": [
    "estimate = mean(statistics)"
   ]
  },
  {
   "cell_type": "markdown",
   "metadata": {},
   "source": [
    "## Bootstrap API"
   ]
  },
  {
   "cell_type": "code",
   "execution_count": 16,
   "metadata": {},
   "outputs": [
    {
     "name": "stdout",
     "output_type": "stream",
     "text": [
      "Bootstrap Sample: [0.5, 0.2, 0.6, 0.5]\n",
      "OOB Sample: [0.1, 0.3, 0.4]\n",
      "Bootstrap Sample: [0.2, 0.2, 0.2, 0.2]\n",
      "OOB Sample: [0.1, 0.3, 0.4, 0.5, 0.6]\n",
      "Bootstrap Sample: [0.4, 0.5, 0.2, 0.6]\n",
      "OOB Sample: [0.1, 0.3]\n",
      "Bootstrap Sample: [0.2, 0.5, 0.6, 0.5]\n",
      "OOB Sample: [0.1, 0.3, 0.4]\n",
      "Bootstrap Sample: [0.2, 0.6, 0.1, 0.3]\n",
      "OOB Sample: [0.4, 0.5]\n",
      "Bootstrap Sample: [0.4, 0.6, 0.4, 0.4]\n",
      "OOB Sample: [0.1, 0.2, 0.3, 0.5]\n",
      "Bootstrap Sample: [0.1, 0.1, 0.4, 0.3]\n",
      "OOB Sample: [0.2, 0.5, 0.6]\n",
      "Bootstrap Sample: [0.3, 0.3, 0.6, 0.1]\n",
      "OOB Sample: [0.2, 0.4, 0.5]\n",
      "Bootstrap Sample: [0.6, 0.1, 0.5, 0.3]\n",
      "OOB Sample: [0.2, 0.4]\n",
      "Bootstrap Sample: [0.4, 0.2, 0.6, 0.1]\n",
      "OOB Sample: [0.3, 0.5]\n",
      "Bootstrap Sample: [0.5, 0.2, 0.3, 0.6]\n",
      "OOB Sample: [0.1, 0.4]\n",
      "Bootstrap Sample: [0.5, 0.1, 0.3, 0.2]\n",
      "OOB Sample: [0.4, 0.6]\n",
      "Bootstrap Sample: [0.6, 0.1, 0.4, 0.1]\n",
      "OOB Sample: [0.2, 0.3, 0.5]\n",
      "Bootstrap Sample: [0.4, 0.4, 0.6, 0.4]\n",
      "OOB Sample: [0.1, 0.2, 0.3, 0.5]\n",
      "Bootstrap Sample: [0.2, 0.5, 0.4, 0.1]\n",
      "OOB Sample: [0.3, 0.6]\n",
      "Bootstrap Sample: [0.6, 0.4, 0.1, 0.1]\n",
      "OOB Sample: [0.2, 0.3, 0.5]\n",
      "Bootstrap Sample: [0.4, 0.6, 0.5, 0.5]\n",
      "OOB Sample: [0.1, 0.2, 0.3]\n",
      "Bootstrap Sample: [0.6, 0.1, 0.6, 0.1]\n",
      "OOB Sample: [0.2, 0.3, 0.4, 0.5]\n",
      "Bootstrap Sample: [0.5, 0.3, 0.3, 0.5]\n",
      "OOB Sample: [0.1, 0.2, 0.4, 0.6]\n",
      "Bootstrap Sample: [0.6, 0.2, 0.3, 0.2]\n",
      "OOB Sample: [0.1, 0.4, 0.5]\n",
      "Bootstrap Sample: [0.4, 0.6, 0.5, 0.6]\n",
      "OOB Sample: [0.1, 0.2, 0.3]\n",
      "Bootstrap Sample: [0.5, 0.5, 0.4, 0.5]\n",
      "OOB Sample: [0.1, 0.2, 0.3, 0.6]\n",
      "Bootstrap Sample: [0.4, 0.2, 0.4, 0.4]\n",
      "OOB Sample: [0.1, 0.3, 0.5, 0.6]\n",
      "Bootstrap Sample: [0.2, 0.5, 0.1, 0.3]\n",
      "OOB Sample: [0.4, 0.6]\n",
      "Bootstrap Sample: [0.5, 0.5, 0.4, 0.6]\n",
      "OOB Sample: [0.1, 0.2, 0.3]\n",
      "Bootstrap Sample: [0.3, 0.5, 0.4, 0.3]\n",
      "OOB Sample: [0.1, 0.2, 0.6]\n",
      "Bootstrap Sample: [0.5, 0.1, 0.3, 0.3]\n",
      "OOB Sample: [0.2, 0.4, 0.6]\n",
      "Bootstrap Sample: [0.4, 0.3, 0.4, 0.1]\n",
      "OOB Sample: [0.2, 0.5, 0.6]\n",
      "Bootstrap Sample: [0.5, 0.1, 0.6, 0.6]\n",
      "OOB Sample: [0.2, 0.3, 0.4]\n",
      "Bootstrap Sample: [0.5, 0.3, 0.1, 0.6]\n",
      "OOB Sample: [0.2, 0.4]\n",
      "Bootstrap Sample: [0.1, 0.6, 0.6, 0.3]\n",
      "OOB Sample: [0.2, 0.4, 0.5]\n",
      "Bootstrap Sample: [0.2, 0.2, 0.3, 0.1]\n",
      "OOB Sample: [0.4, 0.5, 0.6]\n",
      "Bootstrap Sample: [0.1, 0.4, 0.6, 0.1]\n",
      "OOB Sample: [0.2, 0.3, 0.5]\n",
      "Bootstrap Sample: [0.1, 0.5, 0.2, 0.4]\n",
      "OOB Sample: [0.3, 0.6]\n",
      "Bootstrap Sample: [0.4, 0.3, 0.3, 0.2]\n",
      "OOB Sample: [0.1, 0.5, 0.6]\n",
      "Bootstrap Sample: [0.1, 0.2, 0.2, 0.6]\n",
      "OOB Sample: [0.3, 0.4, 0.5]\n",
      "Bootstrap Sample: [0.2, 0.6, 0.1, 0.2]\n",
      "OOB Sample: [0.3, 0.4, 0.5]\n",
      "Bootstrap Sample: [0.4, 0.2, 0.4, 0.2]\n",
      "OOB Sample: [0.1, 0.3, 0.5, 0.6]\n",
      "Bootstrap Sample: [0.5, 0.6, 0.6, 0.6]\n",
      "OOB Sample: [0.1, 0.2, 0.3, 0.4]\n",
      "Bootstrap Sample: [0.1, 0.2, 0.2, 0.2]\n",
      "OOB Sample: [0.3, 0.4, 0.5, 0.6]\n",
      "Bootstrap Sample: [0.3, 0.6, 0.1, 0.2]\n",
      "OOB Sample: [0.4, 0.5]\n",
      "Bootstrap Sample: [0.3, 0.1, 0.4, 0.2]\n",
      "OOB Sample: [0.5, 0.6]\n",
      "Bootstrap Sample: [0.4, 0.4, 0.4, 0.1]\n",
      "OOB Sample: [0.2, 0.3, 0.5, 0.6]\n",
      "Bootstrap Sample: [0.4, 0.6, 0.2, 0.3]\n",
      "OOB Sample: [0.1, 0.5]\n",
      "Bootstrap Sample: [0.3, 0.3, 0.1, 0.1]\n",
      "OOB Sample: [0.2, 0.4, 0.5, 0.6]\n",
      "Bootstrap Sample: [0.4, 0.6, 0.4, 0.2]\n",
      "OOB Sample: [0.1, 0.3, 0.5]\n",
      "Bootstrap Sample: [0.2, 0.3, 0.1, 0.6]\n",
      "OOB Sample: [0.4, 0.5]\n",
      "Bootstrap Sample: [0.4, 0.3, 0.4, 0.3]\n",
      "OOB Sample: [0.1, 0.2, 0.5, 0.6]\n",
      "Bootstrap Sample: [0.5, 0.1, 0.3, 0.4]\n",
      "OOB Sample: [0.2, 0.6]\n",
      "Bootstrap Sample: [0.5, 0.3, 0.6, 0.5]\n",
      "OOB Sample: [0.1, 0.2, 0.4]\n",
      "Bootstrap Sample: [0.5, 0.1, 0.1, 0.4]\n",
      "OOB Sample: [0.2, 0.3, 0.6]\n",
      "Bootstrap Sample: [0.5, 0.1, 0.4, 0.1]\n",
      "OOB Sample: [0.2, 0.3, 0.6]\n",
      "Bootstrap Sample: [0.3, 0.1, 0.5, 0.2]\n",
      "OOB Sample: [0.4, 0.6]\n",
      "Bootstrap Sample: [0.6, 0.2, 0.5, 0.1]\n",
      "OOB Sample: [0.3, 0.4]\n",
      "Bootstrap Sample: [0.1, 0.6, 0.4, 0.2]\n",
      "OOB Sample: [0.3, 0.5]\n",
      "Bootstrap Sample: [0.4, 0.2, 0.6, 0.2]\n",
      "OOB Sample: [0.1, 0.3, 0.5]\n",
      "Bootstrap Sample: [0.1, 0.5, 0.2, 0.5]\n",
      "OOB Sample: [0.3, 0.4, 0.6]\n",
      "Bootstrap Sample: [0.4, 0.6, 0.3, 0.3]\n",
      "OOB Sample: [0.1, 0.2, 0.5]\n",
      "Bootstrap Sample: [0.1, 0.5, 0.3, 0.4]\n",
      "OOB Sample: [0.2, 0.6]\n",
      "Bootstrap Sample: [0.3, 0.6, 0.1, 0.4]\n",
      "OOB Sample: [0.2, 0.5]\n",
      "Bootstrap Sample: [0.2, 0.3, 0.5, 0.2]\n",
      "OOB Sample: [0.1, 0.4, 0.6]\n",
      "Bootstrap Sample: [0.6, 0.4, 0.2, 0.1]\n",
      "OOB Sample: [0.3, 0.5]\n",
      "Bootstrap Sample: [0.3, 0.3, 0.2, 0.3]\n",
      "OOB Sample: [0.1, 0.4, 0.5, 0.6]\n",
      "Bootstrap Sample: [0.2, 0.6, 0.6, 0.1]\n",
      "OOB Sample: [0.3, 0.4, 0.5]\n",
      "Bootstrap Sample: [0.2, 0.2, 0.6, 0.4]\n",
      "OOB Sample: [0.1, 0.3, 0.5]\n",
      "Bootstrap Sample: [0.4, 0.3, 0.3, 0.5]\n",
      "OOB Sample: [0.1, 0.2, 0.6]\n",
      "Bootstrap Sample: [0.5, 0.4, 0.3, 0.1]\n",
      "OOB Sample: [0.2, 0.6]\n",
      "Bootstrap Sample: [0.5, 0.5, 0.6, 0.1]\n",
      "OOB Sample: [0.2, 0.3, 0.4]\n",
      "Bootstrap Sample: [0.6, 0.3, 0.6, 0.3]\n",
      "OOB Sample: [0.1, 0.2, 0.4, 0.5]\n",
      "Bootstrap Sample: [0.4, 0.3, 0.2, 0.2]\n",
      "OOB Sample: [0.1, 0.5, 0.6]\n",
      "Bootstrap Sample: [0.4, 0.3, 0.4, 0.2]\n",
      "OOB Sample: [0.1, 0.5, 0.6]\n",
      "Bootstrap Sample: [0.3, 0.5, 0.1, 0.5]\n",
      "OOB Sample: [0.2, 0.4, 0.6]\n",
      "Bootstrap Sample: [0.4, 0.2, 0.5, 0.2]\n",
      "OOB Sample: [0.1, 0.3, 0.6]\n",
      "Bootstrap Sample: [0.2, 0.2, 0.1, 0.2]\n",
      "OOB Sample: [0.3, 0.4, 0.5, 0.6]\n",
      "Bootstrap Sample: [0.2, 0.3, 0.1, 0.6]\n",
      "OOB Sample: [0.4, 0.5]\n",
      "Bootstrap Sample: [0.5, 0.5, 0.4, 0.4]\n",
      "OOB Sample: [0.1, 0.2, 0.3, 0.6]\n",
      "Bootstrap Sample: [0.1, 0.5, 0.4, 0.6]\n",
      "OOB Sample: [0.2, 0.3]\n",
      "Bootstrap Sample: [0.3, 0.5, 0.5, 0.5]\n",
      "OOB Sample: [0.1, 0.2, 0.4, 0.6]\n",
      "Bootstrap Sample: [0.3, 0.2, 0.1, 0.3]\n",
      "OOB Sample: [0.4, 0.5, 0.6]\n",
      "Bootstrap Sample: [0.5, 0.5, 0.2, 0.1]\n",
      "OOB Sample: [0.3, 0.4, 0.6]\n",
      "Bootstrap Sample: [0.6, 0.5, 0.3, 0.3]\n",
      "OOB Sample: [0.1, 0.2, 0.4]\n",
      "Bootstrap Sample: [0.6, 0.4, 0.2, 0.6]\n",
      "OOB Sample: [0.1, 0.3, 0.5]\n",
      "Bootstrap Sample: [0.5, 0.1, 0.6, 0.3]\n",
      "OOB Sample: [0.2, 0.4]\n",
      "Bootstrap Sample: [0.3, 0.4, 0.4, 0.3]\n",
      "OOB Sample: [0.1, 0.2, 0.5, 0.6]\n",
      "Bootstrap Sample: [0.5, 0.6, 0.1, 0.2]\n",
      "OOB Sample: [0.3, 0.4]\n",
      "Bootstrap Sample: [0.5, 0.2, 0.2, 0.2]\n",
      "OOB Sample: [0.1, 0.3, 0.4, 0.6]\n",
      "Bootstrap Sample: [0.4, 0.4, 0.4, 0.6]\n",
      "OOB Sample: [0.1, 0.2, 0.3, 0.5]\n",
      "Bootstrap Sample: [0.2, 0.6, 0.2, 0.5]\n",
      "OOB Sample: [0.1, 0.3, 0.4]\n",
      "Bootstrap Sample: [0.5, 0.6, 0.2, 0.4]\n",
      "OOB Sample: [0.1, 0.3]\n",
      "Bootstrap Sample: [0.4, 0.3, 0.4, 0.6]\n",
      "OOB Sample: [0.1, 0.2, 0.5]\n",
      "Bootstrap Sample: [0.1, 0.3, 0.6, 0.6]\n",
      "OOB Sample: [0.2, 0.4, 0.5]\n",
      "Bootstrap Sample: [0.2, 0.5, 0.2, 0.1]\n",
      "OOB Sample: [0.3, 0.4, 0.6]\n",
      "Bootstrap Sample: [0.4, 0.1, 0.6, 0.3]\n",
      "OOB Sample: [0.2, 0.5]\n",
      "Bootstrap Sample: [0.2, 0.6, 0.2, 0.3]\n",
      "OOB Sample: [0.1, 0.4, 0.5]\n",
      "Bootstrap Sample: [0.5, 0.6, 0.3, 0.2]\n",
      "OOB Sample: [0.1, 0.4]\n",
      "Bootstrap Sample: [0.6, 0.2, 0.1, 0.5]\n",
      "OOB Sample: [0.3, 0.4]\n",
      "Bootstrap Sample: [0.5, 0.4, 0.3, 0.2]\n",
      "OOB Sample: [0.1, 0.6]\n",
      "Bootstrap Sample: [0.5, 0.5, 0.6, 0.2]\n",
      "OOB Sample: [0.1, 0.3, 0.4]\n",
      "Bootstrap Sample: [0.4, 0.4, 0.5, 0.2]\n",
      "OOB Sample: [0.1, 0.3, 0.6]\n",
      "Bootstrap Sample: [0.6, 0.5, 0.5, 0.4]\n",
      "OOB Sample: [0.1, 0.2, 0.3]\n"
     ]
    }
   ],
   "source": [
    "# scikit-learn bootstrap\n",
    "from sklearn.utils import resample\n",
    "\n",
    "# data sample\n",
    "data = [0.1, 0.2, 0.3, 0.4, 0.5, 0.6]\n",
    "\n",
    "\n",
    "boot_samples = []\n",
    "oob_samples = []\n",
    "for _ in range(100):\n",
    "    # prepare bootstrap sample\n",
    "    boot = resample(data, replace=True, n_samples=4)\n",
    "    print('Bootstrap Sample: %s' % boot)\n",
    "\n",
    "    # out of bag observations\n",
    "    oob = [x for x in data if x not in boot]\n",
    "    print('OOB Sample: %s' % oob)\n",
    "    \n",
    "    boot_samples.append(boot)\n",
    "    oob_samples.append(oob)\n",
    "\n",
    "\n",
    "# print(boot_samples)\n",
    "# print(oob_samples)"
   ]
  },
  {
   "cell_type": "markdown",
   "metadata": {},
   "source": [
    "## Confidence Intervals"
   ]
  },
  {
   "cell_type": "code",
   "execution_count": 17,
   "metadata": {},
   "outputs": [
    {
     "name": "stdout",
     "output_type": "stream",
     "text": [
      "0.65\n"
     ]
    }
   ],
   "source": [
    "import numpy as np\n",
    "\n",
    "true_cricket_fans = 0.65  # Real percentage of people who love cricket\n",
    "\n",
    "tot_pop = 35.2*10**6  # Total population in Telengana (35.2M)\n",
    "\n",
    "num_cricket_fans = int(tot_pop * true_cricket_fans)\n",
    "num_cricket_not_fans = int(tot_pop * (1 - true_cricket_fans))\n",
    "\n",
    "\n",
    "people_love_cricket = np.ones(num_cricket_fans)\n",
    "people_dont_love_cricket = np.zeros(num_cricket_not_fans)\n",
    "\n",
    "all_people = np.hstack([people_love_cricket, people_dont_love_cricket])\n",
    "print(np.mean(all_people))"
   ]
  },
  {
   "cell_type": "code",
   "execution_count": 18,
   "metadata": {},
   "outputs": [
    {
     "name": "stdout",
     "output_type": "stream",
     "text": [
      "Sample 0 : 0.664\n",
      "Sample 1 : 0.651\n",
      "Sample 2 : 0.647\n",
      "Sample 3 : 0.659\n",
      "Sample 4 : 0.653\n",
      "Sample 5 : 0.658\n",
      "Sample 6 : 0.668\n",
      "Sample 7 : 0.634\n",
      "Sample 8 : 0.642\n",
      "Sample 9 : 0.644\n",
      "Sample 10 : 0.667\n",
      "Sample 11 : 0.655\n",
      "Sample 12 : 0.644\n",
      "Sample 13 : 0.662\n",
      "Sample 14 : 0.65\n",
      "Sample 15 : 0.65\n",
      "Sample 16 : 0.638\n",
      "Sample 17 : 0.657\n",
      "Sample 18 : 0.659\n",
      "Sample 19 : 0.677\n",
      "Sample 20 : 0.647\n",
      "Sample 21 : 0.665\n",
      "Sample 22 : 0.639\n",
      "Sample 23 : 0.638\n",
      "Sample 24 : 0.666\n",
      "Sample 25 : 0.645\n",
      "Sample 26 : 0.626\n",
      "Sample 27 : 0.638\n",
      "Sample 28 : 0.629\n",
      "Sample 29 : 0.658\n",
      "Sample 30 : 0.665\n",
      "Sample 31 : 0.669\n",
      "Sample 32 : 0.649\n",
      "Sample 33 : 0.658\n",
      "Sample 34 : 0.641\n",
      "Sample 35 : 0.647\n",
      "Sample 36 : 0.67\n",
      "Sample 37 : 0.622\n",
      "Sample 38 : 0.664\n",
      "Sample 39 : 0.643\n",
      "Sample 40 : 0.661\n",
      "Sample 41 : 0.653\n",
      "Sample 42 : 0.656\n",
      "Sample 43 : 0.669\n",
      "Sample 44 : 0.661\n",
      "Sample 45 : 0.657\n",
      "Sample 46 : 0.648\n",
      "Sample 47 : 0.692\n",
      "Sample 48 : 0.655\n",
      "Sample 49 : 0.653\n",
      "Sample 50 : 0.649\n",
      "Sample 51 : 0.658\n",
      "Sample 52 : 0.647\n",
      "Sample 53 : 0.65\n",
      "Sample 54 : 0.64\n",
      "Sample 55 : 0.626\n",
      "Sample 56 : 0.627\n",
      "Sample 57 : 0.649\n",
      "Sample 58 : 0.627\n",
      "Sample 59 : 0.642\n",
      "Sample 60 : 0.685\n",
      "Sample 61 : 0.637\n",
      "Sample 62 : 0.655\n",
      "Sample 63 : 0.636\n",
      "Sample 64 : 0.642\n",
      "Sample 65 : 0.647\n",
      "Sample 66 : 0.655\n",
      "Sample 67 : 0.633\n",
      "Sample 68 : 0.663\n",
      "Sample 69 : 0.61\n",
      "Sample 70 : 0.68\n",
      "Sample 71 : 0.634\n",
      "Sample 72 : 0.631\n",
      "Sample 73 : 0.644\n",
      "Sample 74 : 0.641\n",
      "Sample 75 : 0.624\n",
      "Sample 76 : 0.653\n",
      "Sample 77 : 0.651\n",
      "Sample 78 : 0.653\n",
      "Sample 79 : 0.641\n",
      "Sample 80 : 0.684\n",
      "Sample 81 : 0.665\n",
      "Sample 82 : 0.629\n",
      "Sample 83 : 0.651\n",
      "Sample 84 : 0.646\n",
      "Sample 85 : 0.658\n",
      "Sample 86 : 0.663\n",
      "Sample 87 : 0.661\n",
      "Sample 88 : 0.667\n",
      "Sample 89 : 0.636\n",
      "Sample 90 : 0.631\n",
      "Sample 91 : 0.642\n",
      "Sample 92 : 0.663\n",
      "Sample 93 : 0.639\n",
      "Sample 94 : 0.654\n",
      "Sample 95 : 0.661\n",
      "Sample 96 : 0.658\n",
      "Sample 97 : 0.655\n",
      "Sample 98 : 0.664\n",
      "Sample 99 : 0.641\n",
      "0.65061\n"
     ]
    }
   ],
   "source": [
    "value = []\n",
    "for i in range(100):\n",
    "    sample = np.random.choice(all_people, size=1000)\n",
    "    print('Sample', i, ':', np.mean(sample))\n",
    "    value.append(np.mean(sample))\n",
    "print(np.mean(value))"
   ]
  },
  {
   "cell_type": "code",
   "execution_count": 19,
   "metadata": {},
   "outputs": [
    {
     "name": "stdout",
     "output_type": "stream",
     "text": [
      "0.64999681\n"
     ]
    }
   ],
   "source": [
    "values = []\n",
    "for i in range(10000):\n",
    "    sample = np.random.choice(all_people, size=10000)\n",
    "    mean = np.mean(sample)\n",
    "    values.append(mean)\n",
    "print(np.mean(values))\n"
   ]
  },
  {
   "cell_type": "code",
   "execution_count": 73,
   "metadata": {},
   "outputs": [
    {
     "data": {
      "image/png": "[encoded data removed]",
      "text/plain": [
       "<Figure size 432x288 with 1 Axes>"
      ]
     },
     "metadata": {
      "needs_background": "light"
     },
     "output_type": "display_data"
    }
   ],
   "source": [
    "plt.hist(values, bins=100)\n",
    "plt.axvline(x=0.64, color='r')\n",
    "plt.axvline(x=0.66, color='r')\n",
    "\n",
    "plt.show()"
   ]
  },
  {
   "cell_type": "code",
   "execution_count": 39,
   "metadata": {},
   "outputs": [
    {
     "data": {
      "text/plain": [
       "<matplotlib.lines.Line2D at 0x7f9789389490>"
      ]
     },
     "execution_count": 39,
     "metadata": {},
     "output_type": "execute_result"
    },
    {
     "data": {
      "image/png": "[encoded data removed]",
      "text/plain": [
       "<Figure size 432x288 with 1 Axes>"
      ]
     },
     "metadata": {
      "needs_background": "light"
     },
     "output_type": "display_data"
    }
   ],
   "source": [
    "import seaborn as sns\n",
    "sns.kdeplot(values)\n",
    "plt.axvline(x=0.6470503747492188, color='r')\n",
    "plt.axvline(x=0.652962925250781, color='r')\n",
    "plt.axvline(x=0.6489862399648578, color='g')\n",
    "plt.axvline(x=0.6524704441158704, color='g')\n",
    "plt.axvline(x=0.6461204443428127, color='b')\n",
    "plt.axvline(x=0.6538731756571873, color='b')"
   ]
  },
  {
   "cell_type": "markdown",
   "metadata": {},
   "source": [
    "$interval = z * \\sqrt{ \\frac{(calculation * (1 - calculation))}{n}}$"
   ]
  },
  {
   "cell_type": "code",
   "execution_count": 34,
   "metadata": {},
   "outputs": [],
   "source": [
    "from math import sqrt\n",
    "interval = 0.67 * sqrt( (np.mean(values) * (1 - np.mean(values))) / 100000)"
   ]
  },
  {
   "cell_type": "code",
   "execution_count": 35,
   "metadata": {},
   "outputs": [
    {
     "data": {
      "text/plain": [
       "0.001010570035142206"
      ]
     },
     "execution_count": 35,
     "metadata": {},
     "output_type": "execute_result"
    }
   ],
   "source": [
    "interval"
   ]
  },
  {
   "cell_type": "code",
   "execution_count": 37,
   "metadata": {},
   "outputs": [
    {
     "data": {
      "text/plain": [
       "0.6510073800351421"
      ]
     },
     "execution_count": 37,
     "metadata": {},
     "output_type": "execute_result"
    }
   ],
   "source": [
    "np.mean(values) + interval"
   ]
  },
  {
   "cell_type": "code",
   "execution_count": 38,
   "metadata": {},
   "outputs": [
    {
     "data": {
      "text/plain": [
       "0.6489862399648578"
      ]
     },
     "execution_count": 38,
     "metadata": {},
     "output_type": "execute_result"
    }
   ],
   "source": [
    "np.mean(values) - interval"
   ]
  },
  {
   "cell_type": "markdown",
   "metadata": {},
   "source": [
    "To Find a critical value for a 99% confidence level.\n",
    "\n",
    "Step 1: Subtract the confidence level from 100% to find the α level: 100% – 50% = 50%.\n",
    "\n",
    "Step 2: Convert Step 1 to a decimal: 50% = 0.5.\n",
    "\n",
    "Step 3: Divide Step 2 by 2 (this is called “α/2”). 0.25. This is the area in each tail.\n",
    "\n",
    "Step 4: Subtract Step 3 from 1 (because we want the area in the middle, not the area in the tail): 1 – 0.25 = .75\n",
    "\n",
    "Step 5: Look up the area from Step in the z-table. The area is at z=1.645. This is your critical value for a confidence level of 90%."
   ]
  },
  {
   "cell_type": "code",
   "execution_count": null,
   "metadata": {},
   "outputs": [],
   "source": []
  }
 ],
 "metadata": {
  "kernelspec": {
   "display_name": "Python 3",
   "language": "python",
   "name": "python3"
  },
  "language_info": {
   "codemirror_mode": {
    "name": "ipython",
    "version": 3
   },
   "file_extension": ".py",
   "mimetype": "text/x-python",
   "name": "python",
   "nbconvert_exporter": "python",
   "pygments_lexer": "ipython3",
   "version": "3.8.5"
  }
 },
 "nbformat": 4,
 "nbformat_minor": 2
}
