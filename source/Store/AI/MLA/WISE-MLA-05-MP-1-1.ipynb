{
 "cells": [
  {
   "cell_type": "markdown",
   "metadata": {
    "colab_type": "text",
    "id": "XDxtr_MamOuM"
   },
   "source": [
    "## Objective\n",
    "\n",
    "At the end of the experiment you will be able to\n",
    "\n",
    "* visualize multiple forms of both 2D and 3D graphs, like line graphs, scatter plots, bar charts, and more"
   ]
  },
  {
   "cell_type": "markdown",
   "metadata": {
    "colab_type": "text",
    "id": "HDXTEL6ym08u"
   },
   "source": [
    "### Introduction to Matplotlib\n",
    "\n",
    "Matplotlib is probably the most used Python package for 2D and 3D graphics. It provides both a quick way to visualize data from Python and publication-quality figures in many formats.\n",
    "\n",
    "Now it is time to work on practicals. Following Are the given Exercise:"
   ]
  },
  {
   "cell_type": "markdown",
   "metadata": {
    "colab_type": "text",
    "id": "tkdX2oq-oVdj"
   },
   "source": [
    "#### Data"
   ]
  },
  {
   "cell_type": "code",
   "execution_count": 1,
   "metadata": {
    "colab": {},
    "colab_type": "code",
    "id": "mHbpMXREmLGr"
   },
   "outputs": [],
   "source": [
    "import numpy as np\n",
    "import pandas as pd\n",
    "X = np.arange(0,100)\n",
    "Y = X * 2\n",
    "X = X ** 3"
   ]
  },
  {
   "cell_type": "markdown",
   "metadata": {
    "colab_type": "text",
    "id": "jKVqei9sogU4"
   },
   "source": [
    "### Exercise 0: Import matplotlib.pyplot as plt and set %matplotlib inline"
   ]
  },
  {
   "cell_type": "code",
   "execution_count": 2,
   "metadata": {
    "colab": {},
    "colab_type": "code",
    "id": "TIz82RR4oa4S"
   },
   "outputs": [],
   "source": [
    "# Your Code Here"
   ]
  },
  {
   "cell_type": "markdown",
   "metadata": {
    "colab_type": "text",
    "id": "ELzab7r3os19"
   },
   "source": [
    "### Exercise 1: Follow along with these steps:\n",
    "\n",
    "* Create a figure object called fig using plt.figure()\n",
    "* Use add_axes to add an axis to the figure canvas at [0,0,1,1]. Call this new axis ax.\n",
    "* Plot (X,Y) on that axes and set labels and title for the graph"
   ]
  },
  {
   "cell_type": "code",
   "execution_count": 3,
   "metadata": {
    "colab": {},
    "colab_type": "code",
    "id": "1lri-TVjosMt"
   },
   "outputs": [
    {
     "data": {
      "text/plain": [
       "[<matplotlib.lines.Line2D at 0x7fa5a265bd30>]"
      ]
     },
     "execution_count": 3,
     "metadata": {},
     "output_type": "execute_result"
    }
   ],
   "source": [
    "# Your Code Here\n"
   ]
  },
  {
   "cell_type": "markdown",
   "metadata": {
    "colab_type": "text",
    "id": "I6dQqcSSpI5w"
   },
   "source": [
    "### Exercise 3: Create a figure object and put two axes on it, ax1 and ax2. Located at [0, 0, 1, 1] and [0.4, 0.3, 0.1, 0.2] respectively."
   ]
  },
  {
   "cell_type": "code",
   "execution_count": 0,
   "metadata": {
    "colab": {},
    "colab_type": "code",
    "id": "QCtn6VeIpDli"
   },
   "outputs": [],
   "source": [
    "# Your Code Here"
   ]
  },
  {
   "cell_type": "markdown",
   "metadata": {
    "colab_type": "text",
    "id": "RuQlgHWHpsdQ"
   },
   "source": [
    "### Exercise 4: Now plot (X, Y) on both axes. And call your figure object to show it."
   ]
  },
  {
   "cell_type": "code",
   "execution_count": 0,
   "metadata": {
    "colab": {},
    "colab_type": "code",
    "id": "row9zhy-pa0m"
   },
   "outputs": [],
   "source": [
    "# Your Code Here"
   ]
  },
  {
   "cell_type": "markdown",
   "metadata": {
    "colab_type": "text",
    "id": "kHkCWfLVqTPy"
   },
   "source": [
    "### Exercise 5: For the following dataframe:\n",
    "\n",
    "* Plot a simple bar chart.\n",
    "* Set the title and axis labels of the graph.\n",
    "* In the plot method, remove the legend, change the colour, and increase the width of the bars.\n",
    "* Remove the ticks (It's OK to C + P this!)\n",
    "* Remove the top and right borders"
   ]
  },
  {
   "cell_type": "code",
   "execution_count": 0,
   "metadata": {
    "colab": {},
    "colab_type": "code",
    "id": "S2UAMWt7p4EP"
   },
   "outputs": [],
   "source": [
    "df1 = pd.DataFrame({'date':['11-May-16','18-May-16','01-Jun-16','08-Jun-16','15-Jun-16'], # Importing some dates as a string\n",
    "                   'data':np.random.randint(0,1000,5)*100})\n",
    "df1 = df1.set_index('date')\n",
    "df1.index.name = None\n",
    "df1"
   ]
  },
  {
   "cell_type": "code",
   "execution_count": 0,
   "metadata": {
    "colab": {},
    "colab_type": "code",
    "id": "U_1kWztFrBkY"
   },
   "outputs": [],
   "source": [
    "# Your Code Here"
   ]
  },
  {
   "cell_type": "markdown",
   "metadata": {
    "colab_type": "text",
    "id": "7a3ZjKYUqowH"
   },
   "source": [
    "### **Exercise 6: For the following dataframe:**\n",
    "\n",
    "* Plot a basic scatter chart.\n",
    "* Set the title and axis labels of the graph.\n",
    "* See if you can find out how to set the scale to -40 - 1060\n",
    "* See if you can find out how to change the scatter marker to a square"
   ]
  },
  {
   "cell_type": "code",
   "execution_count": 0,
   "metadata": {
    "colab": {},
    "colab_type": "code",
    "id": "zOcEvwIeqtc5"
   },
   "outputs": [],
   "source": [
    "df2 = pd.DataFrame({'data1':np.random.randint(0,1000,1000),\n",
    "                   'data2':np.random.randint(0,1000,1000)})\n",
    "df2"
   ]
  },
  {
   "cell_type": "code",
   "execution_count": 0,
   "metadata": {
    "colab": {},
    "colab_type": "code",
    "id": "xgifyzCUrCNM"
   },
   "outputs": [],
   "source": [
    "# Your Code Here"
   ]
  }
 ],
 "metadata": {
  "colab": {
   "authorship_tag": "ABX9TyMB2/JPbtTwTHGvkEk5LOSF",
   "collapsed_sections": [],
   "name": "IntroductiontoMatplotlib1.ipynb",
   "provenance": []
  },
  "kernelspec": {
   "display_name": "Python 3",
   "language": "python",
   "name": "python3"
  },
  "language_info": {
   "codemirror_mode": {
    "name": "ipython",
    "version": 3
   },
   "file_extension": ".py",
   "mimetype": "text/x-python",
   "name": "python",
   "nbconvert_exporter": "python",
   "pygments_lexer": "ipython3",
   "version": "3.8.5"
  }
 },
 "nbformat": 4,
 "nbformat_minor": 1
}
