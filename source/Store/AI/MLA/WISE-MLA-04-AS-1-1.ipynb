{
 "cells": [
  {
   "cell_type": "code",
   "execution_count": 1,
   "metadata": {},
   "outputs": [],
   "source": [
    "import random\n",
    "import numpy as np\n",
    "import pandas as pd\n",
    "import matplotlib.pyplot as plt"
   ]
  },
  {
   "cell_type": "code",
   "execution_count": 31,
   "metadata": {},
   "outputs": [],
   "source": [
    "data = pd.read_csv('sales_data.csv')"
   ]
  },
  {
   "cell_type": "code",
   "execution_count": 34,
   "metadata": {},
   "outputs": [
    {
     "data": {
      "text/plain": [
       "Index(['timestamp', 'city', 'store_id', 'sale_number', 'sale_amount',\n",
       "       'associate'],\n",
       "      dtype='object')"
      ]
     },
     "execution_count": 34,
     "metadata": {},
     "output_type": "execute_result"
    }
   ],
   "source": [
    "data.columns"
   ]
  },
  {
   "cell_type": "code",
   "execution_count": 33,
   "metadata": {},
   "outputs": [
    {
     "name": "stderr",
     "output_type": "stream",
     "text": [
      "/home/chandrakumar/anaconda3/lib/python3.7/site-packages/ipykernel_launcher.py:1: FutureWarning: set_value is deprecated and will be removed in a future release. Please use .at[] or .iat[] accessors instead\n",
      "  \"\"\"Entry point for launching an IPython kernel.\n"
     ]
    },
    {
     "data": {
      "text/html": [
       "<div>\n",
       "<style scoped>\n",
       "    .dataframe tbody tr th:only-of-type {\n",
       "        vertical-align: middle;\n",
       "    }\n",
       "\n",
       "    .dataframe tbody tr th {\n",
       "        vertical-align: top;\n",
       "    }\n",
       "\n",
       "    .dataframe thead th {\n",
       "        text-align: right;\n",
       "    }\n",
       "</style>\n",
       "<table border=\"1\" class=\"dataframe\">\n",
       "  <thead>\n",
       "    <tr style=\"text-align: right;\">\n",
       "      <th></th>\n",
       "      <th>timestamp</th>\n",
       "      <th>city</th>\n",
       "      <th>store_id</th>\n",
       "      <th>sale_number</th>\n",
       "      <th>sale_amount</th>\n",
       "      <th>associate</th>\n",
       "    </tr>\n",
       "  </thead>\n",
       "  <tbody>\n",
       "    <tr>\n",
       "      <td>0</td>\n",
       "      <td>2017-02-19T17:00:00</td>\n",
       "      <td>Stephanieport</td>\n",
       "      <td>11</td>\n",
       "      <td>2162.0</td>\n",
       "      <td>247</td>\n",
       "      <td>Jenna White</td>\n",
       "    </tr>\n",
       "    <tr>\n",
       "      <td>1</td>\n",
       "      <td>2017-02-19T22:00:00</td>\n",
       "      <td>Gutierreztown</td>\n",
       "      <td>11</td>\n",
       "      <td>23456.0</td>\n",
       "      <td>1586</td>\n",
       "      <td>Laura Massey</td>\n",
       "    </tr>\n",
       "    <tr>\n",
       "      <td>2</td>\n",
       "      <td>2017-02-20T01:00:00</td>\n",
       "      <td>Colemanside</td>\n",
       "      <td>3</td>\n",
       "      <td>2858.0</td>\n",
       "      <td>631</td>\n",
       "      <td>Jacqueline Benson</td>\n",
       "    </tr>\n",
       "    <tr>\n",
       "      <td>3</td>\n",
       "      <td>2017-02-20T08:00:00</td>\n",
       "      <td>NaN</td>\n",
       "      <td>1</td>\n",
       "      <td>1080.0</td>\n",
       "      <td>-161</td>\n",
       "      <td>Tina Martin</td>\n",
       "    </tr>\n",
       "    <tr>\n",
       "      <td>4</td>\n",
       "      <td>2017-02-20T13:00:00</td>\n",
       "      <td>NaN</td>\n",
       "      <td>1</td>\n",
       "      <td>358.0</td>\n",
       "      <td>1414</td>\n",
       "      <td>David Khan</td>\n",
       "    </tr>\n",
       "    <tr>\n",
       "      <td>...</td>\n",
       "      <td>...</td>\n",
       "      <td>...</td>\n",
       "      <td>...</td>\n",
       "      <td>...</td>\n",
       "      <td>...</td>\n",
       "      <td>...</td>\n",
       "    </tr>\n",
       "    <tr>\n",
       "      <td>364</td>\n",
       "      <td>2017-05-09T22:00:00</td>\n",
       "      <td>Mcgeeland</td>\n",
       "      <td>2</td>\n",
       "      <td>NaN</td>\n",
       "      <td>1336</td>\n",
       "      <td>Jennifer Robinson</td>\n",
       "    </tr>\n",
       "    <tr>\n",
       "      <td>365</td>\n",
       "      <td>2017-05-10T06:00:00</td>\n",
       "      <td>Gonzalesborough</td>\n",
       "      <td>4</td>\n",
       "      <td>1255.0</td>\n",
       "      <td>-86</td>\n",
       "      <td>NaN</td>\n",
       "    </tr>\n",
       "    <tr>\n",
       "      <td>366</td>\n",
       "      <td>2017-05-10T08:00:00</td>\n",
       "      <td>Zunigaport</td>\n",
       "      <td>2</td>\n",
       "      <td>2854.0</td>\n",
       "      <td>501</td>\n",
       "      <td>Brandon Hernandez</td>\n",
       "    </tr>\n",
       "    <tr>\n",
       "      <td>367</td>\n",
       "      <td>2017-05-10T17:00:00</td>\n",
       "      <td>Lake Tyler</td>\n",
       "      <td>3</td>\n",
       "      <td>864.0</td>\n",
       "      <td>191</td>\n",
       "      <td>Benjamin Chapman</td>\n",
       "    </tr>\n",
       "    <tr>\n",
       "      <td>368</td>\n",
       "      <td>2017-05-11T02:00:00</td>\n",
       "      <td>New Andrea</td>\n",
       "      <td>9</td>\n",
       "      <td>NaN</td>\n",
       "      <td>1432</td>\n",
       "      <td>Kristen Smith</td>\n",
       "    </tr>\n",
       "  </tbody>\n",
       "</table>\n",
       "<p>369 rows × 6 columns</p>\n",
       "</div>"
      ],
      "text/plain": [
       "               timestamp             city  store_id  sale_number  sale_amount  \\\n",
       "0    2017-02-19T17:00:00    Stephanieport        11       2162.0          247   \n",
       "1    2017-02-19T22:00:00    Gutierreztown        11      23456.0         1586   \n",
       "2    2017-02-20T01:00:00      Colemanside         3       2858.0          631   \n",
       "3    2017-02-20T08:00:00              NaN         1       1080.0         -161   \n",
       "4    2017-02-20T13:00:00              NaN         1        358.0         1414   \n",
       "..                   ...              ...       ...          ...          ...   \n",
       "364  2017-05-09T22:00:00        Mcgeeland         2          NaN         1336   \n",
       "365  2017-05-10T06:00:00  Gonzalesborough         4       1255.0          -86   \n",
       "366  2017-05-10T08:00:00       Zunigaport         2       2854.0          501   \n",
       "367  2017-05-10T17:00:00       Lake Tyler         3        864.0          191   \n",
       "368  2017-05-11T02:00:00       New Andrea         9          NaN         1432   \n",
       "\n",
       "             associate  \n",
       "0          Jenna White  \n",
       "1         Laura Massey  \n",
       "2    Jacqueline Benson  \n",
       "3          Tina Martin  \n",
       "4           David Khan  \n",
       "..                 ...  \n",
       "364  Jennifer Robinson  \n",
       "365                NaN  \n",
       "366  Brandon Hernandez  \n",
       "367   Benjamin Chapman  \n",
       "368      Kristen Smith  \n",
       "\n",
       "[369 rows x 6 columns]"
      ]
     },
     "execution_count": 33,
     "metadata": {},
     "output_type": "execute_result"
    }
   ],
   "source": [
    "data.set_value(1, 'sale_number', 23456)"
   ]
  },
  {
   "cell_type": "code",
   "execution_count": 9,
   "metadata": {},
   "outputs": [
    {
     "data": {
      "text/plain": [
       "[1, 2, 3, 4, 5, 6, 7, 8, 9, 10, 11, 12, 13, 14, 15, 16, 17, 18, 19]"
      ]
     },
     "execution_count": 9,
     "metadata": {},
     "output_type": "execute_result"
    }
   ],
   "source": [
    "sorted(data.store_id.unique())"
   ]
  },
  {
   "cell_type": "code",
   "execution_count": 10,
   "metadata": {},
   "outputs": [
    {
     "data": {
      "text/html": [
       "<div>\n",
       "<style scoped>\n",
       "    .dataframe tbody tr th:only-of-type {\n",
       "        vertical-align: middle;\n",
       "    }\n",
       "\n",
       "    .dataframe tbody tr th {\n",
       "        vertical-align: top;\n",
       "    }\n",
       "\n",
       "    .dataframe thead th {\n",
       "        text-align: right;\n",
       "    }\n",
       "</style>\n",
       "<table border=\"1\" class=\"dataframe\">\n",
       "  <thead>\n",
       "    <tr style=\"text-align: right;\">\n",
       "      <th></th>\n",
       "      <th>store_id</th>\n",
       "      <th>sale_number</th>\n",
       "      <th>sale_amount</th>\n",
       "    </tr>\n",
       "  </thead>\n",
       "  <tbody>\n",
       "    <tr>\n",
       "      <td>count</td>\n",
       "      <td>369.000000</td>\n",
       "      <td>333.000000</td>\n",
       "      <td>369.000000</td>\n",
       "    </tr>\n",
       "    <tr>\n",
       "      <td>mean</td>\n",
       "      <td>9.626016</td>\n",
       "      <td>1559.405405</td>\n",
       "      <td>566.821138</td>\n",
       "    </tr>\n",
       "    <tr>\n",
       "      <td>std</td>\n",
       "      <td>5.312104</td>\n",
       "      <td>849.004903</td>\n",
       "      <td>596.136470</td>\n",
       "    </tr>\n",
       "    <tr>\n",
       "      <td>min</td>\n",
       "      <td>1.000000</td>\n",
       "      <td>19.000000</td>\n",
       "      <td>-489.000000</td>\n",
       "    </tr>\n",
       "    <tr>\n",
       "      <td>25%</td>\n",
       "      <td>5.000000</td>\n",
       "      <td>786.000000</td>\n",
       "      <td>73.000000</td>\n",
       "    </tr>\n",
       "    <tr>\n",
       "      <td>50%</td>\n",
       "      <td>10.000000</td>\n",
       "      <td>1564.000000</td>\n",
       "      <td>569.000000</td>\n",
       "    </tr>\n",
       "    <tr>\n",
       "      <td>75%</td>\n",
       "      <td>14.000000</td>\n",
       "      <td>2319.000000</td>\n",
       "      <td>1059.000000</td>\n",
       "    </tr>\n",
       "    <tr>\n",
       "      <td>max</td>\n",
       "      <td>19.000000</td>\n",
       "      <td>2988.000000</td>\n",
       "      <td>1598.000000</td>\n",
       "    </tr>\n",
       "  </tbody>\n",
       "</table>\n",
       "</div>"
      ],
      "text/plain": [
       "         store_id  sale_number  sale_amount\n",
       "count  369.000000   333.000000   369.000000\n",
       "mean     9.626016  1559.405405   566.821138\n",
       "std      5.312104   849.004903   596.136470\n",
       "min      1.000000    19.000000  -489.000000\n",
       "25%      5.000000   786.000000    73.000000\n",
       "50%     10.000000  1564.000000   569.000000\n",
       "75%     14.000000  2319.000000  1059.000000\n",
       "max     19.000000  2988.000000  1598.000000"
      ]
     },
     "execution_count": 10,
     "metadata": {},
     "output_type": "execute_result"
    }
   ],
   "source": [
    "data.describe()"
   ]
  },
  {
   "cell_type": "code",
   "execution_count": 11,
   "metadata": {},
   "outputs": [
    {
     "data": {
      "text/plain": [
       "timestamp       0\n",
       "city           34\n",
       "store_id        0\n",
       "sale_number    36\n",
       "sale_amount     0\n",
       "associate      35\n",
       "dtype: int64"
      ]
     },
     "execution_count": 11,
     "metadata": {},
     "output_type": "execute_result"
    }
   ],
   "source": [
    "data.isnull().sum()"
   ]
  },
  {
   "cell_type": "code",
   "execution_count": 12,
   "metadata": {},
   "outputs": [],
   "source": [
    "data.dropna(subset = ['city', 'associate'], inplace=True)"
   ]
  },
  {
   "cell_type": "code",
   "execution_count": 13,
   "metadata": {},
   "outputs": [],
   "source": [
    "null_in_sale_num = data['sale_number'].isna().sum()"
   ]
  },
  {
   "cell_type": "code",
   "execution_count": 14,
   "metadata": {},
   "outputs": [
    {
     "data": {
      "text/plain": [
       "<matplotlib.collections.PathCollection at 0x7f94373baf90>"
      ]
     },
     "execution_count": 14,
     "metadata": {},
     "output_type": "execute_result"
    },
    {
     "data": {
      "image/png": "[encoded data removed]",
      "text/plain": [
       "<Figure size 432x288 with 1 Axes>"
      ]
     },
     "metadata": {
      "needs_background": "light"
     },
     "output_type": "display_data"
    }
   ],
   "source": [
    "plt.scatter(data['sale_number'], data['sale_amount'])"
   ]
  },
  {
   "cell_type": "code",
   "execution_count": 15,
   "metadata": {},
   "outputs": [],
   "source": [
    "def rand(start, end, num): \n",
    "    result = [] \n",
    "  \n",
    "    for j in range(num): \n",
    "        result.append(random.randint(start, end)) \n",
    "  \n",
    "    return result "
   ]
  },
  {
   "cell_type": "code",
   "execution_count": 16,
   "metadata": {},
   "outputs": [
    {
     "data": {
      "text/plain": [
       "[787.5, 2286.0]"
      ]
     },
     "execution_count": 16,
     "metadata": {},
     "output_type": "execute_result"
    }
   ],
   "source": [
    "quantiles = data['sale_number'].quantile([.25,0.75]).to_list()\n",
    "quantiles\n"
   ]
  },
  {
   "cell_type": "code",
   "execution_count": 17,
   "metadata": {},
   "outputs": [],
   "source": [
    "generated_val = rand(int(quantiles[0]), int(quantiles[-1]), null_in_sale_num)"
   ]
  },
  {
   "cell_type": "code",
   "execution_count": 18,
   "metadata": {},
   "outputs": [],
   "source": [
    "if data['sale_number'].any() in generated_val:\n",
    "    print(generated_val)"
   ]
  },
  {
   "cell_type": "code",
   "execution_count": 19,
   "metadata": {},
   "outputs": [],
   "source": [
    "null_index = data[data['sale_number'].isnull()].index.tolist()"
   ]
  },
  {
   "cell_type": "code",
   "execution_count": 20,
   "metadata": {},
   "outputs": [
    {
     "name": "stderr",
     "output_type": "stream",
     "text": [
      "/home/chandrakumar/anaconda3/lib/python3.7/site-packages/ipykernel_launcher.py:2: SettingWithCopyWarning: \n",
      "A value is trying to be set on a copy of a slice from a DataFrame\n",
      "\n",
      "See the caveats in the documentation: http://pandas.pydata.org/pandas-docs/stable/user_guide/indexing.html#returning-a-view-versus-a-copy\n",
      "  \n"
     ]
    }
   ],
   "source": [
    "for count, idx in enumerate(null_index):\n",
    "    data['sale_number'][idx] = generated_val[count]"
   ]
  },
  {
   "cell_type": "code",
   "execution_count": 21,
   "metadata": {},
   "outputs": [],
   "source": [
    "data.to_csv('cleaned_data.csv')"
   ]
  },
  {
   "cell_type": "code",
   "execution_count": 1,
   "metadata": {},
   "outputs": [
    {
     "name": "stdout",
     "output_type": "stream",
     "text": [
      "This is pdfTeX, Version 3.14159265-2.6-1.40.21 (TeX Live 2020) (preloaded format=pdflatex)\n",
      " restricted \\write18 enabled.\n",
      "entering extended mode\n",
      "(./Assignment.tex\n",
      "LaTeX2e <2020-02-02> patch level 5\n",
      "L3 programming layer <2020-03-06>\n",
      "(/usr/local/texlive/2020/texmf-dist/tex/latex/base/book.cls\n",
      "Document Class: book 2019/12/20 v1.4l Standard LaTeX document class\n",
      "(/usr/local/texlive/2020/texmf-dist/tex/latex/base/bk10.clo))\n",
      "(/usr/local/texlive/2020/texmf-dist/tex/latex/graphics/graphicx.sty\n",
      "(/usr/local/texlive/2020/texmf-dist/tex/latex/graphics/keyval.sty)\n",
      "(/usr/local/texlive/2020/texmf-dist/tex/latex/graphics/graphics.sty\n",
      "(/usr/local/texlive/2020/texmf-dist/tex/latex/graphics/trig.sty)\n",
      "(/usr/local/texlive/2020/texmf-dist/tex/latex/graphics-cfg/graphics.cfg)\n",
      "(/usr/local/texlive/2020/texmf-dist/tex/latex/graphics-def/pdftex.def)))\n",
      "(/usr/local/texlive/2020/texmf-dist/tex/latex/listings/listings.sty\n",
      "(/usr/local/texlive/2020/texmf-dist/tex/latex/listings/lstmisc.sty)\n",
      "(/usr/local/texlive/2020/texmf-dist/tex/latex/listings/listings.cfg))\n",
      "(/usr/local/texlive/2020/texmf-dist/tex/latex/graphics/color.sty\n",
      "(/usr/local/texlive/2020/texmf-dist/tex/latex/graphics-cfg/color.cfg))\n",
      "(/usr/local/texlive/2020/texmf-dist/tex/latex/booktabs/booktabs.sty)\n",
      "(/usr/local/texlive/2020/texmf-dist/tex/latex/fancyhdr/fancyhdr.sty)\n",
      "(/usr/local/texlive/2020/texmf-dist/tex/latex/amsmath/amsmath.sty\n",
      "For additional information on amsmath, use the `?' option.\n",
      "(/usr/local/texlive/2020/texmf-dist/tex/latex/amsmath/amstext.sty\n",
      "(/usr/local/texlive/2020/texmf-dist/tex/latex/amsmath/amsgen.sty))\n",
      "(/usr/local/texlive/2020/texmf-dist/tex/latex/amsmath/amsbsy.sty)\n",
      "(/usr/local/texlive/2020/texmf-dist/tex/latex/amsmath/amsopn.sty))\n",
      "(/usr/local/texlive/2020/texmf-dist/tex/latex/hyperref/hyperref.sty\n",
      "(/usr/local/texlive/2020/texmf-dist/tex/generic/ltxcmds/ltxcmds.sty)\n",
      "(/usr/local/texlive/2020/texmf-dist/tex/generic/iftex/iftex.sty)\n",
      "(/usr/local/texlive/2020/texmf-dist/tex/latex/pdftexcmds/pdftexcmds.sty\n",
      "(/usr/local/texlive/2020/texmf-dist/tex/generic/infwarerr/infwarerr.sty))\n",
      "(/usr/local/texlive/2020/texmf-dist/tex/generic/kvsetkeys/kvsetkeys.sty)\n",
      "(/usr/local/texlive/2020/texmf-dist/tex/generic/kvdefinekeys/kvdefinekeys.sty)\n",
      "(/usr/local/texlive/2020/texmf-dist/tex/generic/pdfescape/pdfescape.sty)\n",
      "(/usr/local/texlive/2020/texmf-dist/tex/latex/hycolor/hycolor.sty)\n",
      "(/usr/local/texlive/2020/texmf-dist/tex/latex/letltxmacro/letltxmacro.sty)\n",
      "(/usr/local/texlive/2020/texmf-dist/tex/latex/auxhook/auxhook.sty)\n",
      "(/usr/local/texlive/2020/texmf-dist/tex/latex/kvoptions/kvoptions.sty)\n",
      "(/usr/local/texlive/2020/texmf-dist/tex/latex/hyperref/pd1enc.def)\n",
      "(/usr/local/texlive/2020/texmf-dist/tex/generic/intcalc/intcalc.sty)\n",
      "(/usr/local/texlive/2020/texmf-dist/tex/generic/etexcmds/etexcmds.sty)\n",
      "(/usr/local/texlive/2020/texmf-dist/tex/latex/url/url.sty)\n",
      "(/usr/local/texlive/2020/texmf-dist/tex/generic/bitset/bitset.sty\n",
      "(/usr/local/texlive/2020/texmf-dist/tex/generic/bigintcalc/bigintcalc.sty))\n",
      "(/usr/local/texlive/2020/texmf-dist/tex/generic/atbegshi/atbegshi.sty))\n",
      "(/usr/local/texlive/2020/texmf-dist/tex/latex/hyperref/hpdftex.def\n",
      "(/usr/local/texlive/2020/texmf-dist/tex/latex/atveryend/atveryend.sty)\n",
      "(/usr/local/texlive/2020/texmf-dist/tex/latex/rerunfilecheck/rerunfilecheck.sty\n",
      "\n",
      "(/usr/local/texlive/2020/texmf-dist/tex/generic/uniquecounter/uniquecounter.sty\n",
      "))) (/usr/local/texlive/2020/texmf-dist/tex/latex/csquotes/csquotes.sty\n",
      "(/usr/local/texlive/2020/texmf-dist/tex/latex/etoolbox/etoolbox.sty)\n",
      "(/usr/local/texlive/2020/texmf-dist/tex/latex/csquotes/csquotes.def)\n",
      "(/usr/local/texlive/2020/texmf-dist/tex/latex/csquotes/csquotes.cfg))\n",
      "(/usr/local/texlive/2020/texmf-dist/tex/generic/babel/babel.sty\n",
      "(/usr/local/texlive/2020/texmf-dist/tex/generic/babel/switch.def)\n",
      "(/usr/local/texlive/2020/texmf-dist/tex/generic/babel-english/english.ldf\n",
      "(/usr/local/texlive/2020/texmf-dist/tex/generic/babel/babel.def\n",
      "(/usr/local/texlive/2020/texmf-dist/tex/generic/babel/txtbabel.def))))\n",
      "(/usr/local/texlive/2020/texmf-dist/tex/latex/l3backend/l3backend-pdfmode.def)\n",
      "No file Assignment.aux.\n",
      "(/usr/local/texlive/2020/texmf-dist/tex/context/base/mkii/supp-pdf.mkii\n",
      "[Loading MPS to PDF converter (version 2006.09.02).]\n",
      ") (/usr/local/texlive/2020/texmf-dist/tex/latex/epstopdf-pkg/epstopdf-base.sty\n",
      "(/usr/local/texlive/2020/texmf-dist/tex/latex/grfext/grfext.sty)\n",
      "(/usr/local/texlive/2020/texmf-dist/tex/latex/latexconfig/epstopdf-sys.cfg))\n",
      "(/usr/local/texlive/2020/texmf-dist/tex/latex/hyperref/nameref.sty\n",
      "(/usr/local/texlive/2020/texmf-dist/tex/latex/refcount/refcount.sty)\n",
      "(/usr/local/texlive/2020/texmf-dist/tex/generic/gettitlestring/gettitlestring.s\n",
      "ty))\n",
      "Underfull \\hbox (badness 10000) in paragraph at lines 21--24\n",
      "\n",
      "[1{/usr/local/texlive/2020/texmf-var/fonts/map/pdftex/updmap/pdftex.map}]\n",
      "(./Assignment.aux)\n",
      "\n",
      "Package rerunfilecheck Warning: File `Assignment.out' has changed.\n",
      "(rerunfilecheck)                Rerun to get outlines right\n",
      "(rerunfilecheck)                or use package `bookmark'.\n",
      "\n",
      " )\n",
      "(see the transcript file for additional information){/usr/local/texlive/2020/te\n",
      "xmf-dist/fonts/enc/dvips/cm-super/cm-super-ts1.enc}</usr/local/texlive/2020/tex\n",
      "mf-dist/fonts/type1/public/amsfonts/cm/cmbx12.pfb></usr/local/texlive/2020/texm\n",
      "f-dist/fonts/type1/public/amsfonts/cm/cmr10.pfb></usr/local/texlive/2020/texmf-\n",
      "dist/fonts/type1/public/cm-super/sfrm1000.pfb>\n",
      "Output written on Assignment.pdf (1 page, 32986 bytes).\n",
      "Transcript written on Assignment.log.\n"
     ]
    }
   ],
   "source": [
    "!pdflatex Assignment.tex"
   ]
  },
  {
   "cell_type": "code",
   "execution_count": null,
   "metadata": {},
   "outputs": [],
   "source": []
  }
 ],
 "metadata": {
  "kernelspec": {
   "display_name": "Python 3 (ipykernel)",
   "language": "python",
   "name": "python3"
  },
  "language_info": {
   "codemirror_mode": {
    "name": "ipython",
    "version": 3
   },
   "file_extension": ".py",
   "mimetype": "text/x-python",
   "name": "python",
   "nbconvert_exporter": "python",
   "pygments_lexer": "ipython3",
   "version": "3.9.2"
  }
 },
 "nbformat": 4,
 "nbformat_minor": 2
}
