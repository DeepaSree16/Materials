{
  "cells": [
    {
      "cell_type": "markdown",
      "source": [
        "# IoT & Smart Analytics\n",
        "## A Program by IIIT-H and TalentSprint"
      ],
      "metadata": {
        "id": "oNpSdVCkizl1"
      }
    },
    {
      "cell_type": "markdown",
      "source": [
        "## Learning Objectives\n",
        "At the end of the experiment, participants will be able to : \n",
        "* understand how Regression is implemented using scikit-learn(Sklearn)\n",
        "* develop model for  Single Variable Linear Regression \n",
        "* calculate the accuracy of the model\n"
      ],
      "metadata": {
        "id": "r-vJ_yTOjMWg"
      }
    },
    {
      "cell_type": "markdown",
      "metadata": {
        "id": "MQGBWO0E4R8d"
      },
      "source": [
        "#### Importing Libraries"
      ]
    },
    {
      "cell_type": "code",
      "execution_count": null,
      "metadata": {
        "id": "5ITJ44D94R8j"
      },
      "outputs": [],
      "source": [
        "import numpy as np\n",
        "import pandas as pd\n",
        "import matplotlib.pyplot as plt \n",
        "from sklearn.model_selection import train_test_split \n",
        "from sklearn.linear_model import LinearRegression"
      ]
    },
    {
      "cell_type": "markdown",
      "source": [
        "## Dataset\n",
        "### Description\n",
        "The dataset chosen for this experiment is in text format, having two columns of numbers. This is a hypothetical dataset, and we can think of the first column as visitor's count and the second column as revenue generated in any shopping mall. Say, the data been has collected at a frequency of every week. So, these are weekly visitors count and revenue. The dataset contains 97 records, i.e. entries for the previous  97 weeks.\n",
        "\n",
        "#### Attribute/Features\n",
        "\n",
        "* Visitor_Count\n",
        "* Revenue\n",
        "\n"
      ],
      "metadata": {
        "id": "EZoVJEhsj5m2"
      }
    },
    {
      "cell_type": "markdown",
      "metadata": {
        "id": "PsORFzsq4R8p"
      },
      "source": [
        "#### Loading and visualizing the data "
      ]
    },
    {
      "cell_type": "code",
      "execution_count": null,
      "metadata": {
        "scrolled": true,
        "colab": {
          "base_uri": "https://localhost:8080/",
          "height": 206
        },
        "id": "vmeBegmP4R8r",
        "outputId": "51c4aad6-cabd-407a-9284-22fe225cfdb1"
      },
      "outputs": [
        {
          "output_type": "execute_result",
          "data": {
            "text/html": [
              "\n",
              "  <div id=\"df-f4494439-274d-44ed-ad8a-513a0263fe11\">\n",
              "    <div class=\"colab-df-container\">\n",
              "      <div>\n",
              "<style scoped>\n",
              "    .dataframe tbody tr th:only-of-type {\n",
              "        vertical-align: middle;\n",
              "    }\n",
              "\n",
              "    .dataframe tbody tr th {\n",
              "        vertical-align: top;\n",
              "    }\n",
              "\n",
              "    .dataframe thead th {\n",
              "        text-align: right;\n",
              "    }\n",
              "</style>\n",
              "<table border=\"1\" class=\"dataframe\">\n",
              "  <thead>\n",
              "    <tr style=\"text-align: right;\">\n",
              "      <th></th>\n",
              "      <th>Visitor_Count</th>\n",
              "      <th>Revenue</th>\n",
              "    </tr>\n",
              "  </thead>\n",
              "  <tbody>\n",
              "    <tr>\n",
              "      <th>0</th>\n",
              "      <td>6.1101</td>\n",
              "      <td>17.5920</td>\n",
              "    </tr>\n",
              "    <tr>\n",
              "      <th>1</th>\n",
              "      <td>5.5277</td>\n",
              "      <td>9.1302</td>\n",
              "    </tr>\n",
              "    <tr>\n",
              "      <th>2</th>\n",
              "      <td>8.5186</td>\n",
              "      <td>13.6620</td>\n",
              "    </tr>\n",
              "    <tr>\n",
              "      <th>3</th>\n",
              "      <td>7.0032</td>\n",
              "      <td>11.8540</td>\n",
              "    </tr>\n",
              "    <tr>\n",
              "      <th>4</th>\n",
              "      <td>5.8598</td>\n",
              "      <td>6.8233</td>\n",
              "    </tr>\n",
              "  </tbody>\n",
              "</table>\n",
              "</div>\n",
              "      <button class=\"colab-df-convert\" onclick=\"convertToInteractive('df-f4494439-274d-44ed-ad8a-513a0263fe11')\"\n",
              "              title=\"Convert this dataframe to an interactive table.\"\n",
              "              style=\"display:none;\">\n",
              "        \n",
              "  <svg xmlns=\"http://www.w3.org/2000/svg\" height=\"24px\"viewBox=\"0 0 24 24\"\n",
              "       width=\"24px\">\n",
              "    <path d=\"M0 0h24v24H0V0z\" fill=\"none\"/>\n",
              "    <path d=\"M18.56 5.44l.94 2.06.94-2.06 2.06-.94-2.06-.94-.94-2.06-.94 2.06-2.06.94zm-11 1L8.5 8.5l.94-2.06 2.06-.94-2.06-.94L8.5 2.5l-.94 2.06-2.06.94zm10 10l.94 2.06.94-2.06 2.06-.94-2.06-.94-.94-2.06-.94 2.06-2.06.94z\"/><path d=\"M17.41 7.96l-1.37-1.37c-.4-.4-.92-.59-1.43-.59-.52 0-1.04.2-1.43.59L10.3 9.45l-7.72 7.72c-.78.78-.78 2.05 0 2.83L4 21.41c.39.39.9.59 1.41.59.51 0 1.02-.2 1.41-.59l7.78-7.78 2.81-2.81c.8-.78.8-2.07 0-2.86zM5.41 20L4 18.59l7.72-7.72 1.47 1.35L5.41 20z\"/>\n",
              "  </svg>\n",
              "      </button>\n",
              "      \n",
              "  <style>\n",
              "    .colab-df-container {\n",
              "      display:flex;\n",
              "      flex-wrap:wrap;\n",
              "      gap: 12px;\n",
              "    }\n",
              "\n",
              "    .colab-df-convert {\n",
              "      background-color: #E8F0FE;\n",
              "      border: none;\n",
              "      border-radius: 50%;\n",
              "      cursor: pointer;\n",
              "      display: none;\n",
              "      fill: #1967D2;\n",
              "      height: 32px;\n",
              "      padding: 0 0 0 0;\n",
              "      width: 32px;\n",
              "    }\n",
              "\n",
              "    .colab-df-convert:hover {\n",
              "      background-color: #E2EBFA;\n",
              "      box-shadow: 0px 1px 2px rgba(60, 64, 67, 0.3), 0px 1px 3px 1px rgba(60, 64, 67, 0.15);\n",
              "      fill: #174EA6;\n",
              "    }\n",
              "\n",
              "    [theme=dark] .colab-df-convert {\n",
              "      background-color: #3B4455;\n",
              "      fill: #D2E3FC;\n",
              "    }\n",
              "\n",
              "    [theme=dark] .colab-df-convert:hover {\n",
              "      background-color: #434B5C;\n",
              "      box-shadow: 0px 1px 3px 1px rgba(0, 0, 0, 0.15);\n",
              "      filter: drop-shadow(0px 1px 2px rgba(0, 0, 0, 0.3));\n",
              "      fill: #FFFFFF;\n",
              "    }\n",
              "  </style>\n",
              "\n",
              "      <script>\n",
              "        const buttonEl =\n",
              "          document.querySelector('#df-f4494439-274d-44ed-ad8a-513a0263fe11 button.colab-df-convert');\n",
              "        buttonEl.style.display =\n",
              "          google.colab.kernel.accessAllowed ? 'block' : 'none';\n",
              "\n",
              "        async function convertToInteractive(key) {\n",
              "          const element = document.querySelector('#df-f4494439-274d-44ed-ad8a-513a0263fe11');\n",
              "          const dataTable =\n",
              "            await google.colab.kernel.invokeFunction('convertToInteractive',\n",
              "                                                     [key], {});\n",
              "          if (!dataTable) return;\n",
              "\n",
              "          const docLinkHtml = 'Like what you see? Visit the ' +\n",
              "            '<a target=\"_blank\" href=https://colab.research.google.com/notebooks/data_table.ipynb>data table notebook</a>'\n",
              "            + ' to learn more about interactive tables.';\n",
              "          element.innerHTML = '';\n",
              "          dataTable['output_type'] = 'display_data';\n",
              "          await google.colab.output.renderOutput(dataTable, element);\n",
              "          const docLink = document.createElement('div');\n",
              "          docLink.innerHTML = docLinkHtml;\n",
              "          element.appendChild(docLink);\n",
              "        }\n",
              "      </script>\n",
              "    </div>\n",
              "  </div>\n",
              "  "
            ],
            "text/plain": [
              "   Visitor_Count  Revenue\n",
              "0         6.1101  17.5920\n",
              "1         5.5277   9.1302\n",
              "2         8.5186  13.6620\n",
              "3         7.0032  11.8540\n",
              "4         5.8598   6.8233"
            ]
          },
          "metadata": {},
          "execution_count": 2
        }
      ],
      "source": [
        "data=pd.read_csv('data1.txt',header=None, names=['Visitor_Count', 'Revenue'])\n",
        "data.head()\n",
        "\n",
        "# First column is the count of visitors(Thousand) in a mall and second column is the revenue(Lakhs) made by a food outlet in a mall."
      ]
    },
    {
      "cell_type": "code",
      "source": [
        "data.iloc[:,0].values.shape"
      ],
      "metadata": {
        "colab": {
          "base_uri": "https://localhost:8080/"
        },
        "id": "KygSvp1qagPf",
        "outputId": "bbd82477-cbab-4c27-efef-d0ec6dabcde3"
      },
      "execution_count": null,
      "outputs": [
        {
          "output_type": "execute_result",
          "data": {
            "text/plain": [
              "(97,)"
            ]
          },
          "metadata": {},
          "execution_count": 5
        }
      ]
    },
    {
      "cell_type": "markdown",
      "metadata": {
        "id": "Q9vecUxI4R8t"
      },
      "source": [
        "#### Spliting the data into features and output"
      ]
    },
    {
      "cell_type": "code",
      "execution_count": null,
      "metadata": {
        "colab": {
          "base_uri": "https://localhost:8080/",
          "height": 318
        },
        "id": "9yWSmF5A4R8v",
        "outputId": "ebf91757-f478-4f62-d126-0f8faa71152a"
      },
      "outputs": [
        {
          "output_type": "stream",
          "name": "stdout",
          "text": [
            "97\n"
          ]
        },
        {
          "output_type": "execute_result",
          "data": {
            "text/plain": [
              "<function matplotlib.pyplot.show>"
            ]
          },
          "metadata": {},
          "execution_count": 6
        },
        {
          "output_type": "display_data",
          "data": {
            "image/png": "[encoded data removed]",
            "text/plain": [
              "<Figure size 432x288 with 1 Axes>"
            ]
          },
          "metadata": {
            "needs_background": "light"
          }
        }
      ],
      "source": [
        "X=data.iloc[:,0].values\n",
        "Y=data.iloc[:,1].values\n",
        "m=len(Y)# gives number of training set\n",
        "print(m)\n",
        "plt.scatter(X,Y)\n",
        "plt.xlabel('Visitor_Count')\n",
        "plt.ylabel('Revenue')\n",
        "plt.show"
      ]
    },
    {
      "cell_type": "code",
      "execution_count": null,
      "metadata": {
        "id": "E0YAWYwE4R8w"
      },
      "outputs": [],
      "source": [
        "X"
      ]
    },
    {
      "cell_type": "code",
      "execution_count": null,
      "metadata": {
        "id": "VrdqvCT74R8y"
      },
      "outputs": [],
      "source": [
        "X.shape"
      ]
    },
    {
      "cell_type": "code",
      "execution_count": null,
      "metadata": {
        "id": "c_zrtWUH4R80"
      },
      "outputs": [],
      "source": [
        "Y"
      ]
    },
    {
      "cell_type": "code",
      "execution_count": null,
      "metadata": {
        "id": "h0ShvbmO4R83"
      },
      "outputs": [],
      "source": [
        "X=X[:,np.newaxis]"
      ]
    },
    {
      "cell_type": "code",
      "execution_count": null,
      "metadata": {
        "colab": {
          "base_uri": "https://localhost:8080/"
        },
        "id": "-zaNHLBX4R84",
        "outputId": "71641c55-bf66-4eba-bf23-3b5a57271fff"
      },
      "outputs": [
        {
          "output_type": "execute_result",
          "data": {
            "text/plain": [
              "(97, 1)"
            ]
          },
          "metadata": {},
          "execution_count": 12
        }
      ],
      "source": [
        "X.shape"
      ]
    },
    {
      "cell_type": "code",
      "execution_count": null,
      "metadata": {
        "id": "C4vva-nu4R86"
      },
      "outputs": [],
      "source": [
        "X.shape"
      ]
    },
    {
      "cell_type": "markdown",
      "metadata": {
        "id": "KHdkf5ra4R87"
      },
      "source": [
        "#### Spliting the data into train and test\n",
        "[train_test_split](https://scikit-learn.org/stable/modules/generated/sklearn.model_selection.train_test_split.html)"
      ]
    },
    {
      "cell_type": "code",
      "execution_count": null,
      "metadata": {
        "id": "5Ik6ZQlb4R8-"
      },
      "outputs": [],
      "source": [
        "X_train, X_test, Y_train, Y_test = train_test_split( X,Y,test_size=0.25, random_state=42)"
      ]
    },
    {
      "cell_type": "code",
      "source": [
        "X_train, X_test, Y_train, Y_test = train_test_split( X,Y,test_size=0.10, random_state=42)"
      ],
      "metadata": {
        "id": "4MId6U3qfYtS"
      },
      "execution_count": null,
      "outputs": []
    },
    {
      "cell_type": "code",
      "source": [
        "X_train.shape"
      ],
      "metadata": {
        "colab": {
          "base_uri": "https://localhost:8080/"
        },
        "id": "GA1Nw3p5cgZM",
        "outputId": "9ce271ec-8e81-4764-cfe4-45096ec4c945"
      },
      "execution_count": null,
      "outputs": [
        {
          "output_type": "execute_result",
          "data": {
            "text/plain": [
              "(87, 1)"
            ]
          },
          "metadata": {},
          "execution_count": 35
        }
      ]
    },
    {
      "cell_type": "code",
      "source": [
        "X_test.shape"
      ],
      "metadata": {
        "colab": {
          "base_uri": "https://localhost:8080/"
        },
        "id": "uEdxHVW9cnHV",
        "outputId": "61b5112a-fa67-4af4-9cbc-fdfdb1a5d79c"
      },
      "execution_count": null,
      "outputs": [
        {
          "output_type": "execute_result",
          "data": {
            "text/plain": [
              "(10, 1)"
            ]
          },
          "metadata": {},
          "execution_count": 36
        }
      ]
    },
    {
      "cell_type": "markdown",
      "metadata": {
        "id": "u58xBrGB4R8_"
      },
      "source": [
        "#### Using LinearRegrssion library from sklearn\n",
        "\n",
        "[Ordinary least squares Linear Regression](https://scikit-learn.org/stable/modules/generated/sklearn.linear_model.LinearRegression.html)"
      ]
    },
    {
      "cell_type": "code",
      "execution_count": null,
      "metadata": {
        "id": "EQheTGdF4R9A"
      },
      "outputs": [],
      "source": [
        "reg = LinearRegression().fit(X_train, Y_train)"
      ]
    },
    {
      "cell_type": "markdown",
      "metadata": {
        "id": "siI6KYHj4R9C"
      },
      "source": [
        "#### Displaying coefficiet and intercept of the aproximated linear model"
      ]
    },
    {
      "cell_type": "code",
      "execution_count": null,
      "metadata": {
        "colab": {
          "base_uri": "https://localhost:8080/"
        },
        "id": "_SdJogVS4R9D",
        "outputId": "e5fe9275-dff1-4d56-e63d-8bc9f5619582"
      },
      "outputs": [
        {
          "output_type": "execute_result",
          "data": {
            "text/plain": [
              "array([1.28308814])"
            ]
          },
          "metadata": {},
          "execution_count": 38
        }
      ],
      "source": [
        "m=reg.coef_  ## Gives coefficient\n",
        "m"
      ]
    },
    {
      "cell_type": "code",
      "execution_count": null,
      "metadata": {
        "colab": {
          "base_uri": "https://localhost:8080/"
        },
        "id": "96lkca9G4R9E",
        "outputId": "fd402d0a-5524-4bcd-80aa-4e2c33968527"
      },
      "outputs": [
        {
          "output_type": "execute_result",
          "data": {
            "text/plain": [
              "-4.61287636938889"
            ]
          },
          "metadata": {},
          "execution_count": 39
        }
      ],
      "source": [
        "c=reg.intercept_  ## gives intercepts\n",
        "c"
      ]
    },
    {
      "cell_type": "markdown",
      "metadata": {
        "id": "Gp_ffhmR4R9F"
      },
      "source": [
        "#### Prediction of price for x_test features"
      ]
    },
    {
      "cell_type": "code",
      "source": [
        "X_test"
      ],
      "metadata": {
        "colab": {
          "base_uri": "https://localhost:8080/"
        },
        "id": "-E0TmXOUdIVh",
        "outputId": "6681d9e5-819d-4c36-9214-5cddbd03018b"
      },
      "execution_count": null,
      "outputs": [
        {
          "output_type": "execute_result",
          "data": {
            "text/plain": [
              "array([[21.279 ],\n",
              "       [ 5.4069],\n",
              "       [ 5.3054],\n",
              "       [ 6.4296],\n",
              "       [ 5.1884],\n",
              "       [ 9.7687],\n",
              "       [18.959 ],\n",
              "       [11.708 ],\n",
              "       [ 5.7107],\n",
              "       [ 6.1101]])"
            ]
          },
          "metadata": {},
          "execution_count": 40
        }
      ]
    },
    {
      "cell_type": "code",
      "execution_count": null,
      "metadata": {
        "id": "28dNxvLh4R9F"
      },
      "outputs": [],
      "source": [
        "y_pred=reg.predict(X_test) ## prediction for test set"
      ]
    },
    {
      "cell_type": "code",
      "source": [
        "m"
      ],
      "metadata": {
        "colab": {
          "base_uri": "https://localhost:8080/"
        },
        "id": "b8o9wr27eYs4",
        "outputId": "554fe9b8-22a4-48a5-c098-6edf2d1c0bda"
      },
      "execution_count": null,
      "outputs": [
        {
          "output_type": "execute_result",
          "data": {
            "text/plain": [
              "array([1.29086657])"
            ]
          },
          "metadata": {},
          "execution_count": 27
        }
      ]
    },
    {
      "cell_type": "markdown",
      "source": [
        "\n"
      ],
      "metadata": {
        "id": "ThYMK-ISdtu9"
      }
    },
    {
      "cell_type": "code",
      "source": [
        "revenue= 1.29086657* 21.279-4.746244090820274\n",
        "revenue\n"
      ],
      "metadata": {
        "colab": {
          "base_uri": "https://localhost:8080/"
        },
        "id": "_mDz1Bl9eVt1",
        "outputId": "9e216e5a-9cce-4ef8-c554-4eaa65351c59"
      },
      "execution_count": null,
      "outputs": [
        {
          "output_type": "execute_result",
          "data": {
            "text/plain": [
              "22.722105652209727"
            ]
          },
          "metadata": {},
          "execution_count": 28
        }
      ]
    },
    {
      "cell_type": "code",
      "source": [
        "X_test"
      ],
      "metadata": {
        "id": "EB_uN3YKdcco"
      },
      "execution_count": null,
      "outputs": []
    },
    {
      "cell_type": "code",
      "source": [
        "Y_test"
      ],
      "metadata": {
        "colab": {
          "base_uri": "https://localhost:8080/"
        },
        "id": "IRLs2imEdUDY",
        "outputId": "7d2fcf14-f649-482e-d032-acb89dd46cbe"
      },
      "execution_count": null,
      "outputs": [
        {
          "output_type": "execute_result",
          "data": {
            "text/plain": [
              "array([17.929  ,  0.55657,  1.9869 ,  3.6518 ,  0.20421,  7.5435 ,\n",
              "       17.054  ,  5.3854 ,  3.2522 , 17.592  ])"
            ]
          },
          "metadata": {},
          "execution_count": 43
        }
      ]
    },
    {
      "cell_type": "code",
      "execution_count": null,
      "metadata": {
        "colab": {
          "base_uri": "https://localhost:8080/"
        },
        "id": "_CXtAzR64R9G",
        "outputId": "702061fa-6c8c-47de-a897-251f35e43cf2"
      },
      "outputs": [
        {
          "output_type": "execute_result",
          "data": {
            "text/plain": [
              "array([22.68995624,  2.32465291,  2.19441947,  3.63686716,  2.04429815,\n",
              "        7.92122678, 19.71319174, 10.40951962,  2.71445509,  3.2269205 ])"
            ]
          },
          "metadata": {},
          "execution_count": 42
        }
      ],
      "source": [
        "y_pred"
      ]
    },
    {
      "cell_type": "code",
      "execution_count": null,
      "metadata": {
        "colab": {
          "base_uri": "https://localhost:8080/"
        },
        "id": "kQm77XB74R9H",
        "outputId": "42233997-7e62-4980-c9c5-51012b21b471"
      },
      "outputs": [
        {
          "output_type": "execute_result",
          "data": {
            "text/plain": [
              "array([17.929  ,  0.55657,  1.9869 ,  3.6518 ,  0.20421,  7.5435 ,\n",
              "       17.054  ,  5.3854 ,  3.2522 , 17.592  ,  5.9966 ,  0.29678,\n",
              "        1.844  , 13.501  ,  6.7318 ,  6.8233 ,  4.263  ,  3.1551 ,\n",
              "        2.8214 ,  3.3411 ,  1.0179 ,  6.6799 ,  1.0173 ,  3.5129 ,\n",
              "        5.4974 ])"
            ]
          },
          "metadata": {},
          "execution_count": 29
        }
      ],
      "source": [
        "t"
      ]
    },
    {
      "cell_type": "code",
      "execution_count": null,
      "metadata": {
        "colab": {
          "base_uri": "https://localhost:8080/"
        },
        "id": "39CP8GSy4R9J",
        "outputId": "d2041371-b49d-43a6-b156-ba2337dd596e"
      },
      "outputs": [
        {
          "output_type": "execute_result",
          "data": {
            "text/plain": [
              "(10,)"
            ]
          },
          "metadata": {},
          "execution_count": 44
        }
      ],
      "source": [
        "Y_test.shape"
      ]
    },
    {
      "cell_type": "code",
      "execution_count": null,
      "metadata": {
        "colab": {
          "base_uri": "https://localhost:8080/"
        },
        "id": "4wMRgE7o4R9J",
        "outputId": "9b6338c4-8537-49ec-9624-2f6f838834fd"
      },
      "outputs": [
        {
          "output_type": "execute_result",
          "data": {
            "text/plain": [
              "array([[17.929  ],\n",
              "       [ 0.55657],\n",
              "       [ 1.9869 ],\n",
              "       [ 3.6518 ],\n",
              "       [ 0.20421],\n",
              "       [ 7.5435 ],\n",
              "       [17.054  ],\n",
              "       [ 5.3854 ],\n",
              "       [ 3.2522 ],\n",
              "       [17.592  ]])"
            ]
          },
          "metadata": {},
          "execution_count": 46
        }
      ],
      "source": [
        "Y_test.reshape(10,1)"
      ]
    },
    {
      "cell_type": "code",
      "execution_count": null,
      "metadata": {
        "colab": {
          "base_uri": "https://localhost:8080/"
        },
        "id": "MdRW9UE74R9K",
        "outputId": "eacc81cf-f544-415d-9003-d2b8630ace41"
      },
      "outputs": [
        {
          "output_type": "execute_result",
          "data": {
            "text/plain": [
              "(10, 1)"
            ]
          },
          "metadata": {},
          "execution_count": 47
        }
      ],
      "source": [
        "Y_test.reshape(10,1).shape"
      ]
    },
    {
      "cell_type": "markdown",
      "metadata": {
        "id": "Css32lYk4R9L"
      },
      "source": [
        "#### Calculating the accuracy score"
      ]
    },
    {
      "cell_type": "code",
      "execution_count": null,
      "metadata": {
        "colab": {
          "base_uri": "https://localhost:8080/"
        },
        "id": "a37JXy7p4R9L",
        "outputId": "f434efb1-c70b-43df-a133-ba1a6441a4fe"
      },
      "outputs": [
        {
          "output_type": "execute_result",
          "data": {
            "text/plain": [
              "0.43037239199767363"
            ]
          },
          "metadata": {},
          "execution_count": 49
        }
      ],
      "source": [
        "reg.score(X_test,Y_test.reshape(10,1))  ## coefficient of determination R^2 of the prediction."
      ]
    },
    {
      "cell_type": "code",
      "execution_count": null,
      "metadata": {
        "colab": {
          "base_uri": "https://localhost:8080/"
        },
        "id": "Rrr2dfbP4R9M",
        "outputId": "2989dca3-e982-46b1-be9f-4e650b12f843"
      },
      "outputs": [
        {
          "output_type": "execute_result",
          "data": {
            "text/plain": [
              "1.0"
            ]
          },
          "metadata": {},
          "execution_count": 51
        }
      ],
      "source": [
        "reg.score(X_test,y_pred.reshape(10,1)) ## When Predicted value 'y_pred' is same as that of test value 'y_test'."
      ]
    },
    {
      "cell_type": "markdown",
      "metadata": {
        "id": "p3aBI7p34R9N"
      },
      "source": [
        "#### Other methods for measuring accuracy\n",
        "* Mean Absolute Error (MAE)\n",
        "* Mean Squared Error (MSE)\n",
        "* Root Mean Squared Error (RMSE)\n",
        "\n",
        "Calculation of RMSE is shown below:"
      ]
    },
    {
      "cell_type": "code",
      "execution_count": null,
      "metadata": {
        "id": "d5yLViTE4R9N"
      },
      "outputs": [],
      "source": [
        "from sklearn.metrics import mean_squared_error"
      ]
    },
    {
      "cell_type": "code",
      "execution_count": null,
      "metadata": {
        "colab": {
          "base_uri": "https://localhost:8080/"
        },
        "id": "EGFIQPlm4R9O",
        "outputId": "c8bada02-11cb-4fa6-a8ee-7c551292b545"
      },
      "outputs": [
        {
          "output_type": "stream",
          "name": "stdout",
          "text": [
            "Root Mean Squared Error =  2.652043063191642\n"
          ]
        }
      ],
      "source": [
        "reg.fit(X_train, Y_train)   # Fitting the data  for generating Model \n",
        "y_train_predict = reg.predict(X_train)  # prediction the output 'y' for each input 'x'\n",
        "\n",
        "RMSE=np.sqrt(mean_squared_error(Y_train, y_train_predict))\n",
        "print('Root Mean Squared Error = ',RMSE)"
      ]
    },
    {
      "cell_type": "markdown",
      "metadata": {
        "id": "aPZJn8-f4R9P"
      },
      "source": [
        "#### Visualizing predicted and original y (Revenue)"
      ]
    },
    {
      "cell_type": "markdown",
      "source": [
        ""
      ],
      "metadata": {
        "id": "R0f1cuN3iM3R"
      }
    },
    {
      "cell_type": "code",
      "source": [
        "X=data.iloc[:,0].values\n",
        "Y=data.iloc[:,1].values\n",
        "m=len(Y)# gives number of training set\n",
        "print(m)\n",
        "plt.scatter(X,Y)\n",
        "plt.xlabel('Visitor_Count')\n",
        "plt.ylabel('Revenue')\n",
        "plt.show"
      ],
      "metadata": {
        "id": "fpZ5Ajt-iNQw"
      },
      "execution_count": null,
      "outputs": []
    },
    {
      "cell_type": "code",
      "execution_count": null,
      "metadata": {
        "colab": {
          "base_uri": "https://localhost:8080/",
          "height": 299
        },
        "id": "tdA4th_-4R9Q",
        "outputId": "6ea1b077-0d67-4fc1-9a0d-3529606497d8"
      },
      "outputs": [
        {
          "output_type": "execute_result",
          "data": {
            "text/plain": [
              "<function matplotlib.pyplot.show>"
            ]
          },
          "metadata": {},
          "execution_count": 57
        },
        {
          "output_type": "display_data",
          "data": {
            "image/png": "[encoded data removed]",
            "text/plain": [
              "<Figure size 432x288 with 1 Axes>"
            ]
          },
          "metadata": {
            "needs_background": "light"
          }
        }
      ],
      "source": [
        "\n",
        "plt.scatter(X,Y,color='black')\n",
        "plt.scatter(X_test, Y_test,  color='black')\n",
        "plt.plot(X_test,y_pred, color='blue', linewidth=3)\n",
        "plt.xlabel('Visitor_Count')\n",
        "plt.ylabel('Revenue')\n",
        "plt.show\n"
      ]
    },
    {
      "cell_type": "markdown",
      "metadata": {
        "id": "WJzQUy-K4R9S"
      },
      "source": [
        "#### Predictiong Revenue for any visitors count using the developed model"
      ]
    },
    {
      "cell_type": "markdown",
      "source": [
        "18"
      ],
      "metadata": {
        "id": "qD7q5Mt9jqT5"
      }
    },
    {
      "cell_type": "code",
      "execution_count": null,
      "metadata": {
        "colab": {
          "base_uri": "https://localhost:8080/"
        },
        "id": "mFreHWpp4R9T",
        "outputId": "1ae27895-66cd-4fbf-8572-d89c91cbadc8"
      },
      "outputs": [
        {
          "output_type": "execute_result",
          "data": {
            "text/plain": [
              "array([18.48271021])"
            ]
          },
          "metadata": {},
          "execution_count": 58
        }
      ],
      "source": [
        "reg.predict(np.array([[18]]))"
      ]
    }
  ],
  "metadata": {
    "kernelspec": {
      "display_name": "Python 3",
      "language": "python",
      "name": "python3"
    },
    "language_info": {
      "codemirror_mode": {
        "name": "ipython",
        "version": 3
      },
      "file_extension": ".py",
      "mimetype": "text/x-python",
      "name": "python",
      "nbconvert_exporter": "python",
      "pygments_lexer": "ipython3",
      "version": "3.8.8"
    },
    "colab": {
      "name": "Single_Variable_Regression.ipynb",
      "provenance": []
    }
  },
  "nbformat": 4,
  "nbformat_minor": 0
}