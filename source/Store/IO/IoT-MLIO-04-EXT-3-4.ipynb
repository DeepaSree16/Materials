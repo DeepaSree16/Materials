{
 "cells": [
  {
   "cell_type": "markdown",
   "metadata": {
    "id": "DX_M2P5-js-Y"
   },
   "source": [
    "# IoT & Smart Analytics\n",
    "## A Program by IIIT-H and TalentSprint"
   ]
  },
  {
   "cell_type": "markdown",
   "metadata": {
    "id": "evWAZ0ssi4O7"
   },
   "source": [
    "## Learning Objectives"
   ]
  },
  {
   "cell_type": "markdown",
   "metadata": {
    "id": "xluIibmaioCg"
   },
   "source": [
    "At the end of the experiment, participants will be able to\n",
    "* understand the concept of Multi Layer Perceptron (MLP)\n",
    "* understand the backpropagation algorithm\n",
    "* know different activation functions \n",
    "* build an image classifier using the Keras Sequential API"
   ]
  },
  {
   "cell_type": "markdown",
   "metadata": {
    "id": "iVLnbB5inDfp"
   },
   "source": [
    "### The Multilayer Perceptron and Backpropagation"
   ]
  },
  {
   "cell_type": "markdown",
   "metadata": {
    "id": "nqcv_re2nEDR"
   },
   "source": [
    "An MLP is composed of \n",
    "\n",
    "* one (passthrough) **input layer**, \n",
    "* one or more layers of LTUs called **hidden layers**, and \n",
    "* one final layer of LTUs called the **output layer** as shown in the figure below. \n",
    "\n",
    "The layers close to the input layer are usually called the lower layers, and the ones close to the outputs are usually called the upper layers.\n",
    "\n",
    "**Equations used in forward propagation** :\n",
    "<center>\n",
    "\n",
    "~--------------------------------------~\n",
    "\n",
    "$Z^{[1]}=W^{[1]}X + b^{[1]}$\n",
    "\n",
    "$A^{[1]}=\\sigma (Z^{[1]})$\n",
    "\n",
    "~--------------------------------------~\n",
    "\n",
    "$Z^{[2]}=W^{[2]}A^{[1]} + b^{[2]}$\n",
    "\n",
    "$A^{[2]}=\\sigma (Z^{[2]})$\n",
    "\n",
    "~--------------------------------------~\n",
    "\n",
    "$Z^{[3]}=W^{[3]}A^{[2]} + b^{[3]}$\n",
    "\n",
    "$A^{[3]}=\\sigma (Z^{[3]})$\n",
    "\n",
    "~--------------------------------------~\n",
    "\n",
    "Where,  $ \\sigma \\rightarrow  Activation Function $\n",
    "\n",
    "\n",
    "\n",
    "<img src=\"https://cdn.extras.talentsprint.com/IOT/Images/mlp_network.png\" width= 500px/>\n",
    "</center>\n",
    "\n",
    "\n",
    "\n",
    "When an ANN contains a deep stack of hidden layers, it is called a **deep neural network (DNN)**. The field of Deep Learning studies DNNs, and more generally models containing deep stacks of computations.\n",
    "\n",
    "MLPs are trained using **backpropagation training algorithm**.\n",
    "\n",
    "In short, it is Gradient Descent using an efficient technique for computing the gradients automatically: in just two passes through the network (one forward, one backward), the backpropagation algorithm is able to compute the gradient of the network’s error with regard to every single model parameter. \n",
    "\n",
    "In other words, it can find out how each connection weight and each bias term should be tweaked in order to reduce the error. Once it has these gradients, it just performs a regular Gradient Descent step, and the whole process is repeated until the network converges to the solution.\n",
    "\n",
    "Let’s run through this algorithm in detail:\n",
    "\n",
    "* It handles one mini-batch at a time (say, containing 32 instances each), and it goes through the full training set multiple times. Each pass is called an **epoch**.\n",
    "\n",
    "* Each mini-batch is passed to the network’s **input layer**, which sends it to the first **hidden layer**. The algorithm then computes the output of all the neurons in this layer (for every instance in the mini-batch). The result is passed on to the next layer, its output is computed and passed to the next layer, and so on until we get the output of the last layer, the **output layer**. This is the **forward pass**: it is exactly like making predictions, except all intermediate results are preserved since they are needed for the backward pass.\n",
    "\n",
    "* Next, the algorithm measures the network’s output error (i.e., it uses a loss function that compares the desired output and the actual output of the network, and returns some measure of the error).\n",
    "\n",
    "* Then it computes how much each output connection contributed to the error.\n",
    "This is done analytically by applying the chain rule, which makes this step fast and precise.\n",
    "\n",
    "* The algorithm then measures how much of these error contributions came from\n",
    "each connection in the layer below, again using the chain rule, working backward\n",
    "until the algorithm reaches the input layer. As explained earlier, this reverse pass efficiently measures the error gradient across all the connection weights in the network by propagating the error gradient backward through the network.\n",
    "\n",
    "* Finally, the algorithm performs a Gradient Descent step to tweak all the connection weights in the network, using the error gradients it just computed.\n",
    "\n",
    "Let's summarize this algorithm again: for each training instance, the backpropagation algorithm first makes a prediction (**forward pass**) and measures the error, then goes through each layer in reverse to measure the error contribution from each connection (**reverse pass**), and finally tweaks the connection weights to reduce the error (Gradient Descent step).\n",
    "\n",
    "In order for this algorithm to work properly, the step function was replaced with an activation function."
   ]
  },
  {
   "cell_type": "markdown",
   "metadata": {
    "id": "Tr_gKVyAkaDo"
   },
   "source": [
    "### Activation Functions"
   ]
  },
  {
   "cell_type": "markdown",
   "metadata": {
    "id": "y__DjpuKkajD"
   },
   "source": [
    "Replacing the step function with the activation function was essential because the step function contains only flat segments, so there is no gradient to work with (Gradient Descent cannot move on a flat surface), while the activation function has a well-defined nonzero derivative, allowing Gradient Descent to make some progress at every step.\n",
    "\n",
    "Some of the activation functions are shown below:\n",
    "\n",
    "* **Logistic (sigmoid) function:**\n",
    "\n",
    "$$σ(z) = \\frac{1}{1 + exp(–z)}$$\n",
    "\n",
    "It is an S-shaped function, exists between $0$ to $1$. Therefore, it is especially used for models where we have to predict the probability as an output. The function is differentiable.\n",
    "That means, we can find the slope of the sigmoid curve at any two points.\n",
    "\n",
    "* **Hyperbolic tangent function:** \n",
    "\n",
    "$$tanh(z) = 2σ(2z) – 1 = \\frac{2}{1 + exp(–2z)} - 1$$\n",
    "\n",
    "Just like the logistic function, this activation function is S-shaped, continuous, and differentiable, but its output value ranges from $–1$ to $1$. That range tends to make each layer’s output more or less centered around $0$ at the beginning of training, which often helps speed up convergence.\n",
    "\n",
    "* **Rectified Linear Unit function:**\n",
    "\n",
    "$$ReLU(z) = max(0, z)$$\n",
    "\n",
    "The ReLU function is continuous but unfortunately not differentiable at $z = 0$\n",
    "(the slope changes abruptly, which can make Gradient Descent bounce around),\n",
    "and its derivative is $0$ for $z < 0$. In practice, however, it works very well and has the advantage of being fast to compute, so it has become the default. Most importantly, the fact that it does not have a maximum output value helps reduce some issues during Gradient Descent.\n",
    "\n",
    "These popular activation functions and their derivatives are represented in\n",
    "the figure below. \n",
    "<br><br>\n",
    "<center>\n",
    "<img src=\"https://www.oreilly.com/library/view/neural-networks-and/9781492037354/assets/mlst_1008.png\" width=700px/>\n",
    "</center>\n",
    "<br><br>\n",
    "\n",
    "**Why do we need activation functions?** \n",
    "\n",
    "If we chain several linear transformations, all we get is a linear transformation. For example, if $f(x) = 2x + 3$ and $g(x) = 5x – 1$, then chaining these two linear functions gives you another linear function: $f(g(x)) = 2(5x – 1) + 3 = 10x + 1.$ \n",
    "\n",
    "So if we don’t have some nonlinearity between layers, then even a deep stack of layers is equivalent to a single layer, and we can’t solve very complex problems with that. Conversely, a large enough DNN with nonlinear activations can theoretically approximate any continuous function.\n",
    "\n",
    "Training a DNN is not an easy task. Let's see what difficulties we may encounter during that process."
   ]
  },
  {
   "cell_type": "markdown",
   "metadata": {
    "id": "zec124gIklXQ"
   },
   "source": [
    "### Import required packages"
   ]
  },
  {
   "cell_type": "code",
   "execution_count": null,
   "metadata": {
    "id": "fj4JZXEMWxHk"
   },
   "outputs": [],
   "source": [
    "import numpy as np\n",
    "import pandas as pd\n",
    "import matplotlib.pyplot as plt\n",
    "import tensorflow as tf\n",
    "from tensorflow import keras\n",
    "from tensorflow.keras.models import Sequential\n",
    "from tensorflow.keras.layers import Flatten, Dense"
   ]
  },
  {
   "cell_type": "markdown",
   "metadata": {
    "id": "eYGy6EguXSsp"
   },
   "source": [
    "### Building an Image Classifier Using the Sequential API"
   ]
  },
  {
   "cell_type": "markdown",
   "metadata": {
    "id": "FH09kZXJXWTN"
   },
   "source": [
    "Here we consider the Fashion MNIST dataset. It has the same format as MNIST (70,000 grayscale images of 28 × 28 pixels each, with 10 classes), but the images represent fashion items rather than handwritten digits, so each class is more diverse, and the problem turns out to be significantly more challenging than MNIST. "
   ]
  },
  {
   "cell_type": "code",
   "execution_count": null,
   "metadata": {
    "id": "6sTmx0TbXSQx"
   },
   "outputs": [],
   "source": [
    "# Using Keras to load the dataset\n",
    "fashion_mnist = keras.datasets.fashion_mnist\n",
    "(X_train_full, y_train_full), (X_test, y_test) = fashion_mnist.load_data()"
   ]
  },
  {
   "cell_type": "code",
   "execution_count": null,
   "metadata": {
    "colab": {
     "base_uri": "https://localhost:8080/"
    },
    "id": "4U8yuc5RXmAD",
    "outputId": "c08c18bd-bd0b-4ba4-a599-a225caf530a5"
   },
   "outputs": [
    {
     "data": {
      "text/plain": [
       "((60000, 28, 28), dtype('uint8'))"
      ]
     },
     "execution_count": 7,
     "metadata": {},
     "output_type": "execute_result"
    }
   ],
   "source": [
    "# Shape and datatype of X_train_full\n",
    "X_train_full.shape, X_train_full.dtype"
   ]
  },
  {
   "cell_type": "code",
   "execution_count": null,
   "metadata": {
    "id": "VbD2FHgcNcml"
   },
   "outputs": [],
   "source": [
    "X_train_full"
   ]
  },
  {
   "cell_type": "markdown",
   "metadata": {
    "id": "9mvKlRZlXxhN"
   },
   "source": [
    "Note that the dataset is already split into a training set and a test set, but there is no validation set, so we’ll create one now. Additionally, since we are going to train the neural network using Gradient Descent, we must scale the input features. For simplicity, we’ll scale the pixel intensities down to the 0–1 range by dividing them by 255.0:"
   ]
  },
  {
   "cell_type": "code",
   "execution_count": null,
   "metadata": {
    "id": "aDSM-ZsKXyam"
   },
   "outputs": [],
   "source": [
    "# Validation set and scaling\n",
    "X_valid = X_train_full[:5000] / 255.0 # 5000 dataset are spared for validation\n",
    "\n",
    "X_train = X_train_full[5000:] / 255.0 #55000 dataseet are used for training\n",
    "\n",
    "y_valid = y_train_full[:5000]\n",
    "y_train = y_train_full[5000:]"
   ]
  },
  {
   "cell_type": "markdown",
   "metadata": {
    "id": "nqJ9tP-TZhrv"
   },
   "source": [
    "The validation set contains 5,000 images, and the test set contains 10,000 images:"
   ]
  },
  {
   "cell_type": "code",
   "execution_count": null,
   "metadata": {
    "colab": {
     "base_uri": "https://localhost:8080/"
    },
    "id": "LBxlbv1rZipF",
    "outputId": "cd41c630-01b2-41f1-dae6-eb1ace047462"
   },
   "outputs": [
    {
     "data": {
      "text/plain": [
       "((5000, 28, 28), (10000, 28, 28))"
      ]
     },
     "execution_count": 13,
     "metadata": {},
     "output_type": "execute_result"
    }
   ],
   "source": [
    "X_valid.shape , X_test.shape"
   ]
  },
  {
   "cell_type": "markdown",
   "metadata": {
    "id": "2uzBdE3MYbO8"
   },
   "source": [
    "Plotting an image using Matplotlib's imshow() function, with a 'binary' color map:"
   ]
  },
  {
   "cell_type": "code",
   "execution_count": null,
   "metadata": {
    "colab": {
     "base_uri": "https://localhost:8080/",
     "height": 248
    },
    "id": "Rz671oCPYcpv",
    "outputId": "4dfca52f-89ef-494c-9a69-cc7066c4ba26"
   },
   "outputs": [
    {
     "data": {
      "image/png": "[encoded data removed]",
      "text/plain": [
       "<Figure size 432x288 with 1 Axes>"
      ]
     },
     "metadata": {
      "needs_background": "light"
     },
     "output_type": "display_data"
    }
   ],
   "source": [
    "plt.imshow(X_train[49000], cmap=\"binary\")\n",
    "plt.axis('off')\n",
    "plt.show()"
   ]
  },
  {
   "cell_type": "markdown",
   "metadata": {
    "id": "BntY8VcgY36Z"
   },
   "source": [
    "The labels are the class IDs (represented as uint8), from 0 to 9:"
   ]
  },
  {
   "cell_type": "code",
   "execution_count": null,
   "metadata": {
    "colab": {
     "base_uri": "https://localhost:8080/"
    },
    "id": "CYoGlFGUY3el",
    "outputId": "ed246508-5ca7-436d-d36d-083cf7bbe865"
   },
   "outputs": [
    {
     "data": {
      "text/plain": [
       "array([4, 0, 7, ..., 3, 0, 5], dtype=uint8)"
      ]
     },
     "execution_count": 24,
     "metadata": {},
     "output_type": "execute_result"
    }
   ],
   "source": [
    "y_train"
   ]
  },
  {
   "cell_type": "code",
   "execution_count": null,
   "metadata": {
    "colab": {
     "base_uri": "https://localhost:8080/"
    },
    "id": "auxnndS0P-q2",
    "outputId": "e7df0609-d6c3-4dda-be32-328ca816f161"
   },
   "outputs": [
    {
     "data": {
      "text/plain": [
       "7"
      ]
     },
     "execution_count": 25,
     "metadata": {},
     "output_type": "execute_result"
    }
   ],
   "source": [
    "y_train[49000]"
   ]
  },
  {
   "cell_type": "markdown",
   "metadata": {
    "id": "s8wisZF9YwoO"
   },
   "source": [
    "Here are the corresponding class names:"
   ]
  },
  {
   "cell_type": "code",
   "execution_count": null,
   "metadata": {
    "colab": {
     "base_uri": "https://localhost:8080/",
     "height": 36
    },
    "id": "2QMJSwL1YxJA",
    "outputId": "f51297c2-7ddb-4a13-a1ff-4cb6840ac68a"
   },
   "outputs": [
    {
     "data": {
      "application/vnd.google.colaboratory.intrinsic+json": {
       "type": "string"
      },
      "text/plain": [
       "'Sneaker'"
      ]
     },
     "execution_count": 22,
     "metadata": {},
     "output_type": "execute_result"
    }
   ],
   "source": [
    "# List of labels\n",
    "class_names = [\"T-shirt/top\", \"Trouser\", \"Pullover\", \"Dress\", \"Coat\", \"Sandal\", \"Shirt\", \"Sneaker\", \"Bag\", \"Ankle boot\"]\n",
    "\n",
    "# First image in the training set\n",
    "class_names[y_train[49000]]"
   ]
  },
  {
   "cell_type": "markdown",
   "metadata": {
    "id": "Z4u_Y1muZ-w5"
   },
   "source": [
    "**Creating the model using the Sequential API**\n",
    "\n",
    "Here is a classification MLP with two hidden layers:"
   ]
  },
  {
   "cell_type": "code",
   "execution_count": null,
   "metadata": {
    "id": "4_f1SBtJZ8nv"
   },
   "outputs": [],
   "source": [
    "# Create model with 2 hidden layers and one output layer\n",
    "model = Sequential()\n",
    "model.add(Flatten(input_shape=[28, 28]))\n",
    "model.add(Dense(300, activation=\"relu\"))\n",
    "model.add(Dense(100, activation=\"relu\"))\n",
    "model.add(Dense(10, activation=\"softmax\"))"
   ]
  },
  {
   "cell_type": "markdown",
   "metadata": {
    "id": "6LI0dhc6aRpL"
   },
   "source": [
    "Let’s go through the above code line by line:\n",
    "\n",
    "* The first line creates a Sequential model. This is the simplest kind of Keras\n",
    "model for neural networks that are just composed of a single stack of layers connected sequentially. This is called the Sequential API.\n",
    "\n",
    "* Next, we build the first layer and add it to the model. It is a Flatten layer whose role is to convert each input image into a 1D array: if it receives input data X, it computes X.reshape(-1, 1). This layer does not have any parameters; it is just there to do some simple preprocessing. Since it is the first layer in the model, we should specify the input_shape, which doesn’t include the batch size, only the shape of the instances. Alternatively, we could add a `keras.layers.InputLayer` as the first layer, setting input_shape=[28,28].\n",
    "\n",
    "* Next, we add a Dense hidden layer with 300 neurons. It will use the ReLU activation function. Each Dense layer manages its own weight matrix, containing all the connection weights between the neurons and their inputs. It also manages a vector of bias terms (one per neuron). When it receives some input data, it computes $h_{W, b}(X) = \\sigma( WX + b)$.\n",
    "\n",
    "* Then we add a second Dense hidden layer with 100 neurons, also using the ReLU\n",
    "activation function.\n",
    "\n",
    "* Finally, we add a Dense output layer with 10 neurons (one per class), using the softmax activation function (because the classes are exclusive).\n",
    "\n",
    "Instead of adding the layers one by one we can pass a list of layers when creating the Sequential model:\n"
   ]
  },
  {
   "cell_type": "code",
   "execution_count": null,
   "metadata": {
    "id": "BF9NtgaiaWOM"
   },
   "outputs": [],
   "source": [
    "# Create model with 2 hidden layers and one output layer\n",
    "model = Sequential([\n",
    "                    Flatten(input_shape=[28, 28]),\n",
    "                    Dense(300, activation=\"relu\"),\n",
    "                    Dense(100, activation=\"relu\"),\n",
    "                    Dense(10, activation=\"softmax\")\n",
    "                    ])"
   ]
  },
  {
   "cell_type": "markdown",
   "metadata": {
    "id": "MbYZaIjzaiXo"
   },
   "source": [
    "The model’s summary() method displays all the model’s layers, including each layer’s name, its output shape (None means the batch size can be anything), and its number of parameters. The summary ends with the total number of parameters, including trainable and non-trainable parameters. Here we only have trainable parameters."
   ]
  },
  {
   "cell_type": "code",
   "execution_count": null,
   "metadata": {
    "colab": {
     "base_uri": "https://localhost:8080/"
    },
    "id": "sRncvzvfajxv",
    "outputId": "f60dd4b4-80f9-45ef-aaf8-19a64193b91c"
   },
   "outputs": [
    {
     "name": "stdout",
     "output_type": "stream",
     "text": [
      "Model: \"sequential_1\"\n",
      "_________________________________________________________________\n",
      " Layer (type)                Output Shape              Param #   \n",
      "=================================================================\n",
      " flatten_1 (Flatten)         (None, 784)               0         \n",
      "                                                                 \n",
      " dense_3 (Dense)             (None, 300)               235500    \n",
      "                                                                 \n",
      " dense_4 (Dense)             (None, 100)               30100     \n",
      "                                                                 \n",
      " dense_5 (Dense)             (None, 10)                1010      \n",
      "                                                                 \n",
      "=================================================================\n",
      "Total params: 266,610\n",
      "Trainable params: 266,610\n",
      "Non-trainable params: 0\n",
      "_________________________________________________________________\n"
     ]
    }
   ],
   "source": [
    "# Summary of model\n",
    "model.summary()"
   ]
  },
  {
   "cell_type": "markdown",
   "metadata": {
    "id": "mmqNrGUziVkJ"
   },
   "source": [
    "Getting weights and biases "
   ]
  },
  {
   "cell_type": "code",
   "execution_count": null,
   "metadata": {
    "colab": {
     "base_uri": "https://localhost:8080/",
     "height": 36
    },
    "id": "aOf4CT49ignC",
    "outputId": "102c879e-5569-4f40-d72a-7d222a32a913"
   },
   "outputs": [
    {
     "data": {
      "application/vnd.google.colaboratory.intrinsic+json": {
       "type": "string"
      },
      "text/plain": [
       "'dense_3'"
      ]
     },
     "execution_count": 29,
     "metadata": {},
     "output_type": "execute_result"
    }
   ],
   "source": [
    "hidden1 = model.layers[1]\n",
    "hidden1.name"
   ]
  },
  {
   "cell_type": "code",
   "execution_count": null,
   "metadata": {
    "id": "TY6WYHrXignH"
   },
   "outputs": [],
   "source": [
    "weights, biases = hidden1.get_weights()"
   ]
  },
  {
   "cell_type": "code",
   "execution_count": null,
   "metadata": {
    "id": "LaXAhVS-ignJ"
   },
   "outputs": [],
   "source": [
    "weights"
   ]
  },
  {
   "cell_type": "code",
   "execution_count": null,
   "metadata": {
    "id": "wnnx_mnKignL"
   },
   "outputs": [],
   "source": [
    "biases"
   ]
  },
  {
   "cell_type": "markdown",
   "metadata": {
    "id": "_CZ7qqiqbljd"
   },
   "source": [
    "**Compiling the model**\n",
    "After a model is created, we must call its `compile()` method to specify the loss function and the optimizer to use."
   ]
  },
  {
   "cell_type": "code",
   "execution_count": null,
   "metadata": {
    "id": "X_YYUCAibnH3"
   },
   "outputs": [],
   "source": [
    "# Compile model\n",
    "model.compile(loss=\"sparse_categorical_crossentropy\",\n",
    "              optimizer=\"sgd\",\n",
    "              metrics=[\"accuracy\"]\n",
    "              )"
   ]
  },
  {
   "cell_type": "markdown",
   "metadata": {
    "id": "aP2XeBO3TTcj"
   },
   "source": [
    "GD, SGD, ADAM ,RMS, RMSporp"
   ]
  },
  {
   "cell_type": "markdown",
   "metadata": {
    "id": "6TJFg3ytby5O"
   },
   "source": [
    "In the above code cell, \n",
    "\n",
    "* first, we use the **\"sparse_categorical_crossentropy\"** loss because we have sparse labels (i.e., for each instance, there is just a target class index, from 0 to 9 in this case), and the classes are exclusive. If instead, we had one target probability per class for each instance (such as one-hot vectors, e.g. [0., 0., 0., 1., 0., 0., 0., 0., 0., 0.] to represent class 3), then we would need to use the \"categorical_crossentropy\" loss instead. If we were doing binary classification (with one or more binary labels), then we would use the \"sigmoid\" activation function in the output layer instead of the \"softmax\" activation function, and we would use the \"binary_crossentropy\" loss.\n",
    "\n",
    "* Regarding the optimizer, **\"sgd\"** means that we will train the model using simple Stochastic Gradient Descent. \n",
    "\n",
    "* Finally, since this is a classifier, it’s useful to measure its **\"accuracy\"** during training and evaluation."
   ]
  },
  {
   "cell_type": "markdown",
   "metadata": {
    "id": "7Dn3PcITb5Qg"
   },
   "source": [
    "**Training and evaluating the model**"
   ]
  },
  {
   "cell_type": "code",
   "execution_count": null,
   "metadata": {
    "id": "Hk0FVz1lb-XR"
   },
   "outputs": [],
   "source": [
    "# Training model on Training set\n",
    "history = model.fit(X_train, y_train, epochs=30, validation_data = (X_valid, y_valid))"
   ]
  },
  {
   "cell_type": "markdown",
   "metadata": {
    "id": "eB3Tw9iCczDj"
   },
   "source": [
    "The `fit()` method returns a History object containing the training parameters\n",
    "(`history.params`), the list of epochs it went through (`history.epoch`), and most importantly a dictionary (`history.history`) containing the loss and extra metrics it measured at the end of each epoch on the training set and on the validation set (if any).\n",
    "\n",
    "Let's plot the learning curves:"
   ]
  },
  {
   "cell_type": "code",
   "execution_count": null,
   "metadata": {
    "colab": {
     "base_uri": "https://localhost:8080/",
     "height": 324
    },
    "id": "dyU0X0M8c25M",
    "outputId": "0f3a8c87-0b58-47b1-dc9f-2b47f4810e41"
   },
   "outputs": [
    {
     "data": {
      "image/png": "[encoded data removed]",
      "text/plain": [
       "<Figure size 576x360 with 1 Axes>"
      ]
     },
     "metadata": {
      "needs_background": "light"
     },
     "output_type": "display_data"
    }
   ],
   "source": [
    "# Visualize training and validation metrics\n",
    "df = pd.DataFrame(history.history)\n",
    "df.plot(figsize=(8, 5))\n",
    "plt.grid(True)\n",
    "# set the vertical range to [0-1]\n",
    "plt.gca().set_ylim(0, 1) \n",
    "plt.show()"
   ]
  },
  {
   "cell_type": "markdown",
   "metadata": {
    "id": "OgS1NqL5dJf2"
   },
   "source": [
    "We can see that both the training accuracy and the validation accuracy steadily\n",
    "increase during training, while the training loss and the validation loss decrease. Moreover, the validation curves are close to the training curves, which means that there is not too much overfitting.\n",
    "\n",
    "Once we are satisfied with the model’s validation accuracy, we should evaluate it on the test set to estimate the generalization error before we deploy the model to production. We can easily do this using the `evaluate()` method:"
   ]
  },
  {
   "cell_type": "code",
   "execution_count": null,
   "metadata": {
    "colab": {
     "base_uri": "https://localhost:8080/"
    },
    "id": "sCS8tApFdOAf",
    "outputId": "95563b32-9799-4d4e-93a1-dcbc2afcf431"
   },
   "outputs": [
    {
     "name": "stdout",
     "output_type": "stream",
     "text": [
      "313/313 [==============================] - 1s 3ms/step - loss: 57.3835 - accuracy: 0.8548\n"
     ]
    },
    {
     "data": {
      "text/plain": [
       "[57.38353729248047, 0.8547999858856201]"
      ]
     },
     "execution_count": 38,
     "metadata": {},
     "output_type": "execute_result"
    }
   ],
   "source": [
    "# Model performance on test set\n",
    "model.evaluate(X_test, y_test)"
   ]
  },
  {
   "cell_type": "markdown",
   "metadata": {
    "id": "-pCdgnu7dXeZ"
   },
   "source": [
    "**Using the model to make predictions**\n",
    "\n",
    "We can use the model’s `predict()` method to make predictions on new instances."
   ]
  },
  {
   "cell_type": "code",
   "execution_count": null,
   "metadata": {
    "colab": {
     "base_uri": "https://localhost:8080/"
    },
    "id": "4QmnEBRndbXY",
    "outputId": "331be001-5c51-44e6-8fff-08e40015f447"
   },
   "outputs": [
    {
     "data": {
      "text/plain": [
       "array([[0., 0., 0., 0., 0., 0., 0., 0., 0., 1.],\n",
       "       [0., 0., 1., 0., 0., 0., 0., 0., 0., 0.],\n",
       "       [0., 1., 0., 0., 0., 0., 0., 0., 0., 0.]], dtype=float32)"
      ]
     },
     "execution_count": 39,
     "metadata": {},
     "output_type": "execute_result"
    }
   ],
   "source": [
    "# Predict class probabilities for first three instances of X_test\n",
    "X_new = X_test[:3]\n",
    "y_proba = model.predict(X_new)\n",
    "y_proba.round(2)"
   ]
  },
  {
   "cell_type": "code",
   "execution_count": null,
   "metadata": {
    "colab": {
     "base_uri": "https://localhost:8080/"
    },
    "id": "E75kEnWLdtsJ",
    "outputId": "17be6ddc-d16f-49c6-c706-327ffa5e80d8"
   },
   "outputs": [
    {
     "name": "stdout",
     "output_type": "stream",
     "text": [
      "Predicted labels: \n",
      " [9 2 1]\n",
      "['Ankle boot' 'Pullover' 'Trouser']\n"
     ]
    }
   ],
   "source": [
    "# Predict class labels for first three instances of X_test\n",
    "y_pred = np.argmax(model.predict(X_new), axis=1)\n",
    "print(\"Predicted labels: \\n\", y_pred)\n",
    "\n",
    "print(np.array(class_names)[y_pred])"
   ]
  },
  {
   "cell_type": "code",
   "execution_count": null,
   "metadata": {
    "colab": {
     "base_uri": "https://localhost:8080/",
     "height": 167
    },
    "id": "LfnTjOjyesqk",
    "outputId": "8837bf8f-b26a-4b24-fd6e-7301bba7056f"
   },
   "outputs": [
    {
     "name": "stdout",
     "output_type": "stream",
     "text": [
      "Actual labels:  [9 2 1]\n"
     ]
    },
    {
     "data": {
      "image/png": "[encoded data removed]",
      "text/plain": [
       "<Figure size 432x288 with 3 Axes>"
      ]
     },
     "metadata": {
      "needs_background": "light"
     },
     "output_type": "display_data"
    }
   ],
   "source": [
    "# Actual labels\n",
    "y_new = y_test[:3]\n",
    "print(\"Actual labels: \", y_new)\n",
    "\n",
    "fig, ax = plt.subplots(1,3)\n",
    "for axi, i in zip(ax.ravel(), np.arange(len(X_new))):\n",
    "    axi.imshow(X_new[i], cmap='Greys')"
   ]
  },
  {
   "cell_type": "markdown",
   "metadata": {
    "id": "VlTtCpergRr_"
   },
   "source": [
    "#### Getting weights and biases of each layer"
   ]
  },
  {
   "cell_type": "code",
   "execution_count": null,
   "metadata": {
    "colab": {
     "base_uri": "https://localhost:8080/",
     "height": 36
    },
    "id": "1MIxZEcpf2rn",
    "outputId": "2f1c3e7c-ea70-44d0-a46c-f3bc2abe61b5"
   },
   "outputs": [
    {
     "data": {
      "application/vnd.google.colaboratory.intrinsic+json": {
       "type": "string"
      },
      "text/plain": [
       "'dense_3'"
      ]
     },
     "execution_count": 42,
     "metadata": {},
     "output_type": "execute_result"
    }
   ],
   "source": [
    "hidden1 = model.layers[1]\n",
    "hidden1.name"
   ]
  },
  {
   "cell_type": "code",
   "execution_count": null,
   "metadata": {
    "id": "fxTTKwD5f7oJ"
   },
   "outputs": [],
   "source": [
    "weights, biases = hidden1.get_weights()"
   ]
  },
  {
   "cell_type": "code",
   "execution_count": null,
   "metadata": {
    "colab": {
     "base_uri": "https://localhost:8080/"
    },
    "id": "C8kIDV0Jf_BC",
    "outputId": "d280e284-3f85-4b3a-a87a-225c9b172fbc"
   },
   "outputs": [
    {
     "data": {
      "text/plain": [
       "array([[ 0.01453317, -0.0664834 ,  0.01298573, ..., -0.01958185,\n",
       "         0.01035887, -0.04188047],\n",
       "       [ 0.01453721, -0.03060254,  0.02063166, ...,  0.05427672,\n",
       "        -0.00328108, -0.03077198],\n",
       "       [ 0.00181316, -0.03580233,  0.03157273, ..., -0.07089037,\n",
       "        -0.02457847, -0.03573252],\n",
       "       ...,\n",
       "       [-0.06716126, -0.05222267, -0.06161373, ..., -0.00898446,\n",
       "         0.06429867,  0.03547104],\n",
       "       [-0.06261738,  0.04040914,  0.03574505, ...,  0.00926976,\n",
       "         0.03823737, -0.04303818],\n",
       "       [-0.04582891,  0.06553324,  0.06384683, ..., -0.06706809,\n",
       "        -0.02878686, -0.01392592]], dtype=float32)"
      ]
     },
     "execution_count": 45,
     "metadata": {},
     "output_type": "execute_result"
    }
   ],
   "source": [
    "weights"
   ]
  },
  {
   "cell_type": "code",
   "execution_count": null,
   "metadata": {
    "colab": {
     "base_uri": "https://localhost:8080/"
    },
    "id": "9HXgpH2RgETp",
    "outputId": "2344ab4f-29b1-40d1-e0eb-1872cee6a8f6"
   },
   "outputs": [
    {
     "data": {
      "text/plain": [
       "array([ 5.95638044e-02,  2.11138371e-03,  3.55569227e-03, -5.46730543e-03,\n",
       "        9.32975858e-02,  1.54237956e-01,  1.29158422e-01, -4.11729235e-03,\n",
       "       -1.12048984e-01, -1.18702482e-02,  8.43935683e-02, -1.34162093e-02,\n",
       "        1.15127854e-01, -7.22457543e-02, -3.84623162e-03,  1.28166631e-01,\n",
       "        3.39813009e-02,  5.00343964e-02, -2.76890714e-02, -8.41617398e-03,\n",
       "        1.17802016e-01,  1.36785775e-01,  1.74466390e-02,  4.40336689e-02,\n",
       "       -1.52477816e-01,  1.55393006e-02,  2.27227472e-02,  1.55199952e-02,\n",
       "        1.13497404e-02, -1.86971389e-02, -2.42794845e-02, -2.58617074e-04,\n",
       "        1.52591011e-02,  7.80644864e-02,  8.67439508e-02, -5.54097351e-03,\n",
       "        1.03070572e-01, -2.10545827e-02,  6.57791346e-02, -2.83504650e-02,\n",
       "        1.27219930e-01,  2.10082486e-01,  1.25805303e-01,  5.58400303e-02,\n",
       "        8.87760986e-03,  8.51259567e-03,  3.24539356e-02,  2.35870350e-02,\n",
       "        1.34946750e-02,  1.64472417e-03,  5.95640019e-03,  9.65701938e-02,\n",
       "        1.26140386e-01,  2.08811224e-01,  5.49121201e-02,  1.34064108e-01,\n",
       "       -5.86693436e-02,  6.82802871e-02,  2.18627825e-02,  2.72725411e-02,\n",
       "       -3.32748778e-02,  4.31240126e-02,  4.09853198e-02,  5.51998578e-02,\n",
       "       -5.07830381e-02,  1.65949911e-01,  7.86416605e-02,  1.09992094e-01,\n",
       "        9.63139236e-02,  6.39066845e-02,  9.42411646e-02,  3.38192545e-02,\n",
       "       -8.33661109e-02,  2.55438965e-02,  7.29263127e-02,  2.82122567e-02,\n",
       "        1.18342467e-01,  5.84602803e-02,  8.88753757e-02, -4.60189693e-02,\n",
       "       -1.20210955e-02, -1.44298850e-02,  2.30324408e-03, -1.80961844e-02,\n",
       "       -6.23058788e-02,  1.06716059e-01,  2.20731786e-03,  2.88267992e-02,\n",
       "        2.60038655e-02, -3.07749547e-02, -1.74336471e-02, -4.80659259e-03,\n",
       "       -2.61273831e-02, -1.07719237e-02,  7.96909332e-02, -4.46841419e-02,\n",
       "        2.42301058e-02,  5.59072085e-02,  8.72047916e-02, -2.97544263e-02,\n",
       "       -6.72388868e-03,  1.35429338e-01,  9.00619924e-02, -2.23149732e-03,\n",
       "       -3.39449383e-03,  8.63790512e-02,  3.43168341e-02,  6.54661581e-02,\n",
       "       -1.08455131e-02,  1.71411917e-01,  1.83419734e-01,  4.79122475e-02,\n",
       "       -2.90754810e-02, -9.08882394e-02,  1.24527715e-01,  1.02868676e-01,\n",
       "        8.65202248e-02, -1.36173172e-02,  1.48815075e-02,  1.99475482e-01,\n",
       "       -1.82810575e-02,  3.22164632e-02,  2.57323515e-02, -1.70767177e-02,\n",
       "       -5.30845188e-02,  3.76439514e-03,  7.23710880e-02, -5.30664669e-03,\n",
       "        1.36229932e-01,  1.76167995e-01,  8.90939757e-02,  1.05297431e-01,\n",
       "        1.42459776e-02, -2.79030036e-02,  1.69892795e-03, -2.16435790e-02,\n",
       "        1.83963940e-01,  1.66171491e-01,  1.22179732e-01,  6.13521598e-02,\n",
       "        1.89209729e-02,  6.11300431e-02,  1.84078798e-01, -7.55667780e-03,\n",
       "       -1.52484979e-02,  2.34129224e-02,  7.54550770e-02,  7.10578114e-02,\n",
       "       -1.12107415e-02,  9.25062224e-02,  4.08781916e-02,  2.79625393e-02,\n",
       "        1.73875503e-02, -5.85533828e-02,  1.97129231e-02,  8.97701159e-02,\n",
       "        3.49534631e-01,  2.61539593e-03,  8.40350837e-02, -4.51252470e-03,\n",
       "        1.18977517e-01, -5.55147640e-02,  2.38640830e-02, -9.64830350e-03,\n",
       "        1.16099184e-02,  5.66971153e-02,  1.47080541e-01,  1.55397832e-01,\n",
       "       -1.38618270e-04,  2.51638219e-02,  2.03033816e-03,  8.58015344e-02,\n",
       "        1.68375537e-01,  7.00124800e-02,  2.76432075e-02, -2.42391927e-03,\n",
       "       -8.45648232e-04,  3.25849764e-02,  7.65914693e-02, -1.10219218e-01,\n",
       "       -4.88471892e-03, -6.98319077e-02,  3.43376510e-02, -3.43793966e-02,\n",
       "       -5.36783831e-04,  1.23455979e-01,  1.88055765e-02,  2.48266179e-02,\n",
       "        1.97583381e-02,  3.80784310e-02,  6.14175992e-03, -1.75996386e-02,\n",
       "       -1.01467296e-01, -9.56425071e-03,  6.88123656e-03, -7.90218562e-02,\n",
       "        3.33963409e-02,  1.13828152e-01,  8.63224939e-02,  1.27170593e-01,\n",
       "        1.42147923e-02, -6.73123775e-03, -6.57710806e-02, -1.26659172e-03,\n",
       "        9.17449221e-02,  3.64405736e-02, -5.30011579e-03,  5.14701195e-02,\n",
       "        7.60424659e-02, -2.68020090e-02, -2.70521455e-02, -1.75064094e-02,\n",
       "       -4.11494123e-03, -6.20087003e-03,  6.38372228e-02, -5.17131872e-02,\n",
       "        1.30515054e-01,  1.51200024e-02, -6.66029379e-03, -5.14738411e-02,\n",
       "       -4.18125428e-02,  1.24370061e-01,  4.80806418e-02, -7.62250423e-02,\n",
       "        6.95310459e-02,  4.30763699e-02,  2.89176032e-02, -1.34319276e-01,\n",
       "        2.42071040e-02, -3.42708342e-02,  2.64763366e-02,  1.38569837e-02,\n",
       "        1.33499086e-01,  7.53708333e-02,  8.62856433e-02,  4.55098134e-03,\n",
       "        1.60602137e-01,  3.68069150e-02,  1.77394301e-01, -2.16694456e-02,\n",
       "        5.02621680e-02,  8.71128738e-02,  6.00280017e-02,  6.82778433e-02,\n",
       "        2.52400395e-02, -6.68901601e-04, -7.34556047e-03,  4.73197401e-02,\n",
       "       -9.31089371e-02,  1.57533452e-01, -5.57361580e-02, -5.98391891e-03,\n",
       "        1.55591052e-02,  1.81545150e-02, -4.35004346e-02,  1.13988571e-01,\n",
       "       -5.14876703e-03, -5.29506756e-03, -9.79559422e-02, -3.56942392e-03,\n",
       "       -8.72356966e-02,  8.48816261e-02, -1.37932803e-02,  1.87874474e-02,\n",
       "        5.99017367e-02,  6.66102320e-02,  4.20017578e-02,  1.91453416e-02,\n",
       "        2.26623878e-01, -1.20635685e-02,  9.72489044e-02,  7.98541456e-02,\n",
       "        4.02987003e-02,  7.75777474e-02,  2.90857907e-02,  4.39414047e-02,\n",
       "        4.57736105e-03,  4.46507297e-02,  7.28474632e-02, -2.07155086e-02,\n",
       "        6.36652336e-02,  5.70070334e-02,  5.01589775e-02,  9.94424615e-03,\n",
       "       -1.01069482e-02, -4.70214151e-02,  8.58834106e-03, -1.16102956e-01,\n",
       "        3.01792077e-03,  4.39478382e-02,  3.66865098e-02,  1.10738866e-01,\n",
       "        3.84795032e-02,  1.54416114e-01, -4.15356904e-02,  5.26948832e-03,\n",
       "        1.37121156e-01,  2.65778694e-02,  6.20450750e-02,  2.02161193e-01],\n",
       "      dtype=float32)"
      ]
     },
     "execution_count": 46,
     "metadata": {},
     "output_type": "execute_result"
    }
   ],
   "source": [
    "biases"
   ]
  }
 ],
 "metadata": {
  "colab": {
   "name": "Image_classification_MLP.ipynb",
   "provenance": []
  },
  "kernelspec": {
   "display_name": "Python 3",
   "language": "python",
   "name": "python3"
  },
  "language_info": {
   "codemirror_mode": {
    "name": "ipython",
    "version": 3
   },
   "file_extension": ".py",
   "mimetype": "text/x-python",
   "name": "python",
   "nbconvert_exporter": "python",
   "pygments_lexer": "ipython3",
   "version": "3.8.8"
  }
 },
 "nbformat": 4,
 "nbformat_minor": 1
}
