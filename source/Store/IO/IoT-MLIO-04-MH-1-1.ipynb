{
  "nbformat": 4,
  "nbformat_minor": 0,
  "metadata": {
    "colab": {
      "name": "MiniHackthon.ipynb",
      "provenance": [],
      "collapsed_sections": []
    },
    "kernelspec": {
      "name": "python3",
      "display_name": "Python 3"
    },
    "accelerator": "GPU"
  },
  "cells": [
    {
      "cell_type": "markdown",
      "metadata": {
        "id": "hVMoZwHL4RTh"
      },
      "source": [
        "# IoT & Smart Analytics\n",
        "## A Program by IIIT-H and TalentSprint"
      ]
    },
    {
      "cell_type": "markdown",
      "metadata": {
        "id": "0vt5qAcHpBPO"
      },
      "source": [
        "## Setup Steps"
      ]
    },
    {
      "cell_type": "code",
      "metadata": {
        "id": "J6AtEQimwUDU",
        "outputId": "36a5b7bd-2de2-4edc-8aaf-eabf891107b5",
        "colab": {
          "base_uri": "https://localhost:8080/"
        },
        "cellView": "form"
      },
      "source": [
        "#@title Run this cell to download the dataset\n",
        "\n",
        "from IPython import get_ipython\n",
        "ipython = get_ipython()\n",
        "  \n",
        "notebook=\"U3_MH1_CNN_with_Pytorch\" #name of the notebook\n",
        "Answer = \"This notebook is graded by mentors on the day of hackathon\"\n",
        "def setup():\n",
        "# \n",
        "   ipython.magic(\"sx wget http://cdn.iiith.talentsprint.com/aiml/Experiment_related_data/Cat_Dog_data_B17.zip\")\n",
        "   ipython.magic(\"sx unzip -qq Cat_Dog_data_B17.zip\")\n",
        "   ipython.magic(\"sx wget  https://cdn.extras.talentsprint.com/IOT/Data/Chiller_Power_Consumption.xlsx\")\n",
        "   print (\"Setup completed successfully\")\n",
        "   return\n",
        "\n",
        "setup()"
      ],
      "execution_count": null,
      "outputs": [
        {
          "output_type": "stream",
          "name": "stdout",
          "text": [
            "Setup completed successfully\n"
          ]
        }
      ]
    },
    {
      "cell_type": "markdown",
      "metadata": {
        "id": "NLECiqpcdQTQ"
      },
      "source": [
        "### Import Libraries and packages"
      ]
    },
    {
      "cell_type": "code",
      "metadata": {
        "id": "MXq346qzqCdh"
      },
      "source": [
        "# Import Libraries\n",
        "import numpy as np\n",
        "import pandas as pd\n",
        "import matplotlib.pyplot as plt\n",
        "import matplotlib as mpl\n",
        "from sklearn.model_selection import train_test_split \n",
        "from sklearn.linear_model import LinearRegression\n",
        "from sklearn.metrics import mean_squared_error\n",
        "from IPython import display\n",
        "from tensorflow import keras\n",
        "from tensorflow.keras.models import Sequential\n",
        "from tensorflow.keras.layers import Conv2D, MaxPooling2D, Dense, Dropout, Flatten\n",
        "from tensorflow.keras.preprocessing.image import ImageDataGenerator\n",
        "from tensorflow.keras.optimizers import RMSprop\n",
        "import warnings\n",
        "warnings.filterwarnings(\"ignore\")"
      ],
      "execution_count": null,
      "outputs": []
    },
    {
      "cell_type": "markdown",
      "metadata": {
        "id": "4EX7dr584we6"
      },
      "source": [
        "## Problem Statement: 1"
      ]
    },
    {
      "cell_type": "markdown",
      "metadata": {
        "id": "MjsV_asO4yL_"
      },
      "source": [
        "To identify and classify images as cats or dogs"
      ]
    },
    {
      "cell_type": "markdown",
      "metadata": {
        "id": "YnkmRa9Uozvd"
      },
      "source": [
        "## Dataset\n",
        "\n",
        "The Dogs and Cats dataset is a standard computer vision dataset that involves classifying photos as either containing a dog or cat. The train folder contains ~22k images of dogs and cats. Each image in this folder has the label as part of the filename. The test folder contains ~2k images, named according to a numeric id. "
      ]
    },
    {
      "cell_type": "markdown",
      "source": [
        "#### **Stage 1:** Display one image of both cat and dog (Marks:5)\n",
        "Hint: Use Image method on display from Ipython library and pass the path of a particular image"
      ],
      "metadata": {
        "id": "S20etgA2_Kp1"
      }
    },
    {
      "cell_type": "code",
      "source": [
        "print(\"Sample Image of a cat : \\n \")\n",
        "## Your code here\n",
        "\n"
      ],
      "metadata": {
        "id": "vy5Mt8Dd7wk8"
      },
      "execution_count": null,
      "outputs": []
    },
    {
      "cell_type": "code",
      "source": [
        "print(\"Sample Image of a dog : \\n \")\n",
        "## Your code here\n"
      ],
      "metadata": {
        "id": "JUienyp_AI9L"
      },
      "execution_count": null,
      "outputs": []
    },
    {
      "cell_type": "markdown",
      "metadata": {
        "id": "A-B9q2loRGyH"
      },
      "source": [
        "### **Stage 2:** Importing data, transformation,& augmentation (Marks:15)\n",
        "\n",
        "Use [ImageDataGenerator](https://www.tensorflow.org/api_docs/python/tf/keras/preprocessing/image/ImageDataGenerator)  and [flow_from_directory](https://www.tensorflow.org/api_docs/python/tf/keras/preprocessing/image/ImageDataGenerator#flow_from_directory)that generates batches of tensor image data with transformation & real-time data augmentation. \n",
        "\n",
        "1. Augmentation :\n",
        "      rotation_range=40,\n",
        "      width_shift_range=0.2,\n",
        "      height_shift_range=0.2,\n",
        "      shear_range=0.2,\n",
        "      zoom_range=0.2,\n",
        "      horizontal_flip=True,\n",
        "      fill_mode='nearest'\n",
        "2. Transform image size to 128 :target_size=(128, 128)\n",
        "\n",
        "3. Convert image to Grayscale : color_mode=\"grayscale\"\n",
        "\n",
        "* To load images from the directory, it takes the path to a directory & generates batches of augmented data.\n"
      ]
    },
    {
      "cell_type": "markdown",
      "source": [
        "#### Training data generator"
      ],
      "metadata": {
        "id": "WbTpR5UNWZ5B"
      }
    },
    {
      "cell_type": "code",
      "source": [
        "TRAINING_DIR = \"/content/Cat_Dog_data/train\"\n",
        "\n",
        "train_datagen = ImageDataGenerator( \n",
        "    \n",
        "    ## Your code here                                                                     \n",
        "                             )\n",
        "\n",
        "train_generator = train_datagen.flow_from_directory(\n",
        "    \n",
        "    ## Your code here\n",
        "                                                    )"
      ],
      "metadata": {
        "id": "wVs4dlZzw5KE"
      },
      "execution_count": null,
      "outputs": []
    },
    {
      "cell_type": "markdown",
      "source": [
        "#### Validation data generator"
      ],
      "metadata": {
        "id": "BBukGTTOWIMa"
      }
    },
    {
      "cell_type": "code",
      "source": [
        "VALIDATION_DIR = \"/content/Cat_Dog_data/test\"\n",
        "\n",
        "validation_datagen = ## Your code here\n",
        "\n",
        "validation_generator = ## Your code here\n"
      ],
      "metadata": {
        "id": "JDwD2YbYWIio"
      },
      "execution_count": null,
      "outputs": []
    },
    {
      "cell_type": "markdown",
      "metadata": {
        "id": "m9Yv-pcJVHYh"
      },
      "source": [
        "### **Stage3:** Building CNN Model (Marks: 20)"
      ]
    },
    {
      "cell_type": "code",
      "source": [
        "# DEFINE A KERAS MODEL TO CLASSIFY CATS V DOGS\n",
        "# USE AT LEAST 4 CONVOLUTION LAYERS\n",
        "## Your Code here\n",
        "model = Sequential([\n",
        "                    ## Your code here\n",
        "])\n"
      ],
      "metadata": {
        "id": "PlJ4QLS1xfVD"
      },
      "execution_count": null,
      "outputs": []
    },
    {
      "cell_type": "markdown",
      "source": [
        "### **Stage4:** Model Compilation (Marks: 5)\n",
        "use:\n",
        "\n",
        "optimizer=RMSprop\n",
        "\n",
        "metrics=['accuracy']"
      ],
      "metadata": {
        "id": "P1Ftd2KzWyD0"
      }
    },
    {
      "cell_type": "code",
      "source": [
        "## Your code here "
      ],
      "metadata": {
        "id": "bM4wz56ZW3AY"
      },
      "execution_count": null,
      "outputs": []
    },
    {
      "cell_type": "markdown",
      "source": [
        "### **Stage5:** Training the model(Marks: 5)\n",
        "* Use train_generator and validation_generator\n",
        "* Start epoch 3 initially(It will take 5/10 minutes to train) and then increase the number of epoch to increase accuracy, "
      ],
      "metadata": {
        "id": "TB-lpzZ5W_nA"
      }
    },
    {
      "cell_type": "code",
      "source": [
        "history = model.fit(\n",
        "    ## Your code here\n",
        "     )\n",
        "# The expectation here is that the model will train, and that accuracy will be > 95% \n"
      ],
      "metadata": {
        "id": "emPTR77hykVX"
      },
      "execution_count": null,
      "outputs": []
    },
    {
      "cell_type": "markdown",
      "source": [
        "### **Stage 6:** Plotting training and validation loss & accuracy (Marks: 5)\n",
        "\n",
        "Use :\n",
        "\n",
        "  For training accuracy : history.history['accuracy'] \n",
        "\n",
        "  For training loss : loss=history.history['loss']\n",
        "\n",
        "  For validation accuracy :val_acc=history.history['val_accuracy']\n",
        "\n",
        "  For validation loss :val_loss=history.history['val_loss']\n",
        "\n",
        "  Finally plot these with number of epoch on x-asis."
      ],
      "metadata": {
        "id": "D6mobmf7Bbf6"
      }
    },
    {
      "cell_type": "code",
      "source": [
        "# PLOT LOSS AND ACCURACY\n",
        "%matplotlib inline\n",
        "\n",
        "import matplotlib.image  as mpimg\n",
        "## Your code here\n"
      ],
      "metadata": {
        "id": "MvA68XqyBb1J"
      },
      "execution_count": null,
      "outputs": []
    },
    {
      "cell_type": "markdown",
      "source": [
        "## Problem Statement: 2\n",
        "\n",
        "Chiller Power Consumption Prediction\n",
        "\n",
        "The dataset consists of five columns and 261 rows. Here the last column is the power consumed by a cooling system of a data centre.  The power comsumed by cooling system depends on outside ambient air temperature(OAT), Relative humidity(RH),and  Power consumed by the IT equipments (IT Load) which are the First three features. These data taken by different sensors and energy meters deployed at the data center site.\n",
        "\n",
        "**File names :**\n",
        "\n",
        "* Chiller_Power_Consumption.xlsx\n"
      ],
      "metadata": {
        "id": "E2CGHGmqcig5"
      }
    },
    {
      "cell_type": "markdown",
      "source": [
        "### **Stage 1**: Load the data (Marks 4)"
      ],
      "metadata": {
        "id": "SmWKbUZ0eT7A"
      }
    },
    {
      "cell_type": "code",
      "source": [
        "# Chiller power data\n",
        "## Your Code here\n"
      ],
      "metadata": {
        "id": "EGMKCDHeeTpz"
      },
      "execution_count": null,
      "outputs": []
    },
    {
      "cell_type": "markdown",
      "source": [
        "### **Stage 2**: Visualizing the data (Marks 4)  "
      ],
      "metadata": {
        "id": "ocDQ3NNWfJyo"
      }
    },
    {
      "cell_type": "code",
      "source": [
        "## Your code here"
      ],
      "metadata": {
        "id": "rjGRZ8M6frS7"
      },
      "execution_count": null,
      "outputs": []
    },
    {
      "cell_type": "markdown",
      "source": [
        "### **Stage 3**: Split the data into features and output and perform train test splot (Marks 4) "
      ],
      "metadata": {
        "id": "pIqt4X_TfULM"
      }
    },
    {
      "cell_type": "code",
      "source": [
        "## Your code here"
      ],
      "metadata": {
        "id": "HlRRe0nrfvU4"
      },
      "execution_count": null,
      "outputs": []
    },
    {
      "cell_type": "markdown",
      "source": [
        "### **Stage 4**: Use Multivariable Regression & Calculate the Accuracy(RMSE)  (Marks : 10)"
      ],
      "metadata": {
        "id": "5dhz8Uadf0UC"
      }
    },
    {
      "cell_type": "code",
      "source": [
        "## Your code here"
      ],
      "metadata": {
        "id": "CcBaswzugoTG"
      },
      "execution_count": null,
      "outputs": []
    },
    {
      "cell_type": "markdown",
      "source": [
        "### **Stage 5**: Use Decision Tree Regressor & Calculate the Accuracy(RMSE)  (Marks : 10)"
      ],
      "metadata": {
        "id": "yEcvoHLZgsWA"
      }
    },
    {
      "cell_type": "code",
      "source": [
        "## Your code here"
      ],
      "metadata": {
        "id": "9A6gnCqxgrWr"
      },
      "execution_count": null,
      "outputs": []
    },
    {
      "cell_type": "markdown",
      "source": [
        "### **Stage 6**: Use Random Forest  Regressor & Calculate the Accuracy(RMSE)  (Marks : 10)"
      ],
      "metadata": {
        "id": "FbQIopVeg4pL"
      }
    },
    {
      "cell_type": "code",
      "source": [
        "## Your code here"
      ],
      "metadata": {
        "id": "hPcvjptBg_rg"
      },
      "execution_count": null,
      "outputs": []
    },
    {
      "cell_type": "markdown",
      "source": [
        "### **Stage 7**: Campare all above model and write your observation (3 Marks)"
      ],
      "metadata": {
        "id": "uy7_ET6ahZHi"
      }
    }
  ]
}