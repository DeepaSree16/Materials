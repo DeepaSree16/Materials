{
 "cells": [
  {
   "cell_type": "markdown",
   "id": "98cd044b",
   "metadata": {
    "id": "98cd044b"
   },
   "source": [
    "# IoT & Smart Analytics\n",
    "## A Program by IIIT-H and TalentSprint\n"
   ]
  },
  {
   "cell_type": "markdown",
   "id": "-7GtRvrreB-y",
   "metadata": {
    "id": "-7GtRvrreB-y"
   },
   "source": [
    "#### This is a Graded workbook."
   ]
  },
  {
   "cell_type": "markdown",
   "id": "XgdH6EXEeFoo",
   "metadata": {
    "id": "XgdH6EXEeFoo"
   },
   "source": [
    "#### Please enter your registration id \n",
    "Id = \"-------\""
   ]
  },
  {
   "cell_type": "markdown",
   "id": "FRd2ZPhqeJ08",
   "metadata": {
    "id": "FRd2ZPhqeJ08"
   },
   "source": [
    "#### Please enter your Name \n",
    "\n",
    "Name = \"-------\""
   ]
  },
  {
   "cell_type": "markdown",
   "id": "602a4552",
   "metadata": {
    "id": "602a4552"
   },
   "source": [
    "#### Importing Required Packages"
   ]
  },
  {
   "cell_type": "code",
   "execution_count": 3,
   "id": "4a2446d4",
   "metadata": {
    "id": "4a2446d4"
   },
   "outputs": [],
   "source": [
    "import pandas as pd\n",
    "from sklearn.preprocessing import StandardScaler\n",
    "from sklearn.decomposition import PCA\n",
    "import matplotlib.pyplot as plt"
   ]
  },
  {
   "cell_type": "markdown",
   "id": "_LPi_NC2SaLP",
   "metadata": {
    "id": "_LPi_NC2SaLP"
   },
   "source": [
    "### PCA"
   ]
  },
  {
   "cell_type": "markdown",
   "id": "c03e86d1",
   "metadata": {
    "id": "c03e86d1"
   },
   "source": [
    "#### Uploading & understanding the data\n",
    "It is an occupancy monitoring dataset, which contains readings from multiple sensors deployed inside a room at different locations and collects data related to different parameters viz. temperature, light, sound, CO2, etc.The occupancy inside the room is also recorded and included in the dataset. This dataset has been used to develop a model for predicting occupancy (Target) using remaining all features recorded by sensors. \n"
   ]
  },
  {
   "cell_type": "code",
   "execution_count": 4,
   "id": "0329e874",
   "metadata": {
    "colab": {
     "base_uri": "https://localhost:8080/",
     "height": 270
    },
    "id": "0329e874",
    "outputId": "91083aca-7cc2-43e6-f2aa-331b922d6a24"
   },
   "outputs": [
    {
     "data": {
      "text/html": [
       "\n",
       "  <div id=\"df-38e480f7-a8ef-45e0-b54d-6b764bfbf123\">\n",
       "    <div class=\"colab-df-container\">\n",
       "      <div>\n",
       "<style scoped>\n",
       "    .dataframe tbody tr th:only-of-type {\n",
       "        vertical-align: middle;\n",
       "    }\n",
       "\n",
       "    .dataframe tbody tr th {\n",
       "        vertical-align: top;\n",
       "    }\n",
       "\n",
       "    .dataframe thead th {\n",
       "        text-align: right;\n",
       "    }\n",
       "</style>\n",
       "<table border=\"1\" class=\"dataframe\">\n",
       "  <thead>\n",
       "    <tr style=\"text-align: right;\">\n",
       "      <th></th>\n",
       "      <th>Date</th>\n",
       "      <th>Time</th>\n",
       "      <th>S1_Temp</th>\n",
       "      <th>S2_Temp</th>\n",
       "      <th>S3_Temp</th>\n",
       "      <th>S4_Temp</th>\n",
       "      <th>S1_Light</th>\n",
       "      <th>S2_Light</th>\n",
       "      <th>S3_Light</th>\n",
       "      <th>S4_Light</th>\n",
       "      <th>S1_Sound</th>\n",
       "      <th>S2_Sound</th>\n",
       "      <th>S3_Sound</th>\n",
       "      <th>S4_Sound</th>\n",
       "      <th>S5_CO2</th>\n",
       "      <th>S5_CO2_Slope</th>\n",
       "      <th>S6_PIR</th>\n",
       "      <th>S7_PIR</th>\n",
       "      <th>Room_Occupancy_Count</th>\n",
       "    </tr>\n",
       "  </thead>\n",
       "  <tbody>\n",
       "    <tr>\n",
       "      <th>0</th>\n",
       "      <td>2017/12/22</td>\n",
       "      <td>10:49:41</td>\n",
       "      <td>24.94</td>\n",
       "      <td>24.75</td>\n",
       "      <td>24.56</td>\n",
       "      <td>25.38</td>\n",
       "      <td>121</td>\n",
       "      <td>34</td>\n",
       "      <td>53</td>\n",
       "      <td>40</td>\n",
       "      <td>0.08</td>\n",
       "      <td>0.19</td>\n",
       "      <td>0.06</td>\n",
       "      <td>0.06</td>\n",
       "      <td>390</td>\n",
       "      <td>0.769231</td>\n",
       "      <td>0</td>\n",
       "      <td>0</td>\n",
       "      <td>1</td>\n",
       "    </tr>\n",
       "    <tr>\n",
       "      <th>1</th>\n",
       "      <td>2017/12/22</td>\n",
       "      <td>10:50:12</td>\n",
       "      <td>24.94</td>\n",
       "      <td>24.75</td>\n",
       "      <td>24.56</td>\n",
       "      <td>25.44</td>\n",
       "      <td>121</td>\n",
       "      <td>33</td>\n",
       "      <td>53</td>\n",
       "      <td>40</td>\n",
       "      <td>0.93</td>\n",
       "      <td>0.05</td>\n",
       "      <td>0.06</td>\n",
       "      <td>0.06</td>\n",
       "      <td>390</td>\n",
       "      <td>0.646154</td>\n",
       "      <td>0</td>\n",
       "      <td>0</td>\n",
       "      <td>1</td>\n",
       "    </tr>\n",
       "    <tr>\n",
       "      <th>2</th>\n",
       "      <td>2017/12/22</td>\n",
       "      <td>10:50:42</td>\n",
       "      <td>25.00</td>\n",
       "      <td>24.75</td>\n",
       "      <td>24.50</td>\n",
       "      <td>25.44</td>\n",
       "      <td>121</td>\n",
       "      <td>34</td>\n",
       "      <td>53</td>\n",
       "      <td>40</td>\n",
       "      <td>0.43</td>\n",
       "      <td>0.11</td>\n",
       "      <td>0.08</td>\n",
       "      <td>0.06</td>\n",
       "      <td>390</td>\n",
       "      <td>0.519231</td>\n",
       "      <td>0</td>\n",
       "      <td>0</td>\n",
       "      <td>1</td>\n",
       "    </tr>\n",
       "    <tr>\n",
       "      <th>3</th>\n",
       "      <td>2017/12/22</td>\n",
       "      <td>10:51:13</td>\n",
       "      <td>25.00</td>\n",
       "      <td>24.75</td>\n",
       "      <td>24.56</td>\n",
       "      <td>25.44</td>\n",
       "      <td>121</td>\n",
       "      <td>34</td>\n",
       "      <td>53</td>\n",
       "      <td>40</td>\n",
       "      <td>0.41</td>\n",
       "      <td>0.10</td>\n",
       "      <td>0.10</td>\n",
       "      <td>0.09</td>\n",
       "      <td>390</td>\n",
       "      <td>0.388462</td>\n",
       "      <td>0</td>\n",
       "      <td>0</td>\n",
       "      <td>1</td>\n",
       "    </tr>\n",
       "    <tr>\n",
       "      <th>4</th>\n",
       "      <td>2017/12/22</td>\n",
       "      <td>10:51:44</td>\n",
       "      <td>25.00</td>\n",
       "      <td>24.75</td>\n",
       "      <td>24.56</td>\n",
       "      <td>25.44</td>\n",
       "      <td>121</td>\n",
       "      <td>34</td>\n",
       "      <td>54</td>\n",
       "      <td>40</td>\n",
       "      <td>0.18</td>\n",
       "      <td>0.06</td>\n",
       "      <td>0.06</td>\n",
       "      <td>0.06</td>\n",
       "      <td>390</td>\n",
       "      <td>0.253846</td>\n",
       "      <td>0</td>\n",
       "      <td>0</td>\n",
       "      <td>1</td>\n",
       "    </tr>\n",
       "  </tbody>\n",
       "</table>\n",
       "</div>\n",
       "      <button class=\"colab-df-convert\" onclick=\"convertToInteractive('df-38e480f7-a8ef-45e0-b54d-6b764bfbf123')\"\n",
       "              title=\"Convert this dataframe to an interactive table.\"\n",
       "              style=\"display:none;\">\n",
       "        \n",
       "  <svg xmlns=\"http://www.w3.org/2000/svg\" height=\"24px\"viewBox=\"0 0 24 24\"\n",
       "       width=\"24px\">\n",
       "    <path d=\"M0 0h24v24H0V0z\" fill=\"none\"/>\n",
       "    <path d=\"M18.56 5.44l.94 2.06.94-2.06 2.06-.94-2.06-.94-.94-2.06-.94 2.06-2.06.94zm-11 1L8.5 8.5l.94-2.06 2.06-.94-2.06-.94L8.5 2.5l-.94 2.06-2.06.94zm10 10l.94 2.06.94-2.06 2.06-.94-2.06-.94-.94-2.06-.94 2.06-2.06.94z\"/><path d=\"M17.41 7.96l-1.37-1.37c-.4-.4-.92-.59-1.43-.59-.52 0-1.04.2-1.43.59L10.3 9.45l-7.72 7.72c-.78.78-.78 2.05 0 2.83L4 21.41c.39.39.9.59 1.41.59.51 0 1.02-.2 1.41-.59l7.78-7.78 2.81-2.81c.8-.78.8-2.07 0-2.86zM5.41 20L4 18.59l7.72-7.72 1.47 1.35L5.41 20z\"/>\n",
       "  </svg>\n",
       "      </button>\n",
       "      \n",
       "  <style>\n",
       "    .colab-df-container {\n",
       "      display:flex;\n",
       "      flex-wrap:wrap;\n",
       "      gap: 12px;\n",
       "    }\n",
       "\n",
       "    .colab-df-convert {\n",
       "      background-color: #E8F0FE;\n",
       "      border: none;\n",
       "      border-radius: 50%;\n",
       "      cursor: pointer;\n",
       "      display: none;\n",
       "      fill: #1967D2;\n",
       "      height: 32px;\n",
       "      padding: 0 0 0 0;\n",
       "      width: 32px;\n",
       "    }\n",
       "\n",
       "    .colab-df-convert:hover {\n",
       "      background-color: #E2EBFA;\n",
       "      box-shadow: 0px 1px 2px rgba(60, 64, 67, 0.3), 0px 1px 3px 1px rgba(60, 64, 67, 0.15);\n",
       "      fill: #174EA6;\n",
       "    }\n",
       "\n",
       "    [theme=dark] .colab-df-convert {\n",
       "      background-color: #3B4455;\n",
       "      fill: #D2E3FC;\n",
       "    }\n",
       "\n",
       "    [theme=dark] .colab-df-convert:hover {\n",
       "      background-color: #434B5C;\n",
       "      box-shadow: 0px 1px 3px 1px rgba(0, 0, 0, 0.15);\n",
       "      filter: drop-shadow(0px 1px 2px rgba(0, 0, 0, 0.3));\n",
       "      fill: #FFFFFF;\n",
       "    }\n",
       "  </style>\n",
       "\n",
       "      <script>\n",
       "        const buttonEl =\n",
       "          document.querySelector('#df-38e480f7-a8ef-45e0-b54d-6b764bfbf123 button.colab-df-convert');\n",
       "        buttonEl.style.display =\n",
       "          google.colab.kernel.accessAllowed ? 'block' : 'none';\n",
       "\n",
       "        async function convertToInteractive(key) {\n",
       "          const element = document.querySelector('#df-38e480f7-a8ef-45e0-b54d-6b764bfbf123');\n",
       "          const dataTable =\n",
       "            await google.colab.kernel.invokeFunction('convertToInteractive',\n",
       "                                                     [key], {});\n",
       "          if (!dataTable) return;\n",
       "\n",
       "          const docLinkHtml = 'Like what you see? Visit the ' +\n",
       "            '<a target=\"_blank\" href=https://colab.research.google.com/notebooks/data_table.ipynb>data table notebook</a>'\n",
       "            + ' to learn more about interactive tables.';\n",
       "          element.innerHTML = '';\n",
       "          dataTable['output_type'] = 'display_data';\n",
       "          await google.colab.output.renderOutput(dataTable, element);\n",
       "          const docLink = document.createElement('div');\n",
       "          docLink.innerHTML = docLinkHtml;\n",
       "          element.appendChild(docLink);\n",
       "        }\n",
       "      </script>\n",
       "    </div>\n",
       "  </div>\n",
       "  "
      ],
      "text/plain": [
       "         Date      Time  S1_Temp  S2_Temp  S3_Temp  S4_Temp  S1_Light  \\\n",
       "0  2017/12/22  10:49:41    24.94    24.75    24.56    25.38       121   \n",
       "1  2017/12/22  10:50:12    24.94    24.75    24.56    25.44       121   \n",
       "2  2017/12/22  10:50:42    25.00    24.75    24.50    25.44       121   \n",
       "3  2017/12/22  10:51:13    25.00    24.75    24.56    25.44       121   \n",
       "4  2017/12/22  10:51:44    25.00    24.75    24.56    25.44       121   \n",
       "\n",
       "   S2_Light  S3_Light  S4_Light  S1_Sound  S2_Sound  S3_Sound  S4_Sound  \\\n",
       "0        34        53        40      0.08      0.19      0.06      0.06   \n",
       "1        33        53        40      0.93      0.05      0.06      0.06   \n",
       "2        34        53        40      0.43      0.11      0.08      0.06   \n",
       "3        34        53        40      0.41      0.10      0.10      0.09   \n",
       "4        34        54        40      0.18      0.06      0.06      0.06   \n",
       "\n",
       "   S5_CO2  S5_CO2_Slope  S6_PIR  S7_PIR  Room_Occupancy_Count  \n",
       "0     390      0.769231       0       0                     1  \n",
       "1     390      0.646154       0       0                     1  \n",
       "2     390      0.519231       0       0                     1  \n",
       "3     390      0.388462       0       0                     1  \n",
       "4     390      0.253846       0       0                     1  "
      ]
     },
     "execution_count": 4,
     "metadata": {},
     "output_type": "execute_result"
    }
   ],
   "source": [
    "df_occupancy = pd.read_csv('/content/Occupancy.csv')\n",
    "df_occupancy.head()"
   ]
  },
  {
   "cell_type": "code",
   "execution_count": 5,
   "id": "7daee727",
   "metadata": {
    "colab": {
     "base_uri": "https://localhost:8080/"
    },
    "id": "7daee727",
    "outputId": "377a6d54-fa03-4506-cf44-f0960caa7444"
   },
   "outputs": [
    {
     "name": "stdout",
     "output_type": "stream",
     "text": [
      "<class 'pandas.core.frame.DataFrame'>\n",
      "RangeIndex: 10129 entries, 0 to 10128\n",
      "Data columns (total 19 columns):\n",
      " #   Column                Non-Null Count  Dtype  \n",
      "---  ------                --------------  -----  \n",
      " 0   Date                  10129 non-null  object \n",
      " 1   Time                  10129 non-null  object \n",
      " 2   S1_Temp               10129 non-null  float64\n",
      " 3   S2_Temp               10129 non-null  float64\n",
      " 4   S3_Temp               10129 non-null  float64\n",
      " 5   S4_Temp               10129 non-null  float64\n",
      " 6   S1_Light              10129 non-null  int64  \n",
      " 7   S2_Light              10129 non-null  int64  \n",
      " 8   S3_Light              10129 non-null  int64  \n",
      " 9   S4_Light              10129 non-null  int64  \n",
      " 10  S1_Sound              10129 non-null  float64\n",
      " 11  S2_Sound              10129 non-null  float64\n",
      " 12  S3_Sound              10129 non-null  float64\n",
      " 13  S4_Sound              10129 non-null  float64\n",
      " 14  S5_CO2                10129 non-null  int64  \n",
      " 15  S5_CO2_Slope          10129 non-null  float64\n",
      " 16  S6_PIR                10129 non-null  int64  \n",
      " 17  S7_PIR                10129 non-null  int64  \n",
      " 18  Room_Occupancy_Count  10129 non-null  int64  \n",
      "dtypes: float64(9), int64(8), object(2)\n",
      "memory usage: 1.5+ MB\n"
     ]
    }
   ],
   "source": [
    "df_occupancy.info()"
   ]
  },
  {
   "cell_type": "markdown",
   "id": "7e500767",
   "metadata": {
    "id": "7e500767"
   },
   "source": [
    "#### Seperating the Data into Features(x) and Target column(y)\n",
    "* Total Components/Features in dataset = 15"
   ]
  },
  {
   "cell_type": "code",
   "execution_count": null,
   "id": "2a8975e7",
   "metadata": {
    "id": "2a8975e7",
    "outputId": "774071c9-7a59-4362-a5d0-a97304e2ca6e"
   },
   "outputs": [
    {
     "name": "stdout",
     "output_type": "stream",
     "text": [
      "<class 'pandas.core.frame.DataFrame'>\n",
      "RangeIndex: 10129 entries, 0 to 10128\n",
      "Data columns (total 15 columns):\n",
      " #   Column        Non-Null Count  Dtype  \n",
      "---  ------        --------------  -----  \n",
      " 0   S1_Temp       10129 non-null  float64\n",
      " 1   S2_Temp       10129 non-null  float64\n",
      " 2   S3_Temp       10129 non-null  float64\n",
      " 3   S4_Temp       10129 non-null  float64\n",
      " 4   S1_Light      10129 non-null  int64  \n",
      " 5   S2_Light      10129 non-null  int64  \n",
      " 6   S3_Light      10129 non-null  int64  \n",
      " 7   S4_Light      10129 non-null  int64  \n",
      " 8   S1_Sound      10129 non-null  float64\n",
      " 9   S2_Sound      10129 non-null  float64\n",
      " 10  S3_Sound      10129 non-null  float64\n",
      " 11  S4_Sound      10129 non-null  float64\n",
      " 12  S5_CO2        10129 non-null  int64  \n",
      " 13  S5_CO2_Slope  10129 non-null  float64\n",
      " 14  S6_PIR        10129 non-null  int64  \n",
      "dtypes: float64(9), int64(6)\n",
      "memory usage: 1.2 MB\n"
     ]
    }
   ],
   "source": [
    "x = df_occupancy.iloc[:, 2:17]\n",
    "y = df_occupancy.iloc[:, 18]\n",
    "x.info()"
   ]
  },
  {
   "cell_type": "code",
   "execution_count": null,
   "id": "d6768e7f",
   "metadata": {
    "id": "d6768e7f",
    "outputId": "ff74f8a4-29ce-4865-a738-ad039250544a"
   },
   "outputs": [
    {
     "data": {
      "text/plain": [
       "0        1\n",
       "1        1\n",
       "2        1\n",
       "3        1\n",
       "4        1\n",
       "        ..\n",
       "10124    0\n",
       "10125    0\n",
       "10126    0\n",
       "10127    0\n",
       "10128    0\n",
       "Name: Room_Occupancy_Count, Length: 10129, dtype: int64"
      ]
     },
     "execution_count": 77,
     "metadata": {},
     "output_type": "execute_result"
    }
   ],
   "source": [
    "y"
   ]
  },
  {
   "cell_type": "markdown",
   "id": "c2d487d3",
   "metadata": {
    "id": "c2d487d3"
   },
   "source": [
    "#### Scaling the Data to prevent mis-interpretations \n",
    "* Each data column is scaled to prevent any specific column over influencing the PCA calculation"
   ]
  },
  {
   "cell_type": "code",
   "execution_count": null,
   "id": "106b5b73",
   "metadata": {
    "id": "106b5b73"
   },
   "outputs": [],
   "source": [
    "x_scaled = StandardScaler().fit_transform(x)"
   ]
  },
  {
   "cell_type": "code",
   "execution_count": null,
   "id": "bfe82e39",
   "metadata": {
    "id": "bfe82e39",
    "outputId": "93b07b41-0196-46c9-eb6d-6bc55b89966a"
   },
   "outputs": [
    {
     "data": {
      "text/plain": [
       "array([[-1.46303347, -1.35777517, -1.16233429, ..., -0.35438162,\n",
       "         0.66446859, -0.31474885],\n",
       "       [-1.46303347, -1.35777517, -1.16233429, ..., -0.35438162,\n",
       "         0.558817  , -0.31474885],\n",
       "       [-1.29225542, -1.35777517, -1.30276354, ..., -0.35438162,\n",
       "         0.4498638 , -0.31474885],\n",
       "       ...,\n",
       "       [-0.92223631, -0.82903247, -0.85807092, ..., -0.57943218,\n",
       "         0.00414617, -0.31474885],\n",
       "       [-0.92223631, -0.82903247, -0.85807092, ..., -0.57943218,\n",
       "         0.00414617, -0.31474885],\n",
       "       [-0.92223631, -0.82903247, -0.85807092, ..., -0.57943218,\n",
       "         0.00414617, -0.31474885]])"
      ]
     },
     "execution_count": 79,
     "metadata": {},
     "output_type": "execute_result"
    }
   ],
   "source": [
    "x_scaled"
   ]
  },
  {
   "cell_type": "markdown",
   "id": "fa4b588b",
   "metadata": {
    "id": "fa4b588b"
   },
   "source": [
    "#### Apply PCA and  find the following information :"
   ]
  },
  {
   "cell_type": "markdown",
   "id": "U9z35qgCgVgW",
   "metadata": {
    "id": "U9z35qgCgVgW"
   },
   "source": [
    "#### 1. Find the maximum number of features which are sufficient to represent more than 90% of variance in the dataset."
   ]
  },
  {
   "cell_type": "code",
   "execution_count": null,
   "id": "FfoxPvjQgj-K",
   "metadata": {
    "id": "FfoxPvjQgj-K"
   },
   "outputs": [],
   "source": [
    "## Your code here"
   ]
  },
  {
   "cell_type": "markdown",
   "id": "3l2xLdHMgnbU",
   "metadata": {
    "id": "3l2xLdHMgnbU"
   },
   "source": [
    "#### 2. Plot the feature vs explained variance ratio.\n",
    "\n",
    "\n",
    "\n"
   ]
  },
  {
   "cell_type": "code",
   "execution_count": null,
   "id": "ekSIK8Cog7KQ",
   "metadata": {
    "id": "ekSIK8Cog7KQ"
   },
   "outputs": [],
   "source": [
    "## Your code here"
   ]
  },
  {
   "cell_type": "markdown",
   "id": "ZSbHzOcjhaHt",
   "metadata": {
    "id": "ZSbHzOcjhaHt"
   },
   "source": [
    "#### 3. Get the transformed features "
   ]
  },
  {
   "cell_type": "code",
   "execution_count": null,
   "id": "yPfjBbQihZf4",
   "metadata": {
    "id": "yPfjBbQihZf4"
   },
   "outputs": [],
   "source": [
    "## Your code here"
   ]
  },
  {
   "cell_type": "markdown",
   "id": "Rkf8RLt2l5ES",
   "metadata": {
    "id": "Rkf8RLt2l5ES"
   },
   "source": [
    "### Data Munging\n",
    "#### 4. Upload 'BTU.csv' file & Display information"
   ]
  },
  {
   "cell_type": "code",
   "execution_count": null,
   "id": "5XcvkeqaQ9JF",
   "metadata": {
    "id": "5XcvkeqaQ9JF"
   },
   "outputs": [],
   "source": [
    "## Your code here"
   ]
  },
  {
   "cell_type": "markdown",
   "id": "hR_owLcwSktR",
   "metadata": {
    "id": "hR_owLcwSktR"
   },
   "source": [
    "#### 5. Rename columns name"
   ]
  },
  {
   "cell_type": "code",
   "execution_count": null,
   "id": "zqG9wsSASw5Z",
   "metadata": {
    "id": "zqG9wsSASw5Z"
   },
   "outputs": [],
   "source": [
    "## Your code here"
   ]
  },
  {
   "cell_type": "markdown",
   "id": "EAS96pDnSzsX",
   "metadata": {
    "id": "EAS96pDnSzsX"
   },
   "source": [
    "#### 6. Drop the first row"
   ]
  },
  {
   "cell_type": "code",
   "execution_count": null,
   "id": "nGXD3QIIS8dV",
   "metadata": {
    "id": "nGXD3QIIS8dV"
   },
   "outputs": [],
   "source": [
    "## Your code here"
   ]
  },
  {
   "cell_type": "markdown",
   "id": "-8nwjfUhRAKE",
   "metadata": {
    "id": "-8nwjfUhRAKE"
   },
   "source": [
    "#### 7. Convert all non-numeric values into NaN "
   ]
  },
  {
   "cell_type": "code",
   "execution_count": null,
   "id": "bz9ujiYbRWfQ",
   "metadata": {
    "id": "bz9ujiYbRWfQ"
   },
   "outputs": [],
   "source": [
    "## Your code here"
   ]
  },
  {
   "cell_type": "markdown",
   "id": "tewyeStERYYN",
   "metadata": {
    "id": "tewyeStERYYN"
   },
   "source": [
    "#### 8. Display and Drop all the NaN entries"
   ]
  },
  {
   "cell_type": "code",
   "execution_count": null,
   "id": "BPqHWA0rRqLp",
   "metadata": {
    "id": "BPqHWA0rRqLp"
   },
   "outputs": [],
   "source": [
    "## Your code here"
   ]
  },
  {
   "cell_type": "code",
   "execution_count": null,
   "id": "do_CFFz0RqVQ",
   "metadata": {
    "id": "do_CFFz0RqVQ"
   },
   "outputs": [],
   "source": [
    "## Your code here"
   ]
  },
  {
   "cell_type": "markdown",
   "id": "CZl05zs8RtKt",
   "metadata": {
    "id": "CZl05zs8RtKt"
   },
   "source": [
    "#### 9. Get mean values of a all the coumns"
   ]
  },
  {
   "cell_type": "code",
   "execution_count": 2,
   "id": "O1Fay_tgSBbl",
   "metadata": {
    "id": "O1Fay_tgSBbl"
   },
   "outputs": [],
   "source": [
    "## Your code here"
   ]
  }
 ],
 "metadata": {
  "colab": {
   "collapsed_sections": [],
   "name": "Data_Munging_&_PCA_Practice_Workbook.ipynb",
   "provenance": []
  },
  "kernelspec": {
   "display_name": "Python 3",
   "language": "python",
   "name": "python3"
  },
  "language_info": {
   "codemirror_mode": {
    "name": "ipython",
    "version": 3
   },
   "file_extension": ".py",
   "mimetype": "text/x-python",
   "name": "python",
   "nbconvert_exporter": "python",
   "pygments_lexer": "ipython3",
   "version": "3.8.8"
  }
 },
 "nbformat": 4,
 "nbformat_minor": 5
}
