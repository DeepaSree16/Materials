{
 "cells": [
  {
   "cell_type": "markdown",
   "metadata": {
    "id": "fEjBDPXeszX7"
   },
   "source": [
    "# IoT & Smart Analytics\n",
    "## A Program by IIIT-H and TalentSprint"
   ]
  },
  {
   "cell_type": "markdown",
   "metadata": {
    "id": "FXr0d8vv6w9E"
   },
   "source": [
    "## Learning Objectives\n"
   ]
  },
  {
   "cell_type": "markdown",
   "metadata": {
    "id": "txShyf2m2Bmj"
   },
   "source": [
    "\n",
    "At the end of the experiment, you will be able to:\n",
    "\n",
    "* Understand and implement SVM Linear Classifier for the given dataset\n",
    "* Separate the data in a linear manner \n",
    "\n",
    "\n"
   ]
  },
  {
   "cell_type": "markdown",
   "metadata": {
    "id": "ugJe5Yiz67UZ"
   },
   "source": [
    "## Dataset"
   ]
  },
  {
   "cell_type": "markdown",
   "metadata": {
    "id": "QRktF1OgcrNC"
   },
   "source": [
    "\n",
    "\n",
    "### Description\n",
    "\n",
    "In this experiment, we will use  make_blobs from sklearn. \n",
    "\n",
    "The make_blobs() function can be used to generate blobs of points with a Gaussian distribution. It is suitable for linear classification.\n",
    "\n",
    "\n",
    "This function contains parameters like n_samples, center,  random_state, cluster_std."
   ]
  },
  {
   "cell_type": "markdown",
   "metadata": {
    "id": "UJaoXRXN7N4-"
   },
   "source": [
    "## AI/ML Technique"
   ]
  },
  {
   "cell_type": "markdown",
   "metadata": {
    "id": "WoeZsG6-2zZW"
   },
   "source": [
    "\n",
    "\n",
    "### SVM\n",
    "\n",
    "In this experiment, we are using SVM.  \n",
    "\n",
    "* SVM assumes that the data is linearly separable.\n",
    "\n",
    "* It chooses the line which is more distant from both the classes.\n",
    "\n",
    "In the SVM algorithm, we find the points closest to the line from both the classes. These points are called support vectors. We compute the distance between the line and the support vectors which is called the margin. Our goal is to maximize the margin. The hyperplane for which the margin is maximum is called the optimal hyperplane.\n",
    "\n",
    "![]( https://cdn.extras.talentsprint.com/IOT/Images/SVM_Linear_Hyperplane.png)\n",
    "\n",
    "\n"
   ]
  },
  {
   "cell_type": "markdown",
   "metadata": {
    "id": "h7afLNB_mTZs"
   },
   "source": [
    "### In this experiment we will follow the below steps:\n",
    "\n",
    "\n",
    "\n",
    "\n",
    "\n",
    "1. Generate the dataset \n",
    "\n",
    "2. Randomly choose an intercept and slope (m,c). Then attempt to draw a straight line which separates the two sets of data\n",
    "\n",
    "3. Maximize the Margin\n",
    "\n",
    "4. Try to fit the model\n",
    "\n",
    " \n",
    " 5. Visualize the decision boundaries\n",
    " \n",
    " \n",
    " 6. We will learn Support vectors\n",
    "    \n"
   ]
  },
  {
   "cell_type": "markdown",
   "metadata": {
    "id": "7B3UXFG87jMq"
   },
   "source": [
    "## Keywords"
   ]
  },
  {
   "cell_type": "markdown",
   "metadata": {
    "id": "dtyAONK26mOm"
   },
   "source": [
    "\n",
    "\n",
    "\n",
    "Support Vectors \n",
    "\n",
    "Maximized Margin \n",
    "\n",
    "Optimal hyperplane\n",
    "\n"
   ]
  },
  {
   "cell_type": "markdown",
   "metadata": {
    "id": "tnmcc_vjszYC"
   },
   "source": [
    "##### Importing required packages"
   ]
  },
  {
   "cell_type": "code",
   "execution_count": null,
   "metadata": {
    "id": "PuyMcY0iszYD"
   },
   "outputs": [],
   "source": [
    "import numpy as np\n",
    "import pandas as pd\n",
    "import matplotlib.pyplot as plt\n",
    "from scipy import stats\n",
    "import seaborn as sns; sns.set()\n",
    "from sklearn.datasets import make_blobs\n",
    "from sklearn.svm import SVC"
   ]
  },
  {
   "cell_type": "markdown",
   "metadata": {
    "id": "El-TvNsAszYJ"
   },
   "source": [
    "#### 1. Generating the dataset "
   ]
  },
  {
   "cell_type": "markdown",
   "metadata": {
    "id": "Fk7BOV3sszYK"
   },
   "source": [
    "Considering the simple case of a classification task, in which the two classes are well separated."
   ]
  },
  {
   "cell_type": "code",
   "execution_count": null,
   "metadata": {
    "id": "zJV-UyJvszYL"
   },
   "outputs": [],
   "source": [
    "X, y = make_blobs(n_samples=50, centers=2,random_state=0, cluster_std=0.60)"
   ]
  },
  {
   "cell_type": "code",
   "execution_count": null,
   "metadata": {
    "colab": {
     "base_uri": "https://localhost:8080/"
    },
    "id": "671pa069szYO",
    "outputId": "ec26c5f5-c720-48b2-e972-2c60c1fec89f"
   },
   "outputs": [
    {
     "data": {
      "text/plain": [
       "((50, 2), (50,))"
      ]
     },
     "execution_count": 3,
     "metadata": {},
     "output_type": "execute_result"
    }
   ],
   "source": [
    "# Checking the length of X, y\n",
    "X.shape , y.shape"
   ]
  },
  {
   "cell_type": "code",
   "execution_count": null,
   "metadata": {
    "id": "5JVdPs9z7kMw"
   },
   "outputs": [],
   "source": [
    "X"
   ]
  },
  {
   "cell_type": "code",
   "execution_count": null,
   "metadata": {
    "colab": {
     "base_uri": "https://localhost:8080/"
    },
    "id": "thwztzhM7n0n",
    "outputId": "d72d5a0b-2758-4c8a-d8b8-d2f471e5dd3a"
   },
   "outputs": [
    {
     "data": {
      "text/plain": [
       "array([1, 1, 0, 0, 1, 1, 1, 1, 1, 0, 0, 0, 0, 1, 0, 0, 0, 1, 0, 0, 1, 1,\n",
       "       1, 1, 1, 0, 0, 0, 1, 0, 1, 0, 0, 0, 0, 1, 1, 0, 1, 0, 1, 0, 1, 1,\n",
       "       0, 1, 1, 0, 1, 0])"
      ]
     },
     "execution_count": 5,
     "metadata": {},
     "output_type": "execute_result"
    }
   ],
   "source": [
    "y"
   ]
  },
  {
   "cell_type": "markdown",
   "metadata": {
    "id": "4RhrJJRuszYW"
   },
   "source": [
    "To get a sense of the data, let us visualize the data\n"
   ]
  },
  {
   "cell_type": "code",
   "execution_count": null,
   "metadata": {
    "colab": {
     "base_uri": "https://localhost:8080/",
     "height": 206
    },
    "id": "R2r7Zk3bTtZX",
    "outputId": "d2d12865-7f73-4537-ad8d-510a9c34a271"
   },
   "outputs": [
    {
     "data": {
      "text/html": [
       "\n",
       "  <div id=\"df-36b45354-6789-406d-b4f3-3550d35243a3\">\n",
       "    <div class=\"colab-df-container\">\n",
       "      <div>\n",
       "<style scoped>\n",
       "    .dataframe tbody tr th:only-of-type {\n",
       "        vertical-align: middle;\n",
       "    }\n",
       "\n",
       "    .dataframe tbody tr th {\n",
       "        vertical-align: top;\n",
       "    }\n",
       "\n",
       "    .dataframe thead th {\n",
       "        text-align: right;\n",
       "    }\n",
       "</style>\n",
       "<table border=\"1\" class=\"dataframe\">\n",
       "  <thead>\n",
       "    <tr style=\"text-align: right;\">\n",
       "      <th></th>\n",
       "      <th>F1</th>\n",
       "      <th>F2</th>\n",
       "      <th>Label</th>\n",
       "    </tr>\n",
       "  </thead>\n",
       "  <tbody>\n",
       "    <tr>\n",
       "      <th>0</th>\n",
       "      <td>1.412816</td>\n",
       "      <td>1.530335</td>\n",
       "      <td>1.0</td>\n",
       "    </tr>\n",
       "    <tr>\n",
       "      <th>1</th>\n",
       "      <td>1.813361</td>\n",
       "      <td>1.631131</td>\n",
       "      <td>1.0</td>\n",
       "    </tr>\n",
       "    <tr>\n",
       "      <th>2</th>\n",
       "      <td>1.432893</td>\n",
       "      <td>4.376792</td>\n",
       "      <td>0.0</td>\n",
       "    </tr>\n",
       "    <tr>\n",
       "      <th>3</th>\n",
       "      <td>1.872718</td>\n",
       "      <td>4.180692</td>\n",
       "      <td>0.0</td>\n",
       "    </tr>\n",
       "    <tr>\n",
       "      <th>4</th>\n",
       "      <td>2.095178</td>\n",
       "      <td>1.079147</td>\n",
       "      <td>1.0</td>\n",
       "    </tr>\n",
       "  </tbody>\n",
       "</table>\n",
       "</div>\n",
       "      <button class=\"colab-df-convert\" onclick=\"convertToInteractive('df-36b45354-6789-406d-b4f3-3550d35243a3')\"\n",
       "              title=\"Convert this dataframe to an interactive table.\"\n",
       "              style=\"display:none;\">\n",
       "        \n",
       "  <svg xmlns=\"http://www.w3.org/2000/svg\" height=\"24px\"viewBox=\"0 0 24 24\"\n",
       "       width=\"24px\">\n",
       "    <path d=\"M0 0h24v24H0V0z\" fill=\"none\"/>\n",
       "    <path d=\"M18.56 5.44l.94 2.06.94-2.06 2.06-.94-2.06-.94-.94-2.06-.94 2.06-2.06.94zm-11 1L8.5 8.5l.94-2.06 2.06-.94-2.06-.94L8.5 2.5l-.94 2.06-2.06.94zm10 10l.94 2.06.94-2.06 2.06-.94-2.06-.94-.94-2.06-.94 2.06-2.06.94z\"/><path d=\"M17.41 7.96l-1.37-1.37c-.4-.4-.92-.59-1.43-.59-.52 0-1.04.2-1.43.59L10.3 9.45l-7.72 7.72c-.78.78-.78 2.05 0 2.83L4 21.41c.39.39.9.59 1.41.59.51 0 1.02-.2 1.41-.59l7.78-7.78 2.81-2.81c.8-.78.8-2.07 0-2.86zM5.41 20L4 18.59l7.72-7.72 1.47 1.35L5.41 20z\"/>\n",
       "  </svg>\n",
       "      </button>\n",
       "      \n",
       "  <style>\n",
       "    .colab-df-container {\n",
       "      display:flex;\n",
       "      flex-wrap:wrap;\n",
       "      gap: 12px;\n",
       "    }\n",
       "\n",
       "    .colab-df-convert {\n",
       "      background-color: #E8F0FE;\n",
       "      border: none;\n",
       "      border-radius: 50%;\n",
       "      cursor: pointer;\n",
       "      display: none;\n",
       "      fill: #1967D2;\n",
       "      height: 32px;\n",
       "      padding: 0 0 0 0;\n",
       "      width: 32px;\n",
       "    }\n",
       "\n",
       "    .colab-df-convert:hover {\n",
       "      background-color: #E2EBFA;\n",
       "      box-shadow: 0px 1px 2px rgba(60, 64, 67, 0.3), 0px 1px 3px 1px rgba(60, 64, 67, 0.15);\n",
       "      fill: #174EA6;\n",
       "    }\n",
       "\n",
       "    [theme=dark] .colab-df-convert {\n",
       "      background-color: #3B4455;\n",
       "      fill: #D2E3FC;\n",
       "    }\n",
       "\n",
       "    [theme=dark] .colab-df-convert:hover {\n",
       "      background-color: #434B5C;\n",
       "      box-shadow: 0px 1px 3px 1px rgba(0, 0, 0, 0.15);\n",
       "      filter: drop-shadow(0px 1px 2px rgba(0, 0, 0, 0.3));\n",
       "      fill: #FFFFFF;\n",
       "    }\n",
       "  </style>\n",
       "\n",
       "      <script>\n",
       "        const buttonEl =\n",
       "          document.querySelector('#df-36b45354-6789-406d-b4f3-3550d35243a3 button.colab-df-convert');\n",
       "        buttonEl.style.display =\n",
       "          google.colab.kernel.accessAllowed ? 'block' : 'none';\n",
       "\n",
       "        async function convertToInteractive(key) {\n",
       "          const element = document.querySelector('#df-36b45354-6789-406d-b4f3-3550d35243a3');\n",
       "          const dataTable =\n",
       "            await google.colab.kernel.invokeFunction('convertToInteractive',\n",
       "                                                     [key], {});\n",
       "          if (!dataTable) return;\n",
       "\n",
       "          const docLinkHtml = 'Like what you see? Visit the ' +\n",
       "            '<a target=\"_blank\" href=https://colab.research.google.com/notebooks/data_table.ipynb>data table notebook</a>'\n",
       "            + ' to learn more about interactive tables.';\n",
       "          element.innerHTML = '';\n",
       "          dataTable['output_type'] = 'display_data';\n",
       "          await google.colab.output.renderOutput(dataTable, element);\n",
       "          const docLink = document.createElement('div');\n",
       "          docLink.innerHTML = docLinkHtml;\n",
       "          element.appendChild(docLink);\n",
       "        }\n",
       "      </script>\n",
       "    </div>\n",
       "  </div>\n",
       "  "
      ],
      "text/plain": [
       "         F1        F2  Label\n",
       "0  1.412816  1.530335    1.0\n",
       "1  1.813361  1.631131    1.0\n",
       "2  1.432893  4.376792    0.0\n",
       "3  1.872718  4.180692    0.0\n",
       "4  2.095178  1.079147    1.0"
      ]
     },
     "execution_count": 7,
     "metadata": {},
     "output_type": "execute_result"
    }
   ],
   "source": [
    "data=pd.DataFrame(np.hstack((X,y[:,np.newaxis])),columns=['F1','F2','Label'])\n",
    "data.head()"
   ]
  },
  {
   "cell_type": "code",
   "execution_count": null,
   "metadata": {
    "colab": {
     "base_uri": "https://localhost:8080/"
    },
    "id": "CpSa7J6O831j",
    "outputId": "cef515b6-e5a4-4edc-a2f3-06713bc18a51"
   },
   "outputs": [
    {
     "data": {
      "text/plain": [
       "(50, 2)"
      ]
     },
     "execution_count": 11,
     "metadata": {},
     "output_type": "execute_result"
    }
   ],
   "source": [
    "X.shape"
   ]
  },
  {
   "cell_type": "code",
   "execution_count": null,
   "metadata": {
    "colab": {
     "base_uri": "https://localhost:8080/"
    },
    "id": "Ak9Ljny48viy",
    "outputId": "4cd4cbfb-3402-422a-c58d-62d2243c30ea"
   },
   "outputs": [
    {
     "data": {
      "text/plain": [
       "array([[1.41281595, 1.5303347 ],\n",
       "       [1.81336135, 1.6311307 ],\n",
       "       [1.43289271, 4.37679234]])"
      ]
     },
     "execution_count": 10,
     "metadata": {},
     "output_type": "execute_result"
    }
   ],
   "source": [
    "X[:3,:]"
   ]
  },
  {
   "cell_type": "code",
   "execution_count": null,
   "metadata": {
    "colab": {
     "base_uri": "https://localhost:8080/",
     "height": 286
    },
    "id": "78Sl_JwA8OXr",
    "outputId": "4e63958f-5af1-42a0-e793-e28bf852e215"
   },
   "outputs": [
    {
     "data": {
      "text/plain": [
       "<matplotlib.collections.PathCollection at 0x7f9384216190>"
      ]
     },
     "execution_count": 9,
     "metadata": {},
     "output_type": "execute_result"
    },
    {
     "data": {
      "image/png": "[encoded data removed]",
      "text/plain": [
       "<Figure size 432x288 with 1 Axes>"
      ]
     },
     "metadata": {
      "needs_background": "light"
     },
     "output_type": "display_data"
    }
   ],
   "source": [
    "plt.scatter(X[:,0],X[:,1],c=y,cmap='autumn')"
   ]
  },
  {
   "cell_type": "code",
   "execution_count": null,
   "metadata": {
    "id": "7E7CjoViszYX"
   },
   "outputs": [],
   "source": []
  },
  {
   "cell_type": "markdown",
   "metadata": {
    "id": "uFAEYV8NkQJY"
   },
   "source": [
    "#### 2. Randomly choose m and c and plot the lines\n",
    "* m, c in [(1, 0.65), (0.5, 1.6), (-0.2, 2.9)"
   ]
  },
  {
   "cell_type": "code",
   "execution_count": null,
   "metadata": {
    "colab": {
     "base_uri": "https://localhost:8080/",
     "height": 268
    },
    "id": "b1vAz9kUszYm",
    "outputId": "cc3ff701-0e95-4b07-8c38-2494aa27b799"
   },
   "outputs": [
    {
     "data": {
      "image/png": "[encoded data removed]",
      "text/plain": [
       "<Figure size 432x288 with 1 Axes>"
      ]
     },
     "metadata": {
      "needs_background": "light"
     },
     "output_type": "display_data"
    }
   ],
   "source": [
    "xfit=np.linspace(-1,3.5)\n",
    "plt.scatter(X[:,0],X[:,1],c=y,cmap='autumn')\n",
    "for m,c in [(1, 0.65), (0.5, 1.6), (-0.2, 2.9)]:\n",
    "  plt.plot(xfit,m*xfit+c,'k-')"
   ]
  },
  {
   "cell_type": "markdown",
   "metadata": {
    "id": "M65gvJwVszYr"
   },
   "source": [
    "These are three different separators which discriminate between these samples. \n",
    "\n",
    "**Evidently our simple intuition of \"drawing a line between classes\" is not enough, and we need to think a bit deeper?**"
   ]
  },
  {
   "cell_type": "markdown",
   "metadata": {
    "id": "c2mIzaCRszYs"
   },
   "source": [
    "#### 3.  Maximizing the Margin"
   ]
  },
  {
   "cell_type": "markdown",
   "metadata": {
    "id": "4oO5lZCWszYu"
   },
   "source": [
    "Support vector machines offer one way to improve on this. \n",
    "\n",
    "The intuition is this: rather than simply drawing a zero-width line between the classes, we can draw around each line a margin of some width, up to the nearest point."
   ]
  },
  {
   "cell_type": "code",
   "execution_count": null,
   "metadata": {
    "colab": {
     "base_uri": "https://localhost:8080/",
     "height": 268
    },
    "id": "q56tkIvRszYv",
    "outputId": "dc636eb9-e4e0-4581-b3db-61c7217fe27e"
   },
   "outputs": [
    {
     "data": {
      "image/png": "[encoded data removed]",
      "text/plain": [
       "<Figure size 432x288 with 1 Axes>"
      ]
     },
     "metadata": {
      "needs_background": "light"
     },
     "output_type": "display_data"
    }
   ],
   "source": [
    "xfit = np.linspace(-1, 3.5)\n",
    "plt.scatter(X[:, 0], X[:, 1], c=y, s=50, cmap='autumn')\n",
    "\n",
    "for m, c, d in [(1, 0.65, 0.33), (0.5, 1.6, 0.55), (-0.2, 2.9, 0.2)]:\n",
    "    yfit = m * xfit + c\n",
    "    plt.plot(xfit, yfit, '-k')\n",
    "    plt.fill_between(xfit, yfit - d, yfit + d, edgecolor='none',\n",
    "                     color='#AAAAAA', alpha=0.5)\n",
    "\n",
    "plt.xlim(-1, 3.5);"
   ]
  },
  {
   "cell_type": "markdown",
   "metadata": {
    "id": "vyTYyr9zszY1"
   },
   "source": [
    "In support vector machines, the line that maximizes this margin is  the optimal model. Support vector machines are an example of such a maximum margin estimator."
   ]
  },
  {
   "cell_type": "markdown",
   "metadata": {
    "id": "mZyn4XnBszY3"
   },
   "source": [
    "#### 4. Trying to fit the model"
   ]
  },
  {
   "cell_type": "markdown",
   "metadata": {
    "id": "i9SPB8wGszY4"
   },
   "source": [
    "We will use Scikit-Learn's support vector classifier to train an SVM model on this data. For the time being, we will use a linear kernel and set the Regularization(C) parameter to a very large number."
   ]
  },
  {
   "cell_type": "code",
   "execution_count": null,
   "metadata": {
    "colab": {
     "base_uri": "https://localhost:8080/"
    },
    "id": "FP_CwszbszY5",
    "outputId": "6c03e75f-5508-4cbe-d8b3-4a23185ce2d4"
   },
   "outputs": [
    {
     "data": {
      "text/plain": [
       "array([1, 1, 0, 0, 1, 1, 1, 1, 1, 0, 0, 0, 0, 1, 0, 0, 0, 1, 0, 0, 1, 1,\n",
       "       1, 1, 1, 0, 0, 0, 1, 0, 1, 0, 0, 0, 0, 1, 1, 0, 1, 0, 1, 0, 1, 1,\n",
       "       0, 1, 1, 0, 1, 0])"
      ]
     },
     "execution_count": 66,
     "metadata": {},
     "output_type": "execute_result"
    }
   ],
   "source": [
    "svm_clf = SVC(kernel='linear', C=0.1)  # Try by changing the value of C. Decrease it less than 1\n",
    "svm_clf.fit(X, y)\n",
    "svm_clf.predict(X)\n",
    "## Hard margin classifier --> Clearly seperable data set --> we use high value of C\n",
    "## Soft margin classifier --> Mixed, Not clearly seperatble --> low value of c"
   ]
  },
  {
   "cell_type": "code",
   "execution_count": null,
   "metadata": {
    "colab": {
     "base_uri": "https://localhost:8080/"
    },
    "id": "kLqCrEJh-shG",
    "outputId": "f5e8f0e9-b132-4101-f1fa-f20648e88314"
   },
   "outputs": [
    {
     "data": {
      "text/plain": [
       "array([1, 1, 0, 0, 1, 1, 1, 1, 1, 0, 0, 0, 0, 1, 0, 0, 0, 1, 0, 0, 1, 1,\n",
       "       1, 1, 1, 0, 0, 0, 1, 0, 1, 0, 0, 0, 0, 1, 1, 0, 1, 0, 1, 0, 1, 1,\n",
       "       0, 1, 1, 0, 1, 0])"
      ]
     },
     "execution_count": 56,
     "metadata": {},
     "output_type": "execute_result"
    }
   ],
   "source": [
    "y"
   ]
  },
  {
   "cell_type": "markdown",
   "metadata": {
    "id": "2hMMtcIXszY-"
   },
   "source": [
    "#### 5. Visualizing the decision boundaries\n",
    "* Understanding Coefficient & Intercept of decision boundary and Support vectors which will be used for plotting."
   ]
  },
  {
   "cell_type": "code",
   "execution_count": null,
   "metadata": {
    "colab": {
     "base_uri": "https://localhost:8080/"
    },
    "id": "MIWoGNnQ_Eb2",
    "outputId": "ad6a25f6-e441-44d5-a452-978efb3f4f3e"
   },
   "outputs": [
    {
     "data": {
      "text/plain": [
       "array([[ 0.23525694, -1.41250783]])"
      ]
     },
     "execution_count": 57,
     "metadata": {},
     "output_type": "execute_result"
    }
   ],
   "source": [
    "svm_clf.coef_ # ax+by+c=0"
   ]
  },
  {
   "cell_type": "code",
   "execution_count": null,
   "metadata": {
    "colab": {
     "base_uri": "https://localhost:8080/"
    },
    "id": "AnbGqQ3O_fHc",
    "outputId": "154af27c-75db-442a-9ebc-11b9a03c6ff8"
   },
   "outputs": [
    {
     "name": "stdout",
     "output_type": "stream",
     "text": [
      "[ 0.23525694 -1.41250783]\n",
      "0.23525693639787337\n",
      "-1.4125078273745393\n"
     ]
    }
   ],
   "source": [
    "w=svm_clf.coef_[0]\n",
    "print(w)\n",
    "print(w[0])\n",
    "print(w[1])"
   ]
  },
  {
   "cell_type": "code",
   "execution_count": null,
   "metadata": {
    "colab": {
     "base_uri": "https://localhost:8080/"
    },
    "id": "HafpCo5X_VFQ",
    "outputId": "d5193a6a-02af-4080-ecb9-1aab5b000158"
   },
   "outputs": [
    {
     "data": {
      "text/plain": [
       "array([3.29634152])"
      ]
     },
     "execution_count": 59,
     "metadata": {},
     "output_type": "execute_result"
    }
   ],
   "source": [
    "svm_clf.intercept_"
   ]
  },
  {
   "cell_type": "code",
   "execution_count": null,
   "metadata": {
    "colab": {
     "base_uri": "https://localhost:8080/"
    },
    "id": "cox4EyMK_6aL",
    "outputId": "a630d712-f121-4a49-b5fb-8aa465cf98f4"
   },
   "outputs": [
    {
     "data": {
      "text/plain": [
       "3.2963415168371806"
      ]
     },
     "execution_count": 60,
     "metadata": {},
     "output_type": "execute_result"
    }
   ],
   "source": [
    "c=svm_clf.intercept_[0]\n",
    "c"
   ]
  },
  {
   "cell_type": "code",
   "execution_count": null,
   "metadata": {
    "colab": {
     "base_uri": "https://localhost:8080/"
    },
    "id": "4878J94GDNCC",
    "outputId": "fed034cf-7700-45ef-ea3b-6efc59039126"
   },
   "outputs": [
    {
     "data": {
      "text/plain": [
       "array([[1.4949318 , 3.85848832],\n",
       "       [0.44359863, 3.11530945],\n",
       "       [2.33812285, 3.43116792],\n",
       "       [2.09680487, 3.7174206 ],\n",
       "       [0.3471383 , 3.45177657],\n",
       "       [1.41281595, 1.5303347 ],\n",
       "       [1.81336135, 1.6311307 ],\n",
       "       [2.06156753, 1.96918596],\n",
       "       [1.29297652, 1.47930168],\n",
       "       [2.94821884, 2.03519717]])"
      ]
     },
     "execution_count": 67,
     "metadata": {},
     "output_type": "execute_result"
    }
   ],
   "source": [
    "svs=svm_clf.support_vectors_\n",
    "svs"
   ]
  },
  {
   "cell_type": "code",
   "execution_count": null,
   "metadata": {
    "colab": {
     "base_uri": "https://localhost:8080/"
    },
    "id": "4QCTj4rFDfiP",
    "outputId": "cf19d386-171a-41c2-9252-2bebe9abbe48"
   },
   "outputs": [
    {
     "data": {
      "text/plain": [
       "array([0.44359863, 3.11530945])"
      ]
     },
     "execution_count": 32,
     "metadata": {},
     "output_type": "execute_result"
    }
   ],
   "source": [
    "svs[0,:]"
   ]
  },
  {
   "cell_type": "code",
   "execution_count": null,
   "metadata": {
    "colab": {
     "base_uri": "https://localhost:8080/"
    },
    "id": "BFnhFY3MFALG",
    "outputId": "c1f3cfe6-5259-40d3-ef40-4866ce0fec5f"
   },
   "outputs": [
    {
     "name": "stdout",
     "output_type": "stream",
     "text": [
      "[0.44359863 2.33812285 2.06156753]\n"
     ]
    }
   ],
   "source": [
    "print(svs[:,0])\n"
   ]
  },
  {
   "cell_type": "code",
   "execution_count": null,
   "metadata": {
    "colab": {
     "base_uri": "https://localhost:8080/"
    },
    "id": "DWUdHur4FOvL",
    "outputId": "61e1f3d4-8cdd-4253-d2f4-9004cdcceddb"
   },
   "outputs": [
    {
     "name": "stdout",
     "output_type": "stream",
     "text": [
      "[3.11530945 3.43116792 1.96918596]\n"
     ]
    }
   ],
   "source": [
    "print(svs[:,1])"
   ]
  },
  {
   "cell_type": "code",
   "execution_count": null,
   "metadata": {
    "colab": {
     "base_uri": "https://localhost:8080/",
     "height": 286
    },
    "id": "tNC-lIpIYMVb",
    "outputId": "b892753e-3b73-47ad-eec3-0ff27cc059cb"
   },
   "outputs": [
    {
     "data": {
      "text/plain": [
       "<matplotlib.collections.PathCollection at 0x7f93831c7e90>"
      ]
     },
     "execution_count": 68,
     "metadata": {},
     "output_type": "execute_result"
    },
    {
     "data": {
      "image/png": "[encoded data removed]",
      "text/plain": [
       "<Figure size 432x288 with 1 Axes>"
      ]
     },
     "metadata": {
      "needs_background": "light"
     },
     "output_type": "display_data"
    }
   ],
   "source": [
    "### Decision boundary plotting\n",
    "w=svm_clf.coef_[0]\n",
    "c=svm_clf.intercept_[0]\n",
    "x_min=np.min(X)\n",
    "x_max=np.max(X)\n",
    "# At decision boundary,W0*X0+W1+X1+C=0\n",
    "# X1=(-W0/W1)*X0-C/W1\n",
    "X0=np.linspace(x_min,x_max,200)\n",
    "decision_boundary=(-w[0]/w[1])*X0-c/w[1]\n",
    "plt.plot(X0,decision_boundary)\n",
    "### Margin plotting\n",
    "gutter_up= decision_boundary+ 1/w[1]\n",
    "gutter_down= decision_boundary - 1/w[1]\n",
    "plt.plot(X0,gutter_up,'k--')\n",
    "plt.plot(X0,gutter_down,'k--')\n",
    "### Support vector plotting\n",
    "svs=svm_clf.support_vectors_\n",
    "plt.scatter(svs[:,0],svs[:,1],c='k',s=200)\n",
    "#### Original data set plotting\n",
    "plt.scatter(X[:,0],X[:,1],c=y,cmap='autumn')"
   ]
  },
  {
   "cell_type": "code",
   "execution_count": null,
   "metadata": {
    "id": "lHoniPFxVvwB"
   },
   "outputs": [],
   "source": []
  },
  {
   "cell_type": "markdown",
   "metadata": {
    "id": "h_jctPfWszZL"
   },
   "source": [
    "This is the dividing line that maximizes the margin between the two sets of points. Notice that a few of the training points just touch the margin. \n",
    "These points are the pivotal elements of this fit, and are known as the support vectors, and give the algorithm its name. \n",
    "\n",
    "In Scikit-Learn, these points are stored in the support_vectors_ attribute of the classifier:"
   ]
  }
 ],
 "metadata": {
  "colab": {
   "collapsed_sections": [],
   "name": "SVM_Linear_Make_Blobs_Walkthrough.ipynb",
   "provenance": []
  },
  "kernelspec": {
   "display_name": "Python 3",
   "language": "python",
   "name": "python3"
  },
  "language_info": {
   "codemirror_mode": {
    "name": "ipython",
    "version": 3
   },
   "file_extension": ".py",
   "mimetype": "text/x-python",
   "name": "python",
   "nbconvert_exporter": "python",
   "pygments_lexer": "ipython3",
   "version": "3.8.8"
  }
 },
 "nbformat": 4,
 "nbformat_minor": 1
}
