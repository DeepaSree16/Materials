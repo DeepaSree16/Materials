{
 "cells": [
  {
   "cell_type": "markdown",
   "metadata": {
    "id": "dFpaTNvjG0Em"
   },
   "source": [
    "# IoT & Smart Analytics\n",
    "## A Program by IIIT-H and TalentSprint"
   ]
  },
  {
   "cell_type": "markdown",
   "metadata": {
    "id": "9tRjacE6RVLG"
   },
   "source": [
    "## Learning Objectives\n",
    "At the end of the experiment, participants will be able to : \n",
    "* understand the importance of PCA\n",
    "* apply PCA"
   ]
  },
  {
   "cell_type": "markdown",
   "metadata": {
    "id": "sADIeNSzG6AV"
   },
   "source": [
    "#### Importing Required Packages"
   ]
  },
  {
   "cell_type": "code",
   "execution_count": 1,
   "metadata": {
    "id": "Kv9URIByyX7r"
   },
   "outputs": [],
   "source": [
    "from sklearn.datasets import fetch_openml\n",
    "import numpy as np\n",
    "import matplotlib.pyplot as plt\n",
    "import matplotlib as mpl\n",
    "from sklearn.decomposition import PCA\n",
    "from sklearn.model_selection import train_test_split\n",
    "from sklearn.linear_model import SGDClassifier\n",
    "from sklearn.model_selection import cross_val_score"
   ]
  },
  {
   "cell_type": "markdown",
   "metadata": {
    "id": "xn71QyZ1b2V8"
   },
   "source": [
    "Run given below syntaxes in a different cell to install libraries if required by removing the backward slash. \\\\\n",
    "!pip install sklearn \\\\\n",
    "!pip install pandas \\\\\n",
    "!pip install matplotlib \\\\"
   ]
  },
  {
   "cell_type": "markdown",
   "metadata": {
    "id": "sHGcYrp9yX7u"
   },
   "source": [
    "#### Loading Data\n",
    "Using SciKit-Learns ```fetch_openml``` to load MNIST data."
   ]
  },
  {
   "cell_type": "code",
   "execution_count": 2,
   "metadata": {
    "id": "earKcJjwyX7w"
   },
   "outputs": [],
   "source": [
    "mnist = fetch_openml('mnist_784', cache=False)"
   ]
  },
  {
   "cell_type": "markdown",
   "metadata": {
    "id": "qnl9FqI5IVTn"
   },
   "source": [
    "Understanding the data:"
   ]
  },
  {
   "cell_type": "code",
   "execution_count": 3,
   "metadata": {
    "colab": {
     "base_uri": "https://localhost:8080/"
    },
    "id": "okoDiKFkIUG4",
    "outputId": "75931c79-2e30-426b-d5d7-4d0fba876118"
   },
   "outputs": [
    {
     "name": "stdout",
     "output_type": "stream",
     "text": [
      "Data Shape : (70000, 784) \n",
      "\n",
      "Keys :  dict_keys(['data', 'target', 'frame', 'categories', 'feature_names', 'target_names', 'DESCR', 'details', 'url']) \n",
      "\n",
      "Description : **Author**: Yann LeCun, Corinna Cortes, Christopher J.C. Burges  \n",
      "**Source**: [MNIST Website](http://yann.lecun.com/exdb/mnist/) - Date unknown  \n",
      "**Please cite**:  \n",
      "\n",
      "The MNIST database of handwritten digits with 784 features, raw data available at: http://yann.lecun.com/exdb/mnist/. It can be split in a training set of the first 60,000 examples, and a test set of 10,000 examples  \n",
      "\n",
      "It is a subset of a larger set available from NIST. The digits have been size-normalized and centered in a fixed-size image. It is a good database for people who want to try learning techniques and pattern recognition methods on real-world data while spending minimal efforts on preprocessing and formatting. The original black and white (bilevel) images from NIST were size normalized to fit in a 20x20 pixel box while preserving their aspect ratio. The resulting images contain grey levels as a result of the anti-aliasing technique used by the normalization algorithm. the images were centered in a 28x28 image by computing the center of mass of the pixels, and translating the image so as to position this point at the center of the 28x28 field.  \n",
      "\n",
      "With some classification methods (particularly template-based methods, such as SVM and K-nearest neighbors), the error rate improves when the digits are centered by bounding box rather than center of mass. If you do this kind of pre-processing, you should report it in your publications. The MNIST database was constructed from NIST's NIST originally designated SD-3 as their training set and SD-1 as their test set. However, SD-3 is much cleaner and easier to recognize than SD-1. The reason for this can be found on the fact that SD-3 was collected among Census Bureau employees, while SD-1 was collected among high-school students. Drawing sensible conclusions from learning experiments requires that the result be independent of the choice of training set and test among the complete set of samples. Therefore it was necessary to build a new database by mixing NIST's datasets.  \n",
      "\n",
      "The MNIST training set is composed of 30,000 patterns from SD-3 and 30,000 patterns from SD-1. Our test set was composed of 5,000 patterns from SD-3 and 5,000 patterns from SD-1. The 60,000 pattern training set contained examples from approximately 250 writers. We made sure that the sets of writers of the training set and test set were disjoint. SD-1 contains 58,527 digit images written by 500 different writers. In contrast to SD-3, where blocks of data from each writer appeared in sequence, the data in SD-1 is scrambled. Writer identities for SD-1 is available and we used this information to unscramble the writers. We then split SD-1 in two: characters written by the first 250 writers went into our new training set. The remaining 250 writers were placed in our test set. Thus we had two sets with nearly 30,000 examples each. The new training set was completed with enough examples from SD-3, starting at pattern # 0, to make a full set of 60,000 training patterns. Similarly, the new test set was completed with SD-3 examples starting at pattern # 35,000 to make a full set with 60,000 test patterns. Only a subset of 10,000 test images (5,000 from SD-1 and 5,000 from SD-3) is available on this site. The full 60,000 sample training set is available.\n",
      "\n",
      "Downloaded from openml.org.\n"
     ]
    }
   ],
   "source": [
    "print('Data Shape :',mnist.data.shape,'\\n')\n",
    "print('Keys : ',mnist.keys(),'\\n')\n",
    "print('Description :', mnist.DESCR)"
   ]
  },
  {
   "cell_type": "markdown",
   "metadata": {
    "id": "UW8RSWcNJa_3"
   },
   "source": [
    "Separating features and targets"
   ]
  },
  {
   "cell_type": "code",
   "execution_count": 4,
   "metadata": {
    "colab": {
     "base_uri": "https://localhost:8080/"
    },
    "id": "TkgSaLLM1meq",
    "outputId": "550f5f61-14fe-4a19-d538-e64e95fb7db5"
   },
   "outputs": [
    {
     "name": "stdout",
     "output_type": "stream",
     "text": [
      "(70000, 784)\n"
     ]
    }
   ],
   "source": [
    "X, y = mnist[\"data\"].values, mnist[\"target\"].values\n",
    "print(X.shape)\n",
    "# Try running given below codes in new cells\n",
    "# mnist[\"data\"].info()\n",
    "# mnist[\"data\"].info()"
   ]
  },
  {
   "cell_type": "markdown",
   "metadata": {
    "id": "kPC4Vf9wKMZt"
   },
   "source": [
    "Visualizing the data set"
   ]
  },
  {
   "cell_type": "code",
   "execution_count": 5,
   "metadata": {
    "colab": {
     "base_uri": "https://localhost:8080/",
     "height": 265
    },
    "id": "bJIJTne62IVV",
    "outputId": "e6e50f7e-eb7c-432f-c9d2-90a22f4a7dc8"
   },
   "outputs": [
    {
     "data": {
      "image/png": "[encoded data removed]",
      "text/plain": [
       "<Figure size 432x288 with 1 Axes>"
      ]
     },
     "metadata": {
      "needs_background": "light"
     },
     "output_type": "display_data"
    }
   ],
   "source": [
    "sample_digit = X[90] # Check the result by putting different values in square bracket \n",
    "sample_digit_image = sample_digit.reshape(28, 28)\n",
    "plt.imshow(sample_digit_image, cmap=mpl.cm.binary)\n",
    "plt.show()"
   ]
  },
  {
   "cell_type": "markdown",
   "metadata": {
    "id": "pUFFJoczKxu2"
   },
   "source": [
    "Checking the corresponding label & converting the data type"
   ]
  },
  {
   "cell_type": "code",
   "execution_count": 6,
   "metadata": {
    "colab": {
     "base_uri": "https://localhost:8080/"
    },
    "id": "LdYlDxz02wtT",
    "outputId": "97a7d267-77b7-436f-8da4-6438b592d633"
   },
   "outputs": [
    {
     "name": "stdout",
     "output_type": "stream",
     "text": [
      "6\n",
      "<class 'str'>\n",
      "<class 'numpy.uint8'>\n"
     ]
    }
   ],
   "source": [
    "print(y[90])\n",
    "print(type(y[90]))\n",
    "y = y.astype(np.uint8)\n",
    "print(type(y[90]))\n"
   ]
  },
  {
   "cell_type": "markdown",
   "metadata": {
    "id": "weao4ORKMODK"
   },
   "source": [
    "#### Applying Classification Algorithm"
   ]
  },
  {
   "cell_type": "markdown",
   "metadata": {
    "id": "ddLr5mNz7KhT"
   },
   "source": [
    "Train Test Split"
   ]
  },
  {
   "cell_type": "code",
   "execution_count": 7,
   "metadata": {
    "id": "Glssbs7k4NoQ"
   },
   "outputs": [],
   "source": [
    "X_train, X_test, y_train, y_test = X[:60000], X[60000:], y[:60000], y[60000:]\n",
    "# We can use 'train_test_split' as given below :\n",
    "# X_train, X_test, y_train, y_test = train_test_split(X, y)"
   ]
  },
  {
   "cell_type": "markdown",
   "metadata": {
    "id": "5WoHACzWQPm6"
   },
   "source": [
    "Training:"
   ]
  },
  {
   "cell_type": "code",
   "execution_count": 8,
   "metadata": {
    "colab": {
     "base_uri": "https://localhost:8080/"
    },
    "id": "MSXnHceZ4Vzr",
    "outputId": "e3f578d3-473e-4361-afbd-b916402dd352"
   },
   "outputs": [
    {
     "name": "stdout",
     "output_type": "stream",
     "text": [
      "CPU times: user 3min 3s, sys: 240 ms, total: 3min 3s\n",
      "Wall time: 3min 3s\n"
     ]
    }
   ],
   "source": [
    "%%time\n",
    "sgd_clf = SGDClassifier(max_iter=1000, tol=1e-3, random_state=42)\n",
    "sgd_clf.fit(X_train, y_train)"
   ]
  },
  {
   "cell_type": "markdown",
   "metadata": {
    "id": "rUhn7yoPMXi8"
   },
   "source": [
    "Predicting an output for any given sample"
   ]
  },
  {
   "cell_type": "code",
   "execution_count": 9,
   "metadata": {
    "colab": {
     "base_uri": "https://localhost:8080/"
    },
    "id": "807b7PAe5543",
    "outputId": "18c03899-e7f2-4a34-fd90-790c8ef58e19"
   },
   "outputs": [
    {
     "data": {
      "text/plain": [
       "array([6], dtype=uint8)"
      ]
     },
     "execution_count": 9,
     "metadata": {},
     "output_type": "execute_result"
    }
   ],
   "source": [
    "sgd_clf.predict([sample_digit])"
   ]
  },
  {
   "cell_type": "markdown",
   "metadata": {
    "id": "hs3r4Z3CErCy"
   },
   "source": [
    "### Measuring Accuracy"
   ]
  },
  {
   "cell_type": "code",
   "execution_count": 10,
   "metadata": {
    "colab": {
     "base_uri": "https://localhost:8080/"
    },
    "id": "BopRlGKu6SRc",
    "outputId": "bfe62ab5-99b3-4b5e-d73c-7a6e45a25f77"
   },
   "outputs": [
    {
     "name": "stdout",
     "output_type": "stream",
     "text": [
      "[0.87365 0.85835 0.8689 ]\n",
      "CPU times: user 5min 39s, sys: 594 ms, total: 5min 40s\n",
      "Wall time: 5min 37s\n"
     ]
    }
   ],
   "source": [
    "%%time\n",
    "from sklearn.model_selection import cross_val_score\n",
    "print(cross_val_score(sgd_clf, X_train, y_train, cv=3, scoring=\"accuracy\"))"
   ]
  },
  {
   "cell_type": "markdown",
   "metadata": {
    "id": "R1-NkOkz6fZY"
   },
   "source": [
    "#### Training the model after reducing the features using PCA"
   ]
  },
  {
   "cell_type": "markdown",
   "metadata": {
    "id": "7lrRKn366URr"
   },
   "source": [
    "#### Applying PCA and reducing the number of features"
   ]
  },
  {
   "cell_type": "code",
   "execution_count": 11,
   "metadata": {
    "colab": {
     "base_uri": "https://localhost:8080/"
    },
    "id": "lYYdc7yj6_1R",
    "outputId": "1a01cc6b-eeb3-4b87-c4be-416731b72f74"
   },
   "outputs": [
    {
     "data": {
      "text/plain": [
       "154"
      ]
     },
     "execution_count": 11,
     "metadata": {},
     "output_type": "execute_result"
    }
   ],
   "source": [
    "pca = PCA()\n",
    "pca.fit(X_train)\n",
    "cumsum = np.cumsum(pca.explained_variance_ratio_)\n",
    "d = np.argmax(cumsum >= 0.95) + 1\n",
    "d"
   ]
  },
  {
   "cell_type": "markdown",
   "metadata": {
    "id": "uPI8ucFnM9_4"
   },
   "source": [
    "Understanding each syntax by running in individual cells"
   ]
  },
  {
   "cell_type": "code",
   "execution_count": 12,
   "metadata": {
    "colab": {
     "base_uri": "https://localhost:8080/"
    },
    "id": "UZe3tZrsM144",
    "outputId": "a7a342b0-e302-45b3-9435-69421bf0e4eb"
   },
   "outputs": [
    {
     "data": {
      "text/plain": [
       "array([9.70466436e-02, 7.09592406e-02, 6.16908876e-02, 5.38941949e-02,\n",
       "       4.86879702e-02, 4.31223132e-02, 3.27192995e-02, 2.88389545e-02,\n",
       "       2.76202940e-02, 2.35700055e-02, 2.10918962e-02, 2.02299108e-02,\n",
       "       1.71581820e-02, 1.69211143e-02, 1.57864128e-02, 1.48295261e-02,\n",
       "       1.32456095e-02, 1.27689737e-02, 1.18726294e-02, 1.15268370e-02,\n",
       "       1.06616621e-02, 1.00671337e-02, 9.53573327e-03, 9.12543746e-03,\n",
       "       8.83404692e-03, 8.39319141e-03, 8.12578809e-03, 7.86366084e-03,\n",
       "       7.44733102e-03, 6.90859128e-03, 6.58093773e-03, 6.48147870e-03,\n",
       "       6.02615030e-03, 5.86582188e-03, 5.70021474e-03, 5.43627771e-03,\n",
       "       5.05786416e-03, 4.87858604e-03, 4.81429342e-03, 4.72266326e-03,\n",
       "       4.56746921e-03, 4.44836012e-03, 4.18501329e-03, 3.98215339e-03,\n",
       "       3.84974607e-03, 3.75103387e-03, 3.62008852e-03, 3.51591277e-03,\n",
       "       3.40058205e-03, 3.21874467e-03, 3.19017051e-03, 3.12804939e-03,\n",
       "       2.95982668e-03, 2.88954600e-03, 2.84130398e-03, 2.71435811e-03,\n",
       "       2.69521453e-03, 2.58472546e-03, 2.53770594e-03, 2.44780960e-03,\n",
       "       2.40506133e-03, 2.39262901e-03, 2.30408489e-03, 2.21532131e-03,\n",
       "       2.13720816e-03, 2.07225240e-03, 2.03042671e-03, 1.96782616e-03,\n",
       "       1.92852594e-03, 1.88632479e-03, 1.86977066e-03, 1.81082983e-03,\n",
       "       1.77562102e-03, 1.74898073e-03, 1.65758220e-03, 1.63893922e-03,\n",
       "       1.61462114e-03, 1.55116423e-03, 1.47612974e-03, 1.43176066e-03,\n",
       "       1.42094228e-03, 1.41153189e-03, 1.40174414e-03, 1.35736343e-03,\n",
       "       1.33847142e-03, 1.32396333e-03, 1.30157250e-03, 1.25873090e-03,\n",
       "       1.22828160e-03, 1.21584486e-03, 1.17034462e-03, 1.14873591e-03,\n",
       "       1.13244183e-03, 1.10885640e-03, 1.09001809e-03, 1.06923234e-03,\n",
       "       1.04195974e-03, 1.04006816e-03, 1.01256280e-03, 1.00527256e-03,\n",
       "       9.84017292e-04, 9.49686225e-04, 9.41340853e-04, 9.16166389e-04,\n",
       "       9.07850679e-04, 8.96872248e-04, 8.65391297e-04, 8.55172121e-04,\n",
       "       8.45619941e-04, 8.22495629e-04, 7.91584254e-04, 7.85938694e-04,\n",
       "       7.84606705e-04, 7.68831553e-04, 7.64015495e-04, 7.53088360e-04,\n",
       "       7.36782927e-04, 7.27131928e-04, 7.19651644e-04, 7.06816284e-04,\n",
       "       6.95424441e-04, 6.92161115e-04, 6.83303352e-04, 6.74060551e-04,\n",
       "       6.66876813e-04, 6.45265738e-04, 6.35594148e-04, 6.31646280e-04,\n",
       "       6.22933684e-04, 6.05290244e-04, 6.03588668e-04, 5.94480972e-04,\n",
       "       5.88307737e-04, 5.86520057e-04, 5.81340892e-04, 5.76831332e-04,\n",
       "       5.65369113e-04, 5.54764478e-04, 5.35170320e-04, 5.25925367e-04,\n",
       "       5.25093213e-04, 5.10256933e-04, 5.02970791e-04, 5.01077862e-04,\n",
       "       4.98712828e-04, 4.91069894e-04, 4.85537580e-04, 4.82846335e-04,\n",
       "       4.74013821e-04, 4.68351298e-04, 4.66598957e-04, 4.63327885e-04,\n",
       "       4.59293726e-04, 4.50379880e-04, 4.48807397e-04, 4.42709926e-04,\n",
       "       4.36674335e-04, 4.27448506e-04, 4.24979220e-04, 4.22012400e-04,\n",
       "       4.15513534e-04, 4.09637061e-04, 4.00823776e-04, 3.97882283e-04,\n",
       "       3.94080737e-04, 3.90493569e-04, 3.85852581e-04, 3.79776550e-04,\n",
       "       3.78899163e-04, 3.73939344e-04, 3.69414567e-04, 3.65150688e-04,\n",
       "       3.63813269e-04, 3.59874612e-04, 3.54642228e-04, 3.52897969e-04,\n",
       "       3.47288448e-04, 3.45957243e-04, 3.41447060e-04, 3.37645698e-04,\n",
       "       3.37094006e-04, 3.30227027e-04, 3.28354858e-04, 3.25907348e-04,\n",
       "       3.22944525e-04, 3.21269131e-04, 3.17299289e-04, 3.16174998e-04,\n",
       "       3.10942546e-04, 3.09536878e-04, 3.05966364e-04, 3.03274764e-04,\n",
       "       3.02410301e-04, 3.01568730e-04, 2.96707208e-04, 2.95746569e-04,\n",
       "       2.93471733e-04, 2.92672507e-04, 2.87752279e-04, 2.84345214e-04,\n",
       "       2.81966256e-04, 2.79070256e-04, 2.75734563e-04, 2.72474610e-04,\n",
       "       2.69435264e-04, 2.67707341e-04, 2.65120089e-04, 2.64327139e-04,\n",
       "       2.61882893e-04, 2.59450915e-04, 2.58556918e-04, 2.56922803e-04,\n",
       "       2.54736986e-04, 2.52811988e-04, 2.52289830e-04, 2.49562926e-04,\n",
       "       2.48516635e-04, 2.46074950e-04, 2.43954927e-04, 2.41863092e-04,\n",
       "       2.40968147e-04, 2.40443925e-04, 2.38269816e-04, 2.36853390e-04,\n",
       "       2.32578089e-04, 2.31308927e-04, 2.30128065e-04, 2.28086747e-04,\n",
       "       2.27583342e-04, 2.22776216e-04, 2.21863012e-04, 2.20442345e-04,\n",
       "       2.17866578e-04, 2.16656444e-04, 2.15163934e-04, 2.14194871e-04,\n",
       "       2.12855131e-04, 2.10372485e-04, 2.09755026e-04, 2.06961451e-04,\n",
       "       2.04723959e-04, 2.04271260e-04, 2.01314252e-04, 2.00984824e-04,\n",
       "       1.98996556e-04, 1.97630643e-04, 1.95827447e-04, 1.93728239e-04,\n",
       "       1.92858401e-04, 1.91772657e-04, 1.91541926e-04, 1.89077710e-04,\n",
       "       1.88012568e-04, 1.86392293e-04, 1.85847516e-04, 1.84618051e-04,\n",
       "       1.83695841e-04, 1.83146181e-04, 1.81880619e-04, 1.79866333e-04,\n",
       "       1.77555751e-04, 1.76688735e-04, 1.75962144e-04, 1.73882869e-04,\n",
       "       1.73428592e-04, 1.72645369e-04, 1.71385636e-04, 1.70036471e-04,\n",
       "       1.69300514e-04, 1.68005468e-04, 1.66921752e-04, 1.66452293e-04,\n",
       "       1.64205616e-04, 1.63481673e-04, 1.62658054e-04, 1.61890496e-04,\n",
       "       1.60891270e-04, 1.59843844e-04, 1.58832869e-04, 1.57351800e-04,\n",
       "       1.56737737e-04, 1.54897135e-04, 1.53808995e-04, 1.53067939e-04,\n",
       "       1.52038813e-04, 1.50010664e-04, 1.49664931e-04, 1.48229235e-04,\n",
       "       1.47673931e-04, 1.46127382e-04, 1.44652367e-04, 1.43233806e-04,\n",
       "       1.42722982e-04, 1.42069479e-04, 1.41748998e-04, 1.40492178e-04,\n",
       "       1.38237632e-04, 1.37972244e-04, 1.36841265e-04, 1.35975386e-04,\n",
       "       1.35795219e-04, 1.34509178e-04, 1.33617221e-04, 1.32342804e-04,\n",
       "       1.30701809e-04, 1.30189545e-04, 1.29162788e-04, 1.28111630e-04,\n",
       "       1.27515622e-04, 1.27217857e-04, 1.26338688e-04, 1.25860075e-04,\n",
       "       1.24730732e-04, 1.23562308e-04, 1.22621744e-04, 1.21567236e-04,\n",
       "       1.21027070e-04, 1.19967460e-04, 1.19422153e-04, 1.18948773e-04,\n",
       "       1.17872139e-04, 1.17059968e-04, 1.16494914e-04, 1.16099041e-04,\n",
       "       1.14530554e-04, 1.14216964e-04, 1.12406549e-04, 1.11275336e-04,\n",
       "       1.10540088e-04, 1.10430755e-04, 1.10058802e-04, 1.08974833e-04,\n",
       "       1.08323067e-04, 1.07595699e-04, 1.07004371e-04, 1.06204964e-04,\n",
       "       1.05929000e-04, 1.05049823e-04, 1.03420556e-04, 1.02250232e-04,\n",
       "       1.02045846e-04, 1.00845765e-04, 1.00264707e-04, 9.95977605e-05,\n",
       "       9.93729336e-05, 9.81249726e-05, 9.75951411e-05, 9.68311922e-05,\n",
       "       9.55244181e-05, 9.45448376e-05, 9.37982205e-05, 9.37227397e-05,\n",
       "       9.24930550e-05, 9.15874487e-05, 9.13967681e-05, 9.06741875e-05,\n",
       "       9.00751392e-05, 8.93704762e-05, 8.91559603e-05, 8.82613901e-05,\n",
       "       8.73279152e-05, 8.63095938e-05, 8.55753930e-05, 8.51577509e-05,\n",
       "       8.46020703e-05, 8.33128198e-05, 8.29779716e-05, 8.24987018e-05,\n",
       "       8.19115141e-05, 8.10903695e-05, 8.09031492e-05, 7.96086382e-05,\n",
       "       7.94683254e-05, 7.86261248e-05, 7.80611365e-05, 7.74252223e-05,\n",
       "       7.65902473e-05, 7.58039165e-05, 7.46096438e-05, 7.38457624e-05,\n",
       "       7.35691255e-05, 7.28156159e-05, 7.27140152e-05, 7.20667117e-05,\n",
       "       7.14164029e-05, 7.08057862e-05, 6.96516583e-05, 6.92450253e-05,\n",
       "       6.82996212e-05, 6.79383934e-05, 6.70585954e-05, 6.62344532e-05,\n",
       "       6.52426254e-05, 6.42024934e-05, 6.37103953e-05, 6.34535846e-05,\n",
       "       6.20327598e-05, 6.12865889e-05, 6.03190242e-05, 5.99282849e-05,\n",
       "       5.93680428e-05, 5.87299046e-05, 5.86206850e-05, 5.73862150e-05,\n",
       "       5.67253974e-05, 5.63738152e-05, 5.56164907e-05, 5.49012889e-05,\n",
       "       5.47388158e-05, 5.44730018e-05, 5.33301511e-05, 5.27555986e-05,\n",
       "       5.25476883e-05, 5.21982374e-05, 5.18520830e-05, 5.10148872e-05,\n",
       "       5.03810394e-05, 4.97554267e-05, 4.90673847e-05, 4.87008240e-05,\n",
       "       4.79421696e-05, 4.72082305e-05, 4.66606937e-05, 4.64426143e-05,\n",
       "       4.56015927e-05, 4.49094253e-05, 4.37134777e-05, 4.29265351e-05,\n",
       "       4.26090033e-05, 4.23856134e-05, 4.21742379e-05, 4.17847347e-05,\n",
       "       4.13870352e-05, 4.08461816e-05, 4.02868464e-05, 3.85887427e-05,\n",
       "       3.82519973e-05, 3.81418940e-05, 3.78838376e-05, 3.73238173e-05,\n",
       "       3.70742452e-05, 3.65901716e-05, 3.57648817e-05, 3.53579530e-05,\n",
       "       3.52531035e-05, 3.48699976e-05, 3.45505624e-05, 3.43835708e-05,\n",
       "       3.34025597e-05, 3.29991797e-05, 3.21984785e-05, 3.19393529e-05,\n",
       "       3.16408099e-05, 3.10130586e-05, 3.04092309e-05, 3.01560244e-05,\n",
       "       2.99062221e-05, 2.92128492e-05, 2.88664671e-05, 2.85184511e-05,\n",
       "       2.80650709e-05, 2.79074006e-05, 2.75173214e-05, 2.69453276e-05,\n",
       "       2.57726430e-05, 2.52920635e-05, 2.51629710e-05, 2.48282597e-05,\n",
       "       2.46875635e-05, 2.43564637e-05, 2.43141230e-05, 2.42490170e-05,\n",
       "       2.37258154e-05, 2.33513419e-05, 2.32170821e-05, 2.25184055e-05,\n",
       "       2.23652234e-05, 2.21184484e-05, 2.14323856e-05, 2.12954548e-05,\n",
       "       2.10673717e-05, 2.08562653e-05, 2.03771092e-05, 2.00897381e-05,\n",
       "       1.98644931e-05, 1.96245262e-05, 1.95146780e-05, 1.89596250e-05,\n",
       "       1.84494831e-05, 1.81866082e-05, 1.81024894e-05, 1.79573312e-05,\n",
       "       1.75884221e-05, 1.74099542e-05, 1.63583601e-05, 1.61730953e-05,\n",
       "       1.61083699e-05, 1.59039392e-05, 1.55391050e-05, 1.52059429e-05,\n",
       "       1.51670398e-05, 1.49795143e-05, 1.47584710e-05, 1.45782846e-05,\n",
       "       1.43546720e-05, 1.41770774e-05, 1.39621442e-05, 1.37897203e-05,\n",
       "       1.36745723e-05, 1.33331346e-05, 1.31039439e-05, 1.25487316e-05,\n",
       "       1.23813543e-05, 1.21852824e-05, 1.20015454e-05, 1.19125571e-05,\n",
       "       1.17766171e-05, 1.17307444e-05, 1.13788115e-05, 1.13168482e-05,\n",
       "       1.12463625e-05, 1.10026093e-05, 1.09370277e-05, 1.05700730e-05,\n",
       "       1.05384042e-05, 1.02320303e-05, 1.00219171e-05, 9.57486478e-06,\n",
       "       9.37248288e-06, 9.26034546e-06, 9.22225544e-06, 8.87165402e-06,\n",
       "       8.80979910e-06, 8.59229313e-06, 8.16018534e-06, 7.96991273e-06,\n",
       "       7.86719136e-06, 7.73393838e-06, 7.64388821e-06, 7.57753356e-06,\n",
       "       7.53194476e-06, 7.36860975e-06, 7.26920880e-06, 7.14866366e-06,\n",
       "       6.96162486e-06, 6.88111732e-06, 6.71536305e-06, 6.65581596e-06,\n",
       "       6.53801172e-06, 6.47011389e-06, 6.13990338e-06, 5.92738988e-06,\n",
       "       5.72723565e-06, 5.67724390e-06, 5.55498087e-06, 5.34937972e-06,\n",
       "       5.27072988e-06, 5.18255272e-06, 5.03922367e-06, 4.99553423e-06,\n",
       "       4.93269115e-06, 4.90087635e-06, 4.81064307e-06, 4.69601479e-06,\n",
       "       4.62328837e-06, 4.55458565e-06, 4.19828463e-06, 4.18489825e-06,\n",
       "       4.01272873e-06, 4.00155559e-06, 3.94513313e-06, 3.79975408e-06,\n",
       "       3.78085481e-06, 3.31217786e-06, 3.23787690e-06, 3.21258771e-06,\n",
       "       3.17519283e-06, 3.11957944e-06, 3.08216368e-06, 3.02581820e-06,\n",
       "       3.01214170e-06, 2.97070334e-06, 2.95593377e-06, 2.92458383e-06,\n",
       "       2.80376962e-06, 2.62845546e-06, 2.54993592e-06, 2.36170379e-06,\n",
       "       2.31546867e-06, 2.26296354e-06, 2.24474766e-06, 2.20769129e-06,\n",
       "       2.15115435e-06, 2.14663843e-06, 2.10203952e-06, 2.04177083e-06,\n",
       "       1.87914891e-06, 1.86506271e-06, 1.85219840e-06, 1.84445913e-06,\n",
       "       1.80037033e-06, 1.75433067e-06, 1.61843679e-06, 1.60540711e-06,\n",
       "       1.50347255e-06, 1.46105778e-06, 1.41330259e-06, 1.38834867e-06,\n",
       "       1.31820430e-06, 1.30323938e-06, 1.28464610e-06, 1.24683888e-06,\n",
       "       1.11920325e-06, 1.07840610e-06, 1.04794936e-06, 1.04158261e-06,\n",
       "       1.03574809e-06, 9.81224309e-07, 9.66405113e-07, 9.34492710e-07,\n",
       "       9.15745557e-07, 9.09785238e-07, 8.99058997e-07, 8.75386886e-07,\n",
       "       8.33145790e-07, 7.76131320e-07, 7.44965020e-07, 7.21840007e-07,\n",
       "       6.66633877e-07, 6.59729865e-07, 6.36906952e-07, 6.25560617e-07,\n",
       "       6.25377870e-07, 5.90925753e-07, 5.82886091e-07, 5.66883164e-07,\n",
       "       5.60965347e-07, 5.28215209e-07, 5.22247837e-07, 4.77481341e-07,\n",
       "       4.71665542e-07, 4.66136305e-07, 4.32275403e-07, 4.20436879e-07,\n",
       "       4.06474129e-07, 3.83887717e-07, 3.62130016e-07, 3.56661921e-07,\n",
       "       3.12316550e-07, 2.96830796e-07, 2.78415077e-07, 2.72680754e-07,\n",
       "       2.57484964e-07, 2.55549537e-07, 2.41288092e-07, 2.35705750e-07,\n",
       "       2.29940877e-07, 2.25352225e-07, 2.14995493e-07, 2.02536197e-07,\n",
       "       2.01439948e-07, 1.96168276e-07, 1.76740352e-07, 1.71228701e-07,\n",
       "       1.50993460e-07, 1.49718287e-07, 1.36601233e-07, 1.35304595e-07,\n",
       "       1.28053838e-07, 1.07049722e-07, 9.44896396e-08, 8.78391852e-08,\n",
       "       8.32650491e-08, 8.16810203e-08, 6.84887549e-08, 6.72368773e-08,\n",
       "       6.42105724e-08, 5.95888733e-08, 5.54025899e-08, 4.66118024e-08,\n",
       "       4.59353843e-08, 4.06522658e-08, 3.93584037e-08, 3.60455630e-08,\n",
       "       3.56938164e-08, 3.24021678e-08, 3.08761304e-08, 3.00483077e-08,\n",
       "       2.89071625e-08, 2.40250554e-08, 1.88466245e-08, 1.77257929e-08,\n",
       "       1.66299011e-08, 1.62047448e-08, 1.11501446e-08, 1.03068085e-08,\n",
       "       1.00984193e-08, 8.64471220e-09, 7.95800335e-09, 6.91637185e-09,\n",
       "       6.88523861e-09, 5.43217033e-09, 4.96586188e-09, 3.69822162e-09,\n",
       "       3.02034593e-09, 1.94007789e-09, 8.67383731e-10, 7.08189189e-10,\n",
       "       6.92261257e-10, 2.53506429e-10, 2.36219381e-10, 1.53059748e-11,\n",
       "       1.91843095e-32, 8.08858921e-33, 7.47192117e-33, 5.35202746e-33,\n",
       "       3.87120265e-33, 3.81480803e-33, 3.49388360e-33, 2.81697609e-33,\n",
       "       2.35673722e-33, 1.92010342e-33, 1.81911669e-33, 1.54253961e-33,\n",
       "       1.48052891e-33, 1.17551175e-33, 1.06969359e-33, 1.03254305e-33,\n",
       "       7.82263486e-34, 7.06567609e-34, 5.46276496e-34, 4.74187090e-34,\n",
       "       3.88680586e-34, 3.49747693e-34, 3.49747693e-34, 3.49747693e-34,\n",
       "       3.49747693e-34, 3.49747693e-34, 3.49747693e-34, 3.49747693e-34,\n",
       "       3.49747693e-34, 3.49747693e-34, 3.49747693e-34, 3.49747693e-34,\n",
       "       3.49747693e-34, 3.49747693e-34, 3.49747693e-34, 3.49747693e-34,\n",
       "       3.49747693e-34, 3.49747693e-34, 3.49747693e-34, 3.49747693e-34,\n",
       "       3.49747693e-34, 3.49747693e-34, 3.49747693e-34, 3.49747693e-34,\n",
       "       3.49747693e-34, 3.49747693e-34, 3.49747693e-34, 3.49747693e-34,\n",
       "       3.49747693e-34, 3.49747693e-34, 3.49747693e-34, 3.49747693e-34,\n",
       "       3.49747693e-34, 3.49747693e-34, 3.49747693e-34, 3.49747693e-34,\n",
       "       3.49747693e-34, 3.49747693e-34, 3.49747693e-34, 3.49747693e-34,\n",
       "       3.49747693e-34, 3.49747693e-34, 3.49747693e-34, 3.49747693e-34,\n",
       "       3.49747693e-34, 3.43018840e-34, 2.42233058e-34, 1.66399868e-34,\n",
       "       1.01931074e-34, 8.33112095e-35, 3.97106897e-35, 1.22340814e-35])"
      ]
     },
     "execution_count": 12,
     "metadata": {},
     "output_type": "execute_result"
    }
   ],
   "source": [
    "pca.explained_variance_ratio_"
   ]
  },
  {
   "cell_type": "code",
   "execution_count": 13,
   "metadata": {
    "colab": {
     "base_uri": "https://localhost:8080/"
    },
    "id": "MkWAmKiJ7mb8",
    "outputId": "38195856-9145-443e-ea75-81b1282841d3"
   },
   "outputs": [
    {
     "data": {
      "text/plain": [
       "array([0.09704664, 0.16800588, 0.22969677, 0.28359097, 0.33227894,\n",
       "       0.37540125, 0.40812055, 0.4369595 , 0.4645798 , 0.4881498 ,\n",
       "       0.5092417 , 0.52947161, 0.54662979, 0.56355091, 0.57933732,\n",
       "       0.59416685, 0.60741246, 0.62018143, 0.63205406, 0.6435809 ,\n",
       "       0.65424256, 0.66430969, 0.67384542, 0.68297086, 0.69180491,\n",
       "       0.7001981 , 0.70832389, 0.71618755, 0.72363488, 0.73054347,\n",
       "       0.73712441, 0.74360589, 0.74963204, 0.75549786, 0.76119807,\n",
       "       0.76663435, 0.77169222, 0.7765708 , 0.7813851 , 0.78610776,\n",
       "       0.79067523, 0.79512359, 0.7993086 , 0.80329076, 0.8071405 ,\n",
       "       0.81089154, 0.81451162, 0.81802754, 0.82142812, 0.82464686,\n",
       "       0.82783703, 0.83096508, 0.83392491, 0.83681446, 0.83965576,\n",
       "       0.84237012, 0.84506533, 0.84765006, 0.85018776, 0.85263557,\n",
       "       0.85504063, 0.85743326, 0.85973735, 0.86195267, 0.86408988,\n",
       "       0.86616213, 0.86819256, 0.87016038, 0.87208891, 0.87397523,\n",
       "       0.875845  , 0.87765583, 0.87943146, 0.88118044, 0.88283802,\n",
       "       0.88447696, 0.88609158, 0.88764274, 0.88911887, 0.89055063,\n",
       "       0.89197158, 0.89338311, 0.89478485, 0.89614222, 0.89748069,\n",
       "       0.89880465, 0.90010622, 0.90136495, 0.90259324, 0.90380908,\n",
       "       0.90497942, 0.90612816, 0.9072606 , 0.90836946, 0.90945948,\n",
       "       0.91052871, 0.91157067, 0.91261074, 0.9136233 , 0.91462857,\n",
       "       0.91561259, 0.91656228, 0.91750362, 0.91841978, 0.91932763,\n",
       "       0.92022451, 0.9210899 , 0.92194507, 0.92279069, 0.92361319,\n",
       "       0.92440477, 0.92519071, 0.92597531, 0.92674415, 0.92750816,\n",
       "       0.92826125, 0.92899803, 0.92972517, 0.93044482, 0.93115163,\n",
       "       0.93184706, 0.93253922, 0.93322252, 0.93389658, 0.93456346,\n",
       "       0.93520872, 0.93584432, 0.93647597, 0.9370989 , 0.93770419,\n",
       "       0.93830778, 0.93890226, 0.93949057, 0.94007709, 0.94065843,\n",
       "       0.94123526, 0.94180063, 0.94235539, 0.94289056, 0.94341649,\n",
       "       0.94394158, 0.94445184, 0.94495481, 0.94545589, 0.9459546 ,\n",
       "       0.94644567, 0.94693121, 0.94741405, 0.94788807, 0.94835642,\n",
       "       0.94882302, 0.94928635, 0.94974564, 0.95019602, 0.95064483,\n",
       "       0.95108754, 0.95152421, 0.95195166, 0.95237664, 0.95279865,\n",
       "       0.95321416, 0.9536238 , 0.95402463, 0.95442251, 0.95481659,\n",
       "       0.95520708, 0.95559293, 0.95597271, 0.95635161, 0.95672555,\n",
       "       0.95709496, 0.95746011, 0.95782393, 0.9581838 , 0.95853845,\n",
       "       0.95889134, 0.95923863, 0.95958459, 0.95992604, 0.96026368,\n",
       "       0.96060078, 0.960931  , 0.96125936, 0.96158526, 0.96190821,\n",
       "       0.96222948, 0.96254678, 0.96286295, 0.9631739 , 0.96348343,\n",
       "       0.9637894 , 0.96409267, 0.96439508, 0.96469665, 0.96499336,\n",
       "       0.96528911, 0.96558258, 0.96587525, 0.966163  , 0.96644735,\n",
       "       0.96672931, 0.96700838, 0.96728412, 0.96755659, 0.96782603,\n",
       "       0.96809374, 0.96835886, 0.96862318, 0.96888507, 0.96914452,\n",
       "       0.96940307, 0.96966   , 0.96991473, 0.97016755, 0.97041984,\n",
       "       0.9706694 , 0.97091792, 0.97116399, 0.97140794, 0.97164981,\n",
       "       0.97189078, 0.97213122, 0.97236949, 0.97260634, 0.97283892,\n",
       "       0.97307023, 0.97330036, 0.97352845, 0.97375603, 0.9739788 ,\n",
       "       0.97420067, 0.97442111, 0.97463898, 0.97485563, 0.9750708 ,\n",
       "       0.97528499, 0.97549785, 0.97570822, 0.97591797, 0.97612494,\n",
       "       0.97632966, 0.97653393, 0.97673525, 0.97693623, 0.97713523,\n",
       "       0.97733286, 0.97752868, 0.97772241, 0.97791527, 0.97810704,\n",
       "       0.97829859, 0.97848766, 0.97867568, 0.97886207, 0.97904792,\n",
       "       0.97923253, 0.97941623, 0.97959938, 0.97978126, 0.97996112,\n",
       "       0.98013868, 0.98031537, 0.98049133, 0.98066521, 0.98083864,\n",
       "       0.98101129, 0.98118267, 0.98135271, 0.98152201, 0.98169001,\n",
       "       0.98185694, 0.98202339, 0.98218759, 0.98235108, 0.98251373,\n",
       "       0.98267562, 0.98283652, 0.98299636, 0.98315519, 0.98331254,\n",
       "       0.98346928, 0.98362418, 0.98377799, 0.98393106, 0.9840831 ,\n",
       "       0.98423311, 0.98438277, 0.984531  , 0.98467867, 0.9848248 ,\n",
       "       0.98496945, 0.98511269, 0.98525541, 0.98539748, 0.98553923,\n",
       "       0.98567972, 0.98581796, 0.98595593, 0.98609277, 0.98622875,\n",
       "       0.98636454, 0.98649905, 0.98663267, 0.98676501, 0.98689571,\n",
       "       0.9870259 , 0.98715507, 0.98728318, 0.98741069, 0.98753791,\n",
       "       0.98766425, 0.98779011, 0.98791484, 0.9880384 , 0.98816102,\n",
       "       0.98828259, 0.98840362, 0.98852359, 0.98864301, 0.98876196,\n",
       "       0.98887983, 0.98899689, 0.98911338, 0.98922948, 0.98934401,\n",
       "       0.98945823, 0.98957064, 0.98968191, 0.98979245, 0.98990288,\n",
       "       0.99001294, 0.99012192, 0.99023024, 0.99033784, 0.99044484,\n",
       "       0.99055105, 0.99065697, 0.99076202, 0.99086544, 0.9909677 ,\n",
       "       0.99106974, 0.99117059, 0.99127085, 0.99137045, 0.99146982,\n",
       "       0.99156795, 0.99166554, 0.99176237, 0.9918579 , 0.99195244,\n",
       "       0.99204624, 0.99213996, 0.99223246, 0.99232404, 0.99241544,\n",
       "       0.99250612, 0.99259619, 0.99268556, 0.99277472, 0.99286298,\n",
       "       0.99295031, 0.99303662, 0.99312219, 0.99320735, 0.99329195,\n",
       "       0.99337526, 0.99345824, 0.99354074, 0.99362265, 0.99370374,\n",
       "       0.99378465, 0.99386425, 0.99394372, 0.99402235, 0.99410041,\n",
       "       0.99417783, 0.99425443, 0.99433023, 0.99440484, 0.99447868,\n",
       "       0.99455225, 0.99462507, 0.99469778, 0.99476985, 0.99484127,\n",
       "       0.99491207, 0.99498172, 0.99505097, 0.99511927, 0.99518721,\n",
       "       0.99525427, 0.9953205 , 0.99538574, 0.99544994, 0.99551366,\n",
       "       0.99557711, 0.99563914, 0.99570043, 0.99576075, 0.99582068,\n",
       "       0.99588004, 0.99593877, 0.99599739, 0.99605478, 0.99611151,\n",
       "       0.99616788, 0.9962235 , 0.9962784 , 0.99633314, 0.99638761,\n",
       "       0.99644094, 0.99649369, 0.99654624, 0.99659844, 0.99665029,\n",
       "       0.99670131, 0.99675169, 0.99680144, 0.99685051, 0.99689921,\n",
       "       0.99694715, 0.99699436, 0.99704102, 0.99708747, 0.99713307,\n",
       "       0.99717798, 0.99722169, 0.99726462, 0.99730723, 0.99734961,\n",
       "       0.99739179, 0.99743357, 0.99747496, 0.9975158 , 0.99755609,\n",
       "       0.99759468, 0.99763293, 0.99767107, 0.99770896, 0.99774628,\n",
       "       0.99778336, 0.99781995, 0.99785571, 0.99789107, 0.99792632,\n",
       "       0.99796119, 0.99799574, 0.99803013, 0.99806353, 0.99809653,\n",
       "       0.99812873, 0.99816067, 0.99819231, 0.99822332, 0.99825373,\n",
       "       0.99828388, 0.99831379, 0.998343  , 0.99837187, 0.99840039,\n",
       "       0.99842845, 0.99845636, 0.99848388, 0.99851082, 0.9985366 ,\n",
       "       0.99856189, 0.99858705, 0.99861188, 0.99863657, 0.99866092,\n",
       "       0.99868524, 0.99870949, 0.99873321, 0.99875656, 0.99877978,\n",
       "       0.9988023 , 0.99882466, 0.99884678, 0.99886822, 0.99888951,\n",
       "       0.99891058, 0.99893143, 0.99895181, 0.9989719 , 0.99899177,\n",
       "       0.99901139, 0.9990309 , 0.99904986, 0.99906831, 0.9990865 ,\n",
       "       0.9991046 , 0.99912256, 0.99914015, 0.99915756, 0.99917392,\n",
       "       0.99919009, 0.9992062 , 0.9992221 , 0.99923764, 0.99925285,\n",
       "       0.99926801, 0.99928299, 0.99929775, 0.99931233, 0.99932669,\n",
       "       0.99934086, 0.99935482, 0.99936861, 0.99938229, 0.99939562,\n",
       "       0.99940873, 0.99942127, 0.99943366, 0.99944584, 0.99945784,\n",
       "       0.99946976, 0.99948153, 0.99949326, 0.99950464, 0.99951596,\n",
       "       0.99952721, 0.99953821, 0.99954914, 0.99955971, 0.99957025,\n",
       "       0.99958049, 0.99959051, 0.99960008, 0.99960945, 0.99961871,\n",
       "       0.99962794, 0.99963681, 0.99964562, 0.99965421, 0.99966237,\n",
       "       0.99967034, 0.99967821, 0.99968594, 0.99969359, 0.99970116,\n",
       "       0.9997087 , 0.99971606, 0.99972333, 0.99973048, 0.99973744,\n",
       "       0.99974432, 0.99975104, 0.9997577 , 0.99976423, 0.9997707 ,\n",
       "       0.99977684, 0.99978277, 0.9997885 , 0.99979418, 0.99979973,\n",
       "       0.99980508, 0.99981035, 0.99981553, 0.99982057, 0.99982557,\n",
       "       0.9998305 , 0.9998354 , 0.99984021, 0.99984491, 0.99984953,\n",
       "       0.99985409, 0.99985828, 0.99986247, 0.99986648, 0.99987048,\n",
       "       0.99987443, 0.99987823, 0.99988201, 0.99988532, 0.99988856,\n",
       "       0.99989177, 0.99989495, 0.99989807, 0.99990115, 0.99990417,\n",
       "       0.99990719, 0.99991016, 0.99991311, 0.99991604, 0.99991884,\n",
       "       0.99992147, 0.99992402, 0.99992638, 0.9999287 , 0.99993096,\n",
       "       0.99993321, 0.99993541, 0.99993756, 0.99993971, 0.99994181,\n",
       "       0.99994385, 0.99994573, 0.9999476 , 0.99994945, 0.9999513 ,\n",
       "       0.9999531 , 0.99995485, 0.99995647, 0.99995807, 0.99995958,\n",
       "       0.99996104, 0.99996245, 0.99996384, 0.99996516, 0.99996646,\n",
       "       0.99996775, 0.99996899, 0.99997011, 0.99997119, 0.99997224,\n",
       "       0.99997328, 0.99997432, 0.9999753 , 0.99997626, 0.9999772 ,\n",
       "       0.99997811, 0.99997902, 0.99997992, 0.9999808 , 0.99998163,\n",
       "       0.99998241, 0.99998315, 0.99998387, 0.99998454, 0.9999852 ,\n",
       "       0.99998584, 0.99998646, 0.99998709, 0.99998768, 0.99998826,\n",
       "       0.99998883, 0.99998939, 0.99998992, 0.99999044, 0.99999092,\n",
       "       0.99999139, 0.99999186, 0.99999229, 0.99999271, 0.99999311,\n",
       "       0.9999935 , 0.99999386, 0.99999422, 0.99999453, 0.99999483,\n",
       "       0.99999511, 0.99999538, 0.99999564, 0.99999589, 0.99999613,\n",
       "       0.99999637, 0.9999966 , 0.99999682, 0.99999704, 0.99999724,\n",
       "       0.99999744, 0.99999764, 0.99999782, 0.99999799, 0.99999814,\n",
       "       0.99999829, 0.99999842, 0.99999856, 0.99999869, 0.99999879,\n",
       "       0.99999889, 0.99999898, 0.99999906, 0.99999914, 0.99999921,\n",
       "       0.99999928, 0.99999934, 0.9999994 , 0.99999946, 0.9999995 ,\n",
       "       0.99999955, 0.99999959, 0.99999963, 0.99999966, 0.9999997 ,\n",
       "       0.99999973, 0.99999976, 0.99999979, 0.99999982, 0.99999985,\n",
       "       0.99999987, 0.99999988, 0.9999999 , 0.99999992, 0.99999993,\n",
       "       0.99999994, 0.99999995, 0.99999996, 0.99999996, 0.99999997,\n",
       "       0.99999998, 0.99999998, 0.99999999, 0.99999999, 1.        ,\n",
       "       1.        , 1.        , 1.        , 1.        , 1.        ,\n",
       "       1.        , 1.        , 1.        , 1.        , 1.        ,\n",
       "       1.        , 1.        , 1.        , 1.        , 1.        ,\n",
       "       1.        , 1.        , 1.        , 1.        , 1.        ,\n",
       "       1.        , 1.        , 1.        , 1.        , 1.        ,\n",
       "       1.        , 1.        , 1.        , 1.        , 1.        ,\n",
       "       1.        , 1.        , 1.        , 1.        , 1.        ,\n",
       "       1.        , 1.        , 1.        , 1.        , 1.        ,\n",
       "       1.        , 1.        , 1.        , 1.        , 1.        ,\n",
       "       1.        , 1.        , 1.        , 1.        , 1.        ,\n",
       "       1.        , 1.        , 1.        , 1.        , 1.        ,\n",
       "       1.        , 1.        , 1.        , 1.        , 1.        ,\n",
       "       1.        , 1.        , 1.        , 1.        , 1.        ,\n",
       "       1.        , 1.        , 1.        , 1.        , 1.        ,\n",
       "       1.        , 1.        , 1.        , 1.        , 1.        ,\n",
       "       1.        , 1.        , 1.        , 1.        ])"
      ]
     },
     "execution_count": 13,
     "metadata": {},
     "output_type": "execute_result"
    }
   ],
   "source": [
    "cumsum=np.cumsum(pca.explained_variance_ratio_)\n",
    "cumsum"
   ]
  },
  {
   "cell_type": "markdown",
   "metadata": {
    "id": "QkZ0kl8wNoxX"
   },
   "source": [
    "#### Visualizing the cumsum"
   ]
  },
  {
   "cell_type": "code",
   "execution_count": 14,
   "metadata": {
    "colab": {
     "base_uri": "https://localhost:8080/",
     "height": 320
    },
    "id": "222bH74CNgBJ",
    "outputId": "b70b27e4-ea74-4256-bf8c-e01b1614e2d7"
   },
   "outputs": [
    {
     "name": "stdout",
     "output_type": "stream",
     "text": [
      "Total number of features : 784 \n",
      "\n"
     ]
    },
    {
     "data": {
      "text/plain": [
       "[<matplotlib.lines.Line2D at 0x7f12f39e65d0>]"
      ]
     },
     "execution_count": 14,
     "metadata": {},
     "output_type": "execute_result"
    },
    {
     "data": {
      "image/png": "[encoded data removed]",
      "text/plain": [
       "<Figure size 432x288 with 1 Axes>"
      ]
     },
     "metadata": {
      "needs_background": "light"
     },
     "output_type": "display_data"
    }
   ],
   "source": [
    "n=len(cumsum)\n",
    "print('Total number of features :', n,'\\n')\n",
    "xx=np.arange(1,n+1)\n",
    "plt.plot(xx,cumsum)"
   ]
  },
  {
   "cell_type": "markdown",
   "metadata": {
    "id": "oW9rJNB7Oxy4"
   },
   "source": [
    "#### Reducing the features of Training data using PCA"
   ]
  },
  {
   "cell_type": "code",
   "execution_count": 15,
   "metadata": {
    "id": "ZSzvd0IV_Fh4"
   },
   "outputs": [],
   "source": [
    "pca=PCA(n_components=154)\n",
    "X_train_reduced=pca.fit_transform(X_train)"
   ]
  },
  {
   "cell_type": "markdown",
   "metadata": {
    "id": "yZ8TG7BJAO_n"
   },
   "source": [
    "#### Similarly reducing the features of Test data using PCA\n",
    "visualizing any one data: "
   ]
  },
  {
   "cell_type": "code",
   "execution_count": 16,
   "metadata": {
    "colab": {
     "base_uri": "https://localhost:8080/",
     "height": 265
    },
    "id": "i_pKtzouAODX",
    "outputId": "59a8e467-d3ba-4338-8d2b-cac15be3e4b9"
   },
   "outputs": [
    {
     "data": {
      "image/png": "[encoded data removed]",
      "text/plain": [
       "<Figure size 432x288 with 1 Axes>"
      ]
     },
     "metadata": {
      "needs_background": "light"
     },
     "output_type": "display_data"
    }
   ],
   "source": [
    "sample_digit = X_test[10]\n",
    "sample_digit_image = sample_digit.reshape(28, 28)\n",
    "plt.imshow(sample_digit_image, cmap=mpl.cm.binary)\n",
    "plt.show()"
   ]
  },
  {
   "cell_type": "markdown",
   "metadata": {
    "id": "eBhO3yAiPby6"
   },
   "source": [
    "Reducing Test data feature:"
   ]
  },
  {
   "cell_type": "code",
   "execution_count": 17,
   "metadata": {
    "id": "C-R4-F4z_yac"
   },
   "outputs": [],
   "source": [
    "X_test_reduced=pca.fit_transform(X_test)"
   ]
  },
  {
   "cell_type": "markdown",
   "metadata": {
    "id": "ZStfDqFY_N2h"
   },
   "source": [
    "#### Applying Classification Algorithm after PCA\n",
    "Now apply classification operation in 'X_reduced' data. While most of the variance(95%) is preserved, the dataset is now less than 20% of its original size. This speeds up the classification algorithm tremendously."
   ]
  },
  {
   "cell_type": "markdown",
   "metadata": {
    "id": "tt6t2maBP-N9"
   },
   "source": [
    "Training:"
   ]
  },
  {
   "cell_type": "code",
   "execution_count": 18,
   "metadata": {
    "colab": {
     "base_uri": "https://localhost:8080/"
    },
    "id": "TdeHpdRb_W9v",
    "outputId": "35dfe2ac-ddfd-4660-aae7-4920f0c47cf3"
   },
   "outputs": [
    {
     "name": "stdout",
     "output_type": "stream",
     "text": [
      "CPU times: user 43.4 s, sys: 42 ms, total: 43.5 s\n",
      "Wall time: 43.3 s\n"
     ]
    }
   ],
   "source": [
    "%%time\n",
    "from sklearn.linear_model import SGDClassifier\n",
    "sgd_clf = SGDClassifier(max_iter=1000, tol=1e-3, random_state=42)\n",
    "sgd_clf.fit(X_train_reduced, y_train)"
   ]
  },
  {
   "cell_type": "markdown",
   "metadata": {
    "id": "crSl-UAwQA5V"
   },
   "source": [
    "Prediction:"
   ]
  },
  {
   "cell_type": "code",
   "execution_count": 19,
   "metadata": {
    "colab": {
     "base_uri": "https://localhost:8080/"
    },
    "id": "JinJIk_H_fHg",
    "outputId": "36f8d7db-f0ef-4561-d6d3-4727f26711d5"
   },
   "outputs": [
    {
     "data": {
      "text/plain": [
       "array([0], dtype=uint8)"
      ]
     },
     "execution_count": 19,
     "metadata": {},
     "output_type": "execute_result"
    }
   ],
   "source": [
    "sgd_clf.predict([X_test_reduced[10]])"
   ]
  },
  {
   "cell_type": "markdown",
   "metadata": {
    "id": "X9Mp2myeEgFo"
   },
   "source": [
    "### Measuring accuracy"
   ]
  },
  {
   "cell_type": "code",
   "execution_count": 20,
   "metadata": {
    "colab": {
     "base_uri": "https://localhost:8080/"
    },
    "id": "awfh3dcZBg6A",
    "outputId": "5e9fcb06-8efa-47ef-ba87-124d15200e0b"
   },
   "outputs": [
    {
     "name": "stdout",
     "output_type": "stream",
     "text": [
      "[0.88085 0.8798  0.8861 ]\n",
      "CPU times: user 1min 35s, sys: 331 ms, total: 1min 35s\n",
      "Wall time: 1min 35s\n"
     ]
    }
   ],
   "source": [
    "%%time\n",
    "from sklearn.model_selection import cross_val_score\n",
    "print(cross_val_score(sgd_clf, X_train_reduced, y_train, cv=3, scoring=\"accuracy\"))"
   ]
  },
  {
   "cell_type": "markdown",
   "metadata": {
    "id": "noI28nNJCbPR"
   },
   "source": [
    "### Transform data back to its original space.\n",
    "Reducing feature of X_train using PCA:"
   ]
  },
  {
   "cell_type": "code",
   "execution_count": 31,
   "metadata": {
    "id": "7MmtdJN5aTMV"
   },
   "outputs": [],
   "source": [
    "pca=PCA(n_components=154)\n",
    "X_reduced=pca.fit_transform(X_train)"
   ]
  },
  {
   "cell_type": "markdown",
   "metadata": {
    "id": "ysg2vcBua2kN"
   },
   "source": [
    "Recovering back the features of X_reduced:"
   ]
  },
  {
   "cell_type": "code",
   "execution_count": 32,
   "metadata": {
    "id": "shNpLwVaCfGV"
   },
   "outputs": [],
   "source": [
    "X_recovered = pca.inverse_transform(X_reduced)"
   ]
  },
  {
   "cell_type": "markdown",
   "metadata": {
    "id": "K49EFyX3bCiW"
   },
   "source": [
    "Visualizing and comparing with original data:\n",
    "* Recovered sample image"
   ]
  },
  {
   "cell_type": "code",
   "execution_count": 33,
   "metadata": {
    "colab": {
     "base_uri": "https://localhost:8080/",
     "height": 265
    },
    "id": "bIvITcoBCix3",
    "outputId": "dda3168a-9ef8-4775-8004-7032e430f311"
   },
   "outputs": [
    {
     "data": {
      "image/png": "[encoded data removed]",
      "text/plain": [
       "<Figure size 432x288 with 1 Axes>"
      ]
     },
     "metadata": {
      "needs_background": "light"
     },
     "output_type": "display_data"
    }
   ],
   "source": [
    "sample_digit = X_recovered[20]\n",
    "sample_digit_image = sample_digit.reshape(28, 28)\n",
    "plt.imshow(sample_digit_image, cmap=mpl.cm.binary)\n",
    "plt.show()"
   ]
  },
  {
   "cell_type": "markdown",
   "metadata": {
    "id": "S3X4ij-SbUG7"
   },
   "source": [
    "* Original sample image"
   ]
  },
  {
   "cell_type": "code",
   "execution_count": 34,
   "metadata": {
    "colab": {
     "base_uri": "https://localhost:8080/",
     "height": 265
    },
    "id": "OdAtixL-VIZx",
    "outputId": "a3c763e2-2314-452f-de1f-e49afea4f5c6"
   },
   "outputs": [
    {
     "data": {
      "image/png": "[encoded data removed]",
      "text/plain": [
       "<Figure size 432x288 with 1 Axes>"
      ]
     },
     "metadata": {
      "needs_background": "light"
     },
     "output_type": "display_data"
    }
   ],
   "source": [
    "sample_digit = X_train[20]\n",
    "sample_digit_image = sample_digit.reshape(28, 28)\n",
    "plt.imshow(sample_digit_image, cmap=mpl.cm.binary)\n",
    "plt.show()"
   ]
  }
 ],
 "metadata": {
  "colab": {
   "collapsed_sections": [],
   "name": "PCA_Walkthrough.ipynb",
   "provenance": []
  },
  "kernelspec": {
   "display_name": "Python 3",
   "language": "python",
   "name": "python3"
  },
  "language_info": {
   "codemirror_mode": {
    "name": "ipython",
    "version": 3
   },
   "file_extension": ".py",
   "mimetype": "text/x-python",
   "name": "python",
   "nbconvert_exporter": "python",
   "pygments_lexer": "ipython3",
   "version": "3.8.8"
  }
 },
 "nbformat": 4,
 "nbformat_minor": 1
}
