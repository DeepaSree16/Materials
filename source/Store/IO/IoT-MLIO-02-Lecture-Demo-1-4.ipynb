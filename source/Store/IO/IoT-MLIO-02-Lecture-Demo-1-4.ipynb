{
  "cells": [
    {
      "cell_type": "code",
      "execution_count": null,
      "metadata": {
        "id": "BIOwSer_sJly"
      },
      "outputs": [],
      "source": [
        "import matplotlib.pyplot as plt\n",
        "import pandas as pd\n",
        "import numpy as np"
      ]
    },
    {
      "cell_type": "markdown",
      "source": [
        "#### Different Kind of Plots\n",
        "* .plot()\n",
        "* .scatter()\n",
        "* .hist()\n",
        "* .bar()"
      ],
      "metadata": {
        "id": "zLzQdrRw8mGr"
      }
    },
    {
      "cell_type": "markdown",
      "metadata": {
        "id": "fylpyvN2sJl4"
      },
      "source": [
        "### Plotting : y = 3x + 1\n",
        "\n",
        "#### .pot()"
      ]
    },
    {
      "cell_type": "code",
      "source": [
        "x=np.linspace(-3,3,7)\n",
        "print('x: ',x,'\\n')\n",
        "y=3*x+1\n",
        "print('y: ',y,'\\n')\n",
        "## Plotting\n",
        "plt.plot(x,y,'r-o',linewidth=3,markersize=6)\n",
        "plt.xlabel('X-Values')\n",
        "plt.ylabel('Y-Values')\n",
        "plt.axvline()\n",
        "plt.axhline()\n",
        "plt.grid(True)"
      ],
      "metadata": {
        "id": "O04pbODm8hgf",
        "colab": {
          "base_uri": "https://localhost:8080/",
          "height": 352
        },
        "outputId": "277982ff-60a9-4a8b-e75d-12c38bb3b06f"
      },
      "execution_count": null,
      "outputs": [
        {
          "output_type": "stream",
          "name": "stdout",
          "text": [
            "x:  [-3. -2. -1.  0.  1.  2.  3.] \n",
            "\n",
            "y:  [-8. -5. -2.  1.  4.  7. 10.] \n",
            "\n"
          ]
        },
        {
          "output_type": "display_data",
          "data": {
            "text/plain": [
              "<Figure size 432x288 with 1 Axes>"
            ],
            "image/png": "[encoded data removed]"
          },
          "metadata": {
            "needs_background": "light"
          }
        }
      ]
    },
    {
      "cell_type": "markdown",
      "source": [
        "#### Scatter plot"
      ],
      "metadata": {
        "id": "O3fT8TIWge-D"
      }
    },
    {
      "cell_type": "code",
      "source": [
        "!wget https://cdn.extras.talentsprint.com/IOT/Data/data1.txt\n"
      ],
      "metadata": {
        "colab": {
          "base_uri": "https://localhost:8080/"
        },
        "id": "dILwMVH6i-Ty",
        "outputId": "d26caf4e-4bb1-4f7c-80d7-586eba21c58f"
      },
      "execution_count": null,
      "outputs": [
        {
          "output_type": "stream",
          "name": "stdout",
          "text": [
            "--2022-03-13 09:11:24--  https://cdn.extras.talentsprint.com/IOT/Data/data1.txt\n",
            "Resolving cdn.extras.talentsprint.com (cdn.extras.talentsprint.com)... 172.105.52.210\n",
            "Connecting to cdn.extras.talentsprint.com (cdn.extras.talentsprint.com)|172.105.52.210|:443... connected.\n",
            "HTTP request sent, awaiting response... 200 OK\n",
            "Length: 1359 (1.3K) [text/plain]\n",
            "Saving to: ‘data1.txt.1’\n",
            "\n",
            "data1.txt.1         100%[===================>]   1.33K  --.-KB/s    in 0s      \n",
            "\n",
            "2022-03-13 09:11:26 (207 MB/s) - ‘data1.txt.1’ saved [1359/1359]\n",
            "\n"
          ]
        }
      ]
    },
    {
      "cell_type": "code",
      "source": [
        "data=pd.read_csv('data1.txt',header=None)\n",
        "data.rename(columns={0:'Visitor Count',1:'Revenue'},inplace=True)\n",
        "data.head()"
      ],
      "metadata": {
        "id": "-PTT-zUx8h8k",
        "colab": {
          "base_uri": "https://localhost:8080/",
          "height": 206
        },
        "outputId": "9e0b0aeb-39bc-42ba-a6cc-4b4a2b697f41"
      },
      "execution_count": null,
      "outputs": [
        {
          "output_type": "execute_result",
          "data": {
            "text/plain": [
              "   Visitor Count  Revenue\n",
              "0         6.1101  17.5920\n",
              "1         5.5277   9.1302\n",
              "2         8.5186  13.6620\n",
              "3         7.0032  11.8540\n",
              "4         5.8598   6.8233"
            ],
            "text/html": [
              "\n",
              "  <div id=\"df-584b7444-b528-4552-85b7-e3fda3b0ad96\">\n",
              "    <div class=\"colab-df-container\">\n",
              "      <div>\n",
              "<style scoped>\n",
              "    .dataframe tbody tr th:only-of-type {\n",
              "        vertical-align: middle;\n",
              "    }\n",
              "\n",
              "    .dataframe tbody tr th {\n",
              "        vertical-align: top;\n",
              "    }\n",
              "\n",
              "    .dataframe thead th {\n",
              "        text-align: right;\n",
              "    }\n",
              "</style>\n",
              "<table border=\"1\" class=\"dataframe\">\n",
              "  <thead>\n",
              "    <tr style=\"text-align: right;\">\n",
              "      <th></th>\n",
              "      <th>Visitor Count</th>\n",
              "      <th>Revenue</th>\n",
              "    </tr>\n",
              "  </thead>\n",
              "  <tbody>\n",
              "    <tr>\n",
              "      <th>0</th>\n",
              "      <td>6.1101</td>\n",
              "      <td>17.5920</td>\n",
              "    </tr>\n",
              "    <tr>\n",
              "      <th>1</th>\n",
              "      <td>5.5277</td>\n",
              "      <td>9.1302</td>\n",
              "    </tr>\n",
              "    <tr>\n",
              "      <th>2</th>\n",
              "      <td>8.5186</td>\n",
              "      <td>13.6620</td>\n",
              "    </tr>\n",
              "    <tr>\n",
              "      <th>3</th>\n",
              "      <td>7.0032</td>\n",
              "      <td>11.8540</td>\n",
              "    </tr>\n",
              "    <tr>\n",
              "      <th>4</th>\n",
              "      <td>5.8598</td>\n",
              "      <td>6.8233</td>\n",
              "    </tr>\n",
              "  </tbody>\n",
              "</table>\n",
              "</div>\n",
              "      <button class=\"colab-df-convert\" onclick=\"convertToInteractive('df-584b7444-b528-4552-85b7-e3fda3b0ad96')\"\n",
              "              title=\"Convert this dataframe to an interactive table.\"\n",
              "              style=\"display:none;\">\n",
              "        \n",
              "  <svg xmlns=\"http://www.w3.org/2000/svg\" height=\"24px\"viewBox=\"0 0 24 24\"\n",
              "       width=\"24px\">\n",
              "    <path d=\"M0 0h24v24H0V0z\" fill=\"none\"/>\n",
              "    <path d=\"M18.56 5.44l.94 2.06.94-2.06 2.06-.94-2.06-.94-.94-2.06-.94 2.06-2.06.94zm-11 1L8.5 8.5l.94-2.06 2.06-.94-2.06-.94L8.5 2.5l-.94 2.06-2.06.94zm10 10l.94 2.06.94-2.06 2.06-.94-2.06-.94-.94-2.06-.94 2.06-2.06.94z\"/><path d=\"M17.41 7.96l-1.37-1.37c-.4-.4-.92-.59-1.43-.59-.52 0-1.04.2-1.43.59L10.3 9.45l-7.72 7.72c-.78.78-.78 2.05 0 2.83L4 21.41c.39.39.9.59 1.41.59.51 0 1.02-.2 1.41-.59l7.78-7.78 2.81-2.81c.8-.78.8-2.07 0-2.86zM5.41 20L4 18.59l7.72-7.72 1.47 1.35L5.41 20z\"/>\n",
              "  </svg>\n",
              "      </button>\n",
              "      \n",
              "  <style>\n",
              "    .colab-df-container {\n",
              "      display:flex;\n",
              "      flex-wrap:wrap;\n",
              "      gap: 12px;\n",
              "    }\n",
              "\n",
              "    .colab-df-convert {\n",
              "      background-color: #E8F0FE;\n",
              "      border: none;\n",
              "      border-radius: 50%;\n",
              "      cursor: pointer;\n",
              "      display: none;\n",
              "      fill: #1967D2;\n",
              "      height: 32px;\n",
              "      padding: 0 0 0 0;\n",
              "      width: 32px;\n",
              "    }\n",
              "\n",
              "    .colab-df-convert:hover {\n",
              "      background-color: #E2EBFA;\n",
              "      box-shadow: 0px 1px 2px rgba(60, 64, 67, 0.3), 0px 1px 3px 1px rgba(60, 64, 67, 0.15);\n",
              "      fill: #174EA6;\n",
              "    }\n",
              "\n",
              "    [theme=dark] .colab-df-convert {\n",
              "      background-color: #3B4455;\n",
              "      fill: #D2E3FC;\n",
              "    }\n",
              "\n",
              "    [theme=dark] .colab-df-convert:hover {\n",
              "      background-color: #434B5C;\n",
              "      box-shadow: 0px 1px 3px 1px rgba(0, 0, 0, 0.15);\n",
              "      filter: drop-shadow(0px 1px 2px rgba(0, 0, 0, 0.3));\n",
              "      fill: #FFFFFF;\n",
              "    }\n",
              "  </style>\n",
              "\n",
              "      <script>\n",
              "        const buttonEl =\n",
              "          document.querySelector('#df-584b7444-b528-4552-85b7-e3fda3b0ad96 button.colab-df-convert');\n",
              "        buttonEl.style.display =\n",
              "          google.colab.kernel.accessAllowed ? 'block' : 'none';\n",
              "\n",
              "        async function convertToInteractive(key) {\n",
              "          const element = document.querySelector('#df-584b7444-b528-4552-85b7-e3fda3b0ad96');\n",
              "          const dataTable =\n",
              "            await google.colab.kernel.invokeFunction('convertToInteractive',\n",
              "                                                     [key], {});\n",
              "          if (!dataTable) return;\n",
              "\n",
              "          const docLinkHtml = 'Like what you see? Visit the ' +\n",
              "            '<a target=\"_blank\" href=https://colab.research.google.com/notebooks/data_table.ipynb>data table notebook</a>'\n",
              "            + ' to learn more about interactive tables.';\n",
              "          element.innerHTML = '';\n",
              "          dataTable['output_type'] = 'display_data';\n",
              "          await google.colab.output.renderOutput(dataTable, element);\n",
              "          const docLink = document.createElement('div');\n",
              "          docLink.innerHTML = docLinkHtml;\n",
              "          element.appendChild(docLink);\n",
              "        }\n",
              "      </script>\n",
              "    </div>\n",
              "  </div>\n",
              "  "
            ]
          },
          "metadata": {},
          "execution_count": 23
        }
      ]
    },
    {
      "cell_type": "code",
      "source": [
        "data.info()"
      ],
      "metadata": {
        "colab": {
          "base_uri": "https://localhost:8080/"
        },
        "id": "Z0DHxUQfhLjW",
        "outputId": "8b6e4bc2-9732-4071-d595-42ef57a0ba15"
      },
      "execution_count": null,
      "outputs": [
        {
          "output_type": "stream",
          "name": "stdout",
          "text": [
            "<class 'pandas.core.frame.DataFrame'>\n",
            "RangeIndex: 97 entries, 0 to 96\n",
            "Data columns (total 2 columns):\n",
            " #   Column         Non-Null Count  Dtype  \n",
            "---  ------         --------------  -----  \n",
            " 0   Visitor Count  97 non-null     float64\n",
            " 1   Revenue        97 non-null     float64\n",
            "dtypes: float64(2)\n",
            "memory usage: 1.6 KB\n"
          ]
        }
      ]
    },
    {
      "cell_type": "code",
      "source": [
        "x=data['Visitor Count'].values\n",
        "print(x,'\\n')\n",
        "y=data['Revenue'].values\n",
        "y   "
      ],
      "metadata": {
        "id": "6T0Aebnu8iG4"
      },
      "execution_count": null,
      "outputs": []
    },
    {
      "cell_type": "code",
      "source": [
        "plt.scatter(x,y)\n",
        "plt.xlabel('Visitors count')\n",
        "plt.ylabel('Revenue')"
      ],
      "metadata": {
        "id": "tw2nHwGt8iP7",
        "colab": {
          "base_uri": "https://localhost:8080/",
          "height": 298
        },
        "outputId": "af26b92d-e2a1-4fed-f483-4d620a4b00be"
      },
      "execution_count": null,
      "outputs": [
        {
          "output_type": "execute_result",
          "data": {
            "text/plain": [
              "Text(0, 0.5, 'Revenue')"
            ]
          },
          "metadata": {},
          "execution_count": 30
        },
        {
          "output_type": "display_data",
          "data": {
            "text/plain": [
              "<Figure size 432x288 with 1 Axes>"
            ],
            "image/png": "[encoded data removed]"
          },
          "metadata": {
            "needs_background": "light"
          }
        }
      ]
    },
    {
      "cell_type": "markdown",
      "source": [
        "#### Diving a little more deeper into plotting\n",
        "### Plotting : y = 3x + 1"
      ],
      "metadata": {
        "id": "2VBWwYbXjUYU"
      }
    },
    {
      "cell_type": "code",
      "source": [
        "# Data Generation\n",
        "x=np.linspace(-3,3,7)\n",
        "print('x: ',x,'\\n')\n",
        "y=3*x+1\n",
        "print('y: ',y,'\\n')\n",
        "\n",
        "## Plotting\n",
        "plt.figure(figsize=(10,6))  ## Controlling the size of the figure\n",
        "plt.title('X-values VS Y-values',fontsize=20)\n",
        "plt.plot(x,y,'r-o',linewidth=3,markersize=6,label='line')\n",
        "plt.xlabel('X-Values',fontsize=12)\n",
        "plt.ylabel('Y-Values',fontsize=12)\n",
        "plt.axvline(color='k',label='Y-axis')\n",
        "plt.axhline(label='X-axis')\n",
        "plt.grid(True)\n",
        "plt.legend(loc='upper left')"
      ],
      "metadata": {
        "colab": {
          "base_uri": "https://localhost:8080/",
          "height": 504
        },
        "id": "NRFG0JVGjabR",
        "outputId": "242d4589-1040-4db9-f8ba-808475b9909a"
      },
      "execution_count": null,
      "outputs": [
        {
          "output_type": "stream",
          "name": "stdout",
          "text": [
            "x:  [-3. -2. -1.  0.  1.  2.  3.] \n",
            "\n",
            "y:  [-8. -5. -2.  1.  4.  7. 10.] \n",
            "\n"
          ]
        },
        {
          "output_type": "execute_result",
          "data": {
            "text/plain": [
              "<matplotlib.legend.Legend at 0x7ff25e4c6350>"
            ]
          },
          "metadata": {},
          "execution_count": 46
        },
        {
          "output_type": "display_data",
          "data": {
            "text/plain": [
              "<Figure size 720x432 with 1 Axes>"
            ],
            "image/png": "[encoded data removed]"
          },
          "metadata": {
            "needs_background": "light"
          }
        }
      ]
    },
    {
      "cell_type": "code",
      "source": [
        ""
      ],
      "metadata": {
        "id": "Cfh5jwx9ncq6"
      },
      "execution_count": null,
      "outputs": []
    },
    {
      "cell_type": "markdown",
      "source": [
        "### Let's take a function,  $f(x) = x^{2} + 5$ \n",
        "* $ y=x^{2} + 5$ "
      ],
      "metadata": {
        "id": "AaUxOEnEnnfR"
      }
    },
    {
      "cell_type": "code",
      "source": [
        "x=np.linspace(-10,10,100)\n",
        "y=x**2+5\n",
        "plt.plot(x,y,'r-o')"
      ],
      "metadata": {
        "colab": {
          "base_uri": "https://localhost:8080/",
          "height": 283
        },
        "id": "q7UhfucAnzQS",
        "outputId": "cabd8e30-5620-4c10-80a8-6009c2395fda"
      },
      "execution_count": null,
      "outputs": [
        {
          "output_type": "execute_result",
          "data": {
            "text/plain": [
              "[<matplotlib.lines.Line2D at 0x7ff25e218c90>]"
            ]
          },
          "metadata": {},
          "execution_count": 51
        },
        {
          "output_type": "display_data",
          "data": {
            "text/plain": [
              "<Figure size 432x288 with 1 Axes>"
            ],
            "image/png": "[encoded data removed]"
          },
          "metadata": {
            "needs_background": "light"
          }
        }
      ]
    },
    {
      "cell_type": "markdown",
      "source": [
        "#### Histogram plot and Bar plot\n",
        "\n",
        "* Understanding histogram"
      ],
      "metadata": {
        "id": "QRVgGz75mxGH"
      }
    },
    {
      "cell_type": "code",
      "source": [
        "count,bins =  np.histogram(x1,5)\n",
        "print(count,'\\n')\n",
        "print(bins)\n",
        "\n"
      ],
      "metadata": {
        "colab": {
          "base_uri": "https://localhost:8080/"
        },
        "id": "vHybPYH2q6jj",
        "outputId": "968ac40d-8944-4117-850c-e703d163a3be"
      },
      "execution_count": null,
      "outputs": [
        {
          "output_type": "stream",
          "name": "stdout",
          "text": [
            "[11 10  6 13 10] \n",
            "\n",
            "[ 9. 27. 45. 63. 81. 99.]\n"
          ]
        }
      ]
    },
    {
      "cell_type": "code",
      "source": [
        "x1.sort()"
      ],
      "metadata": {
        "id": "A_PtZobprUIB"
      },
      "execution_count": null,
      "outputs": []
    },
    {
      "cell_type": "code",
      "source": [
        "x1"
      ],
      "metadata": {
        "colab": {
          "base_uri": "https://localhost:8080/"
        },
        "id": "6GIKy9MwrlAg",
        "outputId": "0824706d-4e1e-4c75-8f2a-1f1d2247d603"
      },
      "execution_count": null,
      "outputs": [
        {
          "output_type": "execute_result",
          "data": {
            "text/plain": [
              "array([ 9,  9,  9, 12, 14, 19, 19, 20, 21, 23, 25, 29, 31, 32, 32, 35, 36,\n",
              "       37, 39, 39, 44, 46, 47, 47, 49, 57, 58, 64, 64, 65, 65, 67, 67, 69,\n",
              "       70, 72, 74, 77, 79, 80, 81, 82, 83, 87, 87, 88, 88, 88, 88, 99])"
            ]
          },
          "metadata": {},
          "execution_count": 67
        }
      ]
    },
    {
      "cell_type": "code",
      "source": [
        "## Data Generation\n",
        "np.random.seed(0)\n",
        "x1=np.random.randint(0,100,50)\n",
        "print('X-values: \\n',x1,'\\n')\n",
        "\n",
        "### plotting histogram\n",
        "plt.hist(x1, bins=5,edgecolor='g')\n",
        "\n",
        "\n"
      ],
      "metadata": {
        "colab": {
          "base_uri": "https://localhost:8080/",
          "height": 412
        },
        "id": "3S1KfhU1mwgp",
        "outputId": "098f4039-0a73-4c1f-d879-98cff54dc9fd"
      },
      "execution_count": null,
      "outputs": [
        {
          "output_type": "stream",
          "name": "stdout",
          "text": [
            "X-values: \n",
            " [44 47 64 67 67  9 83 21 36 87 70 88 88 12 58 65 39 87 46 88 81 37 25 77\n",
            " 72  9 20 80 69 79 47 64 82 99 88 49 29 19 19 14 39 32 65  9 57 32 31 74\n",
            " 23 35] \n",
            "\n"
          ]
        },
        {
          "output_type": "execute_result",
          "data": {
            "text/plain": [
              "(array([11., 10.,  6., 13., 10.]),\n",
              " array([ 9., 27., 45., 63., 81., 99.]),\n",
              " <a list of 5 Patch objects>)"
            ]
          },
          "metadata": {},
          "execution_count": 70
        },
        {
          "output_type": "display_data",
          "data": {
            "text/plain": [
              "<Figure size 432x288 with 1 Axes>"
            ],
            "image/png": "[encoded data removed]"
          },
          "metadata": {
            "needs_background": "light"
          }
        }
      ]
    },
    {
      "cell_type": "markdown",
      "source": [
        "#### Bar plot\n",
        "####"
      ],
      "metadata": {
        "id": "wTHK-U6kumBW"
      }
    },
    {
      "cell_type": "code",
      "source": [
        "## data Generation\n",
        "np.random.seed(0)\n",
        "x=np.arange(4)\n",
        "y=np.random.randint(0,100,len(x))\n",
        "print('X-values: \\n',x,'\\n')\n",
        "print(y)\n",
        "#### PLotting\n",
        "plt.bar(x,y)"
      ],
      "metadata": {
        "colab": {
          "base_uri": "https://localhost:8080/",
          "height": 360
        },
        "id": "MKBFr958uq9k",
        "outputId": "a6846504-c7cf-4743-eed3-a961b5271332"
      },
      "execution_count": null,
      "outputs": [
        {
          "output_type": "stream",
          "name": "stdout",
          "text": [
            "X-values: \n",
            " [0 1 2 3] \n",
            "\n",
            "[44 47 64 67]\n"
          ]
        },
        {
          "output_type": "execute_result",
          "data": {
            "text/plain": [
              "<BarContainer object of 4 artists>"
            ]
          },
          "metadata": {},
          "execution_count": 72
        },
        {
          "output_type": "display_data",
          "data": {
            "text/plain": [
              "<Figure size 432x288 with 1 Axes>"
            ],
            "image/png": "[encoded data removed]"
          },
          "metadata": {
            "needs_background": "light"
          }
        }
      ]
    },
    {
      "cell_type": "markdown",
      "source": [
        "### Equation --> y=3x+1"
      ],
      "metadata": {
        "id": "jfyMnG81wo7g"
      }
    },
    {
      "cell_type": "markdown",
      "metadata": {
        "id": "N4jn8BlrsJmC"
      },
      "source": [
        "### Above Equation Using  Matrix Concepts\n",
        "\n",
        "![](https://cdn.extras.talentsprint.com/IOT/Images/St_line_into_Matrix.png)\n",
        "\n"
      ]
    },
    {
      "cell_type": "code",
      "source": [
        "x1=np.linspace(-3,3,7)\n",
        "x1"
      ],
      "metadata": {
        "colab": {
          "base_uri": "https://localhost:8080/"
        },
        "id": "23Zhl34exiLp",
        "outputId": "435e598e-6fba-402d-ab4a-94fa7cc6fc96"
      },
      "execution_count": null,
      "outputs": [
        {
          "output_type": "execute_result",
          "data": {
            "text/plain": [
              "array([-3., -2., -1.,  0.,  1.,  2.,  3.])"
            ]
          },
          "metadata": {},
          "execution_count": 75
        }
      ]
    },
    {
      "cell_type": "code",
      "source": [
        "y1=3*x1+1\n",
        "y1"
      ],
      "metadata": {
        "colab": {
          "base_uri": "https://localhost:8080/"
        },
        "id": "1c9ldvl6ybnN",
        "outputId": "ccdac750-ac23-488c-9f35-cb1d74d96a7f"
      },
      "execution_count": null,
      "outputs": [
        {
          "output_type": "execute_result",
          "data": {
            "text/plain": [
              "array([-8., -5., -2.,  1.,  4.,  7., 10.])"
            ]
          },
          "metadata": {},
          "execution_count": 84
        }
      ]
    },
    {
      "cell_type": "markdown",
      "metadata": {
        "id": "bxbOy9SbsJmO"
      },
      "source": [
        "#### Calculating y for all values of x  in one shot in eqn  y = 3x + 1\n",
        "#### Taking X= [-3, -2 ,  -1,   0,   1,  2,   3 ]"
      ]
    },
    {
      "cell_type": "code",
      "source": [
        "## Making array of coefficient of y=mx+c\n",
        "theta=np.array([[1],[3]]) ## theta_0(c)=1,theta_1(m)=3\n",
        "print('theta :\\n', theta,'\\n')\n",
        "print('shape of theta : ',theta.shape)\n",
        "\n",
        "## Creating X array\n",
        "x1=np.linspace(-3,3,7)\n",
        "X1=x1[:,np.newaxis] ## Converting one dimensional x1 into 2D and storing inside X1\n",
        "print('X1 :',X1,'\\n')\n",
        "X_values=np.hstack((np.ones((7,1)),X1))\n",
        "\n",
        "print('X values In array form :\\n', X_values)\n",
        "print('shape of X_values array : \\n', X_values.shape)\n",
        "\n",
        "### Finally implementing y=mx+c in array format\n",
        "y_values=np.dot(X_values,theta)\n",
        "print(y_values,'\\n')\n",
        "print('shape of y_values : ',y_values.shape)"
      ],
      "metadata": {
        "id": "GH9gZGaP9yCR",
        "colab": {
          "base_uri": "https://localhost:8080/"
        },
        "outputId": "0251cff6-2181-4893-ee3e-2a0ba30e48c3"
      },
      "execution_count": null,
      "outputs": [
        {
          "output_type": "stream",
          "name": "stdout",
          "text": [
            "theta :\n",
            " [[1]\n",
            " [3]] \n",
            "\n",
            "shape of theta :  (2, 1)\n",
            "X1 : [[-3.]\n",
            " [-2.]\n",
            " [-1.]\n",
            " [ 0.]\n",
            " [ 1.]\n",
            " [ 2.]\n",
            " [ 3.]] \n",
            "\n",
            "X values In array form :\n",
            " [[ 1. -3.]\n",
            " [ 1. -2.]\n",
            " [ 1. -1.]\n",
            " [ 1.  0.]\n",
            " [ 1.  1.]\n",
            " [ 1.  2.]\n",
            " [ 1.  3.]]\n",
            "shape of X_values array : \n",
            " (7, 2)\n",
            "[[-8.]\n",
            " [-5.]\n",
            " [-2.]\n",
            " [ 1.]\n",
            " [ 4.]\n",
            " [ 7.]\n",
            " [10.]] \n",
            "\n",
            "shape of y_values :  (7, 1)\n"
          ]
        }
      ]
    },
    {
      "cell_type": "markdown",
      "metadata": {
        "id": "PxooqFR1sJmb"
      },
      "source": [
        "### Importing Data in Tabular format"
      ]
    },
    {
      "cell_type": "code",
      "source": [
        "!wget https://cdn.extras.talentsprint.com/IOT/Data/data1.txt"
      ],
      "metadata": {
        "colab": {
          "base_uri": "https://localhost:8080/"
        },
        "id": "MRrN_z1fwnQL",
        "outputId": "30af19fd-acf5-431f-ce37-14f12e5d854a"
      },
      "execution_count": null,
      "outputs": [
        {
          "output_type": "stream",
          "name": "stdout",
          "text": [
            "--2022-03-13 09:01:43--  https://cdn.extras.talentsprint.com/IOT/Data/data1.txt\n",
            "Resolving cdn.extras.talentsprint.com (cdn.extras.talentsprint.com)... 172.105.52.210\n",
            "Connecting to cdn.extras.talentsprint.com (cdn.extras.talentsprint.com)|172.105.52.210|:443... connected.\n",
            "HTTP request sent, awaiting response... 200 OK\n",
            "Length: 1359 (1.3K) [text/plain]\n",
            "Saving to: ‘data1.txt’\n",
            "\n",
            "data1.txt           100%[===================>]   1.33K  --.-KB/s    in 0s      \n",
            "\n",
            "2022-03-13 09:01:46 (159 MB/s) - ‘data1.txt’ saved [1359/1359]\n",
            "\n"
          ]
        }
      ]
    },
    {
      "cell_type": "code",
      "execution_count": null,
      "metadata": {
        "id": "_yj3RVXssJmc"
      },
      "outputs": [],
      "source": [
        "data=pd.read_csv('data1.txt',header=None)\n",
        "data.rename(columns={0:'Visitor Count',1:'Revenue'},inplace=True)\n",
        "data.head()"
      ]
    },
    {
      "cell_type": "code",
      "execution_count": null,
      "metadata": {
        "colab": {
          "base_uri": "https://localhost:8080/"
        },
        "id": "RCrYADYWsJmd",
        "outputId": "6710464e-a515-480f-dca0-9928763c37e7"
      },
      "outputs": [
        {
          "output_type": "stream",
          "name": "stdout",
          "text": [
            "<class 'pandas.core.frame.DataFrame'>\n",
            "RangeIndex: 97 entries, 0 to 96\n",
            "Data columns (total 2 columns):\n",
            " #   Column      Non-Null Count  Dtype  \n",
            "---  ------      --------------  -----  \n",
            " 0   Population  97 non-null     float64\n",
            " 1   Profit      97 non-null     float64\n",
            "dtypes: float64(2)\n",
            "memory usage: 1.6 KB\n"
          ]
        }
      ],
      "source": [
        "data.info()"
      ]
    },
    {
      "cell_type": "code",
      "execution_count": null,
      "metadata": {
        "colab": {
          "base_uri": "https://localhost:8080/",
          "height": 298
        },
        "id": "BR4I9XoLsJmd",
        "outputId": "3ea49f99-d5e7-428c-b998-4e27f4d7262a"
      },
      "outputs": [
        {
          "output_type": "execute_result",
          "data": {
            "text/plain": [
              "Text(0, 0.5, 'Profit of Appolo Pharmacy in 10,000')"
            ]
          },
          "metadata": {},
          "execution_count": 6
        },
        {
          "output_type": "display_data",
          "data": {
            "text/plain": [
              "<Figure size 432x288 with 1 Axes>"
            ],
            "image/png": "[encoded data removed]"
          },
          "metadata": {
            "needs_background": "light"
          }
        }
      ],
      "source": [
        "plt.scatter(data.Population,data.Profit)\n",
        "plt.xlabel('Population of the city in 10,000')\n",
        "plt.ylabel('Profit of Appolo Pharmacy in 10,000')"
      ]
    },
    {
      "cell_type": "markdown",
      "metadata": {
        "id": "hIdrHYULsJme"
      },
      "source": [
        "### Separating feature X and output Y"
      ]
    },
    {
      "cell_type": "code",
      "execution_count": null,
      "metadata": {
        "id": "nuipCOlzsJmf"
      },
      "outputs": [],
      "source": [
        "x=data.Population.values\n",
        "y=data.Profit.values\n",
        "x=x[:,np.newaxis]\n",
        "m=len(x) ## number of data points\n",
        "one=np.ones((m,1))\n",
        "X=np.hstack([one,x])\n",
        "Y=y[:,np.newaxis]"
      ]
    },
    {
      "cell_type": "markdown",
      "metadata": {
        "id": "iPMNftaesJmf"
      },
      "source": [
        "### Gradient Calculation\n",
        "* First Eqn is gradient of cost with respect to theta_0\n",
        "* Second Eqn is gradient of cost with respect to theata_1\n",
        "\n",
        "![](https://cdn.extras.talentsprint.com/IOT/Images/Gradient_Cal.png)\n",
        "\n",
        "#### Now implementing exaclty these two Eqn in syntax:"
      ]
    },
    {
      "cell_type": "markdown",
      "metadata": {
        "id": "fsYeC9wVsJmh"
      },
      "source": [
        "### Assuming theta"
      ]
    },
    {
      "cell_type": "code",
      "execution_count": null,
      "metadata": {
        "id": "Xk-4-cb2sJmi",
        "outputId": "7f0c243e-542a-404b-c877-e4e2c0bdbfbf"
      },
      "outputs": [
        {
          "data": {
            "text/plain": [
              "array([[1.76405235],\n",
              "       [0.40015721]])"
            ]
          },
          "execution_count": 22,
          "metadata": {},
          "output_type": "execute_result"
        }
      ],
      "source": [
        "np.random.seed(0)\n",
        "theta=np.random.randn(2,1)\n",
        "theta # (2,1)"
      ]
    },
    {
      "cell_type": "markdown",
      "metadata": {
        "id": "Fe_3_ndJsJmj"
      },
      "source": [
        "#### Calculating gradient with respect to theta_0"
      ]
    },
    {
      "cell_type": "code",
      "execution_count": null,
      "metadata": {
        "id": "lfRypJeNsJmk",
        "outputId": "01283370-1302-47e2-9076-909229832e7a"
      },
      "outputs": [
        {
          "name": "stdout",
          "output_type": "stream",
          "text": [
            "(97, 2)\n",
            "(2, 1)\n"
          ]
        },
        {
          "data": {
            "text/plain": [
              "-0.809879916743859"
            ]
          },
          "execution_count": 23,
          "metadata": {},
          "output_type": "execute_result"
        }
      ],
      "source": [
        "print(X.shape)\n",
        "print(theta.shape)\n",
        "X.dot(theta)                 # np.dot(X.theta)  # predicted yp=mx +c where m=theta1,c=theta0\n",
        "X.dot(theta)-Y               # Error  calculation\n",
        "(1/m)*np.sum(X.dot(theta)-Y) # gradient with respect to theta_0"
      ]
    },
    {
      "cell_type": "markdown",
      "metadata": {
        "id": "SKFj8eHssJml"
      },
      "source": [
        "#### Calculating gradient with respect to theta_1"
      ]
    },
    {
      "cell_type": "code",
      "execution_count": null,
      "metadata": {
        "id": "JkLK3-nQsJmm",
        "outputId": "899eac91-f67b-4cb4-bc19-2e8dd2ea5fc2"
      },
      "outputs": [
        {
          "name": "stdout",
          "output_type": "stream",
          "text": [
            "(97, 2)\n",
            "(97, 1)\n"
          ]
        },
        {
          "data": {
            "text/plain": [
              "-18.360160903168417"
            ]
          },
          "execution_count": 24,
          "metadata": {},
          "output_type": "execute_result"
        }
      ],
      "source": [
        "X.dot(theta)-Y                    # Error  calculation\n",
        "print(X.shape)\n",
        "print(x.shape)\n",
        "(X.dot(theta)-Y)*x               # Multiplication of each error with each individual value of x, Elementwise multiplication\n",
        "(1/m)*np.sum((X.dot(theta)-Y)*x) #gradient with respect to theta_1"
      ]
    },
    {
      "cell_type": "markdown",
      "metadata": {
        "id": "2TGxfTdGsJmm"
      },
      "source": [
        "### Combining both into one equation\n",
        "* Here for simpliciyt only 3 rows of data (in both X and A matrix) has shown, actually it has 'm' rows  containing all the data\n",
        "* X is feature matrix\n",
        "* **A** is the resulting matrix of error calculation i.e. result of eqn --> X.dot(theta)-Y    \n",
        "\n",
        "![](https://cdn.extras.talentsprint.com/IOT/Images/Both_Grad_in_one.png)"
      ]
    },
    {
      "cell_type": "markdown",
      "metadata": {
        "id": "ucO-csecsJmo"
      },
      "source": [
        "### Note the two element of resulting matrix:\n",
        "* The first element is sum of each error, i.e. gradient with respect to theta_0, see the eqn above.\n",
        "* The Second element is the sum of the element-wise product of each error and  x, i.e. gradient with respect to thata_1.\n",
        "* Thus if we, multiply X transpose with A we can get both gradient in one shot, as given below:"
      ]
    },
    {
      "cell_type": "code",
      "execution_count": null,
      "metadata": {
        "id": "PQHNZ0M5sJmp"
      },
      "outputs": [],
      "source": [
        "(X.dot(theta)-Y) ## It is a matirx A\n",
        "# Now this matrix should be multiplied with X transpose --> X.T"
      ]
    },
    {
      "cell_type": "code",
      "execution_count": null,
      "metadata": {
        "id": "De08Xug2sJmq"
      },
      "outputs": [],
      "source": [
        "grad=(1/m)*X.T.dot((X.dot(theta)-Y)) ## Grad calculation\n",
        "grad"
      ]
    },
    {
      "cell_type": "markdown",
      "metadata": {
        "id": "eJ6PI7PHsJmr"
      },
      "source": [
        "### Gradient Descent"
      ]
    },
    {
      "cell_type": "code",
      "execution_count": null,
      "metadata": {
        "id": "dxUnj9SvsJms"
      },
      "outputs": [],
      "source": [
        "a=0.001 # Learning Rate"
      ]
    },
    {
      "cell_type": "code",
      "execution_count": null,
      "metadata": {
        "id": "B118d9HBsJmt"
      },
      "outputs": [],
      "source": [
        "theta=theta-a*grad  ## This is one step of Gradient Descent.\n",
        "theta"
      ]
    },
    {
      "cell_type": "markdown",
      "metadata": {
        "id": "JClaCReasJmt"
      },
      "source": [
        "### Applyting Gradient Descent"
      ]
    },
    {
      "cell_type": "code",
      "execution_count": null,
      "metadata": {
        "id": "JqhpBwm1sJmu"
      },
      "outputs": [],
      "source": [
        "np.random.seed(0)\n",
        "theta=np.random.randn(2,1)\n",
        "theta"
      ]
    },
    {
      "cell_type": "code",
      "execution_count": null,
      "metadata": {
        "id": "SAtvH9aSsJmv"
      },
      "outputs": [],
      "source": [
        "n_iterations=10000\n",
        "alpha=0.01\n",
        "for iteration in range(n_iterations):\n",
        "    grad=(1/m)*X.T.dot((X.dot(theta)-Y))\n",
        "    theta=theta-alpha*grad ## Gradient descent\n",
        "    \n",
        "print(theta)"
      ]
    },
    {
      "cell_type": "markdown",
      "metadata": {
        "id": "tTM2jKH-sJmw"
      },
      "source": [
        "### Cost Calculation\n",
        "\n",
        "![](https://cdn.extras.talentsprint.com/IOT/Images/cost_cal.png)\n",
        "\n",
        "\n"
      ]
    },
    {
      "cell_type": "code",
      "execution_count": null,
      "metadata": {
        "id": "Z9MzmUELsJmy"
      },
      "outputs": [],
      "source": [
        "(X.dot(theta)-Y)"
      ]
    },
    {
      "cell_type": "code",
      "execution_count": null,
      "metadata": {
        "id": "BWZWog93sJmz"
      },
      "outputs": [],
      "source": [
        "(1/(2*m))*np.sum(np.square((X.dot(theta)-Y)))"
      ]
    },
    {
      "cell_type": "markdown",
      "metadata": {
        "id": "chFnsrkqsJm0"
      },
      "source": [
        "### Including cost calculatin for each iteration i.e. for each updated theta inside loop"
      ]
    },
    {
      "cell_type": "code",
      "execution_count": null,
      "metadata": {
        "id": "komMZD-XsJm0"
      },
      "outputs": [],
      "source": [
        "theta=np.random.randn(2,1)\n",
        "n_iterations=10000\n",
        "cost=np.zeros(n_iterations)\n",
        "alpha=0.01\n",
        "for iteration in range(n_iterations):\n",
        "    grad=(1/m)*X.T.dot((X.dot(theta)-Y))\n",
        "    theta=theta-alpha*grad\n",
        "    cost[iteration]=(1/(2*m))*np.sum(np.square((X.dot(theta)-Y)))\n",
        "theta"
      ]
    },
    {
      "cell_type": "code",
      "execution_count": null,
      "metadata": {
        "id": "gtEA4kd7sJm1"
      },
      "outputs": [],
      "source": [
        "cost"
      ]
    },
    {
      "cell_type": "code",
      "execution_count": null,
      "metadata": {
        "id": "lbS5WDV9sJm3"
      },
      "outputs": [],
      "source": [
        "plt.plot(cost) ## Potting  cost funtion. Cost must decrease in each step if our code is impletmented conrrectly."
      ]
    },
    {
      "cell_type": "code",
      "execution_count": null,
      "metadata": {
        "id": "DMUyv1bssJm4"
      },
      "outputs": [],
      "source": [
        "theta"
      ]
    },
    {
      "cell_type": "code",
      "execution_count": null,
      "metadata": {
        "id": "o9XbMiYlsJm4"
      },
      "outputs": [],
      "source": [
        "yp=X.dot(theta)  # This is predicted y for each x\n",
        "yp"
      ]
    },
    {
      "cell_type": "code",
      "execution_count": null,
      "metadata": {
        "scrolled": true,
        "id": "U2H_h2AosJm5"
      },
      "outputs": [],
      "source": [
        "plt.scatter(data.Population,data.Profit) ## Original data\n",
        "plt.plot(x,yp,'r-') ##  x versus predicted y in red color"
      ]
    },
    {
      "cell_type": "code",
      "execution_count": null,
      "metadata": {
        "id": "2tZY950UsJm6"
      },
      "outputs": [],
      "source": [
        "## Making function for prediction\n",
        "def predict(x):\n",
        "    theta=np.array([[-3.89578081],[ 1.19303364]])\n",
        "    X1=np.array([[1,x]])\n",
        "    yp=X1.dot(theta)\n",
        "    return yp[0,0]"
      ]
    },
    {
      "cell_type": "code",
      "execution_count": null,
      "metadata": {
        "id": "IF47qzxLsJm7",
        "outputId": "78fafaf7-136c-4e46-e351-67f1146cde79"
      },
      "outputs": [
        {
          "data": {
            "text/plain": [
              "18.771858349999995"
            ]
          },
          "execution_count": 40,
          "metadata": {},
          "output_type": "execute_result"
        }
      ],
      "source": [
        "predict(19)"
      ]
    }
  ],
  "metadata": {
    "kernelspec": {
      "display_name": "Python 3",
      "language": "python",
      "name": "python3"
    },
    "language_info": {
      "codemirror_mode": {
        "name": "ipython",
        "version": 3
      },
      "file_extension": ".py",
      "mimetype": "text/x-python",
      "name": "python",
      "nbconvert_exporter": "python",
      "pygments_lexer": "ipython3",
      "version": "3.8.8"
    },
    "colab": {
      "name": "PLotting & SVR_GD_Walkthrough.ipynb",
      "provenance": []
    }
  },
  "nbformat": 4,
  "nbformat_minor": 0
}