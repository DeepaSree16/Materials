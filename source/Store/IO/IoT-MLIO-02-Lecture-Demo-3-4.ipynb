{
  "cells": [
    {
      "cell_type": "markdown",
      "source": [
        "# IoT & Smart Analytics\n",
        "## A Program by IIIT-H and TalentSprint"
      ],
      "metadata": {
        "id": "FK5qz40Th8zX"
      }
    },
    {
      "cell_type": "markdown",
      "source": [
        "## Learning Objectives\n",
        "At the end of the experiment, participants will be able to : \n",
        "* Understand the intution of Gradient Descent\n",
        "* Implement gradient descent from scratch"
      ],
      "metadata": {
        "id": "cOc4QFM8jOeR"
      }
    },
    {
      "cell_type": "markdown",
      "source": [
        "## Overview \n",
        "\n",
        "In general terms Gradient means slope or slant of a surface. So gradient descent means descending a slope to reach the lowest point on that surface. Gradient Descent aims to minimize the cost function, a function reaches its minimum value when the slope is equal to 0. Gradient descent is an iterative algorithm, that starts from a random point on a function and travels down its slope in steps until it reaches the minimum point of that function."
      ],
      "metadata": {
        "id": "NWEHrLZsjxvx"
      }
    },
    {
      "cell_type": "markdown",
      "source": [
        "#### Importing required packages"
      ],
      "metadata": {
        "id": "P3--euVMj6yC"
      }
    },
    {
      "cell_type": "code",
      "execution_count": null,
      "metadata": {
        "id": "BIOwSer_sJly"
      },
      "outputs": [],
      "source": [
        "'import matplotlib.pyplot as plt\n",
        "import pandas as pd\n",
        "import numpy as np"
      ]
    },
    {
      "cell_type": "markdown",
      "metadata": {
        "id": "N4jn8BlrsJmC"
      },
      "source": [
        "### Implementing  Equation --> y=3x+1  Using  Matrix Concepts \n",
        "\n",
        "![](https://cdn.extras.talentsprint.com/IOT/Images/St_line_into_Matrix.png)\n",
        "\n"
      ]
    },
    {
      "cell_type": "code",
      "source": [
        "x1=np.linspace(-3,3,7)\n",
        "x1"
      ],
      "metadata": {
        "colab": {
          "base_uri": "https://localhost:8080/"
        },
        "id": "23Zhl34exiLp",
        "outputId": "119095b5-08d0-4844-b885-56bb88a5ea93"
      },
      "execution_count": null,
      "outputs": [
        {
          "output_type": "execute_result",
          "data": {
            "text/plain": [
              "array([-3., -2., -1.,  0.,  1.,  2.,  3.])"
            ]
          },
          "metadata": {},
          "execution_count": 40
        }
      ]
    },
    {
      "cell_type": "code",
      "source": [
        "y1=3*x1+1\n",
        "y1"
      ],
      "metadata": {
        "colab": {
          "base_uri": "https://localhost:8080/"
        },
        "id": "1c9ldvl6ybnN",
        "outputId": "b9c97f7b-41da-462a-bda7-4ec29fa97fa6"
      },
      "execution_count": null,
      "outputs": [
        {
          "output_type": "execute_result",
          "data": {
            "text/plain": [
              "array([-8., -5., -2.,  1.,  4.,  7., 10.])"
            ]
          },
          "metadata": {},
          "execution_count": 41
        }
      ]
    },
    {
      "cell_type": "markdown",
      "metadata": {
        "id": "bxbOy9SbsJmO"
      },
      "source": [
        "#### Calculating y for all values of x  in one shot in eqn  y = 3x + 1\n",
        "#### Taking X= [-3, -2 ,  -1,   0,   1,  2,   3 ]"
      ]
    },
    {
      "cell_type": "code",
      "source": [
        "## Making array of coefficient of y=mx+c\n",
        "theta=np.array([[1],[3]]) ## theta_0(c)=1,theta_1(m)=3\n",
        "print('theta :\\n', theta,'\\n')\n",
        "print('shape of theta : ',theta.shape)\n",
        "\n",
        "## Creating X array\n",
        "x1=np.linspace(-3,3,7)\n",
        "X1=x1[:,np.newaxis] ## Converting one dimensional x1 into 2D and storing inside X1\n",
        "print('X1 :',X1,'\\n')\n",
        "X_values=np.hstack((np.ones((7,1)),X1))\n",
        "\n",
        "print('X values In array form :\\n', X_values)\n",
        "print('shape of X_values array : \\n', X_values.shape)\n",
        "\n",
        "### Finally implementing y=mx+c in array format\n",
        "y_values=np.dot(X_values,theta)\n",
        "print('Y_Values : \\n ',y_values,'\\n')\n",
        "print('shape of y_values : ',y_values.shape)"
      ],
      "metadata": {
        "id": "GH9gZGaP9yCR",
        "colab": {
          "base_uri": "https://localhost:8080/"
        },
        "outputId": "0e3d3d56-c5bf-410b-a58b-86042504c0f0"
      },
      "execution_count": null,
      "outputs": [
        {
          "output_type": "stream",
          "name": "stdout",
          "text": [
            "theta :\n",
            " [[1]\n",
            " [3]] \n",
            "\n",
            "shape of theta :  (2, 1)\n",
            "X1 : [[-3.]\n",
            " [-2.]\n",
            " [-1.]\n",
            " [ 0.]\n",
            " [ 1.]\n",
            " [ 2.]\n",
            " [ 3.]] \n",
            "\n",
            "X values In array form :\n",
            " [[ 1. -3.]\n",
            " [ 1. -2.]\n",
            " [ 1. -1.]\n",
            " [ 1.  0.]\n",
            " [ 1.  1.]\n",
            " [ 1.  2.]\n",
            " [ 1.  3.]]\n",
            "shape of X_values array : \n",
            " (7, 2)\n",
            "Y_Values : \n",
            "  [[-8.]\n",
            " [-5.]\n",
            " [-2.]\n",
            " [ 1.]\n",
            " [ 4.]\n",
            " [ 7.]\n",
            " [10.]] \n",
            "\n",
            "shape of y_values :  (7, 1)\n"
          ]
        }
      ]
    },
    {
      "cell_type": "markdown",
      "metadata": {
        "id": "PxooqFR1sJmb"
      },
      "source": [
        "### Importing Data "
      ]
    },
    {
      "cell_type": "code",
      "source": [
        "!wget https://cdn.extras.talentsprint.com/IOT/Data/data1.txt"
      ],
      "metadata": {
        "colab": {
          "base_uri": "https://localhost:8080/"
        },
        "id": "MRrN_z1fwnQL",
        "outputId": "a7668e20-79b7-4f0e-c5b1-ff934a615d1a"
      },
      "execution_count": null,
      "outputs": [
        {
          "output_type": "stream",
          "name": "stdout",
          "text": [
            "--2022-03-20 03:48:30--  https://cdn.extras.talentsprint.com/IOT/Data/data1.txt\n",
            "Resolving cdn.extras.talentsprint.com (cdn.extras.talentsprint.com)... 172.105.52.210\n",
            "Connecting to cdn.extras.talentsprint.com (cdn.extras.talentsprint.com)|172.105.52.210|:443... connected.\n",
            "HTTP request sent, awaiting response... 200 OK\n",
            "Length: 1359 (1.3K) [text/plain]\n",
            "Saving to: ‘data1.txt.1’\n",
            "\n",
            "data1.txt.1         100%[===================>]   1.33K  --.-KB/s    in 0s      \n",
            "\n",
            "2022-03-20 03:48:33 (172 MB/s) - ‘data1.txt.1’ saved [1359/1359]\n",
            "\n"
          ]
        }
      ]
    },
    {
      "cell_type": "code",
      "execution_count": null,
      "metadata": {
        "id": "_yj3RVXssJmc",
        "colab": {
          "base_uri": "https://localhost:8080/",
          "height": 206
        },
        "outputId": "6e730d03-5972-4dc2-a5ee-42fd6eb202b6"
      },
      "outputs": [
        {
          "output_type": "execute_result",
          "data": {
            "text/plain": [
              "   Visitor_Count  Revenue\n",
              "0         6.1101  17.5920\n",
              "1         5.5277   9.1302\n",
              "2         8.5186  13.6620\n",
              "3         7.0032  11.8540\n",
              "4         5.8598   6.8233"
            ],
            "text/html": [
              "\n",
              "  <div id=\"df-dc22724c-06ce-4352-847c-2f66185eb9f6\">\n",
              "    <div class=\"colab-df-container\">\n",
              "      <div>\n",
              "<style scoped>\n",
              "    .dataframe tbody tr th:only-of-type {\n",
              "        vertical-align: middle;\n",
              "    }\n",
              "\n",
              "    .dataframe tbody tr th {\n",
              "        vertical-align: top;\n",
              "    }\n",
              "\n",
              "    .dataframe thead th {\n",
              "        text-align: right;\n",
              "    }\n",
              "</style>\n",
              "<table border=\"1\" class=\"dataframe\">\n",
              "  <thead>\n",
              "    <tr style=\"text-align: right;\">\n",
              "      <th></th>\n",
              "      <th>Visitor_Count</th>\n",
              "      <th>Revenue</th>\n",
              "    </tr>\n",
              "  </thead>\n",
              "  <tbody>\n",
              "    <tr>\n",
              "      <th>0</th>\n",
              "      <td>6.1101</td>\n",
              "      <td>17.5920</td>\n",
              "    </tr>\n",
              "    <tr>\n",
              "      <th>1</th>\n",
              "      <td>5.5277</td>\n",
              "      <td>9.1302</td>\n",
              "    </tr>\n",
              "    <tr>\n",
              "      <th>2</th>\n",
              "      <td>8.5186</td>\n",
              "      <td>13.6620</td>\n",
              "    </tr>\n",
              "    <tr>\n",
              "      <th>3</th>\n",
              "      <td>7.0032</td>\n",
              "      <td>11.8540</td>\n",
              "    </tr>\n",
              "    <tr>\n",
              "      <th>4</th>\n",
              "      <td>5.8598</td>\n",
              "      <td>6.8233</td>\n",
              "    </tr>\n",
              "  </tbody>\n",
              "</table>\n",
              "</div>\n",
              "      <button class=\"colab-df-convert\" onclick=\"convertToInteractive('df-dc22724c-06ce-4352-847c-2f66185eb9f6')\"\n",
              "              title=\"Convert this dataframe to an interactive table.\"\n",
              "              style=\"display:none;\">\n",
              "        \n",
              "  <svg xmlns=\"http://www.w3.org/2000/svg\" height=\"24px\"viewBox=\"0 0 24 24\"\n",
              "       width=\"24px\">\n",
              "    <path d=\"M0 0h24v24H0V0z\" fill=\"none\"/>\n",
              "    <path d=\"M18.56 5.44l.94 2.06.94-2.06 2.06-.94-2.06-.94-.94-2.06-.94 2.06-2.06.94zm-11 1L8.5 8.5l.94-2.06 2.06-.94-2.06-.94L8.5 2.5l-.94 2.06-2.06.94zm10 10l.94 2.06.94-2.06 2.06-.94-2.06-.94-.94-2.06-.94 2.06-2.06.94z\"/><path d=\"M17.41 7.96l-1.37-1.37c-.4-.4-.92-.59-1.43-.59-.52 0-1.04.2-1.43.59L10.3 9.45l-7.72 7.72c-.78.78-.78 2.05 0 2.83L4 21.41c.39.39.9.59 1.41.59.51 0 1.02-.2 1.41-.59l7.78-7.78 2.81-2.81c.8-.78.8-2.07 0-2.86zM5.41 20L4 18.59l7.72-7.72 1.47 1.35L5.41 20z\"/>\n",
              "  </svg>\n",
              "      </button>\n",
              "      \n",
              "  <style>\n",
              "    .colab-df-container {\n",
              "      display:flex;\n",
              "      flex-wrap:wrap;\n",
              "      gap: 12px;\n",
              "    }\n",
              "\n",
              "    .colab-df-convert {\n",
              "      background-color: #E8F0FE;\n",
              "      border: none;\n",
              "      border-radius: 50%;\n",
              "      cursor: pointer;\n",
              "      display: none;\n",
              "      fill: #1967D2;\n",
              "      height: 32px;\n",
              "      padding: 0 0 0 0;\n",
              "      width: 32px;\n",
              "    }\n",
              "\n",
              "    .colab-df-convert:hover {\n",
              "      background-color: #E2EBFA;\n",
              "      box-shadow: 0px 1px 2px rgba(60, 64, 67, 0.3), 0px 1px 3px 1px rgba(60, 64, 67, 0.15);\n",
              "      fill: #174EA6;\n",
              "    }\n",
              "\n",
              "    [theme=dark] .colab-df-convert {\n",
              "      background-color: #3B4455;\n",
              "      fill: #D2E3FC;\n",
              "    }\n",
              "\n",
              "    [theme=dark] .colab-df-convert:hover {\n",
              "      background-color: #434B5C;\n",
              "      box-shadow: 0px 1px 3px 1px rgba(0, 0, 0, 0.15);\n",
              "      filter: drop-shadow(0px 1px 2px rgba(0, 0, 0, 0.3));\n",
              "      fill: #FFFFFF;\n",
              "    }\n",
              "  </style>\n",
              "\n",
              "      <script>\n",
              "        const buttonEl =\n",
              "          document.querySelector('#df-dc22724c-06ce-4352-847c-2f66185eb9f6 button.colab-df-convert');\n",
              "        buttonEl.style.display =\n",
              "          google.colab.kernel.accessAllowed ? 'block' : 'none';\n",
              "\n",
              "        async function convertToInteractive(key) {\n",
              "          const element = document.querySelector('#df-dc22724c-06ce-4352-847c-2f66185eb9f6');\n",
              "          const dataTable =\n",
              "            await google.colab.kernel.invokeFunction('convertToInteractive',\n",
              "                                                     [key], {});\n",
              "          if (!dataTable) return;\n",
              "\n",
              "          const docLinkHtml = 'Like what you see? Visit the ' +\n",
              "            '<a target=\"_blank\" href=https://colab.research.google.com/notebooks/data_table.ipynb>data table notebook</a>'\n",
              "            + ' to learn more about interactive tables.';\n",
              "          element.innerHTML = '';\n",
              "          dataTable['output_type'] = 'display_data';\n",
              "          await google.colab.output.renderOutput(dataTable, element);\n",
              "          const docLink = document.createElement('div');\n",
              "          docLink.innerHTML = docLinkHtml;\n",
              "          element.appendChild(docLink);\n",
              "        }\n",
              "      </script>\n",
              "    </div>\n",
              "  </div>\n",
              "  "
            ]
          },
          "metadata": {},
          "execution_count": 45
        }
      ],
      "source": [
        "data=pd.read_csv('data1.txt',header=None)\n",
        "data.rename(columns={0:'Visitor_Count',1:'Revenue'},inplace=True)\n",
        "data.head()"
      ]
    },
    {
      "cell_type": "code",
      "execution_count": null,
      "metadata": {
        "colab": {
          "base_uri": "https://localhost:8080/"
        },
        "id": "RCrYADYWsJmd",
        "outputId": "43694366-1443-4a87-e508-5a5161b681f4"
      },
      "outputs": [
        {
          "output_type": "stream",
          "name": "stdout",
          "text": [
            "<class 'pandas.core.frame.DataFrame'>\n",
            "RangeIndex: 97 entries, 0 to 96\n",
            "Data columns (total 2 columns):\n",
            " #   Column         Non-Null Count  Dtype  \n",
            "---  ------         --------------  -----  \n",
            " 0   Visitor_Count  97 non-null     float64\n",
            " 1   Revenue        97 non-null     float64\n",
            "dtypes: float64(2)\n",
            "memory usage: 1.6 KB\n"
          ]
        }
      ],
      "source": [
        "data.info()"
      ]
    },
    {
      "cell_type": "code",
      "execution_count": null,
      "metadata": {
        "colab": {
          "base_uri": "https://localhost:8080/",
          "height": 298
        },
        "id": "BR4I9XoLsJmd",
        "outputId": "b3cd2b94-7ea9-4341-caab-8bc370468a48"
      },
      "outputs": [
        {
          "output_type": "execute_result",
          "data": {
            "text/plain": [
              "Text(0, 0.5, 'Revenue in 10,000')"
            ]
          },
          "metadata": {},
          "execution_count": 47
        },
        {
          "output_type": "display_data",
          "data": {
            "text/plain": [
              "<Figure size 432x288 with 1 Axes>"
            ],
            "image/png": "[encoded data removed]"
          },
          "metadata": {
            "needs_background": "light"
          }
        }
      ],
      "source": [
        "plt.scatter(data.Visitor_Count,data.Revenue)\n",
        "plt.xlabel('Visitor Count in 10,000')\n",
        "plt.ylabel('Revenue in 10,000')"
      ]
    },
    {
      "cell_type": "code",
      "source": [
        "data.to_excel('/content/df.xlsx') # '/content/df.xlsx'"
      ],
      "metadata": {
        "id": "0dvAO6KCcZsk"
      },
      "execution_count": null,
      "outputs": []
    },
    {
      "cell_type": "markdown",
      "metadata": {
        "id": "hIdrHYULsJme"
      },
      "source": [
        "### Separating feature X and output Y"
      ]
    },
    {
      "cell_type": "code",
      "source": [
        "ones=np.ones((3,4))\n",
        "ones"
      ],
      "metadata": {
        "colab": {
          "base_uri": "https://localhost:8080/"
        },
        "id": "XSYt2nnaez2b",
        "outputId": "aa35eb5c-3d69-4588-e029-4d2b0a13f8b6"
      },
      "execution_count": null,
      "outputs": [
        {
          "output_type": "execute_result",
          "data": {
            "text/plain": [
              "array([[1., 1., 1., 1.],\n",
              "       [1., 1., 1., 1.],\n",
              "       [1., 1., 1., 1.]])"
            ]
          },
          "metadata": {},
          "execution_count": 58
        }
      ]
    },
    {
      "cell_type": "code",
      "execution_count": null,
      "metadata": {
        "id": "nuipCOlzsJmf"
      },
      "outputs": [],
      "source": [
        "## Separating feature i.e. x\n",
        "x=data['Visitor_Count'].values\n",
        "m=len(x)\n",
        "print(m)\n",
        "x=x[:,np.newaxis]\n",
        "ones=np.ones((97,1))\n",
        "X=np.hstack([ones,x])\n",
        "## Separint output i.e. y\n",
        "y=data['Revenue'].values\n",
        "y=y[:,np.newaxis]\n",
        "y\n"
      ]
    },
    {
      "cell_type": "markdown",
      "metadata": {
        "id": "iPMNftaesJmf"
      },
      "source": [
        "### Gradient Calculation\n",
        "* First Eqn is gradient of cost with respect to theta_0\n",
        "* Second Eqn is gradient of cost with respect to theata_1\n",
        "\n",
        "![](https://cdn.extras.talentsprint.com/IOT/Images/Gradient_Cal.png)\n",
        "\n",
        "#### Now implementing exaclty these two Eqn in syntax:"
      ]
    },
    {
      "cell_type": "markdown",
      "metadata": {
        "id": "fsYeC9wVsJmh"
      },
      "source": [
        "### Assuming theta"
      ]
    },
    {
      "cell_type": "code",
      "execution_count": null,
      "metadata": {
        "id": "Xk-4-cb2sJmi",
        "outputId": "b50bec4c-4ccd-4e69-ed49-c289bdf98e02",
        "colab": {
          "base_uri": "https://localhost:8080/"
        }
      },
      "outputs": [
        {
          "output_type": "execute_result",
          "data": {
            "text/plain": [
              "array([[1.76405235],\n",
              "       [0.40015721]])"
            ]
          },
          "metadata": {},
          "execution_count": 64
        }
      ],
      "source": [
        "np.random.seed(0)\n",
        "theta=np.random.randn(2,1)  # fisrt value=c, second value=m \n",
        "theta"
      ]
    },
    {
      "cell_type": "code",
      "source": [
        "theta.shape"
      ],
      "metadata": {
        "colab": {
          "base_uri": "https://localhost:8080/"
        },
        "id": "ATZtwR10q1c0",
        "outputId": "3eb77652-c69a-4149-b03f-409df8e5fdae"
      },
      "execution_count": null,
      "outputs": [
        {
          "output_type": "execute_result",
          "data": {
            "text/plain": [
              "(2, 1)"
            ]
          },
          "metadata": {},
          "execution_count": 66
        }
      ]
    },
    {
      "cell_type": "code",
      "source": [
        "X.shape"
      ],
      "metadata": {
        "colab": {
          "base_uri": "https://localhost:8080/"
        },
        "id": "XqQY1sm2q3TN",
        "outputId": "6f15384a-3edc-47d9-a2a6-a96245c81b1f"
      },
      "execution_count": null,
      "outputs": [
        {
          "output_type": "execute_result",
          "data": {
            "text/plain": [
              "(97, 2)"
            ]
          },
          "metadata": {},
          "execution_count": 67
        }
      ]
    },
    {
      "cell_type": "code",
      "source": [
        "y"
      ],
      "metadata": {
        "id": "IcWNBHehrJd6"
      },
      "execution_count": null,
      "outputs": []
    },
    {
      "cell_type": "markdown",
      "metadata": {
        "id": "Fe_3_ndJsJmj"
      },
      "source": [
        "#### Calculating gradient with respect to theta_0"
      ]
    },
    {
      "cell_type": "code",
      "execution_count": null,
      "metadata": {
        "id": "lfRypJeNsJmk",
        "outputId": "24b1331d-dbfb-43f3-d0b7-c53fb4b8bb6c",
        "colab": {
          "base_uri": "https://localhost:8080/"
        }
      },
      "outputs": [
        {
          "output_type": "execute_result",
          "data": {
            "text/plain": [
              "-0.809879916743859"
            ]
          },
          "metadata": {},
          "execution_count": 72
        }
      ],
      "source": [
        "(1/m)*np.sum((X.dot(theta)-y)) ## Ypredicted : X.dot(theta) , here y= original y"
      ]
    },
    {
      "cell_type": "markdown",
      "metadata": {
        "id": "SKFj8eHssJml"
      },
      "source": [
        "#### Calculating gradient with respect to theta_1"
      ]
    },
    {
      "cell_type": "code",
      "execution_count": null,
      "metadata": {
        "id": "JkLK3-nQsJmm",
        "outputId": "f4577c9a-a152-4b4a-d458-b85f36542693",
        "colab": {
          "base_uri": "https://localhost:8080/"
        }
      },
      "outputs": [
        {
          "output_type": "execute_result",
          "data": {
            "text/plain": [
              "-18.360160903168417"
            ]
          },
          "metadata": {},
          "execution_count": 76
        }
      ],
      "source": [
        "(1/m)*np.sum((X.dot(theta)-y)*x)"
      ]
    },
    {
      "cell_type": "code",
      "source": [
        ""
      ],
      "metadata": {
        "id": "Fk4YfI7twRCM"
      },
      "execution_count": null,
      "outputs": []
    },
    {
      "cell_type": "code",
      "source": [
        "X ## (97,2)"
      ],
      "metadata": {
        "id": "Ur4q4kZ6wF-c"
      },
      "execution_count": null,
      "outputs": []
    },
    {
      "cell_type": "code",
      "source": [
        "A=(X.dot(theta)-y) ## Error e=(yp-yo)\n",
        "A ## (97,1)"
      ],
      "metadata": {
        "id": "80kwuX2UwGvn"
      },
      "execution_count": null,
      "outputs": []
    },
    {
      "cell_type": "markdown",
      "metadata": {
        "id": "2TGxfTdGsJmm"
      },
      "source": [
        "### Combining both into one equation\n",
        "* Here for simpliciyt only 3 rows of data (in both X and A matrix) has shown, actually it has 'm' rows  containing all the data\n",
        "* X is feature matrix\n",
        "* **A** is the resulting matrix of error calculation i.e. result of eqn --> X.dot(theta)-Y    \n",
        "\n",
        "![](https://cdn.extras.talentsprint.com/IOT/Images/Both_Grad_in_one.png)"
      ]
    },
    {
      "cell_type": "markdown",
      "metadata": {
        "id": "ucO-csecsJmo"
      },
      "source": [
        "### Note the two element of resulting matrix:\n",
        "* The first element is sum of each error, i.e. gradient with respect to theta_0, see the eqn above.\n",
        "* The Second element is the sum of the element-wise product of each error and  x, i.e. gradient with respect to thata_1.\n",
        "* Thus if we, multiply X transpose with A we can get both gradient in one shot, as given below:"
      ]
    },
    {
      "cell_type": "code",
      "execution_count": null,
      "metadata": {
        "id": "PQHNZ0M5sJmp",
        "colab": {
          "base_uri": "https://localhost:8080/"
        },
        "outputId": "4641b3a7-b554-404a-d63b-b622d02e598a"
      },
      "outputs": [
        {
          "output_type": "execute_result",
          "data": {
            "text/plain": [
              "array([[ -0.80987992],\n",
              "       [-18.3601609 ]])"
            ]
          },
          "metadata": {},
          "execution_count": 84
        }
      ],
      "source": [
        "(1/m)*(X.T).dot(X.dot(theta)-y)"
      ]
    },
    {
      "cell_type": "code",
      "execution_count": null,
      "metadata": {
        "id": "De08Xug2sJmq"
      },
      "outputs": [],
      "source": [
        ""
      ]
    },
    {
      "cell_type": "markdown",
      "metadata": {
        "id": "JClaCReasJmt"
      },
      "source": [
        "### Applyting Gradient Descent"
      ]
    },
    {
      "cell_type": "markdown",
      "source": [
        "![](https://cdn.extras.talentsprint.com/IOT/Images/GD_Algo.png)"
      ],
      "metadata": {
        "id": "xit82iO7MSaU"
      }
    },
    {
      "cell_type": "markdown",
      "metadata": {
        "id": "eJ6PI7PHsJmr"
      },
      "source": [
        "### Gradient Descent"
      ]
    },
    {
      "cell_type": "markdown",
      "source": [
        "\n",
        "**theta** # Initial "
      ],
      "metadata": {
        "id": "PAHDZ8QeJZ-z"
      }
    },
    {
      "cell_type": "code",
      "source": [
        "np.random.seed(0)\n",
        "theta=np.random.randn(2,1)  # fisrt value=c, second value=m \n",
        "theta"
      ],
      "metadata": {
        "colab": {
          "base_uri": "https://localhost:8080/"
        },
        "id": "HWF8zMwhy5Z4",
        "outputId": "eb80bfcb-a243-405d-ff97-d77d16b7fcaf"
      },
      "execution_count": null,
      "outputs": [
        {
          "output_type": "execute_result",
          "data": {
            "text/plain": [
              "array([[1.76405235],\n",
              "       [0.40015721]])"
            ]
          },
          "metadata": {},
          "execution_count": 91
        }
      ]
    },
    {
      "cell_type": "code",
      "execution_count": null,
      "metadata": {
        "id": "dxUnj9SvsJms"
      },
      "outputs": [],
      "source": [
        "a=0.01 # Learning Rate"
      ]
    },
    {
      "cell_type": "code",
      "source": [
        "grad=(1/m)*(X.T).dot(X.dot(theta)-y)"
      ],
      "metadata": {
        "id": "kWIG1_CPymJO"
      },
      "execution_count": null,
      "outputs": []
    },
    {
      "cell_type": "code",
      "execution_count": null,
      "metadata": {
        "id": "B118d9HBsJmt",
        "colab": {
          "base_uri": "https://localhost:8080/"
        },
        "outputId": "154411f6-0cc7-403c-e632-e94797e55f00"
      },
      "outputs": [
        {
          "output_type": "execute_result",
          "data": {
            "text/plain": [
              "array([[1.7899685 ],\n",
              "       [0.98768236]])"
            ]
          },
          "metadata": {},
          "execution_count": 98
        }
      ],
      "source": [
        "theta=theta-a*grad\n",
        "theta"
      ]
    },
    {
      "cell_type": "markdown",
      "source": [
        "#### Full fledge gradient implementation"
      ],
      "metadata": {
        "id": "UoTEd-dUzO9u"
      }
    },
    {
      "cell_type": "code",
      "execution_count": null,
      "metadata": {
        "id": "JqhpBwm1sJmu",
        "colab": {
          "base_uri": "https://localhost:8080/"
        },
        "outputId": "3d54e214-2079-4b09-eddd-2fba587e6f3c"
      },
      "outputs": [
        {
          "output_type": "stream",
          "name": "stdout",
          "text": [
            "[[1.76405235]\n",
            " [0.40015721]]\n",
            "[[-3.8957808 ]\n",
            " [ 1.19303364]]\n"
          ]
        }
      ],
      "source": [
        "## Theta initialization\n",
        "np.random.seed(0)\n",
        "theta=np.random.randn(2,1)  # fisrt value=c, second value=m \n",
        "print(theta)\n",
        "n_iteration=10000 ## number of iteration\n",
        "a=0.01\n",
        "for i_iter in range(n_iteration):\n",
        "  grad=(1/m)*(X.T).dot(X.dot(theta)-y) ##Grad calculation\n",
        "  theta=theta-a*grad\n",
        "print(theta) ## final updated theta afeter certain loop\n"
      ]
    },
    {
      "cell_type": "markdown",
      "metadata": {
        "id": "tTM2jKH-sJmw"
      },
      "source": [
        "### Cost Calculation\n",
        "\n",
        "![](https://cdn.extras.talentsprint.com/IOT/Images/cost_cal.png)\n",
        "\n",
        "\n"
      ]
    },
    {
      "cell_type": "code",
      "execution_count": null,
      "metadata": {
        "id": "Z9MzmUELsJmy",
        "colab": {
          "base_uri": "https://localhost:8080/"
        },
        "outputId": "f67d68f3-3c8b-4ebf-ac16-b159b43fa01c"
      },
      "outputs": [
        {
          "output_type": "execute_result",
          "data": {
            "text/plain": [
              "4.476971375975179"
            ]
          },
          "metadata": {},
          "execution_count": 102
        }
      ],
      "source": [
        "c=(1/(2*m))*np.sum((np.square(X.dot(theta)-y)))\n",
        "c"
      ]
    },
    {
      "cell_type": "code",
      "source": [
        "c[1,0]"
      ],
      "metadata": {
        "id": "uIkPEIEl2DPY"
      },
      "execution_count": null,
      "outputs": []
    },
    {
      "cell_type": "code",
      "source": [
        "c=np.zeros((m,1))\n",
        "c.shape"
      ],
      "metadata": {
        "colab": {
          "base_uri": "https://localhost:8080/"
        },
        "id": "6ZZrOLLB1hH9",
        "outputId": "adfde632-c0c0-4926-8628-1119d67ae500"
      },
      "execution_count": null,
      "outputs": [
        {
          "output_type": "execute_result",
          "data": {
            "text/plain": [
              "(97, 1)"
            ]
          },
          "metadata": {},
          "execution_count": 118
        }
      ]
    },
    {
      "cell_type": "code",
      "source": [
        "(1/(2*m))*np.sum((np.square(X.dot(theta)-y)))"
      ],
      "metadata": {
        "colab": {
          "base_uri": "https://localhost:8080/"
        },
        "id": "eSB9GARA2TSZ",
        "outputId": "c02b45e8-f4bc-4772-a83d-0f603822bd51"
      },
      "execution_count": null,
      "outputs": [
        {
          "output_type": "execute_result",
          "data": {
            "text/plain": [
              "6.540805526734091"
            ]
          },
          "metadata": {},
          "execution_count": 113
        }
      ]
    },
    {
      "cell_type": "code",
      "source": [
        ""
      ],
      "metadata": {
        "id": "JOzC6dbA231W"
      },
      "execution_count": null,
      "outputs": []
    },
    {
      "cell_type": "code",
      "source": [
        "## Theta initialization\n",
        "np.random.seed(0)\n",
        "theta=np.random.randn(2,1)  # fisrt value=c, second value=m \n",
        "print(theta)\n",
        "c=np.zeros((m,1))\n",
        "n_iteration=10000 ## number of iteration\n",
        "c=np.zeros((n_iteration,1))\n",
        "a=0.001 ## Learning rate\n",
        "for i_iter in range(n_iteration):\n",
        "  grad=(1/m)*(X.T).dot(X.dot(theta)-y) ##Grad calculation\n",
        "  theta=theta-a*grad\n",
        "  c[i_iter,0]=(1/(2*m))*np.sum((np.square(X.dot(theta)-y)))\n",
        "\n",
        "print(theta) ## final updated theta afeter certain loop\n",
        "print(i_iter)\n"
      ],
      "metadata": {
        "colab": {
          "base_uri": "https://localhost:8080/"
        },
        "id": "fYeR3-E503aG",
        "outputId": "c0a1fad7-e4a6-4fd7-db01-6a86a00c2ad4"
      },
      "execution_count": null,
      "outputs": [
        {
          "output_type": "stream",
          "name": "stdout",
          "text": [
            "[[1.76405235]\n",
            " [0.40015721]]\n",
            "[[-2.95911664]\n",
            " [ 1.09893556]]\n",
            "9999\n"
          ]
        }
      ]
    },
    {
      "cell_type": "code",
      "source": [
        "print(c)"
      ],
      "metadata": {
        "colab": {
          "base_uri": "https://localhost:8080/"
        },
        "id": "5zmfjZnb3LN5",
        "outputId": "aae72aee-bf46-4d05-e1e1-36537ce3f4fc"
      },
      "execution_count": null,
      "outputs": [
        {
          "output_type": "stream",
          "name": "stdout",
          "text": [
            "[[7.47044528]\n",
            " [7.3972427 ]\n",
            " [7.38475158]\n",
            " ...\n",
            " [4.47697138]\n",
            " [4.47697138]\n",
            " [4.47697138]]\n"
          ]
        }
      ]
    },
    {
      "cell_type": "markdown",
      "metadata": {
        "id": "chFnsrkqsJm0"
      },
      "source": [
        "### Including cost calculatin for each iteration i.e. for each updated theta inside loop"
      ]
    },
    {
      "cell_type": "code",
      "execution_count": null,
      "metadata": {
        "id": "komMZD-XsJm0"
      },
      "outputs": [],
      "source": [
        ""
      ]
    },
    {
      "cell_type": "code",
      "execution_count": null,
      "metadata": {
        "id": "gtEA4kd7sJm1"
      },
      "outputs": [],
      "source": [
        "c"
      ]
    },
    {
      "cell_type": "code",
      "execution_count": null,
      "metadata": {
        "id": "lbS5WDV9sJm3",
        "colab": {
          "base_uri": "https://localhost:8080/",
          "height": 283
        },
        "outputId": "c23e7e90-b9cf-44c9-9431-b035543bb7dc"
      },
      "outputs": [
        {
          "output_type": "execute_result",
          "data": {
            "text/plain": [
              "[<matplotlib.lines.Line2D at 0x7f3a7523e250>]"
            ]
          },
          "metadata": {},
          "execution_count": 124
        },
        {
          "output_type": "display_data",
          "data": {
            "text/plain": [
              "<Figure size 432x288 with 1 Axes>"
            ],
            "image/png": "[encoded data removed]"
          },
          "metadata": {
            "needs_background": "light"
          }
        }
      ],
      "source": [
        "plt.plot(c) ## Potting  cost funtion. Cost must decrease in each step if our code is impletmented conrrectly."
      ]
    },
    {
      "cell_type": "code",
      "execution_count": null,
      "metadata": {
        "id": "DMUyv1bssJm4",
        "colab": {
          "base_uri": "https://localhost:8080/"
        },
        "outputId": "c518e422-796f-457f-92c3-39bc29417ffc"
      },
      "outputs": [
        {
          "output_type": "execute_result",
          "data": {
            "text/plain": [
              "array([[-3.8957808 ],\n",
              "       [ 1.19303364]])"
            ]
          },
          "metadata": {},
          "execution_count": 125
        }
      ],
      "source": [
        "theta"
      ]
    },
    {
      "cell_type": "code",
      "execution_count": null,
      "metadata": {
        "id": "o9XbMiYlsJm4"
      },
      "outputs": [],
      "source": [
        "yp=X.dot(theta)  # This is predicted y for each x\n",
        "yp"
      ]
    },
    {
      "cell_type": "code",
      "execution_count": null,
      "metadata": {
        "scrolled": true,
        "id": "U2H_h2AosJm5",
        "colab": {
          "base_uri": "https://localhost:8080/",
          "height": 284
        },
        "outputId": "2ad2e79d-22ef-4dbb-e244-c676e9455edf"
      },
      "outputs": [
        {
          "output_type": "execute_result",
          "data": {
            "text/plain": [
              "[<matplotlib.lines.Line2D at 0x7f3a753a3410>]"
            ]
          },
          "metadata": {},
          "execution_count": 127
        },
        {
          "output_type": "display_data",
          "data": {
            "text/plain": [
              "<Figure size 432x288 with 1 Axes>"
            ],
            "image/png": "[encoded data removed]"
          },
          "metadata": {
            "needs_background": "light"
          }
        }
      ],
      "source": [
        "plt.scatter(data.Visitor_Count,data.Revenue) ## Original data\n",
        "plt.plot(x,yp,'r-') ##  x versus predicted y in red color"
      ]
    },
    {
      "cell_type": "markdown",
      "source": [
        "### Prediction for any new instance"
      ],
      "metadata": {
        "id": "i4owrvXGiH5j"
      }
    },
    {
      "cell_type": "code",
      "execution_count": null,
      "metadata": {
        "id": "2tZY950UsJm6"
      },
      "outputs": [],
      "source": [
        "## Making function for prediction\n",
        "def predict(x):\n",
        "    theta=np.array([[-3.89578081],[ 1.19303364]])\n",
        "    X1=np.array([[1,x]])\n",
        "    yp=X1.dot(theta)\n",
        "    return yp[0,0]"
      ]
    },
    {
      "cell_type": "code",
      "execution_count": null,
      "metadata": {
        "id": "IF47qzxLsJm7",
        "outputId": "1a11d0c7-9a13-4292-a47a-d1296fb76384",
        "colab": {
          "base_uri": "https://localhost:8080/"
        }
      },
      "outputs": [
        {
          "output_type": "execute_result",
          "data": {
            "text/plain": [
              "19.964891989999995"
            ]
          },
          "metadata": {},
          "execution_count": 131
        }
      ],
      "source": [
        "predict(20)"
      ]
    },
    {
      "cell_type": "code",
      "source": [
        "import sk... linear regrssion"
      ],
      "metadata": {
        "id": "k8Nw-dmo4O6O"
      },
      "execution_count": null,
      "outputs": []
    },
    {
      "cell_type": "code",
      "source": [
        "lineer=linear regrssion"
      ],
      "metadata": {
        "id": "SlUrSLLV4TIH"
      },
      "execution_count": null,
      "outputs": []
    },
    {
      "cell_type": "code",
      "source": [
        ""
      ],
      "metadata": {
        "id": "Z6q6txvY4XP_"
      },
      "execution_count": null,
      "outputs": []
    }
  ],
  "metadata": {
    "kernelspec": {
      "display_name": "Python 3",
      "language": "python",
      "name": "python3"
    },
    "language_info": {
      "codemirror_mode": {
        "name": "ipython",
        "version": 3
      },
      "file_extension": ".py",
      "mimetype": "text/x-python",
      "name": "python",
      "nbconvert_exporter": "python",
      "pygments_lexer": "ipython3",
      "version": "3.8.8"
    },
    "colab": {
      "name": "Gradient_Descent_Scratch_Walkthrough .ipynb",
      "provenance": []
    }
  },
  "nbformat": 4,
  "nbformat_minor": 0
}