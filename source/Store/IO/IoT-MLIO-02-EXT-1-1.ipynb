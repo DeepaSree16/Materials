{
 "cells": [
  {
   "cell_type": "markdown",
   "metadata": {
    "id": "p4Nwm4FK3wgU"
   },
   "source": [
    "# IoT & Smart Analytics\n",
    "## A Program by IIIT-H and TalentSprint"
   ]
  },
  {
   "cell_type": "markdown",
   "metadata": {
    "id": "Z8sZdmKdvkeZ"
   },
   "source": [
    "## Learning Objectives\n",
    "At the end of the experiment, participants will be able to : \n",
    "* Apply Linear Regression on different datasets"
   ]
  },
  {
   "cell_type": "markdown",
   "metadata": {
    "id": "gebR46s_wvBD"
   },
   "source": [
    "## Dataset\n",
    "### Description\n",
    "For this experiment we have chosen two datasets:\n",
    "\n",
    "1. Pendulumn dataset \n",
    "\n",
    "The dataset consists of two columns and 90 rows. Each column represents a characteristic of a simple pendulum i.e  **l** (length) and **t** (time period). The dataset describes the relationship between the **l** and **t** which is $𝐿∝𝑇^2$.\n",
    "\n",
    "2. Chiller Power Consumption dataset\n",
    "\n",
    "The dataset consists of five columns and 261 rows. Here the last column is the power consumed by a cooling system of a data centre.  The power comsumed by cooling system depends on outside ambient air temperature(OAT), Relative humidity(RH),and  Power consumed by the IT equipments (IT Load) which are the First three features. These data taken by different sensors and energy meters deployed at the data center site.\n",
    "\n",
    "**File names :**\n",
    "* Pendulumn.txt\n",
    "* Chiller_Power_Consumption.xlsx\n"
   ]
  },
  {
   "cell_type": "markdown",
   "metadata": {
    "id": "BNLA8HiKxQhc"
   },
   "source": [
    "### Setup Steps:"
   ]
  },
  {
   "cell_type": "code",
   "execution_count": null,
   "metadata": {
    "id": "2YzfoPvJDiTX"
   },
   "outputs": [],
   "source": [
    "#@title Please enter your registration id to start: { run: \"auto\", display-mode: \"form\" }\n",
    "Id = \"P22I01E_test\" #@param {type:\"string\"}"
   ]
  },
  {
   "cell_type": "code",
   "execution_count": null,
   "metadata": {
    "id": "rEzlYL4CDrmE"
   },
   "outputs": [],
   "source": [
    "#@title Please enter your password (normally your phone number) to continue: { run: \"auto\", display-mode: \"form\" }\n",
    "password = \"9876543456\" #@param {type:\"string\"}"
   ]
  },
  {
   "cell_type": "code",
   "execution_count": null,
   "metadata": {
    "colab": {
     "base_uri": "https://localhost:8080/",
     "height": 35
    },
    "id": "WBPPuGmBlDIN",
    "outputId": "f45a7401-d432-47dd-8829-141def98b94e"
   },
   "outputs": [
    {
     "data": {
      "text/html": [
       "<script src=\"https://dashboard.talentsprint.com/aiml/record_ip.html?traineeId=P22I01E_test&recordId=28\"></script>"
      ],
      "text/plain": [
       "<IPython.core.display.HTML object>"
      ]
     },
     "metadata": {},
     "output_type": "display_data"
    },
    {
     "name": "stdout",
     "output_type": "stream",
     "text": [
      "Setup completed successfully\n"
     ]
    }
   ],
   "source": [
    "#@title Run this cell to complete the setup for this Notebook\n",
    "from IPython import get_ipython\n",
    "\n",
    "ipython = get_ipython()\n",
    "  \n",
    "notebook= \"Regression_GNB_IoT\" #name of the notebook\n",
    "\n",
    "def setup():\n",
    "    ipython.magic(\"sx wget  https://cdn.extras.talentsprint.com/IOT/Data/Pendulumn.txt\")\n",
    "    ipython.magic(\"sx wget  https://cdn.extras.talentsprint.com/IOT/Data/Chiller_Power_Consumption.xlsx\")\n",
    "\n",
    "    from IPython.display import HTML, display\n",
    "    display(HTML('<script src=\"https://dashboard.talentsprint.com/aiml/record_ip.html?traineeId={0}&recordId={1}\"></script>'.format(getId(),submission_id)))\n",
    "    print(\"Setup completed successfully\")\n",
    "    return\n",
    "\n",
    "def submit_notebook():\n",
    "    ipython.magic(\"notebook -e \"+ notebook + \".ipynb\")\n",
    "    \n",
    "    import requests, json, base64, datetime\n",
    "\n",
    "    url = \"https://dashboard.talentsprint.com/xp/app/save_notebook_attempts\"\n",
    "    if not submission_id:\n",
    "      data = {\"id\" : getId(), \"notebook\" : notebook, \"mobile\" : getPassword()}\n",
    "      r = requests.post(url, data = data)\n",
    "      r = json.loads(r.text)\n",
    "\n",
    "      if r[\"status\"] == \"Success\":\n",
    "          return r[\"record_id\"]\n",
    "      elif \"err\" in r:        \n",
    "        print(r[\"err\"])\n",
    "        return None        \n",
    "      else:\n",
    "        print (\"Something is wrong, the notebook will not be submitted for grading\")\n",
    "        return None\n",
    "    \n",
    "    elif getAnswer1() and getAnswer2() and getComplexity() and getAdditional() and getConcepts() and getComments() and getMentorSupport():\n",
    "      f = open(notebook + \".ipynb\", \"rb\")\n",
    "      file_hash = base64.b64encode(f.read())\n",
    "\n",
    "      data = {\"complexity\" : Complexity, \"additional\" :Additional, \n",
    "              \"concepts\" : Concepts, \"record_id\" : submission_id, \n",
    "              \"answer1\" : Answer1, \"id\" : Id, \"file_hash\" : file_hash,\n",
    "              \"notebook\" : notebook, \"answer2\" : Answer2,\n",
    "              \"feedback_experiments_input\" : Comments,\n",
    "              \"feedback_mentor_support\": Mentor_support}\n",
    "\n",
    "      r = requests.post(url, data = data)\n",
    "      r = json.loads(r.text)\n",
    "      if \"err\" in r:        \n",
    "        print(r[\"err\"])\n",
    "        return None   \n",
    "      else:\n",
    "        print(\"Your submission is successful.\")\n",
    "        print(\"Ref Id:\", submission_id)\n",
    "        print(\"Date of submission: \", r[\"date\"])\n",
    "        print(\"Time of submission: \", r[\"time\"])\n",
    "        print(\"View your submissions: https://iot.iiith.talentsprint.com/notebook_submissions\")\n",
    "        #print(\"For any queries/discrepancies, please connect with mentors through the chat icon in LMS dashboard.\")\n",
    "        return submission_id\n",
    "    else: submission_id\n",
    "    \n",
    "\n",
    "def getAdditional():\n",
    "  try:\n",
    "    if not Additional: \n",
    "      raise NameError\n",
    "    else:\n",
    "      return Additional  \n",
    "  except NameError:\n",
    "    print (\"Please answer Additional Question\")\n",
    "    return None\n",
    "\n",
    "def getComplexity():\n",
    "  try:\n",
    "    if not Complexity:\n",
    "      raise NameError\n",
    "    else:\n",
    "      return Complexity\n",
    "  except NameError:\n",
    "    print (\"Please answer Complexity Question\")\n",
    "    return None\n",
    "  \n",
    "def getConcepts():\n",
    "  try:\n",
    "    if not Concepts:\n",
    "      raise NameError\n",
    "    else:\n",
    "      return Concepts\n",
    "  except NameError:\n",
    "    print (\"Please answer Concepts Question\")\n",
    "    return None\n",
    "  \n",
    "  \n",
    "def getComments():\n",
    "  try:\n",
    "    if not Comments:\n",
    "      raise NameError\n",
    "    else:\n",
    "      return Comments\n",
    "  except NameError:\n",
    "    print (\"Please answer Comments Question\")\n",
    "    return None\n",
    "  \n",
    "\n",
    "def getMentorSupport():\n",
    "  try:\n",
    "    if not Mentor_support:\n",
    "      raise NameError\n",
    "    else:\n",
    "      return Mentor_support\n",
    "  except NameError:\n",
    "    print (\"Please answer Mentor support Question\")\n",
    "    return None\n",
    "\n",
    "def getAnswer1():\n",
    "  try:\n",
    "    if not Answer1:\n",
    "      raise NameError \n",
    "    else: \n",
    "      return Answer1\n",
    "  except NameError:\n",
    "    print (\"Please answer1 Question\")\n",
    "    return None\n",
    "\n",
    "def getAnswer2():\n",
    "  try:\n",
    "    if not Answer2:\n",
    "      raise NameError \n",
    "    else: \n",
    "      return Answer2\n",
    "  except NameError:\n",
    "    print (\"Please answer2 Question\")\n",
    "    return None\n",
    "  \n",
    "\n",
    "def getId():\n",
    "  try: \n",
    "    return Id if Id else None\n",
    "  except NameError:\n",
    "    return None\n",
    "\n",
    "def getPassword():\n",
    "  try:\n",
    "    return password if password else None\n",
    "  except NameError:\n",
    "    return None\n",
    "\n",
    "submission_id = None\n",
    "### Setup \n",
    "if getPassword() and getId():\n",
    "  submission_id = submit_notebook()\n",
    "  if submission_id:\n",
    "    setup() \n",
    "else:\n",
    "  print (\"Please complete Id and Password cells before running setup\")\n",
    "\n"
   ]
  },
  {
   "cell_type": "markdown",
   "metadata": {
    "id": "zYtYLMx7wuwP"
   },
   "source": [
    "#### Importing Libraries"
   ]
  },
  {
   "cell_type": "code",
   "execution_count": null,
   "metadata": {
    "id": "my4lLJlpw18y"
   },
   "outputs": [],
   "source": [
    "import numpy as np\n",
    "import pandas as pd\n",
    "import matplotlib.pyplot as plt \n",
    "from sklearn.model_selection import train_test_split \n",
    "from sklearn.linear_model import LinearRegression\n",
    "from sklearn.metrics import mean_squared_error"
   ]
  },
  {
   "cell_type": "markdown",
   "metadata": {
    "id": "05gf5Vf0xACm"
   },
   "source": [
    "#### Loading the data "
   ]
  },
  {
   "cell_type": "code",
   "execution_count": null,
   "metadata": {
    "colab": {
     "base_uri": "https://localhost:8080/",
     "height": 206
    },
    "id": "6lNsG8jixEUn",
    "outputId": "e4e5c24a-9678-41d0-e413-553766301690"
   },
   "outputs": [
    {
     "data": {
      "text/html": [
       "\n",
       "  <div id=\"df-41d10613-abfd-4cf8-abe5-8fdfaf6174f8\">\n",
       "    <div class=\"colab-df-container\">\n",
       "      <div>\n",
       "<style scoped>\n",
       "    .dataframe tbody tr th:only-of-type {\n",
       "        vertical-align: middle;\n",
       "    }\n",
       "\n",
       "    .dataframe tbody tr th {\n",
       "        vertical-align: top;\n",
       "    }\n",
       "\n",
       "    .dataframe thead th {\n",
       "        text-align: right;\n",
       "    }\n",
       "</style>\n",
       "<table border=\"1\" class=\"dataframe\">\n",
       "  <thead>\n",
       "    <tr style=\"text-align: right;\">\n",
       "      <th></th>\n",
       "      <th>l</th>\n",
       "      <th>t</th>\n",
       "    </tr>\n",
       "  </thead>\n",
       "  <tbody>\n",
       "    <tr>\n",
       "      <th>0</th>\n",
       "      <td>0.10</td>\n",
       "      <td>0.69004</td>\n",
       "    </tr>\n",
       "    <tr>\n",
       "      <th>1</th>\n",
       "      <td>0.11</td>\n",
       "      <td>0.69497</td>\n",
       "    </tr>\n",
       "    <tr>\n",
       "      <th>2</th>\n",
       "      <td>0.12</td>\n",
       "      <td>0.74252</td>\n",
       "    </tr>\n",
       "    <tr>\n",
       "      <th>3</th>\n",
       "      <td>0.13</td>\n",
       "      <td>0.75360</td>\n",
       "    </tr>\n",
       "    <tr>\n",
       "      <th>4</th>\n",
       "      <td>0.14</td>\n",
       "      <td>0.83568</td>\n",
       "    </tr>\n",
       "  </tbody>\n",
       "</table>\n",
       "</div>\n",
       "      <button class=\"colab-df-convert\" onclick=\"convertToInteractive('df-41d10613-abfd-4cf8-abe5-8fdfaf6174f8')\"\n",
       "              title=\"Convert this dataframe to an interactive table.\"\n",
       "              style=\"display:none;\">\n",
       "        \n",
       "  <svg xmlns=\"http://www.w3.org/2000/svg\" height=\"24px\"viewBox=\"0 0 24 24\"\n",
       "       width=\"24px\">\n",
       "    <path d=\"M0 0h24v24H0V0z\" fill=\"none\"/>\n",
       "    <path d=\"M18.56 5.44l.94 2.06.94-2.06 2.06-.94-2.06-.94-.94-2.06-.94 2.06-2.06.94zm-11 1L8.5 8.5l.94-2.06 2.06-.94-2.06-.94L8.5 2.5l-.94 2.06-2.06.94zm10 10l.94 2.06.94-2.06 2.06-.94-2.06-.94-.94-2.06-.94 2.06-2.06.94z\"/><path d=\"M17.41 7.96l-1.37-1.37c-.4-.4-.92-.59-1.43-.59-.52 0-1.04.2-1.43.59L10.3 9.45l-7.72 7.72c-.78.78-.78 2.05 0 2.83L4 21.41c.39.39.9.59 1.41.59.51 0 1.02-.2 1.41-.59l7.78-7.78 2.81-2.81c.8-.78.8-2.07 0-2.86zM5.41 20L4 18.59l7.72-7.72 1.47 1.35L5.41 20z\"/>\n",
       "  </svg>\n",
       "      </button>\n",
       "      \n",
       "  <style>\n",
       "    .colab-df-container {\n",
       "      display:flex;\n",
       "      flex-wrap:wrap;\n",
       "      gap: 12px;\n",
       "    }\n",
       "\n",
       "    .colab-df-convert {\n",
       "      background-color: #E8F0FE;\n",
       "      border: none;\n",
       "      border-radius: 50%;\n",
       "      cursor: pointer;\n",
       "      display: none;\n",
       "      fill: #1967D2;\n",
       "      height: 32px;\n",
       "      padding: 0 0 0 0;\n",
       "      width: 32px;\n",
       "    }\n",
       "\n",
       "    .colab-df-convert:hover {\n",
       "      background-color: #E2EBFA;\n",
       "      box-shadow: 0px 1px 2px rgba(60, 64, 67, 0.3), 0px 1px 3px 1px rgba(60, 64, 67, 0.15);\n",
       "      fill: #174EA6;\n",
       "    }\n",
       "\n",
       "    [theme=dark] .colab-df-convert {\n",
       "      background-color: #3B4455;\n",
       "      fill: #D2E3FC;\n",
       "    }\n",
       "\n",
       "    [theme=dark] .colab-df-convert:hover {\n",
       "      background-color: #434B5C;\n",
       "      box-shadow: 0px 1px 3px 1px rgba(0, 0, 0, 0.15);\n",
       "      filter: drop-shadow(0px 1px 2px rgba(0, 0, 0, 0.3));\n",
       "      fill: #FFFFFF;\n",
       "    }\n",
       "  </style>\n",
       "\n",
       "      <script>\n",
       "        const buttonEl =\n",
       "          document.querySelector('#df-41d10613-abfd-4cf8-abe5-8fdfaf6174f8 button.colab-df-convert');\n",
       "        buttonEl.style.display =\n",
       "          google.colab.kernel.accessAllowed ? 'block' : 'none';\n",
       "\n",
       "        async function convertToInteractive(key) {\n",
       "          const element = document.querySelector('#df-41d10613-abfd-4cf8-abe5-8fdfaf6174f8');\n",
       "          const dataTable =\n",
       "            await google.colab.kernel.invokeFunction('convertToInteractive',\n",
       "                                                     [key], {});\n",
       "          if (!dataTable) return;\n",
       "\n",
       "          const docLinkHtml = 'Like what you see? Visit the ' +\n",
       "            '<a target=\"_blank\" href=https://colab.research.google.com/notebooks/data_table.ipynb>data table notebook</a>'\n",
       "            + ' to learn more about interactive tables.';\n",
       "          element.innerHTML = '';\n",
       "          dataTable['output_type'] = 'display_data';\n",
       "          await google.colab.output.renderOutput(dataTable, element);\n",
       "          const docLink = document.createElement('div');\n",
       "          docLink.innerHTML = docLinkHtml;\n",
       "          element.appendChild(docLink);\n",
       "        }\n",
       "      </script>\n",
       "    </div>\n",
       "  </div>\n",
       "  "
      ],
      "text/plain": [
       "      l        t\n",
       "0  0.10  0.69004\n",
       "1  0.11  0.69497\n",
       "2  0.12  0.74252\n",
       "3  0.13  0.75360\n",
       "4  0.14  0.83568"
      ]
     },
     "execution_count": 5,
     "metadata": {},
     "output_type": "execute_result"
    }
   ],
   "source": [
    "# Pendulumn data\n",
    "data_Pendulumn = pd.read_csv(\"Pendulumn.txt\", sep=\" \", header=None, names=['l', 't'])\n",
    "data_Pendulumn.head()\n",
    "\n",
    "# First column is the count of visitors(Thousand) in a mall and second column is the revenue(Lakhs) made by a food outlet in a mall."
   ]
  },
  {
   "cell_type": "code",
   "execution_count": null,
   "metadata": {
    "colab": {
     "base_uri": "https://localhost:8080/",
     "height": 206
    },
    "id": "xyuWxNrzjD4n",
    "outputId": "da27b170-3506-40c6-8df0-d7a22281a17a"
   },
   "outputs": [
    {
     "data": {
      "text/html": [
       "\n",
       "  <div id=\"df-458b6056-46e1-488d-87f6-b851e984d806\">\n",
       "    <div class=\"colab-df-container\">\n",
       "      <div>\n",
       "<style scoped>\n",
       "    .dataframe tbody tr th:only-of-type {\n",
       "        vertical-align: middle;\n",
       "    }\n",
       "\n",
       "    .dataframe tbody tr th {\n",
       "        vertical-align: top;\n",
       "    }\n",
       "\n",
       "    .dataframe thead th {\n",
       "        text-align: right;\n",
       "    }\n",
       "</style>\n",
       "<table border=\"1\" class=\"dataframe\">\n",
       "  <thead>\n",
       "    <tr style=\"text-align: right;\">\n",
       "      <th></th>\n",
       "      <th>Date</th>\n",
       "      <th>OAT (°C)</th>\n",
       "      <th>R.H. (%)</th>\n",
       "      <th>IT Load(kW)</th>\n",
       "      <th>Real Power (kW)</th>\n",
       "    </tr>\n",
       "  </thead>\n",
       "  <tbody>\n",
       "    <tr>\n",
       "      <th>0</th>\n",
       "      <td>2017-06-27 00:00:00</td>\n",
       "      <td>33.7</td>\n",
       "      <td>62.242004</td>\n",
       "      <td>202.4</td>\n",
       "      <td>44.8</td>\n",
       "    </tr>\n",
       "    <tr>\n",
       "      <th>1</th>\n",
       "      <td>2017-06-27 00:05:00</td>\n",
       "      <td>33.7</td>\n",
       "      <td>62.492004</td>\n",
       "      <td>202.7</td>\n",
       "      <td>44.8</td>\n",
       "    </tr>\n",
       "    <tr>\n",
       "      <th>2</th>\n",
       "      <td>2017-06-27 00:10:00</td>\n",
       "      <td>33.6</td>\n",
       "      <td>62.542000</td>\n",
       "      <td>202.8</td>\n",
       "      <td>44.8</td>\n",
       "    </tr>\n",
       "    <tr>\n",
       "      <th>3</th>\n",
       "      <td>2017-06-27 00:15:00</td>\n",
       "      <td>33.6</td>\n",
       "      <td>63.142002</td>\n",
       "      <td>202.4</td>\n",
       "      <td>48.5</td>\n",
       "    </tr>\n",
       "    <tr>\n",
       "      <th>4</th>\n",
       "      <td>2017-06-27 00:25:00</td>\n",
       "      <td>33.5</td>\n",
       "      <td>63.342003</td>\n",
       "      <td>202.7</td>\n",
       "      <td>51.7</td>\n",
       "    </tr>\n",
       "  </tbody>\n",
       "</table>\n",
       "</div>\n",
       "      <button class=\"colab-df-convert\" onclick=\"convertToInteractive('df-458b6056-46e1-488d-87f6-b851e984d806')\"\n",
       "              title=\"Convert this dataframe to an interactive table.\"\n",
       "              style=\"display:none;\">\n",
       "        \n",
       "  <svg xmlns=\"http://www.w3.org/2000/svg\" height=\"24px\"viewBox=\"0 0 24 24\"\n",
       "       width=\"24px\">\n",
       "    <path d=\"M0 0h24v24H0V0z\" fill=\"none\"/>\n",
       "    <path d=\"M18.56 5.44l.94 2.06.94-2.06 2.06-.94-2.06-.94-.94-2.06-.94 2.06-2.06.94zm-11 1L8.5 8.5l.94-2.06 2.06-.94-2.06-.94L8.5 2.5l-.94 2.06-2.06.94zm10 10l.94 2.06.94-2.06 2.06-.94-2.06-.94-.94-2.06-.94 2.06-2.06.94z\"/><path d=\"M17.41 7.96l-1.37-1.37c-.4-.4-.92-.59-1.43-.59-.52 0-1.04.2-1.43.59L10.3 9.45l-7.72 7.72c-.78.78-.78 2.05 0 2.83L4 21.41c.39.39.9.59 1.41.59.51 0 1.02-.2 1.41-.59l7.78-7.78 2.81-2.81c.8-.78.8-2.07 0-2.86zM5.41 20L4 18.59l7.72-7.72 1.47 1.35L5.41 20z\"/>\n",
       "  </svg>\n",
       "      </button>\n",
       "      \n",
       "  <style>\n",
       "    .colab-df-container {\n",
       "      display:flex;\n",
       "      flex-wrap:wrap;\n",
       "      gap: 12px;\n",
       "    }\n",
       "\n",
       "    .colab-df-convert {\n",
       "      background-color: #E8F0FE;\n",
       "      border: none;\n",
       "      border-radius: 50%;\n",
       "      cursor: pointer;\n",
       "      display: none;\n",
       "      fill: #1967D2;\n",
       "      height: 32px;\n",
       "      padding: 0 0 0 0;\n",
       "      width: 32px;\n",
       "    }\n",
       "\n",
       "    .colab-df-convert:hover {\n",
       "      background-color: #E2EBFA;\n",
       "      box-shadow: 0px 1px 2px rgba(60, 64, 67, 0.3), 0px 1px 3px 1px rgba(60, 64, 67, 0.15);\n",
       "      fill: #174EA6;\n",
       "    }\n",
       "\n",
       "    [theme=dark] .colab-df-convert {\n",
       "      background-color: #3B4455;\n",
       "      fill: #D2E3FC;\n",
       "    }\n",
       "\n",
       "    [theme=dark] .colab-df-convert:hover {\n",
       "      background-color: #434B5C;\n",
       "      box-shadow: 0px 1px 3px 1px rgba(0, 0, 0, 0.15);\n",
       "      filter: drop-shadow(0px 1px 2px rgba(0, 0, 0, 0.3));\n",
       "      fill: #FFFFFF;\n",
       "    }\n",
       "  </style>\n",
       "\n",
       "      <script>\n",
       "        const buttonEl =\n",
       "          document.querySelector('#df-458b6056-46e1-488d-87f6-b851e984d806 button.colab-df-convert');\n",
       "        buttonEl.style.display =\n",
       "          google.colab.kernel.accessAllowed ? 'block' : 'none';\n",
       "\n",
       "        async function convertToInteractive(key) {\n",
       "          const element = document.querySelector('#df-458b6056-46e1-488d-87f6-b851e984d806');\n",
       "          const dataTable =\n",
       "            await google.colab.kernel.invokeFunction('convertToInteractive',\n",
       "                                                     [key], {});\n",
       "          if (!dataTable) return;\n",
       "\n",
       "          const docLinkHtml = 'Like what you see? Visit the ' +\n",
       "            '<a target=\"_blank\" href=https://colab.research.google.com/notebooks/data_table.ipynb>data table notebook</a>'\n",
       "            + ' to learn more about interactive tables.';\n",
       "          element.innerHTML = '';\n",
       "          dataTable['output_type'] = 'display_data';\n",
       "          await google.colab.output.renderOutput(dataTable, element);\n",
       "          const docLink = document.createElement('div');\n",
       "          docLink.innerHTML = docLinkHtml;\n",
       "          element.appendChild(docLink);\n",
       "        }\n",
       "      </script>\n",
       "    </div>\n",
       "  </div>\n",
       "  "
      ],
      "text/plain": [
       "                 Date  OAT (°C)   R.H. (%)  IT Load(kW)  Real Power (kW)\n",
       "0 2017-06-27 00:00:00      33.7  62.242004        202.4             44.8\n",
       "1 2017-06-27 00:05:00      33.7  62.492004        202.7             44.8\n",
       "2 2017-06-27 00:10:00      33.6  62.542000        202.8             44.8\n",
       "3 2017-06-27 00:15:00      33.6  63.142002        202.4             48.5\n",
       "4 2017-06-27 00:25:00      33.5  63.342003        202.7             51.7"
      ]
     },
     "execution_count": 6,
     "metadata": {},
     "output_type": "execute_result"
    }
   ],
   "source": [
    "# Chiller power data\n",
    "data_Chiller=pd.read_excel('Chiller_Power_Consumption.xlsx')\n",
    "data_Chiller.head()"
   ]
  },
  {
   "cell_type": "markdown",
   "metadata": {
    "id": "nUhDjxZbju1V"
   },
   "source": [
    "## Apply Linear Regression on both the datasets given above one by one\n",
    "\n",
    "## **Pendulumn data**\n",
    "\n"
   ]
  },
  {
   "cell_type": "markdown",
   "metadata": {
    "id": "8TIdZpwwxLnn"
   },
   "source": [
    "#### Visualizing and Split the data into features and output"
   ]
  },
  {
   "cell_type": "code",
   "execution_count": null,
   "metadata": {
    "id": "iVR7iqHjmiL2"
   },
   "outputs": [],
   "source": [
    "## Your Code here"
   ]
  },
  {
   "cell_type": "markdown",
   "metadata": {
    "id": "em1Dc0ADxnXL"
   },
   "source": [
    "#### Spliting the data into train and test\n",
    "[train_test_split](https://scikit-learn.org/stable/modules/generated/sklearn.model_selection.train_test_split.html)"
   ]
  },
  {
   "cell_type": "code",
   "execution_count": null,
   "metadata": {
    "id": "O9DXYC06mdsV"
   },
   "outputs": [],
   "source": [
    "## Your Code here"
   ]
  },
  {
   "cell_type": "markdown",
   "metadata": {
    "id": "tQa8AYD0yPHi"
   },
   "source": [
    "#### Use LinearRegrssion library from sklearn \n",
    "* Create an object of Linear regression model \n",
    "* Apply the fit method\n",
    "\n",
    "[Ordinary least squares Linear Regression](https://scikit-learn.org/stable/modules/generated/sklearn.linear_model.LinearRegression.html)"
   ]
  },
  {
   "cell_type": "code",
   "execution_count": null,
   "metadata": {
    "id": "4IBRG9L_mapY"
   },
   "outputs": [],
   "source": [
    "## Your Code here"
   ]
  },
  {
   "cell_type": "markdown",
   "metadata": {
    "id": "d8TJ0_AhyU2j"
   },
   "source": [
    "#### Displaying coefficiet and intercept of the aproximated linear model"
   ]
  },
  {
   "cell_type": "code",
   "execution_count": null,
   "metadata": {
    "id": "9CuY4zwYmXzV"
   },
   "outputs": [],
   "source": [
    "## Your Code here"
   ]
  },
  {
   "cell_type": "markdown",
   "metadata": {
    "id": "VSTr1jbwzdHJ"
   },
   "source": [
    "#### Prediction  for x_test features"
   ]
  },
  {
   "cell_type": "code",
   "execution_count": null,
   "metadata": {
    "id": "5fDYOEfFmU_J"
   },
   "outputs": [],
   "source": [
    "## Your Code here"
   ]
  },
  {
   "cell_type": "markdown",
   "metadata": {
    "id": "1a7mIE2L0PxD"
   },
   "source": [
    "#### Calculating the accuracy score"
   ]
  },
  {
   "cell_type": "code",
   "execution_count": null,
   "metadata": {
    "id": "7xMjlXg2mSbi"
   },
   "outputs": [],
   "source": [
    "## Your Code here"
   ]
  },
  {
   "cell_type": "markdown",
   "metadata": {
    "id": "MVSq9v5n0ci-"
   },
   "source": [
    "#### Other methods for measuring accuracy\n",
    "* Mean Absolute Error (MAE)\n",
    "* Mean Squared Error (MSE)\n",
    "* Root Mean Squared Error (RMSE)\n",
    "\n",
    "Calculation of RMSE :"
   ]
  },
  {
   "cell_type": "code",
   "execution_count": null,
   "metadata": {
    "id": "_Pd-6f8omPPH"
   },
   "outputs": [],
   "source": [
    "## Your Code here"
   ]
  },
  {
   "cell_type": "markdown",
   "metadata": {
    "id": "xQt8owyK0qOX"
   },
   "source": [
    "#### Visualizing predicted and original y "
   ]
  },
  {
   "cell_type": "code",
   "execution_count": null,
   "metadata": {
    "id": "kSQsiyM0mMIX"
   },
   "outputs": [],
   "source": [
    "## Your Code here"
   ]
  },
  {
   "cell_type": "markdown",
   "metadata": {
    "id": "quOr2J2a0xos"
   },
   "source": [
    "#### Predictiong oputput  for any new feature using the developed model\n"
   ]
  },
  {
   "cell_type": "code",
   "execution_count": null,
   "metadata": {
    "id": "3xPNO_TAmIkk"
   },
   "outputs": [],
   "source": [
    "## Your Code here"
   ]
  },
  {
   "cell_type": "markdown",
   "metadata": {
    "id": "HnTtgUjymvXJ"
   },
   "source": [
    "## Complete all above  steps for **Chiller power data set**\n",
    "* Try with standardization "
   ]
  },
  {
   "cell_type": "markdown",
   "metadata": {
    "id": "Zj3R9fAGonBD"
   },
   "source": [
    "#### Visualizing and Spliting the data into features and output"
   ]
  },
  {
   "cell_type": "code",
   "execution_count": null,
   "metadata": {
    "id": "3nKuJDiWonBG"
   },
   "outputs": [],
   "source": [
    "## Your Code here"
   ]
  },
  {
   "cell_type": "markdown",
   "metadata": {
    "id": "5K2qGbh-onBJ"
   },
   "source": [
    "#### Spliting the data into train and test\n"
   ]
  },
  {
   "cell_type": "code",
   "execution_count": null,
   "metadata": {
    "id": "Wdnro8jLonBL"
   },
   "outputs": [],
   "source": [
    "## Your Code here"
   ]
  },
  {
   "cell_type": "markdown",
   "metadata": {
    "id": "H5_6nMgbonBM"
   },
   "source": [
    "#### Use LinearRegrssion library from sklearn \n",
    "* Create an object of Linear regression model \n",
    "* Apply the fit method\n"
   ]
  },
  {
   "cell_type": "code",
   "execution_count": null,
   "metadata": {
    "id": "udmXfc5KonBP"
   },
   "outputs": [],
   "source": [
    "## Your Code here"
   ]
  },
  {
   "cell_type": "markdown",
   "metadata": {
    "id": "EoGbJtqhonBR"
   },
   "source": [
    "#### Displaying coefficiet and intercept of the aproximated linear model"
   ]
  },
  {
   "cell_type": "code",
   "execution_count": null,
   "metadata": {
    "id": "dpmmXVgHonBT"
   },
   "outputs": [],
   "source": [
    "## Your Code here"
   ]
  },
  {
   "cell_type": "markdown",
   "metadata": {
    "id": "J3vmMcRYonBU"
   },
   "source": [
    "#### Prediction  for x_test features"
   ]
  },
  {
   "cell_type": "code",
   "execution_count": null,
   "metadata": {
    "id": "1SflGka3onBW"
   },
   "outputs": [],
   "source": [
    "## Your Code here"
   ]
  },
  {
   "cell_type": "markdown",
   "metadata": {
    "id": "D4pxGpUDonBY"
   },
   "source": [
    "#### Calculating the accuracy score"
   ]
  },
  {
   "cell_type": "code",
   "execution_count": null,
   "metadata": {
    "id": "pL_PkA5BonBZ"
   },
   "outputs": [],
   "source": [
    "## Your Code here"
   ]
  },
  {
   "cell_type": "markdown",
   "metadata": {
    "id": "goCbOmCGonBa"
   },
   "source": [
    "#### Other methods for measuring accuracy\n",
    "* Mean Absolute Error (MAE)\n",
    "* Mean Squared Error (MSE)\n",
    "* Root Mean Squared Error (RMSE)\n",
    "\n",
    "Calculation of RMSE :"
   ]
  },
  {
   "cell_type": "code",
   "execution_count": null,
   "metadata": {
    "id": "h0uBgTfEonBb"
   },
   "outputs": [],
   "source": [
    "## Your Code here"
   ]
  },
  {
   "cell_type": "markdown",
   "metadata": {
    "id": "LH69kvRRonBc"
   },
   "source": [
    "#### Visualizing predicted and original y "
   ]
  },
  {
   "cell_type": "code",
   "execution_count": null,
   "metadata": {
    "id": "xYp07hjdonBe"
   },
   "outputs": [],
   "source": [
    "## Your Code here"
   ]
  },
  {
   "cell_type": "markdown",
   "metadata": {
    "id": "VrnlU6m3onBf"
   },
   "source": [
    "#### Predictiong oputput  for any new feature using the developed model\n"
   ]
  },
  {
   "cell_type": "markdown",
   "metadata": {
    "id": "VHfHdGCP_n6Y"
   },
   "source": [
    "## Please answer the questions below to complete the experiment:\n",
    "\n",
    "\n"
   ]
  },
  {
   "cell_type": "code",
   "execution_count": null,
   "metadata": {
    "id": "kmvdJ4aNmGjR"
   },
   "outputs": [],
   "source": [
    "#@title How many coefficients will be there in multivariable regression?  { run: \"auto\", form-width: \"500px\", display-mode: \"form\" }\n",
    "Answer1 = \"\" #@param [\"\",\"One\", \"Two\", \"Same as number of features\", \"Can't say \"]\n"
   ]
  },
  {
   "cell_type": "code",
   "execution_count": null,
   "metadata": {
    "id": "HxjKf9FKXrEZ"
   },
   "outputs": [],
   "source": [
    "#@title We can pass a feature array of any shape inside the ' .fit ' method in regression.{ run: \"auto\", form-width: \"500px\", display-mode: \"form\" }\n",
    "Answer2 = \"\" #@param [\"\",\"False\", \"True\"]"
   ]
  },
  {
   "cell_type": "code",
   "execution_count": null,
   "metadata": {
    "id": "NMzKSbLIgFzQ"
   },
   "outputs": [],
   "source": [
    "#@title How was the experiment? { run: \"auto\", form-width: \"500px\", display-mode: \"form\" }\n",
    "Complexity = \"\" #@param [\"\",\"Too Simple, I am wasting time\", \"Good, But Not Challenging for me\", \"Good and Challenging for me\", \"Was Tough, but I did it\", \"Too Difficult for me\"]\n"
   ]
  },
  {
   "cell_type": "code",
   "execution_count": null,
   "metadata": {
    "id": "DjcH1VWSFI2l"
   },
   "outputs": [],
   "source": [
    "#@title If it was too easy, what more would you have liked to be added? If it was very difficult, what would you have liked to have been removed? { run: \"auto\", display-mode: \"form\" }\n",
    "Additional = \"\" #@param {type:\"string\"}\n"
   ]
  },
  {
   "cell_type": "code",
   "execution_count": null,
   "metadata": {
    "id": "4VBk_4VTAxCM"
   },
   "outputs": [],
   "source": [
    "#@title Can you identify the concepts from the lecture which this experiment covered? { run: \"auto\", vertical-output: true, display-mode: \"form\" }\n",
    "Concepts = \"\" #@param [\"\",\"Yes\", \"No\"]\n"
   ]
  },
  {
   "cell_type": "code",
   "execution_count": null,
   "metadata": {
    "id": "XH91cL1JWH7m"
   },
   "outputs": [],
   "source": [
    "#@title  Text and image description/explanation and code comments within the experiment: { run: \"auto\", vertical-output: true, display-mode: \"form\" }\n",
    "Comments = \"\" #@param [\"\",\"Very Useful\", \"Somewhat Useful\", \"Not Useful\", \"Didn't use\"]\n"
   ]
  },
  {
   "cell_type": "code",
   "execution_count": null,
   "metadata": {
    "id": "z8xLqj7VWIKW"
   },
   "outputs": [],
   "source": [
    "#@title Mentor Support: { run: \"auto\", vertical-output: true, display-mode: \"form\" }\n",
    "Mentor_support = \"\" #@param [\"\",\"Excellent\", \"Very Good\", \"Good\", \"Average\"]\n"
   ]
  },
  {
   "cell_type": "code",
   "execution_count": null,
   "metadata": {
    "cellView": "form",
    "id": "FzAZHt1zw-Y-"
   },
   "outputs": [],
   "source": [
    "#@title Run this cell to submit your notebook for grading { vertical-output: true }\n",
    "try:\n",
    "  if submission_id:\n",
    "      return_id = submit_notebook()\n",
    "      if return_id : submission_id = return_id\n",
    "  else:\n",
    "      print(\"Please complete the setup first.\")\n",
    "except NameError:\n",
    "  print (\"Please complete the setup first.\")"
   ]
  }
 ],
 "metadata": {
  "colab": {
   "collapsed_sections": [],
   "name": "Regression_GNB_IoT.ipynb",
   "provenance": []
  },
  "kernelspec": {
   "display_name": "Python 3",
   "language": "python",
   "name": "python3"
  },
  "language_info": {
   "codemirror_mode": {
    "name": "ipython",
    "version": 3
   },
   "file_extension": ".py",
   "mimetype": "text/x-python",
   "name": "python",
   "nbconvert_exporter": "python",
   "pygments_lexer": "ipython3",
   "version": "3.8.8"
  }
 },
 "nbformat": 4,
 "nbformat_minor": 1
}
