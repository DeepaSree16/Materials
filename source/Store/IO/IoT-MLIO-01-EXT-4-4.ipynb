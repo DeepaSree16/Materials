{
 "cells": [
  {
   "cell_type": "markdown",
   "metadata": {},
   "source": [
    "# IoT & Smart Analytics\n",
    "## A Program by IIIT-H and TalentSprint"
   ]
  },
  {
   "cell_type": "code",
   "execution_count": null,
   "metadata": {},
   "outputs": [],
   "source": [
    "## Learning Objectives\n",
    "At the end of the experiment, participants will be able to : \n",
    "* understand & calculate both Variance & Covariance\n",
    "* understand & calculate Correlation Coeff. & Coeff. of Deter.(R2)"
   ]
  },
  {
   "cell_type": "code",
   "execution_count": null,
   "metadata": {
    "id": "23oKU_TR6C45"
   },
   "outputs": [],
   "source": [
    "import numpy as np\n",
    "import pandas as pd\n",
    "import matplotlib.pyplot as plt"
   ]
  },
  {
   "cell_type": "code",
   "execution_count": null,
   "metadata": {
    "colab": {
     "base_uri": "https://localhost:8080/",
     "height": 206
    },
    "id": "EB1TLPj06C5B",
    "outputId": "73967a99-e4a8-4ec7-d34c-e91c68794f88"
   },
   "outputs": [
    {
     "data": {
      "text/html": [
       "\n",
       "  <div id=\"df-b1d89449-cf3c-4fc4-9701-fc55e3f06e35\">\n",
       "    <div class=\"colab-df-container\">\n",
       "      <div>\n",
       "<style scoped>\n",
       "    .dataframe tbody tr th:only-of-type {\n",
       "        vertical-align: middle;\n",
       "    }\n",
       "\n",
       "    .dataframe tbody tr th {\n",
       "        vertical-align: top;\n",
       "    }\n",
       "\n",
       "    .dataframe thead th {\n",
       "        text-align: right;\n",
       "    }\n",
       "</style>\n",
       "<table border=\"1\" class=\"dataframe\">\n",
       "  <thead>\n",
       "    <tr style=\"text-align: right;\">\n",
       "      <th></th>\n",
       "      <th>Visitor_Count</th>\n",
       "      <th>Profit</th>\n",
       "    </tr>\n",
       "  </thead>\n",
       "  <tbody>\n",
       "    <tr>\n",
       "      <th>0</th>\n",
       "      <td>6.1101</td>\n",
       "      <td>17.5920</td>\n",
       "    </tr>\n",
       "    <tr>\n",
       "      <th>1</th>\n",
       "      <td>5.5277</td>\n",
       "      <td>9.1302</td>\n",
       "    </tr>\n",
       "    <tr>\n",
       "      <th>2</th>\n",
       "      <td>8.5186</td>\n",
       "      <td>13.6620</td>\n",
       "    </tr>\n",
       "    <tr>\n",
       "      <th>3</th>\n",
       "      <td>7.0032</td>\n",
       "      <td>11.8540</td>\n",
       "    </tr>\n",
       "    <tr>\n",
       "      <th>4</th>\n",
       "      <td>5.8598</td>\n",
       "      <td>6.8233</td>\n",
       "    </tr>\n",
       "  </tbody>\n",
       "</table>\n",
       "</div>\n",
       "      <button class=\"colab-df-convert\" onclick=\"convertToInteractive('df-b1d89449-cf3c-4fc4-9701-fc55e3f06e35')\"\n",
       "              title=\"Convert this dataframe to an interactive table.\"\n",
       "              style=\"display:none;\">\n",
       "        \n",
       "  <svg xmlns=\"http://www.w3.org/2000/svg\" height=\"24px\"viewBox=\"0 0 24 24\"\n",
       "       width=\"24px\">\n",
       "    <path d=\"M0 0h24v24H0V0z\" fill=\"none\"/>\n",
       "    <path d=\"M18.56 5.44l.94 2.06.94-2.06 2.06-.94-2.06-.94-.94-2.06-.94 2.06-2.06.94zm-11 1L8.5 8.5l.94-2.06 2.06-.94-2.06-.94L8.5 2.5l-.94 2.06-2.06.94zm10 10l.94 2.06.94-2.06 2.06-.94-2.06-.94-.94-2.06-.94 2.06-2.06.94z\"/><path d=\"M17.41 7.96l-1.37-1.37c-.4-.4-.92-.59-1.43-.59-.52 0-1.04.2-1.43.59L10.3 9.45l-7.72 7.72c-.78.78-.78 2.05 0 2.83L4 21.41c.39.39.9.59 1.41.59.51 0 1.02-.2 1.41-.59l7.78-7.78 2.81-2.81c.8-.78.8-2.07 0-2.86zM5.41 20L4 18.59l7.72-7.72 1.47 1.35L5.41 20z\"/>\n",
       "  </svg>\n",
       "      </button>\n",
       "      \n",
       "  <style>\n",
       "    .colab-df-container {\n",
       "      display:flex;\n",
       "      flex-wrap:wrap;\n",
       "      gap: 12px;\n",
       "    }\n",
       "\n",
       "    .colab-df-convert {\n",
       "      background-color: #E8F0FE;\n",
       "      border: none;\n",
       "      border-radius: 50%;\n",
       "      cursor: pointer;\n",
       "      display: none;\n",
       "      fill: #1967D2;\n",
       "      height: 32px;\n",
       "      padding: 0 0 0 0;\n",
       "      width: 32px;\n",
       "    }\n",
       "\n",
       "    .colab-df-convert:hover {\n",
       "      background-color: #E2EBFA;\n",
       "      box-shadow: 0px 1px 2px rgba(60, 64, 67, 0.3), 0px 1px 3px 1px rgba(60, 64, 67, 0.15);\n",
       "      fill: #174EA6;\n",
       "    }\n",
       "\n",
       "    [theme=dark] .colab-df-convert {\n",
       "      background-color: #3B4455;\n",
       "      fill: #D2E3FC;\n",
       "    }\n",
       "\n",
       "    [theme=dark] .colab-df-convert:hover {\n",
       "      background-color: #434B5C;\n",
       "      box-shadow: 0px 1px 3px 1px rgba(0, 0, 0, 0.15);\n",
       "      filter: drop-shadow(0px 1px 2px rgba(0, 0, 0, 0.3));\n",
       "      fill: #FFFFFF;\n",
       "    }\n",
       "  </style>\n",
       "\n",
       "      <script>\n",
       "        const buttonEl =\n",
       "          document.querySelector('#df-b1d89449-cf3c-4fc4-9701-fc55e3f06e35 button.colab-df-convert');\n",
       "        buttonEl.style.display =\n",
       "          google.colab.kernel.accessAllowed ? 'block' : 'none';\n",
       "\n",
       "        async function convertToInteractive(key) {\n",
       "          const element = document.querySelector('#df-b1d89449-cf3c-4fc4-9701-fc55e3f06e35');\n",
       "          const dataTable =\n",
       "            await google.colab.kernel.invokeFunction('convertToInteractive',\n",
       "                                                     [key], {});\n",
       "          if (!dataTable) return;\n",
       "\n",
       "          const docLinkHtml = 'Like what you see? Visit the ' +\n",
       "            '<a target=\"_blank\" href=https://colab.research.google.com/notebooks/data_table.ipynb>data table notebook</a>'\n",
       "            + ' to learn more about interactive tables.';\n",
       "          element.innerHTML = '';\n",
       "          dataTable['output_type'] = 'display_data';\n",
       "          await google.colab.output.renderOutput(dataTable, element);\n",
       "          const docLink = document.createElement('div');\n",
       "          docLink.innerHTML = docLinkHtml;\n",
       "          element.appendChild(docLink);\n",
       "        }\n",
       "      </script>\n",
       "    </div>\n",
       "  </div>\n",
       "  "
      ],
      "text/plain": [
       "   Visitor_Count   Profit\n",
       "0         6.1101  17.5920\n",
       "1         5.5277   9.1302\n",
       "2         8.5186  13.6620\n",
       "3         7.0032  11.8540\n",
       "4         5.8598   6.8233"
      ]
     },
     "execution_count": 4,
     "metadata": {},
     "output_type": "execute_result"
    }
   ],
   "source": [
    "data=pd.read_csv('data1.txt',header=None)\n",
    "data\n",
    "data.rename(columns={0:'Visitor_Count',1:'Profit'},inplace=True)\n",
    "data.head()"
   ]
  },
  {
   "cell_type": "code",
   "execution_count": null,
   "metadata": {
    "id": "BUebhcIV6C5H"
   },
   "outputs": [],
   "source": [
    "f=lambda x:'%.2f'%x"
   ]
  },
  {
   "cell_type": "code",
   "execution_count": null,
   "metadata": {
    "id": "T3q-RqbN6C5J"
   },
   "outputs": [],
   "source": [
    "data=data.applymap(f).astype(float)"
   ]
  },
  {
   "cell_type": "code",
   "execution_count": null,
   "metadata": {
    "colab": {
     "base_uri": "https://localhost:8080/",
     "height": 424
    },
    "id": "mWFAuC0B6C5L",
    "outputId": "4dc5d8dc-7bff-4192-d80d-7417d69c578a"
   },
   "outputs": [
    {
     "data": {
      "text/html": [
       "\n",
       "  <div id=\"df-66b39c04-d09e-4763-a51c-2619814d6266\">\n",
       "    <div class=\"colab-df-container\">\n",
       "      <div>\n",
       "<style scoped>\n",
       "    .dataframe tbody tr th:only-of-type {\n",
       "        vertical-align: middle;\n",
       "    }\n",
       "\n",
       "    .dataframe tbody tr th {\n",
       "        vertical-align: top;\n",
       "    }\n",
       "\n",
       "    .dataframe thead th {\n",
       "        text-align: right;\n",
       "    }\n",
       "</style>\n",
       "<table border=\"1\" class=\"dataframe\">\n",
       "  <thead>\n",
       "    <tr style=\"text-align: right;\">\n",
       "      <th></th>\n",
       "      <th>Visitor_Count</th>\n",
       "      <th>Profit</th>\n",
       "    </tr>\n",
       "  </thead>\n",
       "  <tbody>\n",
       "    <tr>\n",
       "      <th>0</th>\n",
       "      <td>6.11</td>\n",
       "      <td>17.59</td>\n",
       "    </tr>\n",
       "    <tr>\n",
       "      <th>1</th>\n",
       "      <td>5.53</td>\n",
       "      <td>9.13</td>\n",
       "    </tr>\n",
       "    <tr>\n",
       "      <th>2</th>\n",
       "      <td>8.52</td>\n",
       "      <td>13.66</td>\n",
       "    </tr>\n",
       "    <tr>\n",
       "      <th>3</th>\n",
       "      <td>7.00</td>\n",
       "      <td>11.85</td>\n",
       "    </tr>\n",
       "    <tr>\n",
       "      <th>4</th>\n",
       "      <td>5.86</td>\n",
       "      <td>6.82</td>\n",
       "    </tr>\n",
       "    <tr>\n",
       "      <th>...</th>\n",
       "      <td>...</td>\n",
       "      <td>...</td>\n",
       "    </tr>\n",
       "    <tr>\n",
       "      <th>92</th>\n",
       "      <td>5.87</td>\n",
       "      <td>7.20</td>\n",
       "    </tr>\n",
       "    <tr>\n",
       "      <th>93</th>\n",
       "      <td>5.31</td>\n",
       "      <td>1.99</td>\n",
       "    </tr>\n",
       "    <tr>\n",
       "      <th>94</th>\n",
       "      <td>8.29</td>\n",
       "      <td>0.14</td>\n",
       "    </tr>\n",
       "    <tr>\n",
       "      <th>95</th>\n",
       "      <td>13.39</td>\n",
       "      <td>9.06</td>\n",
       "    </tr>\n",
       "    <tr>\n",
       "      <th>96</th>\n",
       "      <td>5.44</td>\n",
       "      <td>0.62</td>\n",
       "    </tr>\n",
       "  </tbody>\n",
       "</table>\n",
       "<p>97 rows × 2 columns</p>\n",
       "</div>\n",
       "      <button class=\"colab-df-convert\" onclick=\"convertToInteractive('df-66b39c04-d09e-4763-a51c-2619814d6266')\"\n",
       "              title=\"Convert this dataframe to an interactive table.\"\n",
       "              style=\"display:none;\">\n",
       "        \n",
       "  <svg xmlns=\"http://www.w3.org/2000/svg\" height=\"24px\"viewBox=\"0 0 24 24\"\n",
       "       width=\"24px\">\n",
       "    <path d=\"M0 0h24v24H0V0z\" fill=\"none\"/>\n",
       "    <path d=\"M18.56 5.44l.94 2.06.94-2.06 2.06-.94-2.06-.94-.94-2.06-.94 2.06-2.06.94zm-11 1L8.5 8.5l.94-2.06 2.06-.94-2.06-.94L8.5 2.5l-.94 2.06-2.06.94zm10 10l.94 2.06.94-2.06 2.06-.94-2.06-.94-.94-2.06-.94 2.06-2.06.94z\"/><path d=\"M17.41 7.96l-1.37-1.37c-.4-.4-.92-.59-1.43-.59-.52 0-1.04.2-1.43.59L10.3 9.45l-7.72 7.72c-.78.78-.78 2.05 0 2.83L4 21.41c.39.39.9.59 1.41.59.51 0 1.02-.2 1.41-.59l7.78-7.78 2.81-2.81c.8-.78.8-2.07 0-2.86zM5.41 20L4 18.59l7.72-7.72 1.47 1.35L5.41 20z\"/>\n",
       "  </svg>\n",
       "      </button>\n",
       "      \n",
       "  <style>\n",
       "    .colab-df-container {\n",
       "      display:flex;\n",
       "      flex-wrap:wrap;\n",
       "      gap: 12px;\n",
       "    }\n",
       "\n",
       "    .colab-df-convert {\n",
       "      background-color: #E8F0FE;\n",
       "      border: none;\n",
       "      border-radius: 50%;\n",
       "      cursor: pointer;\n",
       "      display: none;\n",
       "      fill: #1967D2;\n",
       "      height: 32px;\n",
       "      padding: 0 0 0 0;\n",
       "      width: 32px;\n",
       "    }\n",
       "\n",
       "    .colab-df-convert:hover {\n",
       "      background-color: #E2EBFA;\n",
       "      box-shadow: 0px 1px 2px rgba(60, 64, 67, 0.3), 0px 1px 3px 1px rgba(60, 64, 67, 0.15);\n",
       "      fill: #174EA6;\n",
       "    }\n",
       "\n",
       "    [theme=dark] .colab-df-convert {\n",
       "      background-color: #3B4455;\n",
       "      fill: #D2E3FC;\n",
       "    }\n",
       "\n",
       "    [theme=dark] .colab-df-convert:hover {\n",
       "      background-color: #434B5C;\n",
       "      box-shadow: 0px 1px 3px 1px rgba(0, 0, 0, 0.15);\n",
       "      filter: drop-shadow(0px 1px 2px rgba(0, 0, 0, 0.3));\n",
       "      fill: #FFFFFF;\n",
       "    }\n",
       "  </style>\n",
       "\n",
       "      <script>\n",
       "        const buttonEl =\n",
       "          document.querySelector('#df-66b39c04-d09e-4763-a51c-2619814d6266 button.colab-df-convert');\n",
       "        buttonEl.style.display =\n",
       "          google.colab.kernel.accessAllowed ? 'block' : 'none';\n",
       "\n",
       "        async function convertToInteractive(key) {\n",
       "          const element = document.querySelector('#df-66b39c04-d09e-4763-a51c-2619814d6266');\n",
       "          const dataTable =\n",
       "            await google.colab.kernel.invokeFunction('convertToInteractive',\n",
       "                                                     [key], {});\n",
       "          if (!dataTable) return;\n",
       "\n",
       "          const docLinkHtml = 'Like what you see? Visit the ' +\n",
       "            '<a target=\"_blank\" href=https://colab.research.google.com/notebooks/data_table.ipynb>data table notebook</a>'\n",
       "            + ' to learn more about interactive tables.';\n",
       "          element.innerHTML = '';\n",
       "          dataTable['output_type'] = 'display_data';\n",
       "          await google.colab.output.renderOutput(dataTable, element);\n",
       "          const docLink = document.createElement('div');\n",
       "          docLink.innerHTML = docLinkHtml;\n",
       "          element.appendChild(docLink);\n",
       "        }\n",
       "      </script>\n",
       "    </div>\n",
       "  </div>\n",
       "  "
      ],
      "text/plain": [
       "    Visitor_Count  Profit\n",
       "0            6.11   17.59\n",
       "1            5.53    9.13\n",
       "2            8.52   13.66\n",
       "3            7.00   11.85\n",
       "4            5.86    6.82\n",
       "..            ...     ...\n",
       "92           5.87    7.20\n",
       "93           5.31    1.99\n",
       "94           8.29    0.14\n",
       "95          13.39    9.06\n",
       "96           5.44    0.62\n",
       "\n",
       "[97 rows x 2 columns]"
      ]
     },
     "execution_count": 7,
     "metadata": {},
     "output_type": "execute_result"
    }
   ],
   "source": [
    "data"
   ]
  },
  {
   "cell_type": "code",
   "execution_count": null,
   "metadata": {
    "collapsed": true,
    "id": "XspUk6uI6C5N"
   },
   "outputs": [],
   "source": [
    "Mat_XY=data.values\n",
    "Mat_XY"
   ]
  },
  {
   "cell_type": "code",
   "execution_count": null,
   "metadata": {
    "id": "QZtfUins6C5P"
   },
   "outputs": [],
   "source": [
    "X=data.iloc[:,0].values\n",
    "Y=data.iloc[:,1].values"
   ]
  },
  {
   "cell_type": "code",
   "execution_count": null,
   "metadata": {
    "id": "FFc2Agl-6C5Q"
   },
   "outputs": [],
   "source": [
    "X_Mean=np.mean(X)\n",
    "Y_Mean=np.mean(Y)"
   ]
  },
  {
   "cell_type": "code",
   "execution_count": null,
   "metadata": {
    "colab": {
     "base_uri": "https://localhost:8080/"
    },
    "id": "mYxWVDv76C5S",
    "outputId": "5a61a4cc-4502-4a35-e83b-f42703cdffac"
   },
   "outputs": [
    {
     "data": {
      "text/plain": [
       "8.16020618556701"
      ]
     },
     "execution_count": 11,
     "metadata": {},
     "output_type": "execute_result"
    }
   ],
   "source": [
    "X_Mean"
   ]
  },
  {
   "cell_type": "code",
   "execution_count": null,
   "metadata": {
    "colab": {
     "base_uri": "https://localhost:8080/"
    },
    "id": "YuOETGtC6C5V",
    "outputId": "19897dc5-db06-4d34-bb66-4c9474900138"
   },
   "outputs": [
    {
     "data": {
      "text/plain": [
       "5.839278350515464"
      ]
     },
     "execution_count": 12,
     "metadata": {},
     "output_type": "execute_result"
    }
   ],
   "source": [
    "Y_Mean"
   ]
  },
  {
   "cell_type": "code",
   "execution_count": null,
   "metadata": {
    "colab": {
     "base_uri": "https://localhost:8080/"
    },
    "id": "TYQzjQks6C5X",
    "outputId": "0fe5aae7-a3b4-4084-e826-2017cb02cace"
   },
   "outputs": [
    {
     "data": {
      "text/plain": [
       "array([ 6.11,  5.53,  8.52,  7.  ,  5.86,  8.38,  7.48,  8.58,  6.49,\n",
       "        5.05,  5.71, 14.16,  5.73,  8.41,  5.64,  5.38,  6.37,  5.13,\n",
       "        6.43,  7.07,  6.19, 20.27,  5.49,  6.33,  5.56, 18.95, 12.83,\n",
       "       10.96, 13.18, 22.2 ,  5.25,  6.59,  9.25,  5.89,  8.21,  7.93,\n",
       "        8.1 ,  5.61, 12.84,  6.35,  5.41,  6.88, 11.71,  5.77,  7.82,\n",
       "        7.09,  5.07,  5.8 , 11.7 ,  5.54,  7.54,  5.31,  7.42,  7.6 ,\n",
       "        6.33,  6.36,  6.27,  5.64,  9.31,  9.45,  8.83,  5.18, 21.28,\n",
       "       14.91, 18.96,  7.22,  8.3 , 10.24,  5.5 , 20.34, 10.14,  7.33,\n",
       "        6.01,  7.23,  5.03,  6.55,  7.54,  5.04, 10.27,  5.11,  5.73,\n",
       "        5.19,  6.36,  9.77,  6.52,  8.52,  9.18,  6.  ,  5.52,  5.06,\n",
       "        5.71,  7.64,  5.87,  5.31,  8.29, 13.39,  5.44])"
      ]
     },
     "execution_count": 13,
     "metadata": {},
     "output_type": "execute_result"
    }
   ],
   "source": [
    "X"
   ]
  },
  {
   "cell_type": "markdown",
   "metadata": {
    "id": "_XpsUCOb6C5Z"
   },
   "source": [
    "## Variance\n",
    "* For Population\n",
    "\n",
    "\n",
    "![](https://drive.google.com/uc?export=view&id=1LpBK7RfP7BT0ur_bSqlBnWKsoTDw2o9h)\n",
    "\n",
    "\n",
    "* For Sample replace denominator with (N-1)\n",
    "* Standard Deviation = Square Root of Variance\n",
    "* Concept of Population and Sample ? Discuss Later."
   ]
  },
  {
   "cell_type": "markdown",
   "metadata": {
    "id": "eL_-P08n6C5d"
   },
   "source": [
    "#### Calulating Variation in X"
   ]
  },
  {
   "cell_type": "code",
   "execution_count": null,
   "metadata": {
    "colab": {
     "base_uri": "https://localhost:8080/"
    },
    "id": "XDEu4MXS6C5e",
    "outputId": "4838d0f4-ff96-45fc-b888-6727c34a8870"
   },
   "outputs": [
    {
     "data": {
      "text/plain": [
       "14.97642079037801"
      ]
     },
     "execution_count": 14,
     "metadata": {},
     "output_type": "execute_result"
    }
   ],
   "source": [
    "X_var=np.var(X,ddof=1) ## if ddof=0 variance for population\n",
    "X_var"
   ]
  },
  {
   "cell_type": "code",
   "execution_count": null,
   "metadata": {
    "colab": {
     "base_uri": "https://localhost:8080/"
    },
    "id": "7kE_mq1M6C5g",
    "outputId": "435c8dbd-7682-4651-a934-d2f938b15a46"
   },
   "outputs": [
    {
     "data": {
      "text/plain": [
       "97"
      ]
     },
     "execution_count": 16,
     "metadata": {},
     "output_type": "execute_result"
    }
   ],
   "source": [
    "### Total Data points\n",
    "n=len(X)\n",
    "n"
   ]
  },
  {
   "cell_type": "code",
   "execution_count": null,
   "metadata": {
    "colab": {
     "base_uri": "https://localhost:8080/"
    },
    "id": "WZsidSov6C5i",
    "outputId": "ea49a433-3d39-41e4-bc22-ab0b8cdf1910"
   },
   "outputs": [
    {
     "data": {
      "text/plain": [
       "14.97642079037801"
      ]
     },
     "execution_count": 17,
     "metadata": {},
     "output_type": "execute_result"
    }
   ],
   "source": [
    "# From Scratch \n",
    "np.sum((X-X_Mean)**2)/(n-1) ## Sample"
   ]
  },
  {
   "cell_type": "markdown",
   "metadata": {
    "id": "-ASZZXzP6C5l"
   },
   "source": [
    "#### Calulating Variation in Y"
   ]
  },
  {
   "cell_type": "code",
   "execution_count": null,
   "metadata": {
    "colab": {
     "base_uri": "https://localhost:8080/"
    },
    "id": "yzRulkMa6C5m",
    "outputId": "beb160ef-7aab-4829-a41f-8651f689a348"
   },
   "outputs": [
    {
     "data": {
      "text/plain": [
       "30.361098432130586"
      ]
     },
     "execution_count": 18,
     "metadata": {},
     "output_type": "execute_result"
    }
   ],
   "source": [
    "Y_var=np.var(Y,ddof=1)\n",
    "Y_var"
   ]
  },
  {
   "cell_type": "code",
   "execution_count": null,
   "metadata": {
    "collapsed": true,
    "id": "C6Q8Q5V66C5n"
   },
   "outputs": [],
   "source": [
    "Mat_XY"
   ]
  },
  {
   "cell_type": "markdown",
   "metadata": {
    "id": "jOMVXzR66C5q"
   },
   "source": [
    "#### Both can be calculated at once"
   ]
  },
  {
   "cell_type": "code",
   "execution_count": null,
   "metadata": {
    "colab": {
     "base_uri": "https://localhost:8080/"
    },
    "id": "IhLgpq0n6C5q",
    "outputId": "13a59f45-089a-4967-9033-2560269f32f4"
   },
   "outputs": [
    {
     "data": {
      "text/plain": [
       "array([14.97642079, 30.36109843])"
      ]
     },
     "execution_count": 20,
     "metadata": {},
     "output_type": "execute_result"
    }
   ],
   "source": [
    "np.var(Mat_XY,ddof=1,axis=0)"
   ]
  },
  {
   "cell_type": "code",
   "execution_count": null,
   "metadata": {
    "id": "3uQ4s48J7luQ"
   },
   "outputs": [],
   "source": [
    "data.head()"
   ]
  },
  {
   "cell_type": "code",
   "execution_count": null,
   "metadata": {
    "colab": {
     "base_uri": "https://localhost:8080/"
    },
    "id": "RhsoovgQ6C5r",
    "outputId": "05d64a27-e6f5-4b71-c538-71f7db4e98d6"
   },
   "outputs": [
    {
     "data": {
      "text/plain": [
       "Visitor_Count    14.976421\n",
       "Profit           30.361098\n",
       "dtype: float64"
      ]
     },
     "execution_count": 22,
     "metadata": {},
     "output_type": "execute_result"
    }
   ],
   "source": [
    "#### Using Pandas\n",
    "data.var(axis=0)"
   ]
  },
  {
   "cell_type": "code",
   "execution_count": null,
   "metadata": {
    "colab": {
     "base_uri": "https://localhost:8080/",
     "height": 515
    },
    "id": "B5rr9RYA6C5s",
    "outputId": "af692545-6f7b-43a4-bc9f-a41f690a5f9f"
   },
   "outputs": [
    {
     "data": {
      "text/plain": [
       "<matplotlib.legend.Legend at 0x7fb08502bed0>"
      ]
     },
     "execution_count": 23,
     "metadata": {},
     "output_type": "execute_result"
    },
    {
     "data": {
      "image/png": "[encoded data removed]",
      "text/plain": [
       "<Figure size 864x576 with 1 Axes>"
      ]
     },
     "metadata": {
      "needs_background": "light"
     },
     "output_type": "display_data"
    }
   ],
   "source": [
    "plt.figure(figsize=(12,8))\n",
    "plt.scatter(X,Y)\n",
    "### Plotting few coordinates of data points on the Graph\n",
    "count=0\n",
    "for i_x, i_y in zip(X, Y):\n",
    "    if (count%7==0) and (count>20):\n",
    "        plt.text(i_x, i_y, '({}, {})'.format(i_x, i_y),fontsize=12,fontweight='bold')\n",
    "    count=count+1\n",
    "#############################\n",
    "plt.axvline(x=X_Mean,label='X_Mean',color='r')\n",
    "plt.axhline(y=Y_Mean,label='X_Mean',color='g')\n",
    "plt.xlabel('Population')\n",
    "plt.ylabel('Profit')\n",
    "plt.legend()"
   ]
  },
  {
   "cell_type": "markdown",
   "metadata": {
    "id": "yRzaeWjB6C5t"
   },
   "source": [
    "### Covariance\n",
    "\n",
    "![](https://drive.google.com/uc?export=view&id=1DjpmyhRNI-OAV4qDzFDzM54gknYMrUtl)\n",
    "\n"
   ]
  },
  {
   "cell_type": "code",
   "execution_count": null,
   "metadata": {
    "id": "nedNLoOf6C5u"
   },
   "outputs": [],
   "source": [
    "## X,Y,X_Mean,Y_Mean,n,Mat_XY,data"
   ]
  },
  {
   "cell_type": "code",
   "execution_count": null,
   "metadata": {
    "colab": {
     "base_uri": "https://localhost:8080/"
    },
    "id": "cagR67Kq6C5v",
    "outputId": "f0a1a606-a828-41af-8132-3d0f444dbbc5"
   },
   "outputs": [
    {
     "data": {
      "text/plain": [
       "17.867684525343645"
      ]
     },
     "execution_count": 24,
     "metadata": {},
     "output_type": "execute_result"
    }
   ],
   "source": [
    "### From Scratch\n",
    "np.sum((X-X_Mean)*(Y-Y_Mean))/(n-1) # covariace"
   ]
  },
  {
   "cell_type": "code",
   "execution_count": null,
   "metadata": {
    "colab": {
     "base_uri": "https://localhost:8080/"
    },
    "collapsed": true,
    "id": "8HCpNRRX6C5w",
    "outputId": "02cae598-dda1-40ed-f1f6-d7c0613a23be"
   },
   "outputs": [
    {
     "data": {
      "text/plain": [
       "array([[ 6.11, 17.59],\n",
       "       [ 5.53,  9.13],\n",
       "       [ 8.52, 13.66],\n",
       "       [ 7.  , 11.85],\n",
       "       [ 5.86,  6.82],\n",
       "       [ 8.38, 11.89],\n",
       "       [ 7.48,  4.35],\n",
       "       [ 8.58, 12.  ],\n",
       "       [ 6.49,  6.6 ],\n",
       "       [ 5.05,  3.82],\n",
       "       [ 5.71,  3.25],\n",
       "       [14.16, 15.51],\n",
       "       [ 5.73,  3.16],\n",
       "       [ 8.41,  7.23],\n",
       "       [ 5.64,  0.72],\n",
       "       [ 5.38,  3.51],\n",
       "       [ 6.37,  5.3 ],\n",
       "       [ 5.13,  0.56],\n",
       "       [ 6.43,  3.65],\n",
       "       [ 7.07,  5.39],\n",
       "       [ 6.19,  3.14],\n",
       "       [20.27, 21.77],\n",
       "       [ 5.49,  4.26],\n",
       "       [ 6.33,  5.19],\n",
       "       [ 5.56,  3.08],\n",
       "       [18.95, 22.64],\n",
       "       [12.83, 13.5 ],\n",
       "       [10.96,  7.05],\n",
       "       [13.18, 14.69],\n",
       "       [22.2 , 24.15],\n",
       "       [ 5.25, -1.22],\n",
       "       [ 6.59,  6.  ],\n",
       "       [ 9.25, 12.13],\n",
       "       [ 5.89,  1.85],\n",
       "       [ 8.21,  6.54],\n",
       "       [ 7.93,  4.56],\n",
       "       [ 8.1 ,  4.12],\n",
       "       [ 5.61,  3.39],\n",
       "       [12.84, 10.12],\n",
       "       [ 6.35,  5.5 ],\n",
       "       [ 5.41,  0.56],\n",
       "       [ 6.88,  3.91],\n",
       "       [11.71,  5.39],\n",
       "       [ 5.77,  2.44],\n",
       "       [ 7.82,  6.73],\n",
       "       [ 7.09,  1.05],\n",
       "       [ 5.07,  5.13],\n",
       "       [ 5.8 ,  1.84],\n",
       "       [11.7 ,  8.  ],\n",
       "       [ 5.54,  1.02],\n",
       "       [ 7.54,  6.75],\n",
       "       [ 5.31,  1.84],\n",
       "       [ 7.42,  4.29],\n",
       "       [ 7.6 ,  5.  ],\n",
       "       [ 6.33,  1.42],\n",
       "       [ 6.36, -1.42],\n",
       "       [ 6.27,  2.48],\n",
       "       [ 5.64,  4.6 ],\n",
       "       [ 9.31,  3.96],\n",
       "       [ 9.45,  5.41],\n",
       "       [ 8.83,  5.17],\n",
       "       [ 5.18, -0.74],\n",
       "       [21.28, 17.93],\n",
       "       [14.91, 12.05],\n",
       "       [18.96, 17.05],\n",
       "       [ 7.22,  4.89],\n",
       "       [ 8.3 ,  5.74],\n",
       "       [10.24,  7.78],\n",
       "       [ 5.5 ,  1.02],\n",
       "       [20.34, 20.99],\n",
       "       [10.14,  6.68],\n",
       "       [ 7.33,  4.03],\n",
       "       [ 6.01,  1.28],\n",
       "       [ 7.23,  3.34],\n",
       "       [ 5.03, -2.68],\n",
       "       [ 6.55,  0.3 ],\n",
       "       [ 7.54,  3.88],\n",
       "       [ 5.04,  5.7 ],\n",
       "       [10.27,  6.75],\n",
       "       [ 5.11,  2.06],\n",
       "       [ 5.73,  0.48],\n",
       "       [ 5.19,  0.2 ],\n",
       "       [ 6.36,  0.68],\n",
       "       [ 9.77,  7.54],\n",
       "       [ 6.52,  5.34],\n",
       "       [ 8.52,  4.24],\n",
       "       [ 9.18,  6.8 ],\n",
       "       [ 6.  ,  0.93],\n",
       "       [ 5.52,  0.15],\n",
       "       [ 5.06,  2.82],\n",
       "       [ 5.71,  1.85],\n",
       "       [ 7.64,  4.3 ],\n",
       "       [ 5.87,  7.2 ],\n",
       "       [ 5.31,  1.99],\n",
       "       [ 8.29,  0.14],\n",
       "       [13.39,  9.06],\n",
       "       [ 5.44,  0.62]])"
      ]
     },
     "execution_count": 22,
     "metadata": {},
     "output_type": "execute_result"
    }
   ],
   "source": [
    "Mat_XY"
   ]
  },
  {
   "cell_type": "code",
   "execution_count": null,
   "metadata": {
    "colab": {
     "base_uri": "https://localhost:8080/"
    },
    "collapsed": true,
    "id": "kiGCOHPb6C5x",
    "outputId": "f336c3fc-eecf-44eb-8b82-ea54b70ff726"
   },
   "outputs": [
    {
     "data": {
      "text/plain": [
       "array([[ 6.11,  5.53,  8.52,  7.  ,  5.86,  8.38,  7.48,  8.58,  6.49,\n",
       "         5.05,  5.71, 14.16,  5.73,  8.41,  5.64,  5.38,  6.37,  5.13,\n",
       "         6.43,  7.07,  6.19, 20.27,  5.49,  6.33,  5.56, 18.95, 12.83,\n",
       "        10.96, 13.18, 22.2 ,  5.25,  6.59,  9.25,  5.89,  8.21,  7.93,\n",
       "         8.1 ,  5.61, 12.84,  6.35,  5.41,  6.88, 11.71,  5.77,  7.82,\n",
       "         7.09,  5.07,  5.8 , 11.7 ,  5.54,  7.54,  5.31,  7.42,  7.6 ,\n",
       "         6.33,  6.36,  6.27,  5.64,  9.31,  9.45,  8.83,  5.18, 21.28,\n",
       "        14.91, 18.96,  7.22,  8.3 , 10.24,  5.5 , 20.34, 10.14,  7.33,\n",
       "         6.01,  7.23,  5.03,  6.55,  7.54,  5.04, 10.27,  5.11,  5.73,\n",
       "         5.19,  6.36,  9.77,  6.52,  8.52,  9.18,  6.  ,  5.52,  5.06,\n",
       "         5.71,  7.64,  5.87,  5.31,  8.29, 13.39,  5.44],\n",
       "       [17.59,  9.13, 13.66, 11.85,  6.82, 11.89,  4.35, 12.  ,  6.6 ,\n",
       "         3.82,  3.25, 15.51,  3.16,  7.23,  0.72,  3.51,  5.3 ,  0.56,\n",
       "         3.65,  5.39,  3.14, 21.77,  4.26,  5.19,  3.08, 22.64, 13.5 ,\n",
       "         7.05, 14.69, 24.15, -1.22,  6.  , 12.13,  1.85,  6.54,  4.56,\n",
       "         4.12,  3.39, 10.12,  5.5 ,  0.56,  3.91,  5.39,  2.44,  6.73,\n",
       "         1.05,  5.13,  1.84,  8.  ,  1.02,  6.75,  1.84,  4.29,  5.  ,\n",
       "         1.42, -1.42,  2.48,  4.6 ,  3.96,  5.41,  5.17, -0.74, 17.93,\n",
       "        12.05, 17.05,  4.89,  5.74,  7.78,  1.02, 20.99,  6.68,  4.03,\n",
       "         1.28,  3.34, -2.68,  0.3 ,  3.88,  5.7 ,  6.75,  2.06,  0.48,\n",
       "         0.2 ,  0.68,  7.54,  5.34,  4.24,  6.8 ,  0.93,  0.15,  2.82,\n",
       "         1.85,  4.3 ,  7.2 ,  1.99,  0.14,  9.06,  0.62]])"
      ]
     },
     "execution_count": 23,
     "metadata": {},
     "output_type": "execute_result"
    }
   ],
   "source": [
    "Mat_XY.T"
   ]
  },
  {
   "cell_type": "markdown",
   "metadata": {
    "id": "ohK-H_gN6C5y"
   },
   "source": [
    "#### Covariace Matrix"
   ]
  },
  {
   "cell_type": "code",
   "execution_count": null,
   "metadata": {
    "colab": {
     "base_uri": "https://localhost:8080/"
    },
    "id": "tuqg7Y-m6C5y",
    "outputId": "255cd69e-43d8-457e-eea3-e9674e1bfd68"
   },
   "outputs": [
    {
     "data": {
      "text/plain": [
       "array([[14.97642079, 17.86768453],\n",
       "       [17.86768453, 30.36109843]])"
      ]
     },
     "execution_count": 25,
     "metadata": {},
     "output_type": "execute_result"
    }
   ],
   "source": [
    "np.cov(Mat_XY.T) ## This function gives variance and covariance at once and this matrix is known as covariace matrix"
   ]
  },
  {
   "cell_type": "code",
   "execution_count": null,
   "metadata": {
    "colab": {
     "base_uri": "https://localhost:8080/",
     "height": 112
    },
    "id": "ehgyJe4A6C5z",
    "outputId": "f99ad808-41a7-4ca1-bbb6-a0fba9bede23"
   },
   "outputs": [
    {
     "data": {
      "text/html": [
       "\n",
       "  <div id=\"df-b5668386-79c6-4eee-9bde-48db25a42268\">\n",
       "    <div class=\"colab-df-container\">\n",
       "      <div>\n",
       "<style scoped>\n",
       "    .dataframe tbody tr th:only-of-type {\n",
       "        vertical-align: middle;\n",
       "    }\n",
       "\n",
       "    .dataframe tbody tr th {\n",
       "        vertical-align: top;\n",
       "    }\n",
       "\n",
       "    .dataframe thead th {\n",
       "        text-align: right;\n",
       "    }\n",
       "</style>\n",
       "<table border=\"1\" class=\"dataframe\">\n",
       "  <thead>\n",
       "    <tr style=\"text-align: right;\">\n",
       "      <th></th>\n",
       "      <th>Visitor_Count</th>\n",
       "      <th>Profit</th>\n",
       "    </tr>\n",
       "  </thead>\n",
       "  <tbody>\n",
       "    <tr>\n",
       "      <th>Visitor_Count</th>\n",
       "      <td>14.976421</td>\n",
       "      <td>17.867685</td>\n",
       "    </tr>\n",
       "    <tr>\n",
       "      <th>Profit</th>\n",
       "      <td>17.867685</td>\n",
       "      <td>30.361098</td>\n",
       "    </tr>\n",
       "  </tbody>\n",
       "</table>\n",
       "</div>\n",
       "      <button class=\"colab-df-convert\" onclick=\"convertToInteractive('df-b5668386-79c6-4eee-9bde-48db25a42268')\"\n",
       "              title=\"Convert this dataframe to an interactive table.\"\n",
       "              style=\"display:none;\">\n",
       "        \n",
       "  <svg xmlns=\"http://www.w3.org/2000/svg\" height=\"24px\"viewBox=\"0 0 24 24\"\n",
       "       width=\"24px\">\n",
       "    <path d=\"M0 0h24v24H0V0z\" fill=\"none\"/>\n",
       "    <path d=\"M18.56 5.44l.94 2.06.94-2.06 2.06-.94-2.06-.94-.94-2.06-.94 2.06-2.06.94zm-11 1L8.5 8.5l.94-2.06 2.06-.94-2.06-.94L8.5 2.5l-.94 2.06-2.06.94zm10 10l.94 2.06.94-2.06 2.06-.94-2.06-.94-.94-2.06-.94 2.06-2.06.94z\"/><path d=\"M17.41 7.96l-1.37-1.37c-.4-.4-.92-.59-1.43-.59-.52 0-1.04.2-1.43.59L10.3 9.45l-7.72 7.72c-.78.78-.78 2.05 0 2.83L4 21.41c.39.39.9.59 1.41.59.51 0 1.02-.2 1.41-.59l7.78-7.78 2.81-2.81c.8-.78.8-2.07 0-2.86zM5.41 20L4 18.59l7.72-7.72 1.47 1.35L5.41 20z\"/>\n",
       "  </svg>\n",
       "      </button>\n",
       "      \n",
       "  <style>\n",
       "    .colab-df-container {\n",
       "      display:flex;\n",
       "      flex-wrap:wrap;\n",
       "      gap: 12px;\n",
       "    }\n",
       "\n",
       "    .colab-df-convert {\n",
       "      background-color: #E8F0FE;\n",
       "      border: none;\n",
       "      border-radius: 50%;\n",
       "      cursor: pointer;\n",
       "      display: none;\n",
       "      fill: #1967D2;\n",
       "      height: 32px;\n",
       "      padding: 0 0 0 0;\n",
       "      width: 32px;\n",
       "    }\n",
       "\n",
       "    .colab-df-convert:hover {\n",
       "      background-color: #E2EBFA;\n",
       "      box-shadow: 0px 1px 2px rgba(60, 64, 67, 0.3), 0px 1px 3px 1px rgba(60, 64, 67, 0.15);\n",
       "      fill: #174EA6;\n",
       "    }\n",
       "\n",
       "    [theme=dark] .colab-df-convert {\n",
       "      background-color: #3B4455;\n",
       "      fill: #D2E3FC;\n",
       "    }\n",
       "\n",
       "    [theme=dark] .colab-df-convert:hover {\n",
       "      background-color: #434B5C;\n",
       "      box-shadow: 0px 1px 3px 1px rgba(0, 0, 0, 0.15);\n",
       "      filter: drop-shadow(0px 1px 2px rgba(0, 0, 0, 0.3));\n",
       "      fill: #FFFFFF;\n",
       "    }\n",
       "  </style>\n",
       "\n",
       "      <script>\n",
       "        const buttonEl =\n",
       "          document.querySelector('#df-b5668386-79c6-4eee-9bde-48db25a42268 button.colab-df-convert');\n",
       "        buttonEl.style.display =\n",
       "          google.colab.kernel.accessAllowed ? 'block' : 'none';\n",
       "\n",
       "        async function convertToInteractive(key) {\n",
       "          const element = document.querySelector('#df-b5668386-79c6-4eee-9bde-48db25a42268');\n",
       "          const dataTable =\n",
       "            await google.colab.kernel.invokeFunction('convertToInteractive',\n",
       "                                                     [key], {});\n",
       "          if (!dataTable) return;\n",
       "\n",
       "          const docLinkHtml = 'Like what you see? Visit the ' +\n",
       "            '<a target=\"_blank\" href=https://colab.research.google.com/notebooks/data_table.ipynb>data table notebook</a>'\n",
       "            + ' to learn more about interactive tables.';\n",
       "          element.innerHTML = '';\n",
       "          dataTable['output_type'] = 'display_data';\n",
       "          await google.colab.output.renderOutput(dataTable, element);\n",
       "          const docLink = document.createElement('div');\n",
       "          docLink.innerHTML = docLinkHtml;\n",
       "          element.appendChild(docLink);\n",
       "        }\n",
       "      </script>\n",
       "    </div>\n",
       "  </div>\n",
       "  "
      ],
      "text/plain": [
       "               Visitor_Count     Profit\n",
       "Visitor_Count      14.976421  17.867685\n",
       "Profit             17.867685  30.361098"
      ]
     },
     "execution_count": 25,
     "metadata": {},
     "output_type": "execute_result"
    }
   ],
   "source": [
    "# Using Pandas\n",
    "data.cov()  ## Based on N-1"
   ]
  },
  {
   "cell_type": "markdown",
   "metadata": {
    "id": "MlKdVUkg6C50"
   },
   "source": [
    "https://numpy.org/doc/stable/reference/generated/numpy.cov.html"
   ]
  },
  {
   "cell_type": "markdown",
   "metadata": {
    "id": "Ri_ZlGRw6C51"
   },
   "source": [
    "#### Note\n",
    "* Main diagonal gives variation within the feture and remaining entries gives the covariance of corresponding two features."
   ]
  },
  {
   "cell_type": "markdown",
   "metadata": {
    "id": "qBVUU3Oe6C52"
   },
   "source": [
    "#### Correlation_Coefficient"
   ]
  },
  {
   "cell_type": "markdown",
   "metadata": {
    "id": "h6gwgcY-6C53"
   },
   "source": [
    "\n",
    "![](https://drive.google.com/uc?export=view&id=1puQJrOZoqb8mm5GVB5DTkwguH2KZky_n)\n",
    "\n"
   ]
  },
  {
   "cell_type": "code",
   "execution_count": null,
   "metadata": {
    "colab": {
     "base_uri": "https://localhost:8080/"
    },
    "id": "GYxq4OLH6C54",
    "outputId": "a125f6fb-9e86-477c-d2bb-5970a8d468b7"
   },
   "outputs": [
    {
     "name": "stdout",
     "output_type": "stream",
     "text": [
      "Covariance between X and Y :  17.867684525343645\n",
      "Correlation or Correlation Coefficient between X and Y :  0.8466541086693568\n"
     ]
    }
   ],
   "source": [
    "cov=np.sum((X-X_Mean)*(Y-Y_Mean))/(n-1)\n",
    "print('Covariance between X and Y : ', cov)\n",
    "corr=cov/(np.std(X)*np.std(Y))\n",
    "print('Correlation or Correlation Coefficient between X and Y : ',corr) # Pearson Correlation Coefficient"
   ]
  },
  {
   "cell_type": "code",
   "execution_count": null,
   "metadata": {
    "id": "0EALCWwr6C55"
   },
   "outputs": [],
   "source": []
  },
  {
   "cell_type": "markdown",
   "metadata": {
    "id": "0Zc2iu8O6C55"
   },
   "source": [
    "## Performing Regression on X and Y"
   ]
  },
  {
   "cell_type": "code",
   "execution_count": null,
   "metadata": {
    "id": "P4cdvtEu6C56"
   },
   "outputs": [],
   "source": [
    "from sklearn.linear_model import LinearRegression as lr\n",
    "reg = lr()"
   ]
  },
  {
   "cell_type": "code",
   "execution_count": null,
   "metadata": {
    "colab": {
     "base_uri": "https://localhost:8080/"
    },
    "collapsed": true,
    "id": "L9Oq8VWd6C58",
    "outputId": "c447875c-9980-418a-8d43-f2271bb68b44"
   },
   "outputs": [
    {
     "data": {
      "text/plain": [
       "array([ 6.11,  5.53,  8.52,  7.  ,  5.86,  8.38,  7.48,  8.58,  6.49,\n",
       "        5.05,  5.71, 14.16,  5.73,  8.41,  5.64,  5.38,  6.37,  5.13,\n",
       "        6.43,  7.07,  6.19, 20.27,  5.49,  6.33,  5.56, 18.95, 12.83,\n",
       "       10.96, 13.18, 22.2 ,  5.25,  6.59,  9.25,  5.89,  8.21,  7.93,\n",
       "        8.1 ,  5.61, 12.84,  6.35,  5.41,  6.88, 11.71,  5.77,  7.82,\n",
       "        7.09,  5.07,  5.8 , 11.7 ,  5.54,  7.54,  5.31,  7.42,  7.6 ,\n",
       "        6.33,  6.36,  6.27,  5.64,  9.31,  9.45,  8.83,  5.18, 21.28,\n",
       "       14.91, 18.96,  7.22,  8.3 , 10.24,  5.5 , 20.34, 10.14,  7.33,\n",
       "        6.01,  7.23,  5.03,  6.55,  7.54,  5.04, 10.27,  5.11,  5.73,\n",
       "        5.19,  6.36,  9.77,  6.52,  8.52,  9.18,  6.  ,  5.52,  5.06,\n",
       "        5.71,  7.64,  5.87,  5.31,  8.29, 13.39,  5.44])"
      ]
     },
     "execution_count": 28,
     "metadata": {},
     "output_type": "execute_result"
    }
   ],
   "source": [
    "X"
   ]
  },
  {
   "cell_type": "code",
   "execution_count": null,
   "metadata": {
    "colab": {
     "base_uri": "https://localhost:8080/"
    },
    "collapsed": true,
    "id": "kHEUWt8K6C59",
    "outputId": "87f13fdd-3636-42d6-94f1-1b2f2f7b8788"
   },
   "outputs": [
    {
     "data": {
      "text/plain": [
       "array([17.59,  9.13, 13.66, 11.85,  6.82, 11.89,  4.35, 12.  ,  6.6 ,\n",
       "        3.82,  3.25, 15.51,  3.16,  7.23,  0.72,  3.51,  5.3 ,  0.56,\n",
       "        3.65,  5.39,  3.14, 21.77,  4.26,  5.19,  3.08, 22.64, 13.5 ,\n",
       "        7.05, 14.69, 24.15, -1.22,  6.  , 12.13,  1.85,  6.54,  4.56,\n",
       "        4.12,  3.39, 10.12,  5.5 ,  0.56,  3.91,  5.39,  2.44,  6.73,\n",
       "        1.05,  5.13,  1.84,  8.  ,  1.02,  6.75,  1.84,  4.29,  5.  ,\n",
       "        1.42, -1.42,  2.48,  4.6 ,  3.96,  5.41,  5.17, -0.74, 17.93,\n",
       "       12.05, 17.05,  4.89,  5.74,  7.78,  1.02, 20.99,  6.68,  4.03,\n",
       "        1.28,  3.34, -2.68,  0.3 ,  3.88,  5.7 ,  6.75,  2.06,  0.48,\n",
       "        0.2 ,  0.68,  7.54,  5.34,  4.24,  6.8 ,  0.93,  0.15,  2.82,\n",
       "        1.85,  4.3 ,  7.2 ,  1.99,  0.14,  9.06,  0.62])"
      ]
     },
     "execution_count": 29,
     "metadata": {},
     "output_type": "execute_result"
    }
   ],
   "source": [
    "Y"
   ]
  },
  {
   "cell_type": "code",
   "execution_count": null,
   "metadata": {
    "colab": {
     "base_uri": "https://localhost:8080/"
    },
    "id": "Pig6d9KJ6C5-",
    "outputId": "a3c6a59c-b6ca-48c4-b1bb-152d1ce65e64"
   },
   "outputs": [
    {
     "data": {
      "text/plain": [
       "LinearRegression()"
      ]
     },
     "execution_count": 30,
     "metadata": {},
     "output_type": "execute_result"
    }
   ],
   "source": [
    "reg.fit(X[:,np.newaxis], Y)"
   ]
  },
  {
   "cell_type": "code",
   "execution_count": null,
   "metadata": {
    "id": "WGmQfMkh6C5_"
   },
   "outputs": [],
   "source": [
    "Y_pred=reg.predict(X[:,np.newaxis])"
   ]
  },
  {
   "cell_type": "code",
   "execution_count": null,
   "metadata": {
    "colab": {
     "base_uri": "https://localhost:8080/"
    },
    "id": "MKZnQU3F6C6A",
    "outputId": "7e38a848-a647-429d-a0d7-63ec73fffc81"
   },
   "outputs": [
    {
     "data": {
      "text/plain": [
       "0.702119505193038"
      ]
     },
     "execution_count": 32,
     "metadata": {},
     "output_type": "execute_result"
    }
   ],
   "source": [
    "reg.score(X[:,np.newaxis],Y)  ## coefficient of determination R^2 of the prediction."
   ]
  },
  {
   "cell_type": "code",
   "execution_count": null,
   "metadata": {
    "id": "T1Z_T4WG6C6A"
   },
   "outputs": [],
   "source": [
    "X_Mean=np.mean(X)\n",
    "Y_Mean=np.mean(Y)"
   ]
  },
  {
   "cell_type": "code",
   "execution_count": null,
   "metadata": {
    "colab": {
     "base_uri": "https://localhost:8080/",
     "height": 515
    },
    "id": "Jv2udG0r6C6B",
    "outputId": "7294a043-b089-4d50-ccdf-d4f4f0492c6d"
   },
   "outputs": [
    {
     "data": {
      "text/plain": [
       "<matplotlib.legend.Legend at 0x7fb073453c90>"
      ]
     },
     "execution_count": 35,
     "metadata": {},
     "output_type": "execute_result"
    },
    {
     "data": {
      "image/png": "[encoded data removed]",
      "text/plain": [
       "<Figure size 864x576 with 1 Axes>"
      ]
     },
     "metadata": {
      "needs_background": "light"
     },
     "output_type": "display_data"
    }
   ],
   "source": [
    "plt.figure(figsize=(12,8))\n",
    "plt.scatter(X,Y)\n",
    "plt.plot(X,Y_pred,'r-')\n",
    "### Plotting few coordinates of data points on the Graph\n",
    "count=0\n",
    "for i_x, i_y in zip(X, Y):\n",
    "    if (count%7==0) and (count>20):\n",
    "        plt.text(i_x, i_y, '({}, {})'.format(i_x, i_y),fontsize=12,fontweight='bold')\n",
    "    count=count+1\n",
    "#############################\n",
    "#plt.axvline(x=X_Mean,label='X_Mean',color='k') ## Removing the mean of X\n",
    "plt.axhline(y=Y_Mean,label='y_Mean',color='g')\n",
    "plt.xlabel('Population')\n",
    "plt.ylabel('Profit')\n",
    "plt.legend()"
   ]
  },
  {
   "cell_type": "code",
   "execution_count": null,
   "metadata": {
    "id": "A2oPzg346C6D"
   },
   "outputs": [],
   "source": [
    "# There is 70 % less variation around the predicted line than the mean line.\n",
    "# OR Population/Profit relationship accounts for 70 % varition in data."
   ]
  },
  {
   "cell_type": "markdown",
   "metadata": {
    "id": "2Va1xjWb6C6D"
   },
   "source": [
    "## Coefficient of Determination R2"
   ]
  },
  {
   "cell_type": "markdown",
   "metadata": {
    "id": "Xd0OqI7b6C6E"
   },
   "source": [
    "\n",
    "\n",
    "![](https://drive.google.com/uc?export=view&id=15PJKLeCYQ72NC237HxTl-3drRiCAWv0H)\n",
    "\n"
   ]
  },
  {
   "cell_type": "markdown",
   "metadata": {
    "id": "CgpaipSd6C6F"
   },
   "source": [
    "#### Where yi --> Given output y \n",
    "     y(bar) --> mean of given output y \n",
    "     y(hat)--> Predicted y"
   ]
  },
  {
   "cell_type": "code",
   "execution_count": null,
   "metadata": {
    "colab": {
     "base_uri": "https://localhost:8080/"
    },
    "collapsed": true,
    "id": "wBqmpBeZ6C6G",
    "outputId": "7e374d47-86f2-4d0e-b818-16e3501b37ad"
   },
   "outputs": [
    {
     "data": {
      "text/plain": [
       "array([17.59,  9.13, 13.66, 11.85,  6.82, 11.89,  4.35, 12.  ,  6.6 ,\n",
       "        3.82,  3.25, 15.51,  3.16,  7.23,  0.72,  3.51,  5.3 ,  0.56,\n",
       "        3.65,  5.39,  3.14, 21.77,  4.26,  5.19,  3.08, 22.64, 13.5 ,\n",
       "        7.05, 14.69, 24.15, -1.22,  6.  , 12.13,  1.85,  6.54,  4.56,\n",
       "        4.12,  3.39, 10.12,  5.5 ,  0.56,  3.91,  5.39,  2.44,  6.73,\n",
       "        1.05,  5.13,  1.84,  8.  ,  1.02,  6.75,  1.84,  4.29,  5.  ,\n",
       "        1.42, -1.42,  2.48,  4.6 ,  3.96,  5.41,  5.17, -0.74, 17.93,\n",
       "       12.05, 17.05,  4.89,  5.74,  7.78,  1.02, 20.99,  6.68,  4.03,\n",
       "        1.28,  3.34, -2.68,  0.3 ,  3.88,  5.7 ,  6.75,  2.06,  0.48,\n",
       "        0.2 ,  0.68,  7.54,  5.34,  4.24,  6.8 ,  0.93,  0.15,  2.82,\n",
       "        1.85,  4.3 ,  7.2 ,  1.99,  0.14,  9.06,  0.62])"
      ]
     },
     "execution_count": 37,
     "metadata": {},
     "output_type": "execute_result"
    }
   ],
   "source": [
    "Y"
   ]
  },
  {
   "cell_type": "code",
   "execution_count": null,
   "metadata": {
    "id": "DaXwV5sKByxY"
   },
   "outputs": [],
   "source": []
  },
  {
   "cell_type": "code",
   "execution_count": null,
   "metadata": {
    "colab": {
     "base_uri": "https://localhost:8080/"
    },
    "id": "8nHwgBqZ6C6I",
    "outputId": "399a3518-db70-4e0b-8029-b2f920fcf39f"
   },
   "outputs": [
    {
     "data": {
      "text/plain": [
       "5.839278350515464"
      ]
     },
     "execution_count": 38,
     "metadata": {},
     "output_type": "execute_result"
    }
   ],
   "source": [
    "Y_mean=np.mean(Y)\n",
    "Y_Mean"
   ]
  },
  {
   "cell_type": "code",
   "execution_count": null,
   "metadata": {
    "collapsed": true,
    "id": "q9DmgeAy6C6J"
   },
   "outputs": [],
   "source": [
    "Yn=Y-Y_Mean\n",
    "Yn"
   ]
  },
  {
   "cell_type": "code",
   "execution_count": null,
   "metadata": {
    "colab": {
     "base_uri": "https://localhost:8080/"
    },
    "id": "9J8FTMbr6C6L",
    "outputId": "f3db5bef-5f23-48c2-c651-a517ab175b2e"
   },
   "outputs": [
    {
     "data": {
      "text/plain": [
       "30.048097417366353"
      ]
     },
     "execution_count": 40,
     "metadata": {},
     "output_type": "execute_result"
    }
   ],
   "source": [
    "TSS=np.var(Y-Y_Mean) ## Variation of Y Around the mean of Y ## Total Sum of Squares(TSS)\n",
    "TSS"
   ]
  },
  {
   "cell_type": "code",
   "execution_count": null,
   "metadata": {
    "colab": {
     "base_uri": "https://localhost:8080/"
    },
    "id": "2qchLxeK6C6L",
    "outputId": "3254c175-c9a0-446f-9332-8687c62a94ab"
   },
   "outputs": [
    {
     "data": {
      "text/plain": [
       "30.048097417366353"
      ]
     },
     "execution_count": 41,
     "metadata": {},
     "output_type": "execute_result"
    }
   ],
   "source": [
    "np.var(Y)"
   ]
  },
  {
   "cell_type": "code",
   "execution_count": null,
   "metadata": {
    "colab": {
     "base_uri": "https://localhost:8080/"
    },
    "id": "zNZdWR-x6C6M",
    "outputId": "7ba37917-ca5e-4c46-b905-097a9ac52cbb"
   },
   "outputs": [
    {
     "data": {
      "text/plain": [
       "8.950742126692887"
      ]
     },
     "execution_count": 42,
     "metadata": {},
     "output_type": "execute_result"
    }
   ],
   "source": [
    "RSS=np.var(Y-Y_pred) ### Variation of Y around the predicted value Y_pred ## Residul Sum of squares\n",
    "RSS"
   ]
  },
  {
   "cell_type": "code",
   "execution_count": null,
   "metadata": {
    "colab": {
     "base_uri": "https://localhost:8080/"
    },
    "id": "mXZBeVN46C6N",
    "outputId": "ba1712db-c93e-49fc-b0d0-d33b5f14659d"
   },
   "outputs": [
    {
     "data": {
      "text/plain": [
       "0.702119505193038"
      ]
     },
     "execution_count": 43,
     "metadata": {},
     "output_type": "execute_result"
    }
   ],
   "source": [
    "R2=1-(RSS/TSS)\n",
    "R2"
   ]
  },
  {
   "cell_type": "code",
   "execution_count": null,
   "metadata": {
    "colab": {
     "base_uri": "https://localhost:8080/"
    },
    "id": "VXtBzhTr6C6O",
    "outputId": "2faafd95-6b40-47f2-9f7a-160c92a952d9"
   },
   "outputs": [
    {
     "data": {
      "text/plain": [
       "0.702119505193038"
      ]
     },
     "execution_count": 44,
     "metadata": {},
     "output_type": "execute_result"
    }
   ],
   "source": [
    "(np.var(Y-Y_Mean)-np.var(Y-Y_pred))/np.var(Y-Y_Mean) ## This is the Coefficient of determination R2"
   ]
  },
  {
   "cell_type": "markdown",
   "metadata": {
    "id": "8YTDPIn86C6P"
   },
   "source": [
    "### Interpretation\n",
    "##### There is  70 % less variation  around the predicted line than the mean line.\n",
    "##### OR Population/Profit relationship accounts for 70 % varition in data."
   ]
  },
  {
   "cell_type": "markdown",
   "metadata": {
    "id": "Wlyt7_Ha6C6Q"
   },
   "source": [
    "#### There is one more term : Explained Sum of Squres(SSE)"
   ]
  },
  {
   "cell_type": "code",
   "execution_count": null,
   "metadata": {
    "colab": {
     "base_uri": "https://localhost:8080/"
    },
    "id": "-Mldji1S6C6Q",
    "outputId": "7d056378-a5f1-41ee-a076-0c93dff97db0"
   },
   "outputs": [
    {
     "data": {
      "text/plain": [
       "21.097355290673452"
      ]
     },
     "execution_count": 45,
     "metadata": {},
     "output_type": "execute_result"
    }
   ],
   "source": [
    "ESS= np.var(Y_pred-Y_Mean) ## Explained Sum of Squres(ESS)\n",
    "ESS"
   ]
  },
  {
   "cell_type": "code",
   "execution_count": null,
   "metadata": {
    "colab": {
     "base_uri": "https://localhost:8080/"
    },
    "id": "TfV-MupW6C6R",
    "outputId": "e425208f-1e5c-4da5-9aff-7e9908d435bf"
   },
   "outputs": [
    {
     "data": {
      "text/plain": [
       "30.048097417366353"
      ]
     },
     "execution_count": 46,
     "metadata": {},
     "output_type": "execute_result"
    }
   ],
   "source": [
    "TSS"
   ]
  },
  {
   "cell_type": "code",
   "execution_count": null,
   "metadata": {
    "colab": {
     "base_uri": "https://localhost:8080/"
    },
    "id": "7ofISy0l6C6S",
    "outputId": "b254dd31-f82c-4ffc-c235-23e84b55cd0c"
   },
   "outputs": [
    {
     "data": {
      "text/plain": [
       "8.950742126692887"
      ]
     },
     "execution_count": 47,
     "metadata": {},
     "output_type": "execute_result"
    }
   ],
   "source": [
    "RSS"
   ]
  },
  {
   "cell_type": "code",
   "execution_count": null,
   "metadata": {
    "colab": {
     "base_uri": "https://localhost:8080/"
    },
    "id": "xb4dHHM_6C6S",
    "outputId": "702b54c3-4bad-4fe5-d932-4c5f4c979199"
   },
   "outputs": [
    {
     "data": {
      "text/plain": [
       "30.04809741736634"
      ]
     },
     "execution_count": 48,
     "metadata": {},
     "output_type": "execute_result"
    }
   ],
   "source": [
    "RSS+ESS  ## Thus TSS=RSS+ESS "
   ]
  },
  {
   "cell_type": "markdown",
   "metadata": {
    "id": "R-tQBi1j6C6T"
   },
   "source": [
    " #### Total sum of squares ( TSS ) = Explained sum of squares (ESS)+ Residual sum of squares (RSS) -->(Unexplainded)"
   ]
  },
  {
   "cell_type": "code",
   "execution_count": null,
   "metadata": {
    "id": "YooPuVtZ6C6T"
   },
   "outputs": [],
   "source": [
    "### Adusted R2 :>> Explanation of this term?"
   ]
  },
  {
   "cell_type": "markdown",
   "metadata": {
    "id": "N43IE48e6C6U"
   },
   "source": [
    "## Another Example"
   ]
  },
  {
   "cell_type": "markdown",
   "metadata": {
    "id": "a1e435MP6C6V"
   },
   "source": [
    "![](https://drive.google.com/uc?export=view&id=1puQJrOZoqb8mm5GVB5DTkwguH2KZky_n)"
   ]
  },
  {
   "cell_type": "code",
   "execution_count": null,
   "metadata": {
    "colab": {
     "base_uri": "https://localhost:8080/",
     "height": 206
    },
    "id": "NEcd2KxS6C6V",
    "outputId": "ba44a2bc-3e9c-4cea-9e1f-6d1df1145bcd"
   },
   "outputs": [
    {
     "data": {
      "text/html": [
       "\n",
       "  <div id=\"df-ea5b962c-56dc-4f19-a888-055261048db7\">\n",
       "    <div class=\"colab-df-container\">\n",
       "      <div>\n",
       "<style scoped>\n",
       "    .dataframe tbody tr th:only-of-type {\n",
       "        vertical-align: middle;\n",
       "    }\n",
       "\n",
       "    .dataframe tbody tr th {\n",
       "        vertical-align: top;\n",
       "    }\n",
       "\n",
       "    .dataframe thead th {\n",
       "        text-align: right;\n",
       "    }\n",
       "</style>\n",
       "<table border=\"1\" class=\"dataframe\">\n",
       "  <thead>\n",
       "    <tr style=\"text-align: right;\">\n",
       "      <th></th>\n",
       "      <th>MATH</th>\n",
       "      <th>English</th>\n",
       "      <th>ART</th>\n",
       "    </tr>\n",
       "  </thead>\n",
       "  <tbody>\n",
       "    <tr>\n",
       "      <th>0</th>\n",
       "      <td>90</td>\n",
       "      <td>60</td>\n",
       "      <td>90</td>\n",
       "    </tr>\n",
       "    <tr>\n",
       "      <th>1</th>\n",
       "      <td>90</td>\n",
       "      <td>90</td>\n",
       "      <td>30</td>\n",
       "    </tr>\n",
       "    <tr>\n",
       "      <th>2</th>\n",
       "      <td>60</td>\n",
       "      <td>60</td>\n",
       "      <td>60</td>\n",
       "    </tr>\n",
       "    <tr>\n",
       "      <th>3</th>\n",
       "      <td>60</td>\n",
       "      <td>60</td>\n",
       "      <td>90</td>\n",
       "    </tr>\n",
       "    <tr>\n",
       "      <th>4</th>\n",
       "      <td>30</td>\n",
       "      <td>30</td>\n",
       "      <td>30</td>\n",
       "    </tr>\n",
       "  </tbody>\n",
       "</table>\n",
       "</div>\n",
       "      <button class=\"colab-df-convert\" onclick=\"convertToInteractive('df-ea5b962c-56dc-4f19-a888-055261048db7')\"\n",
       "              title=\"Convert this dataframe to an interactive table.\"\n",
       "              style=\"display:none;\">\n",
       "        \n",
       "  <svg xmlns=\"http://www.w3.org/2000/svg\" height=\"24px\"viewBox=\"0 0 24 24\"\n",
       "       width=\"24px\">\n",
       "    <path d=\"M0 0h24v24H0V0z\" fill=\"none\"/>\n",
       "    <path d=\"M18.56 5.44l.94 2.06.94-2.06 2.06-.94-2.06-.94-.94-2.06-.94 2.06-2.06.94zm-11 1L8.5 8.5l.94-2.06 2.06-.94-2.06-.94L8.5 2.5l-.94 2.06-2.06.94zm10 10l.94 2.06.94-2.06 2.06-.94-2.06-.94-.94-2.06-.94 2.06-2.06.94z\"/><path d=\"M17.41 7.96l-1.37-1.37c-.4-.4-.92-.59-1.43-.59-.52 0-1.04.2-1.43.59L10.3 9.45l-7.72 7.72c-.78.78-.78 2.05 0 2.83L4 21.41c.39.39.9.59 1.41.59.51 0 1.02-.2 1.41-.59l7.78-7.78 2.81-2.81c.8-.78.8-2.07 0-2.86zM5.41 20L4 18.59l7.72-7.72 1.47 1.35L5.41 20z\"/>\n",
       "  </svg>\n",
       "      </button>\n",
       "      \n",
       "  <style>\n",
       "    .colab-df-container {\n",
       "      display:flex;\n",
       "      flex-wrap:wrap;\n",
       "      gap: 12px;\n",
       "    }\n",
       "\n",
       "    .colab-df-convert {\n",
       "      background-color: #E8F0FE;\n",
       "      border: none;\n",
       "      border-radius: 50%;\n",
       "      cursor: pointer;\n",
       "      display: none;\n",
       "      fill: #1967D2;\n",
       "      height: 32px;\n",
       "      padding: 0 0 0 0;\n",
       "      width: 32px;\n",
       "    }\n",
       "\n",
       "    .colab-df-convert:hover {\n",
       "      background-color: #E2EBFA;\n",
       "      box-shadow: 0px 1px 2px rgba(60, 64, 67, 0.3), 0px 1px 3px 1px rgba(60, 64, 67, 0.15);\n",
       "      fill: #174EA6;\n",
       "    }\n",
       "\n",
       "    [theme=dark] .colab-df-convert {\n",
       "      background-color: #3B4455;\n",
       "      fill: #D2E3FC;\n",
       "    }\n",
       "\n",
       "    [theme=dark] .colab-df-convert:hover {\n",
       "      background-color: #434B5C;\n",
       "      box-shadow: 0px 1px 3px 1px rgba(0, 0, 0, 0.15);\n",
       "      filter: drop-shadow(0px 1px 2px rgba(0, 0, 0, 0.3));\n",
       "      fill: #FFFFFF;\n",
       "    }\n",
       "  </style>\n",
       "\n",
       "      <script>\n",
       "        const buttonEl =\n",
       "          document.querySelector('#df-ea5b962c-56dc-4f19-a888-055261048db7 button.colab-df-convert');\n",
       "        buttonEl.style.display =\n",
       "          google.colab.kernel.accessAllowed ? 'block' : 'none';\n",
       "\n",
       "        async function convertToInteractive(key) {\n",
       "          const element = document.querySelector('#df-ea5b962c-56dc-4f19-a888-055261048db7');\n",
       "          const dataTable =\n",
       "            await google.colab.kernel.invokeFunction('convertToInteractive',\n",
       "                                                     [key], {});\n",
       "          if (!dataTable) return;\n",
       "\n",
       "          const docLinkHtml = 'Like what you see? Visit the ' +\n",
       "            '<a target=\"_blank\" href=https://colab.research.google.com/notebooks/data_table.ipynb>data table notebook</a>'\n",
       "            + ' to learn more about interactive tables.';\n",
       "          element.innerHTML = '';\n",
       "          dataTable['output_type'] = 'display_data';\n",
       "          await google.colab.output.renderOutput(dataTable, element);\n",
       "          const docLink = document.createElement('div');\n",
       "          docLink.innerHTML = docLinkHtml;\n",
       "          element.appendChild(docLink);\n",
       "        }\n",
       "      </script>\n",
       "    </div>\n",
       "  </div>\n",
       "  "
      ],
      "text/plain": [
       "   MATH  English  ART\n",
       "0    90       60   90\n",
       "1    90       90   30\n",
       "2    60       60   60\n",
       "3    60       60   90\n",
       "4    30       30   30"
      ]
     },
     "execution_count": 45,
     "metadata": {},
     "output_type": "execute_result"
    }
   ],
   "source": [
    "import pandas as pd\n",
    "\n",
    "data = {'MATH':[90,90,60,60,30],\n",
    "        'English':[60,90,60,60,30],\n",
    "        'ART':[90,30,60,90,30]\n",
    "        }\n",
    "\n",
    "df = pd.DataFrame(data,columns=['MATH','English','ART'])\n",
    "df\n"
   ]
  },
  {
   "cell_type": "code",
   "execution_count": null,
   "metadata": {
    "colab": {
     "base_uri": "https://localhost:8080/",
     "height": 143
    },
    "id": "JNrfa0y66C6X",
    "outputId": "4269356b-5a2a-43c6-c560-55c496e1a2c2"
   },
   "outputs": [
    {
     "data": {
      "text/html": [
       "\n",
       "  <div id=\"df-ddd402b2-649f-493c-ba4e-d0756a42d47f\">\n",
       "    <div class=\"colab-df-container\">\n",
       "      <div>\n",
       "<style scoped>\n",
       "    .dataframe tbody tr th:only-of-type {\n",
       "        vertical-align: middle;\n",
       "    }\n",
       "\n",
       "    .dataframe tbody tr th {\n",
       "        vertical-align: top;\n",
       "    }\n",
       "\n",
       "    .dataframe thead th {\n",
       "        text-align: right;\n",
       "    }\n",
       "</style>\n",
       "<table border=\"1\" class=\"dataframe\">\n",
       "  <thead>\n",
       "    <tr style=\"text-align: right;\">\n",
       "      <th></th>\n",
       "      <th>MATH</th>\n",
       "      <th>English</th>\n",
       "      <th>ART</th>\n",
       "    </tr>\n",
       "  </thead>\n",
       "  <tbody>\n",
       "    <tr>\n",
       "      <th>MATH</th>\n",
       "      <td>630.0</td>\n",
       "      <td>450.0</td>\n",
       "      <td>225.0</td>\n",
       "    </tr>\n",
       "    <tr>\n",
       "      <th>English</th>\n",
       "      <td>450.0</td>\n",
       "      <td>450.0</td>\n",
       "      <td>0.0</td>\n",
       "    </tr>\n",
       "    <tr>\n",
       "      <th>ART</th>\n",
       "      <td>225.0</td>\n",
       "      <td>0.0</td>\n",
       "      <td>900.0</td>\n",
       "    </tr>\n",
       "  </tbody>\n",
       "</table>\n",
       "</div>\n",
       "      <button class=\"colab-df-convert\" onclick=\"convertToInteractive('df-ddd402b2-649f-493c-ba4e-d0756a42d47f')\"\n",
       "              title=\"Convert this dataframe to an interactive table.\"\n",
       "              style=\"display:none;\">\n",
       "        \n",
       "  <svg xmlns=\"http://www.w3.org/2000/svg\" height=\"24px\"viewBox=\"0 0 24 24\"\n",
       "       width=\"24px\">\n",
       "    <path d=\"M0 0h24v24H0V0z\" fill=\"none\"/>\n",
       "    <path d=\"M18.56 5.44l.94 2.06.94-2.06 2.06-.94-2.06-.94-.94-2.06-.94 2.06-2.06.94zm-11 1L8.5 8.5l.94-2.06 2.06-.94-2.06-.94L8.5 2.5l-.94 2.06-2.06.94zm10 10l.94 2.06.94-2.06 2.06-.94-2.06-.94-.94-2.06-.94 2.06-2.06.94z\"/><path d=\"M17.41 7.96l-1.37-1.37c-.4-.4-.92-.59-1.43-.59-.52 0-1.04.2-1.43.59L10.3 9.45l-7.72 7.72c-.78.78-.78 2.05 0 2.83L4 21.41c.39.39.9.59 1.41.59.51 0 1.02-.2 1.41-.59l7.78-7.78 2.81-2.81c.8-.78.8-2.07 0-2.86zM5.41 20L4 18.59l7.72-7.72 1.47 1.35L5.41 20z\"/>\n",
       "  </svg>\n",
       "      </button>\n",
       "      \n",
       "  <style>\n",
       "    .colab-df-container {\n",
       "      display:flex;\n",
       "      flex-wrap:wrap;\n",
       "      gap: 12px;\n",
       "    }\n",
       "\n",
       "    .colab-df-convert {\n",
       "      background-color: #E8F0FE;\n",
       "      border: none;\n",
       "      border-radius: 50%;\n",
       "      cursor: pointer;\n",
       "      display: none;\n",
       "      fill: #1967D2;\n",
       "      height: 32px;\n",
       "      padding: 0 0 0 0;\n",
       "      width: 32px;\n",
       "    }\n",
       "\n",
       "    .colab-df-convert:hover {\n",
       "      background-color: #E2EBFA;\n",
       "      box-shadow: 0px 1px 2px rgba(60, 64, 67, 0.3), 0px 1px 3px 1px rgba(60, 64, 67, 0.15);\n",
       "      fill: #174EA6;\n",
       "    }\n",
       "\n",
       "    [theme=dark] .colab-df-convert {\n",
       "      background-color: #3B4455;\n",
       "      fill: #D2E3FC;\n",
       "    }\n",
       "\n",
       "    [theme=dark] .colab-df-convert:hover {\n",
       "      background-color: #434B5C;\n",
       "      box-shadow: 0px 1px 3px 1px rgba(0, 0, 0, 0.15);\n",
       "      filter: drop-shadow(0px 1px 2px rgba(0, 0, 0, 0.3));\n",
       "      fill: #FFFFFF;\n",
       "    }\n",
       "  </style>\n",
       "\n",
       "      <script>\n",
       "        const buttonEl =\n",
       "          document.querySelector('#df-ddd402b2-649f-493c-ba4e-d0756a42d47f button.colab-df-convert');\n",
       "        buttonEl.style.display =\n",
       "          google.colab.kernel.accessAllowed ? 'block' : 'none';\n",
       "\n",
       "        async function convertToInteractive(key) {\n",
       "          const element = document.querySelector('#df-ddd402b2-649f-493c-ba4e-d0756a42d47f');\n",
       "          const dataTable =\n",
       "            await google.colab.kernel.invokeFunction('convertToInteractive',\n",
       "                                                     [key], {});\n",
       "          if (!dataTable) return;\n",
       "\n",
       "          const docLinkHtml = 'Like what you see? Visit the ' +\n",
       "            '<a target=\"_blank\" href=https://colab.research.google.com/notebooks/data_table.ipynb>data table notebook</a>'\n",
       "            + ' to learn more about interactive tables.';\n",
       "          element.innerHTML = '';\n",
       "          dataTable['output_type'] = 'display_data';\n",
       "          await google.colab.output.renderOutput(dataTable, element);\n",
       "          const docLink = document.createElement('div');\n",
       "          docLink.innerHTML = docLinkHtml;\n",
       "          element.appendChild(docLink);\n",
       "        }\n",
       "      </script>\n",
       "    </div>\n",
       "  </div>\n",
       "  "
      ],
      "text/plain": [
       "          MATH  English    ART\n",
       "MATH     630.0    450.0  225.0\n",
       "English  450.0    450.0    0.0\n",
       "ART      225.0      0.0  900.0"
      ]
     },
     "execution_count": 46,
     "metadata": {},
     "output_type": "execute_result"
    }
   ],
   "source": [
    "df.cov()"
   ]
  },
  {
   "cell_type": "code",
   "execution_count": null,
   "metadata": {
    "colab": {
     "base_uri": "https://localhost:8080/"
    },
    "id": "lDyjJGBw6C6X",
    "outputId": "10a2fbed-6571-48d3-ee95-f973fc6cf424"
   },
   "outputs": [
    {
     "data": {
      "text/plain": [
       "60.0"
      ]
     },
     "execution_count": 52,
     "metadata": {},
     "output_type": "execute_result"
    }
   ],
   "source": [
    "E_mean=np.mean(df.iloc[:,1].values)\n",
    "E_mean"
   ]
  },
  {
   "cell_type": "code",
   "execution_count": null,
   "metadata": {
    "colab": {
     "base_uri": "https://localhost:8080/"
    },
    "id": "vPKbHELb6C6Y",
    "outputId": "b25a4967-a375-4f33-cbc3-4a4103a38aa6"
   },
   "outputs": [
    {
     "data": {
      "text/plain": [
       "60.0"
      ]
     },
     "execution_count": 53,
     "metadata": {},
     "output_type": "execute_result"
    }
   ],
   "source": [
    "A_mean=np.mean(df.iloc[:,2].values)\n",
    "A_mean"
   ]
  },
  {
   "cell_type": "code",
   "execution_count": null,
   "metadata": {
    "colab": {
     "base_uri": "https://localhost:8080/",
     "height": 283
    },
    "id": "p6aZSGxa6C6Y",
    "outputId": "90bdeaa1-ffd1-4403-ac77-1294a931c4ba"
   },
   "outputs": [
    {
     "data": {
      "text/plain": [
       "<matplotlib.lines.Line2D at 0x7ff724ddc2d0>"
      ]
     },
     "execution_count": 54,
     "metadata": {},
     "output_type": "execute_result"
    },
    {
     "data": {
      "image/png": "[encoded data removed]",
      "text/plain": [
       "<Figure size 432x288 with 1 Axes>"
      ]
     },
     "metadata": {
      "needs_background": "light"
     },
     "output_type": "display_data"
    }
   ],
   "source": [
    "plt.scatter(df.iloc[:,1],df.iloc[:,2])\n",
    "plt.axvline(x=60)\n",
    "plt.axhline(y=60)\n",
    "#ENG[60,90,60,60,30],\n",
    "#ART[90,30,60,90,30]"
   ]
  },
  {
   "cell_type": "code",
   "execution_count": null,
   "metadata": {
    "id": "CN3YfOJQ6C6Z"
   },
   "outputs": [],
   "source": [
    "##var(math),var(eng),var(art)\n",
    "## cov(math,Eng),cov(Math,Art),cov(Eng,Art)"
   ]
  },
  {
   "cell_type": "code",
   "execution_count": null,
   "metadata": {
    "colab": {
     "base_uri": "https://localhost:8080/",
     "height": 143
    },
    "id": "0TNLfeSS6C6a",
    "outputId": "f7caf86a-5e29-49eb-a437-0d48cf6ca45d"
   },
   "outputs": [
    {
     "data": {
      "text/html": [
       "\n",
       "  <div id=\"df-2245cd9f-0665-4107-8749-2245368bf122\">\n",
       "    <div class=\"colab-df-container\">\n",
       "      <div>\n",
       "<style scoped>\n",
       "    .dataframe tbody tr th:only-of-type {\n",
       "        vertical-align: middle;\n",
       "    }\n",
       "\n",
       "    .dataframe tbody tr th {\n",
       "        vertical-align: top;\n",
       "    }\n",
       "\n",
       "    .dataframe thead th {\n",
       "        text-align: right;\n",
       "    }\n",
       "</style>\n",
       "<table border=\"1\" class=\"dataframe\">\n",
       "  <thead>\n",
       "    <tr style=\"text-align: right;\">\n",
       "      <th></th>\n",
       "      <th>MATH</th>\n",
       "      <th>English</th>\n",
       "      <th>ART</th>\n",
       "    </tr>\n",
       "  </thead>\n",
       "  <tbody>\n",
       "    <tr>\n",
       "      <th>MATH</th>\n",
       "      <td>630.0</td>\n",
       "      <td>450.0</td>\n",
       "      <td>225.0</td>\n",
       "    </tr>\n",
       "    <tr>\n",
       "      <th>English</th>\n",
       "      <td>450.0</td>\n",
       "      <td>450.0</td>\n",
       "      <td>0.0</td>\n",
       "    </tr>\n",
       "    <tr>\n",
       "      <th>ART</th>\n",
       "      <td>225.0</td>\n",
       "      <td>0.0</td>\n",
       "      <td>900.0</td>\n",
       "    </tr>\n",
       "  </tbody>\n",
       "</table>\n",
       "</div>\n",
       "      <button class=\"colab-df-convert\" onclick=\"convertToInteractive('df-2245cd9f-0665-4107-8749-2245368bf122')\"\n",
       "              title=\"Convert this dataframe to an interactive table.\"\n",
       "              style=\"display:none;\">\n",
       "        \n",
       "  <svg xmlns=\"http://www.w3.org/2000/svg\" height=\"24px\"viewBox=\"0 0 24 24\"\n",
       "       width=\"24px\">\n",
       "    <path d=\"M0 0h24v24H0V0z\" fill=\"none\"/>\n",
       "    <path d=\"M18.56 5.44l.94 2.06.94-2.06 2.06-.94-2.06-.94-.94-2.06-.94 2.06-2.06.94zm-11 1L8.5 8.5l.94-2.06 2.06-.94-2.06-.94L8.5 2.5l-.94 2.06-2.06.94zm10 10l.94 2.06.94-2.06 2.06-.94-2.06-.94-.94-2.06-.94 2.06-2.06.94z\"/><path d=\"M17.41 7.96l-1.37-1.37c-.4-.4-.92-.59-1.43-.59-.52 0-1.04.2-1.43.59L10.3 9.45l-7.72 7.72c-.78.78-.78 2.05 0 2.83L4 21.41c.39.39.9.59 1.41.59.51 0 1.02-.2 1.41-.59l7.78-7.78 2.81-2.81c.8-.78.8-2.07 0-2.86zM5.41 20L4 18.59l7.72-7.72 1.47 1.35L5.41 20z\"/>\n",
       "  </svg>\n",
       "      </button>\n",
       "      \n",
       "  <style>\n",
       "    .colab-df-container {\n",
       "      display:flex;\n",
       "      flex-wrap:wrap;\n",
       "      gap: 12px;\n",
       "    }\n",
       "\n",
       "    .colab-df-convert {\n",
       "      background-color: #E8F0FE;\n",
       "      border: none;\n",
       "      border-radius: 50%;\n",
       "      cursor: pointer;\n",
       "      display: none;\n",
       "      fill: #1967D2;\n",
       "      height: 32px;\n",
       "      padding: 0 0 0 0;\n",
       "      width: 32px;\n",
       "    }\n",
       "\n",
       "    .colab-df-convert:hover {\n",
       "      background-color: #E2EBFA;\n",
       "      box-shadow: 0px 1px 2px rgba(60, 64, 67, 0.3), 0px 1px 3px 1px rgba(60, 64, 67, 0.15);\n",
       "      fill: #174EA6;\n",
       "    }\n",
       "\n",
       "    [theme=dark] .colab-df-convert {\n",
       "      background-color: #3B4455;\n",
       "      fill: #D2E3FC;\n",
       "    }\n",
       "\n",
       "    [theme=dark] .colab-df-convert:hover {\n",
       "      background-color: #434B5C;\n",
       "      box-shadow: 0px 1px 3px 1px rgba(0, 0, 0, 0.15);\n",
       "      filter: drop-shadow(0px 1px 2px rgba(0, 0, 0, 0.3));\n",
       "      fill: #FFFFFF;\n",
       "    }\n",
       "  </style>\n",
       "\n",
       "      <script>\n",
       "        const buttonEl =\n",
       "          document.querySelector('#df-2245cd9f-0665-4107-8749-2245368bf122 button.colab-df-convert');\n",
       "        buttonEl.style.display =\n",
       "          google.colab.kernel.accessAllowed ? 'block' : 'none';\n",
       "\n",
       "        async function convertToInteractive(key) {\n",
       "          const element = document.querySelector('#df-2245cd9f-0665-4107-8749-2245368bf122');\n",
       "          const dataTable =\n",
       "            await google.colab.kernel.invokeFunction('convertToInteractive',\n",
       "                                                     [key], {});\n",
       "          if (!dataTable) return;\n",
       "\n",
       "          const docLinkHtml = 'Like what you see? Visit the ' +\n",
       "            '<a target=\"_blank\" href=https://colab.research.google.com/notebooks/data_table.ipynb>data table notebook</a>'\n",
       "            + ' to learn more about interactive tables.';\n",
       "          element.innerHTML = '';\n",
       "          dataTable['output_type'] = 'display_data';\n",
       "          await google.colab.output.renderOutput(dataTable, element);\n",
       "          const docLink = document.createElement('div');\n",
       "          docLink.innerHTML = docLinkHtml;\n",
       "          element.appendChild(docLink);\n",
       "        }\n",
       "      </script>\n",
       "    </div>\n",
       "  </div>\n",
       "  "
      ],
      "text/plain": [
       "          MATH  English    ART\n",
       "MATH     630.0    450.0  225.0\n",
       "English  450.0    450.0    0.0\n",
       "ART      225.0      0.0  900.0"
      ]
     },
     "execution_count": 56,
     "metadata": {},
     "output_type": "execute_result"
    }
   ],
   "source": [
    "df.cov()   ## Symmetric Matrix ## Based on N-1"
   ]
  },
  {
   "cell_type": "code",
   "execution_count": null,
   "metadata": {
    "colab": {
     "base_uri": "https://localhost:8080/"
    },
    "id": "m83bpqJP6C6b",
    "outputId": "894dd74d-af26-4e55-91ab-16d261b55e62",
    "scrolled": true
   },
   "outputs": [
    {
     "data": {
      "text/plain": [
       "array([[90, 60, 90],\n",
       "       [90, 90, 30],\n",
       "       [60, 60, 60],\n",
       "       [60, 60, 90],\n",
       "       [30, 30, 30]])"
      ]
     },
     "execution_count": 57,
     "metadata": {},
     "output_type": "execute_result"
    }
   ],
   "source": [
    "x=np.array([[90,60,90],[90,90,30],[60,60,60],[60,60,90],[30,30,30]])\n",
    "x  "
   ]
  },
  {
   "cell_type": "code",
   "execution_count": null,
   "metadata": {
    "id": "r8-KDQE46C6c"
   },
   "outputs": [],
   "source": []
  },
  {
   "cell_type": "code",
   "execution_count": null,
   "metadata": {
    "colab": {
     "base_uri": "https://localhost:8080/"
    },
    "id": "q_oOzmw46C6c",
    "outputId": "dc12bfa8-0c2f-45ae-fb5b-acc3d85d1973"
   },
   "outputs": [
    {
     "data": {
      "text/plain": [
       "array([[1., 1., 1., 1., 1.],\n",
       "       [1., 1., 1., 1., 1.],\n",
       "       [1., 1., 1., 1., 1.],\n",
       "       [1., 1., 1., 1., 1.],\n",
       "       [1., 1., 1., 1., 1.]])"
      ]
     },
     "execution_count": 58,
     "metadata": {},
     "output_type": "execute_result"
    }
   ],
   "source": [
    "x1=np.ones((5,5))\n",
    "x1"
   ]
  },
  {
   "cell_type": "code",
   "execution_count": null,
   "metadata": {
    "colab": {
     "base_uri": "https://localhost:8080/"
    },
    "id": "Z4v9fLH36C6d",
    "outputId": "5add0330-48fa-424b-f39d-2f37a61258a1"
   },
   "outputs": [
    {
     "data": {
      "text/plain": [
       "array([[ 24.,   0.,  30.],\n",
       "       [ 24.,  30., -30.],\n",
       "       [ -6.,   0.,   0.],\n",
       "       [ -6.,   0.,  30.],\n",
       "       [-36., -30., -30.]])"
      ]
     },
     "execution_count": 59,
     "metadata": {},
     "output_type": "execute_result"
    }
   ],
   "source": [
    "a=x-x1.dot(x)*(1/5)\n",
    "a"
   ]
  },
  {
   "cell_type": "code",
   "execution_count": null,
   "metadata": {
    "colab": {
     "base_uri": "https://localhost:8080/"
    },
    "id": "oagFZMR16C6e",
    "outputId": "433d1227-29e0-408b-a90d-3e61aba2ee63"
   },
   "outputs": [
    {
     "data": {
      "text/plain": [
       "array([[504., 360., 180.],\n",
       "       [360., 360.,   0.],\n",
       "       [180.,   0., 720.]])"
      ]
     },
     "execution_count": 60,
     "metadata": {},
     "output_type": "execute_result"
    }
   ],
   "source": [
    "((a.T).dot(a))*(1/5) ## Covariance Based N"
   ]
  },
  {
   "cell_type": "markdown",
   "metadata": {
    "id": "jsl6UwU36C6e"
   },
   "source": [
    "##### Another method of calculating covariance matrix of matrix x:"
   ]
  },
  {
   "cell_type": "code",
   "execution_count": null,
   "metadata": {
    "colab": {
     "base_uri": "https://localhost:8080/"
    },
    "id": "rVQWjpJf6C6f",
    "outputId": "773a95fa-67ed-43d8-deb9-c094813d8db7"
   },
   "outputs": [
    {
     "data": {
      "text/plain": [
       "array([[90, 60, 90],\n",
       "       [90, 90, 30],\n",
       "       [60, 60, 60],\n",
       "       [60, 60, 90],\n",
       "       [30, 30, 30]])"
      ]
     },
     "execution_count": 61,
     "metadata": {},
     "output_type": "execute_result"
    }
   ],
   "source": [
    "x=np.array([[90,60,90],[90,90,30],[60,60,60],[60,60,90],[30,30,30]])\n",
    "x  "
   ]
  },
  {
   "cell_type": "code",
   "execution_count": null,
   "metadata": {
    "id": "aben47Np6C6f"
   },
   "outputs": [],
   "source": [
    "xmean=x.mean(axis=0)"
   ]
  },
  {
   "cell_type": "code",
   "execution_count": null,
   "metadata": {
    "colab": {
     "base_uri": "https://localhost:8080/"
    },
    "id": "cnA53ml_6C6g",
    "outputId": "e0fcb9d4-b725-4dca-ebe6-38c58271ca12"
   },
   "outputs": [
    {
     "data": {
      "text/plain": [
       "array([66., 60., 60.])"
      ]
     },
     "execution_count": 63,
     "metadata": {},
     "output_type": "execute_result"
    }
   ],
   "source": [
    "xmean"
   ]
  },
  {
   "cell_type": "code",
   "execution_count": null,
   "metadata": {
    "colab": {
     "base_uri": "https://localhost:8080/"
    },
    "id": "bUZtG0z-6C6h",
    "outputId": "a5e8f660-9a82-4c73-b87f-2643cf860b74"
   },
   "outputs": [
    {
     "data": {
      "text/plain": [
       "array([[ 24.,   0.,  30.],\n",
       "       [ 24.,  30., -30.],\n",
       "       [ -6.,   0.,   0.],\n",
       "       [ -6.,   0.,  30.],\n",
       "       [-36., -30., -30.]])"
      ]
     },
     "execution_count": 64,
     "metadata": {},
     "output_type": "execute_result"
    }
   ],
   "source": [
    "xc=x-xmean\n",
    "xc  ## centered xc"
   ]
  },
  {
   "cell_type": "code",
   "execution_count": null,
   "metadata": {
    "colab": {
     "base_uri": "https://localhost:8080/"
    },
    "id": "IUywR98V6C6i",
    "outputId": "b62cc47f-aa1f-4be0-8333-d585327ef35a"
   },
   "outputs": [
    {
     "data": {
      "text/plain": [
       "array([[504., 360., 180.],\n",
       "       [360., 360.,   0.],\n",
       "       [180.,   0., 720.]])"
      ]
     },
     "execution_count": 65,
     "metadata": {},
     "output_type": "execute_result"
    }
   ],
   "source": [
    "cov_m=((xc.T).dot(xc))*(1/5)  ## Based on N\n",
    "cov_m"
   ]
  },
  {
   "cell_type": "code",
   "execution_count": null,
   "metadata": {
    "colab": {
     "base_uri": "https://localhost:8080/"
    },
    "id": "Gc9k6iVg6C6j",
    "outputId": "86e5714d-4183-4d46-eab9-91aa740a096e"
   },
   "outputs": [
    {
     "data": {
      "text/plain": [
       "array([[1, 2, 3, 4],\n",
       "       [1, 2, 3, 4]])"
      ]
     },
     "execution_count": 66,
     "metadata": {},
     "output_type": "execute_result"
    }
   ],
   "source": [
    "a=np.array([[1,2,3,4],[1,2,3,4]])\n",
    "a"
   ]
  },
  {
   "cell_type": "code",
   "execution_count": null,
   "metadata": {
    "colab": {
     "base_uri": "https://localhost:8080/"
    },
    "id": "TBTiCVIN6C6j",
    "outputId": "590e1949-d95c-41dd-8381-b9ad3c9385a3"
   },
   "outputs": [
    {
     "data": {
      "text/plain": [
       "array([[ 1,  4,  9, 16],\n",
       "       [ 1,  4,  9, 16]])"
      ]
     },
     "execution_count": 67,
     "metadata": {},
     "output_type": "execute_result"
    }
   ],
   "source": [
    "a**2"
   ]
  },
  {
   "cell_type": "code",
   "execution_count": null,
   "metadata": {
    "colab": {
     "base_uri": "https://localhost:8080/"
    },
    "id": "XFXEIxv66C6k",
    "outputId": "c954daf0-b857-4d0a-ef68-cd95447a8494"
   },
   "outputs": [
    {
     "data": {
      "text/plain": [
       "array([[1, 1],\n",
       "       [2, 2],\n",
       "       [3, 3],\n",
       "       [4, 4]])"
      ]
     },
     "execution_count": 68,
     "metadata": {},
     "output_type": "execute_result"
    }
   ],
   "source": [
    "a.T"
   ]
  },
  {
   "cell_type": "code",
   "execution_count": null,
   "metadata": {
    "colab": {
     "base_uri": "https://localhost:8080/"
    },
    "id": "x1dBWz6x6C6l",
    "outputId": "75fadab8-5b0e-41a1-f90f-6c2e4993ccc9"
   },
   "outputs": [
    {
     "data": {
      "text/plain": [
       "array([[30, 30],\n",
       "       [30, 30]])"
      ]
     },
     "execution_count": 69,
     "metadata": {},
     "output_type": "execute_result"
    }
   ],
   "source": [
    "a.dot(a.T)"
   ]
  },
  {
   "cell_type": "markdown",
   "metadata": {
    "id": "UI_p_Y-f6C6l"
   },
   "source": [
    "#### Using Numpy functions Directly"
   ]
  },
  {
   "cell_type": "code",
   "execution_count": null,
   "metadata": {
    "colab": {
     "base_uri": "https://localhost:8080/"
    },
    "id": "qoH09w8P6C6m",
    "outputId": "957ddd12-c0b3-4937-d263-3dc91f49b659"
   },
   "outputs": [
    {
     "data": {
      "text/plain": [
       "array([[90, 60, 90],\n",
       "       [90, 90, 30],\n",
       "       [60, 60, 60],\n",
       "       [60, 60, 90],\n",
       "       [30, 30, 30]])"
      ]
     },
     "execution_count": 70,
     "metadata": {},
     "output_type": "execute_result"
    }
   ],
   "source": [
    "x=np.array([[90,60,90],[90,90,30],[60,60,60],[60,60,90],[30,30,30]])\n",
    "x  "
   ]
  },
  {
   "cell_type": "code",
   "execution_count": null,
   "metadata": {
    "colab": {
     "base_uri": "https://localhost:8080/"
    },
    "id": "vgZ8vSVo6C6m",
    "outputId": "e752ce28-a67d-46d3-946e-fa8a32e7d0e7"
   },
   "outputs": [
    {
     "data": {
      "text/plain": [
       "array([[504., 360., 180.],\n",
       "       [360., 360.,   0.],\n",
       "       [180.,   0., 720.]])"
      ]
     },
     "execution_count": 71,
     "metadata": {},
     "output_type": "execute_result"
    }
   ],
   "source": [
    "np.cov(x.T,bias=True)   ## Population Covariance Based on N"
   ]
  },
  {
   "cell_type": "code",
   "execution_count": null,
   "metadata": {
    "colab": {
     "base_uri": "https://localhost:8080/"
    },
    "id": "BaajJtXj6C6m",
    "outputId": "d7b6b122-89f1-41f4-f61a-f03b3d78f4fe"
   },
   "outputs": [
    {
     "data": {
      "text/plain": [
       "array([[630., 450., 225.],\n",
       "       [450., 450.,   0.],\n",
       "       [225.,   0., 900.]])"
      ]
     },
     "execution_count": 72,
     "metadata": {},
     "output_type": "execute_result"
    }
   ],
   "source": [
    "np.cov(x.T,bias=False)    ## sample covariance Based on N-1"
   ]
  },
  {
   "cell_type": "code",
   "execution_count": null,
   "metadata": {
    "id": "t9pWSyLp6C6n"
   },
   "outputs": [],
   "source": []
  },
  {
   "cell_type": "markdown",
   "metadata": {
    "id": "h4CfSJa36C6p"
   },
   "source": [
    "#### In DataFrame"
   ]
  },
  {
   "cell_type": "code",
   "execution_count": null,
   "metadata": {
    "colab": {
     "base_uri": "https://localhost:8080/",
     "height": 270
    },
    "id": "qmYpajl-6C6q",
    "outputId": "a87bc41e-248d-4bf9-a1f0-6f11ec22b51b"
   },
   "outputs": [
    {
     "data": {
      "text/html": [
       "\n",
       "  <div id=\"df-c272dfd1-73fe-4a05-86c7-63545852fce5\">\n",
       "    <div class=\"colab-df-container\">\n",
       "      <div>\n",
       "<style scoped>\n",
       "    .dataframe tbody tr th:only-of-type {\n",
       "        vertical-align: middle;\n",
       "    }\n",
       "\n",
       "    .dataframe tbody tr th {\n",
       "        vertical-align: top;\n",
       "    }\n",
       "\n",
       "    .dataframe thead th {\n",
       "        text-align: right;\n",
       "    }\n",
       "</style>\n",
       "<table border=\"1\" class=\"dataframe\">\n",
       "  <thead>\n",
       "    <tr style=\"text-align: right;\">\n",
       "      <th></th>\n",
       "      <th>MATH</th>\n",
       "      <th>ENGLISH</th>\n",
       "      <th>ART</th>\n",
       "    </tr>\n",
       "  </thead>\n",
       "  <tbody>\n",
       "    <tr>\n",
       "      <th>0</th>\n",
       "      <td>90</td>\n",
       "      <td>60</td>\n",
       "      <td>90</td>\n",
       "    </tr>\n",
       "    <tr>\n",
       "      <th>1</th>\n",
       "      <td>90</td>\n",
       "      <td>90</td>\n",
       "      <td>30</td>\n",
       "    </tr>\n",
       "    <tr>\n",
       "      <th>2</th>\n",
       "      <td>60</td>\n",
       "      <td>60</td>\n",
       "      <td>60</td>\n",
       "    </tr>\n",
       "    <tr>\n",
       "      <th>3</th>\n",
       "      <td>60</td>\n",
       "      <td>60</td>\n",
       "      <td>90</td>\n",
       "    </tr>\n",
       "    <tr>\n",
       "      <th>4</th>\n",
       "      <td>30</td>\n",
       "      <td>30</td>\n",
       "      <td>30</td>\n",
       "    </tr>\n",
       "  </tbody>\n",
       "</table>\n",
       "</div>\n",
       "      <button class=\"colab-df-convert\" onclick=\"convertToInteractive('df-c272dfd1-73fe-4a05-86c7-63545852fce5')\"\n",
       "              title=\"Convert this dataframe to an interactive table.\"\n",
       "              style=\"display:none;\">\n",
       "        \n",
       "  <svg xmlns=\"http://www.w3.org/2000/svg\" height=\"24px\"viewBox=\"0 0 24 24\"\n",
       "       width=\"24px\">\n",
       "    <path d=\"M0 0h24v24H0V0z\" fill=\"none\"/>\n",
       "    <path d=\"M18.56 5.44l.94 2.06.94-2.06 2.06-.94-2.06-.94-.94-2.06-.94 2.06-2.06.94zm-11 1L8.5 8.5l.94-2.06 2.06-.94-2.06-.94L8.5 2.5l-.94 2.06-2.06.94zm10 10l.94 2.06.94-2.06 2.06-.94-2.06-.94-.94-2.06-.94 2.06-2.06.94z\"/><path d=\"M17.41 7.96l-1.37-1.37c-.4-.4-.92-.59-1.43-.59-.52 0-1.04.2-1.43.59L10.3 9.45l-7.72 7.72c-.78.78-.78 2.05 0 2.83L4 21.41c.39.39.9.59 1.41.59.51 0 1.02-.2 1.41-.59l7.78-7.78 2.81-2.81c.8-.78.8-2.07 0-2.86zM5.41 20L4 18.59l7.72-7.72 1.47 1.35L5.41 20z\"/>\n",
       "  </svg>\n",
       "      </button>\n",
       "      \n",
       "  <style>\n",
       "    .colab-df-container {\n",
       "      display:flex;\n",
       "      flex-wrap:wrap;\n",
       "      gap: 12px;\n",
       "    }\n",
       "\n",
       "    .colab-df-convert {\n",
       "      background-color: #E8F0FE;\n",
       "      border: none;\n",
       "      border-radius: 50%;\n",
       "      cursor: pointer;\n",
       "      display: none;\n",
       "      fill: #1967D2;\n",
       "      height: 32px;\n",
       "      padding: 0 0 0 0;\n",
       "      width: 32px;\n",
       "    }\n",
       "\n",
       "    .colab-df-convert:hover {\n",
       "      background-color: #E2EBFA;\n",
       "      box-shadow: 0px 1px 2px rgba(60, 64, 67, 0.3), 0px 1px 3px 1px rgba(60, 64, 67, 0.15);\n",
       "      fill: #174EA6;\n",
       "    }\n",
       "\n",
       "    [theme=dark] .colab-df-convert {\n",
       "      background-color: #3B4455;\n",
       "      fill: #D2E3FC;\n",
       "    }\n",
       "\n",
       "    [theme=dark] .colab-df-convert:hover {\n",
       "      background-color: #434B5C;\n",
       "      box-shadow: 0px 1px 3px 1px rgba(0, 0, 0, 0.15);\n",
       "      filter: drop-shadow(0px 1px 2px rgba(0, 0, 0, 0.3));\n",
       "      fill: #FFFFFF;\n",
       "    }\n",
       "  </style>\n",
       "\n",
       "      <script>\n",
       "        const buttonEl =\n",
       "          document.querySelector('#df-c272dfd1-73fe-4a05-86c7-63545852fce5 button.colab-df-convert');\n",
       "        buttonEl.style.display =\n",
       "          google.colab.kernel.accessAllowed ? 'block' : 'none';\n",
       "\n",
       "        async function convertToInteractive(key) {\n",
       "          const element = document.querySelector('#df-c272dfd1-73fe-4a05-86c7-63545852fce5');\n",
       "          const dataTable =\n",
       "            await google.colab.kernel.invokeFunction('convertToInteractive',\n",
       "                                                     [key], {});\n",
       "          if (!dataTable) return;\n",
       "\n",
       "          const docLinkHtml = 'Like what you see? Visit the ' +\n",
       "            '<a target=\"_blank\" href=https://colab.research.google.com/notebooks/data_table.ipynb>data table notebook</a>'\n",
       "            + ' to learn more about interactive tables.';\n",
       "          element.innerHTML = '';\n",
       "          dataTable['output_type'] = 'display_data';\n",
       "          await google.colab.output.renderOutput(dataTable, element);\n",
       "          const docLink = document.createElement('div');\n",
       "          docLink.innerHTML = docLinkHtml;\n",
       "          element.appendChild(docLink);\n",
       "        }\n",
       "      </script>\n",
       "    </div>\n",
       "  </div>\n",
       "  "
      ],
      "text/plain": [
       "   MATH  ENGLISH  ART\n",
       "0    90       60   90\n",
       "1    90       90   30\n",
       "2    60       60   60\n",
       "3    60       60   90\n",
       "4    30       30   30"
      ]
     },
     "execution_count": 73,
     "metadata": {},
     "output_type": "execute_result"
    }
   ],
   "source": [
    "import pandas as pd\n",
    "data = {'MATH': [90,90,60,60,30],'ENGLISH':[60,90,60,60,30],'ART': [90,30,60,90,30]}\n",
    "df = pd.DataFrame(data,columns=['MATH','ENGLISH','ART'])\n",
    "df"
   ]
  },
  {
   "cell_type": "code",
   "execution_count": null,
   "metadata": {
    "colab": {
     "base_uri": "https://localhost:8080/"
    },
    "id": "hL2pST286C6s",
    "outputId": "3f588da4-3d90-4b94-aac8-d51ae4843fbf"
   },
   "outputs": [
    {
     "name": "stdout",
     "output_type": "stream",
     "text": [
      "          MATH  ENGLISH    ART\n",
      "MATH     630.0    450.0  225.0\n",
      "ENGLISH  450.0    450.0    0.0\n",
      "ART      225.0      0.0  900.0\n"
     ]
    }
   ],
   "source": [
    "covMatrix = pd.DataFrame.cov(df)\n",
    "print (covMatrix)\n",
    "\n",
    "## Returns the covariance matrix of the DataFrame. The covariance is normalized by N-1."
   ]
  },
  {
   "cell_type": "markdown",
   "metadata": {
    "id": "gUITyxu46C6t"
   },
   "source": [
    "####  Variance "
   ]
  },
  {
   "cell_type": "code",
   "execution_count": null,
   "metadata": {
    "colab": {
     "base_uri": "https://localhost:8080/"
    },
    "id": "79LqCJJb6C6u",
    "outputId": "1d2027c7-579d-4902-b39e-9016d2c24273"
   },
   "outputs": [
    {
     "data": {
      "text/plain": [
       "array([630., 450., 900.])"
      ]
     },
     "execution_count": 75,
     "metadata": {},
     "output_type": "execute_result"
    }
   ],
   "source": [
    "np.var(x, axis=0,ddof=1) ## For sample"
   ]
  },
  {
   "cell_type": "code",
   "execution_count": null,
   "metadata": {
    "colab": {
     "base_uri": "https://localhost:8080/"
    },
    "id": "QR6Pm5DG6C6v",
    "outputId": "aa23ac97-53f8-4488-a458-dcb75b7141fe"
   },
   "outputs": [
    {
     "data": {
      "text/plain": [
       "array([504., 360., 720.])"
      ]
     },
     "execution_count": 76,
     "metadata": {},
     "output_type": "execute_result"
    }
   ],
   "source": [
    "np.var(x, axis=0) ## For Population"
   ]
  },
  {
   "cell_type": "markdown",
   "metadata": {
    "id": "egt705z86C6v"
   },
   "source": [
    "#### Physical Explanation of Covariancce Matrix"
   ]
  },
  {
   "cell_type": "code",
   "execution_count": null,
   "metadata": {
    "colab": {
     "base_uri": "https://localhost:8080/",
     "height": 143
    },
    "id": "K38Qz7m-6C6x",
    "outputId": "88cdd73b-bf34-4f48-83e9-81f45dade9b3",
    "scrolled": true
   },
   "outputs": [
    {
     "data": {
      "text/html": [
       "\n",
       "  <div id=\"df-b73c264d-3e7c-47c5-9330-72abefc805cf\">\n",
       "    <div class=\"colab-df-container\">\n",
       "      <div>\n",
       "<style scoped>\n",
       "    .dataframe tbody tr th:only-of-type {\n",
       "        vertical-align: middle;\n",
       "    }\n",
       "\n",
       "    .dataframe tbody tr th {\n",
       "        vertical-align: top;\n",
       "    }\n",
       "\n",
       "    .dataframe thead th {\n",
       "        text-align: right;\n",
       "    }\n",
       "</style>\n",
       "<table border=\"1\" class=\"dataframe\">\n",
       "  <thead>\n",
       "    <tr style=\"text-align: right;\">\n",
       "      <th></th>\n",
       "      <th>MATH</th>\n",
       "      <th>ENGLISH</th>\n",
       "      <th>ART</th>\n",
       "    </tr>\n",
       "  </thead>\n",
       "  <tbody>\n",
       "    <tr>\n",
       "      <th>MATH</th>\n",
       "      <td>630.0</td>\n",
       "      <td>450.0</td>\n",
       "      <td>225.0</td>\n",
       "    </tr>\n",
       "    <tr>\n",
       "      <th>ENGLISH</th>\n",
       "      <td>450.0</td>\n",
       "      <td>450.0</td>\n",
       "      <td>0.0</td>\n",
       "    </tr>\n",
       "    <tr>\n",
       "      <th>ART</th>\n",
       "      <td>225.0</td>\n",
       "      <td>0.0</td>\n",
       "      <td>900.0</td>\n",
       "    </tr>\n",
       "  </tbody>\n",
       "</table>\n",
       "</div>\n",
       "      <button class=\"colab-df-convert\" onclick=\"convertToInteractive('df-b73c264d-3e7c-47c5-9330-72abefc805cf')\"\n",
       "              title=\"Convert this dataframe to an interactive table.\"\n",
       "              style=\"display:none;\">\n",
       "        \n",
       "  <svg xmlns=\"http://www.w3.org/2000/svg\" height=\"24px\"viewBox=\"0 0 24 24\"\n",
       "       width=\"24px\">\n",
       "    <path d=\"M0 0h24v24H0V0z\" fill=\"none\"/>\n",
       "    <path d=\"M18.56 5.44l.94 2.06.94-2.06 2.06-.94-2.06-.94-.94-2.06-.94 2.06-2.06.94zm-11 1L8.5 8.5l.94-2.06 2.06-.94-2.06-.94L8.5 2.5l-.94 2.06-2.06.94zm10 10l.94 2.06.94-2.06 2.06-.94-2.06-.94-.94-2.06-.94 2.06-2.06.94z\"/><path d=\"M17.41 7.96l-1.37-1.37c-.4-.4-.92-.59-1.43-.59-.52 0-1.04.2-1.43.59L10.3 9.45l-7.72 7.72c-.78.78-.78 2.05 0 2.83L4 21.41c.39.39.9.59 1.41.59.51 0 1.02-.2 1.41-.59l7.78-7.78 2.81-2.81c.8-.78.8-2.07 0-2.86zM5.41 20L4 18.59l7.72-7.72 1.47 1.35L5.41 20z\"/>\n",
       "  </svg>\n",
       "      </button>\n",
       "      \n",
       "  <style>\n",
       "    .colab-df-container {\n",
       "      display:flex;\n",
       "      flex-wrap:wrap;\n",
       "      gap: 12px;\n",
       "    }\n",
       "\n",
       "    .colab-df-convert {\n",
       "      background-color: #E8F0FE;\n",
       "      border: none;\n",
       "      border-radius: 50%;\n",
       "      cursor: pointer;\n",
       "      display: none;\n",
       "      fill: #1967D2;\n",
       "      height: 32px;\n",
       "      padding: 0 0 0 0;\n",
       "      width: 32px;\n",
       "    }\n",
       "\n",
       "    .colab-df-convert:hover {\n",
       "      background-color: #E2EBFA;\n",
       "      box-shadow: 0px 1px 2px rgba(60, 64, 67, 0.3), 0px 1px 3px 1px rgba(60, 64, 67, 0.15);\n",
       "      fill: #174EA6;\n",
       "    }\n",
       "\n",
       "    [theme=dark] .colab-df-convert {\n",
       "      background-color: #3B4455;\n",
       "      fill: #D2E3FC;\n",
       "    }\n",
       "\n",
       "    [theme=dark] .colab-df-convert:hover {\n",
       "      background-color: #434B5C;\n",
       "      box-shadow: 0px 1px 3px 1px rgba(0, 0, 0, 0.15);\n",
       "      filter: drop-shadow(0px 1px 2px rgba(0, 0, 0, 0.3));\n",
       "      fill: #FFFFFF;\n",
       "    }\n",
       "  </style>\n",
       "\n",
       "      <script>\n",
       "        const buttonEl =\n",
       "          document.querySelector('#df-b73c264d-3e7c-47c5-9330-72abefc805cf button.colab-df-convert');\n",
       "        buttonEl.style.display =\n",
       "          google.colab.kernel.accessAllowed ? 'block' : 'none';\n",
       "\n",
       "        async function convertToInteractive(key) {\n",
       "          const element = document.querySelector('#df-b73c264d-3e7c-47c5-9330-72abefc805cf');\n",
       "          const dataTable =\n",
       "            await google.colab.kernel.invokeFunction('convertToInteractive',\n",
       "                                                     [key], {});\n",
       "          if (!dataTable) return;\n",
       "\n",
       "          const docLinkHtml = 'Like what you see? Visit the ' +\n",
       "            '<a target=\"_blank\" href=https://colab.research.google.com/notebooks/data_table.ipynb>data table notebook</a>'\n",
       "            + ' to learn more about interactive tables.';\n",
       "          element.innerHTML = '';\n",
       "          dataTable['output_type'] = 'display_data';\n",
       "          await google.colab.output.renderOutput(dataTable, element);\n",
       "          const docLink = document.createElement('div');\n",
       "          docLink.innerHTML = docLinkHtml;\n",
       "          element.appendChild(docLink);\n",
       "        }\n",
       "      </script>\n",
       "    </div>\n",
       "  </div>\n",
       "  "
      ],
      "text/plain": [
       "          MATH  ENGLISH    ART\n",
       "MATH     630.0    450.0  225.0\n",
       "ENGLISH  450.0    450.0    0.0\n",
       "ART      225.0      0.0  900.0"
      ]
     },
     "execution_count": 77,
     "metadata": {},
     "output_type": "execute_result"
    }
   ],
   "source": [
    "df.cov() ## This covariance matrix is calculated based on N-1"
   ]
  },
  {
   "cell_type": "markdown",
   "metadata": {
    "id": "rkSr0OXT6C6y"
   },
   "source": [
    "In Diagonal, we see the variance of scores for each test. \n",
    "The art test has the biggest variance (900); and the English test, the smallest (450).\n",
    "So we can say that art test scores are more variable than English test scores.\n",
    "\n",
    "The covariance is displayed in the off-diagonal elements of matrix.\n",
    "The covariance between math and English is positive (450), \n",
    "and the covariance between math and art is positive (225). \n",
    "This means the scores tend to covary in a positive way. \n",
    "As scores on math go up, scores on art and English also tend to go up; and vice versa.\n",
    "The covariance between English and art, however, is zero. This means there tends to be no predictable relationship between the movement of English and art scores."
   ]
  }
 ],
 "metadata": {
  "colab": {
   "name": "Variance_ Covariance_ Correlation_Coeff. &_Coeff. of Deter (R2).ipynb",
   "provenance": []
  },
  "kernelspec": {
   "display_name": "Python 3",
   "language": "python",
   "name": "python3"
  },
  "language_info": {
   "codemirror_mode": {
    "name": "ipython",
    "version": 3
   },
   "file_extension": ".py",
   "mimetype": "text/x-python",
   "name": "python",
   "nbconvert_exporter": "python",
   "pygments_lexer": "ipython3",
   "version": "3.8.8"
  }
 },
 "nbformat": 4,
 "nbformat_minor": 1
}
