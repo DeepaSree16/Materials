{
 "cells": [
  {
   "cell_type": "markdown",
   "metadata": {
    "id": "CfNtWT4kjnkJ"
   },
   "source": [
    "# IoT & Smart Analytics\n",
    "## A Program by IIIT-H and TalentSprint"
   ]
  },
  {
   "cell_type": "markdown",
   "metadata": {
    "id": "Bc-UGNxBUqgg"
   },
   "source": [
    "## Learning Objectives\n",
    "At the end of the experiment, you will be able to : \n",
    "* Understand & apply frequently used Numpy functions & operations"
   ]
  },
  {
   "cell_type": "markdown",
   "metadata": {
    "id": "j6flz3mHUv0K"
   },
   "source": [
    "#### Importing Required Packages"
   ]
  },
  {
   "cell_type": "code",
   "execution_count": 1,
   "metadata": {
    "colab": {
     "base_uri": "https://localhost:8080/",
     "height": 36
    },
    "id": "ihOsHuORjnkg",
    "outputId": "b1d85eb5-7798-4802-a15e-a44dfabdb2d7"
   },
   "outputs": [
    {
     "data": {
      "application/vnd.google.colaboratory.intrinsic+json": {
       "type": "string"
      },
      "text/plain": [
       "'1.21.5'"
      ]
     },
     "execution_count": 1,
     "metadata": {},
     "output_type": "execute_result"
    }
   ],
   "source": [
    "import numpy as np  # Calling or importing numpy library\n",
    "np.__version__      # WE can check version of numpy"
   ]
  },
  {
   "cell_type": "markdown",
   "metadata": {
    "id": "B8nuS5Hsjnk1"
   },
   "source": [
    "#### Creating 1-Dimensional Array"
   ]
  },
  {
   "cell_type": "code",
   "execution_count": 2,
   "metadata": {
    "colab": {
     "base_uri": "https://localhost:8080/"
    },
    "id": "BJj_2KEvjnk3",
    "outputId": "942392bf-f654-4106-ad83-c6392bbb5d4e"
   },
   "outputs": [
    {
     "name": "stdout",
     "output_type": "stream",
     "text": [
      "[1 2 3 4 5 6]\n",
      "(6,)\n",
      "1\n",
      "6\n",
      "6\n",
      "<class 'numpy.ndarray'>\n"
     ]
    },
    {
     "data": {
      "text/plain": [
       "dtype('int64')"
      ]
     },
     "execution_count": 2,
     "metadata": {},
     "output_type": "execute_result"
    }
   ],
   "source": [
    "a1=np.array([1,2,3,4,5,6]) # It is just like a list, coma seperated sequence of numbers or string or any other data type.\n",
    "# Notice Parenthesis after np.array and single openning square bracket and closing square brecket\n",
    "print(a1) # printing the array\n",
    "print(a1.shape)    # In 1-D array, shape gives counting of number of elements in forms of tuple here-->(6,)\n",
    "print(a1.ndim)     # It gives dimension of array , here it is 1D.\n",
    "print(np.size(a1)) # size always gives total number of elements in any array\n",
    "print(len(a1))     #  In 1D it gives counting of number of elements in array\n",
    "print(type(a1))    # It gives type of data structure, it is an object of class numpy ndarray .\n",
    "a1.dtype           # it gives type of data stored in array.For printing last variable we dont have to write print explicitly."
   ]
  },
  {
   "cell_type": "markdown",
   "metadata": {
    "id": "-rB1F1dbjnlB"
   },
   "source": [
    "#### Creating 2-Dimensional Array"
   ]
  },
  {
   "cell_type": "code",
   "execution_count": 3,
   "metadata": {
    "colab": {
     "base_uri": "https://localhost:8080/"
    },
    "id": "Zedsgua5jnlF",
    "outputId": "ab869571-24e4-45ba-feef-eeded7a204b7"
   },
   "outputs": [
    {
     "name": "stdout",
     "output_type": "stream",
     "text": [
      "[[ 1  2  3]\n",
      " [ 4  5  6]\n",
      " [ 7  8  9]\n",
      " [10 11 12]] \n",
      "\n",
      "(4, 3)\n",
      "2\n",
      "12\n",
      "4\n",
      "<class 'numpy.ndarray'>\n"
     ]
    },
    {
     "data": {
      "text/plain": [
       "dtype('int64')"
      ]
     },
     "execution_count": 3,
     "metadata": {},
     "output_type": "execute_result"
    }
   ],
   "source": [
    "a2=np.array([[1,2,3],[4,5,6],[7,8,9],[10,11,12]]) \n",
    "# Notice there are multiple (here 4) openning & closing square brecket inside first and last openning & closing square bracket.\n",
    "# Each square bracket represents a row and each coma seperated number represents a column.\n",
    "print(a2,'\\n') # printing the array a2.\n",
    "print(a2.shape)    # In 2-D array, shape gives counting of number of rows and columns in forms of tuple(4 rows and 3 columns).\n",
    "print(a2.ndim)     # It gives dimension of array , here it is 2D.\n",
    "print(np.size(a2)) # size always gives total number of elements in any array.\n",
    "print(len(a2))     #  In 2D it gives counting of number of rows present in an array.\n",
    "print(type(a2))    # It gives type of data structure, it is an object of class numpy ndarray .\n",
    "a2.dtype           # it gives type of data stored in array"
   ]
  },
  {
   "cell_type": "markdown",
   "metadata": {
    "id": "R1DgMUDqjnlI"
   },
   "source": [
    "### NOTE: In numpy, 1- Dimensional Array has no concept of rows and column, it is just a sequence. Though, 1D array can be conveted into 2D."
   ]
  },
  {
   "cell_type": "code",
   "execution_count": 4,
   "metadata": {
    "colab": {
     "base_uri": "https://localhost:8080/"
    },
    "id": "Uo9e0mcRjnlS",
    "outputId": "14ae6adb-f121-457d-e1df-04a2c0b59a4b"
   },
   "outputs": [
    {
     "data": {
      "text/plain": [
       "array([ 0,  1,  2,  3,  4,  5,  6,  7,  8,  9, 10, 11])"
      ]
     },
     "execution_count": 4,
     "metadata": {},
     "output_type": "execute_result"
    }
   ],
   "source": [
    "ar1 = np.arange(12) # It generates 1D array.\n",
    "# In  --> arange--> 'a' for  array  nad 'range' is core python's--> range(start, end, increment/decrement)\n",
    "ar1 # for printing last variable we dont have to write print explicitly in Jupyter.\n",
    "# Here default start point is zero, default increment is 1 and end value is 12 which is not included as in range function.\n"
   ]
  },
  {
   "cell_type": "code",
   "execution_count": 5,
   "metadata": {
    "colab": {
     "base_uri": "https://localhost:8080/"
    },
    "id": "vT2WoyBOjnlW",
    "outputId": "e11d5e82-2dd0-45bb-e649-fd105feb25d8"
   },
   "outputs": [
    {
     "data": {
      "text/plain": [
       "(12,)"
      ]
     },
     "execution_count": 5,
     "metadata": {},
     "output_type": "execute_result"
    }
   ],
   "source": [
    "ar1.shape # .shape > gives the shape of array ( row and column length)\n",
    "# ar1 is 1-Darray,thus it gives only counting of number of elements as there is no concept of rows and columns in 1D array"
   ]
  },
  {
   "cell_type": "code",
   "execution_count": 6,
   "metadata": {
    "colab": {
     "base_uri": "https://localhost:8080/"
    },
    "id": "6hXi2PJKjnlY",
    "outputId": "0471a9f3-9f30-4cc2-f9d0-2a4ceb1b4ccc"
   },
   "outputs": [
    {
     "data": {
      "text/plain": [
       "array([[ 0,  1,  2,  3],\n",
       "       [ 4,  5,  6,  7],\n",
       "       [ 8,  9, 10, 11]])"
      ]
     },
     "execution_count": 6,
     "metadata": {},
     "output_type": "execute_result"
    }
   ],
   "source": [
    "ar1.reshape(3,4) # Converts ar1 into two dimensional array of size : 3 rows and 4 columns.\n",
    "# Note number of elements must be same while reshaping, 3X4=12, counting of elements of reshaped array=initial array"
   ]
  },
  {
   "cell_type": "code",
   "execution_count": 7,
   "metadata": {
    "colab": {
     "base_uri": "https://localhost:8080/"
    },
    "id": "xfIOaHFOjnlb",
    "outputId": "94ed8436-c0f1-4f8a-bdf6-6727c75aa9b8"
   },
   "outputs": [
    {
     "data": {
      "text/plain": [
       "array([[ 0,  1,  2],\n",
       "       [ 3,  4,  5],\n",
       "       [ 6,  7,  8],\n",
       "       [ 9, 10, 11]])"
      ]
     },
     "execution_count": 7,
     "metadata": {},
     "output_type": "execute_result"
    }
   ],
   "source": [
    "ar1.reshape(4,3) # This is also possible"
   ]
  },
  {
   "cell_type": "code",
   "execution_count": 8,
   "metadata": {
    "colab": {
     "base_uri": "https://localhost:8080/"
    },
    "id": "VHQPUGW9jnld",
    "outputId": "dabdbab3-5e75-4779-ac49-6c7c8c9be64c"
   },
   "outputs": [
    {
     "data": {
      "text/plain": [
       "array([[ 0,  1,  2,  3,  4,  5],\n",
       "       [ 6,  7,  8,  9, 10, 11]])"
      ]
     },
     "execution_count": 8,
     "metadata": {},
     "output_type": "execute_result"
    }
   ],
   "source": [
    "ar1.reshape(2,6)# This is also possible"
   ]
  },
  {
   "cell_type": "code",
   "execution_count": 9,
   "metadata": {
    "colab": {
     "base_uri": "https://localhost:8080/"
    },
    "id": "81WNCD8Ljnlg",
    "outputId": "f9573588-2321-44b5-ebc4-b021a55e938d"
   },
   "outputs": [
    {
     "data": {
      "text/plain": [
       "array([[ 0,  1],\n",
       "       [ 2,  3],\n",
       "       [ 4,  5],\n",
       "       [ 6,  7],\n",
       "       [ 8,  9],\n",
       "       [10, 11]])"
      ]
     },
     "execution_count": 9,
     "metadata": {},
     "output_type": "execute_result"
    }
   ],
   "source": [
    "ar1.reshape(6,2)# This is also possible"
   ]
  },
  {
   "cell_type": "code",
   "execution_count": 10,
   "metadata": {
    "colab": {
     "base_uri": "https://localhost:8080/"
    },
    "id": "MvcBZ-gzjnlj",
    "outputId": "d215c545-1cbd-4b1d-c5eb-cd4d237ef91d"
   },
   "outputs": [
    {
     "data": {
      "text/plain": [
       "array([[ 0,  1,  2,  3,  4,  5,  6,  7,  8,  9, 10, 11]])"
      ]
     },
     "execution_count": 10,
     "metadata": {},
     "output_type": "execute_result"
    }
   ],
   "source": [
    "ar1_reshaped_r=ar1.reshape(1,12) # This is alos possible, Note it , a tricy one.\n",
    "# Converts ar1 into two dimensional array of size 1 row and 12 columns\n",
    "ar1_reshaped_r"
   ]
  },
  {
   "cell_type": "code",
   "execution_count": 11,
   "metadata": {
    "colab": {
     "base_uri": "https://localhost:8080/"
    },
    "id": "y3teGAhDjnll",
    "outputId": "eaab8c89-d1e5-4011-f4a6-eacab3c587fd"
   },
   "outputs": [
    {
     "name": "stdout",
     "output_type": "stream",
     "text": [
      "[ 0  1  2  3  4  5  6  7  8  9 10 11] \n",
      "\n",
      "[[ 0  1  2  3  4  5  6  7  8  9 10 11]]\n"
     ]
    }
   ],
   "source": [
    "# compare ar1 and ar1_reshaped_r\n",
    "print(ar1,'\\n') #1D Array, just a sequence of number, no rows and no columns.\n",
    "print(ar1_reshaped_r) # 2D Array, a pair of square bracket inside first and last openning and closing bracket.1 row & 12 columns."
   ]
  },
  {
   "cell_type": "code",
   "execution_count": 12,
   "metadata": {
    "colab": {
     "base_uri": "https://localhost:8080/"
    },
    "id": "1F6vHsFrjnln",
    "outputId": "c19d195c-234c-49a0-9d6c-c3a65fc7b728"
   },
   "outputs": [
    {
     "data": {
      "text/plain": [
       "array([[ 0],\n",
       "       [ 1],\n",
       "       [ 2],\n",
       "       [ 3],\n",
       "       [ 4],\n",
       "       [ 5],\n",
       "       [ 6],\n",
       "       [ 7],\n",
       "       [ 8],\n",
       "       [ 9],\n",
       "       [10],\n",
       "       [11]])"
      ]
     },
     "execution_count": 12,
     "metadata": {},
     "output_type": "execute_result"
    }
   ],
   "source": [
    "ar1_reshaped_c=ar1.reshape(12,1) # This is alos possible, Note it , a tricy one.\n",
    "# Converts ar1 into two dimensional array of size 12 rows and 1columns\n",
    "ar1_reshaped_c"
   ]
  },
  {
   "cell_type": "code",
   "execution_count": 13,
   "metadata": {
    "colab": {
     "base_uri": "https://localhost:8080/"
    },
    "id": "RTwIEmMGjnlo",
    "outputId": "28caf189-8138-4460-9cd6-7e2a0a2233e8"
   },
   "outputs": [
    {
     "name": "stdout",
     "output_type": "stream",
     "text": [
      "[ 0  1  2  3  4  5  6  7  8  9 10 11] \n",
      "\n",
      "[[ 0]\n",
      " [ 1]\n",
      " [ 2]\n",
      " [ 3]\n",
      " [ 4]\n",
      " [ 5]\n",
      " [ 6]\n",
      " [ 7]\n",
      " [ 8]\n",
      " [ 9]\n",
      " [10]\n",
      " [11]]\n"
     ]
    }
   ],
   "source": [
    "# compare ar1 and ar1_reshaped_c\n",
    "print(ar1,'\\n') #1D Array, just a sequence of number, no rows and no columns.\n",
    "print(ar1_reshaped_c) # 2D Array, 12 pair of square bracket inside first and last openning and closing bracket.12 rows & 1 column."
   ]
  },
  {
   "cell_type": "code",
   "execution_count": 14,
   "metadata": {
    "colab": {
     "base_uri": "https://localhost:8080/"
    },
    "id": "HIkZ0Dtrjnlq",
    "outputId": "ed4e00b5-6c87-4ef9-8a15-709f05ce0a03"
   },
   "outputs": [
    {
     "data": {
      "text/plain": [
       "array([-5., -4., -3., -2., -1.,  0.,  1.,  2.,  3.,  4.,  5.])"
      ]
     },
     "execution_count": 14,
     "metadata": {},
     "output_type": "execute_result"
    }
   ],
   "source": [
    "### Similar to np.arange,there is np.linspace, as given below:\n",
    "np.linspace(-5,5,11)"
   ]
  },
  {
   "cell_type": "markdown",
   "metadata": {
    "id": "VzYFJ7Qujnls"
   },
   "source": [
    "##### Note: In above last two reshape operations, we have converted 1-D array into ---->1 row and multiple columns --> ar1.reshape(1,12)  or multiple rows and 1 columns --->ar1.reshape(12,1)\n",
    "* For doing this we must know number of elements in 1D array (here 12).\n",
    "* There is another way of doing this without knowing the number of elements in 1-D Array.As given below."
   ]
  },
  {
   "cell_type": "code",
   "execution_count": 15,
   "metadata": {
    "colab": {
     "base_uri": "https://localhost:8080/"
    },
    "id": "m5Vhc81ljnlt",
    "outputId": "61f21c2b-81d2-4176-e89e-c777b6715019"
   },
   "outputs": [
    {
     "name": "stdout",
     "output_type": "stream",
     "text": [
      "[[ 0  1  2  3  4  5  6  7  8  9 10 11]] \n",
      "\n",
      "(1, 12) \n",
      "\n",
      "2 \n",
      "\n"
     ]
    },
    {
     "data": {
      "text/plain": [
       "array([ 0,  1,  2,  3,  4,  5,  6,  7,  8,  9, 10, 11])"
      ]
     },
     "execution_count": 15,
     "metadata": {},
     "output_type": "execute_result"
    }
   ],
   "source": [
    "ar2=ar1[np.newaxis,:] # This operation converts one dimensional array into 1 row  and multiple columns(here 12).\n",
    "print(ar2,'\\n')\n",
    "print(ar2.shape,'\\n')\n",
    "print(ar2.ndim,'\\n') ## Gives the dimension of matrix \n",
    "\n",
    "# In above syntax first argument 'np.newaxis' , inside square bracket before coma is for  row \n",
    "# and second argument ':' is for column.\n",
    "# ar1 is converted into 1 row as 'np.newaxis' is in place of row and stored in ar2 .See the result below.\n",
    "# Note ar1 itself doesn't get changed.\n",
    "ar1"
   ]
  },
  {
   "cell_type": "code",
   "execution_count": 16,
   "metadata": {
    "colab": {
     "base_uri": "https://localhost:8080/"
    },
    "id": "RqJdIbqojnlu",
    "outputId": "a375dba0-ca3d-43af-e931-1f214b633f15"
   },
   "outputs": [
    {
     "name": "stdout",
     "output_type": "stream",
     "text": [
      "[[ 0]\n",
      " [ 1]\n",
      " [ 2]\n",
      " [ 3]\n",
      " [ 4]\n",
      " [ 5]\n",
      " [ 6]\n",
      " [ 7]\n",
      " [ 8]\n",
      " [ 9]\n",
      " [10]\n",
      " [11]] \n",
      "\n",
      "(12, 1)\n"
     ]
    },
    {
     "data": {
      "text/plain": [
       "2"
      ]
     },
     "execution_count": 16,
     "metadata": {},
     "output_type": "execute_result"
    }
   ],
   "source": [
    "ar3=ar1[:,np.newaxis] \n",
    "# ar1 is converted into 1 column as 'np.newaxis' is in place of column and stored in ar3 .See the result below.\n",
    "# Note ar1 itself doesn't get changed.Ten rows and one column\n",
    "print(ar3,'\\n')\n",
    "print(ar3.shape)\n",
    "ar3.ndim ## Gives the dimension of matrix "
   ]
  },
  {
   "cell_type": "markdown",
   "metadata": {
    "id": "amgZ4XKPjnlv"
   },
   "source": [
    "### Arithmetic with NumPy Arrays"
   ]
  },
  {
   "cell_type": "code",
   "execution_count": 17,
   "metadata": {
    "colab": {
     "base_uri": "https://localhost:8080/"
    },
    "id": "fqIZj2AFjnlx",
    "outputId": "ca281517-d0a6-444f-ce91-cb2dd5ae4215"
   },
   "outputs": [
    {
     "data": {
      "text/plain": [
       "array([[1, 2, 3],\n",
       "       [2, 3, 4],\n",
       "       [5, 6, 7]])"
      ]
     },
     "execution_count": 17,
     "metadata": {},
     "output_type": "execute_result"
    }
   ],
   "source": [
    "a=np.array([[1,2,3],[2,3,4],[5,6,7]])\n",
    "a"
   ]
  },
  {
   "cell_type": "code",
   "execution_count": 18,
   "metadata": {
    "colab": {
     "base_uri": "https://localhost:8080/"
    },
    "id": "hfb_VWkpjnly",
    "outputId": "9f963fc8-f2b4-47ad-d4b3-b4312b079c8f"
   },
   "outputs": [
    {
     "data": {
      "text/plain": [
       "array([[ 4,  5,  6],\n",
       "       [ 7,  2,  9],\n",
       "       [10,  5, 12]])"
      ]
     },
     "execution_count": 18,
     "metadata": {},
     "output_type": "execute_result"
    }
   ],
   "source": [
    "b=np.array([[4,5,6],[7,2,9],[10,5,12]])\n",
    "b"
   ]
  },
  {
   "cell_type": "code",
   "execution_count": 19,
   "metadata": {
    "colab": {
     "base_uri": "https://localhost:8080/"
    },
    "id": "MqyTL1CPjnl0",
    "outputId": "c2401060-5d57-4e4d-f6be-1c5629a7d863"
   },
   "outputs": [
    {
     "data": {
      "text/plain": [
       "array([[ 4, 10, 18],\n",
       "       [14,  6, 36],\n",
       "       [50, 30, 84]])"
      ]
     },
     "execution_count": 19,
     "metadata": {},
     "output_type": "execute_result"
    }
   ],
   "source": [
    "c1=a*b ## This is not  matrix multiplication but element-wise multiplication \n",
    "c1"
   ]
  },
  {
   "cell_type": "code",
   "execution_count": 20,
   "metadata": {
    "colab": {
     "base_uri": "https://localhost:8080/"
    },
    "id": "xhhiIL01jnl2",
    "outputId": "1ad91374-b6d8-41c4-da3c-821eb0401307"
   },
   "outputs": [
    {
     "data": {
      "text/plain": [
       "array([[ 5,  7,  9],\n",
       "       [ 9,  5, 13],\n",
       "       [15, 11, 19]])"
      ]
     },
     "execution_count": 20,
     "metadata": {},
     "output_type": "execute_result"
    }
   ],
   "source": [
    "c=a+b # Matrix addition\n",
    "c"
   ]
  },
  {
   "cell_type": "code",
   "execution_count": 21,
   "metadata": {
    "colab": {
     "base_uri": "https://localhost:8080/"
    },
    "id": "Y5NvEaH0jnl3",
    "outputId": "d83b5f4e-969b-4099-abb2-f1c3608d3d8c"
   },
   "outputs": [
    {
     "data": {
      "text/plain": [
       "array([[1.        , 0.5       , 0.33333333],\n",
       "       [0.5       , 0.33333333, 0.25      ],\n",
       "       [0.2       , 0.16666667, 0.14285714]])"
      ]
     },
     "execution_count": 21,
     "metadata": {},
     "output_type": "execute_result"
    }
   ],
   "source": [
    "1/a #This is not matrix inversiion, it is an element-wise inversion"
   ]
  },
  {
   "cell_type": "code",
   "execution_count": 22,
   "metadata": {
    "colab": {
     "base_uri": "https://localhost:8080/"
    },
    "id": "zSVZZzp9jnl3",
    "outputId": "eb4d3385-3d8d-44e0-a622-2a1c4eac2639"
   },
   "outputs": [
    {
     "data": {
      "text/plain": [
       "array([[False, False, False],\n",
       "       [False,  True, False],\n",
       "       [False,  True, False]])"
      ]
     },
     "execution_count": 22,
     "metadata": {},
     "output_type": "execute_result"
    }
   ],
   "source": [
    "a>b # element-Wise comparison"
   ]
  },
  {
   "cell_type": "markdown",
   "metadata": {
    "id": "rs2S2r-Vjnl5"
   },
   "source": [
    "### Matrix Multiplication"
   ]
  },
  {
   "cell_type": "code",
   "execution_count": 23,
   "metadata": {
    "colab": {
     "base_uri": "https://localhost:8080/"
    },
    "id": "PlVJogQcjnl6",
    "outputId": "72803222-0169-4d98-d2f3-19c2d56f1e0b"
   },
   "outputs": [
    {
     "data": {
      "text/plain": [
       "array([[ 48,  24,  60],\n",
       "       [ 69,  36,  87],\n",
       "       [132,  72, 168]])"
      ]
     },
     "execution_count": 23,
     "metadata": {},
     "output_type": "execute_result"
    }
   ],
   "source": [
    "c2=np.dot(a,b) ## This is matrix multiplication between two array a & b (defined above).\n",
    "c2"
   ]
  },
  {
   "cell_type": "code",
   "execution_count": 24,
   "metadata": {
    "colab": {
     "base_uri": "https://localhost:8080/"
    },
    "id": "wMZMkspMjnl8",
    "outputId": "b8ae8cab-963c-4bda-fef4-cf274106db3d"
   },
   "outputs": [
    {
     "data": {
      "text/plain": [
       "array([[ 48,  24,  60],\n",
       "       [ 69,  36,  87],\n",
       "       [132,  72, 168]])"
      ]
     },
     "execution_count": 24,
     "metadata": {},
     "output_type": "execute_result"
    }
   ],
   "source": [
    "c3=a.dot(b)# This is also matrix multiplication\n",
    "c3"
   ]
  },
  {
   "cell_type": "markdown",
   "metadata": {
    "id": "ELsuaP4Ljnl-"
   },
   "source": [
    "![Matrix%20Multiplication.PNG](attachment:Matrix%20Multiplication.PNG)"
   ]
  },
  {
   "cell_type": "markdown",
   "metadata": {
    "id": "nQf3v2GTjnmY"
   },
   "source": [
    "### Matrix Divison"
   ]
  },
  {
   "cell_type": "code",
   "execution_count": 25,
   "metadata": {
    "colab": {
     "base_uri": "https://localhost:8080/"
    },
    "id": "Cw0V0Lrujnma",
    "outputId": "dc3fd0ad-f2bc-4900-b4bf-fd2882f4daf4"
   },
   "outputs": [
    {
     "name": "stdout",
     "output_type": "stream",
     "text": [
      "[[ 1  2  3]\n",
      " [ 4 -3  6]\n",
      " [ 7  8  0]] \n",
      "\n",
      " [[1 1 1]\n",
      " [2 2 2]\n",
      " [3 3 3]] \n",
      "\n",
      "Matrix Division (M/N) :\n",
      "\n",
      " [[ 1.          2.          3.        ]\n",
      " [ 2.         -1.5         3.        ]\n",
      " [ 2.33333333  2.66666667  0.        ]]\n",
      " Matrix Division (M/N)  \n",
      "\n",
      "  [[ 1.          2.          3.        ]\n",
      " [ 2.         -1.5         3.        ]\n",
      " [ 2.33333333  2.66666667  0.        ]]\n"
     ]
    }
   ],
   "source": [
    "A = np.array([[1,2,3],[4,-3,6],[7,8,0]])\n",
    "B = np.array([[1,1,1],[2,2,2],[3,3,3]])\n",
    "print(A,'\\n\\n',B,'\\n')\n",
    "print( 'Matrix Division (M/N) :\\n\\n' , A/B)\n",
    "# OR\n",
    "print(' Matrix Division (M/N)  \\n\\n ', np.divide(A,B)) \n",
    "## Basically A is multiplied with B inversed.Only valid if B inversed is defined."
   ]
  },
  {
   "cell_type": "markdown",
   "metadata": {
    "id": "_MTrs-AZjnmd"
   },
   "source": [
    "### Linear Algebra Library\n",
    "* Few more on this topic at the last of this notebook."
   ]
  },
  {
   "cell_type": "code",
   "execution_count": 26,
   "metadata": {
    "id": "PcIgWp6Fjnmg"
   },
   "outputs": [],
   "source": [
    "from numpy.linalg import inv,det\n",
    "## This is linear algebra library of numpy which contains many linear algebra  functions and operations. \n",
    "## We call it for inverse and determinant calculation of matrix"
   ]
  },
  {
   "cell_type": "code",
   "execution_count": 27,
   "metadata": {
    "colab": {
     "base_uri": "https://localhost:8080/"
    },
    "id": "u-uW-kXZjnmm",
    "outputId": "b86ba124-980c-4ab8-85eb-06ea82b60954"
   },
   "outputs": [
    {
     "data": {
      "text/plain": [
       "array([[2, 3],\n",
       "       [5, 9]])"
      ]
     },
     "execution_count": 27,
     "metadata": {},
     "output_type": "execute_result"
    }
   ],
   "source": [
    "a=np.array([[2,3],[5,9]])\n",
    "a"
   ]
  },
  {
   "cell_type": "code",
   "execution_count": 28,
   "metadata": {
    "colab": {
     "base_uri": "https://localhost:8080/"
    },
    "id": "eITlyK0Fjnmp",
    "outputId": "18188210-e7b5-4918-e72a-846fe5b4dc9e"
   },
   "outputs": [
    {
     "data": {
      "text/plain": [
       "3.0000000000000004"
      ]
     },
     "execution_count": 28,
     "metadata": {},
     "output_type": "execute_result"
    }
   ],
   "source": [
    "det(a)  # Determinant is not equal to zero thus inverse is defined"
   ]
  },
  {
   "cell_type": "code",
   "execution_count": 29,
   "metadata": {
    "colab": {
     "base_uri": "https://localhost:8080/"
    },
    "id": "K2zjnzlijnmp",
    "outputId": "b7447627-8f2b-4b59-d4b8-20ce34590a84"
   },
   "outputs": [
    {
     "data": {
      "text/plain": [
       "array([[ 3.        , -1.        ],\n",
       "       [-1.66666667,  0.66666667]])"
      ]
     },
     "execution_count": 29,
     "metadata": {},
     "output_type": "execute_result"
    }
   ],
   "source": [
    "b=inv(a) ##  b contain inverse of matrix a\n",
    "b"
   ]
  },
  {
   "cell_type": "code",
   "execution_count": 30,
   "metadata": {
    "colab": {
     "base_uri": "https://localhost:8080/"
    },
    "id": "94rGqYf9jnmq",
    "outputId": "a99032a5-0c27-455d-be5b-19418cd38530"
   },
   "outputs": [
    {
     "data": {
      "text/plain": [
       "array([[ 1.00000000e+00, -1.11022302e-16],\n",
       "       [ 1.33226763e-15,  1.00000000e+00]])"
      ]
     },
     "execution_count": 30,
     "metadata": {},
     "output_type": "execute_result"
    }
   ],
   "source": [
    "np.dot(a,b) # Multiplying a matrix with its inverse produce identity matrix ,like:a*a^-(1)=1"
   ]
  },
  {
   "cell_type": "markdown",
   "metadata": {
    "id": "EqnwJF7Qjnms"
   },
   "source": [
    "### Commonly used numpy.linalg function\n",
    "![numpy_linalg_function.PNG](attachment:numpy_linalg_function.PNG)\n",
    "![numpy_linalg_function1.PNG](attachment:numpy_linalg_function1.PNG)"
   ]
  },
  {
   "cell_type": "markdown",
   "metadata": {
    "id": "-2i0ET5ujnmu"
   },
   "source": [
    "###  Some standards array creation funcitons"
   ]
  },
  {
   "cell_type": "markdown",
   "metadata": {
    "id": "9AfiBDivjnmv"
   },
   "source": [
    "*  np.zeros(10)\n",
    "* np.zeros((3, 6))  --> note :> Tuple is passed\n",
    "* np.ones(4)\n",
    "* np.ones((3,4))\n",
    "* np.identity(3)      --> Produces Identity matrix of 3 by 3\n",
    "* np.eye(3)             --> Produces Identity matrix of 3 by 3\n",
    "* np.full((2,3),7)     --> It makes array of shape 2 by 3 having each element is as 7.\n",
    "* np.diag([22,33,44]) --> It makes square matrix with diagnal filled with value passed in list and all other elements remain 0."
   ]
  },
  {
   "cell_type": "code",
   "execution_count": 31,
   "metadata": {
    "colab": {
     "base_uri": "https://localhost:8080/"
    },
    "id": "cpkaHMgHjnmx",
    "outputId": "fcfa48f2-3742-4fc6-fb63-1181fdc10d00"
   },
   "outputs": [
    {
     "data": {
      "text/plain": [
       "array([[0., 0., 0., 0.],\n",
       "       [0., 0., 0., 0.],\n",
       "       [0., 0., 0., 0.]])"
      ]
     },
     "execution_count": 31,
     "metadata": {},
     "output_type": "execute_result"
    }
   ],
   "source": [
    "np.zeros((3,4))"
   ]
  },
  {
   "cell_type": "code",
   "execution_count": 32,
   "metadata": {
    "colab": {
     "base_uri": "https://localhost:8080/"
    },
    "id": "w6SGFeAbjnmz",
    "outputId": "c69231ce-a5c4-4350-bb6c-d9e83080925f"
   },
   "outputs": [
    {
     "data": {
      "text/plain": [
       "array([[1., 1.],\n",
       "       [1., 1.]])"
      ]
     },
     "execution_count": 32,
     "metadata": {},
     "output_type": "execute_result"
    }
   ],
   "source": [
    "np.ones((2,2))"
   ]
  },
  {
   "cell_type": "code",
   "execution_count": 33,
   "metadata": {
    "colab": {
     "base_uri": "https://localhost:8080/"
    },
    "id": "CIrA9ZFojnm1",
    "outputId": "53875b31-06be-4320-d099-f955b8456e3c"
   },
   "outputs": [
    {
     "data": {
      "text/plain": [
       "array([[7, 7, 7],\n",
       "       [7, 7, 7]])"
      ]
     },
     "execution_count": 33,
     "metadata": {},
     "output_type": "execute_result"
    }
   ],
   "source": [
    "np.full((2,3),7)  # It makes array of shape 2 by 3 having each element is as 7."
   ]
  },
  {
   "cell_type": "code",
   "execution_count": 34,
   "metadata": {
    "colab": {
     "base_uri": "https://localhost:8080/"
    },
    "id": "mRRWz9lfjnm2",
    "outputId": "05d2ff11-fcf6-428b-9168-b2f82f5a3606"
   },
   "outputs": [
    {
     "data": {
      "text/plain": [
       "array([[1., 0., 0., 0.],\n",
       "       [0., 1., 0., 0.],\n",
       "       [0., 0., 1., 0.],\n",
       "       [0., 0., 0., 1.]])"
      ]
     },
     "execution_count": 34,
     "metadata": {},
     "output_type": "execute_result"
    }
   ],
   "source": [
    "np.eye(4)"
   ]
  },
  {
   "cell_type": "code",
   "execution_count": 35,
   "metadata": {
    "colab": {
     "base_uri": "https://localhost:8080/"
    },
    "id": "dJ6njdVhjnm4",
    "outputId": "29fadfed-1862-4877-95ae-353de771f812"
   },
   "outputs": [
    {
     "data": {
      "text/plain": [
       "array([[22,  0,  0],\n",
       "       [ 0, 33,  0],\n",
       "       [ 0,  0, 44]])"
      ]
     },
     "execution_count": 35,
     "metadata": {},
     "output_type": "execute_result"
    }
   ],
   "source": [
    "np.diag([22,33,44])"
   ]
  },
  {
   "cell_type": "code",
   "execution_count": 36,
   "metadata": {
    "colab": {
     "base_uri": "https://localhost:8080/"
    },
    "id": "iziYGh5Djnm5",
    "outputId": "f7365d95-9054-4e06-d2f7-9b7a7131fa63"
   },
   "outputs": [
    {
     "data": {
      "text/plain": [
       "array([[1, 2, 3],\n",
       "       [2, 3, 4],\n",
       "       [5, 6, 7]])"
      ]
     },
     "execution_count": 36,
     "metadata": {},
     "output_type": "execute_result"
    }
   ],
   "source": [
    "a=np.array([[1,2,3],[2,3,4],[5,6,7]])\n",
    "a"
   ]
  },
  {
   "cell_type": "code",
   "execution_count": 37,
   "metadata": {
    "colab": {
     "base_uri": "https://localhost:8080/"
    },
    "id": "TF-_r1dEjnm6",
    "outputId": "1be652e5-6f68-47e6-8300-1457519dc396"
   },
   "outputs": [
    {
     "data": {
      "text/plain": [
       "array([1, 3, 7])"
      ]
     },
     "execution_count": 37,
     "metadata": {},
     "output_type": "execute_result"
    }
   ],
   "source": [
    "np.diag(a)  # If we pass square matrix inside diag function, it gives its diagonal elements as 1 D Array."
   ]
  },
  {
   "cell_type": "markdown",
   "metadata": {
    "id": "RLSJXORUjnm8"
   },
   "source": [
    "### Concept of Broadcasting"
   ]
  },
  {
   "cell_type": "code",
   "execution_count": 38,
   "metadata": {
    "colab": {
     "base_uri": "https://localhost:8080/"
    },
    "id": "-fufmyJcjnm9",
    "outputId": "a2b73ef7-96e9-4830-d8fe-e579e8755045"
   },
   "outputs": [
    {
     "name": "stdout",
     "output_type": "stream",
     "text": [
      "[[1 2 3]\n",
      " [4 5 6]]\n"
     ]
    },
    {
     "data": {
      "text/plain": [
       "(2, 3)"
      ]
     },
     "execution_count": 38,
     "metadata": {},
     "output_type": "execute_result"
    }
   ],
   "source": [
    "M1=np.array([[1,2,3],[4,5,6]])\n",
    "print(M1)\n",
    "M1.shape"
   ]
  },
  {
   "cell_type": "code",
   "execution_count": 39,
   "metadata": {
    "colab": {
     "base_uri": "https://localhost:8080/"
    },
    "id": "jipOGRnYjnm_",
    "outputId": "65c84433-f308-4703-dc96-4a8b58dc890d"
   },
   "outputs": [
    {
     "name": "stdout",
     "output_type": "stream",
     "text": [
      "[[8]\n",
      " [9]]\n"
     ]
    },
    {
     "data": {
      "text/plain": [
       "(2, 1)"
      ]
     },
     "execution_count": 39,
     "metadata": {},
     "output_type": "execute_result"
    }
   ],
   "source": [
    "M2=np.array([[8],[9]])\n",
    "print(M2)\n",
    "M2.shape"
   ]
  },
  {
   "cell_type": "code",
   "execution_count": 40,
   "metadata": {
    "colab": {
     "base_uri": "https://localhost:8080/"
    },
    "id": "z5Reuee7jnnC",
    "outputId": "30e308dc-f1c3-46d1-d4b2-2748db793d37"
   },
   "outputs": [
    {
     "data": {
      "text/plain": [
       "array([[ 9, 10, 11],\n",
       "       [13, 14, 15]])"
      ]
     },
     "execution_count": 40,
     "metadata": {},
     "output_type": "execute_result"
    }
   ],
   "source": [
    "### Mathematically M1 and M2 can not be added as shape doesn't match ,but in numpy they can be added.\n",
    "### M2 has same number of rows as that of M1. Its column gets repicated so that its shape becomes equal to M1.\n",
    "### And then, both added.see result below\n",
    "M1+M2\n",
    "## This process of replication is broadcasting actually M2 gets broadcasted along the columns.\n",
    "## We will see result after replication and sum operation, broadcasted M2 is not visible,it is hidden step."
   ]
  },
  {
   "cell_type": "code",
   "execution_count": 41,
   "metadata": {
    "colab": {
     "base_uri": "https://localhost:8080/"
    },
    "id": "p4Q00pMNjnnI",
    "outputId": "f48bf290-2bb7-4290-a2c8-69e00057c80f"
   },
   "outputs": [
    {
     "name": "stdout",
     "output_type": "stream",
     "text": [
      "[[10 20 30]]\n"
     ]
    },
    {
     "data": {
      "text/plain": [
       "(1, 3)"
      ]
     },
     "execution_count": 41,
     "metadata": {},
     "output_type": "execute_result"
    }
   ],
   "source": [
    "# Making another array M3\n",
    "M3=np.array([[10,20,30]])\n",
    "print(M3)\n",
    "M3.shape"
   ]
  },
  {
   "cell_type": "code",
   "execution_count": 42,
   "metadata": {
    "colab": {
     "base_uri": "https://localhost:8080/"
    },
    "id": "v7Kj8dv0jnnJ",
    "outputId": "804afded-4cc2-4a12-efba-d7ce9538c2cb"
   },
   "outputs": [
    {
     "data": {
      "text/plain": [
       "array([[11, 22, 33],\n",
       "       [14, 25, 36]])"
      ]
     },
     "execution_count": 42,
     "metadata": {},
     "output_type": "execute_result"
    }
   ],
   "source": [
    "### Mathematically M1 and M3 can not be added as shape doesn't match ,but in numpy they can be added.\n",
    "### M3 has same number of columnss as that of M1. Its row gets repicated so that its shape becomes equal to M1.\n",
    "### And then, both added.see result below\n",
    "M1+M3\n",
    "## This process of replication is broadcasting actually M3 gets broadcasted down the rows.\n",
    "## We will see result after replication and sum operation, broadcasted M3 is not visible,it is hidden step."
   ]
  },
  {
   "cell_type": "markdown",
   "metadata": {
    "id": "ulpmhSJjjnnK"
   },
   "source": [
    "### Concept of Axis\n",
    "##### Row and Column wise operation"
   ]
  },
  {
   "cell_type": "code",
   "execution_count": 43,
   "metadata": {
    "colab": {
     "base_uri": "https://localhost:8080/"
    },
    "id": "4iYbzT6ejnnL",
    "outputId": "a165beac-f94b-4f3b-c418-dde877b02564"
   },
   "outputs": [
    {
     "data": {
      "text/plain": [
       "array([ 1,  2,  3,  4,  5,  6,  7,  8,  9, 10, 11, 12])"
      ]
     },
     "execution_count": 43,
     "metadata": {},
     "output_type": "execute_result"
    }
   ],
   "source": [
    "a=np.arange(1,13) ## Making 1D array.\n",
    "a"
   ]
  },
  {
   "cell_type": "code",
   "execution_count": 44,
   "metadata": {
    "colab": {
     "base_uri": "https://localhost:8080/"
    },
    "id": "8au0VkW3jnnM",
    "outputId": "98af84e1-9e5c-4f86-c9c4-3cdd32657bdc"
   },
   "outputs": [
    {
     "data": {
      "text/plain": [
       "array([[ 1,  2,  3],\n",
       "       [ 4,  5,  6],\n",
       "       [ 7,  8,  9],\n",
       "       [10, 11, 12]])"
      ]
     },
     "execution_count": 44,
     "metadata": {},
     "output_type": "execute_result"
    }
   ],
   "source": [
    "a.reshape(4,3) # Reshaping it"
   ]
  },
  {
   "cell_type": "code",
   "execution_count": 45,
   "metadata": {
    "colab": {
     "base_uri": "https://localhost:8080/"
    },
    "id": "JSrwiDm4jnnN",
    "outputId": "b647e7b9-d75d-40d4-86aa-c9e29a06848d"
   },
   "outputs": [
    {
     "data": {
      "text/plain": [
       "array([[ 1,  2,  3],\n",
       "       [ 4,  5,  6],\n",
       "       [ 7,  8,  9],\n",
       "       [10, 11, 12]])"
      ]
     },
     "execution_count": 45,
     "metadata": {},
     "output_type": "execute_result"
    }
   ],
   "source": [
    "a1=np.arange(1,13).reshape(4,3) # above two operation can be done in one shot.Storing result into a1.\n",
    "a1"
   ]
  },
  {
   "cell_type": "code",
   "execution_count": 46,
   "metadata": {
    "colab": {
     "base_uri": "https://localhost:8080/"
    },
    "id": "Xul5ngZyjnnO",
    "outputId": "f55c925a-2216-4a53-d2b7-0077357d2acd"
   },
   "outputs": [
    {
     "data": {
      "text/plain": [
       "78"
      ]
     },
     "execution_count": 46,
     "metadata": {},
     "output_type": "execute_result"
    }
   ],
   "source": [
    "a1.sum()"
   ]
  },
  {
   "cell_type": "code",
   "execution_count": 47,
   "metadata": {
    "colab": {
     "base_uri": "https://localhost:8080/"
    },
    "id": "kJ1yR0o_jnnP",
    "outputId": "f66b2351-7e38-4bf5-dbdd-ac7a1cc363c9"
   },
   "outputs": [
    {
     "data": {
      "text/plain": [
       "78"
      ]
     },
     "execution_count": 47,
     "metadata": {},
     "output_type": "execute_result"
    }
   ],
   "source": [
    "np.sum(a1)"
   ]
  },
  {
   "cell_type": "markdown",
   "metadata": {
    "id": "t0T1dJfPjnnQ"
   },
   "source": [
    "#### In 2D array axis=0 means, down the rows from top to bottom and axis=1 means along the columns from left to right. Try running codes as written below.\n"
   ]
  },
  {
   "cell_type": "code",
   "execution_count": 48,
   "metadata": {
    "colab": {
     "base_uri": "https://localhost:8080/"
    },
    "id": "xF9LKvUYjnnQ",
    "outputId": "cde9a6d6-209e-4617-8906-0d9226675bea"
   },
   "outputs": [
    {
     "data": {
      "text/plain": [
       "array([22, 26, 30])"
      ]
     },
     "execution_count": 48,
     "metadata": {},
     "output_type": "execute_result"
    }
   ],
   "source": [
    "np.sum(a1,axis=0)"
   ]
  },
  {
   "cell_type": "code",
   "execution_count": 49,
   "metadata": {
    "colab": {
     "base_uri": "https://localhost:8080/"
    },
    "id": "XyMHjYwGjnnR",
    "outputId": "e9529028-107a-42df-84df-e2f41cb433f8"
   },
   "outputs": [
    {
     "data": {
      "text/plain": [
       "array([22, 26, 30])"
      ]
     },
     "execution_count": 49,
     "metadata": {},
     "output_type": "execute_result"
    }
   ],
   "source": [
    "a1.sum(axis=0) # Above same operation can be done through this way as well."
   ]
  },
  {
   "cell_type": "code",
   "execution_count": 50,
   "metadata": {
    "colab": {
     "base_uri": "https://localhost:8080/"
    },
    "id": "MxEkLEaljnnS",
    "outputId": "8d96daa8-934f-47b8-fac2-3a57f78fe952"
   },
   "outputs": [
    {
     "data": {
      "text/plain": [
       "array([22, 26, 30])"
      ]
     },
     "execution_count": 50,
     "metadata": {},
     "output_type": "execute_result"
    }
   ],
   "source": [
    "a1.sum(0)# This is also possible."
   ]
  },
  {
   "cell_type": "code",
   "execution_count": 51,
   "metadata": {
    "colab": {
     "base_uri": "https://localhost:8080/"
    },
    "id": "fCmx6WJgjnnT",
    "outputId": "28e831d8-5a21-4bd9-ac05-96fde9aca59c"
   },
   "outputs": [
    {
     "data": {
      "text/plain": [
       "array([ 6, 15, 24, 33])"
      ]
     },
     "execution_count": 51,
     "metadata": {},
     "output_type": "execute_result"
    }
   ],
   "source": [
    "np.sum(a1,axis=1)"
   ]
  },
  {
   "cell_type": "code",
   "execution_count": 52,
   "metadata": {
    "colab": {
     "base_uri": "https://localhost:8080/"
    },
    "id": "M5LW_GV6jnnW",
    "outputId": "776a2330-e59c-49fe-e1e2-69197d8c1c22"
   },
   "outputs": [
    {
     "data": {
      "text/plain": [
       "array([ 6, 15, 24, 33])"
      ]
     },
     "execution_count": 52,
     "metadata": {},
     "output_type": "execute_result"
    }
   ],
   "source": [
    "a1.sum(axis=1) # Above same  operation can be done through this way as well."
   ]
  },
  {
   "cell_type": "code",
   "execution_count": 53,
   "metadata": {
    "colab": {
     "base_uri": "https://localhost:8080/"
    },
    "id": "Zu71y_vbjnnY",
    "outputId": "d92ec8db-4c4b-4c09-ca47-287b339d1747"
   },
   "outputs": [
    {
     "data": {
      "text/plain": [
       "array([ 6, 15, 24, 33])"
      ]
     },
     "execution_count": 53,
     "metadata": {},
     "output_type": "execute_result"
    }
   ],
   "source": [
    "a1.sum(1) # This is also possible."
   ]
  },
  {
   "cell_type": "markdown",
   "metadata": {
    "id": "s-DUkLi8jnna"
   },
   "source": [
    "#### Many other staticatical Methods, you can try: np.std , np.var , np.cumsum , np.cumpod , np.min , np.max , np.argmin , np.argmax , ..."
   ]
  },
  {
   "cell_type": "code",
   "execution_count": 54,
   "metadata": {
    "colab": {
     "base_uri": "https://localhost:8080/"
    },
    "id": "CPFde19Cjnna",
    "outputId": "9fed40c5-9d2e-48f0-b91e-6c19cc474902"
   },
   "outputs": [
    {
     "data": {
      "text/plain": [
       "0"
      ]
     },
     "execution_count": 54,
     "metadata": {},
     "output_type": "execute_result"
    }
   ],
   "source": [
    "np.argmin(np.array([1,20,30,5,6,7,8,])) # Gives index of min valued element of array.\n",
    "## Note index starts from zero, thus value '1' of array has index of '0'."
   ]
  },
  {
   "cell_type": "code",
   "execution_count": 55,
   "metadata": {
    "colab": {
     "base_uri": "https://localhost:8080/"
    },
    "id": "kO0g09W1jnnb",
    "outputId": "d8e2c3b3-3734-4e6d-aed8-6733dcbbe069"
   },
   "outputs": [
    {
     "data": {
      "text/plain": [
       "2"
      ]
     },
     "execution_count": 55,
     "metadata": {},
     "output_type": "execute_result"
    }
   ],
   "source": [
    "np.argmax(np.array([1,20,30,5,6,7,8,]))"
   ]
  },
  {
   "cell_type": "markdown",
   "metadata": {
    "id": "u51OGcyPjnnd"
   },
   "source": [
    "### Stacking of arrays\n",
    "* np.hstack\n",
    "* np.vstack\n",
    "* np.concatenate\n",
    "\n",
    "###### We will learn all above  3 concepts making following three matrix, v1, v2 and v3.\n"
   ]
  },
  {
   "cell_type": "code",
   "execution_count": 56,
   "metadata": {
    "colab": {
     "base_uri": "https://localhost:8080/"
    },
    "id": "nJCv3ROtjnnf",
    "outputId": "c4226bf4-956b-4bc9-871e-ac9a3b3f31cb"
   },
   "outputs": [
    {
     "name": "stdout",
     "output_type": "stream",
     "text": [
      "[[1 2 3]\n",
      " [4 5 6]\n",
      " [7 8 9]] \n",
      "\n"
     ]
    },
    {
     "data": {
      "text/plain": [
       "(3, 3)"
      ]
     },
     "execution_count": 56,
     "metadata": {},
     "output_type": "execute_result"
    }
   ],
   "source": [
    "v1=np.array([[1,2,3],[4,5,6],[7,8,9]])\n",
    "print(v1,'\\n')\n",
    "v1.shape"
   ]
  },
  {
   "cell_type": "code",
   "execution_count": 57,
   "metadata": {
    "colab": {
     "base_uri": "https://localhost:8080/"
    },
    "id": "FsGSXTAdjnng",
    "outputId": "80a9a15a-178b-43d5-f259-a2f681b3b158"
   },
   "outputs": [
    {
     "name": "stdout",
     "output_type": "stream",
     "text": [
      "[[10]\n",
      " [20]\n",
      " [30]] \n",
      "\n"
     ]
    },
    {
     "data": {
      "text/plain": [
       "(3, 1)"
      ]
     },
     "execution_count": 57,
     "metadata": {},
     "output_type": "execute_result"
    }
   ],
   "source": [
    "v2=np.array([[10],[20],[30]])\n",
    "print(v2,'\\n')\n",
    "v2.shape"
   ]
  },
  {
   "cell_type": "code",
   "execution_count": 58,
   "metadata": {
    "colab": {
     "base_uri": "https://localhost:8080/"
    },
    "id": "bJds4Tfujnnh",
    "outputId": "a9983b37-992e-4950-df41-1b1a9578f9e9"
   },
   "outputs": [
    {
     "name": "stdout",
     "output_type": "stream",
     "text": [
      "[[40 50 60]] \n",
      "\n"
     ]
    },
    {
     "data": {
      "text/plain": [
       "(1, 3)"
      ]
     },
     "execution_count": 58,
     "metadata": {},
     "output_type": "execute_result"
    }
   ],
   "source": [
    "v3=np.array([[40,50,60]])\n",
    "print(v3,'\\n')\n",
    "v3.shape"
   ]
  },
  {
   "cell_type": "code",
   "execution_count": 59,
   "metadata": {
    "colab": {
     "base_uri": "https://localhost:8080/"
    },
    "id": "Gb2kAhZdjnnj",
    "outputId": "6986f26e-0d25-4ded-be7a-710c930020e7"
   },
   "outputs": [
    {
     "data": {
      "text/plain": [
       "array([[ 1,  2,  3, 10],\n",
       "       [ 4,  5,  6, 20],\n",
       "       [ 7,  8,  9, 30]])"
      ]
     },
     "execution_count": 59,
     "metadata": {},
     "output_type": "execute_result"
    }
   ],
   "source": [
    "np.hstack([v1,v2]) # Notice:v1 and v2 have same number of rows.\n",
    "# Thus v2 is stacked after v1,this is horizontal stacking.v2 can also be stacked before v1,check yourself-->np.hstack([v2,v1])"
   ]
  },
  {
   "cell_type": "code",
   "execution_count": 60,
   "metadata": {
    "colab": {
     "base_uri": "https://localhost:8080/"
    },
    "id": "L6I9k5Ycjnnj",
    "outputId": "7306690c-80e9-4262-db94-8beece41fc7b"
   },
   "outputs": [
    {
     "data": {
      "text/plain": [
       "array([[ 1,  2,  3],\n",
       "       [ 4,  5,  6],\n",
       "       [ 7,  8,  9],\n",
       "       [40, 50, 60]])"
      ]
     },
     "execution_count": 60,
     "metadata": {},
     "output_type": "execute_result"
    }
   ],
   "source": [
    "np.vstack([v1,v3]) # Notice v1 and v3 have same number of columns\n",
    "# Thus v3 is stacked below v1,this is vertical stacking.v3 can also be stacked before v1,check yourself-->np.vstack([v3,v1])"
   ]
  },
  {
   "cell_type": "markdown",
   "metadata": {
    "id": "YiAL0QTzjnno"
   },
   "source": [
    "##### Above two operations  can be done through np.concatenate as below, notice  value of axis."
   ]
  },
  {
   "cell_type": "code",
   "execution_count": 61,
   "metadata": {
    "colab": {
     "base_uri": "https://localhost:8080/"
    },
    "id": "JvSoEwMUjnnq",
    "outputId": "a8e9ef76-818e-41ee-c47d-bfb90c3bb18b"
   },
   "outputs": [
    {
     "data": {
      "text/plain": [
       "array([[ 1,  2,  3, 10],\n",
       "       [ 4,  5,  6, 20],\n",
       "       [ 7,  8,  9, 30]])"
      ]
     },
     "execution_count": 61,
     "metadata": {},
     "output_type": "execute_result"
    }
   ],
   "source": [
    "np.concatenate([v1,v2],axis=1) # v2 is added as a column, thus axis=1 is passed."
   ]
  },
  {
   "cell_type": "code",
   "execution_count": 62,
   "metadata": {
    "colab": {
     "base_uri": "https://localhost:8080/"
    },
    "id": "H0a7jzTTjnns",
    "outputId": "65305b16-1d2c-471c-9242-9fd3f32ecb82"
   },
   "outputs": [
    {
     "data": {
      "text/plain": [
       "array([[ 1,  2,  3],\n",
       "       [ 4,  5,  6],\n",
       "       [ 7,  8,  9],\n",
       "       [40, 50, 60]])"
      ]
     },
     "execution_count": 62,
     "metadata": {},
     "output_type": "execute_result"
    }
   ],
   "source": [
    "np.concatenate([v1,v3],axis=0) # v3 is added as a row, thus axis=0 is passed."
   ]
  },
  {
   "cell_type": "markdown",
   "metadata": {
    "id": "i3gUZ0P-jnnt"
   },
   "source": [
    "### Data Types for ndarrays"
   ]
  },
  {
   "cell_type": "code",
   "execution_count": 63,
   "metadata": {
    "colab": {
     "base_uri": "https://localhost:8080/"
    },
    "id": "yMWY9jh7jnnv",
    "outputId": "9fd75c85-9701-4481-946b-792e8fb735dd"
   },
   "outputs": [
    {
     "name": "stdout",
     "output_type": "stream",
     "text": [
      "float64\n",
      "int32\n"
     ]
    }
   ],
   "source": [
    "arr1 = np.array([1, 2, 3], dtype=np.float64) # We have defined data type a float 64 for this matrix\n",
    "arr2 = np.array([1, 2, 3], dtype=np.int32)  # We have defined data type a int32 for this matrix\n",
    "print(arr1.dtype)\n",
    "print(arr2.dtype) "
   ]
  },
  {
   "cell_type": "markdown",
   "metadata": {
    "id": "whc-ziOAjnnx"
   },
   "source": [
    "#### Integer and float data types  in numpy.\n"
   ]
  },
  {
   "cell_type": "code",
   "execution_count": 64,
   "metadata": {
    "colab": {
     "base_uri": "https://localhost:8080/"
    },
    "id": "kuhWAWxtjnnz",
    "outputId": "12930ad2-793f-4b84-db2a-84c04b8ac95b"
   },
   "outputs": [
    {
     "name": "stdout",
     "output_type": "stream",
     "text": [
      "[1 2 3 4 5]\n",
      "int64\n",
      "[1. 2. 3. 4. 5.]\n"
     ]
    },
    {
     "data": {
      "text/plain": [
       "dtype('float64')"
      ]
     },
     "execution_count": 64,
     "metadata": {},
     "output_type": "execute_result"
    }
   ],
   "source": [
    "a = np.array([1, 2, 3, 4, 5]) ## type of this array is by default integer\n",
    "print(a)\n",
    "print(a.dtype)\n",
    "float_a = a.astype(np.float64) # type casting of array 'a' into float by using  astype() and storing to a variable-->floa_a \n",
    "print(float_a) ## we can see dot added in every element of array\n",
    "float_a.dtype"
   ]
  },
  {
   "cell_type": "code",
   "execution_count": 65,
   "metadata": {
    "colab": {
     "base_uri": "https://localhost:8080/"
    },
    "id": "HmWNsVvVjnnz",
    "outputId": "ccdbf901-5fe5-4317-bcde-c35f6ec21095"
   },
   "outputs": [
    {
     "name": "stdout",
     "output_type": "stream",
     "text": [
      "[ 6.9 10.2 -0.6  0.5 12.9 10.1]\n"
     ]
    },
    {
     "data": {
      "text/plain": [
       "array([ 6, 10,  0,  0, 12, 10], dtype=int32)"
      ]
     },
     "execution_count": 65,
     "metadata": {},
     "output_type": "execute_result"
    }
   ],
   "source": [
    "a1 = np.array([6.9, 10.2, -0.6, 0.5, 12.9, 10.1])\n",
    "print(a1)\n",
    "a1.astype(np.int32)# this is just a display a1 remains unchanged. We have to assign it into a new variable to store the chage\n",
    "## Converting float into integer will truncate the value after decimal point. "
   ]
  },
  {
   "cell_type": "markdown",
   "metadata": {
    "id": "WgJftZZVjnn4"
   },
   "source": [
    "##### There are many other data type, like : bool(True, False), object(any python object), complex, string_, unicode. Explore on your own."
   ]
  },
  {
   "cell_type": "code",
   "execution_count": 66,
   "metadata": {
    "colab": {
     "base_uri": "https://localhost:8080/"
    },
    "id": "UBBNhJ9ajnn5",
    "outputId": "38bba8bf-4562-4bcc-8839-2b0084e70fb5"
   },
   "outputs": [
    {
     "name": "stdout",
     "output_type": "stream",
     "text": [
      "[b'1.25' b'-9.6' b'42']\n"
     ]
    },
    {
     "data": {
      "text/plain": [
       "array([ 1.25, -9.6 , 42.  ])"
      ]
     },
     "execution_count": 66,
     "metadata": {},
     "output_type": "execute_result"
    }
   ],
   "source": [
    "ar_s = np.array(['1.25', '-9.6', '42'], dtype=np.string_)\n",
    "print(ar_s)\n",
    "ar_s.astype(float) # Conveting back into float data type"
   ]
  },
  {
   "cell_type": "code",
   "execution_count": 67,
   "metadata": {
    "colab": {
     "base_uri": "https://localhost:8080/"
    },
    "id": "Nz6ZFPm2jnn6",
    "outputId": "6294b72d-fb1a-4558-cce4-e7e1a2cdeabf"
   },
   "outputs": [
    {
     "name": "stdout",
     "output_type": "stream",
     "text": [
      "['1.25' '-9.6' '42']\n"
     ]
    },
    {
     "data": {
      "text/plain": [
       "array([ 1.25, -9.6 , 42.  ])"
      ]
     },
     "execution_count": 67,
     "metadata": {},
     "output_type": "execute_result"
    }
   ],
   "source": [
    "ar_s = np.array([1.25, -9.6, 42], dtype=str) ## This will also work\n",
    "print(ar_s)\n",
    "ar_s.astype(float) # Conveting back into float data type"
   ]
  },
  {
   "cell_type": "code",
   "execution_count": 68,
   "metadata": {
    "colab": {
     "base_uri": "https://localhost:8080/"
    },
    "id": "iR35k5aYjnn7",
    "outputId": "314f8e71-7d3d-45d7-c9fb-3c66533cde3d"
   },
   "outputs": [
    {
     "name": "stdout",
     "output_type": "stream",
     "text": [
      "['1.25' '-9.6' '42']\n"
     ]
    },
    {
     "data": {
      "text/plain": [
       "array([ 1.25, -9.6 , 42.  ])"
      ]
     },
     "execution_count": 68,
     "metadata": {},
     "output_type": "execute_result"
    }
   ],
   "source": [
    "ar_s = np.array(['1.25', '-9.6', '42']) ## Any character inside quotation is converted into string.\n",
    "print(ar_s)\n",
    "ar_s.astype(float) # Conveting back into float data type"
   ]
  },
  {
   "cell_type": "code",
   "execution_count": 69,
   "metadata": {
    "colab": {
     "base_uri": "https://localhost:8080/"
    },
    "id": "8Yp5lgiojnn8",
    "outputId": "798b260c-8eb4-42b2-f1fc-136d1ccf5e37"
   },
   "outputs": [
    {
     "name": "stdout",
     "output_type": "stream",
     "text": [
      "[0 1 2 3 4 5 6 7 8 9]\n"
     ]
    },
    {
     "data": {
      "text/plain": [
       "array([0., 1., 2., 3., 4., 5., 6., 7., 8., 9.])"
      ]
     },
     "execution_count": 69,
     "metadata": {},
     "output_type": "execute_result"
    }
   ],
   "source": [
    "ar_int = np.arange(10)\n",
    "print(ar_int)\n",
    "ar_float = np.array([1.2, 2.70, 3.5, 4.8], dtype=np.float64)\n",
    "ar_int.astype(ar_float.dtype) # we are conveting data type of ar_int to that of type of ar_float.This could be a way as well!! "
   ]
  },
  {
   "cell_type": "markdown",
   "metadata": {
    "id": "RDQYhjBejnn9"
   },
   "source": [
    "## Basic Indexing and Slicing\n",
    "#### 1-D Array"
   ]
  },
  {
   "cell_type": "code",
   "execution_count": 70,
   "metadata": {
    "colab": {
     "base_uri": "https://localhost:8080/"
    },
    "id": "iv0Fq0cLjnn-",
    "outputId": "05751c83-01c1-4f9c-8f01-2075f3d6ec20"
   },
   "outputs": [
    {
     "data": {
      "text/plain": [
       "array([1, 2, 3, 4, 5])"
      ]
     },
     "execution_count": 70,
     "metadata": {},
     "output_type": "execute_result"
    }
   ],
   "source": [
    "a1 = np.arange(1,6)\n",
    "a1  # This is 1D array. Index starts from zero(starting from left) ,i.e. zero indexed member of the array is 1."
   ]
  },
  {
   "cell_type": "code",
   "execution_count": 71,
   "metadata": {
    "colab": {
     "base_uri": "https://localhost:8080/"
    },
    "id": "zN1LjN8kjnn_",
    "outputId": "abf8b3da-0af5-44e0-9ad0-5405af339b06"
   },
   "outputs": [
    {
     "data": {
      "text/plain": [
       "2"
      ]
     },
     "execution_count": 71,
     "metadata": {},
     "output_type": "execute_result"
    }
   ],
   "source": [
    "a1[1] ## Square bracket is applied on arry to slice it. 1 is passed inside bracket to slice 1 indexed member of the array."
   ]
  },
  {
   "cell_type": "code",
   "execution_count": 72,
   "metadata": {
    "colab": {
     "base_uri": "https://localhost:8080/"
    },
    "id": "19oWD1wejnoA",
    "outputId": "aeed78ac-b000-40e4-d26f-c862f69122bc"
   },
   "outputs": [
    {
     "data": {
      "text/plain": [
       "array([2, 3])"
      ]
     },
     "execution_count": 72,
     "metadata": {},
     "output_type": "execute_result"
    }
   ],
   "source": [
    "a1[1:3] ## It gives sliced array taking 1 indexed element utpo 2 indexex element as any value after colon is not included.\n",
    "# Note: Any value after colon is not included.One element before this is included only.\n",
    "# Note Any value before colon is always included."
   ]
  },
  {
   "cell_type": "code",
   "execution_count": 73,
   "metadata": {
    "colab": {
     "base_uri": "https://localhost:8080/"
    },
    "id": "ht5mKR2ojnoB",
    "outputId": "23f09a33-d5de-4888-f310-54ba9b4f3280"
   },
   "outputs": [
    {
     "name": "stdout",
     "output_type": "stream",
     "text": [
      "[ 1 12 12  4  5]\n"
     ]
    }
   ],
   "source": [
    "a1[1:3] =12 # This is assignment operation, i.e. 1st and 2nd indexed value of the array is replaced with 12\n",
    "print(a1)   # See the result"
   ]
  },
  {
   "cell_type": "code",
   "execution_count": 74,
   "metadata": {
    "colab": {
     "base_uri": "https://localhost:8080/"
    },
    "id": "Ts847DwEjnoC",
    "outputId": "87938bff-c9a5-4baa-9e3c-3bff71faec1d"
   },
   "outputs": [
    {
     "data": {
      "text/plain": [
       "array([12,  4,  5])"
      ]
     },
     "execution_count": 74,
     "metadata": {},
     "output_type": "execute_result"
    }
   ],
   "source": [
    "a1[2:] # 2nd indexed to last indexed element sliced. "
   ]
  },
  {
   "cell_type": "code",
   "execution_count": 75,
   "metadata": {
    "colab": {
     "base_uri": "https://localhost:8080/"
    },
    "id": "_K147yHkjnoD",
    "outputId": "02036c1b-dcc6-4d80-a1a1-c454e2469267"
   },
   "outputs": [
    {
     "data": {
      "text/plain": [
       "array([ 1, 12, 12,  4,  5])"
      ]
     },
     "execution_count": 75,
     "metadata": {},
     "output_type": "execute_result"
    }
   ],
   "source": [
    "a1[:5] # From the very beginning to 4rth indexed elements are sliced, 5th indexed element not included."
   ]
  },
  {
   "cell_type": "code",
   "execution_count": 76,
   "metadata": {
    "colab": {
     "base_uri": "https://localhost:8080/"
    },
    "id": "eSwckJXFjnoQ",
    "outputId": "2e493b2b-9fd3-41e1-986c-c9dee22ae726"
   },
   "outputs": [
    {
     "data": {
      "text/plain": [
       "array([ 1, 12, 12,  4,  5])"
      ]
     },
     "execution_count": 76,
     "metadata": {},
     "output_type": "execute_result"
    }
   ],
   "source": [
    "a1"
   ]
  },
  {
   "cell_type": "code",
   "execution_count": 77,
   "metadata": {
    "colab": {
     "base_uri": "https://localhost:8080/"
    },
    "id": "IW6zJP90jnoT",
    "outputId": "a0ef05c4-1e0d-42ac-f4e9-00bcd5591416"
   },
   "outputs": [
    {
     "data": {
      "text/plain": [
       "array([12,  4,  5])"
      ]
     },
     "execution_count": 77,
     "metadata": {},
     "output_type": "execute_result"
    }
   ],
   "source": [
    "a_new=a1[2:] # It takes  2 indexed value till the last indexed value of the array and assign it in new varible a_new\n",
    "a_new"
   ]
  },
  {
   "cell_type": "code",
   "execution_count": 78,
   "metadata": {
    "colab": {
     "base_uri": "https://localhost:8080/"
    },
    "id": "zwgBwUlEjnoY",
    "outputId": "777ab23f-ef74-4943-9cf6-ad5a1f4658a6"
   },
   "outputs": [
    {
     "data": {
      "text/plain": [
       "array([99,  4,  5])"
      ]
     },
     "execution_count": 78,
     "metadata": {},
     "output_type": "execute_result"
    }
   ],
   "source": [
    "a_new[0]=99 ## Now replacing 0 indexed value of the array by 99 and displaying it.\n",
    "a_new"
   ]
  },
  {
   "cell_type": "code",
   "execution_count": 79,
   "metadata": {
    "colab": {
     "base_uri": "https://localhost:8080/"
    },
    "id": "10YF8F9XjnoZ",
    "outputId": "5c5e5e28-63a9-4e04-c726-70442cdc2383"
   },
   "outputs": [
    {
     "data": {
      "text/plain": [
       "array([ 1, 12, 99,  4,  5])"
      ]
     },
     "execution_count": 79,
     "metadata": {},
     "output_type": "execute_result"
    }
   ],
   "source": [
    "# Now lets check the initial array a1, This also gets changed.\n",
    "a1"
   ]
  },
  {
   "cell_type": "markdown",
   "metadata": {
    "id": "wQgNjgHojnoZ"
   },
   "source": [
    "* Thus any change on sliced array will cause corresponding change in initial array as well.To stop this we use .copy() "
   ]
  },
  {
   "cell_type": "code",
   "execution_count": 80,
   "metadata": {
    "colab": {
     "base_uri": "https://localhost:8080/"
    },
    "id": "M1ZBvKR8jnoa",
    "outputId": "045e4369-bd5a-4257-abd9-a7596751d250"
   },
   "outputs": [
    {
     "data": {
      "text/plain": [
       "array([ 1, 12, 99,  4,  5])"
      ]
     },
     "execution_count": 80,
     "metadata": {},
     "output_type": "execute_result"
    }
   ],
   "source": [
    "a1"
   ]
  },
  {
   "cell_type": "code",
   "execution_count": 81,
   "metadata": {
    "colab": {
     "base_uri": "https://localhost:8080/"
    },
    "id": "OlsoFiFpjnoa",
    "outputId": "030947f3-6e39-4b0d-80e8-2982993ba849"
   },
   "outputs": [
    {
     "data": {
      "text/plain": [
       "array([4, 5])"
      ]
     },
     "execution_count": 81,
     "metadata": {},
     "output_type": "execute_result"
    }
   ],
   "source": [
    "a1_copy=a1[3:].copy()# now sliced array is independently copied and change will not be reflected in original array a1.\n",
    "a1_copy"
   ]
  },
  {
   "cell_type": "code",
   "execution_count": 82,
   "metadata": {
    "colab": {
     "base_uri": "https://localhost:8080/"
    },
    "id": "kUcZWTCFjnob",
    "outputId": "74844ba5-8a63-47ce-e47c-38ea23cf36e6"
   },
   "outputs": [
    {
     "data": {
      "text/plain": [
       "array([444,   5])"
      ]
     },
     "execution_count": 82,
     "metadata": {},
     "output_type": "execute_result"
    }
   ],
   "source": [
    "a1_copy[0]=444 # We are updating 0 indexed value to 444 and displaying it.\n",
    "a1_copy"
   ]
  },
  {
   "cell_type": "code",
   "execution_count": 83,
   "metadata": {
    "colab": {
     "base_uri": "https://localhost:8080/"
    },
    "id": "HtBlypGAjnoc",
    "outputId": "ff5b1566-b80a-447b-9031-566c2375b40f"
   },
   "outputs": [
    {
     "data": {
      "text/plain": [
       "array([ 1, 12, 99,  4,  5])"
      ]
     },
     "execution_count": 83,
     "metadata": {},
     "output_type": "execute_result"
    }
   ],
   "source": [
    "a1 # Now checking original aary a1, and no changes on it."
   ]
  },
  {
   "cell_type": "code",
   "execution_count": 84,
   "metadata": {
    "colab": {
     "base_uri": "https://localhost:8080/"
    },
    "id": "AL7iYD_Ljnod",
    "outputId": "cd82803d-7d50-4117-c8ec-caf3820ff8ab"
   },
   "outputs": [
    {
     "data": {
      "text/plain": [
       "array([64, 64, 64, 64, 64])"
      ]
     },
     "execution_count": 84,
     "metadata": {},
     "output_type": "execute_result"
    }
   ],
   "source": [
    "a1[:] = 64 # ':' -- change all element\n",
    "a1"
   ]
  },
  {
   "cell_type": "code",
   "execution_count": 85,
   "metadata": {
    "colab": {
     "base_uri": "https://localhost:8080/"
    },
    "id": "xGO1KSX5jnoe",
    "outputId": "26d08a03-a7a2-40da-ed3a-3c49a3b20030"
   },
   "outputs": [
    {
     "data": {
      "text/plain": [
       "array([64, 64, 64, 64, 64])"
      ]
     },
     "execution_count": 85,
     "metadata": {},
     "output_type": "execute_result"
    }
   ],
   "source": [
    "a1"
   ]
  },
  {
   "cell_type": "code",
   "execution_count": 86,
   "metadata": {
    "colab": {
     "base_uri": "https://localhost:8080/"
    },
    "id": "BzYnJEGJjnoe",
    "outputId": "579eb39a-bee3-44b6-f205-75d253ec59af"
   },
   "outputs": [
    {
     "data": {
      "text/plain": [
       "array([64, 64, 64])"
      ]
     },
     "execution_count": 86,
     "metadata": {},
     "output_type": "execute_result"
    }
   ],
   "source": [
    "a1[::2] # starting  from very begnning, it picks elements leaving one element in between."
   ]
  },
  {
   "cell_type": "code",
   "execution_count": 87,
   "metadata": {
    "colab": {
     "base_uri": "https://localhost:8080/"
    },
    "id": "Tt-CF4s7jnof",
    "outputId": "7af4e28c-7373-4de8-94b3-66cc6c47defd"
   },
   "outputs": [
    {
     "data": {
      "text/plain": [
       "64"
      ]
     },
     "execution_count": 87,
     "metadata": {},
     "output_type": "execute_result"
    }
   ],
   "source": [
    "a1[-1] # negative index stars with -1  from  right to left  "
   ]
  },
  {
   "cell_type": "code",
   "execution_count": 88,
   "metadata": {
    "colab": {
     "base_uri": "https://localhost:8080/"
    },
    "id": "gulzJBNRjnog",
    "outputId": "ee7f1f60-e894-4dcd-8710-aed5e47177a2"
   },
   "outputs": [
    {
     "data": {
      "text/plain": [
       "array([64, 64])"
      ]
     },
     "execution_count": 88,
     "metadata": {},
     "output_type": "execute_result"
    }
   ],
   "source": [
    "a1[:-3] # See what happens!"
   ]
  },
  {
   "cell_type": "code",
   "execution_count": 89,
   "metadata": {
    "colab": {
     "base_uri": "https://localhost:8080/"
    },
    "id": "Lro7l8CSjnog",
    "outputId": "18bf9ad2-1c76-48ce-a448-3c23c72a7a31"
   },
   "outputs": [
    {
     "data": {
      "text/plain": [
       "array([64, 64, 64])"
      ]
     },
     "execution_count": 89,
     "metadata": {},
     "output_type": "execute_result"
    }
   ],
   "source": [
    "a1[-3:] ## See what happens!"
   ]
  },
  {
   "cell_type": "code",
   "execution_count": 90,
   "metadata": {
    "colab": {
     "base_uri": "https://localhost:8080/"
    },
    "id": "JbIvq_Q7jnoh",
    "outputId": "039c1311-7d20-4942-bbf7-d3d0685fda56"
   },
   "outputs": [
    {
     "data": {
      "text/plain": [
       "array([64, 64, 64, 64, 64])"
      ]
     },
     "execution_count": 90,
     "metadata": {},
     "output_type": "execute_result"
    }
   ],
   "source": [
    "a1[::-1] # it will reverse the 1D array, like list"
   ]
  },
  {
   "cell_type": "markdown",
   "metadata": {
    "id": "P9XBNxmsjnoi"
   },
   "source": [
    "#### Slicing and indexing continue : 2-D Array"
   ]
  },
  {
   "cell_type": "code",
   "execution_count": 91,
   "metadata": {
    "colab": {
     "base_uri": "https://localhost:8080/"
    },
    "id": "inhi7TvKjnok",
    "outputId": "a08cf41c-d6fb-4c19-b1a4-efc40a05f7fe"
   },
   "outputs": [
    {
     "data": {
      "text/plain": [
       "array([[ 1,  2,  3,  4],\n",
       "       [ 4,  5,  6,  7],\n",
       "       [ 7,  8,  9, 10]])"
      ]
     },
     "execution_count": 91,
     "metadata": {},
     "output_type": "execute_result"
    }
   ],
   "source": [
    "a2d = np.array([[1, 2, 3, 4], [4, 5, 6, 7], [7, 8, 9, 10]]) ## Creating a 2D array\n",
    "a2d  # column and row index starts from zero.Three rows ( with index :0,1,2;starting from top)\n",
    "     # and four columns (with index:0,1,2,3; starting from left)\n",
    "     # Negative indexing also valid: for rows from bottom to top :-1,-2,-3\n",
    "     # For columns from right to left :-1,-2,-3,-4"
   ]
  },
  {
   "cell_type": "markdown",
   "metadata": {
    "id": "aoXxbuCNjnol"
   },
   "source": [
    "#### Go through the codes below."
   ]
  },
  {
   "cell_type": "code",
   "execution_count": 92,
   "metadata": {
    "colab": {
     "base_uri": "https://localhost:8080/"
    },
    "id": "QHL2pZ43jnom",
    "outputId": "31646d29-3089-448d-bc1b-7af103839ec2"
   },
   "outputs": [
    {
     "data": {
      "text/plain": [
       "array([ 7,  8,  9, 10])"
      ]
     },
     "execution_count": 92,
     "metadata": {},
     "output_type": "execute_result"
    }
   ],
   "source": [
    "a2d[2] # On passing single integer value inside square bracket select corresponding indexed row. 2nd indexed row sliced"
   ]
  },
  {
   "cell_type": "code",
   "execution_count": 93,
   "metadata": {
    "colab": {
     "base_uri": "https://localhost:8080/"
    },
    "id": "nsW0nwvtjnop",
    "outputId": "5a4570b7-502e-4daa-caa6-eab605302985"
   },
   "outputs": [
    {
     "data": {
      "text/plain": [
       "array([1, 2, 3, 4])"
      ]
     },
     "execution_count": 93,
     "metadata": {},
     "output_type": "execute_result"
    }
   ],
   "source": [
    "a2d[0] # zeroth row sliced."
   ]
  },
  {
   "cell_type": "code",
   "execution_count": 94,
   "metadata": {
    "colab": {
     "base_uri": "https://localhost:8080/"
    },
    "id": "4dPwBsBujnor",
    "outputId": "44fa1482-86eb-4526-c3a6-184bd04abb3b"
   },
   "outputs": [
    {
     "data": {
      "text/plain": [
       "7"
      ]
     },
     "execution_count": 94,
     "metadata": {},
     "output_type": "execute_result"
    }
   ],
   "source": [
    "a2d[1,3] # first value before coma is for row index and second value after coma is for column index."
   ]
  },
  {
   "cell_type": "code",
   "execution_count": 95,
   "metadata": {
    "colab": {
     "base_uri": "https://localhost:8080/"
    },
    "id": "LMhP41U7jnos",
    "outputId": "dbe43c68-5e9a-4cc8-eea6-a362ec05ba15"
   },
   "outputs": [
    {
     "data": {
      "text/plain": [
       "7"
      ]
     },
     "execution_count": 95,
     "metadata": {},
     "output_type": "execute_result"
    }
   ],
   "source": [
    "a2d[1][3] # This way also possible"
   ]
  },
  {
   "cell_type": "code",
   "execution_count": 96,
   "metadata": {
    "colab": {
     "base_uri": "https://localhost:8080/"
    },
    "id": "UbByJlT9jnot",
    "outputId": "10ffda3a-dff1-40de-dd76-70d6510089b1"
   },
   "outputs": [
    {
     "data": {
      "text/plain": [
       "5"
      ]
     },
     "execution_count": 96,
     "metadata": {},
     "output_type": "execute_result"
    }
   ],
   "source": [
    "a2d[-2,-3] ## Using negative index"
   ]
  },
  {
   "cell_type": "code",
   "execution_count": 97,
   "metadata": {
    "colab": {
     "base_uri": "https://localhost:8080/"
    },
    "id": "bxbv77SNjnou",
    "outputId": "edc10135-c75e-4a4f-bdde-62519f45d30f"
   },
   "outputs": [
    {
     "data": {
      "text/plain": [
       "array([[ 5,  6,  7],\n",
       "       [ 8,  9, 10]])"
      ]
     },
     "execution_count": 97,
     "metadata": {},
     "output_type": "execute_result"
    }
   ],
   "source": [
    "a2d[-2:,-3:]"
   ]
  },
  {
   "cell_type": "code",
   "execution_count": 98,
   "metadata": {
    "colab": {
     "base_uri": "https://localhost:8080/"
    },
    "id": "Q8hNj23Jjnov",
    "outputId": "82fc999a-08a5-4b30-8bd7-cf14beaa6be1"
   },
   "outputs": [
    {
     "data": {
      "text/plain": [
       "array([[1, 2],\n",
       "       [4, 5]])"
      ]
     },
     "execution_count": 98,
     "metadata": {},
     "output_type": "execute_result"
    }
   ],
   "source": [
    "a2d[:-1,:-2] ### from very beginning to -2 indexed row (i.e -3 and -2 indexed row) and -3,-4 indexed columns are sliced "
   ]
  },
  {
   "cell_type": "code",
   "execution_count": 99,
   "metadata": {
    "colab": {
     "base_uri": "https://localhost:8080/"
    },
    "id": "PjCVmrO0jnow",
    "outputId": "287aa8dd-9a2e-477c-b24a-ba4c1a4b8a9a"
   },
   "outputs": [
    {
     "data": {
      "text/plain": [
       "array([ 7,  8,  9, 10])"
      ]
     },
     "execution_count": 99,
     "metadata": {},
     "output_type": "execute_result"
    }
   ],
   "source": [
    "a2d[-1,:] # last(bottom) row and all columns "
   ]
  },
  {
   "cell_type": "code",
   "execution_count": 100,
   "metadata": {
    "colab": {
     "base_uri": "https://localhost:8080/"
    },
    "id": "g9iPP4fAjnoy",
    "outputId": "8506080a-7042-4390-9b19-56bf2b169f4b"
   },
   "outputs": [
    {
     "data": {
      "text/plain": [
       "array([ 4,  7, 10])"
      ]
     },
     "execution_count": 100,
     "metadata": {},
     "output_type": "execute_result"
    }
   ],
   "source": [
    "a2d[:,-1] # All rows and last column(right most columns)"
   ]
  },
  {
   "cell_type": "code",
   "execution_count": 101,
   "metadata": {
    "colab": {
     "base_uri": "https://localhost:8080/"
    },
    "id": "MWp5n2Pajno0",
    "outputId": "bae7eb1b-3a50-4a80-9033-9db7150d9a0f"
   },
   "outputs": [
    {
     "name": "stdout",
     "output_type": "stream",
     "text": [
      "[[ 1  2  3  4]\n",
      " [ 4  5  6  7]\n",
      " [ 7  8  9 10]]\n"
     ]
    },
    {
     "data": {
      "text/plain": [
       "array([[1, 2, 3, 4],\n",
       "       [4, 5, 6, 7]])"
      ]
     },
     "execution_count": 101,
     "metadata": {},
     "output_type": "execute_result"
    }
   ],
   "source": [
    "print(a2d)\n",
    "a2d[:2] ## from very beginning to 1 indexed row, i.e 0 and 1 index row sliced. 2 is not included."
   ]
  },
  {
   "cell_type": "code",
   "execution_count": 102,
   "metadata": {
    "colab": {
     "base_uri": "https://localhost:8080/"
    },
    "id": "kAR0JEubjno0",
    "outputId": "107a4a34-14c1-4da5-9cf3-4e45d9371439"
   },
   "outputs": [
    {
     "data": {
      "text/plain": [
       "array([[3, 4],\n",
       "       [6, 7]])"
      ]
     },
     "execution_count": 102,
     "metadata": {},
     "output_type": "execute_result"
    }
   ],
   "source": [
    "a2d[:2, 2:] # ( 0 ,1 ) indexed rows and 2 to last indexed columns are sliced."
   ]
  },
  {
   "cell_type": "code",
   "execution_count": 103,
   "metadata": {
    "colab": {
     "base_uri": "https://localhost:8080/"
    },
    "id": "vTBoOLJbjno0",
    "outputId": "654478be-c13d-46a5-b7a3-8dd4619b4b10"
   },
   "outputs": [
    {
     "data": {
      "text/plain": [
       "array([4, 5])"
      ]
     },
     "execution_count": 103,
     "metadata": {},
     "output_type": "execute_result"
    }
   ],
   "source": [
    "a2d[1, :2] # 1 indexed row and (0,1) indexed columns are sliced ."
   ]
  },
  {
   "cell_type": "code",
   "execution_count": 104,
   "metadata": {
    "colab": {
     "base_uri": "https://localhost:8080/"
    },
    "id": "OjtWwFFSjno2",
    "outputId": "950036e3-fb2a-4880-e813-37cc47862d4e"
   },
   "outputs": [
    {
     "data": {
      "text/plain": [
       "array([3, 6])"
      ]
     },
     "execution_count": 104,
     "metadata": {},
     "output_type": "execute_result"
    }
   ],
   "source": [
    "a2d[:2, 2] # Explain yourself?"
   ]
  },
  {
   "cell_type": "code",
   "execution_count": 105,
   "metadata": {
    "colab": {
     "base_uri": "https://localhost:8080/"
    },
    "id": "K2va-UyCjno3",
    "outputId": "15a81c52-0731-42d7-b5b4-8959536a3cc5"
   },
   "outputs": [
    {
     "data": {
      "text/plain": [
       "array([[1],\n",
       "       [4],\n",
       "       [7]])"
      ]
     },
     "execution_count": 105,
     "metadata": {},
     "output_type": "execute_result"
    }
   ],
   "source": [
    "a2d[:, :1] # All rows and 0 column ( from very beginning, but 1 not included i.e. zeroth column ) sliced."
   ]
  },
  {
   "cell_type": "code",
   "execution_count": 106,
   "metadata": {
    "colab": {
     "base_uri": "https://localhost:8080/"
    },
    "id": "5CQZ6uLojno3",
    "outputId": "fd06ddbf-bfee-4e45-f2aa-701f26161a26"
   },
   "outputs": [
    {
     "data": {
      "text/plain": [
       "array([[ 1,  2,  3,  4],\n",
       "       [ 4,  5,  6,  7],\n",
       "       [ 7,  8,  9, 10]])"
      ]
     },
     "execution_count": 106,
     "metadata": {},
     "output_type": "execute_result"
    }
   ],
   "source": [
    "a2d"
   ]
  },
  {
   "cell_type": "code",
   "execution_count": 107,
   "metadata": {
    "colab": {
     "base_uri": "https://localhost:8080/"
    },
    "id": "6qNGJGLhjno5",
    "outputId": "acda30ea-7214-49a2-cf83-43a390a1c6b0"
   },
   "outputs": [
    {
     "data": {
      "text/plain": [
       "array([[ 1,  0,  0,  0],\n",
       "       [ 4,  0,  0,  0],\n",
       "       [ 7,  8,  9, 10]])"
      ]
     },
     "execution_count": 107,
     "metadata": {},
     "output_type": "execute_result"
    }
   ],
   "source": [
    "a2d[:2, 1:] = 0 ## This is assignment operation, a2d  itself gets changed.\n",
    "a2d"
   ]
  },
  {
   "cell_type": "markdown",
   "metadata": {
    "id": "TUdAXlp-jno6"
   },
   "source": [
    "### Matrix Multiplication from scratch\n",
    "* Iterating over  an array"
   ]
  },
  {
   "cell_type": "code",
   "execution_count": 108,
   "metadata": {
    "colab": {
     "base_uri": "https://localhost:8080/"
    },
    "id": "41P85Rcnjno9",
    "outputId": "f7ad08bf-690d-4dce-f6c8-a5ea9c696185"
   },
   "outputs": [
    {
     "data": {
      "text/plain": [
       "array([[1, 3, 2, 7],\n",
       "       [0, 4, 5, 8]])"
      ]
     },
     "execution_count": 108,
     "metadata": {},
     "output_type": "execute_result"
    }
   ],
   "source": [
    "x=np.array([[1,3,2,7],[0,4,5,8]])\n",
    "x"
   ]
  },
  {
   "cell_type": "code",
   "execution_count": 109,
   "metadata": {
    "colab": {
     "base_uri": "https://localhost:8080/"
    },
    "id": "DqY0gaUwjno-",
    "outputId": "bc1bd81a-9954-4b40-9e5f-07a1332a159b"
   },
   "outputs": [
    {
     "name": "stdout",
     "output_type": "stream",
     "text": [
      "1\n",
      "3\n",
      "2\n",
      "7\n",
      "0\n",
      "4\n",
      "5\n",
      "8\n"
     ]
    }
   ],
   "source": [
    "n1=x.shape[0] ## number of rows\n",
    "n2=x.shape[1] ## number of columns\n",
    "#a=[]\n",
    "for i in range(n1):   #iterating over rows\n",
    "    for j in range(n2):  ## iterating over colums\n",
    "        #a.append(x[i,j])\n",
    "        print(x[i,j])"
   ]
  },
  {
   "cell_type": "code",
   "execution_count": 110,
   "metadata": {
    "colab": {
     "base_uri": "https://localhost:8080/"
    },
    "id": "loKoHiMOjnpA",
    "outputId": "14bb2c17-e51a-410b-e475-db72f761b1a5"
   },
   "outputs": [
    {
     "name": "stdout",
     "output_type": "stream",
     "text": [
      "1\n",
      "3\n",
      "2\n",
      "7\n",
      "0\n",
      "4\n",
      "5\n",
      "8\n"
     ]
    }
   ],
   "source": [
    "for i in np.nditer(x):\n",
    "    print(i)"
   ]
  },
  {
   "cell_type": "code",
   "execution_count": 111,
   "metadata": {
    "colab": {
     "base_uri": "https://localhost:8080/"
    },
    "id": "kJ3bvNyAjnpC",
    "outputId": "031d1305-d0ae-44e7-ec1e-2d284afabbe9"
   },
   "outputs": [
    {
     "name": "stdout",
     "output_type": "stream",
     "text": [
      "[[1 2 3]\n",
      " [4 1 3]] \n",
      "\n",
      " [[1 3]\n",
      " [2 3]\n",
      " [4 5]]\n"
     ]
    }
   ],
   "source": [
    "a=np.array([[1,2,3],[4,1,3]])\n",
    "b=np.array([[1,3],[2,3],[4,5]])\n",
    "print(a,'\\n\\n',b)"
   ]
  },
  {
   "cell_type": "code",
   "execution_count": 112,
   "metadata": {
    "colab": {
     "base_uri": "https://localhost:8080/"
    },
    "id": "pftM5za-jnpG",
    "outputId": "b75bed1e-cfc5-493f-8d89-c11ef31dab64"
   },
   "outputs": [
    {
     "data": {
      "text/plain": [
       "array([[17, 24],\n",
       "       [18, 30]])"
      ]
     },
     "execution_count": 112,
     "metadata": {},
     "output_type": "execute_result"
    }
   ],
   "source": [
    "a.dot(b) ## Matrix Multiplicatin of  a  and b."
   ]
  },
  {
   "cell_type": "code",
   "execution_count": 113,
   "metadata": {
    "id": "0H9auq9kjnpP"
   },
   "outputs": [],
   "source": [
    "# Making a Function for matrix Multiplication\n",
    "def matrix_mul(a,b):\n",
    "    n1=a.shape[0] #number of rows of first matirx \n",
    "    n2=a.shape[1] #number of columns of first matirx \n",
    "    n3=b.shape[0] #number of rows of second matirx \n",
    "    n4=b.shape[1] #number of columns of second matirx \n",
    "    if n2==n3:\n",
    "        c=np.zeros((n1,n4))\n",
    "        for i in range(n1):# iterating over rows of first matrix,\n",
    "            for j in range(n4):#iterating over column of second matrix\n",
    "                sum1=0\n",
    "                for k in range(n3):#iterating over rows of second matirx\n",
    "                    sum1=sum1+a[i,k]*b[k,j]\n",
    "                    c[i,j]=sum1\n",
    "        return c\n",
    "    else:\n",
    "        print('Ops! Matrix order mismatch.')"
   ]
  },
  {
   "cell_type": "code",
   "execution_count": 114,
   "metadata": {
    "colab": {
     "base_uri": "https://localhost:8080/"
    },
    "id": "c2x7vboljnpR",
    "outputId": "ee456490-d09b-4aee-a548-9bc7ca08492c"
   },
   "outputs": [
    {
     "data": {
      "text/plain": [
       "array([[17., 24.],\n",
       "       [18., 30.]])"
      ]
     },
     "execution_count": 114,
     "metadata": {},
     "output_type": "execute_result"
    }
   ],
   "source": [
    "matrix_mul(a,b) # calling function for calculating matrix multiplication of a and b."
   ]
  },
  {
   "cell_type": "markdown",
   "metadata": {
    "id": "-bY13AiDjnpV"
   },
   "source": [
    "### Concept of 3-D Array"
   ]
  },
  {
   "cell_type": "code",
   "execution_count": 115,
   "metadata": {
    "colab": {
     "base_uri": "https://localhost:8080/"
    },
    "id": "So9u90iBjnpW",
    "outputId": "4b3b39e2-95f1-44c9-a9bc-12ada4ee090a"
   },
   "outputs": [
    {
     "data": {
      "text/plain": [
       "array([[[ 1,  2,  3],\n",
       "        [ 4,  5,  6]],\n",
       "\n",
       "       [[ 7,  8,  9],\n",
       "        [10, 11, 12]]])"
      ]
     },
     "execution_count": 115,
     "metadata": {},
     "output_type": "execute_result"
    }
   ],
   "source": [
    "a3d = np.array([[[1, 2, 3], [4, 5, 6]], [[7, 8, 9], [10, 11, 12]]])\n",
    "a3d ## Three dimensional array"
   ]
  },
  {
   "cell_type": "markdown",
   "metadata": {
    "id": "AQX6fEfJjnpy"
   },
   "source": [
    "#### Notice in above result there are  two 2-D array each having shape of 2 by 3 stacked one after another.\n",
    "#### Thus in 3-D array, multiple 2-D arrays are stacked one after another.\n"
   ]
  },
  {
   "cell_type": "code",
   "execution_count": 116,
   "metadata": {
    "colab": {
     "base_uri": "https://localhost:8080/"
    },
    "id": "4Z6z-HCdjnsX",
    "outputId": "204b740c-6223-4520-e73b-0a7100c6b57c"
   },
   "outputs": [
    {
     "data": {
      "text/plain": [
       "(2, 2, 3)"
      ]
     },
     "execution_count": 116,
     "metadata": {},
     "output_type": "execute_result"
    }
   ],
   "source": [
    "a3d.shape ## first element gives number of 2D array and 2nd, 3rd element give number of rows and columns of each 2D array.\n",
    "# In this case two  2D  array each having shape (2,3)."
   ]
  },
  {
   "cell_type": "code",
   "execution_count": 117,
   "metadata": {
    "colab": {
     "base_uri": "https://localhost:8080/"
    },
    "id": "pAd0GkirjnsZ",
    "outputId": "da0b43ed-fd06-4f0a-a671-b6be110f67de"
   },
   "outputs": [
    {
     "data": {
      "text/plain": [
       "12"
      ]
     },
     "execution_count": 117,
     "metadata": {},
     "output_type": "execute_result"
    }
   ],
   "source": [
    "np.size(a3d) # np.size always gives number of total elements in any array"
   ]
  },
  {
   "cell_type": "code",
   "execution_count": 118,
   "metadata": {
    "colab": {
     "base_uri": "https://localhost:8080/"
    },
    "id": "TBxey98rjnsb",
    "outputId": "8776ddf2-77ff-461e-ad1f-80d7fbca699a"
   },
   "outputs": [
    {
     "data": {
      "text/plain": [
       "array([[1, 2, 3],\n",
       "       [4, 5, 6]])"
      ]
     },
     "execution_count": 118,
     "metadata": {},
     "output_type": "execute_result"
    }
   ],
   "source": [
    "a3d[0] # First 2d Array is zeroth indexed array, that we get after slicing."
   ]
  },
  {
   "cell_type": "code",
   "execution_count": 119,
   "metadata": {
    "colab": {
     "base_uri": "https://localhost:8080/"
    },
    "id": "V8Aj_Vwejnsc",
    "outputId": "874adf42-109c-45c2-b541-20226cbf4e3b"
   },
   "outputs": [
    {
     "data": {
      "text/plain": [
       "array([[ 7,  8,  9],\n",
       "       [10, 11, 12]])"
      ]
     },
     "execution_count": 119,
     "metadata": {},
     "output_type": "execute_result"
    }
   ],
   "source": [
    "a3d[1] # "
   ]
  },
  {
   "cell_type": "code",
   "execution_count": 120,
   "metadata": {
    "colab": {
     "base_uri": "https://localhost:8080/"
    },
    "id": "YCQInDqojntP",
    "outputId": "e1864cf8-1db8-4459-bf71-be735787cc5d"
   },
   "outputs": [
    {
     "data": {
      "text/plain": [
       "4"
      ]
     },
     "execution_count": 120,
     "metadata": {},
     "output_type": "execute_result"
    }
   ],
   "source": [
    "a3d[0,1,0] # This gives first indexed row and zeroth indexed column element of zeroth indexed 2D array, i.e. 4."
   ]
  },
  {
   "cell_type": "code",
   "execution_count": 121,
   "metadata": {
    "colab": {
     "base_uri": "https://localhost:8080/"
    },
    "id": "OISB-SL4jntR",
    "outputId": "a2494a05-8a33-4bbf-95db-4495e196340c"
   },
   "outputs": [
    {
     "data": {
      "text/plain": [
       "array([7, 8, 9])"
      ]
     },
     "execution_count": 121,
     "metadata": {},
     "output_type": "execute_result"
    }
   ],
   "source": [
    "a3d[1, 0] ## zeroth row of  1 indexed 2D array gets sliced from a3d."
   ]
  },
  {
   "cell_type": "code",
   "execution_count": 122,
   "metadata": {
    "colab": {
     "base_uri": "https://localhost:8080/"
    },
    "id": "-SkLhQivjntW",
    "outputId": "24d2f810-5f64-48ee-e4f7-e6076ad077d9"
   },
   "outputs": [
    {
     "data": {
      "text/plain": [
       "array([7, 8, 9])"
      ]
     },
     "execution_count": 122,
     "metadata": {},
     "output_type": "execute_result"
    }
   ],
   "source": [
    "x = a3d[1] # This way is also possible\n",
    "x[0]"
   ]
  },
  {
   "cell_type": "markdown",
   "metadata": {
    "id": "FIIZW7TRjntY"
   },
   "source": [
    "### Boolean Indexing"
   ]
  },
  {
   "cell_type": "code",
   "execution_count": 123,
   "metadata": {
    "colab": {
     "base_uri": "https://localhost:8080/"
    },
    "id": "gewcS4t9jntZ",
    "outputId": "febe4bdb-3568-4527-f9d2-4234c4df9ef0"
   },
   "outputs": [
    {
     "name": "stdout",
     "output_type": "stream",
     "text": [
      "[[ 1  2  3  4]\n",
      " [ 5  6  7  8]\n",
      " [ 9 10 11 12]\n",
      " [13 14 15 16]\n",
      " [17 18 19 20]\n",
      " [21 22 23 24]\n",
      " [25 26 27 28]] \n",
      "\n",
      "['Mango' 'Apple' 'Banana' 'Mango' 'Banana' 'Apple' 'Apple']\n"
     ]
    }
   ],
   "source": [
    "names = np.array(['Mango', 'Apple', 'Banana', 'Mango', 'Banana', 'Apple', 'Apple'])\n",
    "data = np.arange(1,29).reshape(7,4)\n",
    "print(data,'\\n')\n",
    "print(names)"
   ]
  },
  {
   "cell_type": "code",
   "execution_count": 124,
   "metadata": {
    "colab": {
     "base_uri": "https://localhost:8080/"
    },
    "id": "iCKEKVIwjntb",
    "outputId": "7c26f8c2-44eb-4f91-e11a-b462abfdbe92"
   },
   "outputs": [
    {
     "data": {
      "text/plain": [
       "array([False,  True, False, False, False,  True,  True])"
      ]
     },
     "execution_count": 124,
     "metadata": {},
     "output_type": "execute_result"
    }
   ],
   "source": [
    "names == 'Apple'"
   ]
  },
  {
   "cell_type": "code",
   "execution_count": 125,
   "metadata": {
    "colab": {
     "base_uri": "https://localhost:8080/"
    },
    "id": "ztiBOcVdjntd",
    "outputId": "bef95acd-d237-485d-a440-c0381aa3a1d6"
   },
   "outputs": [
    {
     "data": {
      "text/plain": [
       "array([[ 5,  6,  7,  8],\n",
       "       [21, 22, 23, 24],\n",
       "       [25, 26, 27, 28]])"
      ]
     },
     "execution_count": 125,
     "metadata": {},
     "output_type": "execute_result"
    }
   ],
   "source": [
    "data[names == 'Apple']"
   ]
  },
  {
   "cell_type": "code",
   "execution_count": 126,
   "metadata": {
    "colab": {
     "base_uri": "https://localhost:8080/"
    },
    "id": "VZgu9-vPjnte",
    "outputId": "0bc94c7c-16eb-4655-bbaf-5177d05c808c"
   },
   "outputs": [
    {
     "data": {
      "text/plain": [
       "array([ 8, 24, 28])"
      ]
     },
     "execution_count": 126,
     "metadata": {},
     "output_type": "execute_result"
    }
   ],
   "source": [
    "data[names == 'Apple', 2:]\n",
    "data[names == 'Apple', 3]"
   ]
  },
  {
   "cell_type": "code",
   "execution_count": 127,
   "metadata": {
    "colab": {
     "base_uri": "https://localhost:8080/"
    },
    "id": "OGCvqQKpjntg",
    "outputId": "5bac7d49-3de2-47b0-f0a1-c94d53641385"
   },
   "outputs": [
    {
     "data": {
      "text/plain": [
       "array([[ 1,  2,  3,  4],\n",
       "       [ 9, 10, 11, 12],\n",
       "       [13, 14, 15, 16],\n",
       "       [17, 18, 19, 20]])"
      ]
     },
     "execution_count": 127,
     "metadata": {},
     "output_type": "execute_result"
    }
   ],
   "source": [
    "#names != 'Apple'\n",
    "data[~(names == 'Apple')]"
   ]
  },
  {
   "cell_type": "code",
   "execution_count": 128,
   "metadata": {
    "colab": {
     "base_uri": "https://localhost:8080/"
    },
    "id": "8ASmDeLdjnth",
    "outputId": "565f2e78-97a3-4b14-ea6a-92aa46e85b8f"
   },
   "outputs": [
    {
     "data": {
      "text/plain": [
       "array([[ 1,  2,  3,  4],\n",
       "       [ 9, 10, 11, 12],\n",
       "       [13, 14, 15, 16],\n",
       "       [17, 18, 19, 20]])"
      ]
     },
     "execution_count": 128,
     "metadata": {},
     "output_type": "execute_result"
    }
   ],
   "source": [
    "cond = names == 'Apple'\n",
    "data[~cond]"
   ]
  },
  {
   "cell_type": "code",
   "execution_count": 129,
   "metadata": {
    "colab": {
     "base_uri": "https://localhost:8080/"
    },
    "id": "5nJjVSeKjntj",
    "outputId": "beae2f3c-2139-4100-92d2-154146cdde2f"
   },
   "outputs": [
    {
     "data": {
      "text/plain": [
       "array([[ 1,  2,  3,  4],\n",
       "       [ 5,  6,  7,  8],\n",
       "       [13, 14, 15, 16],\n",
       "       [21, 22, 23, 24],\n",
       "       [25, 26, 27, 28]])"
      ]
     },
     "execution_count": 129,
     "metadata": {},
     "output_type": "execute_result"
    }
   ],
   "source": [
    "cond1 = (names == 'Apple') | (names == 'Mango') ## '|'--> OR operator \n",
    "cond1\n",
    "data[cond1]"
   ]
  },
  {
   "cell_type": "code",
   "execution_count": 130,
   "metadata": {
    "colab": {
     "base_uri": "https://localhost:8080/"
    },
    "id": "QMuAcXV4jntm",
    "outputId": "062dfd40-b92c-4012-889f-05c62d32ade0"
   },
   "outputs": [
    {
     "data": {
      "text/plain": [
       "array([], shape=(0, 4), dtype=int64)"
      ]
     },
     "execution_count": 130,
     "metadata": {},
     "output_type": "execute_result"
    }
   ],
   "source": [
    "mask = (names == 'Apple') & (names == 'Mango') # '&' --> AND operator \n",
    "data[mask] ## Explaing why the result is empty array."
   ]
  },
  {
   "cell_type": "code",
   "execution_count": 131,
   "metadata": {
    "colab": {
     "base_uri": "https://localhost:8080/"
    },
    "id": "mYn7jCOvjntu",
    "outputId": "0aba365c-0ee5-4ba5-b436-d1a32dc7fb53"
   },
   "outputs": [
    {
     "data": {
      "text/plain": [
       "array([[ 0,  0,  0,  0],\n",
       "       [ 0,  0,  0,  0],\n",
       "       [ 0,  0,  0,  0],\n",
       "       [13, 14, 15, 16],\n",
       "       [17, 18, 19, 20],\n",
       "       [21, 22, 23, 24],\n",
       "       [25, 26, 27, 28]])"
      ]
     },
     "execution_count": 131,
     "metadata": {},
     "output_type": "execute_result"
    }
   ],
   "source": [
    "data[data < 13] = 0\n",
    "data"
   ]
  },
  {
   "cell_type": "code",
   "execution_count": 132,
   "metadata": {
    "colab": {
     "base_uri": "https://localhost:8080/"
    },
    "id": "fDKTJoBqjnuA",
    "outputId": "74009fa9-53a6-4a4a-9502-ee2b27ce589d"
   },
   "outputs": [
    {
     "data": {
      "text/plain": [
       "array([[ 0,  0,  0,  0],\n",
       "       [ 7,  7,  7,  7],\n",
       "       [ 7,  7,  7,  7],\n",
       "       [13, 14, 15, 16],\n",
       "       [ 7,  7,  7,  7],\n",
       "       [ 7,  7,  7,  7],\n",
       "       [ 7,  7,  7,  7]])"
      ]
     },
     "execution_count": 132,
     "metadata": {},
     "output_type": "execute_result"
    }
   ],
   "source": [
    "data[names != 'Mango'] = 7\n",
    "data"
   ]
  },
  {
   "cell_type": "markdown",
   "metadata": {
    "id": "GQk7jpvrjnuC"
   },
   "source": [
    "### Fancy Indexing"
   ]
  },
  {
   "cell_type": "code",
   "execution_count": 133,
   "metadata": {
    "colab": {
     "base_uri": "https://localhost:8080/"
    },
    "id": "B5n9O1-yjnuD",
    "outputId": "abdbcbb5-bd36-48dc-982e-0bd039c1ea26"
   },
   "outputs": [
    {
     "data": {
      "text/plain": [
       "array([[0., 0., 0., 0.],\n",
       "       [1., 1., 1., 1.],\n",
       "       [2., 2., 2., 2.],\n",
       "       [3., 3., 3., 3.],\n",
       "       [4., 4., 4., 4.],\n",
       "       [5., 5., 5., 5.],\n",
       "       [6., 6., 6., 6.],\n",
       "       [7., 7., 7., 7.]])"
      ]
     },
     "execution_count": 133,
     "metadata": {},
     "output_type": "execute_result"
    }
   ],
   "source": [
    "a1 = np.empty((8, 4))\n",
    "for i in range(8):\n",
    "    a1[i] = i\n",
    "a1"
   ]
  },
  {
   "cell_type": "code",
   "execution_count": 134,
   "metadata": {
    "colab": {
     "base_uri": "https://localhost:8080/"
    },
    "id": "gIT9ebFQjnuP",
    "outputId": "d1c788d5-66d2-45d0-cc29-ae6f172907c8"
   },
   "outputs": [
    {
     "data": {
      "text/plain": [
       "array([[4., 4., 4., 4.],\n",
       "       [3., 3., 3., 3.],\n",
       "       [0., 0., 0., 0.],\n",
       "       [6., 6., 6., 6.]])"
      ]
     },
     "execution_count": 134,
     "metadata": {},
     "output_type": "execute_result"
    }
   ],
   "source": [
    "a1[[4, 3, 0, 6]] # This will slice corresponding rows"
   ]
  },
  {
   "cell_type": "code",
   "execution_count": 135,
   "metadata": {
    "colab": {
     "base_uri": "https://localhost:8080/"
    },
    "id": "sQS5aOkujnub",
    "outputId": "d430b7cc-466a-4e78-b21a-ef28d8f4f56c"
   },
   "outputs": [
    {
     "data": {
      "text/plain": [
       "array([[5., 5., 5., 5.],\n",
       "       [3., 3., 3., 3.],\n",
       "       [1., 1., 1., 1.]])"
      ]
     },
     "execution_count": 135,
     "metadata": {},
     "output_type": "execute_result"
    }
   ],
   "source": [
    "a1[[-3, -5, -7]]"
   ]
  },
  {
   "cell_type": "code",
   "execution_count": 136,
   "metadata": {
    "colab": {
     "base_uri": "https://localhost:8080/"
    },
    "id": "tdaV5XPOjnud",
    "outputId": "609ac3b6-7d1f-418d-f1fe-c88dd6e05da7"
   },
   "outputs": [
    {
     "data": {
      "text/plain": [
       "array([[ 0,  1,  2,  3],\n",
       "       [ 4,  5,  6,  7],\n",
       "       [ 8,  9, 10, 11],\n",
       "       [12, 13, 14, 15],\n",
       "       [16, 17, 18, 19],\n",
       "       [20, 21, 22, 23],\n",
       "       [24, 25, 26, 27],\n",
       "       [28, 29, 30, 31]])"
      ]
     },
     "execution_count": 136,
     "metadata": {},
     "output_type": "execute_result"
    }
   ],
   "source": [
    "a2 = np.arange(32).reshape((8, 4))\n",
    "a2\n",
    "#a2[[1, 5, 7, 2], [0, 3, 1, 2]]"
   ]
  },
  {
   "cell_type": "code",
   "execution_count": 137,
   "metadata": {
    "colab": {
     "base_uri": "https://localhost:8080/"
    },
    "id": "Cwie9PBkjnue",
    "outputId": "ec7941cb-8def-4b40-c7e6-d310a067a577"
   },
   "outputs": [
    {
     "data": {
      "text/plain": [
       "array([ 4, 23, 29, 10])"
      ]
     },
     "execution_count": 137,
     "metadata": {},
     "output_type": "execute_result"
    }
   ],
   "source": [
    "a2[[1, 5, 7, 2], [0, 3, 1, 2]]"
   ]
  },
  {
   "cell_type": "code",
   "execution_count": 138,
   "metadata": {
    "colab": {
     "base_uri": "https://localhost:8080/"
    },
    "id": "qsws1vwZjnuf",
    "outputId": "403ddcfb-5c5c-48c7-f8d4-fee1f063ad84"
   },
   "outputs": [
    {
     "data": {
      "text/plain": [
       "array([ 4, 23])"
      ]
     },
     "execution_count": 138,
     "metadata": {},
     "output_type": "execute_result"
    }
   ],
   "source": [
    "a2[[1, 5], [0, 3]]"
   ]
  },
  {
   "cell_type": "code",
   "execution_count": 139,
   "metadata": {
    "colab": {
     "base_uri": "https://localhost:8080/"
    },
    "id": "iEaVOCtAjnug",
    "outputId": "56ca509b-3ac4-492b-97c2-143d18d4323b"
   },
   "outputs": [
    {
     "data": {
      "text/plain": [
       "array([ 4, 23, 29, 10])"
      ]
     },
     "execution_count": 139,
     "metadata": {},
     "output_type": "execute_result"
    }
   ],
   "source": [
    "a2[[1, 5, 7, 2], [0, 3, 1, 2]]"
   ]
  },
  {
   "cell_type": "code",
   "execution_count": 140,
   "metadata": {
    "colab": {
     "base_uri": "https://localhost:8080/"
    },
    "id": "Sx_DgFsRjnuh",
    "outputId": "484f0e0f-902b-41e5-f7ef-da3ec217aaed"
   },
   "outputs": [
    {
     "data": {
      "text/plain": [
       "array([[ 4,  7,  5,  6],\n",
       "       [20, 23, 21, 22],\n",
       "       [28, 31, 29, 30],\n",
       "       [ 8, 11,  9, 10]])"
      ]
     },
     "execution_count": 140,
     "metadata": {},
     "output_type": "execute_result"
    }
   ],
   "source": [
    "a2[[1, 5, 7, 2]][:, [0, 3, 1, 2]]# first extracting the rows and then resuffling the column of that extracted matrix"
   ]
  },
  {
   "cell_type": "code",
   "execution_count": 141,
   "metadata": {
    "colab": {
     "base_uri": "https://localhost:8080/"
    },
    "id": "lGWkXYr5jnui",
    "outputId": "2d2192dc-94fd-4422-a54d-5255516dfeac"
   },
   "outputs": [
    {
     "data": {
      "text/plain": [
       "array([[ 4,  5,  6,  7],\n",
       "       [20, 21, 22, 23],\n",
       "       [28, 29, 30, 31],\n",
       "       [ 8,  9, 10, 11]])"
      ]
     },
     "execution_count": 141,
     "metadata": {},
     "output_type": "execute_result"
    }
   ],
   "source": [
    "a2[[1, 5, 7, 2]]"
   ]
  },
  {
   "cell_type": "code",
   "execution_count": 142,
   "metadata": {
    "colab": {
     "base_uri": "https://localhost:8080/"
    },
    "id": "Zg-X7acGjnuj",
    "outputId": "dbb25bee-e2c5-45b5-9e37-332f1c953ca0"
   },
   "outputs": [
    {
     "data": {
      "text/plain": [
       "array([[ 0,  1,  2,  3],\n",
       "       [ 4,  5,  6,  7],\n",
       "       [ 8,  9, 10, 11],\n",
       "       [12, 13, 14, 15],\n",
       "       [16, 17, 18, 19],\n",
       "       [20, 21, 22, 23],\n",
       "       [24, 25, 26, 27],\n",
       "       [28, 29, 30, 31]])"
      ]
     },
     "execution_count": 142,
     "metadata": {},
     "output_type": "execute_result"
    }
   ],
   "source": [
    "a2"
   ]
  },
  {
   "cell_type": "code",
   "execution_count": 143,
   "metadata": {
    "colab": {
     "base_uri": "https://localhost:8080/"
    },
    "id": "-u2IGZiTjnuj",
    "outputId": "4539b999-99cb-486f-a068-316d8e3a3447"
   },
   "outputs": [
    {
     "data": {
      "text/plain": [
       "array([[ 4,  5,  6,  7],\n",
       "       [20, 21, 22, 23],\n",
       "       [28, 29, 30, 31],\n",
       "       [ 8,  9, 10, 11]])"
      ]
     },
     "execution_count": 143,
     "metadata": {},
     "output_type": "execute_result"
    }
   ],
   "source": [
    "a2[[1, 5, 7, 2]]"
   ]
  },
  {
   "cell_type": "markdown",
   "metadata": {
    "id": "KRGMq2zsjnuk"
   },
   "source": [
    "## Universal Function : Element-Wise Array Operation"
   ]
  },
  {
   "cell_type": "code",
   "execution_count": 144,
   "metadata": {
    "colab": {
     "base_uri": "https://localhost:8080/"
    },
    "id": "u-5uzOx7jnul",
    "outputId": "78ec73ac-f9ae-4904-da8b-f5f6f5eb43cf"
   },
   "outputs": [
    {
     "data": {
      "text/plain": [
       "array([0, 1, 2, 3, 4, 5, 6, 7, 8, 9])"
      ]
     },
     "execution_count": 144,
     "metadata": {},
     "output_type": "execute_result"
    }
   ],
   "source": [
    "a5 = np.arange(10)\n",
    "a5"
   ]
  },
  {
   "cell_type": "code",
   "execution_count": 145,
   "metadata": {
    "colab": {
     "base_uri": "https://localhost:8080/"
    },
    "id": "egmCfgnujnun",
    "outputId": "b3c70646-9cf1-4136-9af9-a60a6d973009"
   },
   "outputs": [
    {
     "data": {
      "text/plain": [
       "array([ 0,  1,  4,  9, 16, 25, 36, 49, 64, 81])"
      ]
     },
     "execution_count": 145,
     "metadata": {},
     "output_type": "execute_result"
    }
   ],
   "source": [
    "np.power(a5,2) ## It calcualtes square of each element and array of same shape as original is obtained."
   ]
  },
  {
   "cell_type": "code",
   "execution_count": 146,
   "metadata": {
    "colab": {
     "base_uri": "https://localhost:8080/"
    },
    "id": "vXYO5fQljnup",
    "outputId": "a18e640a-1e07-4a9c-a2cf-fa0f8feb8d33"
   },
   "outputs": [
    {
     "data": {
      "text/plain": [
       "array([0.        , 1.        , 1.41421356, 1.73205081, 2.        ,\n",
       "       2.23606798, 2.44948974, 2.64575131, 2.82842712, 3.        ])"
      ]
     },
     "execution_count": 146,
     "metadata": {},
     "output_type": "execute_result"
    }
   ],
   "source": [
    "np.sqrt(a5) #np.sqrt(a5)# square root"
   ]
  },
  {
   "cell_type": "code",
   "execution_count": 147,
   "metadata": {
    "colab": {
     "base_uri": "https://localhost:8080/"
    },
    "id": "INOVgTDtjnuq",
    "outputId": "c5e00238-a00a-4e45-9964-0b4a6075142c"
   },
   "outputs": [
    {
     "data": {
      "text/plain": [
       "array([1.00000000e+00, 2.71828183e+00, 7.38905610e+00, 2.00855369e+01,\n",
       "       5.45981500e+01, 1.48413159e+02, 4.03428793e+02, 1.09663316e+03,\n",
       "       2.98095799e+03, 8.10308393e+03])"
      ]
     },
     "execution_count": 147,
     "metadata": {},
     "output_type": "execute_result"
    }
   ],
   "source": [
    "np.exp(a5) #np.exp(a5) # Exponential"
   ]
  },
  {
   "cell_type": "markdown",
   "metadata": {
    "id": "obR_d2iojnur"
   },
   "source": [
    "###### Note : In all above three operation, we are able to operate on each element of array in on shot. This is fast and called universal function, which  is element-wise opeation."
   ]
  },
  {
   "cell_type": "code",
   "execution_count": 148,
   "metadata": {
    "colab": {
     "base_uri": "https://localhost:8080/"
    },
    "id": "6ZKXKwUkjnus",
    "outputId": "776e544e-a922-4cc5-8bd6-9642f3b5b777"
   },
   "outputs": [
    {
     "name": "stdout",
     "output_type": "stream",
     "text": [
      "[0.   1.25 2.5  3.75 5.   6.25 7.5  8.75]\n",
      "[0 1 2 3 4 5 6 7]\n"
     ]
    },
    {
     "data": {
      "text/plain": [
       "array([0.  , 1.25, 2.5 , 3.75, 5.  , 6.25, 7.5 , 8.75])"
      ]
     },
     "execution_count": 148,
     "metadata": {},
     "output_type": "execute_result"
    }
   ],
   "source": [
    "x = np.arange(8)*1.25\n",
    "y = np.arange(8)\n",
    "print(x)\n",
    "print(y)\n",
    "np.maximum(x, y)# minimum"
   ]
  },
  {
   "cell_type": "code",
   "execution_count": 149,
   "metadata": {
    "colab": {
     "base_uri": "https://localhost:8080/"
    },
    "id": "h85s7xvfjnus",
    "outputId": "12df17c5-3cdf-4f21-d738-cc03ab7ec938"
   },
   "outputs": [
    {
     "data": {
      "text/plain": [
       "array([0.  , 1.25, 2.5 , 3.75, 5.  , 6.25, 7.5 , 8.75])"
      ]
     },
     "execution_count": 149,
     "metadata": {},
     "output_type": "execute_result"
    }
   ],
   "source": [
    "x"
   ]
  },
  {
   "cell_type": "code",
   "execution_count": 150,
   "metadata": {
    "id": "3XvQVaXgjnut"
   },
   "outputs": [],
   "source": [
    "a,b=np.modf(x) ### first variable gives after decimal values"
   ]
  },
  {
   "cell_type": "code",
   "execution_count": 151,
   "metadata": {
    "colab": {
     "base_uri": "https://localhost:8080/"
    },
    "id": "Hzb5EUKWjnuu",
    "outputId": "72dd78d9-704a-4677-adc7-16ed01df84a8"
   },
   "outputs": [
    {
     "data": {
      "text/plain": [
       "array([0.  , 0.25, 0.5 , 0.75, 0.  , 0.25, 0.5 , 0.75])"
      ]
     },
     "execution_count": 151,
     "metadata": {},
     "output_type": "execute_result"
    }
   ],
   "source": [
    "a"
   ]
  },
  {
   "cell_type": "code",
   "execution_count": 152,
   "metadata": {
    "colab": {
     "base_uri": "https://localhost:8080/"
    },
    "id": "l0w52eogjnuu",
    "outputId": "81351256-a346-48c6-9f94-adef07ba6c84"
   },
   "outputs": [
    {
     "data": {
      "text/plain": [
       "array([0., 1., 2., 3., 5., 6., 7., 8.])"
      ]
     },
     "execution_count": 152,
     "metadata": {},
     "output_type": "execute_result"
    }
   ],
   "source": [
    "b"
   ]
  },
  {
   "cell_type": "code",
   "execution_count": 153,
   "metadata": {
    "colab": {
     "base_uri": "https://localhost:8080/"
    },
    "id": "-kj2alKejnuv",
    "outputId": "f49a7b6a-8fc3-4f86-b57f-80e567a5c902"
   },
   "outputs": [
    {
     "data": {
      "text/plain": [
       "array([0, 1, 2, 3, 4, 5, 6, 7])"
      ]
     },
     "execution_count": 153,
     "metadata": {},
     "output_type": "execute_result"
    }
   ],
   "source": [
    "y"
   ]
  },
  {
   "cell_type": "code",
   "execution_count": 154,
   "metadata": {
    "colab": {
     "base_uri": "https://localhost:8080/"
    },
    "id": "KCVQ6u-Rjnuw",
    "outputId": "4b6d4bdf-b6b2-4d1a-c591-78c5f49f79c5"
   },
   "outputs": [
    {
     "data": {
      "text/plain": [
       "8.75"
      ]
     },
     "execution_count": 154,
     "metadata": {},
     "output_type": "execute_result"
    }
   ],
   "source": [
    "np.max((x,y)) # gives maximum of all element from both x and y"
   ]
  },
  {
   "cell_type": "code",
   "execution_count": 155,
   "metadata": {
    "colab": {
     "base_uri": "https://localhost:8080/"
    },
    "id": "Ga2wdNwVjnux",
    "outputId": "bf302e0a-9b2d-424d-8794-dc4b4c311ae5"
   },
   "outputs": [
    {
     "data": {
      "text/plain": [
       "array([-2.813679  , -2.23511235, -8.07997739, -6.31769699,  5.82679586,\n",
       "       -0.76895556, -4.32447757])"
      ]
     },
     "execution_count": 155,
     "metadata": {},
     "output_type": "execute_result"
    }
   ],
   "source": [
    "a6 = np.random.randn(7) * 5\n",
    "a6\n",
    "#remainder, whole_part = np.modf(arr)\n",
    "#remainder\n",
    "#whole_part"
   ]
  },
  {
   "cell_type": "code",
   "execution_count": 156,
   "metadata": {
    "colab": {
     "base_uri": "https://localhost:8080/"
    },
    "id": "2_oFUFrkjnuy",
    "outputId": "b64aa5c5-7fd8-410b-cf53-81fa8fc271c0"
   },
   "outputs": [
    {
     "data": {
      "text/plain": [
       "array([-0.813679  , -0.23511235, -0.07997739, -0.31769699,  0.82679586,\n",
       "       -0.76895556, -0.32447757])"
      ]
     },
     "execution_count": 156,
     "metadata": {},
     "output_type": "execute_result"
    }
   ],
   "source": [
    "remainder, whole_part = np.modf(a6)\n",
    "remainder"
   ]
  },
  {
   "cell_type": "code",
   "execution_count": 157,
   "metadata": {
    "colab": {
     "base_uri": "https://localhost:8080/"
    },
    "id": "GbleMRGyjnuz",
    "outputId": "3ef210dd-4419-4f0c-d302-f1ef25192b5c"
   },
   "outputs": [
    {
     "data": {
      "text/plain": [
       "array([-2., -2., -8., -6.,  5., -0., -4.])"
      ]
     },
     "execution_count": 157,
     "metadata": {},
     "output_type": "execute_result"
    }
   ],
   "source": [
    "whole_part"
   ]
  },
  {
   "cell_type": "markdown",
   "metadata": {
    "id": "R6UdrpFzjnuz"
   },
   "source": [
    "##### Many other universal functions are there, check the documentation. "
   ]
  },
  {
   "cell_type": "markdown",
   "metadata": {
    "id": "2xYoDjgYjnu0"
   },
   "source": [
    "### Array-Oriented operations with Arrays\n",
    "* meshgrid"
   ]
  },
  {
   "cell_type": "code",
   "execution_count": 158,
   "metadata": {
    "colab": {
     "base_uri": "https://localhost:8080/"
    },
    "id": "mgS6E_Pmjnu1",
    "outputId": "e2b89951-9ef9-4b83-9ca6-e46442b37cc1"
   },
   "outputs": [
    {
     "name": "stdout",
     "output_type": "stream",
     "text": [
      "[-3. -2. -1.  0.  1.  2.  3.] \n",
      "\n",
      "[-3. -2. -1.  0.  1.  2.  3.] \n",
      "\n"
     ]
    }
   ],
   "source": [
    "x=np.linspace(-3,3,7) \n",
    "y=np.linspace(-3,3,7)\n",
    "print(x,'\\n')\n",
    "print(y,'\\n')"
   ]
  },
  {
   "cell_type": "markdown",
   "metadata": {
    "id": "dEivqz3sjnu2"
   },
   "source": [
    "#### np.meshgrid\n",
    "* It is a function which generates x and y co-ordinates  of all possible points on graph paper composed by given x an y axis values. In this case x and y both have 7/7 values from -3 to 3 so there are 7X7=49 data points on  graph paper thus meshgrid generate 49 x-cordinate and 49 y-conrdinate of each 49 data points as  given below. \n",
    "![Meshgrid.PNG](attachment:Meshgrid.PNG)\n",
    "#####  Now check this code below."
   ]
  },
  {
   "cell_type": "code",
   "execution_count": 159,
   "metadata": {
    "colab": {
     "base_uri": "https://localhost:8080/"
    },
    "id": "SLrwW4ILjnu3",
    "outputId": "3558621f-fb9d-4fb1-90f8-f1429fd43ece"
   },
   "outputs": [
    {
     "name": "stdout",
     "output_type": "stream",
     "text": [
      "[[-3. -2. -1.  0.  1.  2.  3.]\n",
      " [-3. -2. -1.  0.  1.  2.  3.]\n",
      " [-3. -2. -1.  0.  1.  2.  3.]\n",
      " [-3. -2. -1.  0.  1.  2.  3.]\n",
      " [-3. -2. -1.  0.  1.  2.  3.]\n",
      " [-3. -2. -1.  0.  1.  2.  3.]\n",
      " [-3. -2. -1.  0.  1.  2.  3.]] \n",
      "\n",
      "[[-3. -3. -3. -3. -3. -3. -3.]\n",
      " [-2. -2. -2. -2. -2. -2. -2.]\n",
      " [-1. -1. -1. -1. -1. -1. -1.]\n",
      " [ 0.  0.  0.  0.  0.  0.  0.]\n",
      " [ 1.  1.  1.  1.  1.  1.  1.]\n",
      " [ 2.  2.  2.  2.  2.  2.  2.]\n",
      " [ 3.  3.  3.  3.  3.  3.  3.]]\n"
     ]
    }
   ],
   "source": [
    "xs,ys = np.meshgrid(x, y)\n",
    "print(xs,'\\n')\n",
    "print(ys)"
   ]
  },
  {
   "cell_type": "code",
   "execution_count": 160,
   "metadata": {
    "colab": {
     "base_uri": "https://localhost:8080/"
    },
    "id": "KVR7ieHGjnu4",
    "outputId": "acbd2741-04c9-40f9-cca9-2efb0eb56ed2"
   },
   "outputs": [
    {
     "data": {
      "text/plain": [
       "(7, 7)"
      ]
     },
     "execution_count": 160,
     "metadata": {},
     "output_type": "execute_result"
    }
   ],
   "source": [
    "xs.shape"
   ]
  },
  {
   "cell_type": "code",
   "execution_count": 161,
   "metadata": {
    "colab": {
     "base_uri": "https://localhost:8080/"
    },
    "id": "AbOxs8k3jnu5",
    "outputId": "76ca8756-436c-4913-ac98-661dac3e112a"
   },
   "outputs": [
    {
     "data": {
      "text/plain": [
       "(7, 7)"
      ]
     },
     "execution_count": 161,
     "metadata": {},
     "output_type": "execute_result"
    }
   ],
   "source": [
    "ys.shape"
   ]
  },
  {
   "cell_type": "code",
   "execution_count": 162,
   "metadata": {
    "colab": {
     "base_uri": "https://localhost:8080/"
    },
    "id": "s-hj98xUjnu6",
    "outputId": "f8c526e8-349a-4520-956b-584bb2d46947"
   },
   "outputs": [
    {
     "data": {
      "text/plain": [
       "array([-3., -2., -1.,  0.,  1.,  2.,  3., -3., -2., -1.,  0.,  1.,  2.,\n",
       "        3., -3., -2., -1.,  0.,  1.,  2.,  3., -3., -2., -1.,  0.,  1.,\n",
       "        2.,  3., -3., -2., -1.,  0.,  1.,  2.,  3., -3., -2., -1.,  0.,\n",
       "        1.,  2.,  3., -3., -2., -1.,  0.,  1.,  2.,  3.])"
      ]
     },
     "execution_count": 162,
     "metadata": {},
     "output_type": "execute_result"
    }
   ],
   "source": [
    "x1=xs.ravel() # Convert 2D into 1D\n",
    "x1"
   ]
  },
  {
   "cell_type": "code",
   "execution_count": 163,
   "metadata": {
    "colab": {
     "base_uri": "https://localhost:8080/"
    },
    "id": "htXkLE_1jnu7",
    "outputId": "e229165d-1899-44aa-c8f9-d492aefacf7f"
   },
   "outputs": [
    {
     "data": {
      "text/plain": [
       "array([-3., -3., -3., -3., -3., -3., -3., -2., -2., -2., -2., -2., -2.,\n",
       "       -2., -1., -1., -1., -1., -1., -1., -1.,  0.,  0.,  0.,  0.,  0.,\n",
       "        0.,  0.,  1.,  1.,  1.,  1.,  1.,  1.,  1.,  2.,  2.,  2.,  2.,\n",
       "        2.,  2.,  2.,  3.,  3.,  3.,  3.,  3.,  3.,  3.])"
      ]
     },
     "execution_count": 163,
     "metadata": {},
     "output_type": "execute_result"
    }
   ],
   "source": [
    "y1=ys.ravel() # Convert 2D into 1D\n",
    "y1"
   ]
  },
  {
   "cell_type": "code",
   "execution_count": 164,
   "metadata": {
    "colab": {
     "base_uri": "https://localhost:8080/",
     "height": 265
    },
    "id": "GgrJFNRgjnu8",
    "outputId": "e9e67233-4ff4-4e03-b246-5fa14328c1e8"
   },
   "outputs": [
    {
     "data": {
      "image/png": "[encoded data removed]",
      "text/plain": [
       "<Figure size 432x288 with 1 Axes>"
      ]
     },
     "metadata": {
      "needs_background": "light"
     },
     "output_type": "display_data"
    }
   ],
   "source": [
    "import matplotlib.pyplot as plt ## Importing matplotlib library for plotting\n",
    "plt.plot(x1,y1,'ro') # For plotting data points we have to pass x and y coordinates of each point as seperate 1D array or list. \n",
    "# 'r'-->for red color and alphabet'o'--> for dot representing each point.\n",
    "plt.grid(True) # It make graph paper like grid when True is passed.\n",
    "plt.axhline() # Plot horizontal line at y=0, i.e. x-asis.\n",
    "plt.axvline() # Plot vertical line at x=0, i.e. y-axis.\n",
    "plt.show()"
   ]
  },
  {
   "cell_type": "code",
   "execution_count": 165,
   "metadata": {
    "colab": {
     "base_uri": "https://localhost:8080/"
    },
    "id": "PFOEVSWNjnu8",
    "outputId": "a14b3b48-78bc-4103-c591-64424522382f"
   },
   "outputs": [
    {
     "data": {
      "text/plain": [
       "array([[-3., -3.],\n",
       "       [-2., -3.],\n",
       "       [-1., -3.],\n",
       "       [ 0., -3.],\n",
       "       [ 1., -3.],\n",
       "       [ 2., -3.],\n",
       "       [ 3., -3.],\n",
       "       [-3., -2.],\n",
       "       [-2., -2.],\n",
       "       [-1., -2.],\n",
       "       [ 0., -2.],\n",
       "       [ 1., -2.],\n",
       "       [ 2., -2.],\n",
       "       [ 3., -2.],\n",
       "       [-3., -1.],\n",
       "       [-2., -1.],\n",
       "       [-1., -1.],\n",
       "       [ 0., -1.],\n",
       "       [ 1., -1.],\n",
       "       [ 2., -1.],\n",
       "       [ 3., -1.],\n",
       "       [-3.,  0.],\n",
       "       [-2.,  0.],\n",
       "       [-1.,  0.],\n",
       "       [ 0.,  0.],\n",
       "       [ 1.,  0.],\n",
       "       [ 2.,  0.],\n",
       "       [ 3.,  0.],\n",
       "       [-3.,  1.],\n",
       "       [-2.,  1.],\n",
       "       [-1.,  1.],\n",
       "       [ 0.,  1.],\n",
       "       [ 1.,  1.],\n",
       "       [ 2.,  1.],\n",
       "       [ 3.,  1.],\n",
       "       [-3.,  2.],\n",
       "       [-2.,  2.],\n",
       "       [-1.,  2.],\n",
       "       [ 0.,  2.],\n",
       "       [ 1.,  2.],\n",
       "       [ 2.,  2.],\n",
       "       [ 3.,  2.],\n",
       "       [-3.,  3.],\n",
       "       [-2.,  3.],\n",
       "       [-1.,  3.],\n",
       "       [ 0.,  3.],\n",
       "       [ 1.,  3.],\n",
       "       [ 2.,  3.],\n",
       "       [ 3.,  3.]])"
      ]
     },
     "execution_count": 165,
     "metadata": {},
     "output_type": "execute_result"
    }
   ],
   "source": [
    "Each_points=np.c_[x1,y1] ## check youself, what np.c_ is doing here.\n",
    "Each_points"
   ]
  },
  {
   "cell_type": "code",
   "execution_count": 166,
   "metadata": {
    "colab": {
     "base_uri": "https://localhost:8080/"
    },
    "id": "Gy-fNqdxjnu9",
    "outputId": "72a57b93-0519-49a6-c6bb-4d99eca591a9"
   },
   "outputs": [
    {
     "data": {
      "text/plain": [
       "array([[-3., -3.],\n",
       "       [-2., -3.],\n",
       "       [-1., -3.],\n",
       "       [ 0., -3.],\n",
       "       [ 1., -3.],\n",
       "       [ 2., -3.],\n",
       "       [ 3., -3.],\n",
       "       [-3., -2.],\n",
       "       [-2., -2.],\n",
       "       [-1., -2.],\n",
       "       [ 0., -2.],\n",
       "       [ 1., -2.],\n",
       "       [ 2., -2.],\n",
       "       [ 3., -2.],\n",
       "       [-3., -1.],\n",
       "       [-2., -1.],\n",
       "       [-1., -1.],\n",
       "       [ 0., -1.],\n",
       "       [ 1., -1.],\n",
       "       [ 2., -1.],\n",
       "       [ 3., -1.],\n",
       "       [-3.,  0.],\n",
       "       [-2.,  0.],\n",
       "       [-1.,  0.],\n",
       "       [ 0.,  0.],\n",
       "       [ 1.,  0.],\n",
       "       [ 2.,  0.],\n",
       "       [ 3.,  0.],\n",
       "       [-3.,  1.],\n",
       "       [-2.,  1.],\n",
       "       [-1.,  1.],\n",
       "       [ 0.,  1.],\n",
       "       [ 1.,  1.],\n",
       "       [ 2.,  1.],\n",
       "       [ 3.,  1.],\n",
       "       [-3.,  2.],\n",
       "       [-2.,  2.],\n",
       "       [-1.,  2.],\n",
       "       [ 0.,  2.],\n",
       "       [ 1.,  2.],\n",
       "       [ 2.,  2.],\n",
       "       [ 3.,  2.],\n",
       "       [-3.,  3.],\n",
       "       [-2.,  3.],\n",
       "       [-1.,  3.],\n",
       "       [ 0.,  3.],\n",
       "       [ 1.,  3.],\n",
       "       [ 2.,  3.],\n",
       "       [ 3.,  3.]])"
      ]
     },
     "execution_count": 166,
     "metadata": {},
     "output_type": "execute_result"
    }
   ],
   "source": [
    "Each_points = np.c_[xs.ravel(), ys.ravel()]\n",
    "Each_points"
   ]
  },
  {
   "cell_type": "markdown",
   "metadata": {
    "id": "hMupt7K-jnu_"
   },
   "source": [
    "### Expressing Conditional Logic as Array Operations"
   ]
  },
  {
   "cell_type": "code",
   "execution_count": 167,
   "metadata": {
    "id": "1FU9lsNHjnvA"
   },
   "outputs": [],
   "source": [
    "x = np.array([1.1, 1.2, 1.3, 1.4, 1.5])\n",
    "y = np.array([2.1, 2.2, 2.3, 2.4, 2.5])\n",
    "cond = np.array([True, False, True, True, False])"
   ]
  },
  {
   "cell_type": "code",
   "execution_count": 168,
   "metadata": {
    "colab": {
     "base_uri": "https://localhost:8080/"
    },
    "id": "ls0P0RXjjnvB",
    "outputId": "7c1c6171-8ad3-4d14-f2af-f4cb465d3122"
   },
   "outputs": [
    {
     "name": "stdout",
     "output_type": "stream",
     "text": [
      "(1.1, 2.1, True)\n",
      "(1.2, 2.2, False)\n",
      "(1.3, 2.3, True)\n",
      "(1.4, 2.4, True)\n",
      "(1.5, 2.5, False)\n"
     ]
    }
   ],
   "source": [
    "d=zip(x, y, cond)\n",
    "for i in d:\n",
    "    print(i)"
   ]
  },
  {
   "cell_type": "code",
   "execution_count": 169,
   "metadata": {
    "colab": {
     "base_uri": "https://localhost:8080/"
    },
    "id": "2SZ7R3XUjnvD",
    "outputId": "c0911e0f-c953-4a4d-c789-15969d17033b"
   },
   "outputs": [
    {
     "data": {
      "text/plain": [
       "[1.1, 2.2, 1.3, 1.4, 2.5]"
      ]
     },
     "execution_count": 169,
     "metadata": {},
     "output_type": "execute_result"
    }
   ],
   "source": [
    "result = [(x if c else y) for x, y, c in zip(x, y, cond)]  ## Comprehension\n",
    "result"
   ]
  },
  {
   "cell_type": "code",
   "execution_count": 170,
   "metadata": {
    "colab": {
     "base_uri": "https://localhost:8080/"
    },
    "id": "AcrZ1HN5jnvJ",
    "outputId": "1e19c1f5-47f0-4853-bd90-5fbdca61bde5"
   },
   "outputs": [
    {
     "data": {
      "text/plain": [
       "array([1.1, 2.2, 1.3, 1.4, 2.5])"
      ]
     },
     "execution_count": 170,
     "metadata": {},
     "output_type": "execute_result"
    }
   ],
   "source": [
    "result = np.where(cond, x, y) ## inside np.where forTrue value of cond, x is chosen else y is chosen\n",
    "result"
   ]
  },
  {
   "cell_type": "code",
   "execution_count": 171,
   "metadata": {
    "colab": {
     "base_uri": "https://localhost:8080/"
    },
    "id": "ptuWF4ctjnvK",
    "outputId": "80478663-e5d7-4ac6-c491-c0ea5a819994"
   },
   "outputs": [
    {
     "data": {
      "text/plain": [
       "array([[4, 4, 5],\n",
       "       [1, 2, 3],\n",
       "       [0, 1, 2]])"
      ]
     },
     "execution_count": 171,
     "metadata": {},
     "output_type": "execute_result"
    }
   ],
   "source": [
    "arr = np.array([[4, 4,5],[1,2,3],[0,1,2,]]) \n",
    "arr"
   ]
  },
  {
   "cell_type": "code",
   "execution_count": 172,
   "metadata": {
    "colab": {
     "base_uri": "https://localhost:8080/"
    },
    "id": "pGA_elPsjnvO",
    "outputId": "102b2797-1371-4b2a-cbed-0fb1bc3c3050"
   },
   "outputs": [
    {
     "data": {
      "text/plain": [
       "array([[ 4,  4,  5],\n",
       "       [10, 20,  3],\n",
       "       [ 0, 10, 20]])"
      ]
     },
     "execution_count": 172,
     "metadata": {},
     "output_type": "execute_result"
    }
   ],
   "source": [
    "np.where(arr <= 2, arr*10, arr) \n",
    "# If conditional statement is True, then corresponding value  of 'arr' is multiplied by 10\n",
    "# and if False then corresponding  value of 'arr' remains as it is.\n",
    "# Note 'arr' itself doesn't chang. This is just a display. To use it we have to store it in another variable."
   ]
  },
  {
   "cell_type": "code",
   "execution_count": 173,
   "metadata": {
    "colab": {
     "base_uri": "https://localhost:8080/"
    },
    "id": "855ZUmxujnvQ",
    "outputId": "b5738d99-79b2-495b-f27e-7f3dd5e38038"
   },
   "outputs": [
    {
     "data": {
      "text/plain": [
       "array([[4, 4, 5],\n",
       "       [1, 2, 3],\n",
       "       [0, 1, 2]])"
      ]
     },
     "execution_count": 173,
     "metadata": {},
     "output_type": "execute_result"
    }
   ],
   "source": [
    "arr # It remains same"
   ]
  },
  {
   "cell_type": "code",
   "execution_count": 174,
   "metadata": {
    "colab": {
     "base_uri": "https://localhost:8080/"
    },
    "id": "rjYHlYkZjnvS",
    "outputId": "43f7f028-c5e6-45c5-a53e-a59b26b7c4ed"
   },
   "outputs": [
    {
     "data": {
      "text/plain": [
       "3"
      ]
     },
     "execution_count": 174,
     "metadata": {},
     "output_type": "execute_result"
    }
   ],
   "source": [
    "(arr >=4).sum() ## Explain what is happening here?"
   ]
  },
  {
   "cell_type": "code",
   "execution_count": 175,
   "metadata": {
    "colab": {
     "base_uri": "https://localhost:8080/"
    },
    "id": "gnh7Si9pjnvS",
    "outputId": "eb41ea51-4da3-4c72-99cd-d20058d063c2"
   },
   "outputs": [
    {
     "data": {
      "text/plain": [
       "13"
      ]
     },
     "execution_count": 175,
     "metadata": {},
     "output_type": "execute_result"
    }
   ],
   "source": [
    "arr[arr>=4].sum() ## Explain what is happening here?"
   ]
  },
  {
   "cell_type": "markdown",
   "metadata": {
    "id": "CNV4_-GHjnvT"
   },
   "source": [
    "### Sorting"
   ]
  },
  {
   "cell_type": "code",
   "execution_count": 176,
   "metadata": {
    "colab": {
     "base_uri": "https://localhost:8080/"
    },
    "id": "8owZCxL8jnvV",
    "outputId": "f8339017-c1f7-4a1d-8911-a6f23768cec2"
   },
   "outputs": [
    {
     "data": {
      "text/plain": [
       "array([20,  5,  6, -1,  2, 30,  8,  9, 10])"
      ]
     },
     "execution_count": 176,
     "metadata": {},
     "output_type": "execute_result"
    }
   ],
   "source": [
    "arr = np.array([20,5,6,-1,2,30,8,9,10])\n",
    "arr\n",
    "# arr.sort()\n",
    "# arr"
   ]
  },
  {
   "cell_type": "code",
   "execution_count": 177,
   "metadata": {
    "colab": {
     "base_uri": "https://localhost:8080/"
    },
    "id": "-33FufAJjnvW",
    "outputId": "d521a70d-346e-4b2c-93b9-46e67fd6679c"
   },
   "outputs": [
    {
     "data": {
      "text/plain": [
       "array([-1,  2,  5,  6,  8,  9, 10, 20, 30])"
      ]
     },
     "execution_count": 177,
     "metadata": {},
     "output_type": "execute_result"
    }
   ],
   "source": [
    "arr.sort()\n",
    "arr"
   ]
  },
  {
   "cell_type": "code",
   "execution_count": 178,
   "metadata": {
    "colab": {
     "base_uri": "https://localhost:8080/"
    },
    "id": "x2H86RRYjnvX",
    "outputId": "2f5cc31a-3ee1-490a-8203-b19a03543977"
   },
   "outputs": [
    {
     "data": {
      "text/plain": [
       "array([[12,  5,  0],\n",
       "       [ 3, 11,  3],\n",
       "       [ 7,  9,  3],\n",
       "       [ 5,  2,  4],\n",
       "       [ 7,  6,  8]])"
      ]
     },
     "execution_count": 178,
     "metadata": {},
     "output_type": "execute_result"
    }
   ],
   "source": [
    "np.random.seed(0)\n",
    "arr = np.random.choice(np.arange(15),15).reshape(5, 3) # Check random topic given below for np.random.choice\n",
    "arr\n"
   ]
  },
  {
   "cell_type": "code",
   "execution_count": 179,
   "metadata": {
    "colab": {
     "base_uri": "https://localhost:8080/"
    },
    "id": "CRF2uhMtjnvX",
    "outputId": "cb6ce272-ccad-4646-efc6-86d93de5035a"
   },
   "outputs": [
    {
     "data": {
      "text/plain": [
       "array([[ 0,  5, 12],\n",
       "       [ 3,  3, 11],\n",
       "       [ 3,  7,  9],\n",
       "       [ 2,  4,  5],\n",
       "       [ 6,  7,  8]])"
      ]
     },
     "execution_count": 179,
     "metadata": {},
     "output_type": "execute_result"
    }
   ],
   "source": [
    "arr.sort() #  By defalut it sorts according to axis 1\n",
    "arr  # Note array itselt gets sorted"
   ]
  },
  {
   "cell_type": "code",
   "execution_count": 180,
   "metadata": {
    "colab": {
     "base_uri": "https://localhost:8080/"
    },
    "id": "hQBuiPoKjnvZ",
    "outputId": "9e9773bf-17ef-45c1-8fd8-97b2143779fc"
   },
   "outputs": [
    {
     "data": {
      "text/plain": [
       "array([[ 0,  3,  5],\n",
       "       [ 2,  4,  8],\n",
       "       [ 3,  5,  9],\n",
       "       [ 3,  7, 11],\n",
       "       [ 6,  7, 12]])"
      ]
     },
     "execution_count": 180,
     "metadata": {},
     "output_type": "execute_result"
    }
   ],
   "source": [
    "arr.sort(0)\n",
    "arr"
   ]
  },
  {
   "cell_type": "markdown",
   "metadata": {
    "id": "KYbJq6qyjnvb"
   },
   "source": [
    "### Unique and Other Set Logic for 1-D Array"
   ]
  },
  {
   "cell_type": "code",
   "execution_count": 181,
   "metadata": {
    "colab": {
     "base_uri": "https://localhost:8080/"
    },
    "id": "OCgE7P6Pjnvd",
    "outputId": "a1589624-8474-45bf-9778-e9154e0f8b5e"
   },
   "outputs": [
    {
     "name": "stdout",
     "output_type": "stream",
     "text": [
      "(array(['Bob', 'Joe', 'Will'], dtype='<U4'), array([2, 3, 2])) \n",
      "\n",
      "\n",
      "['Bob' 'Joe' 'Will']\n",
      "[2 3 2]\n"
     ]
    }
   ],
   "source": [
    "names = np.array(['Bob', 'Joe', 'Will', 'Bob', 'Will', 'Joe', 'Joe'])\n",
    "\n",
    "tup=np.unique(names,return_counts=True)\n",
    "print(tup,'\\n\\n')\n",
    "# This will return a tuple containg two array, first arry is composed of all the unique names\n",
    "# Second array is composed of counting of each unique name\n",
    "# Below is the code for unpacking the tuple and storing two array in two different array which can be used further\n",
    "u_name,count_name=np.unique(names,return_counts=True)\n",
    "print(u_name)\n",
    "print(count_name)"
   ]
  },
  {
   "cell_type": "code",
   "execution_count": 182,
   "metadata": {
    "colab": {
     "base_uri": "https://localhost:8080/"
    },
    "id": "2L3Zugskjnvg",
    "outputId": "39b3e7bb-72e1-409a-ba43-3c9d465c38ee"
   },
   "outputs": [
    {
     "name": "stdout",
     "output_type": "stream",
     "text": [
      "[1 2 3 4]\n",
      "[2 2 5 2]\n"
     ]
    }
   ],
   "source": [
    "ints = np.array([3, 3, 3, 2, 2, 1, 1, 4, 4,3,3])\n",
    "unique_value,count=np.unique(ints,return_counts=True)\n",
    "print(unique_value)\n",
    "print(count)"
   ]
  },
  {
   "cell_type": "markdown",
   "metadata": {
    "id": "Td5TEietjnvi"
   },
   "source": [
    " There are two useful function np.argmax  and np.argmin.\n",
    "* np.argmax --> It gives index of largest value in any array.\n",
    "* np.argmin --> It gives index of samllest value in any array."
   ]
  },
  {
   "cell_type": "code",
   "execution_count": 183,
   "metadata": {
    "colab": {
     "base_uri": "https://localhost:8080/"
    },
    "id": "KpQumgTmjnvu",
    "outputId": "48e298c9-a1e5-48e5-9611-edf9d1bf1672"
   },
   "outputs": [
    {
     "data": {
      "text/plain": [
       "2"
      ]
     },
     "execution_count": 183,
     "metadata": {},
     "output_type": "execute_result"
    }
   ],
   "source": [
    "ind=np.argmax(count) ## It gives index of largest value in 'count', i.e index of value '5'.\n",
    "ind"
   ]
  },
  {
   "cell_type": "code",
   "execution_count": 184,
   "metadata": {
    "colab": {
     "base_uri": "https://localhost:8080/"
    },
    "id": "_YKoS28Mjnvv",
    "outputId": "8cde0e0f-bd92-401f-985b-d34ae0784e00"
   },
   "outputs": [
    {
     "data": {
      "text/plain": [
       "3"
      ]
     },
     "execution_count": 184,
     "metadata": {},
     "output_type": "execute_result"
    }
   ],
   "source": [
    "unique_value[ind] ## This gives the unique value which is repeated maximum times."
   ]
  },
  {
   "cell_type": "code",
   "execution_count": 185,
   "metadata": {
    "colab": {
     "base_uri": "https://localhost:8080/"
    },
    "id": "N0qGbJeqjnvy",
    "outputId": "d48ccf36-f0f7-4d45-9ffa-ea85bc4f2ed8"
   },
   "outputs": [
    {
     "name": "stdout",
     "output_type": "stream",
     "text": [
      "3\n"
     ]
    }
   ],
   "source": [
    "# Above operation in one shot\n",
    "ints = np.array([3, 3, 3, 2, 2, 1, 1, 4, 4,3,3])\n",
    "unique_value,count=np.unique(ints,return_counts=True)\n",
    "print(unique_value[np.argmax(count)]) ## This gives maximum repeated numbe of array 'ints'."
   ]
  },
  {
   "cell_type": "code",
   "execution_count": 186,
   "metadata": {
    "colab": {
     "base_uri": "https://localhost:8080/"
    },
    "id": "Lijh_7L7jnv0",
    "outputId": "ee025367-86cb-4b0a-a565-42a6eb90661d"
   },
   "outputs": [
    {
     "data": {
      "text/plain": [
       "{'Apple', 'Bob', 'Joe', 'Mango', 'Will'}"
      ]
     },
     "execution_count": 186,
     "metadata": {},
     "output_type": "execute_result"
    }
   ],
   "source": [
    "# set also gives unique value.\n",
    "names = np.array(['Mango','Bob', 'Joe', 'Will', 'Bob', 'Will', 'Joe', 'Joe','Apple'])\n",
    "set(names) ## It automatically gives sorted result."
   ]
  },
  {
   "cell_type": "code",
   "execution_count": 187,
   "metadata": {
    "colab": {
     "base_uri": "https://localhost:8080/"
    },
    "id": "C-A6I21Vjnv1",
    "outputId": "4ba7c696-d9dd-4560-bd32-b8d573f1ff0c"
   },
   "outputs": [
    {
     "data": {
      "text/plain": [
       "['Joe', 'Bob', 'Apple', 'Mango', 'Will']"
      ]
     },
     "execution_count": 187,
     "metadata": {},
     "output_type": "execute_result"
    }
   ],
   "source": [
    "list(set(names)) # conveting set inot list"
   ]
  },
  {
   "cell_type": "code",
   "execution_count": 188,
   "metadata": {
    "colab": {
     "base_uri": "https://localhost:8080/"
    },
    "id": "zX6Ym79Jjnv2",
    "outputId": "db73a547-efa5-41af-8d1b-8e48b44437b9"
   },
   "outputs": [
    {
     "data": {
      "text/plain": [
       "array([ True, False, False,  True,  True, False,  True])"
      ]
     },
     "execution_count": 188,
     "metadata": {},
     "output_type": "execute_result"
    }
   ],
   "source": [
    "values = np.array([6, 0, 0, 3, 2, 5, 6])\n",
    "np.in1d(values, [2, 3, 6]) # Gives boolean indicating whether each element of array 'values' is contained in array [2,3,6]"
   ]
  },
  {
   "cell_type": "markdown",
   "metadata": {
    "id": "i9NKz65Pjnv3"
   },
   "source": [
    "Many other set Operationa are there: np.intersect1d(x,y), np.union(x,y)....Check youself!!"
   ]
  },
  {
   "cell_type": "markdown",
   "metadata": {
    "id": "BSIg2geNjnv3"
   },
   "source": [
    "### Saving and loading   Array data"
   ]
  },
  {
   "cell_type": "code",
   "execution_count": 189,
   "metadata": {
    "id": "UTOYGJhejnv4"
   },
   "outputs": [],
   "source": [
    "a1 = np.array([[10,20],[40,50]]) ## Creating an array named a1\n",
    "np.save('data_mat', a1)          #saving this array a1 with name as 'data_mat'\n",
    "# destination of location where we want to store can be passed as given below\n",
    "np.save(r'C:\\Users\\hP\\Desktop\\Test_Folder\\data_mat2',a1)"
   ]
  },
  {
   "cell_type": "code",
   "execution_count": 190,
   "metadata": {
    "colab": {
     "base_uri": "https://localhost:8080/"
    },
    "id": "ByGy4jItjnv5",
    "outputId": "9dc51006-5f32-4c5c-90de-5c502f7ae975"
   },
   "outputs": [
    {
     "data": {
      "text/plain": [
       "array([[10, 20],\n",
       "       [40, 50]])"
      ]
     },
     "execution_count": 190,
     "metadata": {},
     "output_type": "execute_result"
    }
   ],
   "source": [
    "np.load('data_mat.npy') # Loading that array again"
   ]
  },
  {
   "cell_type": "code",
   "execution_count": 191,
   "metadata": {
    "colab": {
     "base_uri": "https://localhost:8080/"
    },
    "id": "uHnWG6c3jnv5",
    "outputId": "ead7cf3c-72fd-4a99-990c-1ead566cbf90"
   },
   "outputs": [
    {
     "data": {
      "text/plain": [
       "array([[10, 20],\n",
       "       [40, 50]])"
      ]
     },
     "execution_count": 191,
     "metadata": {},
     "output_type": "execute_result"
    }
   ],
   "source": [
    "np.load(r'C:\\Users\\hP\\Desktop\\Test_Folder\\data_mat2.npy')# Complete path should be passed where 'data_mat2' is saved."
   ]
  },
  {
   "cell_type": "code",
   "execution_count": 192,
   "metadata": {
    "id": "2jrBhyKbjnv8"
   },
   "outputs": [],
   "source": [
    "b1=np.array([[1,2,3,4],[5,6,7,8]])"
   ]
  },
  {
   "cell_type": "code",
   "execution_count": 193,
   "metadata": {
    "id": "jwIN7OI2jnv9"
   },
   "outputs": [],
   "source": [
    "np.savez('array_archive.npz', a=a1, b=b1) # Multiple array can be saved as archive using savez"
   ]
  },
  {
   "cell_type": "code",
   "execution_count": 194,
   "metadata": {
    "colab": {
     "base_uri": "https://localhost:8080/"
    },
    "id": "PgJjZk6Ujnv9",
    "outputId": "62710e22-a717-4c0a-d732-ef1d3940a6b2"
   },
   "outputs": [
    {
     "data": {
      "text/plain": [
       "array([[1, 2, 3, 4],\n",
       "       [5, 6, 7, 8]])"
      ]
     },
     "execution_count": 194,
     "metadata": {},
     "output_type": "execute_result"
    }
   ],
   "source": [
    "arch = np.load('array_archive.npz') # This is the way it can be load.\n",
    "arch['b']                           # Applying square bracket each array can be loaded seperately, her b i loaded"
   ]
  },
  {
   "cell_type": "code",
   "execution_count": 195,
   "metadata": {
    "colab": {
     "base_uri": "https://localhost:8080/"
    },
    "id": "eeHa3iVhjnv-",
    "outputId": "be2f80ef-2672-450d-d164-1faf386013ce"
   },
   "outputs": [
    {
     "data": {
      "text/plain": [
       "array([[10, 20],\n",
       "       [40, 50]])"
      ]
     },
     "execution_count": 195,
     "metadata": {},
     "output_type": "execute_result"
    }
   ],
   "source": [
    "arch['a']                           # a is loaded."
   ]
  },
  {
   "cell_type": "markdown",
   "metadata": {
    "id": "tGkeuiOOjnv_"
   },
   "source": [
    "### Random Number Generation\n",
    "* Note :These are random numbers and changed every time we run.\n",
    "* seed is used for fixing a set of random numbers.\n",
    "* Don't forget to see documentation."
   ]
  },
  {
   "cell_type": "markdown",
   "metadata": {
    "id": "aICt3zdYjnwA"
   },
   "source": [
    "###### np.random.normal"
   ]
  },
  {
   "cell_type": "code",
   "execution_count": 196,
   "metadata": {
    "id": "7DKB_YabjnwB"
   },
   "outputs": [],
   "source": [
    "samples = np.random.normal(loc=0,scale=1,size=100) # It generated 10(size) random number from normal distribution\n",
    "#print(samples)       # Having mean(loc)=0 and standard deviation(scale)=1, (Default value if not passed by user).\n",
    "                                                  # any value can be passed for mean,std, and size."
   ]
  },
  {
   "cell_type": "code",
   "execution_count": 197,
   "metadata": {
    "colab": {
     "base_uri": "https://localhost:8080/"
    },
    "id": "3lQDGaZ-jnwC",
    "outputId": "e082ab7b-b8e0-49a8-9f85-ae6b506bf276"
   },
   "outputs": [
    {
     "name": "stdout",
     "output_type": "stream",
     "text": [
      "-0.012483231697743196 1.0055100410954674\n"
     ]
    }
   ],
   "source": [
    "print(np.mean(samples), np.std(samples))  \n",
    "# Checking for mean  and std, (approx mean=0 and std=1 ,as we increse the size).Check it by incresing value of size."
   ]
  },
  {
   "cell_type": "code",
   "execution_count": 198,
   "metadata": {
    "colab": {
     "base_uri": "https://localhost:8080/"
    },
    "id": "0s12PeeLjnwD",
    "outputId": "fcf7312e-20e6-4c65-eb87-17d0229b3af5"
   },
   "outputs": [
    {
     "name": "stdout",
     "output_type": "stream",
     "text": [
      "9.715097139834059 5.349252649231885\n"
     ]
    }
   ],
   "source": [
    "samples = np.random.normal(loc=10,scale=5.5,size=1000) # It generated 1000 (size) random number from normal distribution\n",
    "#print(samples)                                    # Having mean(loc)=10 and standard deviation(scale)=5.5\n",
    "print(np.mean(samples), np.std(samples))\n",
    "# Checking for mean  and std, (approx  mean=10 and std=5.5 ,as we increse the size)"
   ]
  },
  {
   "cell_type": "code",
   "execution_count": 199,
   "metadata": {
    "colab": {
     "base_uri": "https://localhost:8080/"
    },
    "id": "bT3FQ4GWjnwD",
    "outputId": "2bc9afe7-355d-4a46-d1cf-4d74fc425e77"
   },
   "outputs": [
    {
     "data": {
      "text/plain": [
       "array([[ 1.26741165,  0.49949823, -0.06205313,  1.25916713],\n",
       "       [ 0.70411102, -1.49567952,  2.52636824,  1.76992139],\n",
       "       [-0.16821422,  0.3779101 ,  1.32435875, -0.17220079],\n",
       "       [ 0.73035179,  1.10457847, -1.01482591, -0.60233185]])"
      ]
     },
     "execution_count": 199,
     "metadata": {},
     "output_type": "execute_result"
    }
   ],
   "source": [
    "A_norm = np.random.normal(size=(4, 4)) # It generates a 4X4 2-D array where values are normally distributed \n",
    "                                        # with mean=0 and std=1 (default values,if not passed by user)\n",
    "A_norm"
   ]
  },
  {
   "cell_type": "markdown",
   "metadata": {
    "id": "6GvYhcDKjnwE"
   },
   "source": [
    "##### numpy.random.randn"
   ]
  },
  {
   "cell_type": "code",
   "execution_count": 200,
   "metadata": {
    "colab": {
     "base_uri": "https://localhost:8080/"
    },
    "id": "PVSByA1ZjnwF",
    "outputId": "2425d1f4-eedb-4ed9-9cac-986299c31e14"
   },
   "outputs": [
    {
     "data": {
      "text/plain": [
       "array([ 0.9214084 ,  0.46081448,  0.92379656, -0.13256801, -0.28900521,\n",
       "       -1.99863948, -1.14600043,  0.04706609,  0.82455722,  0.53117837])"
      ]
     },
     "execution_count": 200,
     "metadata": {},
     "output_type": "execute_result"
    }
   ],
   "source": [
    "np.random.randn(10) #Return a sample (or samples) from the “standard normal” distribution, i.e. mean is always 0 ans std=1."
   ]
  },
  {
   "cell_type": "code",
   "execution_count": 201,
   "metadata": {
    "colab": {
     "base_uri": "https://localhost:8080/"
    },
    "id": "APyyBYERjnwG",
    "outputId": "2c0e1177-20bf-40bb-917b-5ecf8875bb91"
   },
   "outputs": [
    {
     "data": {
      "text/plain": [
       "array([ 9.29466914,  8.50525638, 11.19448798, ..., 18.08957431,\n",
       "        9.73856666,  6.97221628])"
      ]
     },
     "execution_count": 201,
     "metadata": {},
     "output_type": "execute_result"
    }
   ],
   "source": [
    "# For random samples from Normally distribution with mean= mu and standard deviation=sigma   we can use:\n",
    "# sigma * np.random.randn(size) + mu\n",
    "\n",
    "ar1=5.5*np.random.randn(10000)+10 ## sigma=5.5, mu=10\n",
    "ar1"
   ]
  },
  {
   "cell_type": "code",
   "execution_count": 202,
   "metadata": {
    "colab": {
     "base_uri": "https://localhost:8080/"
    },
    "id": "reDkRq6xjnwG",
    "outputId": "617cdb8a-ab0b-42ee-ea44-e16220d644e3"
   },
   "outputs": [
    {
     "name": "stdout",
     "output_type": "stream",
     "text": [
      "9.93940025200578 5.445935112151301\n"
     ]
    }
   ],
   "source": [
    "print(np.mean(ar1),np.std(ar1))"
   ]
  },
  {
   "cell_type": "code",
   "execution_count": 203,
   "metadata": {
    "colab": {
     "base_uri": "https://localhost:8080/"
    },
    "id": "qguhCpU4jnwH",
    "outputId": "68968fae-c7e1-4c14-f501-31a19a02b172"
   },
   "outputs": [
    {
     "data": {
      "text/plain": [
       "array([[ 3.34987069, 16.034996  , 10.98902574, 10.53678624, 13.30829557],\n",
       "       [ 1.33908778, -3.09232735, 11.23358339, 12.27932685, -1.38209871],\n",
       "       [10.37940838,  5.16801239,  8.75493292, 11.57899336,  9.30829472]])"
      ]
     },
     "execution_count": 203,
     "metadata": {},
     "output_type": "execute_result"
    }
   ],
   "source": [
    "## for 2D array:\n",
    "5.5*np.random.randn(3,5)+10 "
   ]
  },
  {
   "cell_type": "markdown",
   "metadata": {
    "id": "lWmWSvHkjnwI"
   },
   "source": [
    "##### np.random.randint"
   ]
  },
  {
   "cell_type": "code",
   "execution_count": 204,
   "metadata": {
    "colab": {
     "base_uri": "https://localhost:8080/"
    },
    "id": "6bsAv_ROjnwP",
    "outputId": "b9734913-8792-48cc-eaf6-6e37df6efb4f"
   },
   "outputs": [
    {
     "data": {
      "text/plain": [
       "array([ 7, 13, 12, 15,  5,  8, 14, 15, 15, 14])"
      ]
     },
     "execution_count": 204,
     "metadata": {},
     "output_type": "execute_result"
    }
   ],
   "source": [
    "np.random.randint(low=3, high=16, size=10) # Return random integers from low (inclusive) to high (exclusive)."
   ]
  },
  {
   "cell_type": "code",
   "execution_count": 205,
   "metadata": {
    "colab": {
     "base_uri": "https://localhost:8080/"
    },
    "id": "qbh-OvdHjnwQ",
    "outputId": "2a02867d-89b4-40e7-b7ce-cd13259990ec"
   },
   "outputs": [
    {
     "data": {
      "text/plain": [
       "array([14, 13, 11,  5,  5, 12, 14,  4,  8,  9])"
      ]
     },
     "execution_count": 205,
     "metadata": {},
     "output_type": "execute_result"
    }
   ],
   "source": [
    "np.random.randint(3,16,10)"
   ]
  },
  {
   "cell_type": "code",
   "execution_count": 206,
   "metadata": {
    "colab": {
     "base_uri": "https://localhost:8080/"
    },
    "id": "pGKEI2tFjnwT",
    "outputId": "53b869f2-9a0b-42ec-b4e4-0bc9e8621f0c"
   },
   "outputs": [
    {
     "data": {
      "text/plain": [
       "array([15,  8,  3,  6, 14,  6, 10, 12,  6,  8])"
      ]
     },
     "execution_count": 206,
     "metadata": {},
     "output_type": "execute_result"
    }
   ],
   "source": [
    "np.random.seed(0) ## Seed is used to fix a set of random number.Now same random numbers are generated for every run.\n",
    "#Different set of random numbers for differetn seed value\n",
    "np.random.randint(3,16,10)"
   ]
  },
  {
   "cell_type": "markdown",
   "metadata": {
    "id": "hwW9-fcEjnwT"
   },
   "source": [
    "##### np.random.choice"
   ]
  },
  {
   "cell_type": "code",
   "execution_count": 207,
   "metadata": {
    "colab": {
     "base_uri": "https://localhost:8080/"
    },
    "id": "piVdxQIBjnwU",
    "outputId": "5e73b346-f969-4ac4-f0e7-c3b86c12151d"
   },
   "outputs": [
    {
     "data": {
      "text/plain": [
       "array(['Laxman', 'Satrudhan', 'Ram'], dtype='<U9')"
      ]
     },
     "execution_count": 207,
     "metadata": {},
     "output_type": "execute_result"
    }
   ],
   "source": [
    "Name=np.array(['Ram','Sita','Laxman','Bharat','Satrudhan'])\n",
    "np.random.choice(Name, size=3, replace=True) # Generates 3 random sample from a given 1-D array 'Name',samples can be repeated."
   ]
  },
  {
   "cell_type": "code",
   "execution_count": 208,
   "metadata": {
    "colab": {
     "base_uri": "https://localhost:8080/"
    },
    "id": "Z5RFeJw2jnwV",
    "outputId": "cf95b13c-04a0-44ee-f3a6-df7dff4509d3"
   },
   "outputs": [
    {
     "data": {
      "text/plain": [
       "array(['Bharat', 'Sita', 'Laxman'], dtype='<U9')"
      ]
     },
     "execution_count": 208,
     "metadata": {},
     "output_type": "execute_result"
    }
   ],
   "source": [
    "a=np.array(['Ram','Sita','Laxman','Bharat','Satrudhan'])\n",
    "np.random.choice(a, size=3, replace=False) # If replace=False, Sample can not be repeated"
   ]
  },
  {
   "cell_type": "markdown",
   "metadata": {
    "id": "w0e637yljnwW"
   },
   "source": [
    "######  There are may others random functions in Numpy--> Explore on your own."
   ]
  },
  {
   "cell_type": "markdown",
   "metadata": {
    "id": "78K6ajWbjnwY"
   },
   "source": [
    "### Random Walks\n",
    "* Try to explain  code below yourself"
   ]
  },
  {
   "cell_type": "code",
   "execution_count": 209,
   "metadata": {
    "colab": {
     "base_uri": "https://localhost:8080/",
     "height": 265
    },
    "id": "Y5OeLfSTjnwY",
    "outputId": "49c37c8e-33ea-49f7-ccae-a36b7341a005"
   },
   "outputs": [
    {
     "data": {
      "image/png": "[encoded data removed]",
      "text/plain": [
       "<Figure size 432x288 with 1 Axes>"
      ]
     },
     "metadata": {
      "needs_background": "light"
     },
     "output_type": "display_data"
    }
   ],
   "source": [
    "nsteps = 1000\n",
    "draws = np.random.randint(0, 2, size=nsteps)\n",
    "steps = np.where(draws > 0, 1, -1)\n",
    "walk = steps.cumsum()\n",
    "plt.plot(walk[:100])\n",
    "plt.show()"
   ]
  },
  {
   "cell_type": "markdown",
   "metadata": {
    "id": "s_2-s9ymjnwZ"
   },
   "source": [
    "### Few more on linear Algebra"
   ]
  },
  {
   "cell_type": "markdown",
   "metadata": {
    "id": "ZW5jHLVNjnwZ"
   },
   "source": [
    "##### Solving Equations\n",
    "* AX = B\n",
    "![Capture.PNG](attachment:Capture.PNG)\n",
    "* We have to frame above eqution in array as below:"
   ]
  },
  {
   "cell_type": "code",
   "execution_count": 210,
   "metadata": {
    "colab": {
     "base_uri": "https://localhost:8080/"
    },
    "id": "PPy7hnuCjnwc",
    "outputId": "a5b8c0ad-f703-4040-8bc2-1d7c7ebe525c"
   },
   "outputs": [
    {
     "data": {
      "text/plain": [
       "array([[ 4, -2,  3],\n",
       "       [ 1,  3, -4],\n",
       "       [ 3,  1,  2]])"
      ]
     },
     "execution_count": 210,
     "metadata": {},
     "output_type": "execute_result"
    }
   ],
   "source": [
    "A=np.array([[4,-2,3],[1,3,-4],[3,1,2]]) # This is matrix of coefficient\n",
    "A"
   ]
  },
  {
   "cell_type": "code",
   "execution_count": 211,
   "metadata": {
    "colab": {
     "base_uri": "https://localhost:8080/"
    },
    "id": "HJMp113Qjnwe",
    "outputId": "0565ca77-baa2-4d4e-c90c-9ee2d0348056"
   },
   "outputs": [
    {
     "data": {
      "text/plain": [
       "array([[ 1],\n",
       "       [-7],\n",
       "       [ 5]])"
      ]
     },
     "execution_count": 211,
     "metadata": {},
     "output_type": "execute_result"
    }
   ],
   "source": [
    "B=np.array([[1],[-7],[5]])  # Matrix for representing RHS Values of above three equations\n",
    "B"
   ]
  },
  {
   "cell_type": "code",
   "execution_count": 212,
   "metadata": {
    "colab": {
     "base_uri": "https://localhost:8080/"
    },
    "id": "mprhjLT9jnwg",
    "outputId": "3c1e68f0-c12c-414f-c06b-f19115c139e1"
   },
   "outputs": [
    {
     "data": {
      "text/plain": [
       "array([[-1.],\n",
       "       [ 2.],\n",
       "       [ 3.]])"
      ]
     },
     "execution_count": 212,
     "metadata": {},
     "output_type": "execute_result"
    }
   ],
   "source": [
    "var_values = np.linalg.solve(A,B)\n",
    "var_values"
   ]
  },
  {
   "cell_type": "markdown",
   "metadata": {
    "id": "Qg0nPQL3jnwj"
   },
   "source": [
    "###### Thus x=-1,y=2 and z=3 are the answers of above three  linear equations in x,y,z."
   ]
  },
  {
   "cell_type": "markdown",
   "metadata": {
    "id": "5psgijLhjnwj"
   },
   "source": [
    "###### Transpose of an array"
   ]
  },
  {
   "cell_type": "code",
   "execution_count": 213,
   "metadata": {
    "colab": {
     "base_uri": "https://localhost:8080/"
    },
    "id": "O7JVQpRqjnwk",
    "outputId": "bf8b91ed-7bea-4f00-b02f-2e2518c64c8e"
   },
   "outputs": [
    {
     "name": "stdout",
     "output_type": "stream",
     "text": [
      "[[ 1  2  3]\n",
      " [ 4 -3  6]\n",
      " [ 7  8  0]] \n",
      "\n",
      "Transpose of A : \n",
      "\n",
      " [[ 1  4  7]\n",
      " [ 2 -3  8]\n",
      " [ 3  6  0]]\n"
     ]
    }
   ],
   "source": [
    "A = np.array([[1,2,3],[4,-3,6],[7,8,0]])\n",
    "print( A,'\\n')\n",
    "print('Transpose of A : \\n\\n', A.T)"
   ]
  },
  {
   "cell_type": "markdown",
   "metadata": {
    "id": "0kfK9NLvjnwl"
   },
   "source": [
    "###### Rank of an array"
   ]
  },
  {
   "cell_type": "code",
   "execution_count": 214,
   "metadata": {
    "colab": {
     "base_uri": "https://localhost:8080/"
    },
    "id": "dx2RtPdijnwm",
    "outputId": "c3a39582-405a-4526-85f5-300dabc84bbb"
   },
   "outputs": [
    {
     "name": "stdout",
     "output_type": "stream",
     "text": [
      "Rank of array A:  3\n"
     ]
    }
   ],
   "source": [
    "print(\"Rank of array A: \", np.linalg.matrix_rank(A))"
   ]
  },
  {
   "cell_type": "markdown",
   "metadata": {
    "id": "si9MZJIxjnwn"
   },
   "source": [
    "###### Trace of an array"
   ]
  },
  {
   "cell_type": "code",
   "execution_count": 215,
   "metadata": {
    "colab": {
     "base_uri": "https://localhost:8080/"
    },
    "id": "cN56XyBfjnwo",
    "outputId": "722f52b3-deb4-4154-fd52-648e65f2be11"
   },
   "outputs": [
    {
     "name": "stdout",
     "output_type": "stream",
     "text": [
      "Trace of Array A:   -2\n"
     ]
    }
   ],
   "source": [
    "print('Trace of Array A:  ', np.trace(A))"
   ]
  },
  {
   "cell_type": "markdown",
   "metadata": {
    "id": "PIa0VxV3jnwp"
   },
   "source": [
    "###### Length of vector"
   ]
  },
  {
   "cell_type": "code",
   "execution_count": 216,
   "metadata": {
    "colab": {
     "base_uri": "https://localhost:8080/"
    },
    "id": "sBV-Zybxjnwq",
    "outputId": "3a8d7542-1cb7-488d-8669-f1c268b405a0"
   },
   "outputs": [
    {
     "data": {
      "text/plain": [
       "12.649110640673518"
      ]
     },
     "execution_count": 216,
     "metadata": {},
     "output_type": "execute_result"
    }
   ],
   "source": [
    "V= np.array([5,7,3,4,5,6])\n",
    "length = np.sqrt(np.dot(V,V))\n",
    "length ## If more than 2D then we call this  norm of vector rather than lenght."
   ]
  },
  {
   "cell_type": "code",
   "execution_count": 217,
   "metadata": {
    "colab": {
     "base_uri": "https://localhost:8080/"
    },
    "id": "Fu8U01Xfjnwt",
    "outputId": "c316e060-3e9d-439d-b0e3-f3b7040ac866"
   },
   "outputs": [
    {
     "data": {
      "text/plain": [
       "12.649110640673518"
      ]
     },
     "execution_count": 217,
     "metadata": {},
     "output_type": "execute_result"
    }
   ],
   "source": [
    "np.linalg.norm(V) # This is direct way of getting norm"
   ]
  },
  {
   "cell_type": "markdown",
   "metadata": {
    "id": "ew_Gt8majnwu"
   },
   "source": [
    "#### Normalized Vector"
   ]
  },
  {
   "cell_type": "code",
   "execution_count": 218,
   "metadata": {
    "colab": {
     "base_uri": "https://localhost:8080/"
    },
    "id": "brQ7M-LKjnwu",
    "outputId": "bd4a9798-8237-43af-9b12-8def1d7095f1"
   },
   "outputs": [
    {
     "name": "stdout",
     "output_type": "stream",
     "text": [
      "length :  7.810249675906654\n",
      "Normalized vector : [0.6401844  0.76822128]\n",
      "Angle of vector V1 : 50.19442890773481\n"
     ]
    }
   ],
   "source": [
    "V1 = [5,6]\n",
    "length_V1 = np.sqrt(np.dot(V1,V1))\n",
    "norm_V1 = V1/length_V1\n",
    "print('length : ',length_V1)\n",
    "print('Normalized vector :', norm_V1) # Unit vector\n",
    "theta=np.degrees(np.arctan(norm_V1[1]/norm_V1[0]))\n",
    "print('Angle of vector V1 :', theta)"
   ]
  },
  {
   "cell_type": "markdown",
   "metadata": {
    "id": "eY0vP1uZjnww"
   },
   "source": [
    "##### Plotting above vector"
   ]
  },
  {
   "cell_type": "code",
   "execution_count": 219,
   "metadata": {
    "colab": {
     "base_uri": "https://localhost:8080/",
     "height": 281
    },
    "id": "xCN966zhjnww",
    "outputId": "18b34a10-3cc6-4ba9-bf3a-23b8ce7cb6e7"
   },
   "outputs": [
    {
     "data": {
      "image/png": "[encoded data removed]",
      "text/plain": [
       "<Figure size 432x288 with 1 Axes>"
      ]
     },
     "metadata": {
      "needs_background": "light"
     },
     "output_type": "display_data"
    }
   ],
   "source": [
    "plt.plot([0,V1[0]] , [0,V1[1]] , 'r' , label = 'v1')\n",
    "plt.axhline(c='k') # For plotting x axis\n",
    "plt.axvline(c='k') # For plotting y axis\n",
    "plt.grid()\n",
    "plt.axis((-3, 6, -3, 7)) ## first two value is min and max limit of x axis and second two value is min and max limit of y axis\n",
    "plt.legend()\n",
    "plt.title(f'Angle between Vectors v1 &v2 is :{theta}')\n",
    "plt.show()"
   ]
  },
  {
   "cell_type": "markdown",
   "metadata": {
    "id": "S4WaMtTAjnww"
   },
   "source": [
    "##### Angle between vectors"
   ]
  },
  {
   "cell_type": "code",
   "execution_count": 220,
   "metadata": {
    "colab": {
     "base_uri": "https://localhost:8080/"
    },
    "id": "B5NKoPcGjnww",
    "outputId": "864ad67c-8a14-4eea-fa8f-9da8fff08347"
   },
   "outputs": [
    {
     "name": "stdout",
     "output_type": "stream",
     "text": [
      "Angle between Vectors:  90.0\n"
     ]
    }
   ],
   "source": [
    "v1 = np.array([4,3])\n",
    "v2 = np.array([-3,4])\n",
    "lengthV1 = np.sqrt(np.dot(v1,v1))\n",
    "lengthV2 = np.sqrt(np.dot(v2,v2))\n",
    "ang = np.degrees(np.arccos( np.dot(v1,v2) / (lengthV1 * lengthV2)))\n",
    "print('Angle between Vectors:  %s' %ang)"
   ]
  },
  {
   "cell_type": "markdown",
   "metadata": {
    "id": "HV2dqulUjnwx"
   },
   "source": [
    "##### Plotting above vectors :"
   ]
  },
  {
   "cell_type": "code",
   "execution_count": 221,
   "metadata": {
    "colab": {
     "base_uri": "https://localhost:8080/",
     "height": 281
    },
    "id": "AwI3X5rCjnwz",
    "outputId": "3e82dd74-8cb3-44f0-8a2b-2ae0ed5ffef5"
   },
   "outputs": [
    {
     "data": {
      "image/png": "[encoded data removed]",
      "text/plain": [
       "<Figure size 432x288 with 1 Axes>"
      ]
     },
     "metadata": {
      "needs_background": "light"
     },
     "output_type": "display_data"
    }
   ],
   "source": [
    "v1 = np.array([4,3])\n",
    "v2 = np.array([-3,4])\n",
    "plt.plot([0,v1[0]] , [0,v1[1]] , 'r' , label = 'v1')\n",
    "plt.plot([0,v2[0]],[0,v2[1]], 'b' , label = 'v2')\n",
    "plt.axhline(c='k') # For plotting x axis\n",
    "plt.axvline(c='k') # For plotting y axis\n",
    "plt.grid()\n",
    "plt.axis((-5, 5, -3, 5)) ## first two value is min and max limit of x axis and second two value is min and max limit of y axis\n",
    "plt.legend()\n",
    "plt.title(f'Angle between Vectors v1 &v2 is :{ang}')\n",
    "plt.show()"
   ]
  },
  {
   "cell_type": "markdown",
   "metadata": {
    "id": "JmfGmSVtjnw0"
   },
   "source": [
    "####  Note: For plotting part: Go through my plotting module. Will be published soon. "
   ]
  },
  {
   "cell_type": "markdown",
   "metadata": {
    "id": "qV8EbfYvjnw1"
   },
   "source": [
    "#### Few  simple functions at last "
   ]
  },
  {
   "cell_type": "code",
   "execution_count": 222,
   "metadata": {
    "colab": {
     "base_uri": "https://localhost:8080/"
    },
    "id": "s1rSBbjkjnw2",
    "outputId": "6509e008-4718-4e1c-81af-e70c4d3080f6"
   },
   "outputs": [
    {
     "data": {
      "text/plain": [
       "array([3.23456678, 2.67567577, 3.67567564, 4.78687668, 5.76567568])"
      ]
     },
     "execution_count": 222,
     "metadata": {},
     "output_type": "execute_result"
    }
   ],
   "source": [
    "b=np.array([3.234566777005670000,2.6756757657567,3.675675643,4.78687667868768,5.7656756756])\n",
    "b"
   ]
  },
  {
   "cell_type": "code",
   "execution_count": 223,
   "metadata": {
    "colab": {
     "base_uri": "https://localhost:8080/"
    },
    "id": "TodSCeKHjnw3",
    "outputId": "9d90658a-4d0a-40b6-94ad-9a997b40fc2f"
   },
   "outputs": [
    {
     "data": {
      "text/plain": [
       "array([3., 3., 4., 5., 6.])"
      ]
     },
     "execution_count": 223,
     "metadata": {},
     "output_type": "execute_result"
    }
   ],
   "source": [
    "np.round(b)"
   ]
  },
  {
   "cell_type": "code",
   "execution_count": 224,
   "metadata": {
    "colab": {
     "base_uri": "https://localhost:8080/"
    },
    "id": "8ztDxJ6cjnw3",
    "outputId": "f1ac2de3-dc77-44e6-f914-ee662cbcecf6"
   },
   "outputs": [
    {
     "data": {
      "text/plain": [
       "array([3.235, 2.676, 3.676, 4.787, 5.766])"
      ]
     },
     "execution_count": 224,
     "metadata": {},
     "output_type": "execute_result"
    }
   ],
   "source": [
    "np.round(b,3)"
   ]
  },
  {
   "cell_type": "code",
   "execution_count": 225,
   "metadata": {
    "colab": {
     "base_uri": "https://localhost:8080/"
    },
    "id": "0X9zAegqjnw4",
    "outputId": "2ff70798-0fc3-4f7f-cdec-f6d6fb3ef431"
   },
   "outputs": [
    {
     "data": {
      "text/plain": [
       "array([4., 3., 4., 5., 6.])"
      ]
     },
     "execution_count": 225,
     "metadata": {},
     "output_type": "execute_result"
    }
   ],
   "source": [
    "np.ceil(b)"
   ]
  },
  {
   "cell_type": "code",
   "execution_count": 226,
   "metadata": {
    "colab": {
     "base_uri": "https://localhost:8080/"
    },
    "id": "SpPhDTtRjnw5",
    "outputId": "e31c76f9-82fe-4739-c8dc-afd2e88d02a1"
   },
   "outputs": [
    {
     "data": {
      "text/plain": [
       "array([3., 2., 3., 4., 5.])"
      ]
     },
     "execution_count": 226,
     "metadata": {},
     "output_type": "execute_result"
    }
   ],
   "source": [
    "np.floor(b)"
   ]
  },
  {
   "cell_type": "markdown",
   "metadata": {
    "id": "2ChGNR9Jjnw6"
   },
   "source": [
    "##### np.tile"
   ]
  },
  {
   "cell_type": "code",
   "execution_count": 227,
   "metadata": {
    "colab": {
     "base_uri": "https://localhost:8080/"
    },
    "id": "ZlglxJR7jnw7",
    "outputId": "a8ae9ee7-5531-4e37-ec8a-d46b5e6dcef0"
   },
   "outputs": [
    {
     "name": "stdout",
     "output_type": "stream",
     "text": [
      "[[1 2]\n",
      " [3 4]]\n"
     ]
    },
    {
     "data": {
      "text/plain": [
       "array([[1, 2, 1, 2],\n",
       "       [3, 4, 3, 4]])"
      ]
     },
     "execution_count": 227,
     "metadata": {},
     "output_type": "execute_result"
    }
   ],
   "source": [
    "M1= np.array([[1, 2], [3, 4]])\n",
    "print(M1)\n",
    "np.tile(M1, 2)"
   ]
  },
  {
   "cell_type": "markdown",
   "metadata": {
    "id": "WhBYkGFZjnw8"
   },
   "source": [
    "#### np.repeat"
   ]
  },
  {
   "cell_type": "code",
   "execution_count": 228,
   "metadata": {
    "colab": {
     "base_uri": "https://localhost:8080/"
    },
    "id": "rlwVsbxLjnw-",
    "outputId": "e7a04364-4438-4dfd-e7f9-76bea146961a"
   },
   "outputs": [
    {
     "name": "stdout",
     "output_type": "stream",
     "text": [
      "[[1 2]\n",
      " [3 4]]\n"
     ]
    },
    {
     "data": {
      "text/plain": [
       "array([1, 1, 2, 2, 3, 3, 4, 4])"
      ]
     },
     "execution_count": 228,
     "metadata": {},
     "output_type": "execute_result"
    }
   ],
   "source": [
    "x = np.array([[1,2],[3,4]])\n",
    "print(x)\n",
    "np.repeat(x, 2)\n"
   ]
  },
  {
   "cell_type": "code",
   "execution_count": 229,
   "metadata": {
    "colab": {
     "base_uri": "https://localhost:8080/"
    },
    "id": "uzkPXiijjnxA",
    "outputId": "86b6c090-0f26-440a-e3a1-f6be699bbc41"
   },
   "outputs": [
    {
     "data": {
      "text/plain": [
       "array([[1, 1, 1, 2, 2, 2],\n",
       "       [3, 3, 3, 4, 4, 4]])"
      ]
     },
     "execution_count": 229,
     "metadata": {},
     "output_type": "execute_result"
    }
   ],
   "source": [
    "np.repeat(x, 3, axis=1)   # Explain what happens."
   ]
  },
  {
   "cell_type": "code",
   "execution_count": 230,
   "metadata": {
    "colab": {
     "base_uri": "https://localhost:8080/"
    },
    "id": "fxD9J2hxjnxB",
    "outputId": "c01a5931-8dfa-4997-ecb1-5a79f2f12bfa"
   },
   "outputs": [
    {
     "data": {
      "text/plain": [
       "array([[1, 2],\n",
       "       [1, 2],\n",
       "       [1, 2],\n",
       "       [3, 4],\n",
       "       [3, 4],\n",
       "       [3, 4]])"
      ]
     },
     "execution_count": 230,
     "metadata": {},
     "output_type": "execute_result"
    }
   ],
   "source": [
    "np.repeat(x, 3, axis=0)   # Explain what happens."
   ]
  },
  {
   "cell_type": "code",
   "execution_count": 231,
   "metadata": {
    "colab": {
     "base_uri": "https://localhost:8080/"
    },
    "id": "SYJexgKojnxD",
    "outputId": "4fd808dd-8762-45a5-b27b-1f0d4227fc11"
   },
   "outputs": [
    {
     "data": {
      "text/plain": [
       "array([[1, 2],\n",
       "       [3, 4],\n",
       "       [3, 4]])"
      ]
     },
     "execution_count": 231,
     "metadata": {},
     "output_type": "execute_result"
    }
   ],
   "source": [
    "np.repeat(x, [1, 2], axis=0) # Explain what happens"
   ]
  },
  {
   "cell_type": "code",
   "execution_count": 232,
   "metadata": {
    "colab": {
     "base_uri": "https://localhost:8080/"
    },
    "id": "7YFHsaG2jnxE",
    "outputId": "72fb0288-f356-437b-aee4-7dc8b75110bc"
   },
   "outputs": [
    {
     "data": {
      "text/plain": [
       "array([[1, 2],\n",
       "       [1, 2],\n",
       "       [1, 2],\n",
       "       [3, 4],\n",
       "       [3, 4]])"
      ]
     },
     "execution_count": 232,
     "metadata": {},
     "output_type": "execute_result"
    }
   ],
   "source": [
    "np.repeat(x, [3, 2], axis=0) # Explain what happens."
   ]
  },
  {
   "cell_type": "markdown",
   "metadata": {
    "id": "YKg1BtJ2tidv"
   },
   "source": [
    "### Thank You ! Happy Learning !!"
   ]
  }
 ],
 "metadata": {
  "colab": {
   "name": "Numpy_Operations.ipynb",
   "provenance": []
  },
  "kernelspec": {
   "display_name": "Python 3",
   "language": "python",
   "name": "python3"
  },
  "language_info": {
   "codemirror_mode": {
    "name": "ipython",
    "version": 3
   },
   "file_extension": ".py",
   "mimetype": "text/x-python",
   "name": "python",
   "nbconvert_exporter": "python",
   "pygments_lexer": "ipython3",
   "version": "3.8.8"
  }
 },
 "nbformat": 4,
 "nbformat_minor": 1
}
