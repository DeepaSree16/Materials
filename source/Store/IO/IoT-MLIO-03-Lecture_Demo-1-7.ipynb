{
 "cells": [
  {
   "cell_type": "markdown",
   "metadata": {
    "id": "nCssKhViaYBn"
   },
   "source": [
    "# IoT & Smart Analytics\n",
    "## A Program by IIIT-H and TalentSprint"
   ]
  },
  {
   "cell_type": "markdown",
   "metadata": {
    "id": "XQL7sLehl2T2"
   },
   "source": [
    "## Learning Objectives\n",
    "At the end of the experiment, participants will be able to : \n",
    "* understand & implement standard scalar transformation \n",
    "* understand & implement polynomical feature transformation\n",
    "* understand & perform regression"
   ]
  },
  {
   "cell_type": "markdown",
   "metadata": {
    "id": "7pV161AkmStM"
   },
   "source": [
    "#### Importing Libraries"
   ]
  },
  {
   "cell_type": "code",
   "execution_count": null,
   "metadata": {
    "id": "sdY-BE-rNJmn"
   },
   "outputs": [],
   "source": [
    "import numpy as np\n",
    "import pandas as pd\n",
    "import matplotlib.pyplot as plt\n",
    "from sklearn.model_selection import train_test_split\n",
    "from sklearn.preprocessing import StandardScaler\n",
    "from sklearn.preprocessing import PolynomialFeatures\n"
   ]
  },
  {
   "cell_type": "markdown",
   "metadata": {
    "id": "mJWiPQeMmeC6"
   },
   "source": [
    "### Few tranformation Steps frequently used in Machine Learning \n",
    "* **Standard Scalar**\n",
    "* **Polynomial Feature Transformation**\n",
    "####  **StandardScalar**: [Documentation](https://scikit-learn.org/stable/modules/generated/sklearn.preprocessing.StandardScaler.html)\n"
   ]
  },
  {
   "cell_type": "code",
   "execution_count": null,
   "metadata": {
    "colab": {
     "base_uri": "https://localhost:8080/"
    },
    "id": "Aga9SL35cNyX",
    "outputId": "e383017f-274e-4a50-ca62-8d41bcbb3388"
   },
   "outputs": [
    {
     "name": "stdout",
     "output_type": "stream",
     "text": [
      "--2022-03-26 08:45:51--  https://cdn.extras.talentsprint.com/IOT/Data/data2.txt\n",
      "Resolving cdn.extras.talentsprint.com (cdn.extras.talentsprint.com)... 172.105.52.210\n",
      "Connecting to cdn.extras.talentsprint.com (cdn.extras.talentsprint.com)|172.105.52.210|:443... connected.\n",
      "HTTP request sent, awaiting response... 200 OK\n",
      "Length: 657 [text/plain]\n",
      "Saving to: ‘data2.txt.1’\n",
      "\n",
      "data2.txt.1         100%[===================>]     657  --.-KB/s    in 0s      \n",
      "\n",
      "2022-03-26 08:45:54 (48.2 MB/s) - ‘data2.txt.1’ saved [657/657]\n",
      "\n"
     ]
    }
   ],
   "source": [
    "## Importing data\n",
    "!wget https://cdn.extras.talentsprint.com/IOT/Data/data2.txt"
   ]
  },
  {
   "cell_type": "code",
   "execution_count": null,
   "metadata": {
    "colab": {
     "base_uri": "https://localhost:8080/"
    },
    "id": "iwZimKz7akiT",
    "outputId": "abb39351-7127-4308-9c5b-9682f209449a"
   },
   "outputs": [
    {
     "name": "stdout",
     "output_type": "stream",
     "text": [
      "   size of flat  No.of bedrooms   price\n",
      "0          2104               3  399900\n",
      "1          1600               3  329900\n",
      "2          2400               3  369000\n",
      "3          1416               2  232000\n",
      "4          3000               4  539900\n"
     ]
    }
   ],
   "source": [
    "data=pd.read_csv('data2.txt',header=None,names=['size of flat','No.of bedrooms','price'])\n",
    "print(data.head())\n",
    "X1=data.iloc[:,[0,1]]\n",
    "Y1=data.iloc[:,[2]]      "
   ]
  },
  {
   "cell_type": "markdown",
   "metadata": {
    "id": "UsK_MbXamyOs"
   },
   "source": [
    "##### Manually doing StandardScalar operation"
   ]
  },
  {
   "cell_type": "code",
   "execution_count": null,
   "metadata": {
    "id": "ZGs_j0rccryr"
   },
   "outputs": [],
   "source": [
    "## Splitting the dataset into train & test\n",
    "X_train, X_test, Y_train, Y_test = train_test_split( X1,Y1,test_size=0.05, random_state=42) "
   ]
  },
  {
   "cell_type": "code",
   "execution_count": null,
   "metadata": {
    "colab": {
     "base_uri": "https://localhost:8080/",
     "height": 1000
    },
    "id": "dlcsbqeNnERB",
    "outputId": "03132f65-0f77-4033-f91a-d41e8167fd72"
   },
   "outputs": [
    {
     "name": "stdout",
     "output_type": "stream",
     "text": [
      "mean:  size of flat      1997.409091\n",
      "No.of bedrooms       3.159091\n",
      "dtype: float64 \n",
      "\n",
      "std_dev:  size of flat      804.171322\n",
      "No.of bedrooms      0.767024\n",
      "dtype: float64 \n",
      "\n"
     ]
    },
    {
     "data": {
      "text/html": [
       "\n",
       "  <div id=\"df-6eb42f51-77dc-431f-99ea-b27cf178738b\">\n",
       "    <div class=\"colab-df-container\">\n",
       "      <div>\n",
       "<style scoped>\n",
       "    .dataframe tbody tr th:only-of-type {\n",
       "        vertical-align: middle;\n",
       "    }\n",
       "\n",
       "    .dataframe tbody tr th {\n",
       "        vertical-align: top;\n",
       "    }\n",
       "\n",
       "    .dataframe thead th {\n",
       "        text-align: right;\n",
       "    }\n",
       "</style>\n",
       "<table border=\"1\" class=\"dataframe\">\n",
       "  <thead>\n",
       "    <tr style=\"text-align: right;\">\n",
       "      <th></th>\n",
       "      <th>size of flat</th>\n",
       "      <th>No.of bedrooms</th>\n",
       "    </tr>\n",
       "  </thead>\n",
       "  <tbody>\n",
       "    <tr>\n",
       "      <th>43</th>\n",
       "      <td>-0.991591</td>\n",
       "      <td>-0.207413</td>\n",
       "    </tr>\n",
       "    <tr>\n",
       "      <th>24</th>\n",
       "      <td>2.353467</td>\n",
       "      <td>-0.207413</td>\n",
       "    </tr>\n",
       "    <tr>\n",
       "      <th>36</th>\n",
       "      <td>-0.943094</td>\n",
       "      <td>-0.207413</td>\n",
       "    </tr>\n",
       "    <tr>\n",
       "      <th>12</th>\n",
       "      <td>-0.133565</td>\n",
       "      <td>-0.207413</td>\n",
       "    </tr>\n",
       "    <tr>\n",
       "      <th>19</th>\n",
       "      <td>1.285287</td>\n",
       "      <td>1.096326</td>\n",
       "    </tr>\n",
       "    <tr>\n",
       "      <th>4</th>\n",
       "      <td>1.246738</td>\n",
       "      <td>1.096326</td>\n",
       "    </tr>\n",
       "    <tr>\n",
       "      <th>25</th>\n",
       "      <td>-1.115943</td>\n",
       "      <td>-0.207413</td>\n",
       "    </tr>\n",
       "    <tr>\n",
       "      <th>8</th>\n",
       "      <td>-0.767758</td>\n",
       "      <td>-0.207413</td>\n",
       "    </tr>\n",
       "    <tr>\n",
       "      <th>3</th>\n",
       "      <td>-0.722992</td>\n",
       "      <td>-1.511153</td>\n",
       "    </tr>\n",
       "    <tr>\n",
       "      <th>6</th>\n",
       "      <td>-0.576257</td>\n",
       "      <td>-0.207413</td>\n",
       "    </tr>\n",
       "    <tr>\n",
       "      <th>40</th>\n",
       "      <td>-0.414600</td>\n",
       "      <td>-1.511153</td>\n",
       "    </tr>\n",
       "    <tr>\n",
       "      <th>33</th>\n",
       "      <td>1.417100</td>\n",
       "      <td>-0.207413</td>\n",
       "    </tr>\n",
       "    <tr>\n",
       "      <th>13</th>\n",
       "      <td>3.084655</td>\n",
       "      <td>2.400066</td>\n",
       "    </tr>\n",
       "    <tr>\n",
       "      <th>17</th>\n",
       "      <td>-0.946824</td>\n",
       "      <td>-0.207413</td>\n",
       "    </tr>\n",
       "    <tr>\n",
       "      <th>44</th>\n",
       "      <td>-1.424335</td>\n",
       "      <td>-1.511153</td>\n",
       "    </tr>\n",
       "    <tr>\n",
       "      <th>15</th>\n",
       "      <td>0.376277</td>\n",
       "      <td>1.096326</td>\n",
       "    </tr>\n",
       "    <tr>\n",
       "      <th>9</th>\n",
       "      <td>-0.625997</td>\n",
       "      <td>-0.207413</td>\n",
       "    </tr>\n",
       "    <tr>\n",
       "      <th>16</th>\n",
       "      <td>-0.842369</td>\n",
       "      <td>-1.511153</td>\n",
       "    </tr>\n",
       "    <tr>\n",
       "      <th>29</th>\n",
       "      <td>0.795342</td>\n",
       "      <td>-0.207413</td>\n",
       "    </tr>\n",
       "    <tr>\n",
       "      <th>32</th>\n",
       "      <td>0.052962</td>\n",
       "      <td>1.096326</td>\n",
       "    </tr>\n",
       "    <tr>\n",
       "      <th>45</th>\n",
       "      <td>-0.180819</td>\n",
       "      <td>1.096326</td>\n",
       "    </tr>\n",
       "    <tr>\n",
       "      <th>0</th>\n",
       "      <td>0.132548</td>\n",
       "      <td>-0.207413</td>\n",
       "    </tr>\n",
       "    <tr>\n",
       "      <th>31</th>\n",
       "      <td>-1.240294</td>\n",
       "      <td>-2.814892</td>\n",
       "    </tr>\n",
       "    <tr>\n",
       "      <th>30</th>\n",
       "      <td>-0.196984</td>\n",
       "      <td>-1.511153</td>\n",
       "    </tr>\n",
       "    <tr>\n",
       "      <th>5</th>\n",
       "      <td>-0.015431</td>\n",
       "      <td>1.096326</td>\n",
       "    </tr>\n",
       "    <tr>\n",
       "      <th>11</th>\n",
       "      <td>0.003222</td>\n",
       "      <td>-0.207413</td>\n",
       "    </tr>\n",
       "    <tr>\n",
       "      <th>34</th>\n",
       "      <td>-0.231803</td>\n",
       "      <td>1.096326</td>\n",
       "    </tr>\n",
       "    <tr>\n",
       "      <th>1</th>\n",
       "      <td>-0.494185</td>\n",
       "      <td>-0.207413</td>\n",
       "    </tr>\n",
       "    <tr>\n",
       "      <th>41</th>\n",
       "      <td>0.299179</td>\n",
       "      <td>-0.207413</td>\n",
       "    </tr>\n",
       "    <tr>\n",
       "      <th>21</th>\n",
       "      <td>-0.136052</td>\n",
       "      <td>-1.511153</td>\n",
       "    </tr>\n",
       "    <tr>\n",
       "      <th>2</th>\n",
       "      <td>0.500628</td>\n",
       "      <td>-0.207413</td>\n",
       "    </tr>\n",
       "    <tr>\n",
       "      <th>35</th>\n",
       "      <td>-0.696878</td>\n",
       "      <td>-0.207413</td>\n",
       "    </tr>\n",
       "    <tr>\n",
       "      <th>23</th>\n",
       "      <td>-0.044032</td>\n",
       "      <td>1.096326</td>\n",
       "    </tr>\n",
       "    <tr>\n",
       "      <th>37</th>\n",
       "      <td>0.167366</td>\n",
       "      <td>1.096326</td>\n",
       "    </tr>\n",
       "    <tr>\n",
       "      <th>10</th>\n",
       "      <td>-0.071389</td>\n",
       "      <td>1.096326</td>\n",
       "    </tr>\n",
       "    <tr>\n",
       "      <th>22</th>\n",
       "      <td>-0.489211</td>\n",
       "      <td>-0.207413</td>\n",
       "    </tr>\n",
       "    <tr>\n",
       "      <th>18</th>\n",
       "      <td>0.760523</td>\n",
       "      <td>1.096326</td>\n",
       "    </tr>\n",
       "    <tr>\n",
       "      <th>46</th>\n",
       "      <td>-0.987861</td>\n",
       "      <td>-0.207413</td>\n",
       "    </tr>\n",
       "    <tr>\n",
       "      <th>20</th>\n",
       "      <td>-0.286517</td>\n",
       "      <td>-0.207413</td>\n",
       "    </tr>\n",
       "    <tr>\n",
       "      <th>7</th>\n",
       "      <td>-0.709313</td>\n",
       "      <td>-0.207413</td>\n",
       "    </tr>\n",
       "    <tr>\n",
       "      <th>42</th>\n",
       "      <td>0.708295</td>\n",
       "      <td>1.096326</td>\n",
       "    </tr>\n",
       "    <tr>\n",
       "      <th>14</th>\n",
       "      <td>-0.907032</td>\n",
       "      <td>-0.207413</td>\n",
       "    </tr>\n",
       "    <tr>\n",
       "      <th>28</th>\n",
       "      <td>0.251925</td>\n",
       "      <td>-0.207413</td>\n",
       "    </tr>\n",
       "    <tr>\n",
       "      <th>38</th>\n",
       "      <td>2.757610</td>\n",
       "      <td>1.096326</td>\n",
       "    </tr>\n",
       "  </tbody>\n",
       "</table>\n",
       "</div>\n",
       "      <button class=\"colab-df-convert\" onclick=\"convertToInteractive('df-6eb42f51-77dc-431f-99ea-b27cf178738b')\"\n",
       "              title=\"Convert this dataframe to an interactive table.\"\n",
       "              style=\"display:none;\">\n",
       "        \n",
       "  <svg xmlns=\"http://www.w3.org/2000/svg\" height=\"24px\"viewBox=\"0 0 24 24\"\n",
       "       width=\"24px\">\n",
       "    <path d=\"M0 0h24v24H0V0z\" fill=\"none\"/>\n",
       "    <path d=\"M18.56 5.44l.94 2.06.94-2.06 2.06-.94-2.06-.94-.94-2.06-.94 2.06-2.06.94zm-11 1L8.5 8.5l.94-2.06 2.06-.94-2.06-.94L8.5 2.5l-.94 2.06-2.06.94zm10 10l.94 2.06.94-2.06 2.06-.94-2.06-.94-.94-2.06-.94 2.06-2.06.94z\"/><path d=\"M17.41 7.96l-1.37-1.37c-.4-.4-.92-.59-1.43-.59-.52 0-1.04.2-1.43.59L10.3 9.45l-7.72 7.72c-.78.78-.78 2.05 0 2.83L4 21.41c.39.39.9.59 1.41.59.51 0 1.02-.2 1.41-.59l7.78-7.78 2.81-2.81c.8-.78.8-2.07 0-2.86zM5.41 20L4 18.59l7.72-7.72 1.47 1.35L5.41 20z\"/>\n",
       "  </svg>\n",
       "      </button>\n",
       "      \n",
       "  <style>\n",
       "    .colab-df-container {\n",
       "      display:flex;\n",
       "      flex-wrap:wrap;\n",
       "      gap: 12px;\n",
       "    }\n",
       "\n",
       "    .colab-df-convert {\n",
       "      background-color: #E8F0FE;\n",
       "      border: none;\n",
       "      border-radius: 50%;\n",
       "      cursor: pointer;\n",
       "      display: none;\n",
       "      fill: #1967D2;\n",
       "      height: 32px;\n",
       "      padding: 0 0 0 0;\n",
       "      width: 32px;\n",
       "    }\n",
       "\n",
       "    .colab-df-convert:hover {\n",
       "      background-color: #E2EBFA;\n",
       "      box-shadow: 0px 1px 2px rgba(60, 64, 67, 0.3), 0px 1px 3px 1px rgba(60, 64, 67, 0.15);\n",
       "      fill: #174EA6;\n",
       "    }\n",
       "\n",
       "    [theme=dark] .colab-df-convert {\n",
       "      background-color: #3B4455;\n",
       "      fill: #D2E3FC;\n",
       "    }\n",
       "\n",
       "    [theme=dark] .colab-df-convert:hover {\n",
       "      background-color: #434B5C;\n",
       "      box-shadow: 0px 1px 3px 1px rgba(0, 0, 0, 0.15);\n",
       "      filter: drop-shadow(0px 1px 2px rgba(0, 0, 0, 0.3));\n",
       "      fill: #FFFFFF;\n",
       "    }\n",
       "  </style>\n",
       "\n",
       "      <script>\n",
       "        const buttonEl =\n",
       "          document.querySelector('#df-6eb42f51-77dc-431f-99ea-b27cf178738b button.colab-df-convert');\n",
       "        buttonEl.style.display =\n",
       "          google.colab.kernel.accessAllowed ? 'block' : 'none';\n",
       "\n",
       "        async function convertToInteractive(key) {\n",
       "          const element = document.querySelector('#df-6eb42f51-77dc-431f-99ea-b27cf178738b');\n",
       "          const dataTable =\n",
       "            await google.colab.kernel.invokeFunction('convertToInteractive',\n",
       "                                                     [key], {});\n",
       "          if (!dataTable) return;\n",
       "\n",
       "          const docLinkHtml = 'Like what you see? Visit the ' +\n",
       "            '<a target=\"_blank\" href=https://colab.research.google.com/notebooks/data_table.ipynb>data table notebook</a>'\n",
       "            + ' to learn more about interactive tables.';\n",
       "          element.innerHTML = '';\n",
       "          dataTable['output_type'] = 'display_data';\n",
       "          await google.colab.output.renderOutput(dataTable, element);\n",
       "          const docLink = document.createElement('div');\n",
       "          docLink.innerHTML = docLinkHtml;\n",
       "          element.appendChild(docLink);\n",
       "        }\n",
       "      </script>\n",
       "    </div>\n",
       "  </div>\n",
       "  "
      ],
      "text/plain": [
       "    size of flat  No.of bedrooms\n",
       "43     -0.991591       -0.207413\n",
       "24      2.353467       -0.207413\n",
       "36     -0.943094       -0.207413\n",
       "12     -0.133565       -0.207413\n",
       "19      1.285287        1.096326\n",
       "4       1.246738        1.096326\n",
       "25     -1.115943       -0.207413\n",
       "8      -0.767758       -0.207413\n",
       "3      -0.722992       -1.511153\n",
       "6      -0.576257       -0.207413\n",
       "40     -0.414600       -1.511153\n",
       "33      1.417100       -0.207413\n",
       "13      3.084655        2.400066\n",
       "17     -0.946824       -0.207413\n",
       "44     -1.424335       -1.511153\n",
       "15      0.376277        1.096326\n",
       "9      -0.625997       -0.207413\n",
       "16     -0.842369       -1.511153\n",
       "29      0.795342       -0.207413\n",
       "32      0.052962        1.096326\n",
       "45     -0.180819        1.096326\n",
       "0       0.132548       -0.207413\n",
       "31     -1.240294       -2.814892\n",
       "30     -0.196984       -1.511153\n",
       "5      -0.015431        1.096326\n",
       "11      0.003222       -0.207413\n",
       "34     -0.231803        1.096326\n",
       "1      -0.494185       -0.207413\n",
       "41      0.299179       -0.207413\n",
       "21     -0.136052       -1.511153\n",
       "2       0.500628       -0.207413\n",
       "35     -0.696878       -0.207413\n",
       "23     -0.044032        1.096326\n",
       "37      0.167366        1.096326\n",
       "10     -0.071389        1.096326\n",
       "22     -0.489211       -0.207413\n",
       "18      0.760523        1.096326\n",
       "46     -0.987861       -0.207413\n",
       "20     -0.286517       -0.207413\n",
       "7      -0.709313       -0.207413\n",
       "42      0.708295        1.096326\n",
       "14     -0.907032       -0.207413\n",
       "28      0.251925       -0.207413\n",
       "38      2.757610        1.096326"
      ]
     },
     "execution_count": 66,
     "metadata": {},
     "output_type": "execute_result"
    }
   ],
   "source": [
    "X_train_scale=(X_train-np.mean(X_train,axis=0))/np.std(X_train,axis=0) #Normalizatin & Feature scaling\n",
    "## Storing mean and standard deviation of train for using while transforming test data\n",
    "mean=np.mean(X_train,axis=0)\n",
    "print('mean: ',mean,'\\n')\n",
    "std=np.std(X_train,axis=0)\n",
    "print('std_dev: ',std,'\\n')\n",
    "X_train_scale"
   ]
  },
  {
   "cell_type": "code",
   "execution_count": null,
   "metadata": {
    "colab": {
     "base_uri": "https://localhost:8080/",
     "height": 143
    },
    "id": "mKMAdtw6nHuX",
    "outputId": "eefef7ad-cd9d-4201-99ca-faee5dc61b92"
   },
   "outputs": [
    {
     "data": {
      "text/html": [
       "\n",
       "  <div id=\"df-f8f4a2dd-079d-4c4c-8267-d639e7d2ec49\">\n",
       "    <div class=\"colab-df-container\">\n",
       "      <div>\n",
       "<style scoped>\n",
       "    .dataframe tbody tr th:only-of-type {\n",
       "        vertical-align: middle;\n",
       "    }\n",
       "\n",
       "    .dataframe tbody tr th {\n",
       "        vertical-align: top;\n",
       "    }\n",
       "\n",
       "    .dataframe thead th {\n",
       "        text-align: right;\n",
       "    }\n",
       "</style>\n",
       "<table border=\"1\" class=\"dataframe\">\n",
       "  <thead>\n",
       "    <tr style=\"text-align: right;\">\n",
       "      <th></th>\n",
       "      <th>size of flat</th>\n",
       "      <th>No.of bedrooms</th>\n",
       "    </tr>\n",
       "  </thead>\n",
       "  <tbody>\n",
       "    <tr>\n",
       "      <th>27</th>\n",
       "      <td>0.657311</td>\n",
       "      <td>-0.207413</td>\n",
       "    </tr>\n",
       "    <tr>\n",
       "      <th>39</th>\n",
       "      <td>0.204671</td>\n",
       "      <td>1.096326</td>\n",
       "    </tr>\n",
       "    <tr>\n",
       "      <th>26</th>\n",
       "      <td>-0.670764</td>\n",
       "      <td>-0.207413</td>\n",
       "    </tr>\n",
       "  </tbody>\n",
       "</table>\n",
       "</div>\n",
       "      <button class=\"colab-df-convert\" onclick=\"convertToInteractive('df-f8f4a2dd-079d-4c4c-8267-d639e7d2ec49')\"\n",
       "              title=\"Convert this dataframe to an interactive table.\"\n",
       "              style=\"display:none;\">\n",
       "        \n",
       "  <svg xmlns=\"http://www.w3.org/2000/svg\" height=\"24px\"viewBox=\"0 0 24 24\"\n",
       "       width=\"24px\">\n",
       "    <path d=\"M0 0h24v24H0V0z\" fill=\"none\"/>\n",
       "    <path d=\"M18.56 5.44l.94 2.06.94-2.06 2.06-.94-2.06-.94-.94-2.06-.94 2.06-2.06.94zm-11 1L8.5 8.5l.94-2.06 2.06-.94-2.06-.94L8.5 2.5l-.94 2.06-2.06.94zm10 10l.94 2.06.94-2.06 2.06-.94-2.06-.94-.94-2.06-.94 2.06-2.06.94z\"/><path d=\"M17.41 7.96l-1.37-1.37c-.4-.4-.92-.59-1.43-.59-.52 0-1.04.2-1.43.59L10.3 9.45l-7.72 7.72c-.78.78-.78 2.05 0 2.83L4 21.41c.39.39.9.59 1.41.59.51 0 1.02-.2 1.41-.59l7.78-7.78 2.81-2.81c.8-.78.8-2.07 0-2.86zM5.41 20L4 18.59l7.72-7.72 1.47 1.35L5.41 20z\"/>\n",
       "  </svg>\n",
       "      </button>\n",
       "      \n",
       "  <style>\n",
       "    .colab-df-container {\n",
       "      display:flex;\n",
       "      flex-wrap:wrap;\n",
       "      gap: 12px;\n",
       "    }\n",
       "\n",
       "    .colab-df-convert {\n",
       "      background-color: #E8F0FE;\n",
       "      border: none;\n",
       "      border-radius: 50%;\n",
       "      cursor: pointer;\n",
       "      display: none;\n",
       "      fill: #1967D2;\n",
       "      height: 32px;\n",
       "      padding: 0 0 0 0;\n",
       "      width: 32px;\n",
       "    }\n",
       "\n",
       "    .colab-df-convert:hover {\n",
       "      background-color: #E2EBFA;\n",
       "      box-shadow: 0px 1px 2px rgba(60, 64, 67, 0.3), 0px 1px 3px 1px rgba(60, 64, 67, 0.15);\n",
       "      fill: #174EA6;\n",
       "    }\n",
       "\n",
       "    [theme=dark] .colab-df-convert {\n",
       "      background-color: #3B4455;\n",
       "      fill: #D2E3FC;\n",
       "    }\n",
       "\n",
       "    [theme=dark] .colab-df-convert:hover {\n",
       "      background-color: #434B5C;\n",
       "      box-shadow: 0px 1px 3px 1px rgba(0, 0, 0, 0.15);\n",
       "      filter: drop-shadow(0px 1px 2px rgba(0, 0, 0, 0.3));\n",
       "      fill: #FFFFFF;\n",
       "    }\n",
       "  </style>\n",
       "\n",
       "      <script>\n",
       "        const buttonEl =\n",
       "          document.querySelector('#df-f8f4a2dd-079d-4c4c-8267-d639e7d2ec49 button.colab-df-convert');\n",
       "        buttonEl.style.display =\n",
       "          google.colab.kernel.accessAllowed ? 'block' : 'none';\n",
       "\n",
       "        async function convertToInteractive(key) {\n",
       "          const element = document.querySelector('#df-f8f4a2dd-079d-4c4c-8267-d639e7d2ec49');\n",
       "          const dataTable =\n",
       "            await google.colab.kernel.invokeFunction('convertToInteractive',\n",
       "                                                     [key], {});\n",
       "          if (!dataTable) return;\n",
       "\n",
       "          const docLinkHtml = 'Like what you see? Visit the ' +\n",
       "            '<a target=\"_blank\" href=https://colab.research.google.com/notebooks/data_table.ipynb>data table notebook</a>'\n",
       "            + ' to learn more about interactive tables.';\n",
       "          element.innerHTML = '';\n",
       "          dataTable['output_type'] = 'display_data';\n",
       "          await google.colab.output.renderOutput(dataTable, element);\n",
       "          const docLink = document.createElement('div');\n",
       "          docLink.innerHTML = docLinkHtml;\n",
       "          element.appendChild(docLink);\n",
       "        }\n",
       "      </script>\n",
       "    </div>\n",
       "  </div>\n",
       "  "
      ],
      "text/plain": [
       "    size of flat  No.of bedrooms\n",
       "27      0.657311       -0.207413\n",
       "39      0.204671        1.096326\n",
       "26     -0.670764       -0.207413"
      ]
     },
     "execution_count": 63,
     "metadata": {},
     "output_type": "execute_result"
    }
   ],
   "source": [
    "## Transforming test data\n",
    "X_test_scale=(X_test-mean)/std\n",
    "X_test_scale"
   ]
  },
  {
   "cell_type": "markdown",
   "metadata": {
    "id": "d82SzhH2m_IU"
   },
   "source": [
    "##### Using library for StandardScalar operation"
   ]
  },
  {
   "cell_type": "code",
   "execution_count": null,
   "metadata": {
    "colab": {
     "base_uri": "https://localhost:8080/"
    },
    "id": "ZEFHlUmScfb0",
    "outputId": "73f682a7-5278-458a-f353-c55fd1eec482"
   },
   "outputs": [
    {
     "name": "stdout",
     "output_type": "stream",
     "text": [
      "mean:  [1997.40909091    3.15909091] \n",
      "\n",
      "std_dev:  [8.04171322e+02 7.67024410e-01] \n",
      "\n",
      "[[-0.99159106 -0.2074131 ]\n",
      " [ 2.3534673  -0.2074131 ]\n",
      " [-0.94309393 -0.2074131 ]\n",
      " [-0.13356494 -0.2074131 ]\n",
      " [ 1.28528695  1.09632637]\n",
      " [ 1.24673796  1.09632637]\n",
      " [-1.11594267 -0.2074131 ]\n",
      " [-0.76775816 -0.2074131 ]\n",
      " [-0.72299158 -1.51115257]\n",
      " [-0.57625667 -0.2074131 ]\n",
      " [-0.41459958 -1.51115257]\n",
      " [ 1.41709966 -0.2074131 ]\n",
      " [ 3.08465478  2.40006585]\n",
      " [-0.94682448 -0.2074131 ]\n",
      " [-1.42433467 -1.51115257]\n",
      " [ 0.37627667  1.09632637]\n",
      " [-0.62599732 -0.2074131 ]\n",
      " [-0.84236912 -1.51115257]\n",
      " [ 0.7953416  -0.2074131 ]\n",
      " [ 0.05296248  1.09632637]\n",
      " [-0.18081855  1.09632637]\n",
      " [ 0.13254751 -0.2074131 ]\n",
      " [-1.24029428 -2.81489204]\n",
      " [-0.19698426 -1.51115257]\n",
      " [-0.0154309   1.09632637]\n",
      " [ 0.00322184 -0.2074131 ]\n",
      " [-0.23180271  1.09632637]\n",
      " [-0.49418461 -0.2074131 ]\n",
      " [ 0.29917867 -0.2074131 ]\n",
      " [-0.13605197 -1.51115257]\n",
      " [ 0.50062828 -0.2074131 ]\n",
      " [-0.69687774 -0.2074131 ]\n",
      " [-0.04403178  1.09632637]\n",
      " [ 0.16736596  1.09632637]\n",
      " [-0.07138913  1.09632637]\n",
      " [-0.48921055 -0.2074131 ]\n",
      " [ 0.76052315  1.09632637]\n",
      " [-0.98786051 -0.2074131 ]\n",
      " [-0.28651742 -0.2074131 ]\n",
      " [-0.7093129  -0.2074131 ]\n",
      " [ 0.70829548  1.09632637]\n",
      " [-0.90703196 -0.2074131 ]\n",
      " [ 0.25192506 -0.2074131 ]\n",
      " [ 2.75761004  1.09632637]] \n",
      "\n"
     ]
    },
    {
     "data": {
      "text/plain": [
       "array([[ 0.65731132, -0.2074131 ],\n",
       "       [ 0.20467145,  1.09632637],\n",
       "       [-0.6707639 , -0.2074131 ]])"
      ]
     },
     "execution_count": 64,
     "metadata": {},
     "output_type": "execute_result"
    }
   ],
   "source": [
    "## Fitting the data--> In this step it will store the mean and standard deviation of each features\n",
    "scaler = StandardScaler()\n",
    "scaler.fit(X_train)\n",
    "print('mean: ',scaler.mean_,'\\n') # Gives the mean\n",
    "print('std_dev: ',scaler.scale_,'\\n') # Gives standard deviation\n",
    "## Transforming step--> In this step now data sets will be transformed using above calculated mean and standard deviation z = (x - u) / s\n",
    "# transformation of train data\n",
    "X_train_scaled=scaler.transform(X_train)\n",
    "print(X_train_scaled,'\\n')\n",
    "#transformation of test data\n",
    "X_test_scaled=scaler.transform(X_test)\n",
    "X_test_scaled"
   ]
  },
  {
   "cell_type": "markdown",
   "metadata": {
    "id": "QTV3fXQcdDYM"
   },
   "source": [
    "![](https://cdn.extras.talentsprint.com/IOT/Images/GD_for_Multivaribale_Regression.png)"
   ]
  },
  {
   "cell_type": "markdown",
   "metadata": {
    "id": "MrwSs4XprFX-"
   },
   "source": [
    "#### Applying Gradient Descent For Multivariable Regression"
   ]
  },
  {
   "cell_type": "code",
   "execution_count": null,
   "metadata": {
    "colab": {
     "background_save": true
    },
    "id": "UXDWoo0RdJNV",
    "outputId": "67e9c0cc-0f7f-4e99-d5ec-c0413a444242"
   },
   "outputs": [
    {
     "data": {
      "text/plain": [
       "array([[335883.97664672],\n",
       "       [113247.11550866],\n",
       "       [ -4537.89755682]])"
      ]
     },
     "execution_count": null,
     "metadata": {},
     "output_type": "execute_result"
    }
   ],
   "source": [
    "m,n=X_train_scaled.shape\n",
    "X=np.hstack([np.ones((m,1)),X_train_scaled])\n",
    "Y=Y_train\n",
    "theta=np.random.randn(n+1,1)\n",
    "n_iterations=2000\n",
    "cost=np.zeros(n_iterations)\n",
    "alpha=0.01\n",
    "for iteration in range(n_iterations):\n",
    "    grad=(1/m)*X.T.dot((X.dot(theta)-Y))\n",
    "    theta=theta-alpha*grad\n",
    "    cost[iteration]=(1/(2*m))*np.sum(np.square((X.dot(theta)-Y)))\n",
    "theta"
   ]
  },
  {
   "cell_type": "markdown",
   "metadata": {
    "id": "_e1dYMIgs2jj"
   },
   "source": [
    "#### Visualisation of cost "
   ]
  },
  {
   "cell_type": "code",
   "execution_count": null,
   "metadata": {
    "colab": {
     "base_uri": "https://localhost:8080/",
     "height": 294
    },
    "id": "Cgn15FoNs8Av",
    "outputId": "39bfdb4c-8a20-4a74-cd40-887c17e7181d"
   },
   "outputs": [
    {
     "data": {
      "text/plain": [
       "[<matplotlib.lines.Line2D at 0x7fec44194690>]"
      ]
     },
     "execution_count": 34,
     "metadata": {},
     "output_type": "execute_result"
    },
    {
     "data": {
      "image/png": "[encoded data removed]",
      "text/plain": [
       "<Figure size 432x288 with 1 Axes>"
      ]
     },
     "metadata": {},
     "output_type": "display_data"
    }
   ],
   "source": [
    "plt.plot(cost)"
   ]
  },
  {
   "cell_type": "markdown",
   "metadata": {
    "id": "ASu-x1X8pAvN"
   },
   "source": [
    "### Predicting for all X_tain_scaled data"
   ]
  },
  {
   "cell_type": "code",
   "execution_count": null,
   "metadata": {
    "id": "AOpvkHu7m47-"
   },
   "outputs": [],
   "source": [
    "m,n=X_train_scaled.shape\n",
    "X=np.hstack([np.ones((m,1)),X_train_scaled])\n",
    "Yp=X.dot(theta)\n",
    "Yp"
   ]
  },
  {
   "cell_type": "markdown",
   "metadata": {
    "id": "nQDJcNqXqmWV"
   },
   "source": [
    "### Predicting for test data i.e., X_test_scaled"
   ]
  },
  {
   "cell_type": "code",
   "execution_count": null,
   "metadata": {
    "id": "ZR_mmGlHql2J"
   },
   "outputs": [],
   "source": [
    "m1,n1=X_test_scaled.shape\n",
    "X1=np.hstack([np.ones((m1,1)),X_test_scaled])\n",
    "Yp1=X1.dot(theta)\n",
    "Yp1"
   ]
  },
  {
   "cell_type": "code",
   "execution_count": null,
   "metadata": {
    "id": "4LdM8yQUrZCN"
   },
   "outputs": [],
   "source": [
    "Y_test"
   ]
  },
  {
   "cell_type": "markdown",
   "metadata": {
    "id": "AK8aZ5EOpn8k"
   },
   "source": [
    "### Measuring Accuracy"
   ]
  },
  {
   "cell_type": "code",
   "execution_count": null,
   "metadata": {
    "colab": {
     "base_uri": "https://localhost:8080/"
    },
    "id": "yvo7xVDqpr72",
    "outputId": "7af6013d-f92c-4555-bd34-049487098c02"
   },
   "outputs": [
    {
     "name": "stdout",
     "output_type": "stream",
     "text": [
      "Root Mean Squared Error =  57207.54650100726\n"
     ]
    }
   ],
   "source": [
    "# Calculation of RMSE is shown below:\n",
    "from sklearn.metrics import mean_squared_error\n",
    "RMSE=np.sqrt(mean_squared_error(Y_train, Yp))\n",
    "print('Root Mean Squared Error = ',RMSE)"
   ]
  },
  {
   "cell_type": "markdown",
   "metadata": {
    "id": "FYGVYKf5qAyL"
   },
   "source": [
    "#### Visualizing predicted and original price (for train data)"
   ]
  },
  {
   "cell_type": "code",
   "execution_count": null,
   "metadata": {
    "id": "NbeLcrQUqBDl"
   },
   "outputs": [],
   "source": [
    "X_axis=np.arange(1,m+1)\n",
    "plt.plot(X_axis,Y_train,'k-') # orginal\n",
    "plt.plot(X_axis,Yp,'r-') # Predicted\n",
    "plt.show()"
   ]
  },
  {
   "cell_type": "markdown",
   "metadata": {
    "id": "ORLwH34AvIcd"
   },
   "source": [
    "#### Polynomial Regression"
   ]
  },
  {
   "cell_type": "code",
   "execution_count": null,
   "metadata": {
    "id": "STVFryl4vH1g"
   },
   "outputs": [],
   "source": [
    "!wget https://cdn.extras.talentsprint.com/IOT/Data/poly.xlsx"
   ]
  },
  {
   "cell_type": "code",
   "execution_count": null,
   "metadata": {
    "id": "07LkN53UvX12"
   },
   "outputs": [],
   "source": [
    "data=pd.read_excel('poly.xlsx')\n",
    "print(data.head())\n",
    "XX=data.iloc[:,1].values\n",
    "YY=data.iloc[:,2].values  "
   ]
  },
  {
   "cell_type": "code",
   "execution_count": null,
   "metadata": {
    "id": "R7RJBi-DxoJS"
   },
   "outputs": [],
   "source": [
    "plt.scatter(XX,YY) # original\n",
    "plt.show()"
   ]
  },
  {
   "cell_type": "markdown",
   "metadata": {
    "id": "GeOe6sCmrlkw"
   },
   "source": [
    "####  **Polynomial features** : [Documentation](https://scikit-learn.org/stable/modules/generated/sklearn.preprocessing.PolynomialFeatures.html)"
   ]
  },
  {
   "cell_type": "code",
   "execution_count": null,
   "metadata": {
    "id": "EvqIezX9rmFR"
   },
   "outputs": [],
   "source": [
    "X = np.arange(6).reshape(3, 2)\n",
    "print('Initial Features : \\n',X,'\\n')\n",
    "poly = PolynomialFeatures(2)\n",
    "print('New features after polynomial transformation : \\n', poly.fit_transform(X),'\\n')\n",
    "poly = PolynomialFeatures(interaction_only=True)\n",
    "print('Excluding features with power of 2 : \\n', poly.fit_transform(X))"
   ]
  },
  {
   "cell_type": "markdown",
   "metadata": {
    "id": "aV6xF53_rolP"
   },
   "source": [
    "##### Applying on dataset"
   ]
  },
  {
   "cell_type": "code",
   "execution_count": null,
   "metadata": {
    "id": "94Zg857oyfhf"
   },
   "outputs": [],
   "source": [
    "m= len(XX)\n",
    "X1=XX[:,np.newaxis]\n",
    "poly = PolynomialFeatures(2)\n",
    "X1=poly.fit_transform(X1)"
   ]
  },
  {
   "cell_type": "code",
   "execution_count": null,
   "metadata": {
    "id": "6yDascpc0OvD"
   },
   "outputs": [],
   "source": [
    "X1"
   ]
  },
  {
   "cell_type": "markdown",
   "metadata": {
    "id": "k7J9_J461R0w"
   },
   "source": [
    "#### Applying Gradient Descent"
   ]
  },
  {
   "cell_type": "code",
   "execution_count": null,
   "metadata": {
    "id": "boaUKTqR0oSm"
   },
   "outputs": [],
   "source": [
    "m,n=X1.shape\n",
    "X=X1\n",
    "Y=YY[:,np.newaxis]\n",
    "theta=np.random.randn(n,1)\n",
    "n_iterations=10000\n",
    "cost=np.zeros(n_iterations)\n",
    "alpha=0.001\n",
    "for iteration in range(n_iterations):\n",
    "    grad=(1/m)*X.T.dot((X.dot(theta)-Y))\n",
    "    theta=theta-alpha*grad\n",
    "    cost[iteration]=(1/(2*m))*np.sum(np.square((X.dot(theta)-Y)))\n",
    "#theta"
   ]
  },
  {
   "cell_type": "code",
   "execution_count": null,
   "metadata": {
    "id": "ioM0V5CSOZRF"
   },
   "outputs": [],
   "source": [
    "theta"
   ]
  },
  {
   "cell_type": "markdown",
   "metadata": {
    "id": "ouJR5AmZPPQC"
   },
   "source": [
    "#### Prediciton "
   ]
  },
  {
   "cell_type": "code",
   "execution_count": null,
   "metadata": {
    "id": "Vu7VQ04cPV_4"
   },
   "outputs": [],
   "source": [
    "## Before prediction initial features must be transfromed using the same poly. transformation as above\n",
    "## to match with input feature for training\n",
    "m= len(XX)\n",
    "X1=XX[:,np.newaxis]\n",
    "poly = PolynomialFeatures(2)\n",
    "X1=poly.fit_transform(X1)\n",
    "Yp=X1.dot(theta)\n",
    "Yp"
   ]
  },
  {
   "cell_type": "markdown",
   "metadata": {
    "id": "4Uzc5HUdP15I"
   },
   "source": [
    "### Plotting"
   ]
  },
  {
   "cell_type": "code",
   "execution_count": null,
   "metadata": {
    "id": "QkKyVguJPyRI"
   },
   "outputs": [],
   "source": [
    "X_axis=np.arange(1,m+1)\n",
    "plt.scatter(X_axis,YY) # orginal\n",
    "plt.plot(X_axis,Yp,'ro') # Predicted\n",
    "plt.show()"
   ]
  },
  {
   "cell_type": "markdown",
   "metadata": {
    "id": "Cguor_IUtX4I"
   },
   "source": [
    "### Using sklearn library for above polynomial regression"
   ]
  },
  {
   "cell_type": "markdown",
   "metadata": {
    "id": "31WAZmDBuTCZ"
   },
   "source": [
    "#### Importing data and plotting"
   ]
  },
  {
   "cell_type": "code",
   "execution_count": null,
   "metadata": {
    "id": "DvGZpkpwtubC"
   },
   "outputs": [],
   "source": [
    "data=pd.read_excel('poly.xlsx')\n",
    "print(data.head())\n",
    "XX=data.iloc[:,1].values\n",
    "YY=data.iloc[:,2].values  \n",
    "plt.scatter(XX,YY) # original\n",
    "plt.show()"
   ]
  },
  {
   "cell_type": "markdown",
   "metadata": {
    "id": "vFRo27RXtz10"
   },
   "source": [
    "#### Feature transformation"
   ]
  },
  {
   "cell_type": "code",
   "execution_count": null,
   "metadata": {
    "id": "bxUO0rCHuD1h"
   },
   "outputs": [],
   "source": [
    "m= len(XX)\n",
    "#X1=np.hstack([np.ones((m,1)),XX[:,np.newaxis]])\n",
    "X1=XX[:,np.newaxis]\n",
    "poly = PolynomialFeatures(2)\n",
    "X1=poly.fit_transform(X1)\n",
    "X1"
   ]
  },
  {
   "cell_type": "markdown",
   "metadata": {
    "id": "kGH6F4eEtqYE"
   },
   "source": [
    "##### Training"
   ]
  },
  {
   "cell_type": "code",
   "execution_count": null,
   "metadata": {
    "id": "R0vwT3dAtivC"
   },
   "outputs": [],
   "source": [
    "from sklearn.linear_model import LinearRegression\n",
    "reg = LinearRegression().fit(X1, YY)"
   ]
  },
  {
   "cell_type": "markdown",
   "metadata": {
    "id": "bCgJHC7U4g5t"
   },
   "source": [
    "#### Displaying coefficiet and intercept of the aproximated model"
   ]
  },
  {
   "cell_type": "code",
   "execution_count": null,
   "metadata": {
    "id": "XoawvarU4g5u"
   },
   "outputs": [],
   "source": [
    "reg.coef_ "
   ]
  },
  {
   "cell_type": "code",
   "execution_count": null,
   "metadata": {
    "id": "eDT9CLrJ4g5v"
   },
   "outputs": [],
   "source": [
    "reg.intercept_ "
   ]
  },
  {
   "cell_type": "markdown",
   "metadata": {
    "id": "C849wWonwFZs"
   },
   "source": [
    "#### Prediction"
   ]
  },
  {
   "cell_type": "code",
   "execution_count": null,
   "metadata": {
    "id": "JtbTuTg-trCD"
   },
   "outputs": [],
   "source": [
    "## Before prediction initial features must be transfromed using the same poly. transformation as above\n",
    "## to match with input feature for training\n",
    "m= len(XX)\n",
    "X1=XX[:,np.newaxis]\n",
    "X1=poly.fit_transform(X1)\n",
    "Yp=reg.predict(X1)\n",
    "Yp"
   ]
  },
  {
   "cell_type": "markdown",
   "metadata": {
    "id": "veMTn6RBwSTZ"
   },
   "source": [
    "#### Plotting"
   ]
  },
  {
   "cell_type": "code",
   "execution_count": null,
   "metadata": {
    "id": "NDxmFvfbwR3k"
   },
   "outputs": [],
   "source": [
    "X_axis=np.arange(1,m+1)\n",
    "plt.scatter(X_axis,YY) # orginal\n",
    "plt.plot(X_axis,Yp,'ro') # Predicted\n",
    "plt.show()"
   ]
  }
 ],
 "metadata": {
  "colab": {
   "name": "Multi_Variable & Polynomial_Regression_Walkthrough .ipynb",
   "provenance": []
  },
  "kernelspec": {
   "display_name": "Python 3",
   "language": "python",
   "name": "python3"
  },
  "language_info": {
   "codemirror_mode": {
    "name": "ipython",
    "version": 3
   },
   "file_extension": ".py",
   "mimetype": "text/x-python",
   "name": "python",
   "nbconvert_exporter": "python",
   "pygments_lexer": "ipython3",
   "version": "3.8.8"
  }
 },
 "nbformat": 4,
 "nbformat_minor": 1
}
