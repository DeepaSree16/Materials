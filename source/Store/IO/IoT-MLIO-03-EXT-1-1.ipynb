{
 "cells": [
  {
   "cell_type": "markdown",
   "metadata": {
    "id": "i35LuPCsxJaQ"
   },
   "source": [
    "\n",
    "# IoT & Smart Analytics\n",
    "## A Program by IIIT-H and TalentSprint"
   ]
  },
  {
   "cell_type": "markdown",
   "metadata": {
    "id": "x9wLqIUIyML-"
   },
   "source": [
    "## Learning Objective"
   ]
  },
  {
   "cell_type": "markdown",
   "metadata": {
    "id": "lD86AWh0yHG4"
   },
   "source": [
    "At the end of the experiment, you will be able to :\n",
    "\n",
    "* Perform SVM classifier"
   ]
  },
  {
   "cell_type": "markdown",
   "metadata": {
    "id": "R-H31RhK1lot"
   },
   "source": [
    "## Dataset"
   ]
  },
  {
   "cell_type": "markdown",
   "metadata": {
    "id": "NH1Js1cUyWfo"
   },
   "source": [
    "### History\n",
    "\n",
    "Data were extracted from images that were taken from genuine and forged banknote-like specimens. For digitization, an industrial camera usually used for print inspection was used. The final images have 400x 400 pixels. Due to the object lens and distance to the investigated object gray-scale pictures with a resolution of about 660 dpi were gained. Wavelet Transform tool were used to extract features from images."
   ]
  },
  {
   "cell_type": "markdown",
   "metadata": {
    "id": "P677A-Xb0ONT"
   },
   "source": [
    "### Description\n",
    "\n",
    "The Banknote Authentication Data Set consists of 1372 instances. This is a binary classification problem which consists of 2 classes. Here our task is to predict whether a bank currency note is authentic or not based upon four attributes of the note.\n",
    "\n",
    "We have the below data attributes for Banknote Authentication\n",
    "\n",
    "- variance of Wavelet Transformed image\n",
    "- skewness of Wavelet Transformed image\n",
    "- curtosis of Wavelet Transformed image\n",
    "- entropy of image \n",
    "\n"
   ]
  },
  {
   "cell_type": "markdown",
   "metadata": {
    "id": "BNLA8HiKxQhc"
   },
   "source": [
    "### Setup Steps:"
   ]
  },
  {
   "cell_type": "code",
   "execution_count": null,
   "metadata": {
    "id": "2YzfoPvJDiTX"
   },
   "outputs": [],
   "source": [
    "#@title Please enter your registration id to start: { run: \"auto\", display-mode: \"form\" }\n",
    "Id = \"P22I01E_test\" #@param {type:\"string\"}"
   ]
  },
  {
   "cell_type": "code",
   "execution_count": null,
   "metadata": {
    "id": "rEzlYL4CDrmE"
   },
   "outputs": [],
   "source": [
    "#@title Please enter your password (normally your phone number) to continue: { run: \"auto\", display-mode: \"form\" }\n",
    "password = \"9876543456\" #@param {type:\"string\"}"
   ]
  },
  {
   "cell_type": "code",
   "execution_count": null,
   "metadata": {
    "cellView": "form",
    "id": "WBPPuGmBlDIN"
   },
   "outputs": [],
   "source": [
    "#@title Run this cell to complete the setup for this Notebook\n",
    "from IPython import get_ipython\n",
    "\n",
    "ipython = get_ipython()\n",
    "  \n",
    "notebook= \"GNB_SVM\" #name of the notebook\n",
    "\n",
    "def setup():\n",
    "\n",
    "    ipython.magic(\"sx wget  https://cdn.extras.talentsprint.com/IOT/Data/bill_authentication.csv\")\n",
    "    from IPython.display import HTML, display\n",
    "    display(HTML('<script src=\"https://dashboard.talentsprint.com/aiml/record_ip.html?traineeId={0}&recordId={1}\"></script>'.format(getId(),submission_id)))\n",
    "    print(\"Setup completed successfully\")\n",
    "    return\n",
    "\n",
    "def submit_notebook():\n",
    "    ipython.magic(\"notebook -e \"+ notebook + \".ipynb\")\n",
    "    \n",
    "    import requests, json, base64, datetime\n",
    "\n",
    "    url = \"https://dashboard.talentsprint.com/xp/app/save_notebook_attempts\"\n",
    "    if not submission_id:\n",
    "      data = {\"id\" : getId(), \"notebook\" : notebook, \"mobile\" : getPassword()}\n",
    "      r = requests.post(url, data = data)\n",
    "      r = json.loads(r.text)\n",
    "\n",
    "      if r[\"status\"] == \"Success\":\n",
    "          return r[\"record_id\"]\n",
    "      elif \"err\" in r:        \n",
    "        print(r[\"err\"])\n",
    "        return None        \n",
    "      else:\n",
    "        print (\"Something is wrong, the notebook will not be submitted for grading\")\n",
    "        return None\n",
    "    \n",
    "    elif getAnswer1() and getAnswer2() and getComplexity() and getAdditional() and getConcepts() and getComments() and getMentorSupport():\n",
    "      f = open(notebook + \".ipynb\", \"rb\")\n",
    "      file_hash = base64.b64encode(f.read())\n",
    "\n",
    "      data = {\"complexity\" : Complexity, \"additional\" :Additional, \n",
    "              \"concepts\" : Concepts, \"record_id\" : submission_id, \n",
    "              \"answer1\" : Answer1, \"id\" : Id, \"file_hash\" : file_hash,\n",
    "              \"notebook\" : notebook, \"answer2\" : Answer2,\n",
    "              \"feedback_experiments_input\" : Comments,\n",
    "              \"feedback_mentor_support\": Mentor_support}\n",
    "\n",
    "      r = requests.post(url, data = data)\n",
    "      r = json.loads(r.text)\n",
    "      if \"err\" in r:        \n",
    "        print(r[\"err\"])\n",
    "        return None   \n",
    "      else:\n",
    "        print(\"Your submission is successful.\")\n",
    "        print(\"Ref Id:\", submission_id)\n",
    "        print(\"Date of submission: \", r[\"date\"])\n",
    "        print(\"Time of submission: \", r[\"time\"])\n",
    "        print(\"View your submissions: https://iot.iiith.talentsprint.com/notebook_submissions\")\n",
    "        #print(\"For any queries/discrepancies, please connect with mentors through the chat icon in LMS dashboard.\")\n",
    "        return submission_id\n",
    "    else: submission_id\n",
    "    \n",
    "\n",
    "def getAdditional():\n",
    "  try:\n",
    "    if not Additional: \n",
    "      raise NameError\n",
    "    else:\n",
    "      return Additional  \n",
    "  except NameError:\n",
    "    print (\"Please answer Additional Question\")\n",
    "    return None\n",
    "\n",
    "def getComplexity():\n",
    "  try:\n",
    "    if not Complexity:\n",
    "      raise NameError\n",
    "    else:\n",
    "      return Complexity\n",
    "  except NameError:\n",
    "    print (\"Please answer Complexity Question\")\n",
    "    return None\n",
    "  \n",
    "def getConcepts():\n",
    "  try:\n",
    "    if not Concepts:\n",
    "      raise NameError\n",
    "    else:\n",
    "      return Concepts\n",
    "  except NameError:\n",
    "    print (\"Please answer Concepts Question\")\n",
    "    return None\n",
    "  \n",
    "  \n",
    "def getComments():\n",
    "  try:\n",
    "    if not Comments:\n",
    "      raise NameError\n",
    "    else:\n",
    "      return Comments\n",
    "  except NameError:\n",
    "    print (\"Please answer Comments Question\")\n",
    "    return None\n",
    "  \n",
    "\n",
    "def getMentorSupport():\n",
    "  try:\n",
    "    if not Mentor_support:\n",
    "      raise NameError\n",
    "    else:\n",
    "      return Mentor_support\n",
    "  except NameError:\n",
    "    print (\"Please answer Mentor support Question\")\n",
    "    return None\n",
    "\n",
    "def getAnswer1():\n",
    "  try:\n",
    "    if not Answer1:\n",
    "      raise NameError \n",
    "    else: \n",
    "      return Answer1\n",
    "  except NameError:\n",
    "    print (\"Please answer1 Question\")\n",
    "    return None\n",
    "\n",
    "def getAnswer2():\n",
    "  try:\n",
    "    if not Answer2:\n",
    "      raise NameError \n",
    "    else: \n",
    "      return Answer2\n",
    "  except NameError:\n",
    "    print (\"Please answer2 Question\")\n",
    "    return None\n",
    "  \n",
    "\n",
    "def getId():\n",
    "  try: \n",
    "    return Id if Id else None\n",
    "  except NameError:\n",
    "    return None\n",
    "\n",
    "def getPassword():\n",
    "  try:\n",
    "    return password if password else None\n",
    "  except NameError:\n",
    "    return None\n",
    "\n",
    "submission_id = None\n",
    "### Setup \n",
    "if getPassword() and getId():\n",
    "  submission_id = submit_notebook()\n",
    "  if submission_id:\n",
    "    setup() \n",
    "else:\n",
    "  print (\"Please complete Id and Password cells before running setup\")\n",
    "\n"
   ]
  },
  {
   "cell_type": "markdown",
   "metadata": {
    "id": "ljGsDKkF3rHT"
   },
   "source": [
    "#### Importing Required Packages"
   ]
  },
  {
   "cell_type": "code",
   "execution_count": null,
   "metadata": {
    "id": "0mO_21Mp3lO7"
   },
   "outputs": [],
   "source": [
    "import pandas as pd\n",
    "import numpy as np\n",
    "import matplotlib.pyplot as plt\n",
    "import seaborn as sns\n",
    "from sklearn.svm import SVC\n",
    "from mlxtend.plotting import plot_decision_regions\n",
    "from sklearn.preprocessing import StandardScaler\n",
    "from sklearn.model_selection import train_test_split"
   ]
  },
  {
   "cell_type": "markdown",
   "metadata": {
    "id": "vAhVr64D4Rf8"
   },
   "source": [
    "### Loading the data"
   ]
  },
  {
   "cell_type": "code",
   "execution_count": null,
   "metadata": {
    "id": "jHWkrHDX4Bml"
   },
   "outputs": [],
   "source": [
    "dataset = \"bill_authentication.csv\"\n",
    "bankdata = pd.read_csv(dataset)"
   ]
  },
  {
   "cell_type": "code",
   "execution_count": null,
   "metadata": {
    "id": "1ZV0zxtx4G1E"
   },
   "outputs": [],
   "source": [
    "## Check the dimensions of the data \n",
    "bankdata.shape"
   ]
  },
  {
   "cell_type": "code",
   "execution_count": null,
   "metadata": {
    "id": "YlG1VWMDzXqz"
   },
   "outputs": [],
   "source": [
    "bankdata.head()"
   ]
  },
  {
   "cell_type": "code",
   "execution_count": null,
   "metadata": {
    "id": "VHXi6Ja1t13P"
   },
   "outputs": [],
   "source": [
    "sns.pairplot(bankdata, hue=\"Class\",palette=\"bright\", height=2, aspect=1)"
   ]
  },
  {
   "cell_type": "markdown",
   "metadata": {
    "id": "S4wXbSX3nP2e"
   },
   "source": [
    "### Choosing only first two columns as Feature & Separating Label "
   ]
  },
  {
   "cell_type": "code",
   "execution_count": null,
   "metadata": {
    "id": "rLMT7Obk4wJB"
   },
   "outputs": [],
   "source": [
    "# Storing the data and labels into \"X\" and \"y\" variables\n",
    "X = bankdata.drop('Class', axis=1)\n",
    "y = bankdata['Class']\n",
    "X = X.iloc[:,:2]"
   ]
  },
  {
   "cell_type": "code",
   "execution_count": null,
   "metadata": {
    "id": "vBhFOEu2hU01"
   },
   "outputs": [],
   "source": [
    "## Use StandardScalar\n",
    "scaler = StandardScaler()\n",
    "df_Std = scaler.fit_transform(X)\n",
    "df_Std.shape"
   ]
  },
  {
   "cell_type": "markdown",
   "metadata": {
    "id": "W2FH_Jg-5eqB"
   },
   "source": [
    "### Splitting the data into train and test sets "
   ]
  },
  {
   "cell_type": "code",
   "execution_count": null,
   "metadata": {
    "id": "wcnh-liN5i1z"
   },
   "outputs": [],
   "source": [
    "X_train, X_test, y_train, y_test = train_test_split(df_Std, y, test_size = 0.20)\n"
   ]
  },
  {
   "cell_type": "markdown",
   "metadata": {
    "id": "J4LCegBV5ol5"
   },
   "source": [
    "###  SVM Classifier "
   ]
  },
  {
   "cell_type": "code",
   "execution_count": null,
   "metadata": {
    "id": "_SFiaupZxLYe"
   },
   "outputs": [],
   "source": [
    "from matplotlib import pyplot as plt\n",
    "plt.scatter(X.iloc[:,0], X.iloc[:,1], c=y)"
   ]
  },
  {
   "cell_type": "markdown",
   "metadata": {
    "id": "n8zfEZ-JB0V2"
   },
   "source": [
    "#### Trying Linear Classifier"
   ]
  },
  {
   "cell_type": "code",
   "execution_count": null,
   "metadata": {
    "id": "bSN2xLn46PN0"
   },
   "outputs": [],
   "source": [
    "# YOUR CODE HERE to perform SVM Classifier and make predictions on the test data\n",
    "svc = SVC(kernel='linear') ##  Here in SVC classifier the default value of 'C' parameter is 1.0 we can change the value of 'C'to 3 or 4 or 1E10\n",
    "                                   ##  but it is not throwing any error or making any difference in the accuracy\n",
    "svc.fit(X_train, y_train)"
   ]
  },
  {
   "cell_type": "code",
   "execution_count": null,
   "metadata": {
    "id": "C4-yzCki-UHh"
   },
   "outputs": [],
   "source": [
    "y_pred = svc.predict(X_test)\n",
    "svc.score(X_train, y_train)\n",
    "s = svc.score(X_test, y_test)\n",
    "print(s)\n",
    "plot_decision_regions(X=X.values, y=y.values, clf=svc, legend=1) "
   ]
  },
  {
   "cell_type": "markdown",
   "metadata": {
    "id": "VngvLSuScc_g"
   },
   "source": [
    "### Plottiing your own decision boundary without using ML_Extend "
   ]
  },
  {
   "cell_type": "code",
   "execution_count": null,
   "metadata": {
    "id": "k6jzAZohcior"
   },
   "outputs": [],
   "source": [
    "## Get the coefficients of classifier line\n",
    "## Your code here\n"
   ]
  },
  {
   "cell_type": "code",
   "execution_count": null,
   "metadata": {
    "id": "Q-gVNGuJdLKN"
   },
   "outputs": [],
   "source": [
    "## Get the intercept of classifier line\n",
    "## Your code here\n"
   ]
  },
  {
   "cell_type": "code",
   "execution_count": null,
   "metadata": {
    "id": "GuKsPylrdcuk"
   },
   "outputs": [],
   "source": [
    "# Plot the decision line using above coefficients and intercepts along with intial data \n",
    "# No need to plot margin and support vectors\n",
    "## your code here\n",
    "\n",
    "x_min=-8\n",
    "x_max=8\n",
    "\n",
    "# At decision boundary,W0*X0+W1+X1+C=0\n",
    "# X1=(-W0/W1)*X0-C/W1\n",
    "\n",
    "## your code here\n",
    "\n",
    "# Original data set plotting\n",
    "\n",
    "## your code here"
   ]
  },
  {
   "cell_type": "markdown",
   "metadata": {
    "id": "HcxWSdWqCNIr"
   },
   "source": [
    "#### Trying with 'rbf' kernel (Radial basis function)\n",
    "[Parameters inside SVM](https://scikit-learn.org/stable/modules/svm.html)"
   ]
  },
  {
   "cell_type": "code",
   "execution_count": null,
   "metadata": {
    "id": "gb6AjXBKBjKj"
   },
   "outputs": [],
   "source": [
    "fig = plt.figure(figsize=(10,8))\n",
    "model = SVC(kernel='rbf',C=10, gamma=50).fit(X_train, y_train)\n",
    "y_pred = model.predict(X_test)\n",
    "s = model.score(X_test, y_test)\n",
    "print(s)\n",
    "plot_decision_regions(X=X.values, y=y.values, clf=model, legend=1)"
   ]
  },
  {
   "cell_type": "markdown",
   "metadata": {
    "id": "FQHqGdHpGgdS"
   },
   "source": [
    "#### Trying with polynomial Kernel"
   ]
  },
  {
   "cell_type": "code",
   "execution_count": null,
   "metadata": {
    "id": "KeIGmlyzLzeW"
   },
   "outputs": [],
   "source": [
    "#Fitting the model\n",
    "\n",
    "## Your code here\n",
    "\n",
    "#use ML_Extend for decision_regions\n",
    "fig = plt.figure(figsize=(10,8))\n",
    "\n",
    "## Your code here\n"
   ]
  },
  {
   "cell_type": "markdown",
   "metadata": {
    "id": "4SCGwR5VfuK3"
   },
   "source": [
    "### Plottiing your own decision boundary without using ML_Extend "
   ]
  },
  {
   "cell_type": "code",
   "execution_count": null,
   "metadata": {
    "id": "neoMnPjqfz6-"
   },
   "outputs": [],
   "source": [
    "# Getting 10,000 equilspaced data points in the domain\n",
    "axes=[-8, 8, -15, 15]\n",
    "\n",
    "## Your code is here\n",
    "\n",
    "# predition \n",
    "\n",
    "## Your code is here\n",
    "\n",
    "# Plottiing decision boundary\n",
    "plt.figure(figsize=(10,8))\n",
    "\n",
    "## Your code is here\n",
    "\n",
    "# Original data set plotting\n",
    "\n",
    "## Your code is here"
   ]
  },
  {
   "cell_type": "markdown",
   "metadata": {
    "id": "VHfHdGCP_n6Y"
   },
   "source": [
    "## Please answer the questions below to complete the experiment:\n",
    "\n",
    "\n"
   ]
  },
  {
   "cell_type": "code",
   "execution_count": null,
   "metadata": {
    "id": "kmvdJ4aNmGjR"
   },
   "outputs": [],
   "source": [
    "#@title When the C parameter is set to infinite, which of the following holds true?  { run: \"auto\", form-width: \"500px\", display-mode: \"form\" }\n",
    "Answer1 = \"\" #@param [\"\",\"The optimal hyperplane(classifier line/plane) if exists, will be the one that completely separates the data.\", \"The soft-margin classifier will separate the data.\", \"Both of above.\",\"None of above.\"]\n"
   ]
  },
  {
   "cell_type": "code",
   "execution_count": null,
   "metadata": {
    "id": "HxjKf9FKXrEZ"
   },
   "outputs": [],
   "source": [
    "#@title Non-linear, Non-separable datasets can be classified using kernel functions other than linear in SVM.{ run: \"auto\", form-width: \"500px\", display-mode: \"form\" }\n",
    "Answer2 = \"\" #@param [\"\",\"False\", \"True\"]"
   ]
  },
  {
   "cell_type": "code",
   "execution_count": null,
   "metadata": {
    "id": "NMzKSbLIgFzQ"
   },
   "outputs": [],
   "source": [
    "#@title How was the experiment? { run: \"auto\", form-width: \"500px\", display-mode: \"form\" }\n",
    "Complexity = \"\" #@param [\"\",\"Too Simple, I am wasting time\", \"Good, But Not Challenging for me\", \"Good and Challenging for me\", \"Was Tough, but I did it\", \"Too Difficult for me\"]\n"
   ]
  },
  {
   "cell_type": "code",
   "execution_count": null,
   "metadata": {
    "id": "DjcH1VWSFI2l"
   },
   "outputs": [],
   "source": [
    "#@title If it was too easy, what more would you have liked to be added? If it was very difficult, what would you have liked to have been removed? { run: \"auto\", display-mode: \"form\" }\n",
    "Additional = \"\" #@param {type:\"string\"}\n"
   ]
  },
  {
   "cell_type": "code",
   "execution_count": null,
   "metadata": {
    "id": "4VBk_4VTAxCM"
   },
   "outputs": [],
   "source": [
    "#@title Can you identify the concepts from the lecture which this experiment covered? { run: \"auto\", vertical-output: true, display-mode: \"form\" }\n",
    "Concepts = \"\" #@param [\"\",\"Yes\", \"No\"]\n"
   ]
  },
  {
   "cell_type": "code",
   "execution_count": null,
   "metadata": {
    "id": "XH91cL1JWH7m"
   },
   "outputs": [],
   "source": [
    "#@title  Text and image description/explanation and code comments within the experiment: { run: \"auto\", vertical-output: true, display-mode: \"form\" }\n",
    "Comments = \"\" #@param [\"\",\"Very Useful\", \"Somewhat Useful\", \"Not Useful\", \"Didn't use\"]\n"
   ]
  },
  {
   "cell_type": "code",
   "execution_count": null,
   "metadata": {
    "id": "z8xLqj7VWIKW"
   },
   "outputs": [],
   "source": [
    "#@title Mentor Support: { run: \"auto\", vertical-output: true, display-mode: \"form\" }\n",
    "Mentor_support = \"\" #@param [\"\",\"Excellent\", \"Very Good\", \"Good\", \"Average\"]\n"
   ]
  },
  {
   "cell_type": "code",
   "execution_count": null,
   "metadata": {
    "cellView": "form",
    "id": "FzAZHt1zw-Y-"
   },
   "outputs": [],
   "source": [
    "#@title Run this cell to submit your notebook for grading { vertical-output: true }\n",
    "try:\n",
    "  if submission_id:\n",
    "      return_id = submit_notebook()\n",
    "      if return_id : submission_id = return_id\n",
    "  else:\n",
    "      print(\"Please complete the setup first.\")\n",
    "except NameError:\n",
    "  print (\"Please complete the setup first.\")"
   ]
  }
 ],
 "metadata": {
  "colab": {
   "collapsed_sections": [],
   "name": "GNB_SVM.ipynb",
   "private_outputs": true,
   "provenance": []
  },
  "kernelspec": {
   "display_name": "Python 3",
   "language": "python",
   "name": "python3"
  },
  "language_info": {
   "codemirror_mode": {
    "name": "ipython",
    "version": 3
   },
   "file_extension": ".py",
   "mimetype": "text/x-python",
   "name": "python",
   "nbconvert_exporter": "python",
   "pygments_lexer": "ipython3",
   "version": "3.8.8"
  }
 },
 "nbformat": 4,
 "nbformat_minor": 1
}
