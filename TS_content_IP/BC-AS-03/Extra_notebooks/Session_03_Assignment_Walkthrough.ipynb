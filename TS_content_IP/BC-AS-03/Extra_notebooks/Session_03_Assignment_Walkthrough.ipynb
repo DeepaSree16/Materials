{
 "cells": [
  {
   "cell_type": "markdown",
   "metadata": {
    "id": "03rpb-ZMZokB"
   },
   "source": [
    "# Assignments\n",
    "\n",
    "\n",
    "**Convert a variable name to camel case.**\n",
    "\n",
    "Camel case is the practice of capitalizing the first letter of each word in a series except the first word and then removing spaces, numbers, underscores, hyphens, and other special characters. \n",
    "\n",
    "Example:\n",
    "\n",
    "variableToCamelCase(\"basic_salary_in_dollar\") => basicSalaryInDollar\n",
    "\n",
    "variableToCamelCase(\"number_of_10_position\") => numberOfPosition\n"
   ]
  },
  {
   "cell_type": "code",
   "execution_count": null,
   "metadata": {
    "colab": {
     "base_uri": "https://localhost:8080/"
    },
    "executionInfo": {
     "elapsed": 643,
     "status": "ok",
     "timestamp": 1647420301225,
     "user": {
      "displayName": "Anasuya Sahoo",
      "photoUrl": "https://lh3.googleusercontent.com/a/default-user=s64",
      "userId": "03110790743872361155"
     },
     "user_tz": -330
    },
    "id": "d5jaqKMTwcey",
    "outputId": "799fb496-c22c-476e-bef4-75dd7ab0b0f4"
   },
   "outputs": [
    {
     "name": "stdout",
     "output_type": "stream",
     "text": [
      "numberOfPosition\n",
      "learnTechWiseTalentsprint\n"
     ]
    }
   ],
   "source": [
    "#Version 1\n",
    "def removeDigit(string: str)-> str:\n",
    "  temp_string = \"\"\n",
    "  for ele in string:\n",
    "    if ele.isalpha():\n",
    "      temp_string += ele\n",
    "  return temp_string\n",
    "\n",
    "def variableToCamelCase(text: str)->str:\n",
    "  temp = text.split('_')\n",
    "  if temp[0].isalpha():\n",
    "    res = temp[0]\n",
    "  else:\n",
    "    res = removeDigit(temp[0])\n",
    "  for string in temp[1:]:\n",
    "    if string.isalpha():\n",
    "      res += string.capitalize()\n",
    "    else:      \n",
    "      res += removeDigit(string).capitalize()\n",
    "  return res\n",
    "\n",
    "print(variableToCamelCase(\"number_of_10_position\"))\n",
    "print(variableToCamelCase(\"learn2022Tech_wise_talentsprint\"))"
   ]
  },
  {
   "cell_type": "markdown",
   "metadata": {
    "id": "5i1QQ65bqNBp"
   },
   "source": [
    "Discuss\n",
    "  * isalpha() and isdigit()\n",
    "  "
   ]
  },
  {
   "cell_type": "markdown",
   "metadata": {
    "id": "MZ_Y_SoF2nWe"
   },
   "source": [
    "##Assignment 07-02\n",
    "\n",
    "Convert a variable name from camel case"
   ]
  },
  {
   "cell_type": "code",
   "execution_count": 4,
   "metadata": {
    "colab": {
     "base_uri": "https://localhost:8080/",
     "height": 35
    },
    "executionInfo": {
     "elapsed": 409,
     "status": "ok",
     "timestamp": 1647948221904,
     "user": {
      "displayName": "Indira Priyadarshini Talasila",
      "photoUrl": "https://lh3.googleusercontent.com/a-/AOh14GjM42O-fn2CLTXOlXvHkRdumN3Dx9Pz3vopKBkZ1A=s64",
      "userId": "03785172896691744538"
     },
     "user_tz": -330
    },
    "id": "TAGwLeh4wkzE",
    "outputId": "6a10cf16-982e-4af0-b86e-dde4e373eaf8"
   },
   "outputs": [
    {
     "data": {
      "application/vnd.google.colaboratory.intrinsic+json": {
       "type": "string"
      },
      "text/plain": [
       "'learn_tech_wise_talentsprint'"
      ]
     },
     "execution_count": 4,
     "metadata": {},
     "output_type": "execute_result"
    }
   ],
   "source": [
    "#Version -1\n",
    "def camelCaseTovariable(string: str)-> str:\n",
    "  transformed_string = string[0].lower()\n",
    "  for char in string[1:]:\n",
    "    if char in 'ABCDEFGHIJKLMNOPQRSTUVWXYZ':\n",
    "      transformed_string += '_'\n",
    "    transformed_string += char.lower()\n",
    "  return transformed_string\n",
    "\n",
    "camelCaseTovariable(\"learnTechWiseTalentsprint\")  "
   ]
  },
  {
   "cell_type": "code",
   "execution_count": null,
   "metadata": {
    "id": "RfOpsErPW3_0"
   },
   "outputs": [],
   "source": []
  }
 ],
 "metadata": {
  "colab": {
   "collapsed_sections": [],
   "name": "TWC1_Session_07_Assignment_Walkthrough.ipynb",
   "provenance": []
  },
  "kernelspec": {
   "display_name": "Python 3 (ipykernel)",
   "language": "python",
   "name": "python3"
  },
  "language_info": {
   "codemirror_mode": {
    "name": "ipython",
    "version": 3
   },
   "file_extension": ".py",
   "mimetype": "text/x-python",
   "name": "python",
   "nbconvert_exporter": "python",
   "pygments_lexer": "ipython3",
   "version": "3.9.7"
  }
 },
 "nbformat": 4,
 "nbformat_minor": 1
}
