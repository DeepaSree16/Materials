{
 "cells": [
  {
   "cell_type": "markdown",
   "metadata": {
    "id": "hDn-GrnSP7yE"
   },
   "source": [
    "##rock, paper and scissors\n",
    "\n",
    "The traditional Rock-Paper-Scissors is a two-player game, in which each player simultaneously chooses, either rock, paper or scissors, given that, rock crushes scissors, scissors cuts paper, and paper covers rock. Based on the rules, the winner is decided."
   ]
  },
  {
   "cell_type": "code",
   "execution_count": null,
   "metadata": {
    "colab": {
     "base_uri": "https://localhost:8080/"
    },
    "executionInfo": {
     "elapsed": 68556,
     "status": "ok",
     "timestamp": 1647342605273,
     "user": {
      "displayName": "Anasuya Sahoo",
      "photoUrl": "https://lh3.googleusercontent.com/a/default-user=s64",
      "userId": "03110790743872361155"
     },
     "user_tz": -330
    },
    "id": "qO8uCG1-QB0w",
    "outputId": "a7597e0f-e426-4a91-84a5-f23992290516"
   },
   "outputs": [
    {
     "name": "stdout",
     "output_type": "stream",
     "text": [
      "\n",
      "Let's Play!!!\n",
      "Enter 1 to play Rock-Paper-Scissors\n",
      "Enter 2 to quit\n",
      "\n",
      "Enter your choice = 1\n",
      "--------------------------------------\n",
      "\t\tMenu\n",
      "--------------------------------------\n",
      "Enter \"help\" for instructions\n",
      "Enter \"Rock\",\"Paper\",\"Scissors\" to play\n",
      "Enter \"exit\" to quit\n",
      "--------------------------------------\n",
      "\n",
      "Enter your move : rock\n",
      "Computer making a move....\n",
      "Computer chooses  ROCK\n",
      "TIE GAME\n",
      "\n",
      "--------------------------------------\n",
      "\t\tMenu\n",
      "--------------------------------------\n",
      "Enter \"help\" for instructions\n",
      "Enter \"Rock\",\"Paper\",\"Scissors\" to play\n",
      "Enter \"exit\" to quit\n",
      "--------------------------------------\n",
      "\n",
      "Enter your move : paper\n",
      "Computer making a move....\n",
      "Computer chooses  SCISSORS\n",
      "COMPUTER WINS!!!\n",
      "\n",
      "--------------------------------------\n",
      "\t\tMenu\n",
      "--------------------------------------\n",
      "Enter \"help\" for instructions\n",
      "Enter \"Rock\",\"Paper\",\"Scissors\" to play\n",
      "Enter \"exit\" to quit\n",
      "--------------------------------------\n",
      "\n",
      "Enter your move : scissor\n",
      "Wrong Input!!\n",
      "\n",
      "Instructions for Rock-Paper-Scissors : \n",
      "\n",
      "Rock crushes Scissors\n",
      "Scissors cuts Paper\n",
      "Paper covers Rock\n",
      "\n",
      "--------------------------------------\n",
      "\t\tMenu\n",
      "--------------------------------------\n",
      "Enter \"help\" for instructions\n",
      "Enter \"Rock\",\"Paper\",\"Scissors\" to play\n",
      "Enter \"exit\" to quit\n",
      "--------------------------------------\n",
      "\n",
      "Enter your move : help\n",
      "\n",
      "Instructions for Rock-Paper-Scissors : \n",
      "\n",
      "Rock crushes Scissors\n",
      "Scissors cuts Paper\n",
      "Paper covers Rock\n",
      "\n",
      "--------------------------------------\n",
      "\t\tMenu\n",
      "--------------------------------------\n",
      "Enter \"help\" for instructions\n",
      "Enter \"Rock\",\"Paper\",\"Scissors\" to play\n",
      "Enter \"exit\" to quit\n",
      "--------------------------------------\n",
      "\n",
      "Enter your move : exit\n",
      "\n",
      "Let's Play!!!\n",
      "Enter 1 to play Rock-Paper-Scissors\n",
      "Enter 2 to quit\n",
      "\n",
      "Enter your choice = 2\n"
     ]
    }
   ],
   "source": [
    "import random\n",
    " \n",
    "def game_instructions(): \n",
    "    print()\n",
    "    print(\"Instructions for Rock-Paper-Scissors : \")\n",
    "    print()\n",
    "    print(\"Rock crushes Scissors\")\n",
    "    print(\"Scissors cuts Paper\")\n",
    "    print(\"Paper covers Rock\")\n",
    "    print()\n",
    " \n",
    "def rps_rules():\n",
    "     \n",
    "    global rps_table\n",
    "    global game_map\n",
    "    global name\n",
    " \n",
    "    while True: \n",
    "        print(\"--------------------------------------\")\n",
    "        print(\"\\t\\tMenu\")\n",
    "        print(\"--------------------------------------\")\n",
    "        print(\"Enter \\\"help\\\" for instructions\")\n",
    "        print(\"Enter \\\"Rock\\\",\\\"Paper\\\",\\\"Scissors\\\" to play\")\n",
    "        print(\"Enter \\\"exit\\\" to quit\")\n",
    "        print(\"--------------------------------------\") \n",
    "        print() \n",
    "        \n",
    "        inp = input(\"Enter your move : \")\n",
    " \n",
    "        if inp.lower() == \"help\":\n",
    "            game_instructions()\n",
    "            continue\n",
    "        elif inp.lower() == \"exit\":\n",
    "            break  \n",
    "        elif inp.lower() == \"rock\":\n",
    "            player_move = 0\n",
    "        elif inp.lower() == \"paper\":\n",
    "            player_move = 1    \n",
    "        elif inp.lower() == \"scissors\":\n",
    "            player_move = 2\n",
    "        else:\n",
    "            print(\"Wrong Input!!\")\n",
    "            game_instructions()  \n",
    "            continue\n",
    " \n",
    "        print(\"Computer making a move....\") \n",
    "        comp_move = random.randint(0, 2)\n",
    "        print(\"Computer chooses \", game_map[comp_move].upper())\n",
    "        \n",
    "        winner = rps_table[player_move][comp_move]\n",
    "        if winner == player_move:\n",
    "            print(\"PLAYER WINS!!!\")\n",
    "        elif winner == comp_move:\n",
    "            print(\"COMPUTER WINS!!!\")\n",
    "        else:\n",
    "            print(\"TIE GAME\") \n",
    "        print()\n",
    "\n",
    " \n",
    "game_map = {0:\"rock\", 1:\"paper\", 2:\"scissors\"}\n",
    "rps_table = [[-1, 1, 0], [1, -1, 2], [0, 2, -1]]\n",
    "while True:\n",
    "  print()\n",
    "  print(\"Let's Play!!!\")\n",
    "  print(\"Enter 1 to play Rock-Paper-Scissors\")\n",
    "  print(\"Enter 2 to quit\")\n",
    "  print() \n",
    "  try:\n",
    "    choice = int(input(\"Enter your choice = \"))\n",
    "  except ValueError:\n",
    "    print(\"Wrong Choice\")   \n",
    "    continue\n",
    "  if choice == 1:\n",
    "    rps_rules() \n",
    "  elif choice == 2:\n",
    "    break \n",
    "  else:\n",
    "    print(\"Wrong choice. Read instructions carefully.\")\n",
    "\n"
   ]
  },
  {
   "cell_type": "markdown",
   "metadata": {
    "id": "OGUoMhXmPrBt"
   },
   "source": [
    "\n",
    "\n",
    "```\n",
    "# This is formatted as code\n",
    "```\n",
    "\n",
    "##Assignment: 10 - 02\n",
    "\n",
    "##Numbering a crossword grid"
   ]
  },
  {
   "cell_type": "code",
   "execution_count": null,
   "metadata": {
    "colab": {
     "base_uri": "https://localhost:8080/"
    },
    "executionInfo": {
     "elapsed": 510,
     "status": "ok",
     "timestamp": 1647257623890,
     "user": {
      "displayName": "Anasuya Sahoo",
      "photoUrl": "https://lh3.googleusercontent.com/a/default-user=s64",
      "userId": "03110790743872361155"
     },
     "user_tz": -330
    },
    "id": "a7100a9e",
    "outputId": "8ff1e04e-b9f0-404f-c6b5-841e05177a29"
   },
   "outputs": [
    {
     "data": {
      "text/plain": [
       "[['.', '.', '.', '.', '.', 'x', '.', '.', '.', '.', '.', '.', 'x'],\n",
       " ['.', 'x', '.', 'x', '.', 'x', '.', 'x', '.', 'x', '.', 'x', '.'],\n",
       " ['.', '.', '.', '.', '.', '.', '.', 'x', '.', '.', '.', '.', '.'],\n",
       " ['.', 'x', '.', 'x', '.', 'x', '.', 'x', '.', 'x', '.', 'x', '.'],\n",
       " ['.', '.', '.', '.', '.', 'x', '.', '.', '.', '.', '.', '.', '.'],\n",
       " ['.', 'x', 'x', 'x', '.', 'x', '.', 'x', 'x', 'x', '.', 'x', '.'],\n",
       " ['.', '.', '.', '.', '.', '.', 'x', '.', '.', '.', '.', '.', '.'],\n",
       " ['.', 'x', '.', 'x', 'x', 'x', '.', 'x', '.', 'x', 'x', 'x', '.'],\n",
       " ['.', '.', '.', '.', '.', '.', '.', 'x', '.', '.', '.', '.', '.'],\n",
       " ['.', 'x', '.', 'x', '.', 'x', '.', 'x', '.', 'x', '.', 'x', '.'],\n",
       " ['.', '.', '.', '.', '.', 'x', '.', '.', '.', '.', '.', '.', '.'],\n",
       " ['.', 'x', '.', 'x', '.', 'x', '.', 'x', '.', 'x', '.', 'x', '.'],\n",
       " ['x', '.', '.', '.', '.', '.', '.', 'x', '.', '.', '.', '.', '.']]"
      ]
     },
     "execution_count": 3,
     "metadata": {},
     "output_type": "execute_result"
    }
   ],
   "source": [
    " def read_grid(filename: str) -> [[str]]:\n",
    "    file = open(filename , \"r\")\n",
    "    grid_size = len(file.readline()) - 1\n",
    "    file.seek(0)\n",
    "    grid = [[item for item in line[:grid_size]] for line in file.readlines()]\n",
    "    return grid\n",
    "\n",
    "crossboard = read_grid(\"grid.txt\")\n",
    "crossboard"
   ]
  },
  {
   "cell_type": "code",
   "execution_count": null,
   "metadata": {
    "id": "KnGexwLCM7e_"
   },
   "outputs": [],
   "source": []
  },
  {
   "cell_type": "code",
   "execution_count": null,
   "metadata": {
    "colab": {
     "base_uri": "https://localhost:8080/"
    },
    "executionInfo": {
     "elapsed": 13,
     "status": "ok",
     "timestamp": 1647257631902,
     "user": {
      "displayName": "Anasuya Sahoo",
      "photoUrl": "https://lh3.googleusercontent.com/a/default-user=s64",
      "userId": "03110790743872361155"
     },
     "user_tz": -330
    },
    "id": "uwpt0iaONHeP",
    "outputId": "e8d9273c-ff89-4824-a12a-e630cc5074a9"
   },
   "outputs": [
    {
     "data": {
      "text/plain": [
       "[['.', '.', '.', '.', '.', 'x', '.', '.', '.', '.', '.', '.', 'x'],\n",
       " ['.', 'x', '.', 'x', '.', 'x', '.', 'x', '.', 'x', '.', 'x', '.'],\n",
       " ['.', '.', '.', '.', '.', '.', '.', 'x', '.', '.', '.', '.', '.'],\n",
       " ['.', 'x', '.', 'x', '.', 'x', '.', 'x', '.', 'x', '.', 'x', '.'],\n",
       " ['.', '.', '.', '.', '.', 'x', '.', '.', '.', '.', '.', '.', '.'],\n",
       " ['.', 'x', 'x', 'x', '.', 'x', '.', 'x', 'x', 'x', '.', 'x', '.'],\n",
       " ['.', '.', '.', '.', '.', '.', 'x', '.', '.', '.', '.', '.', '.'],\n",
       " ['.', 'x', '.', 'x', 'x', 'x', '.', 'x', '.', 'x', 'x', 'x', '.'],\n",
       " ['.', '.', '.', '.', '.', '.', '.', 'x', '.', '.', '.', '.', '.'],\n",
       " ['.', 'x', '.', 'x', '.', 'x', '.', 'x', '.', 'x', '.', 'x', '.'],\n",
       " ['.', '.', '.', '.', '.', 'x', '.', '.', '.', '.', '.', '.', '.'],\n",
       " ['.', 'x', '.', 'x', '.', 'x', '.', 'x', '.', 'x', '.', 'x', '.'],\n",
       " ['x', '.', '.', '.', '.', '.', '.', 'x', '.', '.', '.', '.', '.']]"
      ]
     },
     "execution_count": 4,
     "metadata": {},
     "output_type": "execute_result"
    }
   ],
   "source": [
    " def read_grid(filename: str) -> [[str]]:\n",
    "    file = open(filename , \"r\")\n",
    "    grid_size = len(file.readline()) - 1\n",
    "    file.seek(0)\n",
    "    grid = [[item for item in line[:grid_size]] for line in file.readlines()]\n",
    "    return grid\n",
    "\n",
    "crossboard = read_grid(\"grid.txt\")\n",
    "crossboard"
   ]
  },
  {
   "cell_type": "code",
   "execution_count": null,
   "metadata": {
    "colab": {
     "base_uri": "https://localhost:8080/"
    },
    "executionInfo": {
     "elapsed": 613,
     "status": "ok",
     "timestamp": 1647257643766,
     "user": {
      "displayName": "Anasuya Sahoo",
      "photoUrl": "https://lh3.googleusercontent.com/a/default-user=s64",
      "userId": "03110790743872361155"
     },
     "user_tz": -330
    },
    "id": "bc5d1f96",
    "outputId": "9856f529-4150-455d-8d5a-a17c6003b93d"
   },
   "outputs": [
    {
     "data": {
      "text/plain": [
       "[['x', 'x', 'x', 'x', 'x', 'x', 'x', 'x', 'x', 'x', 'x', 'x', 'x', 'x', 'x'],\n",
       " ['x', '.', '.', '.', '.', '.', 'x', '.', '.', '.', '.', '.', '.', 'x', 'x'],\n",
       " ['x', '.', 'x', '.', 'x', '.', 'x', '.', 'x', '.', 'x', '.', 'x', '.', 'x'],\n",
       " ['x', '.', '.', '.', '.', '.', '.', '.', 'x', '.', '.', '.', '.', '.', 'x'],\n",
       " ['x', '.', 'x', '.', 'x', '.', 'x', '.', 'x', '.', 'x', '.', 'x', '.', 'x'],\n",
       " ['x', '.', '.', '.', '.', '.', 'x', '.', '.', '.', '.', '.', '.', '.', 'x'],\n",
       " ['x', '.', 'x', 'x', 'x', '.', 'x', '.', 'x', 'x', 'x', '.', 'x', '.', 'x'],\n",
       " ['x', '.', '.', '.', '.', '.', '.', 'x', '.', '.', '.', '.', '.', '.', 'x'],\n",
       " ['x', '.', 'x', '.', 'x', 'x', 'x', '.', 'x', '.', 'x', 'x', 'x', '.', 'x'],\n",
       " ['x', '.', '.', '.', '.', '.', '.', '.', 'x', '.', '.', '.', '.', '.', 'x'],\n",
       " ['x', '.', 'x', '.', 'x', '.', 'x', '.', 'x', '.', 'x', '.', 'x', '.', 'x'],\n",
       " ['x', '.', '.', '.', '.', '.', 'x', '.', '.', '.', '.', '.', '.', '.', 'x'],\n",
       " ['x', '.', 'x', '.', 'x', '.', 'x', '.', 'x', '.', 'x', '.', 'x', '.', 'x'],\n",
       " ['x', 'x', '.', '.', '.', '.', '.', '.', 'x', '.', '.', '.', '.', '.', 'x'],\n",
       " ['x', 'x', 'x', 'x', 'x', 'x', 'x', 'x', 'x', 'x', 'x', 'x', 'x', 'x', 'x']]"
      ]
     },
     "execution_count": 5,
     "metadata": {},
     "output_type": "execute_result"
    }
   ],
   "source": [
    "def add_shadded_padding(grid: [[str]]) -> [[str]]:\n",
    "    grid.insert(0 , ['x' for _ in range(len(grid))])\n",
    "    grid.append(['x' for _ in range(len(grid) - 1)])\n",
    "    for row in grid:\n",
    "        row.insert(0 , 'x')\n",
    "        row.append('x')\n",
    "    return grid\n",
    "\n",
    "newboard = add_shadded_padding(crossboard)\n",
    "newboard"
   ]
  },
  {
   "cell_type": "code",
   "execution_count": null,
   "metadata": {
    "colab": {
     "base_uri": "https://localhost:8080/"
    },
    "executionInfo": {
     "elapsed": 489,
     "status": "ok",
     "timestamp": 1647257653026,
     "user": {
      "displayName": "Anasuya Sahoo",
      "photoUrl": "https://lh3.googleusercontent.com/a/default-user=s64",
      "userId": "03110790743872361155"
     },
     "user_tz": -330
    },
    "id": "d2d826c4",
    "outputId": "acacd820-e859-4196-e605-45350466029c"
   },
   "outputs": [
    {
     "data": {
      "text/plain": [
       "[['.', '.', '.', '.', '.', 'x', '.', '.', '.', '.', '.', '.', 'x'],\n",
       " ['.', 'x', '.', 'x', '.', 'x', '.', 'x', '.', 'x', '.', 'x', '.'],\n",
       " ['.', '.', '.', '.', '.', '.', '.', 'x', '.', '.', '.', '.', '.'],\n",
       " ['.', 'x', '.', 'x', '.', 'x', '.', 'x', '.', 'x', '.', 'x', '.'],\n",
       " ['.', '.', '.', '.', '.', 'x', '.', '.', '.', '.', '.', '.', '.'],\n",
       " ['.', 'x', 'x', 'x', '.', 'x', '.', 'x', 'x', 'x', '.', 'x', '.'],\n",
       " ['.', '.', '.', '.', '.', '.', 'x', '.', '.', '.', '.', '.', '.'],\n",
       " ['.', 'x', '.', 'x', 'x', 'x', '.', 'x', '.', 'x', 'x', 'x', '.'],\n",
       " ['.', '.', '.', '.', '.', '.', '.', 'x', '.', '.', '.', '.', '.'],\n",
       " ['.', 'x', '.', 'x', '.', 'x', '.', 'x', '.', 'x', '.', 'x', '.'],\n",
       " ['.', '.', '.', '.', '.', 'x', '.', '.', '.', '.', '.', '.', '.'],\n",
       " ['.', 'x', '.', 'x', '.', 'x', '.', 'x', '.', 'x', '.', 'x', '.'],\n",
       " ['x', '.', '.', '.', '.', '.', '.', 'x', '.', '.', '.', '.', '.']]"
      ]
     },
     "execution_count": 6,
     "metadata": {},
     "output_type": "execute_result"
    }
   ],
   "source": [
    "def remove_shadded_padding(grid: [[str]]) -> [[str]]:\n",
    "    del grid[0]\n",
    "    del grid[-1]\n",
    "    for row in grid:\n",
    "        row.pop(0)\n",
    "        row.pop(-1)\n",
    "    return grid\n",
    "\n",
    "prevboard = remove_shadded_padding(newboard)\n",
    "prevboard"
   ]
  },
  {
   "cell_type": "code",
   "execution_count": null,
   "metadata": {
    "id": "6901869e"
   },
   "outputs": [],
   "source": [
    "def is_valid_across(grid: [[str]], row: int , col: int) -> bool:\n",
    "    return grid[row][col - 1] == 'x' and grid[row][col + 1] == '.'"
   ]
  },
  {
   "cell_type": "code",
   "execution_count": null,
   "metadata": {
    "id": "3bb40bc6"
   },
   "outputs": [],
   "source": [
    "def is_valid_down(grid: [[str]], row: int, col: int) -> bool:\n",
    "    return grid[row - 1] [col] == 'x' and grid[row + 1][col] == '.'"
   ]
  },
  {
   "cell_type": "code",
   "execution_count": null,
   "metadata": {
    "colab": {
     "base_uri": "https://localhost:8080/"
    },
    "executionInfo": {
     "elapsed": 1272,
     "status": "ok",
     "timestamp": 1647257668460,
     "user": {
      "displayName": "Anasuya Sahoo",
      "photoUrl": "https://lh3.googleusercontent.com/a/default-user=s64",
      "userId": "03110790743872361155"
     },
     "user_tz": -330
    },
    "id": "b6062fd0",
    "outputId": "252b6ee1-fd13-4054-d470-df2a5e574419"
   },
   "outputs": [
    {
     "data": {
      "text/plain": [
       "[['.', '.', '.', '.', '.', 'x', '.', '.', '.', '.', '.', '.', 'x'],\n",
       " ['.', 'x', '.', 'x', '.', 'x', '.', 'x', '.', 'x', '.', 'x', '.'],\n",
       " ['.', '.', '.', '.', '.', '.', '.', 'x', '1', '.', '.', '.', '.'],\n",
       " ['.', 'x', '.', 'x', '.', 'x', '.', 'x', '.', 'x', '.', 'x', '.'],\n",
       " ['.', '.', '.', '.', '.', 'x', '2', '.', '.', '.', '.', '.', '.'],\n",
       " ['.', 'x', 'x', 'x', '.', 'x', '.', 'x', 'x', 'x', '.', 'x', '.'],\n",
       " ['.', '.', '3', '.', '.', '.', 'x', '4', '5', '.', '.', '.', '.'],\n",
       " ['.', 'x', '.', 'x', 'x', 'x', '6', 'x', '.', 'x', 'x', 'x', '.'],\n",
       " ['.', '.', '.', '.', '7', '.', '.', 'x', '8', '.', '9', '.', '.'],\n",
       " ['.', 'x', '.', 'x', '.', 'x', '.', 'x', '.', 'x', '.', 'x', '.'],\n",
       " ['.', '.', '.', '.', '.', 'x', '10', '.', '.', '.', '.', '.', '.'],\n",
       " ['.', 'x', '.', 'x', '.', 'x', '.', 'x', '.', 'x', '.', 'x', '.'],\n",
       " ['x', '.', '.', '.', '.', '.', '.', 'x', '.', '.', '.', '.', '.']]"
      ]
     },
     "execution_count": 9,
     "metadata": {},
     "output_type": "execute_result"
    }
   ],
   "source": [
    "def number_grid(grid: [[str]]) -> [[str]]:\n",
    "    numbering = 1\n",
    "    for row in range(1, len(grid) - 1):\n",
    "        for col in range(1, len(grid) - 1):\n",
    "            if grid[row][col] == '.':\n",
    "                if is_valid_across(grid , row, col) or is_valid_down(grid , row, col):\n",
    "                    grid[row][col] = str(numbering)\n",
    "                    numbering += 1\n",
    "    return grid\n",
    "number_grid(crossboard)"
   ]
  },
  {
   "cell_type": "code",
   "execution_count": null,
   "metadata": {
    "colab": {
     "base_uri": "https://localhost:8080/"
    },
    "executionInfo": {
     "elapsed": 493,
     "status": "ok",
     "timestamp": 1647257699264,
     "user": {
      "displayName": "Anasuya Sahoo",
      "photoUrl": "https://lh3.googleusercontent.com/a/default-user=s64",
      "userId": "03110790743872361155"
     },
     "user_tz": -330
    },
    "id": "a464e958",
    "outputId": "863a00d2-2e6f-4401-be58-6e2107bad180"
   },
   "outputs": [
    {
     "name": "stdout",
     "output_type": "stream",
     "text": [
      "['.', '.', '.', '.', '.', 'x', '.', '.', '.', '.', '.', '.', 'x']\n",
      "['.', 'x', '.', 'x', '.', 'x', '.', 'x', '.', 'x', '.', 'x', '.']\n",
      "['.', '.', '.', '.', '.', '.', '.', 'x', '1', '.', '.', '.', '.']\n",
      "['.', 'x', '.', 'x', '.', 'x', '.', 'x', '.', 'x', '.', 'x', '.']\n",
      "['.', '.', '.', '.', '.', 'x', '2', '.', '.', '.', '.', '.', '.']\n",
      "['.', 'x', 'x', 'x', '.', 'x', '.', 'x', 'x', 'x', '.', 'x', '.']\n",
      "['.', '.', '3', '.', '.', '.', 'x', '4', '5', '.', '.', '.', '.']\n",
      "['.', 'x', '.', 'x', 'x', 'x', '6', 'x', '.', 'x', 'x', 'x', '.']\n",
      "['.', '.', '.', '.', '7', '.', '.', 'x', '8', '.', '9', '.', '.']\n",
      "['.', 'x', '.', 'x', '.', 'x', '.', 'x', '.', 'x', '.', 'x', '.']\n",
      "['.', '.', '.', '.', '.', 'x', '10', '.', '.', '.', '.', '.', '.']\n",
      "['.', 'x', '.', 'x', '.', 'x', '.', 'x', '.', 'x', '.', 'x', '.']\n",
      "['x', '.', '.', '.', '.', '.', '.', 'x', '.', '.', '.', '.', '.']\n"
     ]
    }
   ],
   "source": [
    "def print_grid(grid: [[str]]):\n",
    "    for row in grid:\n",
    "        print(row)\n",
    "print_grid(crossboard)"
   ]
  }
 ],
 "metadata": {
  "colab": {
   "collapsed_sections": [],
   "name": "Copy of TWC1_Session_10_Assignment_Walkthrough.ipynb",
   "provenance": [
    {
     "file_id": "1VRy2NSR0Np1JgweSyAoADvgl-XbBXWb6",
     "timestamp": 1647265245944
    }
   ]
  },
  "kernelspec": {
   "display_name": "Python 3 (ipykernel)",
   "language": "python",
   "name": "python3"
  },
  "language_info": {
   "codemirror_mode": {
    "name": "ipython",
    "version": 3
   },
   "file_extension": ".py",
   "mimetype": "text/x-python",
   "name": "python",
   "nbconvert_exporter": "python",
   "pygments_lexer": "ipython3",
   "version": "3.9.7"
  }
 },
 "nbformat": 4,
 "nbformat_minor": 1
}
