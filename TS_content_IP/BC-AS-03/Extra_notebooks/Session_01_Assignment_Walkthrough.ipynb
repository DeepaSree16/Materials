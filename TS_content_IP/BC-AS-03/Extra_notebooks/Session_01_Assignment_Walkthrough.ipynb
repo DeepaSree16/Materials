{
 "cells": [
  {
   "cell_type": "markdown",
   "metadata": {
    "id": "_a-vCCl-hvCs"
   },
   "source": [
    "# Assignment \n",
    "Take any four-digit number, using at least two different digits (leading zeros are allowed).\n",
    "Arrange the digits in descending and then in ascending order to get two four-digit numbers, adding leading zeros if necessary.\n",
    "Subtract the smaller number from the bigger number.\n",
    "Go back to step 2 and repeat.\n",
    "This process stops after a few steps, that is step 3 produces the same number. DO this with paper and pen to understand the same Start with  $1945$\n",
    "\n",
    "$9541–1459=8082 $\n",
    "\n",
    "$8820–0288=8532$ \n",
    "\n",
    "$8532–2358=6174$ \n",
    "\n",
    "$7641–1467=6174$ \n",
    "\n",
    "Given a suitable starting number generate the sequence. It should not repeat; that is it should stop before the repetition.\n",
    "\n",
    "For example if  1945  is input it should return  [1945,8082,8532,6174]\n"
   ]
  },
  {
   "cell_type": "code",
   "execution_count": null,
   "metadata": {
    "colab": {
     "base_uri": "https://localhost:8080/"
    },
    "executionInfo": {
     "elapsed": 6,
     "status": "ok",
     "timestamp": 1647941626118,
     "user": {
      "displayName": "Shifu Asokan",
      "photoUrl": "https://lh3.googleusercontent.com/a-/AOh14Gg2XLkk3X4GKE-TZwCSYMLYz9WprXQk8WnxwLPd=s64",
      "userId": "10029516761598072692"
     },
     "user_tz": -330
    },
    "id": "48b84b6f",
    "outputId": "11bbf5f8-f670-4deb-e56b-611bd85c2fbc"
   },
   "outputs": [
    {
     "data": {
      "text/plain": [
       "[9, 5, 4, 1]"
      ]
     },
     "execution_count": 2,
     "metadata": {},
     "output_type": "execute_result"
    }
   ],
   "source": [
    "def num2digit(n: int) -> [int]:\n",
    "    digits = []\n",
    "    while n > 0:\n",
    "        digits.insert(0, n % 10)\n",
    "        n //= 10\n",
    "    return digits\n",
    "\n",
    "num2digit(9541)"
   ]
  },
  {
   "cell_type": "code",
   "execution_count": null,
   "metadata": {
    "colab": {
     "base_uri": "https://localhost:8080/"
    },
    "executionInfo": {
     "elapsed": 372,
     "status": "ok",
     "timestamp": 1647941767899,
     "user": {
      "displayName": "Shifu Asokan",
      "photoUrl": "https://lh3.googleusercontent.com/a-/AOh14Gg2XLkk3X4GKE-TZwCSYMLYz9WprXQk8WnxwLPd=s64",
      "userId": "10029516761598072692"
     },
     "user_tz": -330
    },
    "id": "0b7e0fc4",
    "outputId": "b6b7f3c8-e465-4c1e-f003-50679eab3406"
   },
   "outputs": [
    {
     "data": {
      "text/plain": [
       "9541"
      ]
     },
     "execution_count": 10,
     "metadata": {},
     "output_type": "execute_result"
    }
   ],
   "source": [
    "def digits2num(digits: [int]) -> int:\n",
    "    num = 0\n",
    "    for digit in digits:\n",
    "        num = num * 10 + digit\n",
    "    return num\n",
    "digits2num([9, 5, 4, 1])"
   ]
  },
  {
   "cell_type": "code",
   "execution_count": null,
   "metadata": {
    "id": "0b7b90ee"
   },
   "outputs": [],
   "source": [
    "def biggest(n: int) -> int:\n",
    "    return digits2num(sorted(num2digit(n), reverse = True))"
   ]
  },
  {
   "cell_type": "code",
   "execution_count": null,
   "metadata": {
    "id": "ad58a91c"
   },
   "outputs": [],
   "source": [
    "def smallest(n: int) -> int:\n",
    "    return digits2num(sorted(num2digit(n)))"
   ]
  },
  {
   "cell_type": "code",
   "execution_count": null,
   "metadata": {
    "id": "b9c9f502"
   },
   "outputs": [],
   "source": [
    "def next_kaprekar(n: int) -> int:\n",
    "    return biggest(n) - smallest(n)"
   ]
  },
  {
   "cell_type": "code",
   "execution_count": null,
   "metadata": {
    "id": "e341c09f"
   },
   "outputs": [],
   "source": [
    "def kaprekar_seq(n: int) -> [int]:\n",
    "    seq = [n]\n",
    "    while n != next_kaprekar(n):\n",
    "      n = next_kaprekar(n)    \n",
    "      seq.append(n)  \n",
    "    return seq"
   ]
  },
  {
   "cell_type": "code",
   "execution_count": null,
   "metadata": {
    "colab": {
     "base_uri": "https://localhost:8080/"
    },
    "executionInfo": {
     "elapsed": 5,
     "status": "ok",
     "timestamp": 1647941806017,
     "user": {
      "displayName": "Shifu Asokan",
      "photoUrl": "https://lh3.googleusercontent.com/a-/AOh14Gg2XLkk3X4GKE-TZwCSYMLYz9WprXQk8WnxwLPd=s64",
      "userId": "10029516761598072692"
     },
     "user_tz": -330
    },
    "id": "78e673fe",
    "outputId": "71012f14-5436-48e7-a9f3-8bb7d200c4c1"
   },
   "outputs": [
    {
     "data": {
      "text/plain": [
       "[9541, 8082, 8532, 6174]"
      ]
     },
     "execution_count": 15,
     "metadata": {},
     "output_type": "execute_result"
    }
   ],
   "source": [
    "kaprekar_seq(9541)"
   ]
  },
  {
   "cell_type": "code",
   "execution_count": null,
   "metadata": {
    "colab": {
     "base_uri": "https://localhost:8080/"
    },
    "executionInfo": {
     "elapsed": 6,
     "status": "ok",
     "timestamp": 1647941809088,
     "user": {
      "displayName": "Shifu Asokan",
      "photoUrl": "https://lh3.googleusercontent.com/a-/AOh14Gg2XLkk3X4GKE-TZwCSYMLYz9WprXQk8WnxwLPd=s64",
      "userId": "10029516761598072692"
     },
     "user_tz": -330
    },
    "id": "fc67082a",
    "outputId": "40f2f086-b7ba-47d5-c2e2-85113589722d"
   },
   "outputs": [
    {
     "data": {
      "text/plain": [
       "[3954, 6084, 8172, 7443, 3996, 6264, 4176, 6174]"
      ]
     },
     "execution_count": 16,
     "metadata": {},
     "output_type": "execute_result"
    }
   ],
   "source": [
    "kaprekar_seq(3954)"
   ]
  },
  {
   "cell_type": "code",
   "execution_count": null,
   "metadata": {
    "colab": {
     "base_uri": "https://localhost:8080/"
    },
    "executionInfo": {
     "elapsed": 7,
     "status": "ok",
     "timestamp": 1647941325318,
     "user": {
      "displayName": "Indira Priyadarshini Talasila",
      "photoUrl": "https://lh3.googleusercontent.com/a-/AOh14GjM42O-fn2CLTXOlXvHkRdumN3Dx9Pz3vopKBkZ1A=s64",
      "userId": "03785172896691744538"
     },
     "user_tz": -330
    },
    "id": "be9df579",
    "outputId": "01d38457-6bc2-46f6-8dd4-7799f3cd9267"
   },
   "outputs": [
    {
     "data": {
      "text/plain": [
       "[1268, 7353, 4176, 6174]"
      ]
     },
     "execution_count": 9,
     "metadata": {},
     "output_type": "execute_result"
    }
   ],
   "source": [
    "kaprekar_seq(1268)"
   ]
  },
  {
   "cell_type": "markdown",
   "metadata": {
    "id": "Dpjb6-K-bXwk"
   },
   "source": [
    "* Execute each individual function and discuss.\n",
    "* Discuss how to remove the extra computation of next_kaprekar "
   ]
  },
  {
   "cell_type": "markdown",
   "metadata": {
    "id": "TA71_6m9-vuP"
   },
   "source": [
    "## Assignment 04-02\n",
    "\n",
    "1. Start with any number. (For practice try small numbers) say 7\n",
    "2. if it is even divide by 2, if it is odd multiply by 3 and add 1\n",
    "3. Repeat\n",
    "\n",
    "4. This process reaches at ...4, 2, 1 and then starts repeating\n",
    "\n",
    "Write a function that generates the sequence ending in 4, 2, 1 for the given starting number\n",
    "\n",
    "For example $7$ should generate $[7, 22, 11, 34, 17, 52, 26, 13, 40, 20, 10, 5, 16, 8, 4, 2, 1]$"
   ]
  },
  {
   "cell_type": "code",
   "execution_count": null,
   "metadata": {
    "id": "e5wbTNKzjsHE"
   },
   "outputs": [],
   "source": [
    "def collatz_sequence(k: int) -> [int]:\n",
    "    seq = []\n",
    "    while k != 4:\n",
    "        seq.append(k)\n",
    "        k = next_collatz(k)\n",
    "    seq.extend([4, 2, 1])\n",
    "    return seq\n",
    "\n",
    "def next_collatz(n: int)->int:\n",
    "  return n // 2 if n % 2 == 0 else 3 * n + 1"
   ]
  },
  {
   "cell_type": "code",
   "execution_count": null,
   "metadata": {
    "colab": {
     "base_uri": "https://localhost:8080/"
    },
    "executionInfo": {
     "elapsed": 417,
     "status": "ok",
     "timestamp": 1647941339145,
     "user": {
      "displayName": "Indira Priyadarshini Talasila",
      "photoUrl": "https://lh3.googleusercontent.com/a-/AOh14GjM42O-fn2CLTXOlXvHkRdumN3Dx9Pz3vopKBkZ1A=s64",
      "userId": "03785172896691744538"
     },
     "user_tz": -330
    },
    "id": "TFai64In5Ljf",
    "outputId": "8a2a18a2-72ef-42df-cd95-b959d32a854e"
   },
   "outputs": [
    {
     "data": {
      "text/plain": [
       "[3, 10, 5, 16, 8, 4, 2, 1]"
      ]
     },
     "execution_count": 11,
     "metadata": {},
     "output_type": "execute_result"
    }
   ],
   "source": [
    "collatz_sequence(3)"
   ]
  },
  {
   "cell_type": "code",
   "execution_count": null,
   "metadata": {
    "colab": {
     "base_uri": "https://localhost:8080/"
    },
    "executionInfo": {
     "elapsed": 9,
     "status": "ok",
     "timestamp": 1647941340683,
     "user": {
      "displayName": "Indira Priyadarshini Talasila",
      "photoUrl": "https://lh3.googleusercontent.com/a-/AOh14GjM42O-fn2CLTXOlXvHkRdumN3Dx9Pz3vopKBkZ1A=s64",
      "userId": "03785172896691744538"
     },
     "user_tz": -330
    },
    "id": "prLq__hK6U1Z",
    "outputId": "bac34417-ea2c-464e-e354-a42e9bac9177"
   },
   "outputs": [
    {
     "data": {
      "text/plain": [
       "[2, 1, 4, 2, 1]"
      ]
     },
     "execution_count": 12,
     "metadata": {},
     "output_type": "execute_result"
    }
   ],
   "source": [
    "collatz_sequence(2)"
   ]
  },
  {
   "cell_type": "code",
   "execution_count": null,
   "metadata": {
    "colab": {
     "base_uri": "https://localhost:8080/"
    },
    "executionInfo": {
     "elapsed": 5,
     "status": "ok",
     "timestamp": 1647941342027,
     "user": {
      "displayName": "Indira Priyadarshini Talasila",
      "photoUrl": "https://lh3.googleusercontent.com/a-/AOh14GjM42O-fn2CLTXOlXvHkRdumN3Dx9Pz3vopKBkZ1A=s64",
      "userId": "03785172896691744538"
     },
     "user_tz": -330
    },
    "id": "iIjSrlSD7ETn",
    "outputId": "102955a9-6720-466e-a72a-c50c8c81dd49"
   },
   "outputs": [
    {
     "data": {
      "text/plain": [
       "[1, 4, 2, 1]"
      ]
     },
     "execution_count": 13,
     "metadata": {},
     "output_type": "execute_result"
    }
   ],
   "source": [
    "collatz_sequence(1)"
   ]
  },
  {
   "cell_type": "markdown",
   "metadata": {
    "id": "Ojbm1STeb-eB"
   },
   "source": [
    "* Discuss line 3.\n",
    "* Discuss line 7."
   ]
  },
  {
   "cell_type": "markdown",
   "metadata": {
    "id": "tm_xSHQvCOAK"
   },
   "source": [
    "### For Saturday advanced session: \n",
    "Write both using recursion"
   ]
  },
  {
   "cell_type": "code",
   "execution_count": null,
   "metadata": {
    "id": "GScFBnnfCVZj"
   },
   "outputs": [],
   "source": []
  }
 ],
 "metadata": {
  "colab": {
   "collapsed_sections": [],
   "name": "TWC1_Session_05_Assignment_Walkthrough.ipynb",
   "provenance": [
    {
     "file_id": "1hsQfWTCOR0JCghm4rIc1-QZaE3h7RNgm",
     "timestamp": 1647264861985
    }
   ]
  },
  "kernelspec": {
   "display_name": "Python 3 (ipykernel)",
   "language": "python",
   "name": "python3"
  },
  "language_info": {
   "codemirror_mode": {
    "name": "ipython",
    "version": 3
   },
   "file_extension": ".py",
   "mimetype": "text/x-python",
   "name": "python",
   "nbconvert_exporter": "python",
   "pygments_lexer": "ipython3",
   "version": "3.9.7"
  }
 },
 "nbformat": 4,
 "nbformat_minor": 1
}
