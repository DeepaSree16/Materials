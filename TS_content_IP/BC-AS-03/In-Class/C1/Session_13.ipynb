{
 "cells": [
  {
   "cell_type": "markdown",
   "metadata": {
    "id": "bGrwvO35tbfL"
   },
   "source": [
    "#Problem - 00\n",
    "\n",
    "If we list all the natural numbers below 10 that are multiples of 3 or 5, we get 3, 5, 6 and 9. The sum of these multiples is 23.\n",
    "\n",
    "\n",
    "Find the sum of all the multiples of 3 or 5 below 1000."
   ]
  },
  {
   "cell_type": "code",
   "execution_count": null,
   "metadata": {
    "id": "vjPpOKUBtrwr"
   },
   "outputs": [],
   "source": [
    "### Using a function with for\n",
    "def select(x):\n",
    "    return x % 3 == 0 or x % 5 == 0\n",
    "LIMIT = 1000\n",
    "total = 0\n",
    "for n in range(LIMIT):\n",
    "    if select(n):\n",
    "        total += n\n",
    "print(total)"
   ]
  },
  {
   "cell_type": "code",
   "execution_count": null,
   "metadata": {
    "id": "ARyfhVLLtu6q"
   },
   "outputs": [],
   "source": [
    "### Using filter with lambda\n",
    "LIMIT = 1000\n",
    "sum(filter(lambda x: x % 3 == 0 or x % 5 == 0, range(LIMIT)))"
   ]
  },
  {
   "cell_type": "code",
   "execution_count": null,
   "metadata": {
    "id": "nnuXAqu2tynF"
   },
   "outputs": [],
   "source": [
    "### Using filter with function\n",
    "def select(x):\n",
    "    return x % 3 == 0 or x % 5 == 0\n",
    "LIMIT = 1000\n",
    "print(sum(filter(select, range(LIMIT))))"
   ]
  },
  {
   "cell_type": "code",
   "execution_count": null,
   "metadata": {
    "id": "uO6uXuZhtzqD"
   },
   "outputs": [],
   "source": [
    "### Using list comprehensions\n",
    "LIMIT = 1000\n",
    "sum([x for x in range(LIMIT) if x % 3 == 0 or x % 5 == 0])"
   ]
  },
  {
   "cell_type": "code",
   "execution_count": null,
   "metadata": {
    "id": "G3gM0uWlt3KL"
   },
   "outputs": [],
   "source": [
    "### Using just ranges\n",
    "LIMIT = 1000\n",
    "sum(range(3, LIMIT, 3)) + sum(range(5, LIMIT, 5)) - sum(range(15, LIMIT, 15))"
   ]
  },
  {
   "cell_type": "code",
   "execution_count": null,
   "metadata": {
    "id": "Veed8uWjt6QE"
   },
   "outputs": [],
   "source": [
    "### Using sets\n",
    "LIMIT = 1000\n",
    "sum(set(range(3, LIMIT, 3)) | set(range(5, LIMIT, 5)))"
   ]
  },
  {
   "cell_type": "markdown",
   "metadata": {
    "id": "cVcu4VwoJ7dT"
   },
   "source": [
    "#Problem - 01\n",
    "\n",
    "Write a python function to find all of the numbers from 1–1000 that are divisible by 7."
   ]
  },
  {
   "cell_type": "code",
   "execution_count": null,
   "metadata": {
    "colab": {
     "base_uri": "https://localhost:8080/"
    },
    "executionInfo": {
     "elapsed": 498,
     "status": "ok",
     "timestamp": 1651126022563,
     "user": {
      "displayName": "Anasuya Sahoo",
      "userId": "03110790743872361155"
     },
     "user_tz": -330
    },
    "id": "onwJrPR2IKbw",
    "outputId": "683e5203-756d-4574-ae81-f7a8dd75a47e"
   },
   "outputs": [
    {
     "name": "stdout",
     "output_type": "stream",
     "text": [
      "[7, 14, 21, 28, 35, 42, 49, 56, 63, 70, 77, 84, 91, 98, 105, 112, 119, 126, 133, 140, 147, 154, 161, 168, 175, 182, 189, 196, 203, 210, 217, 224, 231, 238, 245, 252, 259, 266, 273, 280, 287, 294, 301, 308, 315, 322, 329, 336, 343, 350, 357, 364, 371, 378, 385, 392, 399, 406, 413, 420, 427, 434, 441, 448, 455, 462, 469, 476, 483, 490, 497, 504, 511, 518, 525, 532, 539, 546, 553, 560, 567, 574, 581, 588, 595, 602, 609, 616, 623, 630, 637, 644, 651, 658, 665, 672, 679, 686, 693, 700, 707, 714, 721, 728, 735, 742, 749, 756, 763, 770, 777, 784, 791, 798, 805, 812, 819, 826, 833, 840, 847, 854, 861, 868, 875, 882, 889, 896, 903, 910, 917, 924, 931, 938, 945, 952, 959, 966, 973, 980, 987, 994]\n"
     ]
    }
   ],
   "source": [
    "def divisible_by_7(limit: int)-> int:\n",
    "    return [num for num in range(1, limit + 1) if num % 7 == 0]\n",
    "\n",
    "print(divisible_by_7(1000))"
   ]
  },
  {
   "cell_type": "markdown",
   "metadata": {
    "id": "k3MmF-YprBxD"
   },
   "source": [
    "## Problem-02\n",
    "\n",
    "Write a program that prints the numbers below a given LIMIT. If it's a multiple of 3, it should print \"Fizz\". If it's a multiple of 5, it should print \"Buzz\". If it's a multiple of 3 and 5, it should print \"Fizz Buzz\". If it's not multiple of 3 or 5 it should print the number itself.\n",
    "\n",
    "Sample Input\n",
    "\n",
    "15\n",
    "\n",
    "Sample Output\n",
    "\n",
    "['1', '2', 'FIZZ', '4', 'BUZZ', 'FIZZ', '7', '8', 'FIZZ', 'BUZZ', '11', 'FIZZ', '13', '14']"
   ]
  },
  {
   "cell_type": "code",
   "execution_count": null,
   "metadata": {
    "colab": {
     "base_uri": "https://localhost:8080/"
    },
    "executionInfo": {
     "elapsed": 476,
     "status": "ok",
     "timestamp": 1650604477314,
     "user": {
      "displayName": "Indira Priyadarshini Talasila",
      "userId": "03785172896691744538"
     },
     "user_tz": -330
    },
    "id": "6JmrdshLq6Oi",
    "outputId": "7993400d-8b97-4a07-a38c-76369100037c"
   },
   "outputs": [
    {
     "name": "stdout",
     "output_type": "stream",
     "text": [
      "['1', '2', 'FIZZ', '4', 'BUZZ', 'FIZZ', '7', '8', 'FIZZ', 'BUZZ', '11', 'FIZZ', '13', '14']\n"
     ]
    }
   ],
   "source": [
    "def pick(n):\n",
    "    return 2 * int(n % 5 == 0) + 1 * int(n % 3 == 0)\n",
    "    \n",
    "def fb(n):\n",
    "    return [str(n), \"FIZZ\", \"BUZZ\", \"FIZZBUZZ\"][pick(n)]\n",
    "\n",
    "fbs = [fb(x) for x in range(1, 16)]\n",
    "\n",
    "print(fbs)\n"
   ]
  },
  {
   "cell_type": "code",
   "execution_count": 4,
   "metadata": {
    "colab": {
     "base_uri": "https://localhost:8080/"
    },
    "executionInfo": {
     "elapsed": 419,
     "status": "ok",
     "timestamp": 1655442554236,
     "user": {
      "displayName": "Indira Priyadarshini Talasila",
      "userId": "03785172896691744538"
     },
     "user_tz": -330
    },
    "id": "OPbyw_DTEJv1",
    "outputId": "5c1af417-1eda-46f5-f950-85e9edaa9738"
   },
   "outputs": [
    {
     "data": {
      "text/plain": [
       "0"
      ]
     },
     "execution_count": 4,
     "metadata": {},
     "output_type": "execute_result"
    }
   ],
   "source": [
    "int(False)"
   ]
  },
  {
   "cell_type": "code",
   "execution_count": 3,
   "metadata": {
    "colab": {
     "base_uri": "https://localhost:8080/",
     "height": 174
    },
    "executionInfo": {
     "elapsed": 448,
     "status": "error",
     "timestamp": 1655442479483,
     "user": {
      "displayName": "Indira Priyadarshini Talasila",
      "userId": "03785172896691744538"
     },
     "user_tz": -330
    },
    "id": "l-7OCe4bDk0A",
    "outputId": "00e9cfdc-fde7-4d0d-e3c7-e023b0002599"
   },
   "outputs": [
    {
     "ename": "IndexError",
     "evalue": "ignored",
     "output_type": "error",
     "traceback": [
      "\u001b[0;31m---------------------------------------------------------------------------\u001b[0m",
      "\u001b[0;31mIndexError\u001b[0m                                Traceback (most recent call last)",
      "\u001b[0;32m<ipython-input-3-aa5a05a5351a>\u001b[0m in \u001b[0;36m<module>\u001b[0;34m()\u001b[0m\n\u001b[0;32m----> 1\u001b[0;31m \u001b[0;34m[\u001b[0m\u001b[0;36m1\u001b[0m\u001b[0;34m,\u001b[0m \u001b[0;36m2\u001b[0m\u001b[0;34m,\u001b[0m \u001b[0;36m3\u001b[0m\u001b[0;34m,\u001b[0m \u001b[0;36m4\u001b[0m\u001b[0;34m]\u001b[0m\u001b[0;34m[\u001b[0m\u001b[0;36m4\u001b[0m\u001b[0;34m]\u001b[0m\u001b[0;34m\u001b[0m\u001b[0;34m\u001b[0m\u001b[0m\n\u001b[0m",
      "\u001b[0;31mIndexError\u001b[0m: list index out of range"
     ]
    }
   ],
   "source": [
    "[1, 2, 3, 4][4]"
   ]
  },
  {
   "cell_type": "markdown",
   "metadata": {
    "id": "ZcoPvt5dQtsi"
   },
   "source": [
    "#Problem - 03\n",
    "\n",
    "Write a python function to find all of the numbers from 1–1000 that have a 8 in them."
   ]
  },
  {
   "cell_type": "code",
   "execution_count": null,
   "metadata": {
    "colab": {
     "base_uri": "https://localhost:8080/"
    },
    "executionInfo": {
     "elapsed": 12,
     "status": "ok",
     "timestamp": 1650530470232,
     "user": {
      "displayName": "Anasuya Sahoo",
      "userId": "03110790743872361155"
     },
     "user_tz": -330
    },
    "id": "u1NaD7SfRNw2",
    "outputId": "6dd3a58d-a235-4867-a455-1b9f2c4eda8e"
   },
   "outputs": [
    {
     "name": "stdout",
     "output_type": "stream",
     "text": [
      "[8, 18, 28, 38, 48, 58, 68, 78, 80, 81, 82, 83, 84, 85, 86, 87, 88, 89, 98, 108, 118, 128, 138, 148, 158, 168, 178, 180, 181, 182, 183, 184, 185, 186, 187, 188, 189, 198, 208, 218, 228, 238, 248, 258, 268, 278, 280, 281, 282, 283, 284, 285, 286, 287, 288, 289, 298, 308, 318, 328, 338, 348, 358, 368, 378, 380, 381, 382, 383, 384, 385, 386, 387, 388, 389, 398, 408, 418, 428, 438, 448, 458, 468, 478, 480, 481, 482, 483, 484, 485, 486, 487, 488, 489, 498, 508, 518, 528, 538, 548, 558, 568, 578, 580, 581, 582, 583, 584, 585, 586, 587, 588, 589, 598, 608, 618, 628, 638, 648, 658, 668, 678, 680, 681, 682, 683, 684, 685, 686, 687, 688, 689, 698, 708, 718, 728, 738, 748, 758, 768, 778, 780, 781, 782, 783, 784, 785, 786, 787, 788, 789, 798, 800, 801, 802, 803, 804, 805, 806, 807, 808, 809, 810, 811, 812, 813, 814, 815, 816, 817, 818, 819, 820, 821, 822, 823, 824, 825, 826, 827, 828, 829, 830, 831, 832, 833, 834, 835, 836, 837, 838, 839, 840, 841, 842, 843, 844, 845, 846, 847, 848, 849, 850, 851, 852, 853, 854, 855, 856, 857, 858, 859, 860, 861, 862, 863, 864, 865, 866, 867, 868, 869, 870, 871, 872, 873, 874, 875, 876, 877, 878, 879, 880, 881, 882, 883, 884, 885, 886, 887, 888, 889, 890, 891, 892, 893, 894, 895, 896, 897, 898, 899, 908, 918, 928, 938, 948, 958, 968, 978, 980, 981, 982, 983, 984, 985, 986, 987, 988, 989, 998]\n"
     ]
    }
   ],
   "source": [
    "def having_8_in_seq(limit: int)-> int:\n",
    "    return [num for num in range(1, limit + 1) if \"8\" in str(num)]\n",
    "\n",
    "print(having_8_in_seq(1000))"
   ]
  },
  {
   "cell_type": "markdown",
   "metadata": {
    "id": "qPE3wNLHSGy_"
   },
   "source": [
    "#Problem - 04\n",
    "\n",
    "Write a python function to find the count the number of spaces in a string."
   ]
  },
  {
   "cell_type": "code",
   "execution_count": null,
   "metadata": {
    "colab": {
     "base_uri": "https://localhost:8080/"
    },
    "executionInfo": {
     "elapsed": 625,
     "status": "ok",
     "timestamp": 1650530754625,
     "user": {
      "displayName": "Anasuya Sahoo",
      "userId": "03110790743872361155"
     },
     "user_tz": -330
    },
    "id": "PFQ4W0ALSW0f",
    "outputId": "5cc0cb72-7319-42e4-86dd-467fa044d043"
   },
   "outputs": [
    {
     "data": {
      "text/plain": [
       "3"
      ]
     },
     "execution_count": 4,
     "metadata": {},
     "output_type": "execute_result"
    }
   ],
   "source": [
    "def count_of_spaces(string: str)-> int:\n",
    "    return len([char for char in string if char == ' '])\n",
    "\n",
    "count_of_spaces(\"welcome to tech-wise program\")"
   ]
  },
  {
   "cell_type": "markdown",
   "metadata": {
    "id": "8n8mFAWrTMa6"
   },
   "source": [
    "#Problem - 05\n",
    "\n",
    "Write a python function to remove all of the vowels in a string."
   ]
  },
  {
   "cell_type": "code",
   "execution_count": null,
   "metadata": {
    "colab": {
     "base_uri": "https://localhost:8080/",
     "height": 35
    },
    "executionInfo": {
     "elapsed": 707,
     "status": "ok",
     "timestamp": 1650530921904,
     "user": {
      "displayName": "Anasuya Sahoo",
      "userId": "03110790743872361155"
     },
     "user_tz": -330
    },
    "id": "IXR9CZ-1TXyv",
    "outputId": "866d22fe-13ae-47b0-e52a-eeacbb5c208c"
   },
   "outputs": [
    {
     "data": {
      "application/vnd.google.colaboratory.intrinsic+json": {
       "type": "string"
      },
      "text/plain": [
       "'wlcm t tch-ws prgrm'"
      ]
     },
     "execution_count": 5,
     "metadata": {},
     "output_type": "execute_result"
    }
   ],
   "source": [
    "def remove_all_vowels(text: str)-> str:\n",
    "    return \"\".join([char for char in text if char not in \"aeiouAEIOU\"])\n",
    "\n",
    "remove_all_vowels(\"welcome to tech-wise program\")"
   ]
  },
  {
   "cell_type": "markdown",
   "metadata": {
    "id": "Xpn54k1dT2Qg"
   },
   "source": [
    "#Problem - 06\n",
    "\n",
    "Write a python function to find all of the words in a string that are less than 6 letters"
   ]
  },
  {
   "cell_type": "code",
   "execution_count": null,
   "metadata": {
    "colab": {
     "base_uri": "https://localhost:8080/"
    },
    "executionInfo": {
     "elapsed": 573,
     "status": "ok",
     "timestamp": 1650531233573,
     "user": {
      "displayName": "Anasuya Sahoo",
      "userId": "03110790743872361155"
     },
     "user_tz": -330
    },
    "id": "fek9z9z0T__t",
    "outputId": "9e8c908f-393f-443f-d79e-ffd1980083d6"
   },
   "outputs": [
    {
     "data": {
      "text/plain": [
       "['List', 'are', 'great', 'they', 'are', 'to']"
      ]
     },
     "execution_count": 7,
     "metadata": {},
     "output_type": "execute_result"
    }
   ],
   "source": [
    "def find_words(sentence: str)-> str:\n",
    "    words = sentence.split()\n",
    "    return [word for word in words if len(word) < 6]\n",
    "\n",
    "find_words(\"List comprehensions are great because they are easier to comprehend.\")"
   ]
  },
  {
   "cell_type": "markdown",
   "metadata": {
    "id": "JwTV5n-yVDV1"
   },
   "source": [
    "#Problem - 07\n",
    "\n",
    "Write a python function to multiply two list items.\n",
    "\n",
    "Example:\n",
    "\n",
    "multiply_list_items([10, 20, 30], [1, 2, 3]) => [10, 20, 30, 20, 40, 60, 30, 60, 90]"
   ]
  },
  {
   "cell_type": "code",
   "execution_count": null,
   "metadata": {
    "colab": {
     "base_uri": "https://localhost:8080/"
    },
    "executionInfo": {
     "elapsed": 818,
     "status": "ok",
     "timestamp": 1650532256518,
     "user": {
      "displayName": "Anasuya Sahoo",
      "userId": "03110790743872361155"
     },
     "user_tz": -330
    },
    "id": "XK1UBzbOWv09",
    "outputId": "8ca20a5b-e4f2-4302-abe7-dd873773ff39"
   },
   "outputs": [
    {
     "data": {
      "text/plain": [
       "[10, 20, 30, 20, 40, 60, 30, 60, 90]"
      ]
     },
     "execution_count": 10,
     "metadata": {},
     "output_type": "execute_result"
    }
   ],
   "source": [
    "def multiply_list_items(num_list1: [int], num_list2: [int])-> [int]:\n",
    "    return [x * y for x in num_list1 for y in num_list2]\n",
    "\n",
    "multiply_list_items([10, 20, 30], [1, 2, 3])"
   ]
  },
  {
   "cell_type": "markdown",
   "metadata": {
    "id": "gjMaowAGY7oP"
   },
   "source": [
    "#Problem - 08\n",
    "\n",
    "#TRANSPOSE OF A MATRIX\n",
    "\n",
    "###Transpose of a Matrix Definition \n",
    "The transpose of a matrix A, denoted by A^T, may be constructed by any one of the following methods:\n",
    "\n",
    "Reflect A over its main diagonal (which runs from top-left to bottom-right) to obtain A^T\n",
    "\n",
    "Write the rows of A as the columns of A^T\n",
    "\n",
    "Write the columns of A as the rows of A^T\n",
    "\n",
    "\n",
    "\n",
    "If A is an m × n matrix, then A^T is an n × m matrix.\n",
    "\n",
    "In the case of square matrices, AT may also denote the Tth power of the matrix A. For avoiding a possible confusion, many authors use left upperscripts, that is, they denote the transpose as TA. An advantage of this notation is that no parentheses are needed when exponents are involved: as (TA)n = T(An), notation TAn is not ambiguous.\n",
    "\n",
    "Write a python function to transpose a matrix.\n",
    "\n",
    "** Example: **\n",
    "\n",
    "transpose([[1, 2, 3, 4], [4, 5, 6, 8]]) => [[1, 4], [2, 5], [3, 6], [4, 8]]"
   ]
  },
  {
   "cell_type": "code",
   "execution_count": null,
   "metadata": {
    "colab": {
     "base_uri": "https://localhost:8080/"
    },
    "executionInfo": {
     "elapsed": 912,
     "status": "ok",
     "timestamp": 1650535813705,
     "user": {
      "displayName": "Anasuya Sahoo",
      "userId": "03110790743872361155"
     },
     "user_tz": -330
    },
    "id": "M887xL2RY6BS",
    "outputId": "c114ae1a-153c-4377-95d0-ff39b289915a"
   },
   "outputs": [
    {
     "data": {
      "text/plain": [
       "[[1, 4], [2, 5], [3, 6], [4, 8]]"
      ]
     },
     "execution_count": 14,
     "metadata": {},
     "output_type": "execute_result"
    }
   ],
   "source": [
    "def transpose(matrix: [[int],[int]]):\n",
    "    return [[row[i] for row in matrix] for i in range(len(matrix[0]))]\n",
    "\n",
    "transpose([[1, 2, 3, 4], [4, 5, 6, 8]])"
   ]
  },
  {
   "cell_type": "code",
   "execution_count": null,
   "metadata": {
    "colab": {
     "base_uri": "https://localhost:8080/"
    },
    "executionInfo": {
     "elapsed": 10,
     "status": "ok",
     "timestamp": 1651885877806,
     "user": {
      "displayName": "Anasuya Sahoo",
      "userId": "03110790743872361155"
     },
     "user_tz": -330
    },
    "id": "FHfSafoqEdhk",
    "outputId": "0adc8e41-0451-4862-9820-1244c8f198c0"
   },
   "outputs": [
    {
     "data": {
      "text/plain": [
       "[[1, 4], [2, 5], [3, 6], [4, 8]]"
      ]
     },
     "execution_count": 1,
     "metadata": {},
     "output_type": "execute_result"
    }
   ],
   "source": [
    "def transpose1(matrix: [[int],[int]]):\n",
    "    return [[m1, m2] for m1, m2 in zip(matrix[0], matrix[1])]\n",
    "\n",
    "transpose1([[1, 2, 3, 4], [4, 5, 6, 8]])"
   ]
  },
  {
   "cell_type": "markdown",
   "metadata": {
    "id": "k6IwKl1y84Rh"
   },
   "source": []
  },
  {
   "cell_type": "markdown",
   "metadata": {
    "id": "3y0SzyQ6laxh"
   },
   "source": [
    "* Ask students to refer https://en.wikipedia.org/wiki/Transpose\n"
   ]
  },
  {
   "cell_type": "markdown",
   "metadata": {
    "id": "3EIEPf1Ho4Fe"
   },
   "source": [
    "#Problem - 9\n",
    "\n",
    "Implement a function to repeat the sequence as per the given order.\n",
    "\n",
    "**Example**\n",
    " - repeat_sequence('ab') => A->Bb\n",
    " - repeat_sequence('UVWX') => U->Vv->Www->Xxxx"
   ]
  },
  {
   "cell_type": "code",
   "execution_count": null,
   "metadata": {
    "colab": {
     "base_uri": "https://localhost:8080/"
    },
    "executionInfo": {
     "elapsed": 15,
     "status": "ok",
     "timestamp": 1650626493142,
     "user": {
      "displayName": "Indira Priyadarshini Talasila",
      "userId": "03785172896691744538"
     },
     "user_tz": -330
    },
    "id": "zx9Tkal1GIlE",
    "outputId": "81eecec4-1207-41b4-e54c-325b026325d1"
   },
   "outputs": [
    {
     "name": "stdout",
     "output_type": "stream",
     "text": [
      "A->Bb\n",
      "U->Vv->Www->Xxxx\n"
     ]
    }
   ],
   "source": [
    "ARROW = \"->\"\n",
    "\n",
    "def repeat_sequence(s: str)-> str:\n",
    "  return ARROW.join([item.upper() + item.lower() * s.index(item) for item in list(s)])\n",
    "\n",
    "print(repeat_sequence('ab'))\n",
    "print(repeat_sequence('UVWX'))"
   ]
  },
  {
   "cell_type": "code",
   "execution_count": null,
   "metadata": {
    "colab": {
     "base_uri": "https://localhost:8080/"
    },
    "executionInfo": {
     "elapsed": 609,
     "status": "ok",
     "timestamp": 1647275154942,
     "user": {
      "displayName": "Anasuya Sahoo",
      "photoUrl": "https://lh3.googleusercontent.com/a/default-user=s64",
      "userId": "03110790743872361155"
     },
     "user_tz": -330
    },
    "id": "JU21Tmj_Fxr-",
    "outputId": "c6f4911d-83c0-4995-aeba-3589fde88742"
   },
   "outputs": [
    {
     "name": "stdout",
     "output_type": "stream",
     "text": [
      "A->Bb\n",
      "U->Vv->Www->Xxxx\n"
     ]
    }
   ],
   "source": [
    "def repeat_sequence(s: str)-> str:\n",
    "  return  \"->\". join([(ch * i).capitalize() for i, ch in enumerate(s, start = 1)])\n",
    "\n",
    "print(repeat_sequence('ab'))\n",
    "print(repeat_sequence('UVWX'))"
   ]
  },
  {
   "cell_type": "markdown",
   "metadata": {
    "id": "dVgmiwQOqB7E"
   },
   "source": [
    "#Problem - 10\n",
    "\n",
    "Write a python function to convert roman to arabic.\n",
    "\n",
    "**Example:**\n",
    "\n",
    "roman2arabic(\"XIX\") => 19\n",
    "\n",
    "roman2arabic(\"MMXXII\") => 2022"
   ]
  },
  {
   "cell_type": "code",
   "execution_count": null,
   "metadata": {
    "colab": {
     "base_uri": "https://localhost:8080/"
    },
    "executionInfo": {
     "elapsed": 931,
     "status": "ok",
     "timestamp": 1651133312020,
     "user": {
      "displayName": "Anasuya Sahoo",
      "userId": "03110790743872361155"
     },
     "user_tz": -330
    },
    "id": "GWv2TnafqB7H",
    "outputId": "48b7c8ab-9fe6-4eec-9310-6b1e7cda1f38"
   },
   "outputs": [
    {
     "name": "stdout",
     "output_type": "stream",
     "text": [
      "19\n",
      "2022\n"
     ]
    }
   ],
   "source": [
    "def format_roman(roman: str)-> str:\n",
    "    return roman.upper().replace(\"IV\", \"IIII\").replace(\"IX\", \"VIIII\").replace(\"XL\", \"XXXX\").replace(\"XC\", \"LXXXX\").replace(\"CD\", \"CCCC\").replace(\"CM\", \"DCCCC\")\n",
    "\n",
    "def roman2arabic(roman: str)-> int:\n",
    "    arabic = {'M': 1000, 'D': 500, 'C': 100, 'L': 50, 'X': 10, 'V': 5, 'I': 1}\n",
    "    return sum([arabic[i] for i in format_roman(roman)])\n",
    "\n",
    "print(roman2arabic(\"XIX\"))\n",
    "print(roman2arabic(\"MMXXII\"))"
   ]
  },
  {
   "cell_type": "markdown",
   "metadata": {
    "id": "3gm_0Gfm2OuW"
   },
   "source": [
    "Problem Statement 03\n",
    "Primitive Pythagorean Triples\n",
    "\n",
    "A Pythagorean triple is a set of three integer numbers that form a right triangle. The sum of the squares of the two smaller numbers should equal the square of the largest number. Given three numbers a, b and c (c being the largest):\n",
    "\n",
    "a^2 + b^2 = c^2\n",
    "\n",
    "Furthermore, a Pythagorean triple is said to be primitive if the three numbers are pairwise coprime - that is, the greatest common prime factor between any two numbers is 1.\n",
    "\n",
    "Create a function that takes a list of three numbers (unordered) and returns True if the numbers constitute a primitive Pythagorean triple, False otherwise.\n",
    "\n",
    "Examples\n",
    "\n",
    "is_prim_pyth_triple([4, 5, 3]) ➞ True\n",
    "\n",
    "is_prim_pyth_triple([7, 12, 13]) ➞ False\n",
    "\n",
    "is_prim_pyth_triple([39, 15, 36]) ➞ False\n",
    "\n",
    "Pythagorean triple, but not primitive.\n",
    "\n",
    "\n",
    "is_prim_pyth_triple([77, 36, 85]) ➞ True"
   ]
  },
  {
   "cell_type": "code",
   "execution_count": null,
   "metadata": {
    "id": "WIsLmTJ92OJg"
   },
   "outputs": [],
   "source": [
    "def gcd(a, b):\n",
    "\treturn b if a % b == 0 else gcd(b, a % b)\n",
    "\n",
    "def is_prim_pyth_triple(lst):\n",
    "\ta, b, c = sorted(lst)\n",
    "\treturn (a * a + b * b == c * c) and gcd(a, b) == 1\n"
   ]
  },
  {
   "cell_type": "code",
   "execution_count": null,
   "metadata": {
    "id": "AxiZb-lS2WtX"
   },
   "outputs": [],
   "source": [
    "import math\n",
    "\n",
    "def is_prim_pyth_triple(lst):\n",
    "\ta, b, c = sorted(lst)\n",
    "\treturn (a * a + b * b == c * c) and math.gcd(a, b) == 1"
   ]
  },
  {
   "cell_type": "code",
   "execution_count": null,
   "metadata": {
    "id": "Fxz-d9gv2ZEj"
   },
   "outputs": [],
   "source": [
    "is_prim_pyth_triple([4, 5, 3])"
   ]
  }
 ],
 "metadata": {
  "colab": {
   "collapsed_sections": [],
   "name": "TWC1_Session_23.ipynb",
   "provenance": []
  },
  "kernelspec": {
   "display_name": "Python 3 (ipykernel)",
   "language": "python",
   "name": "python3"
  },
  "language_info": {
   "codemirror_mode": {
    "name": "ipython",
    "version": 3
   },
   "file_extension": ".py",
   "mimetype": "text/x-python",
   "name": "python",
   "nbconvert_exporter": "python",
   "pygments_lexer": "ipython3",
   "version": "3.9.7"
  }
 },
 "nbformat": 4,
 "nbformat_minor": 1
}
