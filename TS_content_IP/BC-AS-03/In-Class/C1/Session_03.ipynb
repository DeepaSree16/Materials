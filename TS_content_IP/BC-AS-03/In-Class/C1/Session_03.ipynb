{
 "cells": [
  {
   "cell_type": "markdown",
   "metadata": {
    "id": "age6Y7DdHbu9"
   },
   "source": [
    "#Session 06\n",
    "\n",
    "\n",
    "Objective\n",
    "\n",
    "    At the end of this session successful students will be able to:\n",
    "\n",
    "    * see recursion in action\n",
    "    \n",
    "    * study recusrive solutions to previous problems\n",
    "\n",
    "##**Recursion**\n",
    "##Problem set\n",
    "\n",
    "* number of digits\n",
    "* is_ascending()\n",
    "* is_power_of2()\n",
    "* is_palindrome()\n",
    "* Collatz sequence\n",
    "* Assignment:\n",
    "\n",
    "     - Kaprekar sequence\n",
    "     - write len() and sum()\n",
    "\n",
    "\n",
    "\n"
   ]
  },
  {
   "cell_type": "markdown",
   "metadata": {
    "id": "g3ITdAJ2Ii6G"
   },
   "source": [
    "#  Problem 1\n",
    "\n",
    "##Number of digits\n",
    "\n"
   ]
  },
  {
   "cell_type": "code",
   "execution_count": 1,
   "metadata": {
    "colab": {
     "base_uri": "https://localhost:8080/"
    },
    "executionInfo": {
     "elapsed": 12,
     "status": "ok",
     "timestamp": 1655179338422,
     "user": {
      "displayName": "Indira Priyadarshini Talasila",
      "userId": "03785172896691744538"
     },
     "user_tz": -330
    },
    "id": "ARiCmST4_96A",
    "outputId": "19a55fb1-f47b-4b55-9ac1-b00ed4584a09"
   },
   "outputs": [
    {
     "data": {
      "text/plain": [
       "3"
      ]
     },
     "execution_count": 1,
     "metadata": {},
     "output_type": "execute_result"
    }
   ],
   "source": [
    "def ndigits(n: int) -> int:\n",
    "    if n < 10:\n",
    "        return 1\n",
    "    return 1 + ndigits (n // 10)\n",
    "\n",
    "ndigits(123)"
   ]
  },
  {
   "cell_type": "markdown",
   "metadata": {
    "id": "dk-IxDJqSNp8"
   },
   "source": [
    "## Problem 2\n",
    "Verify if the digits of a number are in ascending order"
   ]
  },
  {
   "cell_type": "code",
   "execution_count": null,
   "metadata": {
    "id": "LQmYV65wKX1C"
   },
   "outputs": [],
   "source": [
    "# a function to check if the digits of a number are in strict ascending order\n",
    "# 1568 -> True, 1666 -> False, 9056 -> False\n",
    "\n",
    "def is_ascending(n: int) -> bool:\n",
    "    if n < 10:\n",
    "        return True\n",
    "    if n % 10 <= (n // 10) % 10:\n",
    "        return False\n",
    "    return is_ascending(n // 10)"
   ]
  },
  {
   "cell_type": "markdown",
   "metadata": {
    "id": "AeqdeBLYW045"
   },
   "source": []
  },
  {
   "cell_type": "markdown",
   "metadata": {
    "id": "ayq8AbrPgeW_"
   },
   "source": [
    "#Problem 3\n",
    "## Check if the given number is power of 2\n",
    "\n",
    "* Implement a function to check wheather the given number is power of 2 or not.\n",
    "\n",
    "**Example**\n",
    "\n",
    "- is_power_of2(10) -> False\n",
    "- is_power_of2(32) -> True\n"
   ]
  },
  {
   "cell_type": "code",
   "execution_count": null,
   "metadata": {
    "colab": {
     "base_uri": "https://localhost:8080/"
    },
    "executionInfo": {
     "elapsed": 384,
     "status": "ok",
     "timestamp": 1647962920313,
     "user": {
      "displayName": "Shifu Asokan",
      "photoUrl": "https://lh3.googleusercontent.com/a-/AOh14Gg2XLkk3X4GKE-TZwCSYMLYz9WprXQk8WnxwLPd=s64",
      "userId": "10029516761598072692"
     },
     "user_tz": -330
    },
    "id": "tmtRNoYHVGg6",
    "outputId": "b407199e-ae48-4c88-b787-58a2ba56bef9"
   },
   "outputs": [
    {
     "data": {
      "text/plain": [
       "True"
      ]
     },
     "execution_count": 3,
     "metadata": {},
     "output_type": "execute_result"
    }
   ],
   "source": [
    "def is_power_of2(n: int) -> bool:\n",
    "    if n == 1:\n",
    "        return True\n",
    "    elif n % 2 == 1:\n",
    "        return False\n",
    "    else:\n",
    "        return is_power_of2(n//2)\n",
    "        \n",
    "is_power_of2(1024)"
   ]
  },
  {
   "cell_type": "markdown",
   "metadata": {
    "id": "lTy6yffNwHdP"
   },
   "source": [
    "##Problem 4\n",
    "#Check if the given number is palindrome\n",
    "\n",
    "A palindrome number is a number whose reverse is same with the original number.\n",
    "\n",
    "**examples** \n",
    "\n",
    "-is_Palindrome(1567651) -> True\n",
    "\n",
    "-is_Palindrome(1000) -> False\n",
    "\n",
    "\n",
    "\n",
    "\n"
   ]
  },
  {
   "cell_type": "code",
   "execution_count": null,
   "metadata": {
    "id": "8yg_gcL8Wi5i"
   },
   "outputs": [],
   "source": [
    "def is_palindrome(n : int)-> bool:\n",
    "    return is_palindrome_str(str(n))\n",
    "\n",
    "def is_palindrome_str(s: str) -> bool:\n",
    "    if len(s) < 2:\n",
    "        return True\n",
    "    elif s[0] != s[-1]:\n",
    "        return False\n",
    "    else:\n",
    "        return is_palindrome_str(s[1:-1]) "
   ]
  },
  {
   "cell_type": "code",
   "execution_count": null,
   "metadata": {
    "id": "n62NG1MeK_6T"
   },
   "outputs": [],
   "source": []
  },
  {
   "cell_type": "markdown",
   "metadata": {
    "id": "JSdhjwGMTr7n"
   },
   "source": [
    "#Problem 5\n",
    "\n",
    "## Collatz sequence\n",
    "\n",
    "Suppose there is a positive integer n. Then the next term of the collatz sequence will be as follows:\n",
    "\n",
    "   * If the previous term is even, the next term is half of the previous term, i.e., n/2\n",
    "   * If the previous term is odd, the next term is 3 times the previous term plus 1, i.e., 3n+1\n",
    "   * The sequence will always end at 1.\n",
    "\n",
    "   \n",
    "**Example**\n",
    "\n",
    "Input : 3\n",
    "\n",
    "Output : 3, 10, 5, 16, 8, 4, 2, 1       \n",
    "\n",
    "Input : 6\n",
    "\n",
    "Output : 6, 3, 10, 5, 16, 8, 4, 2, 1"
   ]
  },
  {
   "cell_type": "code",
   "execution_count": null,
   "metadata": {
    "colab": {
     "base_uri": "https://localhost:8080/"
    },
    "executionInfo": {
     "elapsed": 5,
     "status": "ok",
     "timestamp": 1647249374071,
     "user": {
      "displayName": "Anasuya Sahoo",
      "photoUrl": "https://lh3.googleusercontent.com/a/default-user=s64",
      "userId": "03110790743872361155"
     },
     "user_tz": -330
    },
    "id": "A-iL3e7oOVcM",
    "outputId": "fdb9a11e-03e2-40b3-9cbe-f30d939aae70"
   },
   "outputs": [
    {
     "name": "stdout",
     "output_type": "stream",
     "text": [
      "[3, 10, 5, 16, 8, 4, 2, 1]\n",
      "[6, 3, 10, 5, 16, 8, 4, 2, 1]\n",
      "[1, 4, 2, 1]\n",
      "[2, 1, 4, 2, 1]\n"
     ]
    }
   ],
   "source": [
    "def collatz_seq(p: int)-> [int]:\n",
    "  if p == 4:\n",
    "    return [4, 2, 1]\n",
    "  return [p] + collatz_seq(next_collatz(p))\n",
    "\n",
    "def next_collatz(k: int)->int:\n",
    "  return k // 2 if k % 2 == 0 else 3 * k + 1\n",
    "\n",
    "print(collatz_seq(3))\n",
    "print(collatz_seq(6))\n",
    "print(collatz_seq(1))\n",
    "print(collatz_seq(2))"
   ]
  },
  {
   "cell_type": "markdown",
   "metadata": {
    "id": "O1g-OzxrqCYy"
   },
   "source": [
    "#Assignments"
   ]
  },
  {
   "cell_type": "markdown",
   "metadata": {
    "id": "g-_dNVp_sHE-"
   },
   "source": [
    "##Assignment - 06-01\n",
    "\n",
    "Rewrite Kaprekar sequence generation recursively\n",
    "\n",
    "\n"
   ]
  },
  {
   "cell_type": "code",
   "execution_count": null,
   "metadata": {
    "id": "rJgMu5GLsXyx"
   },
   "outputs": [],
   "source": [
    "def kaprekar_sequence(n: int)->[int]:\n",
    "  #Write your code here\n",
    "  return"
   ]
  },
  {
   "cell_type": "markdown",
   "metadata": {
    "id": "45MvQmYdRV4a"
   },
   "source": [
    "\n",
    "## Assignment 06-02, 06-03\n",
    "Can you write your own len(), sum() functions?"
   ]
  }
 ],
 "metadata": {
  "colab": {
   "collapsed_sections": [],
   "name": "TWC1_Session_06.ipynb",
   "provenance": []
  },
  "kernelspec": {
   "display_name": "Python 3 (ipykernel)",
   "language": "python",
   "name": "python3"
  },
  "language_info": {
   "codemirror_mode": {
    "name": "ipython",
    "version": 3
   },
   "file_extension": ".py",
   "mimetype": "text/x-python",
   "name": "python",
   "nbconvert_exporter": "python",
   "pygments_lexer": "ipython3",
   "version": "3.9.7"
  }
 },
 "nbformat": 4,
 "nbformat_minor": 1
}
