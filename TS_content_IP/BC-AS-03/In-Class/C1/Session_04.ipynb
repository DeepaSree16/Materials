{
 "cells": [
  {
   "cell_type": "markdown",
   "metadata": {
    "id": "nJlL-cpkdhDy"
   },
   "source": [
    "# Session 07\n",
    "\n",
    "\n",
    "Objective\n",
    "    At the end of this session successful students will be able to:\n",
    "    \n",
    "    * reinforce the string use\n",
    "    \n",
    "    * see important string methods in action\n",
    "   \n",
    "    * see more complex problems being solved\n",
    "\n",
    "## Problem set\n",
    "\n",
    "* Find if two strings are anagrams of each other.\n",
    "* Convert \"hh:mm:ss\" to seconds and vice versa.\n",
    "* Convert Figures to Words."
   ]
  },
  {
   "cell_type": "markdown",
   "metadata": {
    "id": "ydjLJCg7elTi"
   },
   "source": [
    "##Problem 1 \n",
    "Write a function to find if two strings are anagrams of each other. An anagram of a string is another string that contains the same characters, only the order of characters can be different. For example, **“silent”** and **“listen”** are an anagram of each other."
   ]
  },
  {
   "cell_type": "code",
   "execution_count": null,
   "metadata": {
    "colab": {
     "base_uri": "https://localhost:8080/"
    },
    "executionInfo": {
     "elapsed": 3,
     "status": "ok",
     "timestamp": 1647341278066,
     "user": {
      "displayName": "Anasuya Sahoo",
      "photoUrl": "https://lh3.googleusercontent.com/a/default-user=s64",
      "userId": "03110790743872361155"
     },
     "user_tz": -330
    },
    "id": "pRITL1MUOReV",
    "outputId": "1988e2df-2c82-4c89-89fe-c30e483c108e"
   },
   "outputs": [
    {
     "data": {
      "text/plain": [
       "True"
      ]
     },
     "execution_count": 3,
     "metadata": {},
     "output_type": "execute_result"
    }
   ],
   "source": [
    "#Version 1\n",
    "def is_anagram(str1,str2):\n",
    "    if sorted(str1) == sorted(str2):\n",
    "        return True\n",
    "    else:\n",
    "        return False"
   ]
  },
  {
   "cell_type": "markdown",
   "metadata": {
    "id": "rHeo4TMFrEKr"
   },
   "source": [
    "- discuss about why not to use *if True return True* kind of code writing style\n",
    "- majority of students use this \n",
    "- discuss that every expression evaluates to either True or False\n",
    "- Version 3, discuss about import "
   ]
  },
  {
   "cell_type": "code",
   "execution_count": null,
   "metadata": {
    "colab": {
     "base_uri": "https://localhost:8080/"
    },
    "executionInfo": {
     "elapsed": 7,
     "status": "ok",
     "timestamp": 1647963515681,
     "user": {
      "displayName": "Shifu Asokan",
      "photoUrl": "https://lh3.googleusercontent.com/a-/AOh14Gg2XLkk3X4GKE-TZwCSYMLYz9WprXQk8WnxwLPd=s64",
      "userId": "10029516761598072692"
     },
     "user_tz": -330
    },
    "id": "ExQm0oJCq7wc",
    "outputId": "6a8f916f-cf3b-41e0-a8ef-93556ebb9ecb"
   },
   "outputs": [
    {
     "data": {
      "text/plain": [
       "True"
      ]
     },
     "execution_count": 1,
     "metadata": {},
     "output_type": "execute_result"
    }
   ],
   "source": [
    "#version 2\n",
    "def is_anagram(str1,str2):\n",
    "    return sorted(str1) == sorted(str2)\n",
    "       \n",
    "is_anagram(\"listen\",\"silent\")"
   ]
  },
  {
   "cell_type": "markdown",
   "metadata": {
    "id": "TXMsohO_f1my"
   },
   "source": [
    "##Problem 2\n",
    "Convert \"hh:mm:ss\" to seconds and vice versa ."
   ]
  },
  {
   "cell_type": "code",
   "execution_count": 7,
   "metadata": {
    "colab": {
     "base_uri": "https://localhost:8080/"
    },
    "executionInfo": {
     "elapsed": 418,
     "status": "ok",
     "timestamp": 1657041453619,
     "user": {
      "displayName": "Anasuya Sahoo",
      "userId": "03110790743872361155"
     },
     "user_tz": -330
    },
    "id": "7Cf1Qs_tbC7D",
    "outputId": "b15451ac-be62-49d8-e2d1-dee8c809f3db"
   },
   "outputs": [
    {
     "data": {
      "text/plain": [
       "30630"
      ]
     },
     "execution_count": 7,
     "metadata": {},
     "output_type": "execute_result"
    }
   ],
   "source": [
    "def hhmmss_to_sec(time: str)->int:\n",
    "    t = time.split(':')\n",
    "    return int(t[0]) * 3600 + int(t[1]) * 60 + int(t[2])\n",
    "\n",
    "hhmmss_to_sec('8:30:30')"
   ]
  },
  {
   "cell_type": "markdown",
   "metadata": {
    "id": "T2-CFyLcODO6"
   },
   "source": [
    "* Discuss the use of split() by small examples."
   ]
  },
  {
   "cell_type": "code",
   "execution_count": null,
   "metadata": {
    "colab": {
     "base_uri": "https://localhost:8080/"
    },
    "executionInfo": {
     "elapsed": 583,
     "status": "ok",
     "timestamp": 1647341687519,
     "user": {
      "displayName": "Anasuya Sahoo",
      "photoUrl": "https://lh3.googleusercontent.com/a/default-user=s64",
      "userId": "03110790743872361155"
     },
     "user_tz": -330
    },
    "id": "y-SjEmj2NRBn",
    "outputId": "1d358955-5e11-4029-e27b-63a9d3e29a33"
   },
   "outputs": [
    {
     "name": "stdout",
     "output_type": "stream",
     "text": [
      "00:16:40\n",
      "13:53:20\n"
     ]
    }
   ],
   "source": [
    "def sec_to_hhmmss(seconds: int)-> str:\n",
    "    hh = seconds // 3600\n",
    "    mm = (seconds % 3600) // 60\n",
    "    ss = (seconds % 3600) % 60\n",
    "    return f'{hh:02d}:{mm:02d}:{ss:02d}'\n",
    "\n",
    "print(sec_to_hhmmss(1000)) \n",
    "print(sec_to_hhmmss(50000))"
   ]
  },
  {
   "cell_type": "markdown",
   "metadata": {
    "id": "9nRtZlgwyXir"
   },
   "source": [
    "* Can we improve line 3?\n",
    "\n",
    "* Can we improve line 4?\n",
    "\n",
    "* Discuss line 5"
   ]
  },
  {
   "cell_type": "markdown",
   "metadata": {
    "id": "ERM9uh29N8PV"
   },
   "source": [
    "# Problem 3\n",
    "\n",
    "Convert figures to words:\n",
    "\n",
    "1367 -> \"One thousand three hundred and sixty seven\"\n",
    "\n",
    "18934345 -> \"Eighteen million nine hundred and thirty four thousand three hundred and forty five\"\n",
    "\n",
    "You can assume that the numbers are below 1 trillion"
   ]
  },
  {
   "cell_type": "code",
   "execution_count": null,
   "metadata": {
    "id": "tcO4ARJq3wg1"
   },
   "outputs": [],
   "source": [
    "def is_single_word(n: int) -> bool:\n",
    "    return n < 20\n",
    "\n",
    "def convert2digits(n: int) ->  str:\n",
    "    single_word = [\"\", \"One \", \"Two \", \"Three \", \"Four \", \"Five \", \"Six \", \"Seven \", \"Eight \", \n",
    "                   \"Nine \", \"Ten \", \"Eleven \", \"Twelve \", \"Thirteen \", \"Fourteen \", \"Fifteen \",\n",
    "                   \"Sixteen \", \"Seventeen \", \"Eighteen \", \"Ninteen \"]\n",
    "    tens = [\"\", \"\", \"Twenty \", \"Thirty \", \"Forty \", \"Fifty \", \"Sixty \", \"Seventy \", \"Eighty \", \n",
    "            \"Ninety \"]\n",
    "    if is_single_word(n):\n",
    "        return single_word[n]\n",
    "    else:\n",
    "        return tens[n // 10] + single_word[n % 10]\n",
    "\n",
    "def convert3digits(n: int) -> str:\n",
    "    if n < 100:\n",
    "        return convert2digits(n)\n",
    "    if n % 100 == 0:\n",
    "        return convert2digits(n // 100) + \"Hundred \"\n",
    "    else:\n",
    "        return convert2digits(n // 100) + \"Hundred and \" + convert2digits(n % 100)\n",
    "\n",
    "def fig2words(n: int) -> str:\n",
    "    denoms = {10 ** 9: \"Billion \", 10 ** 6 : \"Million \", 1000: \"Thousand \", 1: \"\"}\n",
    "    denom_values = sorted(denoms.keys(), reverse=True)\n",
    "\n",
    "    in_words = \"\"\n",
    "\n",
    "    for denom in denom_values:\n",
    "        d = n // denom\n",
    "        if d > 0:\n",
    "            in_words += convert3digits(d) + denoms[denom]\n",
    "        n %= denom\n",
    "    return in_words\n"
   ]
  },
  {
   "cell_type": "code",
   "execution_count": null,
   "metadata": {
    "colab": {
     "base_uri": "https://localhost:8080/",
     "height": 35
    },
    "executionInfo": {
     "elapsed": 12,
     "status": "ok",
     "timestamp": 1648694141622,
     "user": {
      "displayName": "Indira Priyadarshini Talasila",
      "userId": "03785172896691744538"
     },
     "user_tz": -330
    },
    "id": "v05VZszv4l4f",
    "outputId": "82f0be0d-79e6-4553-ce09-d5066abc6bae"
   },
   "outputs": [
    {
     "data": {
      "application/vnd.google.colaboratory.intrinsic+json": {
       "type": "string"
      },
      "text/plain": [
       "'Four Billion Seven Hundred and Fifty Five Million Six Hundred and Seventy One Thousand Two Hundred and Eighty Nine '"
      ]
     },
     "execution_count": 2,
     "metadata": {},
     "output_type": "execute_result"
    }
   ],
   "source": [
    "fig2words(4755671289)"
   ]
  },
  {
   "cell_type": "code",
   "execution_count": null,
   "metadata": {
    "id": "NitmYSs373AE"
   },
   "outputs": [],
   "source": []
  }
 ],
 "metadata": {
  "colab": {
   "collapsed_sections": [],
   "name": "TWC1_Session_07.ipynb",
   "provenance": []
  },
  "kernelspec": {
   "display_name": "Python 3 (ipykernel)",
   "language": "python",
   "name": "python3"
  },
  "language_info": {
   "codemirror_mode": {
    "name": "ipython",
    "version": 3
   },
   "file_extension": ".py",
   "mimetype": "text/x-python",
   "name": "python",
   "nbconvert_exporter": "python",
   "pygments_lexer": "ipython3",
   "version": "3.9.7"
  }
 },
 "nbformat": 4,
 "nbformat_minor": 1
}
