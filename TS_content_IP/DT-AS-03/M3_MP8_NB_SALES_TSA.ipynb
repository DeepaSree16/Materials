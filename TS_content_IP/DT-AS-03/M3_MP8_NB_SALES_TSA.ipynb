{
 "cells": [
  {
   "cell_type": "markdown",
   "id": "powered-thong",
   "metadata": {
    "id": "powered-thong"
   },
   "source": [
    "### Mini Project: Store Sales Analysis and Predeiction"
   ]
  },
  {
   "cell_type": "markdown",
   "id": "atzgNrPSnFSo",
   "metadata": {
    "id": "atzgNrPSnFSo"
   },
   "source": [
    "## Description\n",
    "\n",
    "Time-Series Analysis is an integral part of various Financial and Non-Financial applications. It helps us to understand the trends of the underlying phenomenon and make predictions for the future time."
   ]
  },
  {
   "cell_type": "markdown",
   "id": "1nK0fzdQzk0g",
   "metadata": {
    "id": "1nK0fzdQzk0g"
   },
   "source": [
    "## Learning Objectives\n",
    "\n",
    "At the end of the mini project, you will be able to understand-\n",
    " \n",
    "* Perform exhaustive Exploratory-Data-Analysis (EDA)\n",
    "* Perform Data Engineering to convert the raw data into time series dataset\n",
    "* Perform Time-Series-Analysis (TSA)\n",
    "* Predict the sales of products"
   ]
  },
  {
   "cell_type": "markdown",
   "id": "aMhIkuNRyK9v",
   "metadata": {
    "id": "aMhIkuNRyK9v"
   },
   "source": [
    "## About the Dataset.\n",
    "\n",
    "The current Dataset is adapted from an **ongoing** Kaggle Competition from the [link](https://www.kaggle.com/competitions/store-sales-time-series-forecasting/data).\n",
    "But the end goals are slightly different from the competetion.\n",
    "\n",
    "The following Description for each file is pasted here for your convenience.\n",
    "\n",
    "* train.csv\n",
    "  - The training data, comprising time series of features store_nbr, family, and onpromotion as well as the target sales.\n",
    "  - **store_nbr** identifies the store at which the products are sold.\n",
    "  - **family** identifies the type of product sold.\n",
    "  - **sales** gives the total sales for a product family at a particular store at a given date. Fractional values are possible since products can be sold in fractional units (1.5 kg of cheese, for instance, as opposed to 1 bag of chips).\n",
    "  - **onpromotion** gives the total number of items in a product family that were being promoted at a store at a given date\n",
    "  \n",
    "* test.csv\n",
    "  - The test data, having the same features as the training data. You will predict the target sales for the dates in this file.\n",
    "  - The dates in the test data are for the 15 days after the last date in the training data.\n",
    "\n",
    "* stores.csv\n",
    "  - Store metadata, including city, state, type, and cluster.\n",
    "  - cluster is a grouping of similar stores.\n",
    "\n",
    "* oil.csv\n",
    "  - Daily oil price. Includes values during both the train and test data timeframes. (Ecuador is an oil-dependent country and it's economical health is highly vulnerable to shocks in oil prices.)\n",
    "\n",
    "* holidays_events.csv\n",
    "  - Holidays and Events, with metadata\n",
    "  - NOTE: Pay special attention to the transferred column. A holiday that is transferred officially falls on that calendar day, but was moved to another date by the government. A transferred day is more like a normal day than a holiday. To find the day that it was actually celebrated, look for the corresponding row where type is Transfer. For example, the holiday Independencia de Guayaquil was transferred from 2012-10-09 to 2012-10-12, which means it was celebrated on 2012-10-12. Days that are type Bridge are extra days that are added to a holiday (e.g., to extend the break across a long weekend). These are frequently made up by the type Work Day which is a day not normally scheduled for work (e.g., Saturday) that is meant to payback the Bridge.\n",
    "  - Additional holidays are days added a regular calendar holiday, for example, as typically happens around Christmas (making Christmas Eve a holiday).\n",
    "\n",
    "* transactions.csv\n",
    "  - Mentions the date, store and the number of transcations that happened\n",
    "\n",
    "* Additional Notes:\n",
    "  - Wages in the public sector are paid every two weeks on the 15 th and on the last day of the month. Supermarket sales could be affected by this.\n",
    "A magnitude 7.8 earthquake struck Ecuador on April 16, 2016. People rallied in relief efforts donating water and other first need products which greatly affected supermarket sales for several weeks after the earthquake.\n"
   ]
  },
  {
   "cell_type": "markdown",
   "id": "8SGC9UWTy_xK",
   "metadata": {
    "id": "8SGC9UWTy_xK"
   },
   "source": [
    "**Python Packages used:**  \n",
    "\n",
    "* [`Google.colab`](https://colab.research.google.com/notebooks/io.ipynb) for linking the notebook to your Google-drive\n",
    "* [`Pandas`](https://pandas.pydata.org/docs/reference/index.html) for data frames and easy to read csv files  \n",
    "* [`Numpy`](https://numpy.org/doc/stable/reference/index.html#reference) for array and matrix mathematics functions  \n",
    "* [`sklearn`](https://scikit-learn.org/stable/user_guide.html) for the pre-processing data, building ML models, and performance metrics\n",
    "* [`seaborn`](https://seaborn.pydata.org/) and [`matplotlib`](https://matplotlib.org/) for plotting\n",
    " and [`statsmodels`](https://www.statsmodels.org/dev/index.html) for time-series-analysis\n",
    "* [`datetime`](https://docs.python.org/3/library/datetime.html) for converting string to datetime objects and vice-versa\n"
   ]
  },
  {
   "cell_type": "code",
   "execution_count": null,
   "id": "instant-bedroom",
   "metadata": {
    "colab": {
     "base_uri": "https://localhost:8080/"
    },
    "execution": {
     "iopub.execute_input": "2021-09-27T02:05:56.012052Z",
     "iopub.status.busy": "2021-09-27T02:05:56.011395Z",
     "iopub.status.idle": "2021-09-27T02:05:57.536677Z",
     "shell.execute_reply": "2021-09-27T02:05:57.537164Z",
     "shell.execute_reply.started": "2021-09-27T02:02:44.515100Z"
    },
    "id": "instant-bedroom",
    "outputId": "715614b1-27ad-4598-8ee1-0483ae905cff",
    "papermill": {
     "duration": 1.582162,
     "end_time": "2021-09-27T02:05:57.537355",
     "exception": false,
     "start_time": "2021-09-27T02:05:55.955193",
     "status": "completed"
    },
    "tags": []
   },
   "outputs": [
    {
     "name": "stderr",
     "output_type": "stream",
     "text": [
      "/usr/local/lib/python3.7/dist-packages/statsmodels/tools/_testing.py:19: FutureWarning: pandas.util.testing is deprecated. Use the functions in the public API at pandas.testing instead.\n",
      "  import pandas.util.testing as tm\n"
     ]
    }
   ],
   "source": [
    "import numpy as np \n",
    "import pandas as pd \n",
    "import seaborn as sns\n",
    "import matplotlib.pyplot as plt\n",
    "from matplotlib.dates import DateFormatter\n",
    "from datetime import datetime, timedelta, date\n",
    "import statsmodels as sm\n",
    "from google.colab import drive\n",
    "from sklearn.metrics import mean_squared_error\n",
    "from statsmodels.graphics.tsaplots import plot_acf, plot_pacf"
   ]
  },
  {
   "cell_type": "markdown",
   "id": "kj5l1Lo3bOQn",
   "metadata": {
    "id": "kj5l1Lo3bOQn"
   },
   "source": [
    "## Graded Exercise (10 Marks)"
   ]
  },
  {
   "cell_type": "markdown",
   "id": "0Ye1zGEp8A3h",
   "metadata": {
    "id": "0Ye1zGEp8A3h"
   },
   "source": [
    "### Exercise 1 (2 points): Data Acquision\n",
    "\n",
    "- Load all the provided files into seperate `pandas` DataFrames\n",
    "- Check the shape of the data\n",
    "- Check the datatypes\n",
    "- Check the Summary\n",
    "- Check the nulls present in each field\n",
    "- Discard/Fill with appropriate value, if any\n",
    "- Check the unique number of entries per field\n",
    "- Drop the features that are either redundant or that do not help in modelling\n",
    "\n",
    "**Hint:** Use `pandas` module"
   ]
  },
  {
   "cell_type": "code",
   "execution_count": null,
   "id": "vQK0FVNt87xy",
   "metadata": {
    "id": "vQK0FVNt87xy"
   },
   "outputs": [],
   "source": [
    "# YOUR CODE HERE"
   ]
  },
  {
   "cell_type": "markdown",
   "id": "eSgg22uU8AXP",
   "metadata": {
    "id": "eSgg22uU8AXP"
   },
   "source": [
    "### Exercise 2 (1 point): Basic EDA\n",
    "\n",
    "* Visualize Sales volume based on \n",
    "\t- Date\n",
    "\t- Location\n",
    "\t- Store Number\n",
    "\t- Product under Promotion\n",
    "\t- Product family\n",
    "\n",
    "* Report in a sentence or two regarding - \n",
    "\t- Correlation of holidays and sales\n",
    "\t- Correlation of oil price and sales\n",
    "\t- Other correlated variables that the data suggests\n",
    "\n",
    "**Hint**: \n",
    "\t- Choose the appropriate DataFrames based on the data files\n",
    "\t- Choose appropriate charting/plotting tools from your learning experience with previous Mini-Projects\n",
    "\n",
    "Use `pandas`, `seaborn`, `matplotlib` modules"
   ]
  },
  {
   "cell_type": "code",
   "execution_count": null,
   "id": "K5LKVGmi88hb",
   "metadata": {
    "id": "K5LKVGmi88hb"
   },
   "outputs": [],
   "source": [
    "# YOUR CODE HERE"
   ]
  },
  {
   "cell_type": "markdown",
   "id": "ctaUN4V18ANm",
   "metadata": {
    "id": "ctaUN4V18ANm"
   },
   "source": [
    "### Exercise 3 (1 point): Data Engineering\n",
    "\n",
    "* Perform the following\n",
    "  - Create new features from date - Day of the month, Week of the year, Month of the year, and Year using `datetime` module\n",
    "  - Check Feature Correlations\n",
    "  - Remove Redundant Data columns\n",
    "  - Scale the data points of the numerical features\n",
    "  - Discretize the categorical features\n",
    "  - Perform Label Encoding of the discretized features\n",
    "\n",
    "**Hint**: Use `pandas` module"
   ]
  },
  {
   "cell_type": "code",
   "execution_count": null,
   "id": "KQ3lHoqS89Vh",
   "metadata": {
    "id": "KQ3lHoqS89Vh"
   },
   "outputs": [],
   "source": [
    "# YOUR CODE HERE"
   ]
  },
  {
   "cell_type": "markdown",
   "id": "mzCuXST28AJ_",
   "metadata": {
    "id": "mzCuXST28AJ_"
   },
   "source": [
    "### Exercise 4 (1 point): Advanced EDA\n",
    "\n",
    "* After Data Preparation, Visualize Sales volume based on \n",
    "\t- Date\n",
    "\t- Location\n",
    "\t- Store Number\n",
    "\t- Product under Promotion\n",
    "\t- Product family\n",
    "\n",
    "**Hint**: Use `pandas`, `seaborn`, `matplotlib` modules"
   ]
  },
  {
   "cell_type": "code",
   "execution_count": null,
   "id": "GeovoT4n8-Ko",
   "metadata": {
    "id": "GeovoT4n8-Ko"
   },
   "outputs": [],
   "source": [
    "# YOUR CODE HERE"
   ]
  },
  {
   "cell_type": "markdown",
   "id": "U2XXiwSx8AHF",
   "metadata": {
    "id": "U2XXiwSx8AHF"
   },
   "source": [
    "### Exercise 5 (1 point): Time-Series-Analysis\n",
    "\n",
    "* Convert the date into `index`, using `pandas` module\n",
    "* Plot the Components:\n",
    "  - Trend\n",
    "  - Seasonality\n",
    "  - Randomness\n",
    "\n",
    "  **Hint**: Use `statsmodel`'s [`seasonal_decompose`](https://www.statsmodels.org/stable/generated/statsmodels.tsa.seasonal.seasonal_decompose.html) function"
   ]
  },
  {
   "cell_type": "code",
   "execution_count": null,
   "id": "dfeU5VWs8-00",
   "metadata": {
    "id": "dfeU5VWs8-00"
   },
   "outputs": [],
   "source": [
    "# YOUR CODE HERE"
   ]
  },
  {
   "cell_type": "markdown",
   "id": "dGDkc1Ip8AEe",
   "metadata": {
    "id": "dGDkc1Ip8AEe"
   },
   "source": [
    "### Exercise 6 (1 point): Stationarity Check:\n",
    "\n",
    "* Perform the Stationary check using this ADF method from this link [ADF Method](https://www.statsmodels.org/devel/examples/notebooks/generated/stationarity_detrending_adf_kpss.html)\n",
    "\t- If the data is a stationary data, please proceed.\n",
    "\t- If not, convert to a stationary model"
   ]
  },
  {
   "cell_type": "code",
   "execution_count": null,
   "id": "qyMDJ-Of8_W7",
   "metadata": {
    "id": "qyMDJ-Of8_W7"
   },
   "outputs": [],
   "source": [
    "# YOUR CODE HERE"
   ]
  },
  {
   "cell_type": "markdown",
   "id": "BiH2Pf9g8ABq",
   "metadata": {
    "id": "BiH2Pf9g8ABq"
   },
   "source": [
    "### Exercise 7 (1 point): Time-Series Modelling (Part-1):\n",
    "\n",
    "* Perform the following actions for **EACH** of the following models\n",
    "\n",
    "Actions:\n",
    " - Instantiate the model\n",
    " - Train the model\n",
    " - Fit the model\n",
    " - Predict the sales\n",
    " - Compute the Metrics - RMSE, MAPE\n",
    " - Use the provided Test Data for Testing (Prediction)   \n",
    " - **DO NOT USE traintestsplit**-It's a Timeseries Data.!\n",
    " - Visualise the train data, test data, and predicted data with different colors on the same plot\n",
    "\n",
    "Models:\n",
    "\n",
    "  - Moving-Average(MA) Model\n",
    "  - Autoregressive(AR) Model\n",
    "  - Autoregressive Moving-Average(ARMA) Model\n",
    "\n",
    "\n",
    "**Hint**: \n",
    "  - Use `statsmodels` for the models\n",
    "  - Use `sklearn` for the metrics\n",
    "  - You may refer to this [link](https://towardsdatascience.com/how-to-use-an-autoregressive-ar-model-for-time-series-analysis-bb12b7831024)"
   ]
  },
  {
   "cell_type": "code",
   "execution_count": null,
   "id": "2ODJSCmJ9Aot",
   "metadata": {
    "id": "2ODJSCmJ9Aot"
   },
   "outputs": [],
   "source": [
    "# YOUR CODE HERE"
   ]
  },
  {
   "cell_type": "markdown",
   "id": "VcKiS0-Z7_8b",
   "metadata": {
    "id": "VcKiS0-Z7_8b"
   },
   "source": [
    "### Exercise 8 (2 point): Time-Series Modelling (Part-2):\n",
    "\n",
    "* Perform the following actions for **EACH** of the following models\n",
    "\n",
    "Actions:\n",
    " - Instantiate the model\n",
    " - Train the model\n",
    " - Fit the model\n",
    " - Predict the sales\n",
    " - Compute the Metrics - RMSE, MAPE\n",
    "\n",
    "Plot the following for ARIMA, SARIMA, and SARIMAX models:\n",
    "  - autocorrelation function (ACF) and \n",
    "  - partial autocorrelation (PACF) plots\n",
    "\n",
    "Models:\n",
    "\n",
    "  - Autoregressive Integrated Moving-Average(ARIMA) Model\n",
    "  - Seasonal Autoregressive Integrated Moving Average (SARIMA) Model\n",
    "  - Seasonal Autoregressive Integrated Moving Average Extended (SARIMAX) Model\n",
    "\n",
    "**Hint**: \n",
    "  - Use `statsmodels` for the models\n",
    "  - Use `sklearn` for the metrics\n",
    "  - Use `plot_acf`, `plot_pacf` for plotting the functions\n",
    "  - You may refer to this [link](https://towardsdatascience.com/how-to-use-an-autoregressive-ar-model-for-time-series-analysis-bb12b7831024)\n"
   ]
  },
  {
   "cell_type": "code",
   "execution_count": null,
   "id": "nduFCp4V9Bjj",
   "metadata": {
    "id": "nduFCp4V9Bjj"
   },
   "outputs": [],
   "source": [
    "# YOUR CODE HERE"
   ]
  },
  {
   "cell_type": "markdown",
   "id": "1og_nwKEDMB-",
   "metadata": {
    "id": "1og_nwKEDMB-"
   },
   "source": [
    "### Discussion and Food for Thought:\n",
    "\n",
    "- What is the learning outcome?\n",
    "- How is the data preprocessing different from the previous ML projects?\n",
    "- How do the integrated models behave compared to MA, AR, and ARMA models?\n",
    "- What could be other alternate/supporting metrics to determine the model's performance?\n",
    "- **EXPLORE** the `var` model and repeat the above preocess on your own"
   ]
  }
 ],
 "metadata": {
  "colab": {
   "collapsed_sections": [],
   "name": "M3_MP8_SNB_SALES_TSA.ipynb",
   "provenance": [],
   "toc_visible": true
  },
  "kernelspec": {
   "display_name": "Python 3 (ipykernel)",
   "language": "python",
   "name": "python3"
  },
  "language_info": {
   "codemirror_mode": {
    "name": "ipython",
    "version": 3
   },
   "file_extension": ".py",
   "mimetype": "text/x-python",
   "name": "python",
   "nbconvert_exporter": "python",
   "pygments_lexer": "ipython3",
   "version": "3.9.7"
  },
  "papermill": {
   "default_parameters": {},
   "duration": 230.438434,
   "end_time": "2021-09-27T02:09:40.302165",
   "environment_variables": {},
   "exception": null,
   "input_path": "__notebook__.ipynb",
   "output_path": "__notebook__.ipynb",
   "parameters": {},
   "start_time": "2021-09-27T02:05:49.863731",
   "version": "2.3.2"
  }
 },
 "nbformat": 4,
 "nbformat_minor": 5
}
