{
  "nbformat": 4,
  "nbformat_minor": 0,
  "metadata": {
    "colab": {
      "name": "SNB_Built_In_function.ipynb",
      "provenance": [],
      "collapsed_sections": []
    },
    "kernelspec": {
      "name": "python3",
      "display_name": "Python 3"
    },
    "language_info": {
      "name": "python"
    }
  },
  "cells": [
    {
      "cell_type": "markdown",
      "source": [
        "## Practice Notebook"
      ],
      "metadata": {
        "id": "0LJ30izQcKy-"
      }
    },
    {
      "cell_type": "markdown",
      "source": [
        "Python built-in functions are functions whose functionality is pre-defined in Python. Python 3 comes with many built-in functions that you can readily use in any Python program."
      ],
      "metadata": {
        "id": "dKq-IWXned9t"
      }
    },
    {
      "cell_type": "markdown",
      "source": [
        "Official documentation of `python` on `built-in-functions` can be accessed [here](https://docs.python.org/3/library/functions.html)"
      ],
      "metadata": {
        "id": "Ia7fvD18cd6-"
      }
    },
    {
      "cell_type": "markdown",
      "source": [
        "Aggregate functions"
      ],
      "metadata": {
        "id": "XK_ZrZFsoOnQ"
      }
    },
    {
      "cell_type": "markdown",
      "source": [
        "Exercise 1:\n",
        "\n",
        "* initialize two lists\n",
        "* Use `max` function to calculate the maximum of two lists.\n",
        "*  Use `min` function to calculate the minimum of two lists.\n",
        "* Sort the list.\n",
        "* Print the sum of two lists."
      ],
      "metadata": {
        "id": "85MeY8X7pBY7"
      }
    },
    {
      "cell_type": "code",
      "source": [
        "a = [1, 2, 3, 4, 5, 6, 17, 23, 33, 40, 8, 9, 10, 0]\n",
        "b= [12, 13, 14, 15, -2, -4, 2, -4, -6, -7, 22, 11, 0]"
      ],
      "metadata": {
        "id": "sEDZnt24nFsv"
      },
      "execution_count": null,
      "outputs": []
    },
    {
      "cell_type": "code",
      "source": [
        "print(max(a), max(b))"
      ],
      "metadata": {
        "colab": {
          "base_uri": "https://localhost:8080/"
        },
        "id": "Hemdr-Fiol_d",
        "outputId": "cb037a00-2511-423f-ef9e-17f7ae12fc19"
      },
      "execution_count": null,
      "outputs": [
        {
          "output_type": "stream",
          "name": "stdout",
          "text": [
            "40 22\n"
          ]
        }
      ]
    },
    {
      "cell_type": "code",
      "source": [
        "print(min(a), min(b))"
      ],
      "metadata": {
        "colab": {
          "base_uri": "https://localhost:8080/"
        },
        "id": "UC5OztPDoqTc",
        "outputId": "e6b8b6f8-b988-456f-9044-f21ed9433086"
      },
      "execution_count": null,
      "outputs": [
        {
          "output_type": "stream",
          "name": "stdout",
          "text": [
            "0 -7\n"
          ]
        }
      ]
    },
    {
      "cell_type": "code",
      "source": [
        "print(sorted(b))"
      ],
      "metadata": {
        "colab": {
          "base_uri": "https://localhost:8080/"
        },
        "id": "UlMcJvBhowRb",
        "outputId": "c948e0f6-02c7-4b0b-8ef8-601fc086bdc3"
      },
      "execution_count": null,
      "outputs": [
        {
          "output_type": "stream",
          "name": "stdout",
          "text": [
            "[-7, -6, -4, -4, -2, 0, 2, 11, 12, 13, 14, 15, 22]\n"
          ]
        }
      ]
    },
    {
      "cell_type": "code",
      "source": [
        "print(list(sorted(b)))"
      ],
      "metadata": {
        "colab": {
          "base_uri": "https://localhost:8080/"
        },
        "id": "37everiSo0zY",
        "outputId": "244fd260-de21-47a1-db51-8a6e45d7fb9f"
      },
      "execution_count": null,
      "outputs": [
        {
          "output_type": "stream",
          "name": "stdout",
          "text": [
            "[-7, -6, -4, -4, -2, 0, 2, 11, 12, 13, 14, 15, 22]\n"
          ]
        }
      ]
    },
    {
      "cell_type": "code",
      "source": [
        "print(sum(a), sum(b))"
      ],
      "metadata": {
        "colab": {
          "base_uri": "https://localhost:8080/"
        },
        "id": "U90KcPt0o7TT",
        "outputId": "931c523e-bf10-451b-dc5b-65c9f820e421"
      },
      "execution_count": null,
      "outputs": [
        {
          "output_type": "stream",
          "name": "stdout",
          "text": [
            "161 66\n"
          ]
        }
      ]
    },
    {
      "cell_type": "markdown",
      "source": [
        "Exercise 2:\n",
        "\n",
        "* Initialize a `list` containing boolean types as it's elements.\n",
        "* Check if all the elements of the `list` are true.\n",
        "* Check if any of it's elements is true."
      ],
      "metadata": {
        "id": "GRmeA9mlpiis"
      }
    },
    {
      "cell_type": "code",
      "source": [
        "list1 = [2>3, 5<6, \"a\" == \"b\", True == False]\n",
        "print(all(list1))\n",
        "print(any(list1))"
      ],
      "metadata": {
        "colab": {
          "base_uri": "https://localhost:8080/"
        },
        "id": "7jc8vRL3o_TG",
        "outputId": "60594ed3-3b43-44e7-bd4d-5bae488687e1"
      },
      "execution_count": null,
      "outputs": [
        {
          "output_type": "stream",
          "name": "stdout",
          "text": [
            "False\n",
            "True\n"
          ]
        }
      ]
    },
    {
      "cell_type": "markdown",
      "source": [
        "Exercise 3:\n",
        "\n",
        "* Use `abs` to print the absolute value of a complex number.\n",
        "* Use `divmod` function to calculate division between 13 and 4, -10 and 3.\n",
        "* Use `pow` function to calculate 3 raised to the power of 8 and 3 raised to the power of -8.\n",
        "* Use `round` to round-off a number to 4 places after the decimal"
      ],
      "metadata": {
        "id": "GhqMO5euvBsK"
      }
    },
    {
      "cell_type": "code",
      "source": [
        "print(abs(4 + 6j))\n",
        "print(divmod(13, 4), divmod(-10, 3))\n",
        "print(pow(3, 8), pow(3, -8))\n",
        "print(round(13.2/7.3, 4))"
      ],
      "metadata": {
        "colab": {
          "base_uri": "https://localhost:8080/"
        },
        "id": "J7POEUhdyQsX",
        "outputId": "2e95ab2b-6c47-4dc5-de23-220a77708ad9"
      },
      "execution_count": null,
      "outputs": [
        {
          "output_type": "stream",
          "name": "stdout",
          "text": [
            "7.211102550927978\n",
            "(3, 1) (-4, 2)\n",
            "6561 0.00015241579027587258\n",
            "1.8082\n"
          ]
        }
      ]
    },
    {
      "cell_type": "markdown",
      "source": [
        "Exercise 4:\n",
        "\n",
        "**Note:-** These functions will be later used in `map()` and `filter()`\n",
        "\n",
        "\n",
        "Define 3 functions:\n",
        "1. A function that calculates a cube of a number passed as parameter.\n",
        "2. A function that checks whether a given number is odd or not.\n",
        "3. A function that checks whether a given number is a multiple of 3 or not.\n",
        "___________________________\n",
        "Define 2 lists:"
      ],
      "metadata": {
        "id": "DPjTS5F4zHY2"
      }
    },
    {
      "cell_type": "code",
      "source": [
        "# Function 1\n",
        "def function_cube(n):\n",
        "    return n*n*n\n"
      ],
      "metadata": {
        "id": "M2KH2cf__srn"
      },
      "execution_count": null,
      "outputs": []
    },
    {
      "cell_type": "code",
      "source": [
        "function_cube(9)"
      ],
      "metadata": {
        "colab": {
          "base_uri": "https://localhost:8080/"
        },
        "id": "vN3btuj8_sp7",
        "outputId": "5342c478-9ee1-42bf-dc12-90c39294fb4e"
      },
      "execution_count": null,
      "outputs": [
        {
          "output_type": "execute_result",
          "data": {
            "text/plain": [
              "729"
            ]
          },
          "metadata": {},
          "execution_count": 77
        }
      ]
    },
    {
      "cell_type": "code",
      "source": [
        "# function 2\n",
        "def function_IsOdd(n):\n",
        "    return n % 2 != 0"
      ],
      "metadata": {
        "id": "xy8lq8U9_smC"
      },
      "execution_count": null,
      "outputs": []
    },
    {
      "cell_type": "code",
      "source": [
        "function_IsOdd(10)"
      ],
      "metadata": {
        "colab": {
          "base_uri": "https://localhost:8080/"
        },
        "id": "30iuokDD_sjR",
        "outputId": "dd1f2f5e-48cd-4355-b10d-06951a3dad40"
      },
      "execution_count": null,
      "outputs": [
        {
          "output_type": "execute_result",
          "data": {
            "text/plain": [
              "False"
            ]
          },
          "metadata": {},
          "execution_count": 80
        }
      ]
    },
    {
      "cell_type": "code",
      "source": [
        "# Function 3\n",
        "def function_IsMultipleof3(n):\n",
        "    if n % 3 == 0:\n",
        "        return True\n",
        "    return "
      ],
      "metadata": {
        "id": "qEsjGwah_sfU"
      },
      "execution_count": null,
      "outputs": []
    },
    {
      "cell_type": "code",
      "source": [
        "function_IsMultipleof3(15)"
      ],
      "metadata": {
        "colab": {
          "base_uri": "https://localhost:8080/"
        },
        "id": "ZfAEkYXn_scz",
        "outputId": "5b11d023-79a8-4405-dafe-3140653c479a"
      },
      "execution_count": null,
      "outputs": [
        {
          "output_type": "execute_result",
          "data": {
            "text/plain": [
              "True"
            ]
          },
          "metadata": {},
          "execution_count": 98
        }
      ]
    },
    {
      "cell_type": "code",
      "source": [
        "list1 = [1, 2, 3, 4, 5, 6, 7, 8, 9, 10, 11, 12, 13, 14, 15, 16]\n",
        "list2 = [11, 22, 33, 44, 55, 66, 77, 88, 99, 1010, 1111, 1212, 1313, 1414]"
      ],
      "metadata": {
        "id": "IFnPQ4Al_TU0"
      },
      "execution_count": null,
      "outputs": []
    },
    {
      "cell_type": "markdown",
      "source": [
        "**The next three questions will make use of the 3 functions and two lists defined in Exercise 4.** "
      ],
      "metadata": {
        "id": "_f3K4Ft7KFCw"
      }
    },
    {
      "cell_type": "markdown",
      "source": [
        "Exercise 5:\n",
        "\n",
        "* Use `filter` to return the `list` of elements from list1 that satisfies `function_IsOdd`\n",
        "* Use `filter` to return the `list` of elements from list2 that satisfies `function_IsOdd`\n",
        "* Use `filter` to return the `list` of elements from list1 that satisfies `function_IsMultipleof3`"
      ],
      "metadata": {
        "id": "uywCsJVEKQtv"
      }
    },
    {
      "cell_type": "code",
      "source": [
        "print(list(filter(function_IsOdd, list1)))\n",
        "print(list(filter(function_IsOdd, list2)))\n",
        "print(list(filter(function_IsMultipleof3, list1)))"
      ],
      "metadata": {
        "colab": {
          "base_uri": "https://localhost:8080/"
        },
        "id": "rcxRdiFiNWuh",
        "outputId": "06a40f8e-d3eb-4e8b-8e44-a8aa3aab413e"
      },
      "execution_count": null,
      "outputs": [
        {
          "output_type": "stream",
          "name": "stdout",
          "text": [
            "[1, 3, 5, 7, 9, 11, 13, 15]\n",
            "[11, 33, 55, 77, 99, 1111, 1313]\n",
            "[3, 6, 9, 12, 15]\n"
          ]
        }
      ]
    },
    {
      "cell_type": "markdown",
      "source": [
        "Exercise 6:\n",
        "\n",
        "* Map the function that computes cube to list1.\n",
        "* Map the function that computes cube to list2.\n",
        "* Map the function that computes cube to `list` returned by the `filter` function on function_IsOdd and list2."
      ],
      "metadata": {
        "id": "w3Qjv_dNK2wb"
      }
    },
    {
      "cell_type": "code",
      "source": [
        "print(list(map(function_cube, list1)))\n",
        "print(list(map(function_cube, list2)))\n",
        "print(list(map(function_cube, filter(function_IsOdd, list2))))"
      ],
      "metadata": {
        "colab": {
          "base_uri": "https://localhost:8080/"
        },
        "id": "ZhtC4FJh6ytI",
        "outputId": "cb2cd72a-e73d-4e71-b3c0-093ab44cfdcc"
      },
      "execution_count": null,
      "outputs": [
        {
          "output_type": "stream",
          "name": "stdout",
          "text": [
            "[1, 8, 27, 64, 125, 216, 343, 512, 729, 1000, 1331, 1728, 2197, 2744, 3375, 4096]\n",
            "[1331, 10648, 35937, 85184, 166375, 287496, 456533, 681472, 970299, 1030301000, 1371330631, 1780360128, 2263571297, 2827145944]\n",
            "[1331, 35937, 166375, 456533, 970299, 1371330631, 2263571297]\n"
          ]
        }
      ]
    },
    {
      "cell_type": "markdown",
      "source": [
        "Exercise 7:\n",
        "\n",
        "* Use `zip` to zip list1 and list2.\n",
        "* Discuss two cases:\n",
        "1. When number of elements in both lists are equal.\n",
        "2. When number of elements are unequal."
      ],
      "metadata": {
        "id": "QBGqVKjnNsU6"
      }
    },
    {
      "cell_type": "code",
      "source": [
        "print(list(zip(list1, list2)))"
      ],
      "metadata": {
        "colab": {
          "base_uri": "https://localhost:8080/"
        },
        "id": "bzQhJaSl-0cr",
        "outputId": "d6942f02-1fb3-4935-8632-3f3b82813280"
      },
      "execution_count": null,
      "outputs": [
        {
          "output_type": "stream",
          "name": "stdout",
          "text": [
            "[(1, 11), (2, 22), (3, 33), (4, 44), (5, 55), (6, 66), (7, 77), (8, 88), (9, 99), (10, 1010), (11, 1111), (12, 1212), (13, 1313), (14, 1414)]\n"
          ]
        }
      ]
    },
    {
      "cell_type": "code",
      "source": [
        "a = [1, 2, 3, 4]\n",
        "b = ['a', 'b', 'c', 'd']\n",
        "print(list(zip(a, b)))"
      ],
      "metadata": {
        "colab": {
          "base_uri": "https://localhost:8080/"
        },
        "id": "LClMQvjEOPc6",
        "outputId": "bf5f92a9-4080-4048-b66d-366fc7713d8d"
      },
      "execution_count": null,
      "outputs": [
        {
          "output_type": "stream",
          "name": "stdout",
          "text": [
            "[(1, 'a'), (2, 'b'), (3, 'c'), (4, 'd')]\n"
          ]
        }
      ]
    },
    {
      "cell_type": "code",
      "source": [
        "a = [1, 2, 3, 4, 5, 6, 7]\n",
        "b = ['a', 'b', 'c', 'd']\n",
        "print(list(zip(a, b)))"
      ],
      "metadata": {
        "colab": {
          "base_uri": "https://localhost:8080/"
        },
        "id": "Dv86uAT9OkX8",
        "outputId": "969f216c-9162-4a48-d26e-f0f459e6f213"
      },
      "execution_count": null,
      "outputs": [
        {
          "output_type": "stream",
          "name": "stdout",
          "text": [
            "[(1, 'a'), (2, 'b'), (3, 'c'), (4, 'd')]\n"
          ]
        }
      ]
    },
    {
      "cell_type": "code",
      "source": [
        "a = [1, 2, 3, 4, 5]\n",
        "b = ['a', 'b', 'c', 'd', 'e', 'f', 'g', 'h']\n",
        "print(list(zip(a, b)))"
      ],
      "metadata": {
        "colab": {
          "base_uri": "https://localhost:8080/"
        },
        "id": "gRLI4n9MOpQi",
        "outputId": "5f778e44-90fc-4f99-88ef-16eca7097810"
      },
      "execution_count": null,
      "outputs": [
        {
          "output_type": "stream",
          "name": "stdout",
          "text": [
            "[(1, 'a'), (2, 'b'), (3, 'c'), (4, 'd'), (5, 'e')]\n"
          ]
        }
      ]
    },
    {
      "cell_type": "markdown",
      "source": [
        "Exercise 8:\n",
        "\n",
        "* Print the documentation of the object list1 by using `help` function.\n",
        "* Check for attributes available with `help` by making use of `dir`\n",
        "    - Click [here](https://docs.python.org/3/library/functions.html#dir) to go through official documentation on `dir`"
      ],
      "metadata": {
        "id": "K9PAXA03bJxU"
      }
    },
    {
      "cell_type": "code",
      "source": [
        "print(help(list1))"
      ],
      "metadata": {
        "colab": {
          "base_uri": "https://localhost:8080/"
        },
        "id": "bEqlsbFFahXk",
        "outputId": "4510e7e6-daa2-4c6d-dd6a-6dc5a7b1fc54"
      },
      "execution_count": null,
      "outputs": [
        {
          "output_type": "stream",
          "name": "stdout",
          "text": [
            "Help on list object:\n",
            "\n",
            "class list(object)\n",
            " |  list(iterable=(), /)\n",
            " |  \n",
            " |  Built-in mutable sequence.\n",
            " |  \n",
            " |  If no argument is given, the constructor creates a new empty list.\n",
            " |  The argument must be an iterable if specified.\n",
            " |  \n",
            " |  Methods defined here:\n",
            " |  \n",
            " |  __add__(self, value, /)\n",
            " |      Return self+value.\n",
            " |  \n",
            " |  __contains__(self, key, /)\n",
            " |      Return key in self.\n",
            " |  \n",
            " |  __delitem__(self, key, /)\n",
            " |      Delete self[key].\n",
            " |  \n",
            " |  __eq__(self, value, /)\n",
            " |      Return self==value.\n",
            " |  \n",
            " |  __ge__(self, value, /)\n",
            " |      Return self>=value.\n",
            " |  \n",
            " |  __getattribute__(self, name, /)\n",
            " |      Return getattr(self, name).\n",
            " |  \n",
            " |  __getitem__(...)\n",
            " |      x.__getitem__(y) <==> x[y]\n",
            " |  \n",
            " |  __gt__(self, value, /)\n",
            " |      Return self>value.\n",
            " |  \n",
            " |  __iadd__(self, value, /)\n",
            " |      Implement self+=value.\n",
            " |  \n",
            " |  __imul__(self, value, /)\n",
            " |      Implement self*=value.\n",
            " |  \n",
            " |  __init__(self, /, *args, **kwargs)\n",
            " |      Initialize self.  See help(type(self)) for accurate signature.\n",
            " |  \n",
            " |  __iter__(self, /)\n",
            " |      Implement iter(self).\n",
            " |  \n",
            " |  __le__(self, value, /)\n",
            " |      Return self<=value.\n",
            " |  \n",
            " |  __len__(self, /)\n",
            " |      Return len(self).\n",
            " |  \n",
            " |  __lt__(self, value, /)\n",
            " |      Return self<value.\n",
            " |  \n",
            " |  __mul__(self, value, /)\n",
            " |      Return self*value.\n",
            " |  \n",
            " |  __ne__(self, value, /)\n",
            " |      Return self!=value.\n",
            " |  \n",
            " |  __repr__(self, /)\n",
            " |      Return repr(self).\n",
            " |  \n",
            " |  __reversed__(self, /)\n",
            " |      Return a reverse iterator over the list.\n",
            " |  \n",
            " |  __rmul__(self, value, /)\n",
            " |      Return value*self.\n",
            " |  \n",
            " |  __setitem__(self, key, value, /)\n",
            " |      Set self[key] to value.\n",
            " |  \n",
            " |  __sizeof__(self, /)\n",
            " |      Return the size of the list in memory, in bytes.\n",
            " |  \n",
            " |  append(self, object, /)\n",
            " |      Append object to the end of the list.\n",
            " |  \n",
            " |  clear(self, /)\n",
            " |      Remove all items from list.\n",
            " |  \n",
            " |  copy(self, /)\n",
            " |      Return a shallow copy of the list.\n",
            " |  \n",
            " |  count(self, value, /)\n",
            " |      Return number of occurrences of value.\n",
            " |  \n",
            " |  extend(self, iterable, /)\n",
            " |      Extend list by appending elements from the iterable.\n",
            " |  \n",
            " |  index(self, value, start=0, stop=9223372036854775807, /)\n",
            " |      Return first index of value.\n",
            " |      \n",
            " |      Raises ValueError if the value is not present.\n",
            " |  \n",
            " |  insert(self, index, object, /)\n",
            " |      Insert object before index.\n",
            " |  \n",
            " |  pop(self, index=-1, /)\n",
            " |      Remove and return item at index (default last).\n",
            " |      \n",
            " |      Raises IndexError if list is empty or index is out of range.\n",
            " |  \n",
            " |  remove(self, value, /)\n",
            " |      Remove first occurrence of value.\n",
            " |      \n",
            " |      Raises ValueError if the value is not present.\n",
            " |  \n",
            " |  reverse(self, /)\n",
            " |      Reverse *IN PLACE*.\n",
            " |  \n",
            " |  sort(self, /, *, key=None, reverse=False)\n",
            " |      Stable sort *IN PLACE*.\n",
            " |  \n",
            " |  ----------------------------------------------------------------------\n",
            " |  Static methods defined here:\n",
            " |  \n",
            " |  __new__(*args, **kwargs) from builtins.type\n",
            " |      Create and return a new object.  See help(type) for accurate signature.\n",
            " |  \n",
            " |  ----------------------------------------------------------------------\n",
            " |  Data and other attributes defined here:\n",
            " |  \n",
            " |  __hash__ = None\n",
            "\n",
            "None\n"
          ]
        }
      ]
    },
    {
      "cell_type": "code",
      "source": [
        "dir(help)"
      ],
      "metadata": {
        "colab": {
          "base_uri": "https://localhost:8080/"
        },
        "id": "PZxDYl0EslEt",
        "outputId": "79b96569-a321-4836-fb85-8162a78d08ea"
      },
      "execution_count": null,
      "outputs": [
        {
          "output_type": "execute_result",
          "data": {
            "text/plain": [
              "['__call__',\n",
              " '__class__',\n",
              " '__delattr__',\n",
              " '__dict__',\n",
              " '__dir__',\n",
              " '__doc__',\n",
              " '__eq__',\n",
              " '__format__',\n",
              " '__ge__',\n",
              " '__getattribute__',\n",
              " '__gt__',\n",
              " '__hash__',\n",
              " '__init__',\n",
              " '__init_subclass__',\n",
              " '__le__',\n",
              " '__lt__',\n",
              " '__module__',\n",
              " '__ne__',\n",
              " '__new__',\n",
              " '__reduce__',\n",
              " '__reduce_ex__',\n",
              " '__repr__',\n",
              " '__setattr__',\n",
              " '__sizeof__',\n",
              " '__str__',\n",
              " '__subclasshook__',\n",
              " '__weakref__']"
            ]
          },
          "metadata": {},
          "execution_count": 4
        }
      ]
    },
    {
      "cell_type": "code",
      "source": [
        "def function_documentation(a, b):\n",
        "\n",
        "    \"\"\"This is the documentation of the function \n",
        "    This function when called returns the product of two numbers.\"\"\"\n",
        "\n",
        "    product = a * b\n",
        "    return product"
      ],
      "metadata": {
        "id": "XyZQLEATbcEN"
      },
      "execution_count": null,
      "outputs": []
    },
    {
      "cell_type": "code",
      "source": [
        "print(help(function_documentation))"
      ],
      "metadata": {
        "colab": {
          "base_uri": "https://localhost:8080/"
        },
        "id": "kKNTQT1Nc7PQ",
        "outputId": "1906bd4b-e42e-4bc3-bd28-d51da65121f6"
      },
      "execution_count": null,
      "outputs": [
        {
          "output_type": "stream",
          "name": "stdout",
          "text": [
            "Help on function function_documentation in module __main__:\n",
            "\n",
            "function_documentation(a, b)\n",
            "    This is the documentation of the function\n",
            "    \n",
            "    This function when called returns the product of two numbers.\n",
            "\n",
            "None\n"
          ]
        }
      ]
    },
    {
      "cell_type": "code",
      "source": [
        "object_documentation = function_documentation(9, 8)\n",
        "print(f'The product of 9 and 8 is: {object_documentation}')"
      ],
      "metadata": {
        "colab": {
          "base_uri": "https://localhost:8080/"
        },
        "id": "azweg4yZby0P",
        "outputId": "73d2e469-39de-4829-b155-f2346f525c82"
      },
      "execution_count": null,
      "outputs": [
        {
          "output_type": "stream",
          "name": "stdout",
          "text": [
            "The product of 9 and 8 is: 72\n",
            "Help on function function_documentation in module __main__:\n",
            "\n",
            "function_documentation(a, b)\n",
            "    This is the documentation of the function\n",
            "    \n",
            "    This function when called returns the product of two numbers.\n",
            "\n",
            "None\n"
          ]
        }
      ]
    },
    {
      "cell_type": "markdown",
      "source": [
        "Exercise 9:\n",
        "\n",
        "Click [here](https://docs.python.org/3/library/functions.html#enumerate) to go through documentation on `enumerate`\n",
        "\n",
        "* Initialize a `list`\n",
        "* Use enumerate to return a tuple containing count and the values obtained from iterating over list.\n",
        "\n",
        "Click [here](https://docs.python.org/3/library/functions.html#ord) to go through documentation on `ord`\n",
        "* Return an integer representing the Unicode code point of the character, 'a' and '€'\n",
        "\n",
        "\n",
        "* Explore `range` and `slicing` over `range` by making use of `for`"
      ],
      "metadata": {
        "id": "I0AeNTV_tBCB"
      }
    },
    {
      "cell_type": "code",
      "source": [
        "list6 = [\"Python In Practice\", \"Computing in AI/ML\", \"Machine Learning\",\n",
        "         \"Deep Learning\", \"Data Engineering\", \"Business Analytics\"]\n",
        "print(list(enumerate(list6)))"
      ],
      "metadata": {
        "colab": {
          "base_uri": "https://localhost:8080/"
        },
        "id": "SINKReQ8tDl_",
        "outputId": "be6065b2-b2b0-4ece-cb3a-10f9a6e6d354"
      },
      "execution_count": null,
      "outputs": [
        {
          "output_type": "execute_result",
          "data": {
            "text/plain": [
              "(0, 'Python In Practice')"
            ]
          },
          "metadata": {},
          "execution_count": 34
        }
      ]
    },
    {
      "cell_type": "code",
      "source": [
        "print(ord('a'))\n",
        "print(ord('€'))"
      ],
      "metadata": {
        "colab": {
          "base_uri": "https://localhost:8080/"
        },
        "id": "FilbUlujyvfq",
        "outputId": "d2595b4c-4e69-4517-f9dd-32e0314fca18"
      },
      "execution_count": null,
      "outputs": [
        {
          "output_type": "stream",
          "name": "stdout",
          "text": [
            "97\n",
            "8364\n"
          ]
        }
      ]
    },
    {
      "cell_type": "code",
      "source": [
        "for i in range(20):\n",
        "    print(i, end = ' ')"
      ],
      "metadata": {
        "colab": {
          "base_uri": "https://localhost:8080/"
        },
        "id": "gbsT23wBygw2",
        "outputId": "929c865c-aabf-4aaa-c609-a6405d85dfc6"
      },
      "execution_count": null,
      "outputs": [
        {
          "output_type": "stream",
          "name": "stdout",
          "text": [
            "0 1 2 3 4 5 6 7 8 9 10 11 12 13 14 15 16 17 18 19 "
          ]
        }
      ]
    },
    {
      "cell_type": "code",
      "source": [
        "for i in range(2, 20):\n",
        "    print(i, end = ' ')"
      ],
      "metadata": {
        "colab": {
          "base_uri": "https://localhost:8080/"
        },
        "id": "-Wjiuh6Z0qRT",
        "outputId": "ef4d19df-f4e8-45bd-d188-807f0626ed3e"
      },
      "execution_count": null,
      "outputs": [
        {
          "output_type": "stream",
          "name": "stdout",
          "text": [
            "2 3 4 5 6 7 8 9 10 11 12 13 14 15 16 17 18 19 "
          ]
        }
      ]
    },
    {
      "cell_type": "code",
      "source": [
        "# Slicing\n",
        "for i in range(2, 20, 3):\n",
        "    print(i, end = ' ')"
      ],
      "metadata": {
        "colab": {
          "base_uri": "https://localhost:8080/"
        },
        "id": "AWzdN30U1pCE",
        "outputId": "8ac28696-0961-49fa-f158-029002f482a0"
      },
      "execution_count": null,
      "outputs": [
        {
          "output_type": "stream",
          "name": "stdout",
          "text": [
            "2 5 8 11 14 17 "
          ]
        }
      ]
    },
    {
      "cell_type": "markdown",
      "source": [
        "## **Note:** `reduce` is not a built in function."
      ],
      "metadata": {
        "id": "SlMmp8ayl1IH"
      }
    },
    {
      "cell_type": "markdown",
      "source": [
        "Exercise 10:\n",
        "\n",
        "* Initialize a list of numbers.\n",
        "* Define a function that takes two numbers as parameters and returns the product of the two numbers.\n",
        "* Import `reduce` from `functools` and use `dir` to check attributes available with `reduce`\n",
        "* Make use of `reduce` to calculate the product of all the elements of that list.\n",
        "\n"
      ],
      "metadata": {
        "id": "Wlb27SO8mHim"
      }
    },
    {
      "cell_type": "code",
      "source": [
        "list4 = [1, 2, 3, 4, 5, 6, 7, 8, 9, 10]"
      ],
      "metadata": {
        "id": "bU03mQ8VgCX0"
      },
      "execution_count": null,
      "outputs": []
    },
    {
      "cell_type": "code",
      "source": [
        "def prod_two_num(a, b):\n",
        "    product = a * b\n",
        "    return product"
      ],
      "metadata": {
        "id": "8grZjqQzmwgc"
      },
      "execution_count": null,
      "outputs": []
    },
    {
      "cell_type": "code",
      "source": [
        "from functools import reduce"
      ],
      "metadata": {
        "id": "Y_jL-mA2m-JY"
      },
      "execution_count": null,
      "outputs": []
    },
    {
      "cell_type": "code",
      "source": [
        "dir(reduce)"
      ],
      "metadata": {
        "id": "i-EtJEifnuWW",
        "colab": {
          "base_uri": "https://localhost:8080/"
        },
        "outputId": "c0416669-563d-428d-e5a1-d7dd2bad7026"
      },
      "execution_count": null,
      "outputs": [
        {
          "output_type": "execute_result",
          "data": {
            "text/plain": [
              "['__call__',\n",
              " '__class__',\n",
              " '__delattr__',\n",
              " '__dir__',\n",
              " '__doc__',\n",
              " '__eq__',\n",
              " '__format__',\n",
              " '__ge__',\n",
              " '__getattribute__',\n",
              " '__gt__',\n",
              " '__hash__',\n",
              " '__init__',\n",
              " '__init_subclass__',\n",
              " '__le__',\n",
              " '__lt__',\n",
              " '__module__',\n",
              " '__name__',\n",
              " '__ne__',\n",
              " '__new__',\n",
              " '__qualname__',\n",
              " '__reduce__',\n",
              " '__reduce_ex__',\n",
              " '__repr__',\n",
              " '__self__',\n",
              " '__setattr__',\n",
              " '__sizeof__',\n",
              " '__str__',\n",
              " '__subclasshook__',\n",
              " '__text_signature__']"
            ]
          },
          "metadata": {},
          "execution_count": 2
        }
      ]
    },
    {
      "cell_type": "code",
      "source": [
        "product_list4 = reduce(prod_two_num, list4)\n",
        "print(product_list4)"
      ],
      "metadata": {
        "colab": {
          "base_uri": "https://localhost:8080/"
        },
        "id": "jmnUn4Y5nSde",
        "outputId": "b8849476-931e-419a-943f-01c2ca9fbc9e"
      },
      "execution_count": null,
      "outputs": [
        {
          "output_type": "stream",
          "name": "stdout",
          "text": [
            "3628800\n"
          ]
        }
      ]
    }
  ]
}