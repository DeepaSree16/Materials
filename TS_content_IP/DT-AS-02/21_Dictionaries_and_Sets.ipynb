{
  "nbformat": 4,
  "nbformat_minor": 0,
  "metadata": {
    "colab": {
      "name": "SNB_Dictionaries_and_Sets.ipynb",
      "provenance": [],
      "collapsed_sections": []
    },
    "kernelspec": {
      "name": "python3",
      "display_name": "Python 3"
    },
    "language_info": {
      "name": "python"
    }
  },
  "cells": [
    {
      "cell_type": "markdown",
      "source": [
        "## Practice Notebook"
      ],
      "metadata": {
        "id": "xT7BS95x1w-9"
      }
    },
    {
      "cell_type": "markdown",
      "source": [
        "Dictionary is a composite datatype in the Python programming language. In a way, it is similar to lists. Lists are a collection of elements. Dictionaries are a collection of key, value pairs. Solutions to many programming problems can be easy and more concise with dictionaries. Here we explain all the important methods in the dictionary and some problem-solving with examples.\n",
        "\n",
        "Click [here](https://docs.python.org/3/library/stdtypes.html#mapping-types-dict) to go through official documentation on `dictionaries`"
      ],
      "metadata": {
        "id": "22fQfO2n3R4Z"
      }
    },
    {
      "cell_type": "markdown",
      "source": [
        "Exercise 1:\n",
        "\n",
        "* Create a dictionary\n",
        "* The dictionary should contain states of india as `keys` and the corresponding state capitals as `values`.  "
      ],
      "metadata": {
        "id": "J093ur414qXD"
      }
    },
    {
      "cell_type": "code",
      "execution_count": null,
      "metadata": {
        "id": "2YqKC6m61rqZ"
      },
      "outputs": [],
      "source": [
        "dict1 = {\"Delhi\" : \"New Delhi\",\n",
        "         \"Uttar Pradesh\" : \"Lucknow\",\n",
        "         \"Madhya Pradesh\" : \"Bhopal\",\n",
        "         \"Karnataka\" : \"Bengaluru\",\n",
        "         \"Assam\" : \"Dispur\",\n",
        "         \"Gujarat\" : \"Gandhinagar\"}"
      ]
    },
    {
      "cell_type": "markdown",
      "source": [
        "Exercise 2:\n",
        "\n",
        "From the dictionary created in Exercise 1\n",
        "* Display the capital of Karnataka by retrieving the corresponding value for the key"
      ],
      "metadata": {
        "id": "-g9lEVYr7QNt"
      }
    },
    {
      "cell_type": "code",
      "source": [
        "dict1['Karnataka']"
      ],
      "metadata": {
        "colab": {
          "base_uri": "https://localhost:8080/",
          "height": 35
        },
        "id": "7ZCZO0ms7ILp",
        "outputId": "c9900193-cdba-40d8-a58d-1ad02ddf9d60"
      },
      "execution_count": null,
      "outputs": [
        {
          "output_type": "execute_result",
          "data": {
            "text/plain": [
              "'Bengaluru'"
            ],
            "application/vnd.google.colaboratory.intrinsic+json": {
              "type": "string"
            }
          },
          "metadata": {},
          "execution_count": 3
        }
      ]
    },
    {
      "cell_type": "markdown",
      "source": [
        "Exercise 3:\n",
        "\n",
        "Add (and print) a new element in the dictionary"
      ],
      "metadata": {
        "id": "HUJg6Y_w8K1c"
      }
    },
    {
      "cell_type": "code",
      "source": [
        "dict1['Telangana'] = 'Hyderabad'\n",
        "print (dict1)"
      ],
      "metadata": {
        "colab": {
          "base_uri": "https://localhost:8080/"
        },
        "id": "kDeZ642qgy8_",
        "outputId": "8979bfb3-3450-46c2-bb99-5f0d50ceae89"
      },
      "execution_count": null,
      "outputs": [
        {
          "output_type": "stream",
          "name": "stdout",
          "text": [
            "{'Delhi': 'New Delhi', 'Uttar Pradesh': 'Lucknow', 'Madhya Pradesh': 'Bhopal', 'Karnataka': 'Bengaluru', 'Assam': 'Dispur', 'Gujarat': 'Gandhinagar', 'Telangana': 'Hyderabad'}\n"
          ]
        }
      ]
    },
    {
      "cell_type": "markdown",
      "source": [
        "Exercise 4:\n",
        "\n",
        "Return a list of all the keys, using `list()` or `.keys()`.\n",
        "\n",
        "Return the values of the dictionary using `.values()` "
      ],
      "metadata": {
        "id": "zpdzdXsKBXSf"
      }
    },
    {
      "cell_type": "code",
      "source": [
        "list(dict1)"
      ],
      "metadata": {
        "colab": {
          "base_uri": "https://localhost:8080/"
        },
        "id": "HoEZDuq_801I",
        "outputId": "9aa7f356-9202-4f24-fae7-b2117903a7ce"
      },
      "execution_count": null,
      "outputs": [
        {
          "output_type": "execute_result",
          "data": {
            "text/plain": [
              "['Delhi',\n",
              " 'Uttar Pradesh',\n",
              " 'Madhya Pradesh',\n",
              " 'Karnataka',\n",
              " 'Assam',\n",
              " 'Gujarat',\n",
              " 'Telangana']"
            ]
          },
          "metadata": {},
          "execution_count": 7
        }
      ]
    },
    {
      "cell_type": "code",
      "source": [
        "dict1.keys()"
      ],
      "metadata": {
        "colab": {
          "base_uri": "https://localhost:8080/"
        },
        "id": "-WXIgkvQB6Kj",
        "outputId": "266f0f06-ab8e-4ce0-e7fd-aa0f735e103c"
      },
      "execution_count": null,
      "outputs": [
        {
          "output_type": "execute_result",
          "data": {
            "text/plain": [
              "dict_keys(['Delhi', 'Uttar Pradesh', 'Madhya Pradesh', 'Karnataka', 'Assam', 'Gujarat', 'Telangana'])"
            ]
          },
          "metadata": {},
          "execution_count": 8
        }
      ]
    },
    {
      "cell_type": "code",
      "source": [
        "dict1.values()"
      ],
      "metadata": {
        "colab": {
          "base_uri": "https://localhost:8080/"
        },
        "id": "1jlKOFpDphj8",
        "outputId": "2f86ffaf-8c4e-4dd5-be66-c4a416a5132b"
      },
      "execution_count": null,
      "outputs": [
        {
          "output_type": "execute_result",
          "data": {
            "text/plain": [
              "dict_values(['New Delhi', 'Lucknow', 'Bhopal', 'Bengaluru', 'Hyderabad'])"
            ]
          },
          "metadata": {},
          "execution_count": 40
        }
      ]
    },
    {
      "cell_type": "markdown",
      "source": [
        "Exercise 5:\n",
        "\n",
        "- Return the length of the dictionary using `len()`.\n",
        "- Return a sorted list of the dictionary keys"
      ],
      "metadata": {
        "id": "7lf9Hxs9CFFc"
      }
    },
    {
      "cell_type": "code",
      "source": [
        "len(dict1)"
      ],
      "metadata": {
        "colab": {
          "base_uri": "https://localhost:8080/"
        },
        "id": "duut09pZB9F9",
        "outputId": "95600a17-e1a6-4fd1-8570-df0b37e55046"
      },
      "execution_count": null,
      "outputs": [
        {
          "output_type": "execute_result",
          "data": {
            "text/plain": [
              "6"
            ]
          },
          "metadata": {},
          "execution_count": 8
        }
      ]
    },
    {
      "cell_type": "code",
      "source": [
        "sorted (dict1)"
      ],
      "metadata": {
        "colab": {
          "base_uri": "https://localhost:8080/"
        },
        "id": "cR3FF_C3kkTL",
        "outputId": "e44b4097-5e46-4fa6-e158-0ac84a13ea02"
      },
      "execution_count": null,
      "outputs": [
        {
          "output_type": "execute_result",
          "data": {
            "text/plain": [
              "['Delhi', 'Karnataka', 'Madhya Pradesh', 'Telangana', 'Uttar Pradesh']"
            ]
          },
          "metadata": {},
          "execution_count": 26
        }
      ]
    },
    {
      "cell_type": "markdown",
      "source": [
        "Exercise 6:\n",
        "\n",
        "* Remove a key value pair from the dictionary.\n",
        "* Add the same key value pair again in the `dictionary`\n",
        "* Display all the key-value pairs using `items()`"
      ],
      "metadata": {
        "id": "P-r0gerfEFyi"
      }
    },
    {
      "cell_type": "code",
      "source": [
        "dict1.popitem()"
      ],
      "metadata": {
        "id": "Z1rzWNkkEe1U",
        "colab": {
          "base_uri": "https://localhost:8080/"
        },
        "outputId": "14d21fd6-bae3-40e6-8ab8-6d61c47e31fa"
      },
      "execution_count": null,
      "outputs": [
        {
          "output_type": "execute_result",
          "data": {
            "text/plain": [
              "('Telangana', 'Hyderabad')"
            ]
          },
          "metadata": {},
          "execution_count": 16
        }
      ]
    },
    {
      "cell_type": "code",
      "source": [
        "dict1[\"Telangana\"] = \"Hyderabad\""
      ],
      "metadata": {
        "id": "jtQVrlnzDI5Z"
      },
      "execution_count": null,
      "outputs": []
    },
    {
      "cell_type": "code",
      "source": [
        "dict1.items()"
      ],
      "metadata": {
        "colab": {
          "base_uri": "https://localhost:8080/"
        },
        "id": "VM6oA8j6DaVF",
        "outputId": "f09b8a57-38d8-48ff-b5a8-84b2f5027d63"
      },
      "execution_count": null,
      "outputs": [
        {
          "output_type": "execute_result",
          "data": {
            "text/plain": [
              "dict_items([('Delhi', 'New Delhi'), ('Uttar Pradesh', 'Lucknow'), ('Madhya Pradesh', 'Bhopal'), ('Karnataka', 'Bengaluru'), ('Assam', 'Dispur'), ('Telangana', 'Hyderabad')])"
            ]
          },
          "metadata": {},
          "execution_count": 18
        }
      ]
    },
    {
      "cell_type": "code",
      "source": [
        "del dict1[\"Assam\"]"
      ],
      "metadata": {
        "id": "r33SZ8yyFE69"
      },
      "execution_count": null,
      "outputs": []
    },
    {
      "cell_type": "code",
      "source": [
        "dict1.items()"
      ],
      "metadata": {
        "colab": {
          "base_uri": "https://localhost:8080/"
        },
        "id": "60BUPAdHFSSj",
        "outputId": "35716bc0-2a7d-41fc-9e05-305b38fb3a71"
      },
      "execution_count": null,
      "outputs": [
        {
          "output_type": "execute_result",
          "data": {
            "text/plain": [
              "dict_items([('Delhi', 'New Delhi'), ('Uttar Pradesh', 'Lucknow'), ('Madhya Pradesh', 'Bhopal'), ('Karnataka', 'Bengaluru'), ('Telangana', 'Hyderabad')])"
            ]
          },
          "metadata": {},
          "execution_count": 20
        }
      ]
    },
    {
      "cell_type": "markdown",
      "source": [
        "Exercise 7:\n",
        "\n",
        "Iterate over the keys of the dictionary using `for` and `.keys()` and print all the state capitals."
      ],
      "metadata": {
        "id": "O9LfCd_kL00L"
      }
    },
    {
      "cell_type": "code",
      "source": [
        "for key in dict1.keys():\n",
        "    print(dict1[key])"
      ],
      "metadata": {
        "colab": {
          "base_uri": "https://localhost:8080/"
        },
        "id": "_jmS3h7qLq8I",
        "outputId": "4fd4b4ec-4b40-44a8-f182-84617bf8b6dd"
      },
      "execution_count": null,
      "outputs": [
        {
          "output_type": "stream",
          "name": "stdout",
          "text": [
            "New Delhi\n",
            "Lucknow\n",
            "Bhopal\n",
            "Bengaluru\n",
            "Hyderabad\n"
          ]
        }
      ]
    },
    {
      "cell_type": "markdown",
      "source": [
        "Exercise 8:\n",
        "\n",
        "* Initialize an empty dictionary ‘sen_map’\n",
        "* Make the sentences all lower case\n",
        "* Iterate over each word in the sentences\n",
        "* Check if a word exists in the sen_map\n",
        "* If not then add the word with a value of 1\n",
        "* Otherwise, update the value of that word by 1"
      ],
      "metadata": {
        "id": "qvVSS8PSjDBT"
      }
    },
    {
      "cell_type": "code",
      "source": [
        "sents = \"I love my country. I strive to make my country proud of me.\""
      ],
      "metadata": {
        "id": "NRHRUlggk4vs"
      },
      "execution_count": null,
      "outputs": []
    },
    {
      "cell_type": "code",
      "source": [
        "sen_map = {}  \n",
        "sents = sents.lower() \n",
        "for i in sents.split(): \n",
        "    if i not in sen_map:   \n",
        "        sen_map[i] = 1  \n",
        "    sen_map[i] += 1  \n",
        "sen_map"
      ],
      "metadata": {
        "colab": {
          "base_uri": "https://localhost:8080/"
        },
        "id": "54llyHu8jNHC",
        "outputId": "e6231b5d-9d8c-4ffa-c98a-ca6b18ced852"
      },
      "execution_count": null,
      "outputs": [
        {
          "output_type": "execute_result",
          "data": {
            "text/plain": [
              "{'country': 2,\n",
              " 'country.': 2,\n",
              " 'i': 3,\n",
              " 'love': 2,\n",
              " 'make': 2,\n",
              " 'me.': 2,\n",
              " 'my': 3,\n",
              " 'of': 2,\n",
              " 'proud': 2,\n",
              " 'strive': 2,\n",
              " 'to': 2}"
            ]
          },
          "metadata": {},
          "execution_count": 39
        }
      ]
    },
    {
      "cell_type": "markdown",
      "source": [
        "## Sets"
      ],
      "metadata": {
        "id": "bfks0n00NpPY"
      }
    },
    {
      "cell_type": "markdown",
      "source": [
        "A set is a collection of objects with the following characteristic features:\n",
        "* Sets are unordered\n",
        "* Sets contain distinct elements\n",
        "* The elements in a set must be immutable\n",
        "\n",
        "Since sets are unordered, we cannot perform operations like indexing and slicing on sets. We cannot have mutable objects such as lists as an element in a set. A common use case of sets is to remove duplicate elements from a collection or sequence.\n",
        "\n",
        "Click [here](https://docs.python.org/3/library/stdtypes.html#set-types-set-frozenset) to go through official documentation on `sets`."
      ],
      "metadata": {
        "id": "6eAwVrTnOb3j"
      }
    },
    {
      "cell_type": "markdown",
      "source": [
        "Exercise 9:\n",
        "\n",
        "Create a set containing all the capitals of the states used in Exercise 1."
      ],
      "metadata": {
        "id": "yUuFpXK_PLHO"
      }
    },
    {
      "cell_type": "code",
      "source": [
        "set1 = {'New Delhi', 'Lucknow', 'Bhopal', 'Bengaluru', 'Dispur', 'Gandhinagar'}"
      ],
      "metadata": {
        "id": "olv8tgvbMNrT"
      },
      "execution_count": null,
      "outputs": []
    },
    {
      "cell_type": "markdown",
      "source": [
        "Exercise 10:\n",
        "\n",
        "* Check if 'Kerala' is present in set1.\n",
        "* If 'kerala' is not present, add it to the set."
      ],
      "metadata": {
        "id": "ZkoxkaoyaSLa"
      }
    },
    {
      "cell_type": "code",
      "source": [
        "print('kerala' in set1)"
      ],
      "metadata": {
        "colab": {
          "base_uri": "https://localhost:8080/"
        },
        "id": "bdW2EORiaDp1",
        "outputId": "f932c6e8-07fd-4054-85bc-a7d1996b0620"
      },
      "execution_count": null,
      "outputs": [
        {
          "output_type": "stream",
          "name": "stdout",
          "text": [
            "False\n"
          ]
        }
      ]
    },
    {
      "cell_type": "code",
      "source": [
        "set1.add('kerala')"
      ],
      "metadata": {
        "id": "3MDv3N2laQbU"
      },
      "execution_count": null,
      "outputs": []
    },
    {
      "cell_type": "code",
      "source": [
        "set1"
      ],
      "metadata": {
        "colab": {
          "base_uri": "https://localhost:8080/"
        },
        "id": "t_KymErkaroi",
        "outputId": "478fcaf5-6f3a-453b-ca3d-d32dd285c184"
      },
      "execution_count": null,
      "outputs": [
        {
          "output_type": "execute_result",
          "data": {
            "text/plain": [
              "{'Bengaluru',\n",
              " 'Bhopal',\n",
              " 'Dispur',\n",
              " 'Gandhinagar',\n",
              " 'Lucknow',\n",
              " 'New Delhi',\n",
              " 'kerala'}"
            ]
          },
          "metadata": {},
          "execution_count": 29
        }
      ]
    },
    {
      "cell_type": "markdown",
      "source": [
        "Exercise 11:\n",
        "\n",
        "Given two sets A and B (below), find \n",
        "\n",
        "* elements that are in one set but not in the other. \n",
        "* elements that are in both sets. "
      ],
      "metadata": {
        "id": "PCvYqEm5q-Ri"
      }
    },
    {
      "cell_type": "code",
      "source": [
        "A = {1, 2, 3, 4, 5}\n",
        "B = {3, 4, 5, 6, 7, 8}"
      ],
      "metadata": {
        "id": "STGkf-_mazmN"
      },
      "execution_count": null,
      "outputs": []
    },
    {
      "cell_type": "code",
      "source": [
        "A.difference(B)\n"
      ],
      "metadata": {
        "colab": {
          "base_uri": "https://localhost:8080/"
        },
        "id": "Hkjk8REgrZQO",
        "outputId": "b9f02287-7f96-4f4b-9180-62012dd6a99d"
      },
      "execution_count": null,
      "outputs": [
        {
          "output_type": "execute_result",
          "data": {
            "text/plain": [
              "{1, 2}"
            ]
          },
          "metadata": {},
          "execution_count": 43
        }
      ]
    },
    {
      "cell_type": "code",
      "source": [
        "B.difference(A)"
      ],
      "metadata": {
        "colab": {
          "base_uri": "https://localhost:8080/"
        },
        "id": "TYGxFNgYrbf3",
        "outputId": "153091c3-e7d7-4372-f32f-0cb5ec076fe7"
      },
      "execution_count": null,
      "outputs": [
        {
          "output_type": "execute_result",
          "data": {
            "text/plain": [
              "{6, 7, 8}"
            ]
          },
          "metadata": {},
          "execution_count": 44
        }
      ]
    },
    {
      "cell_type": "code",
      "source": [
        "A.intersection(B)"
      ],
      "metadata": {
        "colab": {
          "base_uri": "https://localhost:8080/"
        },
        "id": "BRvzAPDNre24",
        "outputId": "f5bf7328-87e0-4978-c7cc-70ed3a22732f"
      },
      "execution_count": null,
      "outputs": [
        {
          "output_type": "execute_result",
          "data": {
            "text/plain": [
              "{3, 4, 5}"
            ]
          },
          "metadata": {},
          "execution_count": 45
        }
      ]
    }
  ]
}