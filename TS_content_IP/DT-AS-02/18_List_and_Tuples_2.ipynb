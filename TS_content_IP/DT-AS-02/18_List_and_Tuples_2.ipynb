{
 "cells": [
  {
   "cell_type": "markdown",
   "metadata": {
    "id": "QOvmrZ6Ls9xR"
   },
   "source": [
    "## Practice Notebook"
   ]
  },
  {
   "cell_type": "markdown",
   "metadata": {
    "id": "unE02pyfNqjB"
   },
   "source": [
    "## **List**"
   ]
  },
  {
   "cell_type": "markdown",
   "metadata": {
    "id": "Yb176jZtoDcw"
   },
   "source": [
    "### Exercise 01:  Print the squares of the numbers in the given list\n"
   ]
  },
  {
   "cell_type": "code",
   "execution_count": null,
   "metadata": {
    "id": "RmF-bSAeodE1"
   },
   "outputs": [],
   "source": [
    "list1 = [6, 7, 8]"
   ]
  },
  {
   "cell_type": "code",
   "execution_count": null,
   "metadata": {
    "id": "Yby-vDcnU6c0"
   },
   "outputs": [],
   "source": [
    "## YOUR CODE HERE\n",
    "for val in list1:\n",
    "    print(val*val)"
   ]
  },
  {
   "cell_type": "markdown",
   "metadata": {
    "id": "8r9FNtdat2HQ"
   },
   "source": [
    "Expected output : \n",
    "<br/>36<br/>49<br/>64"
   ]
  },
  {
   "cell_type": "markdown",
   "metadata": {
    "id": "fK5Gc4KDmc9R"
   },
   "source": [
    "### Exercise 02: For the given list print only the positive elements\n"
   ]
  },
  {
   "cell_type": "code",
   "execution_count": null,
   "metadata": {
    "id": "22x5RBNPnoWT"
   },
   "outputs": [],
   "source": [
    "list2 = [-1, 2, -3, 4, -5, 6, -7] "
   ]
  },
  {
   "cell_type": "code",
   "execution_count": null,
   "metadata": {
    "id": "xkQNB4UgUzhg"
   },
   "outputs": [],
   "source": [
    "## YOUR CODE HERE\n",
    "for value in list2:\n",
    "    if value > 0:\n",
    "       print(value) "
   ]
  },
  {
   "cell_type": "markdown",
   "metadata": {
    "id": "t9p9rezPsvUT"
   },
   "source": [
    "Expected output:\n",
    "\n",
    "2<br/>4<br/>6<br/>"
   ]
  },
  {
   "cell_type": "markdown",
   "metadata": {
    "id": "gHYltWQUhPna"
   },
   "source": [
    "### Exercise 03: For the given list print numbers which are multiples of 5\n"
   ]
  },
  {
   "cell_type": "code",
   "execution_count": null,
   "metadata": {
    "id": "SGr5LgIshFZy"
   },
   "outputs": [],
   "source": [
    "list3 = [10, 12, 20, 22, 30, 32, 40]"
   ]
  },
  {
   "cell_type": "code",
   "execution_count": null,
   "metadata": {
    "id": "XD3dwZ05ieKe"
   },
   "outputs": [],
   "source": [
    "## YOUR CODE HERE\n",
    "for value in list3:\n",
    "    if value % 5 == 0:\n",
    "        print(value)"
   ]
  },
  {
   "cell_type": "markdown",
   "metadata": {
    "id": "o2kl4zueib5W"
   },
   "source": [
    "Expected output :\n",
    "\n",
    "10<br/>20<br/>30<br/>40"
   ]
  },
  {
   "cell_type": "markdown",
   "metadata": {
    "id": "O-TSshJ0in-w"
   },
   "source": [
    "### Exercise 04: For the given list print if it is one digit or a two-digit number\n"
   ]
  },
  {
   "cell_type": "code",
   "execution_count": null,
   "metadata": {
    "id": "xbz7w5_JiyQ7"
   },
   "outputs": [],
   "source": [
    "list4 = [5, 15, 20, 4573, 45, 211, 456]"
   ]
  },
  {
   "cell_type": "markdown",
   "metadata": {
    "id": "cu0absuFT8A9"
   },
   "source": [
    "* total no. of digits in each number "
   ]
  },
  {
   "cell_type": "code",
   "execution_count": null,
   "metadata": {
    "id": "7Zn43VtyT6H9"
   },
   "outputs": [],
   "source": [
    "len(str(digit)) => 1"
   ]
  },
  {
   "cell_type": "code",
   "execution_count": null,
   "metadata": {
    "id": "9M9R2SkHi_se"
   },
   "outputs": [],
   "source": [
    "## YOUR CODE HERE\n",
    "for digit in list4:\n",
    "    if len(str(digit)) == 1:\n",
    "        print(f\"{digit} is a one digit number\")\n",
    "    elif len(str(digit)) == 2:\n",
    "        print(f\"{digit} is a two digit number\")"
   ]
  },
  {
   "cell_type": "markdown",
   "metadata": {
    "id": "GhGPTVj2OEzQ"
   },
   "source": [
    "Expected output : \n",
    "\n",
    "5 is a one digit number <br/>\n",
    "15 is a two digit number<br/>\n",
    "20 is a two digit number<br/>"
   ]
  },
  {
   "cell_type": "markdown",
   "metadata": {
    "id": "PNYSRslfWHiz"
   },
   "source": [
    "### Exercise 05: For the given String find the following\n",
    "1. split the string into a list of words and print them\n",
    "2. print the length of the list\n",
    "\n"
   ]
  },
  {
   "cell_type": "code",
   "execution_count": null,
   "metadata": {
    "id": "llflzhIwV2aO"
   },
   "outputs": [],
   "source": [
    "string1 = \"The quick brown fox jumps over the lazy dog\""
   ]
  },
  {
   "cell_type": "code",
   "execution_count": null,
   "metadata": {
    "id": "pvn560ITz2Wm"
   },
   "outputs": [],
   "source": [
    "print(string1.split(\" \"))"
   ]
  },
  {
   "cell_type": "code",
   "execution_count": null,
   "metadata": {
    "id": "0bJdUl4LkonY"
   },
   "outputs": [],
   "source": [
    "## YOUR CODE HERE\n",
    "print(string1.split(\" \"))\n",
    "print(len(string1.split(\" \")))"
   ]
  },
  {
   "cell_type": "markdown",
   "metadata": {
    "id": "r84p08M8kt4i"
   },
   "source": [
    " Expected output :\n",
    " <br/>['The', 'quick', 'brown', 'fox', 'jumps', 'over', 'the', 'lazy', 'dog']\n",
    " <br/>9"
   ]
  },
  {
   "cell_type": "markdown",
   "metadata": {
    "id": "HukyFmpkXym7"
   },
   "source": [
    "### Exercise 06: For the given List find the following\n",
    "1. list items from 2nd to 3rd\n",
    "2. list items from beginning to 3rd\n",
    "3. list items from 4th to the end of the list\n",
    "\n"
   ]
  },
  {
   "cell_type": "code",
   "execution_count": null,
   "metadata": {
    "id": "mJ4IMYxMksME"
   },
   "outputs": [],
   "source": [
    "list5 = [1, 2, 3, 4, 5, 6, 7]"
   ]
  },
  {
   "cell_type": "markdown",
   "metadata": {
    "id": "syBgMk_flXjH"
   },
   "source": [
    "Expected Output :\n",
    "<br/>[2, 3]\n",
    "<br/>[1, 2, 3]\n",
    "<br/>[4, 5, 6, 7]"
   ]
  },
  {
   "cell_type": "code",
   "execution_count": null,
   "metadata": {
    "id": "CN9lcIlHldSi"
   },
   "outputs": [],
   "source": [
    "#YOUR CODE HERE\n",
    "print(list5[1:3])\n",
    "print(list5[:3])\n",
    "print(list5[3:])"
   ]
  },
  {
   "cell_type": "markdown",
   "metadata": {
    "id": "-gdTA77ppQsc"
   },
   "source": [
    "### Exercise 07: For the given list print numbers which are greater than or equal to 10"
   ]
  },
  {
   "cell_type": "code",
   "execution_count": null,
   "metadata": {
    "id": "zXKtUzHgltU7"
   },
   "outputs": [],
   "source": [
    "list6 = [0, 1, 2, 3, 10, 11, 12, 13]"
   ]
  },
  {
   "cell_type": "code",
   "execution_count": null,
   "metadata": {
    "id": "9PGBPra_ptnL"
   },
   "outputs": [],
   "source": [
    "# YOUR CODE HERE\n",
    "for value in list6:\n",
    "    if value >= 10:\n",
    "        print(value, end=' ')"
   ]
  },
  {
   "cell_type": "markdown",
   "metadata": {
    "id": "2WRmnb4ruIsh"
   },
   "source": [
    "Expected Output :\n",
    "<br/>10<br/>11<br/>12<br/>13"
   ]
  },
  {
   "cell_type": "markdown",
   "metadata": {
    "id": "lOqIw42bb_IR"
   },
   "source": [
    "### Exercise 08: For the given list print words which contain vowels"
   ]
  },
  {
   "cell_type": "code",
   "execution_count": null,
   "metadata": {
    "id": "ioHLtlbGuTvP"
   },
   "outputs": [],
   "source": [
    "list7 = ['gym', 'cry', 'apple', 'sky', 'rhythm', 'banana']"
   ]
  },
  {
   "cell_type": "code",
   "execution_count": null,
   "metadata": {
    "id": "9uGEafCyYPku"
   },
   "outputs": [],
   "source": [
    "any(char in ['a', 'e', 'i', 'o', 'u'] for char in 'gym')"
   ]
  },
  {
   "cell_type": "code",
   "execution_count": null,
   "metadata": {
    "id": "k0Dd92moc11w"
   },
   "outputs": [],
   "source": [
    "# YOUR CODE HERE\n",
    "for word in list7:\n",
    "    if any(char in ['a', 'e', 'i', 'o', 'u'] for char in word):\n",
    "        print(word)"
   ]
  },
  {
   "cell_type": "markdown",
   "metadata": {
    "id": "kpsPqoqedcBw"
   },
   "source": [
    "Expected Output :\n",
    "<br/>apple<br/>banana"
   ]
  },
  {
   "cell_type": "markdown",
   "metadata": {
    "id": "YGxzJUs8szn-"
   },
   "source": [
    "### Exercise 09: For the given list of rectangle parameters, print the perimeters of the two rectangles"
   ]
  },
  {
   "cell_type": "code",
   "execution_count": null,
   "metadata": {
    "id": "xENcAU69buDK"
   },
   "outputs": [],
   "source": [
    "l, w = [6, 7]\n",
    "w"
   ]
  },
  {
   "cell_type": "code",
   "execution_count": null,
   "metadata": {
    "id": "Gd7SwVyFszoI"
   },
   "outputs": [],
   "source": [
    "list8 = [[6,7], [20,10]] ### [[length, width], [length, width]]\n",
    "\n",
    "for length, width in list8:\n",
    "    print(2 * (length + width))"
   ]
  },
  {
   "cell_type": "markdown",
   "metadata": {
    "id": "fVmPLjnZszoh"
   },
   "source": [
    "Expected Output :\n",
    "<br/>26<br/>\n",
    "60"
   ]
  },
  {
   "cell_type": "markdown",
   "metadata": {
    "id": "cL7Fl1JIs0mT"
   },
   "source": [
    "### Exercise 10: For the given list of numbers print the smallest number"
   ]
  },
  {
   "cell_type": "code",
   "execution_count": null,
   "metadata": {
    "id": "3vQRp9I7s0mV"
   },
   "outputs": [],
   "source": [
    "list9 = [34, 15, 2]"
   ]
  },
  {
   "cell_type": "code",
   "execution_count": null,
   "metadata": {
    "id": "pXpD1Y-hs0mu"
   },
   "outputs": [],
   "source": [
    "# YOUR CODE HERE\n",
    "print(min(list9))"
   ]
  },
  {
   "cell_type": "markdown",
   "metadata": {
    "id": "nFt-76-ss0m4"
   },
   "source": [
    "Expected Output : 2"
   ]
  },
  {
   "cell_type": "code",
   "execution_count": null,
   "metadata": {
    "id": "osmBXYpt3J6M"
   },
   "outputs": [],
   "source": []
  }
 ],
 "metadata": {
  "colab": {
   "collapsed_sections": [],
   "name": "SNB_List_and_Tuples_2.ipynb",
   "private_outputs": true,
   "provenance": []
  },
  "kernelspec": {
   "display_name": "Python 3 (ipykernel)",
   "language": "python",
   "name": "python3"
  },
  "language_info": {
   "codemirror_mode": {
    "name": "ipython",
    "version": 3
   },
   "file_extension": ".py",
   "mimetype": "text/x-python",
   "name": "python",
   "nbconvert_exporter": "python",
   "pygments_lexer": "ipython3",
   "version": "3.9.7"
  }
 },
 "nbformat": 4,
 "nbformat_minor": 1
}
